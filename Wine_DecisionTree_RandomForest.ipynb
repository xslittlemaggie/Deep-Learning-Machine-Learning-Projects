{
  "nbformat": 4,
  "nbformat_minor": 0,
  "metadata": {
    "colab": {
      "name": "Decision Tree from scratch to complete & Limitations.ipynb",
      "version": "0.3.2",
      "provenance": [],
      "include_colab_link": true
    },
    "kernelspec": {
      "name": "python3",
      "display_name": "Python 3"
    }
  },
  "cells": [
    {
      "cell_type": "markdown",
      "metadata": {
        "id": "view-in-github",
        "colab_type": "text"
      },
      "source": [
        "<a href=\"https://colab.research.google.com/github/xslittlemaggie/Deep-Learning-Machine-Learning-Projects/blob/master/Wine_DecisionTree_RandomForest.ipynb\" target=\"_parent\"><img src=\"https://colab.research.google.com/assets/colab-badge.svg\" alt=\"Open In Colab\"/></a>"
      ]
    },
    {
      "cell_type": "markdown",
      "metadata": {
        "id": "N8Mw5oMHk3xd",
        "colab_type": "text"
      },
      "source": [
        "<h1><center> Wine with Decision Tree & Random Forest  </center></h1>\n",
        "\n",
        "The purpose of this project is to practice the ML techniques of **Decision Tree** & **Random Forest** with the sklearn built-in dataset **wine**, and compare the similarities and differences between  **Decision Tree** & **Random Forest**."
      ]
    },
    {
      "cell_type": "markdown",
      "metadata": {
        "id": "Y_Ei21woLs3U",
        "colab_type": "text"
      },
      "source": [
        "<h1>Table of contents</h1>\n",
        "\n",
        "<div class=\"alert alert-block alert-info\" style=\"margin-top: 24px\">\n",
        "    <ol>\n",
        "        <li><a href=\"#Part Two\">Part One: Decision Tree from sklearn</a></li>\n",
        "      <li><a href=\"#Part Three\">Part Two: Random Forest from sklearn</a></li>\n",
        "    </ol>\n",
        "</div>\n",
        "<br>\n",
        "<hr>"
      ]
    },
    {
      "cell_type": "markdown",
      "metadata": {
        "id": "-NwhCf_f7Z0y",
        "colab_type": "text"
      },
      "source": [
        "# Part One: Decision Tree"
      ]
    },
    {
      "cell_type": "markdown",
      "metadata": {
        "id": "nkrnOx6iUbJg",
        "colab_type": "text"
      },
      "source": [
        "## 0: Import Libraries"
      ]
    },
    {
      "cell_type": "code",
      "metadata": {
        "id": "mFtu2i227dLi",
        "colab_type": "code",
        "colab": {}
      },
      "source": [
        "import matplotlib.pyplot as plt\n",
        "import pandas as pd\n",
        "from sklearn.datasets import load_wine\n",
        "\n",
        "from sklearn.tree import DecisionTreeClassifier, export_graphviz\n",
        "from sklearn.model_selection import train_test_split\n",
        "from sklearn.preprocessing import LabelEncoder"
      ],
      "execution_count": 0,
      "outputs": []
    },
    {
      "cell_type": "markdown",
      "metadata": {
        "id": "X0PJi64q8JL0",
        "colab_type": "text"
      },
      "source": [
        "### 1. upload the wine dataset"
      ]
    },
    {
      "cell_type": "code",
      "metadata": {
        "id": "lM84mtX0UmFV",
        "colab_type": "code",
        "colab": {}
      },
      "source": [
        "wine = load_wine()"
      ],
      "execution_count": 0,
      "outputs": []
    },
    {
      "cell_type": "code",
      "metadata": {
        "id": "4L0oyud5UpCL",
        "colab_type": "code",
        "colab": {}
      },
      "source": [
        "X = wine.data\n",
        "y = wine.target\n",
        "feature_names = wine.feature_names\n",
        "target_names = wine.target_names"
      ],
      "execution_count": 0,
      "outputs": []
    },
    {
      "cell_type": "code",
      "metadata": {
        "id": "4gS3t_8pYZAw",
        "colab_type": "code",
        "colab": {
          "base_uri": "https://localhost:8080/",
          "height": 198
        },
        "outputId": "e827a588-37a2-41d2-c9c3-a0e97e6829cd"
      },
      "source": [
        "wine_df = pd.concat([pd.DataFrame(X), pd.DataFrame(y)], axis = 1)\n",
        "wine_df.head()"
      ],
      "execution_count": 84,
      "outputs": [
        {
          "output_type": "execute_result",
          "data": {
            "text/html": [
              "<div>\n",
              "<style scoped>\n",
              "    .dataframe tbody tr th:only-of-type {\n",
              "        vertical-align: middle;\n",
              "    }\n",
              "\n",
              "    .dataframe tbody tr th {\n",
              "        vertical-align: top;\n",
              "    }\n",
              "\n",
              "    .dataframe thead th {\n",
              "        text-align: right;\n",
              "    }\n",
              "</style>\n",
              "<table border=\"1\" class=\"dataframe\">\n",
              "  <thead>\n",
              "    <tr style=\"text-align: right;\">\n",
              "      <th></th>\n",
              "      <th>0</th>\n",
              "      <th>1</th>\n",
              "      <th>2</th>\n",
              "      <th>3</th>\n",
              "      <th>4</th>\n",
              "      <th>5</th>\n",
              "      <th>6</th>\n",
              "      <th>7</th>\n",
              "      <th>8</th>\n",
              "      <th>9</th>\n",
              "      <th>10</th>\n",
              "      <th>11</th>\n",
              "      <th>12</th>\n",
              "      <th>0</th>\n",
              "    </tr>\n",
              "  </thead>\n",
              "  <tbody>\n",
              "    <tr>\n",
              "      <th>0</th>\n",
              "      <td>14.23</td>\n",
              "      <td>1.71</td>\n",
              "      <td>2.43</td>\n",
              "      <td>15.6</td>\n",
              "      <td>127.0</td>\n",
              "      <td>2.80</td>\n",
              "      <td>3.06</td>\n",
              "      <td>0.28</td>\n",
              "      <td>2.29</td>\n",
              "      <td>5.64</td>\n",
              "      <td>1.04</td>\n",
              "      <td>3.92</td>\n",
              "      <td>1065.0</td>\n",
              "      <td>0</td>\n",
              "    </tr>\n",
              "    <tr>\n",
              "      <th>1</th>\n",
              "      <td>13.20</td>\n",
              "      <td>1.78</td>\n",
              "      <td>2.14</td>\n",
              "      <td>11.2</td>\n",
              "      <td>100.0</td>\n",
              "      <td>2.65</td>\n",
              "      <td>2.76</td>\n",
              "      <td>0.26</td>\n",
              "      <td>1.28</td>\n",
              "      <td>4.38</td>\n",
              "      <td>1.05</td>\n",
              "      <td>3.40</td>\n",
              "      <td>1050.0</td>\n",
              "      <td>0</td>\n",
              "    </tr>\n",
              "    <tr>\n",
              "      <th>2</th>\n",
              "      <td>13.16</td>\n",
              "      <td>2.36</td>\n",
              "      <td>2.67</td>\n",
              "      <td>18.6</td>\n",
              "      <td>101.0</td>\n",
              "      <td>2.80</td>\n",
              "      <td>3.24</td>\n",
              "      <td>0.30</td>\n",
              "      <td>2.81</td>\n",
              "      <td>5.68</td>\n",
              "      <td>1.03</td>\n",
              "      <td>3.17</td>\n",
              "      <td>1185.0</td>\n",
              "      <td>0</td>\n",
              "    </tr>\n",
              "    <tr>\n",
              "      <th>3</th>\n",
              "      <td>14.37</td>\n",
              "      <td>1.95</td>\n",
              "      <td>2.50</td>\n",
              "      <td>16.8</td>\n",
              "      <td>113.0</td>\n",
              "      <td>3.85</td>\n",
              "      <td>3.49</td>\n",
              "      <td>0.24</td>\n",
              "      <td>2.18</td>\n",
              "      <td>7.80</td>\n",
              "      <td>0.86</td>\n",
              "      <td>3.45</td>\n",
              "      <td>1480.0</td>\n",
              "      <td>0</td>\n",
              "    </tr>\n",
              "    <tr>\n",
              "      <th>4</th>\n",
              "      <td>13.24</td>\n",
              "      <td>2.59</td>\n",
              "      <td>2.87</td>\n",
              "      <td>21.0</td>\n",
              "      <td>118.0</td>\n",
              "      <td>2.80</td>\n",
              "      <td>2.69</td>\n",
              "      <td>0.39</td>\n",
              "      <td>1.82</td>\n",
              "      <td>4.32</td>\n",
              "      <td>1.04</td>\n",
              "      <td>2.93</td>\n",
              "      <td>735.0</td>\n",
              "      <td>0</td>\n",
              "    </tr>\n",
              "  </tbody>\n",
              "</table>\n",
              "</div>"
            ],
            "text/plain": [
              "      0     1     2     3      4     5   ...    8     9     10    11      12  0 \n",
              "0  14.23  1.71  2.43  15.6  127.0  2.80  ...  2.29  5.64  1.04  3.92  1065.0   0\n",
              "1  13.20  1.78  2.14  11.2  100.0  2.65  ...  1.28  4.38  1.05  3.40  1050.0   0\n",
              "2  13.16  2.36  2.67  18.6  101.0  2.80  ...  2.81  5.68  1.03  3.17  1185.0   0\n",
              "3  14.37  1.95  2.50  16.8  113.0  3.85  ...  2.18  7.80  0.86  3.45  1480.0   0\n",
              "4  13.24  2.59  2.87  21.0  118.0  2.80  ...  1.82  4.32  1.04  2.93   735.0   0\n",
              "\n",
              "[5 rows x 14 columns]"
            ]
          },
          "metadata": {
            "tags": []
          },
          "execution_count": 84
        }
      ]
    },
    {
      "cell_type": "markdown",
      "metadata": {
        "id": "awlEdwFj9GCR",
        "colab_type": "text"
      },
      "source": [
        "### 2. Split the data into training, testing datasets"
      ]
    },
    {
      "cell_type": "code",
      "metadata": {
        "id": "GmWAQWrI9LE6",
        "colab_type": "code",
        "colab": {}
      },
      "source": [
        "x_train, x_test, y_train, y_test = train_test_split(X, y, test_size = 0.3, random_state = 1)  # choose 20% of the data as validation dataset"
      ],
      "execution_count": 0,
      "outputs": []
    },
    {
      "cell_type": "markdown",
      "metadata": {
        "id": "j3xaYisj-U6D",
        "colab_type": "text"
      },
      "source": [
        "### 3. Create and train the Decision Tree model"
      ]
    },
    {
      "cell_type": "code",
      "metadata": {
        "id": "gNx6ER888MZw",
        "colab_type": "code",
        "outputId": "880c9c6b-affe-4289-95d7-dbbf64cf4f02",
        "colab": {
          "base_uri": "https://localhost:8080/",
          "height": 35
        }
      },
      "source": [
        "# create the model\n",
        "clf = DecisionTreeClassifier(criterion = \"entropy\", random_state = 0)\n",
        "clf.fit(x_train, y_train)\n",
        "score = clf.score(x_test, y_test)\n",
        "score"
      ],
      "execution_count": 86,
      "outputs": [
        {
          "output_type": "execute_result",
          "data": {
            "text/plain": [
              "0.9629629629629629"
            ]
          },
          "metadata": {
            "tags": []
          },
          "execution_count": 86
        }
      ]
    },
    {
      "cell_type": "markdown",
      "metadata": {
        "id": "kDDz_EPsWqjt",
        "colab_type": "text"
      },
      "source": [
        "### 4. Decision Tree Visualization"
      ]
    },
    {
      "cell_type": "code",
      "metadata": {
        "id": "iQtjGVEIYA1E",
        "colab_type": "code",
        "colab": {}
      },
      "source": [
        "#!pip install graphviz"
      ],
      "execution_count": 0,
      "outputs": []
    },
    {
      "cell_type": "code",
      "metadata": {
        "id": "_tfDJBZjYIbN",
        "colab_type": "code",
        "colab": {
          "base_uri": "https://localhost:8080/",
          "height": 757
        },
        "outputId": "00f9a8fc-d896-44a4-f5ea-3a5ee1f017df"
      },
      "source": [
        "#feature_name = [\"酒精\", \"苹果酸\", \"灰\", \"灰的碱性\", \"镁\", \"总酚\", \"类黄酮\", \"非黄烷类酚类\", \"花青素\", \"颜色强度\", \"色调\", \"od280/od315稀释葡萄酒\", \"脯氨酸\"]\n",
        "import graphviz\n",
        "\n",
        "dot_data = export_graphviz(clf\n",
        "                           ,feature_names = feature_names\n",
        "                          ,class_names = [\"琴酒\", \"雪莉\", \"贝尔摩德\"] # target_names\n",
        "                          ,filled = True\n",
        "                          ,rounded = True\n",
        "                          )\n",
        "graph = graphviz.Source(dot_data)\n",
        "graph"
      ],
      "execution_count": 88,
      "outputs": [
        {
          "output_type": "execute_result",
          "data": {
            "text/plain": [
              "<graphviz.files.Source at 0x7fa773ab20b8>"
            ],
            "image/svg+xml": "<?xml version=\"1.0\" encoding=\"UTF-8\" standalone=\"no\"?>\n<!DOCTYPE svg PUBLIC \"-//W3C//DTD SVG 1.1//EN\"\n \"http://www.w3.org/Graphics/SVG/1.1/DTD/svg11.dtd\">\n<!-- Generated by graphviz version 2.40.1 (20161225.0304)\n -->\n<!-- Title: Tree Pages: 1 -->\n<svg width=\"875pt\" height=\"552pt\"\n viewBox=\"0.00 0.00 875.00 552.00\" xmlns=\"http://www.w3.org/2000/svg\" xmlns:xlink=\"http://www.w3.org/1999/xlink\">\n<g id=\"graph0\" class=\"graph\" transform=\"scale(1 1) rotate(0) translate(4 548)\">\n<title>Tree</title>\n<polygon fill=\"#ffffff\" stroke=\"transparent\" points=\"-4,4 -4,-548 871,-548 871,4 -4,4\"/>\n<!-- 0 -->\n<g id=\"node1\" class=\"node\">\n<title>0</title>\n<path fill=\"#dbfae8\" stroke=\"#000000\" d=\"M379,-544C379,-544 260,-544 260,-544 254,-544 248,-538 248,-532 248,-532 248,-473 248,-473 248,-467 254,-461 260,-461 260,-461 379,-461 379,-461 385,-461 391,-467 391,-473 391,-473 391,-532 391,-532 391,-538 385,-544 379,-544\"/>\n<text text-anchor=\"middle\" x=\"319.5\" y=\"-528.8\" font-family=\"Helvetica,sans-Serif\" font-size=\"14.00\" fill=\"#000000\">flavanoids &lt;= 1.575</text>\n<text text-anchor=\"middle\" x=\"319.5\" y=\"-513.8\" font-family=\"Helvetica,sans-Serif\" font-size=\"14.00\" fill=\"#000000\">entropy = 1.562</text>\n<text text-anchor=\"middle\" x=\"319.5\" y=\"-498.8\" font-family=\"Helvetica,sans-Serif\" font-size=\"14.00\" fill=\"#000000\">samples = 124</text>\n<text text-anchor=\"middle\" x=\"319.5\" y=\"-483.8\" font-family=\"Helvetica,sans-Serif\" font-size=\"14.00\" fill=\"#000000\">value = [36, 52, 36]</text>\n<text text-anchor=\"middle\" x=\"319.5\" y=\"-468.8\" font-family=\"Helvetica,sans-Serif\" font-size=\"14.00\" fill=\"#000000\">class = 雪莉</text>\n</g>\n<!-- 1 -->\n<g id=\"node2\" class=\"node\">\n<title>1</title>\n<path fill=\"#a876ed\" stroke=\"#000000\" d=\"M306.5,-425C306.5,-425 160.5,-425 160.5,-425 154.5,-425 148.5,-419 148.5,-413 148.5,-413 148.5,-354 148.5,-354 148.5,-348 154.5,-342 160.5,-342 160.5,-342 306.5,-342 306.5,-342 312.5,-342 318.5,-348 318.5,-354 318.5,-354 318.5,-413 318.5,-413 318.5,-419 312.5,-425 306.5,-425\"/>\n<text text-anchor=\"middle\" x=\"233.5\" y=\"-409.8\" font-family=\"Helvetica,sans-Serif\" font-size=\"14.00\" fill=\"#000000\">color_intensity &lt;= 3.825</text>\n<text text-anchor=\"middle\" x=\"233.5\" y=\"-394.8\" font-family=\"Helvetica,sans-Serif\" font-size=\"14.00\" fill=\"#000000\">entropy = 0.785</text>\n<text text-anchor=\"middle\" x=\"233.5\" y=\"-379.8\" font-family=\"Helvetica,sans-Serif\" font-size=\"14.00\" fill=\"#000000\">samples = 47</text>\n<text text-anchor=\"middle\" x=\"233.5\" y=\"-364.8\" font-family=\"Helvetica,sans-Serif\" font-size=\"14.00\" fill=\"#000000\">value = [0, 11, 36]</text>\n<text text-anchor=\"middle\" x=\"233.5\" y=\"-349.8\" font-family=\"Helvetica,sans-Serif\" font-size=\"14.00\" fill=\"#000000\">class = 贝尔摩德</text>\n</g>\n<!-- 0&#45;&gt;1 -->\n<g id=\"edge1\" class=\"edge\">\n<title>0&#45;&gt;1</title>\n<path fill=\"none\" stroke=\"#000000\" d=\"M289.4214,-460.8796C283.0428,-452.0534 276.246,-442.6485 269.6681,-433.5466\"/>\n<polygon fill=\"#000000\" stroke=\"#000000\" points=\"272.4012,-431.353 263.707,-425.2981 266.7277,-435.4532 272.4012,-431.353\"/>\n<text text-anchor=\"middle\" x=\"259.7338\" y=\"-446.2803\" font-family=\"Helvetica,sans-Serif\" font-size=\"14.00\" fill=\"#000000\">True</text>\n</g>\n<!-- 6 -->\n<g id=\"node7\" class=\"node\">\n<title>6</title>\n<path fill=\"#e7fcf0\" stroke=\"#000000\" d=\"M518,-425C518,-425 411,-425 411,-425 405,-425 399,-419 399,-413 399,-413 399,-354 399,-354 399,-348 405,-342 411,-342 411,-342 518,-342 518,-342 524,-342 530,-348 530,-354 530,-354 530,-413 530,-413 530,-419 524,-425 518,-425\"/>\n<text text-anchor=\"middle\" x=\"464.5\" y=\"-409.8\" font-family=\"Helvetica,sans-Serif\" font-size=\"14.00\" fill=\"#000000\">proline &lt;= 740.0</text>\n<text text-anchor=\"middle\" x=\"464.5\" y=\"-394.8\" font-family=\"Helvetica,sans-Serif\" font-size=\"14.00\" fill=\"#000000\">entropy = 0.997</text>\n<text text-anchor=\"middle\" x=\"464.5\" y=\"-379.8\" font-family=\"Helvetica,sans-Serif\" font-size=\"14.00\" fill=\"#000000\">samples = 77</text>\n<text text-anchor=\"middle\" x=\"464.5\" y=\"-364.8\" font-family=\"Helvetica,sans-Serif\" font-size=\"14.00\" fill=\"#000000\">value = [36, 41, 0]</text>\n<text text-anchor=\"middle\" x=\"464.5\" y=\"-349.8\" font-family=\"Helvetica,sans-Serif\" font-size=\"14.00\" fill=\"#000000\">class = 雪莉</text>\n</g>\n<!-- 0&#45;&gt;6 -->\n<g id=\"edge6\" class=\"edge\">\n<title>0&#45;&gt;6</title>\n<path fill=\"none\" stroke=\"#000000\" d=\"M370.214,-460.8796C381.627,-451.513 393.8341,-441.4948 405.5515,-431.8784\"/>\n<polygon fill=\"#000000\" stroke=\"#000000\" points=\"408.0599,-434.3476 413.5696,-425.2981 403.6191,-428.9366 408.0599,-434.3476\"/>\n<text text-anchor=\"middle\" x=\"411.1193\" y=\"-446.4777\" font-family=\"Helvetica,sans-Serif\" font-size=\"14.00\" fill=\"#000000\">False</text>\n</g>\n<!-- 2 -->\n<g id=\"node3\" class=\"node\">\n<title>2</title>\n<path fill=\"#39e581\" stroke=\"#000000\" d=\"M111,-298.5C111,-298.5 12,-298.5 12,-298.5 6,-298.5 0,-292.5 0,-286.5 0,-286.5 0,-242.5 0,-242.5 0,-236.5 6,-230.5 12,-230.5 12,-230.5 111,-230.5 111,-230.5 117,-230.5 123,-236.5 123,-242.5 123,-242.5 123,-286.5 123,-286.5 123,-292.5 117,-298.5 111,-298.5\"/>\n<text text-anchor=\"middle\" x=\"61.5\" y=\"-283.3\" font-family=\"Helvetica,sans-Serif\" font-size=\"14.00\" fill=\"#000000\">entropy = 0.0</text>\n<text text-anchor=\"middle\" x=\"61.5\" y=\"-268.3\" font-family=\"Helvetica,sans-Serif\" font-size=\"14.00\" fill=\"#000000\">samples = 10</text>\n<text text-anchor=\"middle\" x=\"61.5\" y=\"-253.3\" font-family=\"Helvetica,sans-Serif\" font-size=\"14.00\" fill=\"#000000\">value = [0, 10, 0]</text>\n<text text-anchor=\"middle\" x=\"61.5\" y=\"-238.3\" font-family=\"Helvetica,sans-Serif\" font-size=\"14.00\" fill=\"#000000\">class = 雪莉</text>\n</g>\n<!-- 1&#45;&gt;2 -->\n<g id=\"edge2\" class=\"edge\">\n<title>1&#45;&gt;2</title>\n<path fill=\"none\" stroke=\"#000000\" d=\"M173.3427,-341.8796C155.7766,-329.7263 136.6248,-316.4759 119.2136,-304.4297\"/>\n<polygon fill=\"#000000\" stroke=\"#000000\" points=\"121.0357,-301.4344 110.8207,-298.623 117.053,-307.191 121.0357,-301.4344\"/>\n</g>\n<!-- 3 -->\n<g id=\"node4\" class=\"node\">\n<title>3</title>\n<path fill=\"#843ee6\" stroke=\"#000000\" d=\"M314,-306C314,-306 153,-306 153,-306 147,-306 141,-300 141,-294 141,-294 141,-235 141,-235 141,-229 147,-223 153,-223 153,-223 314,-223 314,-223 320,-223 326,-229 326,-235 326,-235 326,-294 326,-294 326,-300 320,-306 314,-306\"/>\n<text text-anchor=\"middle\" x=\"233.5\" y=\"-290.8\" font-family=\"Helvetica,sans-Serif\" font-size=\"14.00\" fill=\"#000000\">alcalinity_of_ash &lt;= 17.15</text>\n<text text-anchor=\"middle\" x=\"233.5\" y=\"-275.8\" font-family=\"Helvetica,sans-Serif\" font-size=\"14.00\" fill=\"#000000\">entropy = 0.179</text>\n<text text-anchor=\"middle\" x=\"233.5\" y=\"-260.8\" font-family=\"Helvetica,sans-Serif\" font-size=\"14.00\" fill=\"#000000\">samples = 37</text>\n<text text-anchor=\"middle\" x=\"233.5\" y=\"-245.8\" font-family=\"Helvetica,sans-Serif\" font-size=\"14.00\" fill=\"#000000\">value = [0, 1, 36]</text>\n<text text-anchor=\"middle\" x=\"233.5\" y=\"-230.8\" font-family=\"Helvetica,sans-Serif\" font-size=\"14.00\" fill=\"#000000\">class = 贝尔摩德</text>\n</g>\n<!-- 1&#45;&gt;3 -->\n<g id=\"edge3\" class=\"edge\">\n<title>1&#45;&gt;3</title>\n<path fill=\"none\" stroke=\"#000000\" d=\"M233.5,-341.8796C233.5,-333.6838 233.5,-324.9891 233.5,-316.5013\"/>\n<polygon fill=\"#000000\" stroke=\"#000000\" points=\"237.0001,-316.298 233.5,-306.2981 230.0001,-316.2981 237.0001,-316.298\"/>\n</g>\n<!-- 4 -->\n<g id=\"node5\" class=\"node\">\n<title>4</title>\n<path fill=\"#39e581\" stroke=\"#000000\" d=\"M142,-179.5C142,-179.5 51,-179.5 51,-179.5 45,-179.5 39,-173.5 39,-167.5 39,-167.5 39,-123.5 39,-123.5 39,-117.5 45,-111.5 51,-111.5 51,-111.5 142,-111.5 142,-111.5 148,-111.5 154,-117.5 154,-123.5 154,-123.5 154,-167.5 154,-167.5 154,-173.5 148,-179.5 142,-179.5\"/>\n<text text-anchor=\"middle\" x=\"96.5\" y=\"-164.3\" font-family=\"Helvetica,sans-Serif\" font-size=\"14.00\" fill=\"#000000\">entropy = 0.0</text>\n<text text-anchor=\"middle\" x=\"96.5\" y=\"-149.3\" font-family=\"Helvetica,sans-Serif\" font-size=\"14.00\" fill=\"#000000\">samples = 1</text>\n<text text-anchor=\"middle\" x=\"96.5\" y=\"-134.3\" font-family=\"Helvetica,sans-Serif\" font-size=\"14.00\" fill=\"#000000\">value = [0, 1, 0]</text>\n<text text-anchor=\"middle\" x=\"96.5\" y=\"-119.3\" font-family=\"Helvetica,sans-Serif\" font-size=\"14.00\" fill=\"#000000\">class = 雪莉</text>\n</g>\n<!-- 3&#45;&gt;4 -->\n<g id=\"edge4\" class=\"edge\">\n<title>3&#45;&gt;4</title>\n<path fill=\"none\" stroke=\"#000000\" d=\"M185.584,-222.8796C172.0385,-211.1138 157.3092,-198.3197 143.8002,-186.5855\"/>\n<polygon fill=\"#000000\" stroke=\"#000000\" points=\"145.8503,-183.7303 136.0054,-179.8149 141.2599,-189.015 145.8503,-183.7303\"/>\n</g>\n<!-- 5 -->\n<g id=\"node6\" class=\"node\">\n<title>5</title>\n<path fill=\"#8139e5\" stroke=\"#000000\" d=\"M283,-179.5C283,-179.5 184,-179.5 184,-179.5 178,-179.5 172,-173.5 172,-167.5 172,-167.5 172,-123.5 172,-123.5 172,-117.5 178,-111.5 184,-111.5 184,-111.5 283,-111.5 283,-111.5 289,-111.5 295,-117.5 295,-123.5 295,-123.5 295,-167.5 295,-167.5 295,-173.5 289,-179.5 283,-179.5\"/>\n<text text-anchor=\"middle\" x=\"233.5\" y=\"-164.3\" font-family=\"Helvetica,sans-Serif\" font-size=\"14.00\" fill=\"#000000\">entropy = 0.0</text>\n<text text-anchor=\"middle\" x=\"233.5\" y=\"-149.3\" font-family=\"Helvetica,sans-Serif\" font-size=\"14.00\" fill=\"#000000\">samples = 36</text>\n<text text-anchor=\"middle\" x=\"233.5\" y=\"-134.3\" font-family=\"Helvetica,sans-Serif\" font-size=\"14.00\" fill=\"#000000\">value = [0, 0, 36]</text>\n<text text-anchor=\"middle\" x=\"233.5\" y=\"-119.3\" font-family=\"Helvetica,sans-Serif\" font-size=\"14.00\" fill=\"#000000\">class = 贝尔摩德</text>\n</g>\n<!-- 3&#45;&gt;5 -->\n<g id=\"edge5\" class=\"edge\">\n<title>3&#45;&gt;5</title>\n<path fill=\"none\" stroke=\"#000000\" d=\"M233.5,-222.8796C233.5,-212.2134 233.5,-200.7021 233.5,-189.9015\"/>\n<polygon fill=\"#000000\" stroke=\"#000000\" points=\"237.0001,-189.8149 233.5,-179.8149 230.0001,-189.815 237.0001,-189.8149\"/>\n</g>\n<!-- 7 -->\n<g id=\"node8\" class=\"node\">\n<title>7</title>\n<path fill=\"#3ee684\" stroke=\"#000000\" d=\"M514,-306C514,-306 415,-306 415,-306 409,-306 403,-300 403,-294 403,-294 403,-235 403,-235 403,-229 409,-223 415,-223 415,-223 514,-223 514,-223 520,-223 526,-229 526,-235 526,-235 526,-294 526,-294 526,-300 520,-306 514,-306\"/>\n<text text-anchor=\"middle\" x=\"464.5\" y=\"-290.8\" font-family=\"Helvetica,sans-Serif\" font-size=\"14.00\" fill=\"#000000\">proline &lt;= 679.0</text>\n<text text-anchor=\"middle\" x=\"464.5\" y=\"-275.8\" font-family=\"Helvetica,sans-Serif\" font-size=\"14.00\" fill=\"#000000\">entropy = 0.169</text>\n<text text-anchor=\"middle\" x=\"464.5\" y=\"-260.8\" font-family=\"Helvetica,sans-Serif\" font-size=\"14.00\" fill=\"#000000\">samples = 40</text>\n<text text-anchor=\"middle\" x=\"464.5\" y=\"-245.8\" font-family=\"Helvetica,sans-Serif\" font-size=\"14.00\" fill=\"#000000\">value = [1, 39, 0]</text>\n<text text-anchor=\"middle\" x=\"464.5\" y=\"-230.8\" font-family=\"Helvetica,sans-Serif\" font-size=\"14.00\" fill=\"#000000\">class = 雪莉</text>\n</g>\n<!-- 6&#45;&gt;7 -->\n<g id=\"edge7\" class=\"edge\">\n<title>6&#45;&gt;7</title>\n<path fill=\"none\" stroke=\"#000000\" d=\"M464.5,-341.8796C464.5,-333.6838 464.5,-324.9891 464.5,-316.5013\"/>\n<polygon fill=\"#000000\" stroke=\"#000000\" points=\"468.0001,-316.298 464.5,-306.2981 461.0001,-316.2981 468.0001,-316.298\"/>\n</g>\n<!-- 12 -->\n<g id=\"node13\" class=\"node\">\n<title>12</title>\n<path fill=\"#e68844\" stroke=\"#000000\" d=\"M718.5,-306C718.5,-306 618.5,-306 618.5,-306 612.5,-306 606.5,-300 606.5,-294 606.5,-294 606.5,-235 606.5,-235 606.5,-229 612.5,-223 618.5,-223 618.5,-223 718.5,-223 718.5,-223 724.5,-223 730.5,-229 730.5,-235 730.5,-235 730.5,-294 730.5,-294 730.5,-300 724.5,-306 718.5,-306\"/>\n<text text-anchor=\"middle\" x=\"668.5\" y=\"-290.8\" font-family=\"Helvetica,sans-Serif\" font-size=\"14.00\" fill=\"#000000\">alcohol &lt;= 12.66</text>\n<text text-anchor=\"middle\" x=\"668.5\" y=\"-275.8\" font-family=\"Helvetica,sans-Serif\" font-size=\"14.00\" fill=\"#000000\">entropy = 0.303</text>\n<text text-anchor=\"middle\" x=\"668.5\" y=\"-260.8\" font-family=\"Helvetica,sans-Serif\" font-size=\"14.00\" fill=\"#000000\">samples = 37</text>\n<text text-anchor=\"middle\" x=\"668.5\" y=\"-245.8\" font-family=\"Helvetica,sans-Serif\" font-size=\"14.00\" fill=\"#000000\">value = [35, 2, 0]</text>\n<text text-anchor=\"middle\" x=\"668.5\" y=\"-230.8\" font-family=\"Helvetica,sans-Serif\" font-size=\"14.00\" fill=\"#000000\">class = 琴酒</text>\n</g>\n<!-- 6&#45;&gt;12 -->\n<g id=\"edge12\" class=\"edge\">\n<title>6&#45;&gt;12</title>\n<path fill=\"none\" stroke=\"#000000\" d=\"M530.1698,-345.1926C551.6678,-332.6521 575.6425,-318.6669 597.5146,-305.9081\"/>\n<polygon fill=\"#000000\" stroke=\"#000000\" points=\"599.5491,-308.7734 606.4234,-300.7114 596.022,-302.7269 599.5491,-308.7734\"/>\n</g>\n<!-- 8 -->\n<g id=\"node9\" class=\"node\">\n<title>8</title>\n<path fill=\"#39e581\" stroke=\"#000000\" d=\"M424,-179.5C424,-179.5 325,-179.5 325,-179.5 319,-179.5 313,-173.5 313,-167.5 313,-167.5 313,-123.5 313,-123.5 313,-117.5 319,-111.5 325,-111.5 325,-111.5 424,-111.5 424,-111.5 430,-111.5 436,-117.5 436,-123.5 436,-123.5 436,-167.5 436,-167.5 436,-173.5 430,-179.5 424,-179.5\"/>\n<text text-anchor=\"middle\" x=\"374.5\" y=\"-164.3\" font-family=\"Helvetica,sans-Serif\" font-size=\"14.00\" fill=\"#000000\">entropy = 0.0</text>\n<text text-anchor=\"middle\" x=\"374.5\" y=\"-149.3\" font-family=\"Helvetica,sans-Serif\" font-size=\"14.00\" fill=\"#000000\">samples = 36</text>\n<text text-anchor=\"middle\" x=\"374.5\" y=\"-134.3\" font-family=\"Helvetica,sans-Serif\" font-size=\"14.00\" fill=\"#000000\">value = [0, 36, 0]</text>\n<text text-anchor=\"middle\" x=\"374.5\" y=\"-119.3\" font-family=\"Helvetica,sans-Serif\" font-size=\"14.00\" fill=\"#000000\">class = 雪莉</text>\n</g>\n<!-- 7&#45;&gt;8 -->\n<g id=\"edge8\" class=\"edge\">\n<title>7&#45;&gt;8</title>\n<path fill=\"none\" stroke=\"#000000\" d=\"M433.0224,-222.8796C424.4565,-211.5536 415.17,-199.2748 406.5717,-187.9058\"/>\n<polygon fill=\"#000000\" stroke=\"#000000\" points=\"409.2762,-185.6795 400.4525,-179.8149 403.6931,-189.902 409.2762,-185.6795\"/>\n</g>\n<!-- 9 -->\n<g id=\"node10\" class=\"node\">\n<title>9</title>\n<path fill=\"#7beeab\" stroke=\"#000000\" d=\"M580.5,-187C580.5,-187 466.5,-187 466.5,-187 460.5,-187 454.5,-181 454.5,-175 454.5,-175 454.5,-116 454.5,-116 454.5,-110 460.5,-104 466.5,-104 466.5,-104 580.5,-104 580.5,-104 586.5,-104 592.5,-110 592.5,-116 592.5,-116 592.5,-175 592.5,-175 592.5,-181 586.5,-187 580.5,-187\"/>\n<text text-anchor=\"middle\" x=\"523.5\" y=\"-171.8\" font-family=\"Helvetica,sans-Serif\" font-size=\"14.00\" fill=\"#000000\">malic_acid &lt;= 3.03</text>\n<text text-anchor=\"middle\" x=\"523.5\" y=\"-156.8\" font-family=\"Helvetica,sans-Serif\" font-size=\"14.00\" fill=\"#000000\">entropy = 0.811</text>\n<text text-anchor=\"middle\" x=\"523.5\" y=\"-141.8\" font-family=\"Helvetica,sans-Serif\" font-size=\"14.00\" fill=\"#000000\">samples = 4</text>\n<text text-anchor=\"middle\" x=\"523.5\" y=\"-126.8\" font-family=\"Helvetica,sans-Serif\" font-size=\"14.00\" fill=\"#000000\">value = [1, 3, 0]</text>\n<text text-anchor=\"middle\" x=\"523.5\" y=\"-111.8\" font-family=\"Helvetica,sans-Serif\" font-size=\"14.00\" fill=\"#000000\">class = 雪莉</text>\n</g>\n<!-- 7&#45;&gt;9 -->\n<g id=\"edge9\" class=\"edge\">\n<title>7&#45;&gt;9</title>\n<path fill=\"none\" stroke=\"#000000\" d=\"M485.1353,-222.8796C489.3774,-214.3236 493.889,-205.2238 498.2721,-196.3833\"/>\n<polygon fill=\"#000000\" stroke=\"#000000\" points=\"501.4703,-197.8121 502.7766,-187.2981 495.1988,-194.7026 501.4703,-197.8121\"/>\n</g>\n<!-- 10 -->\n<g id=\"node11\" class=\"node\">\n<title>10</title>\n<path fill=\"#39e581\" stroke=\"#000000\" d=\"M503,-68C503,-68 412,-68 412,-68 406,-68 400,-62 400,-56 400,-56 400,-12 400,-12 400,-6 406,0 412,0 412,0 503,0 503,0 509,0 515,-6 515,-12 515,-12 515,-56 515,-56 515,-62 509,-68 503,-68\"/>\n<text text-anchor=\"middle\" x=\"457.5\" y=\"-52.8\" font-family=\"Helvetica,sans-Serif\" font-size=\"14.00\" fill=\"#000000\">entropy = 0.0</text>\n<text text-anchor=\"middle\" x=\"457.5\" y=\"-37.8\" font-family=\"Helvetica,sans-Serif\" font-size=\"14.00\" fill=\"#000000\">samples = 3</text>\n<text text-anchor=\"middle\" x=\"457.5\" y=\"-22.8\" font-family=\"Helvetica,sans-Serif\" font-size=\"14.00\" fill=\"#000000\">value = [0, 3, 0]</text>\n<text text-anchor=\"middle\" x=\"457.5\" y=\"-7.8\" font-family=\"Helvetica,sans-Serif\" font-size=\"14.00\" fill=\"#000000\">class = 雪莉</text>\n</g>\n<!-- 9&#45;&gt;10 -->\n<g id=\"edge10\" class=\"edge\">\n<title>9&#45;&gt;10</title>\n<path fill=\"none\" stroke=\"#000000\" d=\"M498.924,-103.9815C493.7014,-95.1585 488.1771,-85.8258 482.9237,-76.9506\"/>\n<polygon fill=\"#000000\" stroke=\"#000000\" points=\"485.8874,-75.0863 477.7816,-68.2637 479.8636,-78.652 485.8874,-75.0863\"/>\n</g>\n<!-- 11 -->\n<g id=\"node12\" class=\"node\">\n<title>11</title>\n<path fill=\"#e58139\" stroke=\"#000000\" d=\"M636,-68C636,-68 545,-68 545,-68 539,-68 533,-62 533,-56 533,-56 533,-12 533,-12 533,-6 539,0 545,0 545,0 636,0 636,0 642,0 648,-6 648,-12 648,-12 648,-56 648,-56 648,-62 642,-68 636,-68\"/>\n<text text-anchor=\"middle\" x=\"590.5\" y=\"-52.8\" font-family=\"Helvetica,sans-Serif\" font-size=\"14.00\" fill=\"#000000\">entropy = 0.0</text>\n<text text-anchor=\"middle\" x=\"590.5\" y=\"-37.8\" font-family=\"Helvetica,sans-Serif\" font-size=\"14.00\" fill=\"#000000\">samples = 1</text>\n<text text-anchor=\"middle\" x=\"590.5\" y=\"-22.8\" font-family=\"Helvetica,sans-Serif\" font-size=\"14.00\" fill=\"#000000\">value = [1, 0, 0]</text>\n<text text-anchor=\"middle\" x=\"590.5\" y=\"-7.8\" font-family=\"Helvetica,sans-Serif\" font-size=\"14.00\" fill=\"#000000\">class = 琴酒</text>\n</g>\n<!-- 9&#45;&gt;11 -->\n<g id=\"edge11\" class=\"edge\">\n<title>9&#45;&gt;11</title>\n<path fill=\"none\" stroke=\"#000000\" d=\"M548.4483,-103.9815C553.7501,-95.1585 559.3581,-85.8258 564.6911,-76.9506\"/>\n<polygon fill=\"#000000\" stroke=\"#000000\" points=\"567.7605,-78.638 569.9111,-68.2637 561.7604,-75.0325 567.7605,-78.638\"/>\n</g>\n<!-- 13 -->\n<g id=\"node14\" class=\"node\">\n<title>13</title>\n<path fill=\"#39e581\" stroke=\"#000000\" d=\"M714,-179.5C714,-179.5 623,-179.5 623,-179.5 617,-179.5 611,-173.5 611,-167.5 611,-167.5 611,-123.5 611,-123.5 611,-117.5 617,-111.5 623,-111.5 623,-111.5 714,-111.5 714,-111.5 720,-111.5 726,-117.5 726,-123.5 726,-123.5 726,-167.5 726,-167.5 726,-173.5 720,-179.5 714,-179.5\"/>\n<text text-anchor=\"middle\" x=\"668.5\" y=\"-164.3\" font-family=\"Helvetica,sans-Serif\" font-size=\"14.00\" fill=\"#000000\">entropy = 0.0</text>\n<text text-anchor=\"middle\" x=\"668.5\" y=\"-149.3\" font-family=\"Helvetica,sans-Serif\" font-size=\"14.00\" fill=\"#000000\">samples = 2</text>\n<text text-anchor=\"middle\" x=\"668.5\" y=\"-134.3\" font-family=\"Helvetica,sans-Serif\" font-size=\"14.00\" fill=\"#000000\">value = [0, 2, 0]</text>\n<text text-anchor=\"middle\" x=\"668.5\" y=\"-119.3\" font-family=\"Helvetica,sans-Serif\" font-size=\"14.00\" fill=\"#000000\">class = 雪莉</text>\n</g>\n<!-- 12&#45;&gt;13 -->\n<g id=\"edge13\" class=\"edge\">\n<title>12&#45;&gt;13</title>\n<path fill=\"none\" stroke=\"#000000\" d=\"M668.5,-222.8796C668.5,-212.2134 668.5,-200.7021 668.5,-189.9015\"/>\n<polygon fill=\"#000000\" stroke=\"#000000\" points=\"672.0001,-189.8149 668.5,-179.8149 665.0001,-189.815 672.0001,-189.8149\"/>\n</g>\n<!-- 14 -->\n<g id=\"node15\" class=\"node\">\n<title>14</title>\n<path fill=\"#e58139\" stroke=\"#000000\" d=\"M855,-179.5C855,-179.5 756,-179.5 756,-179.5 750,-179.5 744,-173.5 744,-167.5 744,-167.5 744,-123.5 744,-123.5 744,-117.5 750,-111.5 756,-111.5 756,-111.5 855,-111.5 855,-111.5 861,-111.5 867,-117.5 867,-123.5 867,-123.5 867,-167.5 867,-167.5 867,-173.5 861,-179.5 855,-179.5\"/>\n<text text-anchor=\"middle\" x=\"805.5\" y=\"-164.3\" font-family=\"Helvetica,sans-Serif\" font-size=\"14.00\" fill=\"#000000\">entropy = 0.0</text>\n<text text-anchor=\"middle\" x=\"805.5\" y=\"-149.3\" font-family=\"Helvetica,sans-Serif\" font-size=\"14.00\" fill=\"#000000\">samples = 35</text>\n<text text-anchor=\"middle\" x=\"805.5\" y=\"-134.3\" font-family=\"Helvetica,sans-Serif\" font-size=\"14.00\" fill=\"#000000\">value = [35, 0, 0]</text>\n<text text-anchor=\"middle\" x=\"805.5\" y=\"-119.3\" font-family=\"Helvetica,sans-Serif\" font-size=\"14.00\" fill=\"#000000\">class = 琴酒</text>\n</g>\n<!-- 12&#45;&gt;14 -->\n<g id=\"edge14\" class=\"edge\">\n<title>12&#45;&gt;14</title>\n<path fill=\"none\" stroke=\"#000000\" d=\"M716.416,-222.8796C729.9615,-211.1138 744.6908,-198.3197 758.1998,-186.5855\"/>\n<polygon fill=\"#000000\" stroke=\"#000000\" points=\"760.7401,-189.015 765.9946,-179.8149 756.1497,-183.7303 760.7401,-189.015\"/>\n</g>\n</g>\n</svg>\n"
          },
          "metadata": {
            "tags": []
          },
          "execution_count": 88
        }
      ]
    },
    {
      "cell_type": "markdown",
      "metadata": {
        "id": "IEJefQF7cgYu",
        "colab_type": "text"
      },
      "source": [
        "From the tree graph above, only three features are used to determine the tree. "
      ]
    },
    {
      "cell_type": "code",
      "metadata": {
        "id": "sEBK2DMscqTk",
        "colab_type": "code",
        "colab": {
          "base_uri": "https://localhost:8080/",
          "height": 242
        },
        "outputId": "c449cecb-ce3f-49e1-b231-ede7ef413559"
      },
      "source": [
        "feature_importance = [*zip(feature_names, clf.feature_importances_)]\n",
        "sorted_feature_importance = sorted(feature_importance, key = lambda x: x[1], reverse = True)\n",
        "sorted_feature_importance"
      ],
      "execution_count": 89,
      "outputs": [
        {
          "output_type": "execute_result",
          "data": {
            "text/plain": [
              "[('flavanoids', 0.4131024938753796),\n",
              " ('proline', 0.32167057988138953),\n",
              " ('color_intensity', 0.15626202686844184),\n",
              " ('alcohol', 0.057960870491628284),\n",
              " ('alcalinity_of_ash', 0.034247526308054214),\n",
              " ('malic_acid', 0.01675650257510657),\n",
              " ('ash', 0.0),\n",
              " ('magnesium', 0.0),\n",
              " ('total_phenols', 0.0),\n",
              " ('nonflavanoid_phenols', 0.0),\n",
              " ('proanthocyanins', 0.0),\n",
              " ('hue', 0.0),\n",
              " ('od280/od315_of_diluted_wines', 0.0)]"
            ]
          },
          "metadata": {
            "tags": []
          },
          "execution_count": 89
        }
      ]
    },
    {
      "cell_type": "markdown",
      "metadata": {
        "id": "jdsqzxqvWbDY",
        "colab_type": "text"
      },
      "source": [
        "### 4. Decision Tree model fine tune (parameters adjusting)\n",
        "\n",
        "#### Main parameters:\n",
        "- **Criterion**: entropy (more sensitive to impurity), gini(default)\n",
        "- **random_state**: to make the random all the same each time\n",
        "- **splitter**: \n",
        "  - best (default) - the model will select the best features based on features importance\n",
        "  - random - the model will random select sqrt of features\n",
        "- **max_depth**: to avoid overfitting\n",
        "- **min_samples_leaf** & **min_samples_split**\n",
        "- **max_features**: \n",
        "- **min_impurity_split**: if the info gain < the value, the split will not happen"
      ]
    },
    {
      "cell_type": "markdown",
      "metadata": {
        "id": "2-Ydi8IeB1iZ",
        "colab_type": "text"
      },
      "source": [
        "### 5. Prune the tree by seting the max_depth, min_samples_leaf, min_samples_split"
      ]
    },
    {
      "cell_type": "markdown",
      "metadata": {
        "id": "-oUAQjyNaSdq",
        "colab_type": "text"
      },
      "source": [
        "#### 5.1 Visualization of the score with different Max_depth"
      ]
    },
    {
      "cell_type": "code",
      "metadata": {
        "id": "_Gx3MjMIGJb0",
        "colab_type": "code",
        "outputId": "c3316cb6-3613-4609-808f-85960f17513f",
        "colab": {
          "base_uri": "https://localhost:8080/",
          "height": 296
        }
      },
      "source": [
        "scores = []\n",
        "for i in range(1, 11):\n",
        "  clf = DecisionTreeClassifier(max_depth = i\n",
        "                            ,criterion = \"entropy\"\n",
        "                            ,random_state = 30\n",
        "                            ,splitter = \"random\"\n",
        "                            ,min_samples_leaf = 3\n",
        "                            ,min_samples_split = 3\n",
        "                              )\n",
        "  clf.fit(x_train, y_train)\n",
        "  score = clf.score(x_test, y_test)\n",
        "  scores.append(score)\n",
        "\n",
        "plt.plot(range(1, 11), scores, color = \"b\", label = \"max_depth\")\n",
        "plt.title(\"Decision Tree with different max_depth\")\n",
        "plt.xlabel('Max_depth')\n",
        "plt.ylabel('Score')\n",
        "plt.legend()\n",
        "plt.show()"
      ],
      "execution_count": 90,
      "outputs": [
        {
          "output_type": "display_data",
          "data": {
            "image/png": "[encoded data removed]",
            "text/plain": [
              "<Figure size 432x288 with 1 Axes>"
            ]
          },
          "metadata": {
            "tags": []
          }
        }
      ]
    },
    {
      "cell_type": "code",
      "metadata": {
        "id": "PaA2_oh5i6p3",
        "colab_type": "code",
        "colab": {
          "base_uri": "https://localhost:8080/",
          "height": 52
        },
        "outputId": "31350906-eb58-416d-eb5b-75c1f4765c92"
      },
      "source": [
        "print(\"Best performance: {}\".format(max(scores)))\n",
        "print(\"Max_dept: {}\".format(scores.index(max(scores)) + 1))"
      ],
      "execution_count": 91,
      "outputs": [
        {
          "output_type": "stream",
          "text": [
            "Best performance: 0.9814814814814815\n",
            "Max_dept: 3\n"
          ],
          "name": "stdout"
        }
      ]
    },
    {
      "cell_type": "markdown",
      "metadata": {
        "id": "-3VsOIqkaZAD",
        "colab_type": "text"
      },
      "source": [
        "#### 4.1.2 Visualization of the score with different Min_samples_leaf"
      ]
    },
    {
      "cell_type": "code",
      "metadata": {
        "id": "CWmXULZFZuAZ",
        "colab_type": "code",
        "colab": {
          "base_uri": "https://localhost:8080/",
          "height": 296
        },
        "outputId": "1f5a8398-1ecb-41d0-958b-90fced21331f"
      },
      "source": [
        "scores = []\n",
        "for i in range(1, 11):\n",
        "  clf = DecisionTreeClassifier(max_depth = 3\n",
        "                            ,criterion = \"entropy\"\n",
        "                            ,random_state = 30\n",
        "                            ,splitter = \"random\"\n",
        "                            ,min_samples_leaf = i\n",
        "                            ,min_samples_split = 3)\n",
        "  clf.fit(x_train, y_train)\n",
        "  score = clf.score(x_test, y_test)\n",
        "  scores.append(score)\n",
        "\n",
        "plt.plot(range(1, 11), scores, color = \"b\", label = \"min_samples_leaf\")\n",
        "plt.title(\"Decision Tree with different min_samples_leaf\")\n",
        "plt.xlabel('min_samples_leaf')\n",
        "plt.ylabel('Score')\n",
        "plt.legend()\n",
        "plt.show()"
      ],
      "execution_count": 92,
      "outputs": [
        {
          "output_type": "display_data",
          "data": {
            "image/png": "[encoded data removed]",
            "text/plain": [
              "<Figure size 432x288 with 1 Axes>"
            ]
          },
          "metadata": {
            "tags": []
          }
        }
      ]
    },
    {
      "cell_type": "code",
      "metadata": {
        "id": "k_p0EI3laI_E",
        "colab_type": "code",
        "colab": {
          "base_uri": "https://localhost:8080/",
          "height": 52
        },
        "outputId": "64ab0440-4d58-4a69-9519-f1a1c2a5a0eb"
      },
      "source": [
        "print(\"Best performance: {}\".format(max(scores)))\n",
        "print(\"Min_samples_leaf: {}\".format(scores.index(max(scores)) + 1))"
      ],
      "execution_count": 93,
      "outputs": [
        {
          "output_type": "stream",
          "text": [
            "Best performance: 0.9814814814814815\n",
            "Min_samples_leaf: 1\n"
          ],
          "name": "stdout"
        }
      ]
    },
    {
      "cell_type": "markdown",
      "metadata": {
        "id": "zOcL2kWzaev8",
        "colab_type": "text"
      },
      "source": [
        "#### 4.1.3 VIsualization of the scores with different Min_samples_split"
      ]
    },
    {
      "cell_type": "code",
      "metadata": {
        "id": "82KC9YpCakoH",
        "colab_type": "code",
        "colab": {
          "base_uri": "https://localhost:8080/",
          "height": 296
        },
        "outputId": "ec5144a7-7965-42bd-a662-f524b67e062a"
      },
      "source": [
        "# the minimum value of min_samples_split = 2\n",
        "scores = []\n",
        "for i in range(2, 11):\n",
        "  clf = DecisionTreeClassifier(max_depth = 3\n",
        "                            ,criterion = \"entropy\"\n",
        "                            ,random_state = 30\n",
        "                            ,splitter = \"random\"\n",
        "                            ,min_samples_leaf = 3\n",
        "                            ,min_samples_split = i)\n",
        "  clf.fit(x_train, y_train)\n",
        "  score = clf.score(x_test, y_test)\n",
        "  scores.append(score)\n",
        "\n",
        "plt.plot(range(2, 11), scores, color = \"b\", label = \"min_samples_split\")\n",
        "plt.title(\"Decision Tree with different min_samples_split\")\n",
        "plt.xlabel('min_samples_split')\n",
        "plt.ylabel('Score')\n",
        "plt.legend()\n",
        "plt.show()"
      ],
      "execution_count": 94,
      "outputs": [
        {
          "output_type": "display_data",
          "data": {
            "image/png": "[encoded data removed]",
            "text/plain": [
              "<Figure size 432x288 with 1 Axes>"
            ]
          },
          "metadata": {
            "tags": []
          }
        }
      ]
    },
    {
      "cell_type": "code",
      "metadata": {
        "id": "bbPb8uC1a764",
        "colab_type": "code",
        "colab": {
          "base_uri": "https://localhost:8080/",
          "height": 52
        },
        "outputId": "1138e1ba-6568-4252-ad5e-32fdb05e73b5"
      },
      "source": [
        "print(\"Best performance: {}\".format(max(scores)))\n",
        "print(\"Min_samples_split: {}\".format(scores.index(max(scores)) + 2))"
      ],
      "execution_count": 95,
      "outputs": [
        {
          "output_type": "stream",
          "text": [
            "Best performance: 0.9814814814814815\n",
            "Min_samples_split: 2\n"
          ],
          "name": "stdout"
        }
      ]
    },
    {
      "cell_type": "markdown",
      "metadata": {
        "id": "lKLOlOgtbi9Y",
        "colab_type": "text"
      },
      "source": [
        "**The best performance model: 98.14%**\n",
        "- Max_depth = 3\n",
        "- Min_samples_leaf = 1\n",
        "- Min_samples_split = 2"
      ]
    },
    {
      "cell_type": "code",
      "metadata": {
        "id": "pJUNVTbe9cX6",
        "colab_type": "code",
        "colab": {
          "base_uri": "https://localhost:8080/",
          "height": 35
        },
        "outputId": "58a52e3f-e603-46b6-90d0-6def029a39c2"
      },
      "source": [
        "clf = DecisionTreeClassifier(max_depth = 3\n",
        "                            ,criterion = \"entropy\"\n",
        "                            ,random_state = 30\n",
        "                            ,splitter = \"random\"\n",
        "                            ,min_samples_leaf = 1\n",
        "                            ,min_samples_split = 2)\n",
        "clf.fit(x_train, y_train)\n",
        "score = clf.score(x_test, y_test)\n",
        "score"
      ],
      "execution_count": 96,
      "outputs": [
        {
          "output_type": "execute_result",
          "data": {
            "text/plain": [
              "0.9814814814814815"
            ]
          },
          "metadata": {
            "tags": []
          },
          "execution_count": 96
        }
      ]
    },
    {
      "cell_type": "code",
      "metadata": {
        "id": "KfOY_4_T9VT8",
        "colab_type": "code",
        "colab": {
          "base_uri": "https://localhost:8080/",
          "height": 599
        },
        "outputId": "0afcf20b-dbd5-43cd-dbe9-979bad3278cc"
      },
      "source": [
        "dot_data = export_graphviz(clf\n",
        "                           ,feature_names = feature_names\n",
        "                          ,class_names = [\"琴酒\", \"雪莉\", \"贝尔摩德\"] # target_names\n",
        "                          ,filled = True\n",
        "                          ,rounded = True\n",
        "                          )\n",
        "graph = graphviz.Source(dot_data)\n",
        "graph"
      ],
      "execution_count": 97,
      "outputs": [
        {
          "output_type": "execute_result",
          "data": {
            "text/plain": [
              "<graphviz.files.Source at 0x7fa7739402b0>"
            ],
            "image/svg+xml": "<?xml version=\"1.0\" encoding=\"UTF-8\" standalone=\"no\"?>\n<!DOCTYPE svg PUBLIC \"-//W3C//DTD SVG 1.1//EN\"\n \"http://www.w3.org/Graphics/SVG/1.1/DTD/svg11.dtd\">\n<!-- Generated by graphviz version 2.40.1 (20161225.0304)\n -->\n<!-- Title: Tree Pages: 1 -->\n<svg width=\"855pt\" height=\"433pt\"\n viewBox=\"0.00 0.00 855.00 433.00\" xmlns=\"http://www.w3.org/2000/svg\" xmlns:xlink=\"http://www.w3.org/1999/xlink\">\n<g id=\"graph0\" class=\"graph\" transform=\"scale(1 1) rotate(0) translate(4 429)\">\n<title>Tree</title>\n<polygon fill=\"#ffffff\" stroke=\"transparent\" points=\"-4,4 -4,-429 851,-429 851,4 -4,4\"/>\n<!-- 0 -->\n<g id=\"node1\" class=\"node\">\n<title>0</title>\n<path fill=\"#dbfae8\" stroke=\"#000000\" d=\"M497,-425C497,-425 378,-425 378,-425 372,-425 366,-419 366,-413 366,-413 366,-354 366,-354 366,-348 372,-342 378,-342 378,-342 497,-342 497,-342 503,-342 509,-348 509,-354 509,-354 509,-413 509,-413 509,-419 503,-425 497,-425\"/>\n<text text-anchor=\"middle\" x=\"437.5\" y=\"-409.8\" font-family=\"Helvetica,sans-Serif\" font-size=\"14.00\" fill=\"#000000\">flavanoids &lt;= 2.154</text>\n<text text-anchor=\"middle\" x=\"437.5\" y=\"-394.8\" font-family=\"Helvetica,sans-Serif\" font-size=\"14.00\" fill=\"#000000\">entropy = 1.562</text>\n<text text-anchor=\"middle\" x=\"437.5\" y=\"-379.8\" font-family=\"Helvetica,sans-Serif\" font-size=\"14.00\" fill=\"#000000\">samples = 124</text>\n<text text-anchor=\"middle\" x=\"437.5\" y=\"-364.8\" font-family=\"Helvetica,sans-Serif\" font-size=\"14.00\" fill=\"#000000\">value = [36, 52, 36]</text>\n<text text-anchor=\"middle\" x=\"437.5\" y=\"-349.8\" font-family=\"Helvetica,sans-Serif\" font-size=\"14.00\" fill=\"#000000\">class = 雪莉</text>\n</g>\n<!-- 1 -->\n<g id=\"node2\" class=\"node\">\n<title>1</title>\n<path fill=\"#f1e9fc\" stroke=\"#000000\" d=\"M451.5,-306C451.5,-306 203.5,-306 203.5,-306 197.5,-306 191.5,-300 191.5,-294 191.5,-294 191.5,-235 191.5,-235 191.5,-229 197.5,-223 203.5,-223 203.5,-223 451.5,-223 451.5,-223 457.5,-223 463.5,-229 463.5,-235 463.5,-235 463.5,-294 463.5,-294 463.5,-300 457.5,-306 451.5,-306\"/>\n<text text-anchor=\"middle\" x=\"327.5\" y=\"-290.8\" font-family=\"Helvetica,sans-Serif\" font-size=\"14.00\" fill=\"#000000\">od280/od315_of_diluted_wines &lt;= 2.21</text>\n<text text-anchor=\"middle\" x=\"327.5\" y=\"-275.8\" font-family=\"Helvetica,sans-Serif\" font-size=\"14.00\" fill=\"#000000\">entropy = 0.998</text>\n<text text-anchor=\"middle\" x=\"327.5\" y=\"-260.8\" font-family=\"Helvetica,sans-Serif\" font-size=\"14.00\" fill=\"#000000\">samples = 68</text>\n<text text-anchor=\"middle\" x=\"327.5\" y=\"-245.8\" font-family=\"Helvetica,sans-Serif\" font-size=\"14.00\" fill=\"#000000\">value = [0, 32, 36]</text>\n<text text-anchor=\"middle\" x=\"327.5\" y=\"-230.8\" font-family=\"Helvetica,sans-Serif\" font-size=\"14.00\" fill=\"#000000\">class = 贝尔摩德</text>\n</g>\n<!-- 0&#45;&gt;1 -->\n<g id=\"edge1\" class=\"edge\">\n<title>0&#45;&gt;1</title>\n<path fill=\"none\" stroke=\"#000000\" d=\"M399.0273,-341.8796C390.6189,-332.7832 381.6424,-323.0722 372.9897,-313.7116\"/>\n<polygon fill=\"#000000\" stroke=\"#000000\" points=\"375.495,-311.2656 366.1369,-306.2981 370.3547,-316.0172 375.495,-311.2656\"/>\n<text text-anchor=\"middle\" x=\"365.1551\" y=\"-327.5788\" font-family=\"Helvetica,sans-Serif\" font-size=\"14.00\" fill=\"#000000\">True</text>\n</g>\n<!-- 8 -->\n<g id=\"node9\" class=\"node\">\n<title>8</title>\n<path fill=\"#f3c7a7\" stroke=\"#000000\" d=\"M601,-306C601,-306 494,-306 494,-306 488,-306 482,-300 482,-294 482,-294 482,-235 482,-235 482,-229 488,-223 494,-223 494,-223 601,-223 601,-223 607,-223 613,-229 613,-235 613,-235 613,-294 613,-294 613,-300 607,-306 601,-306\"/>\n<text text-anchor=\"middle\" x=\"547.5\" y=\"-290.8\" font-family=\"Helvetica,sans-Serif\" font-size=\"14.00\" fill=\"#000000\">proline &lt;= 524.24</text>\n<text text-anchor=\"middle\" x=\"547.5\" y=\"-275.8\" font-family=\"Helvetica,sans-Serif\" font-size=\"14.00\" fill=\"#000000\">entropy = 0.94</text>\n<text text-anchor=\"middle\" x=\"547.5\" y=\"-260.8\" font-family=\"Helvetica,sans-Serif\" font-size=\"14.00\" fill=\"#000000\">samples = 56</text>\n<text text-anchor=\"middle\" x=\"547.5\" y=\"-245.8\" font-family=\"Helvetica,sans-Serif\" font-size=\"14.00\" fill=\"#000000\">value = [36, 20, 0]</text>\n<text text-anchor=\"middle\" x=\"547.5\" y=\"-230.8\" font-family=\"Helvetica,sans-Serif\" font-size=\"14.00\" fill=\"#000000\">class = 琴酒</text>\n</g>\n<!-- 0&#45;&gt;8 -->\n<g id=\"edge8\" class=\"edge\">\n<title>0&#45;&gt;8</title>\n<path fill=\"none\" stroke=\"#000000\" d=\"M475.9727,-341.8796C484.3811,-332.7832 493.3576,-323.0722 502.0103,-313.7116\"/>\n<polygon fill=\"#000000\" stroke=\"#000000\" points=\"504.6453,-316.0172 508.8631,-306.2981 499.505,-311.2656 504.6453,-316.0172\"/>\n<text text-anchor=\"middle\" x=\"509.8449\" y=\"-327.5788\" font-family=\"Helvetica,sans-Serif\" font-size=\"14.00\" fill=\"#000000\">False</text>\n</g>\n<!-- 2 -->\n<g id=\"node3\" class=\"node\">\n<title>2</title>\n<path fill=\"#9f68eb\" stroke=\"#000000\" d=\"M244,-187C244,-187 145,-187 145,-187 139,-187 133,-181 133,-175 133,-175 133,-116 133,-116 133,-110 139,-104 145,-104 145,-104 244,-104 244,-104 250,-104 256,-110 256,-116 256,-116 256,-175 256,-175 256,-181 250,-187 244,-187\"/>\n<text text-anchor=\"middle\" x=\"194.5\" y=\"-171.8\" font-family=\"Helvetica,sans-Serif\" font-size=\"14.00\" fill=\"#000000\">hue &lt;= 0.981</text>\n<text text-anchor=\"middle\" x=\"194.5\" y=\"-156.8\" font-family=\"Helvetica,sans-Serif\" font-size=\"14.00\" fill=\"#000000\">entropy = 0.702</text>\n<text text-anchor=\"middle\" x=\"194.5\" y=\"-141.8\" font-family=\"Helvetica,sans-Serif\" font-size=\"14.00\" fill=\"#000000\">samples = 42</text>\n<text text-anchor=\"middle\" x=\"194.5\" y=\"-126.8\" font-family=\"Helvetica,sans-Serif\" font-size=\"14.00\" fill=\"#000000\">value = [0, 8, 34]</text>\n<text text-anchor=\"middle\" x=\"194.5\" y=\"-111.8\" font-family=\"Helvetica,sans-Serif\" font-size=\"14.00\" fill=\"#000000\">class = 贝尔摩德</text>\n</g>\n<!-- 1&#45;&gt;2 -->\n<g id=\"edge2\" class=\"edge\">\n<title>1&#45;&gt;2</title>\n<path fill=\"none\" stroke=\"#000000\" d=\"M280.9831,-222.8796C270.6152,-213.6031 259.5329,-203.6874 248.8801,-194.1559\"/>\n<polygon fill=\"#000000\" stroke=\"#000000\" points=\"251.0017,-191.3577 241.2155,-187.2981 246.3341,-196.5744 251.0017,-191.3577\"/>\n</g>\n<!-- 5 -->\n<g id=\"node6\" class=\"node\">\n<title>5</title>\n<path fill=\"#49e78c\" stroke=\"#000000\" d=\"M405,-187C405,-187 286,-187 286,-187 280,-187 274,-181 274,-175 274,-175 274,-116 274,-116 274,-110 280,-104 286,-104 286,-104 405,-104 405,-104 411,-104 417,-110 417,-116 417,-116 417,-175 417,-175 417,-181 411,-187 405,-187\"/>\n<text text-anchor=\"middle\" x=\"345.5\" y=\"-171.8\" font-family=\"Helvetica,sans-Serif\" font-size=\"14.00\" fill=\"#000000\">flavanoids &lt;= 1.052</text>\n<text text-anchor=\"middle\" x=\"345.5\" y=\"-156.8\" font-family=\"Helvetica,sans-Serif\" font-size=\"14.00\" fill=\"#000000\">entropy = 0.391</text>\n<text text-anchor=\"middle\" x=\"345.5\" y=\"-141.8\" font-family=\"Helvetica,sans-Serif\" font-size=\"14.00\" fill=\"#000000\">samples = 26</text>\n<text text-anchor=\"middle\" x=\"345.5\" y=\"-126.8\" font-family=\"Helvetica,sans-Serif\" font-size=\"14.00\" fill=\"#000000\">value = [0, 24, 2]</text>\n<text text-anchor=\"middle\" x=\"345.5\" y=\"-111.8\" font-family=\"Helvetica,sans-Serif\" font-size=\"14.00\" fill=\"#000000\">class = 雪莉</text>\n</g>\n<!-- 1&#45;&gt;5 -->\n<g id=\"edge5\" class=\"edge\">\n<title>1&#45;&gt;5</title>\n<path fill=\"none\" stroke=\"#000000\" d=\"M333.7955,-222.8796C335.0488,-214.5938 336.3793,-205.798 337.6766,-197.2216\"/>\n<polygon fill=\"#000000\" stroke=\"#000000\" points=\"341.1426,-197.7091 339.1776,-187.2981 334.2213,-196.6621 341.1426,-197.7091\"/>\n</g>\n<!-- 3 -->\n<g id=\"node4\" class=\"node\">\n<title>3</title>\n<path fill=\"#9456e9\" stroke=\"#000000\" d=\"M111,-68C111,-68 12,-68 12,-68 6,-68 0,-62 0,-56 0,-56 0,-12 0,-12 0,-6 6,0 12,0 12,0 111,0 111,0 117,0 123,-6 123,-12 123,-12 123,-56 123,-56 123,-62 117,-68 111,-68\"/>\n<text text-anchor=\"middle\" x=\"61.5\" y=\"-52.8\" font-family=\"Helvetica,sans-Serif\" font-size=\"14.00\" fill=\"#000000\">entropy = 0.552</text>\n<text text-anchor=\"middle\" x=\"61.5\" y=\"-37.8\" font-family=\"Helvetica,sans-Serif\" font-size=\"14.00\" fill=\"#000000\">samples = 39</text>\n<text text-anchor=\"middle\" x=\"61.5\" y=\"-22.8\" font-family=\"Helvetica,sans-Serif\" font-size=\"14.00\" fill=\"#000000\">value = [0, 5, 34]</text>\n<text text-anchor=\"middle\" x=\"61.5\" y=\"-7.8\" font-family=\"Helvetica,sans-Serif\" font-size=\"14.00\" fill=\"#000000\">class = 贝尔摩德</text>\n</g>\n<!-- 2&#45;&gt;3 -->\n<g id=\"edge3\" class=\"edge\">\n<title>2&#45;&gt;3</title>\n<path fill=\"none\" stroke=\"#000000\" d=\"M144.9757,-103.9815C133.5743,-94.4232 121.4595,-84.2668 110.0979,-74.7419\"/>\n<polygon fill=\"#000000\" stroke=\"#000000\" points=\"112.2825,-72.006 102.3706,-68.2637 107.7853,-77.3704 112.2825,-72.006\"/>\n</g>\n<!-- 4 -->\n<g id=\"node5\" class=\"node\">\n<title>4</title>\n<path fill=\"#39e581\" stroke=\"#000000\" d=\"M244,-68C244,-68 153,-68 153,-68 147,-68 141,-62 141,-56 141,-56 141,-12 141,-12 141,-6 147,0 153,0 153,0 244,0 244,0 250,0 256,-6 256,-12 256,-12 256,-56 256,-56 256,-62 250,-68 244,-68\"/>\n<text text-anchor=\"middle\" x=\"198.5\" y=\"-52.8\" font-family=\"Helvetica,sans-Serif\" font-size=\"14.00\" fill=\"#000000\">entropy = 0.0</text>\n<text text-anchor=\"middle\" x=\"198.5\" y=\"-37.8\" font-family=\"Helvetica,sans-Serif\" font-size=\"14.00\" fill=\"#000000\">samples = 3</text>\n<text text-anchor=\"middle\" x=\"198.5\" y=\"-22.8\" font-family=\"Helvetica,sans-Serif\" font-size=\"14.00\" fill=\"#000000\">value = [0, 3, 0]</text>\n<text text-anchor=\"middle\" x=\"198.5\" y=\"-7.8\" font-family=\"Helvetica,sans-Serif\" font-size=\"14.00\" fill=\"#000000\">class = 雪莉</text>\n</g>\n<!-- 2&#45;&gt;4 -->\n<g id=\"edge4\" class=\"edge\">\n<title>2&#45;&gt;4</title>\n<path fill=\"none\" stroke=\"#000000\" d=\"M195.9895,-103.9815C196.2895,-95.618 196.606,-86.7965 196.9093,-78.3409\"/>\n<polygon fill=\"#000000\" stroke=\"#000000\" points=\"200.41,-78.3828 197.2708,-68.2637 193.4145,-78.1317 200.41,-78.3828\"/>\n</g>\n<!-- 6 -->\n<g id=\"node7\" class=\"node\">\n<title>6</title>\n<path fill=\"#c09cf2\" stroke=\"#000000\" d=\"M392,-68C392,-68 293,-68 293,-68 287,-68 281,-62 281,-56 281,-56 281,-12 281,-12 281,-6 287,0 293,0 293,0 392,0 392,0 398,0 404,-6 404,-12 404,-12 404,-56 404,-56 404,-62 398,-68 392,-68\"/>\n<text text-anchor=\"middle\" x=\"342.5\" y=\"-52.8\" font-family=\"Helvetica,sans-Serif\" font-size=\"14.00\" fill=\"#000000\">entropy = 0.918</text>\n<text text-anchor=\"middle\" x=\"342.5\" y=\"-37.8\" font-family=\"Helvetica,sans-Serif\" font-size=\"14.00\" fill=\"#000000\">samples = 3</text>\n<text text-anchor=\"middle\" x=\"342.5\" y=\"-22.8\" font-family=\"Helvetica,sans-Serif\" font-size=\"14.00\" fill=\"#000000\">value = [0, 1, 2]</text>\n<text text-anchor=\"middle\" x=\"342.5\" y=\"-7.8\" font-family=\"Helvetica,sans-Serif\" font-size=\"14.00\" fill=\"#000000\">class = 贝尔摩德</text>\n</g>\n<!-- 5&#45;&gt;6 -->\n<g id=\"edge6\" class=\"edge\">\n<title>5&#45;&gt;6</title>\n<path fill=\"none\" stroke=\"#000000\" d=\"M344.3829,-103.9815C344.1579,-95.618 343.9205,-86.7965 343.693,-78.3409\"/>\n<polygon fill=\"#000000\" stroke=\"#000000\" points=\"347.1897,-78.1659 343.4219,-68.2637 340.1922,-78.3542 347.1897,-78.1659\"/>\n</g>\n<!-- 7 -->\n<g id=\"node8\" class=\"node\">\n<title>7</title>\n<path fill=\"#39e581\" stroke=\"#000000\" d=\"M533,-68C533,-68 434,-68 434,-68 428,-68 422,-62 422,-56 422,-56 422,-12 422,-12 422,-6 428,0 434,0 434,0 533,0 533,0 539,0 545,-6 545,-12 545,-12 545,-56 545,-56 545,-62 539,-68 533,-68\"/>\n<text text-anchor=\"middle\" x=\"483.5\" y=\"-52.8\" font-family=\"Helvetica,sans-Serif\" font-size=\"14.00\" fill=\"#000000\">entropy = 0.0</text>\n<text text-anchor=\"middle\" x=\"483.5\" y=\"-37.8\" font-family=\"Helvetica,sans-Serif\" font-size=\"14.00\" fill=\"#000000\">samples = 23</text>\n<text text-anchor=\"middle\" x=\"483.5\" y=\"-22.8\" font-family=\"Helvetica,sans-Serif\" font-size=\"14.00\" fill=\"#000000\">value = [0, 23, 0]</text>\n<text text-anchor=\"middle\" x=\"483.5\" y=\"-7.8\" font-family=\"Helvetica,sans-Serif\" font-size=\"14.00\" fill=\"#000000\">class = 雪莉</text>\n</g>\n<!-- 5&#45;&gt;7 -->\n<g id=\"edge7\" class=\"edge\">\n<title>5&#45;&gt;7</title>\n<path fill=\"none\" stroke=\"#000000\" d=\"M396.8861,-103.9815C408.7161,-94.4232 421.2864,-84.2668 433.0751,-74.7419\"/>\n<polygon fill=\"#000000\" stroke=\"#000000\" points=\"435.5142,-77.2708 441.0929,-68.2637 431.1149,-71.826 435.5142,-77.2708\"/>\n</g>\n<!-- 9 -->\n<g id=\"node10\" class=\"node\">\n<title>9</title>\n<path fill=\"#39e581\" stroke=\"#000000\" d=\"M580,-179.5C580,-179.5 481,-179.5 481,-179.5 475,-179.5 469,-173.5 469,-167.5 469,-167.5 469,-123.5 469,-123.5 469,-117.5 475,-111.5 481,-111.5 481,-111.5 580,-111.5 580,-111.5 586,-111.5 592,-117.5 592,-123.5 592,-123.5 592,-167.5 592,-167.5 592,-173.5 586,-179.5 580,-179.5\"/>\n<text text-anchor=\"middle\" x=\"530.5\" y=\"-164.3\" font-family=\"Helvetica,sans-Serif\" font-size=\"14.00\" fill=\"#000000\">entropy = 0.0</text>\n<text text-anchor=\"middle\" x=\"530.5\" y=\"-149.3\" font-family=\"Helvetica,sans-Serif\" font-size=\"14.00\" fill=\"#000000\">samples = 14</text>\n<text text-anchor=\"middle\" x=\"530.5\" y=\"-134.3\" font-family=\"Helvetica,sans-Serif\" font-size=\"14.00\" fill=\"#000000\">value = [0, 14, 0]</text>\n<text text-anchor=\"middle\" x=\"530.5\" y=\"-119.3\" font-family=\"Helvetica,sans-Serif\" font-size=\"14.00\" fill=\"#000000\">class = 雪莉</text>\n</g>\n<!-- 8&#45;&gt;9 -->\n<g id=\"edge9\" class=\"edge\">\n<title>8&#45;&gt;9</title>\n<path fill=\"none\" stroke=\"#000000\" d=\"M541.5542,-222.8796C540.0305,-212.2134 538.386,-200.7021 536.8431,-189.9015\"/>\n<polygon fill=\"#000000\" stroke=\"#000000\" points=\"540.2813,-189.2194 535.4021,-179.8149 533.3516,-190.2094 540.2813,-189.2194\"/>\n</g>\n<!-- 10 -->\n<g id=\"node11\" class=\"node\">\n<title>10</title>\n<path fill=\"#e9965a\" stroke=\"#000000\" d=\"M730.5,-187C730.5,-187 622.5,-187 622.5,-187 616.5,-187 610.5,-181 610.5,-175 610.5,-175 610.5,-116 610.5,-116 610.5,-110 616.5,-104 622.5,-104 622.5,-104 730.5,-104 730.5,-104 736.5,-104 742.5,-110 742.5,-116 742.5,-116 742.5,-175 742.5,-175 742.5,-181 736.5,-187 730.5,-187\"/>\n<text text-anchor=\"middle\" x=\"676.5\" y=\"-171.8\" font-family=\"Helvetica,sans-Serif\" font-size=\"14.00\" fill=\"#000000\">alcohol &lt;= 12.725</text>\n<text text-anchor=\"middle\" x=\"676.5\" y=\"-156.8\" font-family=\"Helvetica,sans-Serif\" font-size=\"14.00\" fill=\"#000000\">entropy = 0.592</text>\n<text text-anchor=\"middle\" x=\"676.5\" y=\"-141.8\" font-family=\"Helvetica,sans-Serif\" font-size=\"14.00\" fill=\"#000000\">samples = 42</text>\n<text text-anchor=\"middle\" x=\"676.5\" y=\"-126.8\" font-family=\"Helvetica,sans-Serif\" font-size=\"14.00\" fill=\"#000000\">value = [36, 6, 0]</text>\n<text text-anchor=\"middle\" x=\"676.5\" y=\"-111.8\" font-family=\"Helvetica,sans-Serif\" font-size=\"14.00\" fill=\"#000000\">class = 琴酒</text>\n</g>\n<!-- 8&#45;&gt;10 -->\n<g id=\"edge10\" class=\"edge\">\n<title>8&#45;&gt;10</title>\n<path fill=\"none\" stroke=\"#000000\" d=\"M592.6179,-222.8796C602.674,-213.6031 613.423,-203.6874 623.7554,-194.1559\"/>\n<polygon fill=\"#000000\" stroke=\"#000000\" points=\"626.2124,-196.6511 631.1895,-187.2981 621.4661,-191.506 626.2124,-196.6511\"/>\n</g>\n<!-- 11 -->\n<g id=\"node12\" class=\"node\">\n<title>11</title>\n<path fill=\"#39e581\" stroke=\"#000000\" d=\"M694,-68C694,-68 603,-68 603,-68 597,-68 591,-62 591,-56 591,-56 591,-12 591,-12 591,-6 597,0 603,0 603,0 694,0 694,0 700,0 706,-6 706,-12 706,-12 706,-56 706,-56 706,-62 700,-68 694,-68\"/>\n<text text-anchor=\"middle\" x=\"648.5\" y=\"-52.8\" font-family=\"Helvetica,sans-Serif\" font-size=\"14.00\" fill=\"#000000\">entropy = 0.0</text>\n<text text-anchor=\"middle\" x=\"648.5\" y=\"-37.8\" font-family=\"Helvetica,sans-Serif\" font-size=\"14.00\" fill=\"#000000\">samples = 6</text>\n<text text-anchor=\"middle\" x=\"648.5\" y=\"-22.8\" font-family=\"Helvetica,sans-Serif\" font-size=\"14.00\" fill=\"#000000\">value = [0, 6, 0]</text>\n<text text-anchor=\"middle\" x=\"648.5\" y=\"-7.8\" font-family=\"Helvetica,sans-Serif\" font-size=\"14.00\" fill=\"#000000\">class = 雪莉</text>\n</g>\n<!-- 10&#45;&gt;11 -->\n<g id=\"edge11\" class=\"edge\">\n<title>10&#45;&gt;11</title>\n<path fill=\"none\" stroke=\"#000000\" d=\"M666.0738,-103.9815C663.9505,-95.5261 661.7096,-86.6026 659.565,-78.0623\"/>\n<polygon fill=\"#000000\" stroke=\"#000000\" points=\"662.9346,-77.1101 657.1043,-68.2637 656.1454,-78.815 662.9346,-77.1101\"/>\n</g>\n<!-- 12 -->\n<g id=\"node13\" class=\"node\">\n<title>12</title>\n<path fill=\"#e58139\" stroke=\"#000000\" d=\"M835,-68C835,-68 736,-68 736,-68 730,-68 724,-62 724,-56 724,-56 724,-12 724,-12 724,-6 730,0 736,0 736,0 835,0 835,0 841,0 847,-6 847,-12 847,-12 847,-56 847,-56 847,-62 841,-68 835,-68\"/>\n<text text-anchor=\"middle\" x=\"785.5\" y=\"-52.8\" font-family=\"Helvetica,sans-Serif\" font-size=\"14.00\" fill=\"#000000\">entropy = 0.0</text>\n<text text-anchor=\"middle\" x=\"785.5\" y=\"-37.8\" font-family=\"Helvetica,sans-Serif\" font-size=\"14.00\" fill=\"#000000\">samples = 36</text>\n<text text-anchor=\"middle\" x=\"785.5\" y=\"-22.8\" font-family=\"Helvetica,sans-Serif\" font-size=\"14.00\" fill=\"#000000\">value = [36, 0, 0]</text>\n<text text-anchor=\"middle\" x=\"785.5\" y=\"-7.8\" font-family=\"Helvetica,sans-Serif\" font-size=\"14.00\" fill=\"#000000\">class = 琴酒</text>\n</g>\n<!-- 10&#45;&gt;12 -->\n<g id=\"edge12\" class=\"edge\">\n<title>10&#45;&gt;12</title>\n<path fill=\"none\" stroke=\"#000000\" d=\"M717.0876,-103.9815C726.162,-94.6989 735.7879,-84.8522 744.8643,-75.5677\"/>\n<polygon fill=\"#000000\" stroke=\"#000000\" points=\"747.5169,-77.8611 752.0046,-68.2637 742.5113,-72.9678 747.5169,-77.8611\"/>\n</g>\n</g>\n</svg>\n"
          },
          "metadata": {
            "tags": []
          },
          "execution_count": 97
        }
      ]
    },
    {
      "cell_type": "markdown",
      "metadata": {
        "id": "R2jmPIIId4Hv",
        "colab_type": "text"
      },
      "source": [
        "# Part Two: RandomForest"
      ]
    },
    {
      "cell_type": "markdown",
      "metadata": {
        "id": "aiASpRwRicko",
        "colab_type": "text"
      },
      "source": [
        "## 1. Create and train the RandomForest model"
      ]
    },
    {
      "cell_type": "code",
      "metadata": {
        "id": "mNCa2z3ZdxVV",
        "colab_type": "code",
        "colab": {
          "base_uri": "https://localhost:8080/",
          "height": 35
        },
        "outputId": "3e3777ec-13d5-4c23-e89d-2f2a0ded60d8"
      },
      "source": [
        "from sklearn.ensemble import RandomForestClassifier\n",
        "\n",
        "rfc = RandomForestClassifier(n_estimators = 25)\n",
        "rfc.fit(x_train, y_train)\n",
        "result = rfc.score(x_test, y_test)\n",
        "result"
      ],
      "execution_count": 98,
      "outputs": [
        {
          "output_type": "execute_result",
          "data": {
            "text/plain": [
              "0.9629629629629629"
            ]
          },
          "metadata": {
            "tags": []
          },
          "execution_count": 98
        }
      ]
    },
    {
      "cell_type": "markdown",
      "metadata": {
        "id": "TgXCpLztikk5",
        "colab_type": "text"
      },
      "source": [
        "## 2. Decision Tree model fine tune (parameters adjusting)\n",
        "\n",
        "### Main parameters:\n",
        ">Parameters | Explanation\n",
        ">--- | --- \n",
        ">**Criterion** | entropy (more sensitive to impurity), gini(default)\n",
        ">**random_state** | to make the random all the same each time \n",
        ">**splitter _ 1:** | best (default) - the model will select the best features based on features importance\n",
        ">**splitter _ 2:**| random - the model will random select sqrt of features\n",
        ">**max_depth** | to avoid overfitting\n",
        ">**min_samples_leaf** & **min_samples_split** | numerical missing value as one class\n",
        ">**max_features** | categorical \n",
        ">**min_impurity_split** | if the info gain < the value, the split will not happen \n"
      ]
    },
    {
      "cell_type": "markdown",
      "metadata": {
        "id": "HN8MQbST_r30",
        "colab_type": "text"
      },
      "source": [
        "# Part Three: Decision Tree Limitations"
      ]
    },
    {
      "cell_type": "markdown",
      "metadata": {
        "id": "KesnbBJe_4fu",
        "colab_type": "text"
      },
      "source": [
        "- The current strategy of creating trees is greedy. We can only get the local optimal.\n",
        "\n",
        "It iwill find the largest information gain right now and split on that feature. We never consider the ramifications of that split futher down the tree. \n",
        "\n",
        "Finding a globally optimal tree is an extremely difficult task, and finding a tree using our greedy approach is reasonable substitute.\n",
        "\n",
        "- Another problem with our trees is that they potentially overfit the data. \n",
        "\n",
        "This means that the structure of the tree is too dependent on the training data and doesn't accurately represent the way the data in the real world looks like. In general, larger trees tend to overfit the data more. As the tree gets bigger, it becomes more tuned to the training data and it loses a more generalized understanding of the real world data\n",
        "\n",
        "One way to solve the overfitting problem is to prune the tree. The goal of pruning is to shrink the size of the tree. There are a few different pruning strategies. "
      ]
    },
    {
      "cell_type": "markdown",
      "metadata": {
        "id": "ZFO5Foh3vtot",
        "colab_type": "text"
      },
      "source": [
        "## Other notes: transform string variable into numerical"
      ]
    }
  ]
}
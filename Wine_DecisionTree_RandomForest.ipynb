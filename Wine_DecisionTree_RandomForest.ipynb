{
  "nbformat": 4,
  "nbformat_minor": 0,
  "metadata": {
    "colab": {
      "name": "Decision Tree from scratch to complete & Limitations.ipynb",
      "version": "0.3.2",
      "provenance": [],
      "include_colab_link": true
    },
    "kernelspec": {
      "name": "python3",
      "display_name": "Python 3"
    },
    "accelerator": "GPU"
  },
  "cells": [
    {
      "cell_type": "markdown",
      "metadata": {
        "id": "view-in-github",
        "colab_type": "text"
      },
      "source": [
        "<a href=\"https://colab.research.google.com/github/xslittlemaggie/Deep-Learning-Machine-Learning-Projects/blob/master/Wine_DecisionTree_RandomForest.ipynb\" target=\"_parent\"><img src=\"https://colab.research.google.com/assets/colab-badge.svg\" alt=\"Open In Colab\"/></a>"
      ]
    },
    {
      "cell_type": "markdown",
      "metadata": {
        "id": "N8Mw5oMHk3xd",
        "colab_type": "text"
      },
      "source": [
        "<h1><center> Wine with Decision Tree & Random Forest  </center></h1>\n",
        "\n",
        "The purpose of this project is to practice the ML techniques of **Decision Tree** & **Random Forest** with the sklearn built-in dataset **wine**, and compare the similarities and differences between  **Decision Tree** & **Random Forest**."
      ]
    },
    {
      "cell_type": "markdown",
      "metadata": {
        "id": "Y_Ei21woLs3U",
        "colab_type": "text"
      },
      "source": [
        "<h1>Table of contents</h1>\n",
        "\n",
        "<div class=\"alert alert-block alert-info\" style=\"margin-top: 24px\">\n",
        "    <ol>\n",
        "        <li><a href=\"#Part One\">Part One: Decision Tree from sklearn</a></li>\n",
        "      <li><a href=\"#Part Two\">Part Two: Random Forest from sklearn</a></li>\n",
        "      <li><a href=\"#Part Three\">Part Three: Comparson of Decision Tree & Random Forest</a></li>\n",
        "    </ol>\n",
        "</div>\n",
        "<br>\n",
        "<hr>"
      ]
    },
    {
      "cell_type": "markdown",
      "metadata": {
        "id": "saP4hAlVznIa",
        "colab_type": "text"
      },
      "source": [
        "## Import libraries"
      ]
    },
    {
      "cell_type": "code",
      "metadata": {
        "id": "mFtu2i227dLi",
        "colab_type": "code",
        "colab": {}
      },
      "source": [
        "import matplotlib.pyplot as plt\n",
        "import pandas as pd\n",
        "from sklearn.datasets import load_wine\n",
        "\n",
        "from sklearn.tree import DecisionTreeClassifier, export_graphviz\n",
        "from sklearn.model_selection import train_test_split\n",
        "from sklearn.ensemble import RandomForestClassifier\n",
        "from sklearn.model_selection import cross_val_score\n",
        "import matplotlib.pyplot as plt\n",
        "import numpy as np"
      ],
      "execution_count": 0,
      "outputs": []
    },
    {
      "cell_type": "markdown",
      "metadata": {
        "id": "-NwhCf_f7Z0y",
        "colab_type": "text"
      },
      "source": [
        "# Part One: Decision Tree"
      ]
    },
    {
      "cell_type": "markdown",
      "metadata": {
        "id": "X0PJi64q8JL0",
        "colab_type": "text"
      },
      "source": [
        "## 1. upload the wine dataset"
      ]
    },
    {
      "cell_type": "code",
      "metadata": {
        "id": "lM84mtX0UmFV",
        "colab_type": "code",
        "colab": {}
      },
      "source": [
        "wine = load_wine()"
      ],
      "execution_count": 0,
      "outputs": []
    },
    {
      "cell_type": "code",
      "metadata": {
        "id": "4L0oyud5UpCL",
        "colab_type": "code",
        "colab": {}
      },
      "source": [
        "X = wine.data\n",
        "y = wine.target\n",
        "feature_names = wine.feature_names\n",
        "target_names = wine.target_names"
      ],
      "execution_count": 0,
      "outputs": []
    },
    {
      "cell_type": "code",
      "metadata": {
        "id": "4gS3t_8pYZAw",
        "colab_type": "code",
        "outputId": "f69a2b8c-6d05-42ab-a549-288d0f44f02b",
        "colab": {
          "base_uri": "https://localhost:8080/",
          "height": 198
        }
      },
      "source": [
        "wine_df = pd.concat([pd.DataFrame(X), pd.DataFrame(y)], axis = 1)\n",
        "wine_df.head()"
      ],
      "execution_count": 94,
      "outputs": [
        {
          "output_type": "execute_result",
          "data": {
            "text/html": [
              "<div>\n",
              "<style scoped>\n",
              "    .dataframe tbody tr th:only-of-type {\n",
              "        vertical-align: middle;\n",
              "    }\n",
              "\n",
              "    .dataframe tbody tr th {\n",
              "        vertical-align: top;\n",
              "    }\n",
              "\n",
              "    .dataframe thead th {\n",
              "        text-align: right;\n",
              "    }\n",
              "</style>\n",
              "<table border=\"1\" class=\"dataframe\">\n",
              "  <thead>\n",
              "    <tr style=\"text-align: right;\">\n",
              "      <th></th>\n",
              "      <th>0</th>\n",
              "      <th>1</th>\n",
              "      <th>2</th>\n",
              "      <th>3</th>\n",
              "      <th>4</th>\n",
              "      <th>5</th>\n",
              "      <th>6</th>\n",
              "      <th>7</th>\n",
              "      <th>8</th>\n",
              "      <th>9</th>\n",
              "      <th>10</th>\n",
              "      <th>11</th>\n",
              "      <th>12</th>\n",
              "      <th>0</th>\n",
              "    </tr>\n",
              "  </thead>\n",
              "  <tbody>\n",
              "    <tr>\n",
              "      <th>0</th>\n",
              "      <td>14.23</td>\n",
              "      <td>1.71</td>\n",
              "      <td>2.43</td>\n",
              "      <td>15.6</td>\n",
              "      <td>127.0</td>\n",
              "      <td>2.80</td>\n",
              "      <td>3.06</td>\n",
              "      <td>0.28</td>\n",
              "      <td>2.29</td>\n",
              "      <td>5.64</td>\n",
              "      <td>1.04</td>\n",
              "      <td>3.92</td>\n",
              "      <td>1065.0</td>\n",
              "      <td>0</td>\n",
              "    </tr>\n",
              "    <tr>\n",
              "      <th>1</th>\n",
              "      <td>13.20</td>\n",
              "      <td>1.78</td>\n",
              "      <td>2.14</td>\n",
              "      <td>11.2</td>\n",
              "      <td>100.0</td>\n",
              "      <td>2.65</td>\n",
              "      <td>2.76</td>\n",
              "      <td>0.26</td>\n",
              "      <td>1.28</td>\n",
              "      <td>4.38</td>\n",
              "      <td>1.05</td>\n",
              "      <td>3.40</td>\n",
              "      <td>1050.0</td>\n",
              "      <td>0</td>\n",
              "    </tr>\n",
              "    <tr>\n",
              "      <th>2</th>\n",
              "      <td>13.16</td>\n",
              "      <td>2.36</td>\n",
              "      <td>2.67</td>\n",
              "      <td>18.6</td>\n",
              "      <td>101.0</td>\n",
              "      <td>2.80</td>\n",
              "      <td>3.24</td>\n",
              "      <td>0.30</td>\n",
              "      <td>2.81</td>\n",
              "      <td>5.68</td>\n",
              "      <td>1.03</td>\n",
              "      <td>3.17</td>\n",
              "      <td>1185.0</td>\n",
              "      <td>0</td>\n",
              "    </tr>\n",
              "    <tr>\n",
              "      <th>3</th>\n",
              "      <td>14.37</td>\n",
              "      <td>1.95</td>\n",
              "      <td>2.50</td>\n",
              "      <td>16.8</td>\n",
              "      <td>113.0</td>\n",
              "      <td>3.85</td>\n",
              "      <td>3.49</td>\n",
              "      <td>0.24</td>\n",
              "      <td>2.18</td>\n",
              "      <td>7.80</td>\n",
              "      <td>0.86</td>\n",
              "      <td>3.45</td>\n",
              "      <td>1480.0</td>\n",
              "      <td>0</td>\n",
              "    </tr>\n",
              "    <tr>\n",
              "      <th>4</th>\n",
              "      <td>13.24</td>\n",
              "      <td>2.59</td>\n",
              "      <td>2.87</td>\n",
              "      <td>21.0</td>\n",
              "      <td>118.0</td>\n",
              "      <td>2.80</td>\n",
              "      <td>2.69</td>\n",
              "      <td>0.39</td>\n",
              "      <td>1.82</td>\n",
              "      <td>4.32</td>\n",
              "      <td>1.04</td>\n",
              "      <td>2.93</td>\n",
              "      <td>735.0</td>\n",
              "      <td>0</td>\n",
              "    </tr>\n",
              "  </tbody>\n",
              "</table>\n",
              "</div>"
            ],
            "text/plain": [
              "      0     1     2     3      4     5   ...    8     9     10    11      12  0 \n",
              "0  14.23  1.71  2.43  15.6  127.0  2.80  ...  2.29  5.64  1.04  3.92  1065.0   0\n",
              "1  13.20  1.78  2.14  11.2  100.0  2.65  ...  1.28  4.38  1.05  3.40  1050.0   0\n",
              "2  13.16  2.36  2.67  18.6  101.0  2.80  ...  2.81  5.68  1.03  3.17  1185.0   0\n",
              "3  14.37  1.95  2.50  16.8  113.0  3.85  ...  2.18  7.80  0.86  3.45  1480.0   0\n",
              "4  13.24  2.59  2.87  21.0  118.0  2.80  ...  1.82  4.32  1.04  2.93   735.0   0\n",
              "\n",
              "[5 rows x 14 columns]"
            ]
          },
          "metadata": {
            "tags": []
          },
          "execution_count": 94
        }
      ]
    },
    {
      "cell_type": "markdown",
      "metadata": {
        "id": "awlEdwFj9GCR",
        "colab_type": "text"
      },
      "source": [
        "## 2. Split the data into training, testing datasets"
      ]
    },
    {
      "cell_type": "code",
      "metadata": {
        "id": "GmWAQWrI9LE6",
        "colab_type": "code",
        "colab": {}
      },
      "source": [
        "x_train, x_test, y_train, y_test = train_test_split(X, y, test_size = 0.3, random_state = 1)  # choose 30% of the data as validation dataset"
      ],
      "execution_count": 0,
      "outputs": []
    },
    {
      "cell_type": "markdown",
      "metadata": {
        "id": "j3xaYisj-U6D",
        "colab_type": "text"
      },
      "source": [
        "## 3. Create and train the Decision Tree model"
      ]
    },
    {
      "cell_type": "code",
      "metadata": {
        "id": "gNx6ER888MZw",
        "colab_type": "code",
        "outputId": "a35b14fd-c07c-42a9-ea52-65d6fd37c730",
        "colab": {
          "base_uri": "https://localhost:8080/",
          "height": 35
        }
      },
      "source": [
        "# create the model\n",
        "clf = DecisionTreeClassifier(random_state = 30)\n",
        "clf.fit(x_train, y_train)\n",
        "score = clf.score(x_test, y_test)\n",
        "score"
      ],
      "execution_count": 96,
      "outputs": [
        {
          "output_type": "execute_result",
          "data": {
            "text/plain": [
              "0.9074074074074074"
            ]
          },
          "metadata": {
            "tags": []
          },
          "execution_count": 96
        }
      ]
    },
    {
      "cell_type": "markdown",
      "metadata": {
        "id": "6cem4h1Mqm2N",
        "colab_type": "text"
      },
      "source": [
        "By default, the performance of the Decision Tree model is 90%."
      ]
    },
    {
      "cell_type": "markdown",
      "metadata": {
        "id": "kDDz_EPsWqjt",
        "colab_type": "text"
      },
      "source": [
        "## 4. Decision Tree Visualization"
      ]
    },
    {
      "cell_type": "code",
      "metadata": {
        "id": "iQtjGVEIYA1E",
        "colab_type": "code",
        "colab": {}
      },
      "source": [
        "#!pip install graphviz"
      ],
      "execution_count": 0,
      "outputs": []
    },
    {
      "cell_type": "code",
      "metadata": {
        "id": "_tfDJBZjYIbN",
        "colab_type": "code",
        "outputId": "6c68f6c3-c19b-4926-b890-fc99a37688ed",
        "colab": {
          "base_uri": "https://localhost:8080/",
          "height": 1000
        }
      },
      "source": [
        "#feature_name = [\"酒精\", \"苹果酸\", \"灰\", \"灰的碱性\", \"镁\", \"总酚\", \"类黄酮\", \"非黄烷类酚类\", \"花青素\", \"颜色强度\", \"色调\", \"od280/od315稀释葡萄酒\", \"脯氨酸\"]\n",
        "import graphviz\n",
        "\n",
        "dot_data = export_graphviz(clf\n",
        "                           ,feature_names = feature_names\n",
        "                          ,class_names = [\"琴酒\", \"雪莉\", \"贝尔摩德\"] # target_names\n",
        "                          ,filled = True\n",
        "                          ,rounded = True\n",
        "                          )\n",
        "graph = graphviz.Source(dot_data)\n",
        "graph"
      ],
      "execution_count": 98,
      "outputs": [
        {
          "output_type": "execute_result",
          "data": {
            "text/plain": [
              "<graphviz.files.Source at 0x7f6a7e241588>"
            ],
            "image/svg+xml": "<?xml version=\"1.0\" encoding=\"UTF-8\" standalone=\"no\"?>\n<!DOCTYPE svg PUBLIC \"-//W3C//DTD SVG 1.1//EN\"\n \"http://www.w3.org/Graphics/SVG/1.1/DTD/svg11.dtd\">\n<!-- Generated by graphviz version 2.40.1 (20161225.0304)\n -->\n<!-- Title: Tree Pages: 1 -->\n<svg width=\"597pt\" height=\"790pt\"\n viewBox=\"0.00 0.00 597.00 790.00\" xmlns=\"http://www.w3.org/2000/svg\" xmlns:xlink=\"http://www.w3.org/1999/xlink\">\n<g id=\"graph0\" class=\"graph\" transform=\"scale(1 1) rotate(0) translate(4 786)\">\n<title>Tree</title>\n<polygon fill=\"#ffffff\" stroke=\"transparent\" points=\"-4,4 -4,-786 593,-786 593,4 -4,4\"/>\n<!-- 0 -->\n<g id=\"node1\" class=\"node\">\n<title>0</title>\n<path fill=\"#dbfae8\" stroke=\"#000000\" d=\"M287,-782C287,-782 168,-782 168,-782 162,-782 156,-776 156,-770 156,-770 156,-711 156,-711 156,-705 162,-699 168,-699 168,-699 287,-699 287,-699 293,-699 299,-705 299,-711 299,-711 299,-770 299,-770 299,-776 293,-782 287,-782\"/>\n<text text-anchor=\"middle\" x=\"227.5\" y=\"-766.8\" font-family=\"Helvetica,sans-Serif\" font-size=\"14.00\" fill=\"#000000\">flavanoids &lt;= 0.975</text>\n<text text-anchor=\"middle\" x=\"227.5\" y=\"-751.8\" font-family=\"Helvetica,sans-Serif\" font-size=\"14.00\" fill=\"#000000\">gini = 0.656</text>\n<text text-anchor=\"middle\" x=\"227.5\" y=\"-736.8\" font-family=\"Helvetica,sans-Serif\" font-size=\"14.00\" fill=\"#000000\">samples = 124</text>\n<text text-anchor=\"middle\" x=\"227.5\" y=\"-721.8\" font-family=\"Helvetica,sans-Serif\" font-size=\"14.00\" fill=\"#000000\">value = [36, 52, 36]</text>\n<text text-anchor=\"middle\" x=\"227.5\" y=\"-706.8\" font-family=\"Helvetica,sans-Serif\" font-size=\"14.00\" fill=\"#000000\">class = 雪莉</text>\n</g>\n<!-- 1 -->\n<g id=\"node2\" class=\"node\">\n<title>1</title>\n<path fill=\"#8139e5\" stroke=\"#000000\" d=\"M205,-655.5C205,-655.5 106,-655.5 106,-655.5 100,-655.5 94,-649.5 94,-643.5 94,-643.5 94,-599.5 94,-599.5 94,-593.5 100,-587.5 106,-587.5 106,-587.5 205,-587.5 205,-587.5 211,-587.5 217,-593.5 217,-599.5 217,-599.5 217,-643.5 217,-643.5 217,-649.5 211,-655.5 205,-655.5\"/>\n<text text-anchor=\"middle\" x=\"155.5\" y=\"-640.3\" font-family=\"Helvetica,sans-Serif\" font-size=\"14.00\" fill=\"#000000\">gini = 0.0</text>\n<text text-anchor=\"middle\" x=\"155.5\" y=\"-625.3\" font-family=\"Helvetica,sans-Serif\" font-size=\"14.00\" fill=\"#000000\">samples = 30</text>\n<text text-anchor=\"middle\" x=\"155.5\" y=\"-610.3\" font-family=\"Helvetica,sans-Serif\" font-size=\"14.00\" fill=\"#000000\">value = [0, 0, 30]</text>\n<text text-anchor=\"middle\" x=\"155.5\" y=\"-595.3\" font-family=\"Helvetica,sans-Serif\" font-size=\"14.00\" fill=\"#000000\">class = 贝尔摩德</text>\n</g>\n<!-- 0&#45;&gt;1 -->\n<g id=\"edge1\" class=\"edge\">\n<title>0&#45;&gt;1</title>\n<path fill=\"none\" stroke=\"#000000\" d=\"M202.3179,-698.8796C195.5983,-687.7735 188.3243,-675.7513 181.5586,-664.5691\"/>\n<polygon fill=\"#000000\" stroke=\"#000000\" points=\"184.4332,-662.5589 176.262,-655.8149 178.4441,-666.1826 184.4332,-662.5589\"/>\n<text text-anchor=\"middle\" x=\"170.2883\" y=\"-676.3908\" font-family=\"Helvetica,sans-Serif\" font-size=\"14.00\" fill=\"#000000\">True</text>\n</g>\n<!-- 2 -->\n<g id=\"node3\" class=\"node\">\n<title>2</title>\n<path fill=\"#c8f8dc\" stroke=\"#000000\" d=\"M354,-663C354,-663 247,-663 247,-663 241,-663 235,-657 235,-651 235,-651 235,-592 235,-592 235,-586 241,-580 247,-580 247,-580 354,-580 354,-580 360,-580 366,-586 366,-592 366,-592 366,-651 366,-651 366,-657 360,-663 354,-663\"/>\n<text text-anchor=\"middle\" x=\"300.5\" y=\"-647.8\" font-family=\"Helvetica,sans-Serif\" font-size=\"14.00\" fill=\"#000000\">proline &lt;= 760.0</text>\n<text text-anchor=\"middle\" x=\"300.5\" y=\"-632.8\" font-family=\"Helvetica,sans-Serif\" font-size=\"14.00\" fill=\"#000000\">gini = 0.543</text>\n<text text-anchor=\"middle\" x=\"300.5\" y=\"-617.8\" font-family=\"Helvetica,sans-Serif\" font-size=\"14.00\" fill=\"#000000\">samples = 94</text>\n<text text-anchor=\"middle\" x=\"300.5\" y=\"-602.8\" font-family=\"Helvetica,sans-Serif\" font-size=\"14.00\" fill=\"#000000\">value = [36, 52, 6]</text>\n<text text-anchor=\"middle\" x=\"300.5\" y=\"-587.8\" font-family=\"Helvetica,sans-Serif\" font-size=\"14.00\" fill=\"#000000\">class = 雪莉</text>\n</g>\n<!-- 0&#45;&gt;2 -->\n<g id=\"edge2\" class=\"edge\">\n<title>0&#45;&gt;2</title>\n<path fill=\"none\" stroke=\"#000000\" d=\"M253.0319,-698.8796C258.391,-690.1434 264.0979,-680.8404 269.6282,-671.8253\"/>\n<polygon fill=\"#000000\" stroke=\"#000000\" points=\"272.6135,-673.6522 274.8592,-663.2981 266.6467,-669.9919 272.6135,-673.6522\"/>\n<text text-anchor=\"middle\" x=\"280.6839\" y=\"-683.9101\" font-family=\"Helvetica,sans-Serif\" font-size=\"14.00\" fill=\"#000000\">False</text>\n</g>\n<!-- 3 -->\n<g id=\"node4\" class=\"node\">\n<title>3</title>\n<path fill=\"#55e993\" stroke=\"#000000\" d=\"M319,-544C319,-544 62,-544 62,-544 56,-544 50,-538 50,-532 50,-532 50,-473 50,-473 50,-467 56,-461 62,-461 62,-461 319,-461 319,-461 325,-461 331,-467 331,-473 331,-473 331,-532 331,-532 331,-538 325,-544 319,-544\"/>\n<text text-anchor=\"middle\" x=\"190.5\" y=\"-528.8\" font-family=\"Helvetica,sans-Serif\" font-size=\"14.00\" fill=\"#000000\">od280/od315_of_diluted_wines &lt;= 1.505</text>\n<text text-anchor=\"middle\" x=\"190.5\" y=\"-513.8\" font-family=\"Helvetica,sans-Serif\" font-size=\"14.00\" fill=\"#000000\">gini = 0.223</text>\n<text text-anchor=\"middle\" x=\"190.5\" y=\"-498.8\" font-family=\"Helvetica,sans-Serif\" font-size=\"14.00\" fill=\"#000000\">samples = 56</text>\n<text text-anchor=\"middle\" x=\"190.5\" y=\"-483.8\" font-family=\"Helvetica,sans-Serif\" font-size=\"14.00\" fill=\"#000000\">value = [1, 49, 6]</text>\n<text text-anchor=\"middle\" x=\"190.5\" y=\"-468.8\" font-family=\"Helvetica,sans-Serif\" font-size=\"14.00\" fill=\"#000000\">class = 雪莉</text>\n</g>\n<!-- 2&#45;&gt;3 -->\n<g id=\"edge3\" class=\"edge\">\n<title>2&#45;&gt;3</title>\n<path fill=\"none\" stroke=\"#000000\" d=\"M262.0273,-579.8796C253.6189,-570.7832 244.6424,-561.0722 235.9897,-551.7116\"/>\n<polygon fill=\"#000000\" stroke=\"#000000\" points=\"238.495,-549.2656 229.1369,-544.2981 233.3547,-554.0172 238.495,-549.2656\"/>\n</g>\n<!-- 12 -->\n<g id=\"node13\" class=\"node\">\n<title>12</title>\n<path fill=\"#e78c4a\" stroke=\"#000000\" d=\"M461.5,-544C461.5,-544 361.5,-544 361.5,-544 355.5,-544 349.5,-538 349.5,-532 349.5,-532 349.5,-473 349.5,-473 349.5,-467 355.5,-461 361.5,-461 361.5,-461 461.5,-461 461.5,-461 467.5,-461 473.5,-467 473.5,-473 473.5,-473 473.5,-532 473.5,-532 473.5,-538 467.5,-544 461.5,-544\"/>\n<text text-anchor=\"middle\" x=\"411.5\" y=\"-528.8\" font-family=\"Helvetica,sans-Serif\" font-size=\"14.00\" fill=\"#000000\">alcohol &lt;= 12.66</text>\n<text text-anchor=\"middle\" x=\"411.5\" y=\"-513.8\" font-family=\"Helvetica,sans-Serif\" font-size=\"14.00\" fill=\"#000000\">gini = 0.145</text>\n<text text-anchor=\"middle\" x=\"411.5\" y=\"-498.8\" font-family=\"Helvetica,sans-Serif\" font-size=\"14.00\" fill=\"#000000\">samples = 38</text>\n<text text-anchor=\"middle\" x=\"411.5\" y=\"-483.8\" font-family=\"Helvetica,sans-Serif\" font-size=\"14.00\" fill=\"#000000\">value = [35, 3, 0]</text>\n<text text-anchor=\"middle\" x=\"411.5\" y=\"-468.8\" font-family=\"Helvetica,sans-Serif\" font-size=\"14.00\" fill=\"#000000\">class = 琴酒</text>\n</g>\n<!-- 2&#45;&gt;12 -->\n<g id=\"edge12\" class=\"edge\">\n<title>2&#45;&gt;12</title>\n<path fill=\"none\" stroke=\"#000000\" d=\"M339.3224,-579.8796C347.8073,-570.7832 356.8654,-561.0722 365.5968,-551.7116\"/>\n<polygon fill=\"#000000\" stroke=\"#000000\" points=\"368.2503,-553.9981 372.5119,-544.2981 363.1314,-549.2233 368.2503,-553.9981\"/>\n</g>\n<!-- 4 -->\n<g id=\"node5\" class=\"node\">\n<title>4</title>\n<path fill=\"#8139e5\" stroke=\"#000000\" d=\"M120,-417.5C120,-417.5 21,-417.5 21,-417.5 15,-417.5 9,-411.5 9,-405.5 9,-405.5 9,-361.5 9,-361.5 9,-355.5 15,-349.5 21,-349.5 21,-349.5 120,-349.5 120,-349.5 126,-349.5 132,-355.5 132,-361.5 132,-361.5 132,-405.5 132,-405.5 132,-411.5 126,-417.5 120,-417.5\"/>\n<text text-anchor=\"middle\" x=\"70.5\" y=\"-402.3\" font-family=\"Helvetica,sans-Serif\" font-size=\"14.00\" fill=\"#000000\">gini = 0.0</text>\n<text text-anchor=\"middle\" x=\"70.5\" y=\"-387.3\" font-family=\"Helvetica,sans-Serif\" font-size=\"14.00\" fill=\"#000000\">samples = 5</text>\n<text text-anchor=\"middle\" x=\"70.5\" y=\"-372.3\" font-family=\"Helvetica,sans-Serif\" font-size=\"14.00\" fill=\"#000000\">value = [0, 0, 5]</text>\n<text text-anchor=\"middle\" x=\"70.5\" y=\"-357.3\" font-family=\"Helvetica,sans-Serif\" font-size=\"14.00\" fill=\"#000000\">class = 贝尔摩德</text>\n</g>\n<!-- 3&#45;&gt;4 -->\n<g id=\"edge4\" class=\"edge\">\n<title>3&#45;&gt;4</title>\n<path fill=\"none\" stroke=\"#000000\" d=\"M148.5298,-460.8796C136.776,-449.2237 124.0046,-436.5587 112.2628,-424.9148\"/>\n<polygon fill=\"#000000\" stroke=\"#000000\" points=\"114.6684,-422.3712 105.1033,-417.8149 109.7394,-427.3416 114.6684,-422.3712\"/>\n</g>\n<!-- 5 -->\n<g id=\"node6\" class=\"node\">\n<title>5</title>\n<path fill=\"#41e686\" stroke=\"#000000\" d=\"M261,-425C261,-425 162,-425 162,-425 156,-425 150,-419 150,-413 150,-413 150,-354 150,-354 150,-348 156,-342 162,-342 162,-342 261,-342 261,-342 267,-342 273,-348 273,-354 273,-354 273,-413 273,-413 273,-419 267,-425 261,-425\"/>\n<text text-anchor=\"middle\" x=\"211.5\" y=\"-409.8\" font-family=\"Helvetica,sans-Serif\" font-size=\"14.00\" fill=\"#000000\">alcohol &lt;= 14.1</text>\n<text text-anchor=\"middle\" x=\"211.5\" y=\"-394.8\" font-family=\"Helvetica,sans-Serif\" font-size=\"14.00\" fill=\"#000000\">gini = 0.076</text>\n<text text-anchor=\"middle\" x=\"211.5\" y=\"-379.8\" font-family=\"Helvetica,sans-Serif\" font-size=\"14.00\" fill=\"#000000\">samples = 51</text>\n<text text-anchor=\"middle\" x=\"211.5\" y=\"-364.8\" font-family=\"Helvetica,sans-Serif\" font-size=\"14.00\" fill=\"#000000\">value = [1, 49, 1]</text>\n<text text-anchor=\"middle\" x=\"211.5\" y=\"-349.8\" font-family=\"Helvetica,sans-Serif\" font-size=\"14.00\" fill=\"#000000\">class = 雪莉</text>\n</g>\n<!-- 3&#45;&gt;5 -->\n<g id=\"edge5\" class=\"edge\">\n<title>3&#45;&gt;5</title>\n<path fill=\"none\" stroke=\"#000000\" d=\"M197.8448,-460.8796C199.307,-452.5938 200.8592,-443.798 202.3727,-435.2216\"/>\n<polygon fill=\"#000000\" stroke=\"#000000\" points=\"205.8327,-435.7542 204.1239,-425.2981 198.9392,-434.5376 205.8327,-435.7542\"/>\n</g>\n<!-- 6 -->\n<g id=\"node7\" class=\"node\">\n<title>6</title>\n<path fill=\"#3de684\" stroke=\"#000000\" d=\"M196.5,-306C196.5,-306 74.5,-306 74.5,-306 68.5,-306 62.5,-300 62.5,-294 62.5,-294 62.5,-235 62.5,-235 62.5,-229 68.5,-223 74.5,-223 74.5,-223 196.5,-223 196.5,-223 202.5,-223 208.5,-229 208.5,-235 208.5,-235 208.5,-294 208.5,-294 208.5,-300 202.5,-306 196.5,-306\"/>\n<text text-anchor=\"middle\" x=\"135.5\" y=\"-290.8\" font-family=\"Helvetica,sans-Serif\" font-size=\"14.00\" fill=\"#000000\">malic_acid &lt;= 3.925</text>\n<text text-anchor=\"middle\" x=\"135.5\" y=\"-275.8\" font-family=\"Helvetica,sans-Serif\" font-size=\"14.00\" fill=\"#000000\">gini = 0.039</text>\n<text text-anchor=\"middle\" x=\"135.5\" y=\"-260.8\" font-family=\"Helvetica,sans-Serif\" font-size=\"14.00\" fill=\"#000000\">samples = 50</text>\n<text text-anchor=\"middle\" x=\"135.5\" y=\"-245.8\" font-family=\"Helvetica,sans-Serif\" font-size=\"14.00\" fill=\"#000000\">value = [1, 49, 0]</text>\n<text text-anchor=\"middle\" x=\"135.5\" y=\"-230.8\" font-family=\"Helvetica,sans-Serif\" font-size=\"14.00\" fill=\"#000000\">class = 雪莉</text>\n</g>\n<!-- 5&#45;&gt;6 -->\n<g id=\"edge6\" class=\"edge\">\n<title>5&#45;&gt;6</title>\n<path fill=\"none\" stroke=\"#000000\" d=\"M184.9189,-341.8796C179.3395,-333.1434 173.3981,-323.8404 167.6405,-314.8253\"/>\n<polygon fill=\"#000000\" stroke=\"#000000\" points=\"170.5269,-312.8421 162.1946,-306.2981 164.6274,-316.6098 170.5269,-312.8421\"/>\n</g>\n<!-- 11 -->\n<g id=\"node12\" class=\"node\">\n<title>11</title>\n<path fill=\"#8139e5\" stroke=\"#000000\" d=\"M338,-298.5C338,-298.5 239,-298.5 239,-298.5 233,-298.5 227,-292.5 227,-286.5 227,-286.5 227,-242.5 227,-242.5 227,-236.5 233,-230.5 239,-230.5 239,-230.5 338,-230.5 338,-230.5 344,-230.5 350,-236.5 350,-242.5 350,-242.5 350,-286.5 350,-286.5 350,-292.5 344,-298.5 338,-298.5\"/>\n<text text-anchor=\"middle\" x=\"288.5\" y=\"-283.3\" font-family=\"Helvetica,sans-Serif\" font-size=\"14.00\" fill=\"#000000\">gini = 0.0</text>\n<text text-anchor=\"middle\" x=\"288.5\" y=\"-268.3\" font-family=\"Helvetica,sans-Serif\" font-size=\"14.00\" fill=\"#000000\">samples = 1</text>\n<text text-anchor=\"middle\" x=\"288.5\" y=\"-253.3\" font-family=\"Helvetica,sans-Serif\" font-size=\"14.00\" fill=\"#000000\">value = [0, 0, 1]</text>\n<text text-anchor=\"middle\" x=\"288.5\" y=\"-238.3\" font-family=\"Helvetica,sans-Serif\" font-size=\"14.00\" fill=\"#000000\">class = 贝尔摩德</text>\n</g>\n<!-- 5&#45;&gt;11 -->\n<g id=\"edge11\" class=\"edge\">\n<title>5&#45;&gt;11</title>\n<path fill=\"none\" stroke=\"#000000\" d=\"M238.4309,-341.8796C245.6883,-330.6636 253.5503,-318.5131 260.8465,-307.2372\"/>\n<polygon fill=\"#000000\" stroke=\"#000000\" points=\"263.8022,-309.112 266.2962,-298.8149 257.9252,-305.3093 263.8022,-309.112\"/>\n</g>\n<!-- 7 -->\n<g id=\"node8\" class=\"node\">\n<title>7</title>\n<path fill=\"#39e581\" stroke=\"#000000\" d=\"M111,-179.5C111,-179.5 12,-179.5 12,-179.5 6,-179.5 0,-173.5 0,-167.5 0,-167.5 0,-123.5 0,-123.5 0,-117.5 6,-111.5 12,-111.5 12,-111.5 111,-111.5 111,-111.5 117,-111.5 123,-117.5 123,-123.5 123,-123.5 123,-167.5 123,-167.5 123,-173.5 117,-179.5 111,-179.5\"/>\n<text text-anchor=\"middle\" x=\"61.5\" y=\"-164.3\" font-family=\"Helvetica,sans-Serif\" font-size=\"14.00\" fill=\"#000000\">gini = 0.0</text>\n<text text-anchor=\"middle\" x=\"61.5\" y=\"-149.3\" font-family=\"Helvetica,sans-Serif\" font-size=\"14.00\" fill=\"#000000\">samples = 45</text>\n<text text-anchor=\"middle\" x=\"61.5\" y=\"-134.3\" font-family=\"Helvetica,sans-Serif\" font-size=\"14.00\" fill=\"#000000\">value = [0, 45, 0]</text>\n<text text-anchor=\"middle\" x=\"61.5\" y=\"-119.3\" font-family=\"Helvetica,sans-Serif\" font-size=\"14.00\" fill=\"#000000\">class = 雪莉</text>\n</g>\n<!-- 6&#45;&gt;7 -->\n<g id=\"edge7\" class=\"edge\">\n<title>6&#45;&gt;7</title>\n<path fill=\"none\" stroke=\"#000000\" d=\"M109.6184,-222.8796C102.7121,-211.7735 95.2361,-199.7513 88.2825,-188.5691\"/>\n<polygon fill=\"#000000\" stroke=\"#000000\" points=\"91.0917,-186.4587 82.8387,-179.8149 85.1473,-190.1552 91.0917,-186.4587\"/>\n</g>\n<!-- 8 -->\n<g id=\"node9\" class=\"node\">\n<title>8</title>\n<path fill=\"#6aeca0\" stroke=\"#000000\" d=\"M267.5,-187C267.5,-187 153.5,-187 153.5,-187 147.5,-187 141.5,-181 141.5,-175 141.5,-175 141.5,-116 141.5,-116 141.5,-110 147.5,-104 153.5,-104 153.5,-104 267.5,-104 267.5,-104 273.5,-104 279.5,-110 279.5,-116 279.5,-116 279.5,-175 279.5,-175 279.5,-181 273.5,-187 267.5,-187\"/>\n<text text-anchor=\"middle\" x=\"210.5\" y=\"-171.8\" font-family=\"Helvetica,sans-Serif\" font-size=\"14.00\" fill=\"#000000\">malic_acid &lt;= 4.14</text>\n<text text-anchor=\"middle\" x=\"210.5\" y=\"-156.8\" font-family=\"Helvetica,sans-Serif\" font-size=\"14.00\" fill=\"#000000\">gini = 0.32</text>\n<text text-anchor=\"middle\" x=\"210.5\" y=\"-141.8\" font-family=\"Helvetica,sans-Serif\" font-size=\"14.00\" fill=\"#000000\">samples = 5</text>\n<text text-anchor=\"middle\" x=\"210.5\" y=\"-126.8\" font-family=\"Helvetica,sans-Serif\" font-size=\"14.00\" fill=\"#000000\">value = [1, 4, 0]</text>\n<text text-anchor=\"middle\" x=\"210.5\" y=\"-111.8\" font-family=\"Helvetica,sans-Serif\" font-size=\"14.00\" fill=\"#000000\">class = 雪莉</text>\n</g>\n<!-- 6&#45;&gt;8 -->\n<g id=\"edge8\" class=\"edge\">\n<title>6&#45;&gt;8</title>\n<path fill=\"none\" stroke=\"#000000\" d=\"M161.7314,-222.8796C167.2373,-214.1434 173.1006,-204.8404 178.7824,-195.8253\"/>\n<polygon fill=\"#000000\" stroke=\"#000000\" points=\"181.7857,-197.6242 184.1567,-187.2981 175.8637,-193.8919 181.7857,-197.6242\"/>\n</g>\n<!-- 9 -->\n<g id=\"node10\" class=\"node\">\n<title>9</title>\n<path fill=\"#e58139\" stroke=\"#000000\" d=\"M190,-68C190,-68 99,-68 99,-68 93,-68 87,-62 87,-56 87,-56 87,-12 87,-12 87,-6 93,0 99,0 99,0 190,0 190,0 196,0 202,-6 202,-12 202,-12 202,-56 202,-56 202,-62 196,-68 190,-68\"/>\n<text text-anchor=\"middle\" x=\"144.5\" y=\"-52.8\" font-family=\"Helvetica,sans-Serif\" font-size=\"14.00\" fill=\"#000000\">gini = 0.0</text>\n<text text-anchor=\"middle\" x=\"144.5\" y=\"-37.8\" font-family=\"Helvetica,sans-Serif\" font-size=\"14.00\" fill=\"#000000\">samples = 1</text>\n<text text-anchor=\"middle\" x=\"144.5\" y=\"-22.8\" font-family=\"Helvetica,sans-Serif\" font-size=\"14.00\" fill=\"#000000\">value = [1, 0, 0]</text>\n<text text-anchor=\"middle\" x=\"144.5\" y=\"-7.8\" font-family=\"Helvetica,sans-Serif\" font-size=\"14.00\" fill=\"#000000\">class = 琴酒</text>\n</g>\n<!-- 8&#45;&gt;9 -->\n<g id=\"edge9\" class=\"edge\">\n<title>8&#45;&gt;9</title>\n<path fill=\"none\" stroke=\"#000000\" d=\"M185.924,-103.9815C180.7014,-95.1585 175.1771,-85.8258 169.9237,-76.9506\"/>\n<polygon fill=\"#000000\" stroke=\"#000000\" points=\"172.8874,-75.0863 164.7816,-68.2637 166.8636,-78.652 172.8874,-75.0863\"/>\n</g>\n<!-- 10 -->\n<g id=\"node11\" class=\"node\">\n<title>10</title>\n<path fill=\"#39e581\" stroke=\"#000000\" d=\"M323,-68C323,-68 232,-68 232,-68 226,-68 220,-62 220,-56 220,-56 220,-12 220,-12 220,-6 226,0 232,0 232,0 323,0 323,0 329,0 335,-6 335,-12 335,-12 335,-56 335,-56 335,-62 329,-68 323,-68\"/>\n<text text-anchor=\"middle\" x=\"277.5\" y=\"-52.8\" font-family=\"Helvetica,sans-Serif\" font-size=\"14.00\" fill=\"#000000\">gini = 0.0</text>\n<text text-anchor=\"middle\" x=\"277.5\" y=\"-37.8\" font-family=\"Helvetica,sans-Serif\" font-size=\"14.00\" fill=\"#000000\">samples = 4</text>\n<text text-anchor=\"middle\" x=\"277.5\" y=\"-22.8\" font-family=\"Helvetica,sans-Serif\" font-size=\"14.00\" fill=\"#000000\">value = [0, 4, 0]</text>\n<text text-anchor=\"middle\" x=\"277.5\" y=\"-7.8\" font-family=\"Helvetica,sans-Serif\" font-size=\"14.00\" fill=\"#000000\">class = 雪莉</text>\n</g>\n<!-- 8&#45;&gt;10 -->\n<g id=\"edge10\" class=\"edge\">\n<title>8&#45;&gt;10</title>\n<path fill=\"none\" stroke=\"#000000\" d=\"M235.4483,-103.9815C240.7501,-95.1585 246.3581,-85.8258 251.6911,-76.9506\"/>\n<polygon fill=\"#000000\" stroke=\"#000000\" points=\"254.7605,-78.638 256.9111,-68.2637 248.7604,-75.0325 254.7605,-78.638\"/>\n</g>\n<!-- 13 -->\n<g id=\"node14\" class=\"node\">\n<title>13</title>\n<path fill=\"#39e581\" stroke=\"#000000\" d=\"M436,-417.5C436,-417.5 345,-417.5 345,-417.5 339,-417.5 333,-411.5 333,-405.5 333,-405.5 333,-361.5 333,-361.5 333,-355.5 339,-349.5 345,-349.5 345,-349.5 436,-349.5 436,-349.5 442,-349.5 448,-355.5 448,-361.5 448,-361.5 448,-405.5 448,-405.5 448,-411.5 442,-417.5 436,-417.5\"/>\n<text text-anchor=\"middle\" x=\"390.5\" y=\"-402.3\" font-family=\"Helvetica,sans-Serif\" font-size=\"14.00\" fill=\"#000000\">gini = 0.0</text>\n<text text-anchor=\"middle\" x=\"390.5\" y=\"-387.3\" font-family=\"Helvetica,sans-Serif\" font-size=\"14.00\" fill=\"#000000\">samples = 3</text>\n<text text-anchor=\"middle\" x=\"390.5\" y=\"-372.3\" font-family=\"Helvetica,sans-Serif\" font-size=\"14.00\" fill=\"#000000\">value = [0, 3, 0]</text>\n<text text-anchor=\"middle\" x=\"390.5\" y=\"-357.3\" font-family=\"Helvetica,sans-Serif\" font-size=\"14.00\" fill=\"#000000\">class = 雪莉</text>\n</g>\n<!-- 12&#45;&gt;13 -->\n<g id=\"edge13\" class=\"edge\">\n<title>12&#45;&gt;13</title>\n<path fill=\"none\" stroke=\"#000000\" d=\"M404.1552,-460.8796C402.2729,-450.2134 400.2415,-438.7021 398.3356,-427.9015\"/>\n<polygon fill=\"#000000\" stroke=\"#000000\" points=\"401.7403,-427.0545 396.5556,-417.8149 394.8468,-428.2711 401.7403,-427.0545\"/>\n</g>\n<!-- 14 -->\n<g id=\"node15\" class=\"node\">\n<title>14</title>\n<path fill=\"#e58139\" stroke=\"#000000\" d=\"M577,-417.5C577,-417.5 478,-417.5 478,-417.5 472,-417.5 466,-411.5 466,-405.5 466,-405.5 466,-361.5 466,-361.5 466,-355.5 472,-349.5 478,-349.5 478,-349.5 577,-349.5 577,-349.5 583,-349.5 589,-355.5 589,-361.5 589,-361.5 589,-405.5 589,-405.5 589,-411.5 583,-417.5 577,-417.5\"/>\n<text text-anchor=\"middle\" x=\"527.5\" y=\"-402.3\" font-family=\"Helvetica,sans-Serif\" font-size=\"14.00\" fill=\"#000000\">gini = 0.0</text>\n<text text-anchor=\"middle\" x=\"527.5\" y=\"-387.3\" font-family=\"Helvetica,sans-Serif\" font-size=\"14.00\" fill=\"#000000\">samples = 35</text>\n<text text-anchor=\"middle\" x=\"527.5\" y=\"-372.3\" font-family=\"Helvetica,sans-Serif\" font-size=\"14.00\" fill=\"#000000\">value = [35, 0, 0]</text>\n<text text-anchor=\"middle\" x=\"527.5\" y=\"-357.3\" font-family=\"Helvetica,sans-Serif\" font-size=\"14.00\" fill=\"#000000\">class = 琴酒</text>\n</g>\n<!-- 12&#45;&gt;14 -->\n<g id=\"edge14\" class=\"edge\">\n<title>12&#45;&gt;14</title>\n<path fill=\"none\" stroke=\"#000000\" d=\"M452.0712,-460.8796C463.326,-449.3337 475.5461,-436.7976 486.8078,-425.2446\"/>\n<polygon fill=\"#000000\" stroke=\"#000000\" points=\"489.5762,-427.4188 494.0501,-417.8149 484.5636,-422.5326 489.5762,-427.4188\"/>\n</g>\n</g>\n</svg>\n"
          },
          "metadata": {
            "tags": []
          },
          "execution_count": 98
        }
      ]
    },
    {
      "cell_type": "markdown",
      "metadata": {
        "id": "IEJefQF7cgYu",
        "colab_type": "text"
      },
      "source": [
        "From the tree graph above, only three features are used to determine the tree. "
      ]
    },
    {
      "cell_type": "code",
      "metadata": {
        "id": "sEBK2DMscqTk",
        "colab_type": "code",
        "outputId": "9b22f213-a4b0-430d-9bf7-b2f6603eeef0",
        "colab": {
          "base_uri": "https://localhost:8080/",
          "height": 242
        }
      },
      "source": [
        "feature_importance = [*zip(feature_names, clf.feature_importances_)]\n",
        "sorted_feature_importance = sorted(feature_importance, key = lambda x: x[1], reverse = True)\n",
        "sorted_feature_importance"
      ],
      "execution_count": 99,
      "outputs": [
        {
          "output_type": "execute_result",
          "data": {
            "text/plain": [
              "[('proline', 0.40685320507448963),\n",
              " ('flavanoids', 0.37183383991894625),\n",
              " ('od280/od315_of_diluted_wines', 0.1055713952247566),\n",
              " ('alcohol', 0.09163044867069634),\n",
              " ('malic_acid', 0.024111111111111114),\n",
              " ('ash', 0.0),\n",
              " ('alcalinity_of_ash', 0.0),\n",
              " ('magnesium', 0.0),\n",
              " ('total_phenols', 0.0),\n",
              " ('nonflavanoid_phenols', 0.0),\n",
              " ('proanthocyanins', 0.0),\n",
              " ('color_intensity', 0.0),\n",
              " ('hue', 0.0)]"
            ]
          },
          "metadata": {
            "tags": []
          },
          "execution_count": 99
        }
      ]
    },
    {
      "cell_type": "markdown",
      "metadata": {
        "id": "jdsqzxqvWbDY",
        "colab_type": "text"
      },
      "source": [
        "## 5. Decision Tree model fine tune (parameters adjusting)\n",
        "\n",
        "### Main parameters:\n",
        ">Parameters | Explanation\n",
        ">--- | --- \n",
        ">**Criterion** | entropy (more sensitive to impurity), gini(default)\n",
        ">**random_state** | to make the random all the same each time \n",
        ">**splitter _ 1:** | best (default) - the model will select the best features based on features importance\n",
        ">**splitter _ 2:**| random - the model will random select sqrt of features\n",
        ">**max_depth** | to avoid overfitting\n",
        ">**min_samples_leaf** & **min_samples_split** | numerical missing value as one class\n",
        ">**max_features** | categorical \n",
        ">**min_impurity_split** | if the info gain < the value, the split will not happen \n"
      ]
    },
    {
      "cell_type": "markdown",
      "metadata": {
        "id": "2-Ydi8IeB1iZ",
        "colab_type": "text"
      },
      "source": [
        "## 6. Prune the tree by seting the criterion, max_depth, min_samples_leaf, min_samples_split, etc."
      ]
    },
    {
      "cell_type": "markdown",
      "metadata": {
        "id": "N0BloN-5rByS",
        "colab_type": "text"
      },
      "source": [
        "### 6.1 Change criterion from default \"gini\" to \"entropy\""
      ]
    },
    {
      "cell_type": "code",
      "metadata": {
        "id": "iFWQ4gLPq3eD",
        "colab_type": "code",
        "colab": {
          "base_uri": "https://localhost:8080/",
          "height": 35
        },
        "outputId": "4ec3eb80-6d24-441a-bd7e-34a09257fc09"
      },
      "source": [
        "clf = DecisionTreeClassifier(criterion = \"entropy\", random_state = 30)\n",
        "clf.fit(x_train, y_train)\n",
        "score = clf.score(x_test, y_test)\n",
        "score"
      ],
      "execution_count": 100,
      "outputs": [
        {
          "output_type": "execute_result",
          "data": {
            "text/plain": [
              "0.9444444444444444"
            ]
          },
          "metadata": {
            "tags": []
          },
          "execution_count": 100
        }
      ]
    },
    {
      "cell_type": "markdown",
      "metadata": {
        "id": "PCP8XOEarKdP",
        "colab_type": "text"
      },
      "source": [
        "The decision tree performance increases when criterion is changed to \"entropy\". \n",
        "\n",
        "Thus, the **first** parameter is: **criterion = \"entropy\"**"
      ]
    },
    {
      "cell_type": "markdown",
      "metadata": {
        "id": "bSyZLXrhwLG4",
        "colab_type": "text"
      },
      "source": [
        "### 6.2 Change splitter from default \"best\" to \"random\""
      ]
    },
    {
      "cell_type": "code",
      "metadata": {
        "id": "CoM3z7trv60T",
        "colab_type": "code",
        "colab": {
          "base_uri": "https://localhost:8080/",
          "height": 35
        },
        "outputId": "466d17a0-d09b-434e-976f-f7feb2f90f9c"
      },
      "source": [
        "clf = DecisionTreeClassifier(criterion = \"entropy\",\n",
        "                             splitter = \"random\"\n",
        "                             ,random_state = 30)\n",
        "clf.fit(x_train, y_train)\n",
        "score = clf.score(x_test, y_test)\n",
        "score"
      ],
      "execution_count": 101,
      "outputs": [
        {
          "output_type": "execute_result",
          "data": {
            "text/plain": [
              "0.9629629629629629"
            ]
          },
          "metadata": {
            "tags": []
          },
          "execution_count": 101
        }
      ]
    },
    {
      "cell_type": "markdown",
      "metadata": {
        "id": "Dx3MslIUwTzx",
        "colab_type": "text"
      },
      "source": [
        "The decision tree performance increases when splitter is changed to \"random\". \n",
        "\n",
        "Thus, the **second** parameter is: **splitter = \"random\"**"
      ]
    },
    {
      "cell_type": "markdown",
      "metadata": {
        "id": "-oUAQjyNaSdq",
        "colab_type": "text"
      },
      "source": [
        "### 6.3 fine tune parameter: max_depth"
      ]
    },
    {
      "cell_type": "code",
      "metadata": {
        "id": "_Gx3MjMIGJb0",
        "colab_type": "code",
        "outputId": "9ad72789-c968-4c8b-819e-42866af0cc2a",
        "colab": {
          "base_uri": "https://localhost:8080/",
          "height": 331
        }
      },
      "source": [
        "scores = []\n",
        "for i in range(1, 11):\n",
        "  clf = DecisionTreeClassifier(criterion = \"entropy\"\n",
        "                            ,splitter = \"random\"\n",
        "                            ,random_state = 30\n",
        "                            ,max_depth = i\n",
        "                              )\n",
        "  clf.fit(x_train, y_train)\n",
        "  score = clf.score(x_test, y_test)\n",
        "  scores.append(score)\n",
        "\n",
        "print(\"Best performance: {}\".format(max(scores)))\n",
        "print(\"max_depth = {}\".format(scores.index(max(scores)) + 1))\n",
        "plt.plot(range(1, 11), scores, color = \"b\", label = \"max_depth\")\n",
        "plt.title(\"Decision Tree with different max_depth\")\n",
        "plt.xlabel('Max_depth')\n",
        "plt.ylabel('Score')\n",
        "plt.legend()\n",
        "plt.show()"
      ],
      "execution_count": 102,
      "outputs": [
        {
          "output_type": "stream",
          "text": [
            "Best performance: 0.9814814814814815\n",
            "max_depth = 3\n"
          ],
          "name": "stdout"
        },
        {
          "output_type": "display_data",
          "data": {
            "image/png": "[encoded data removed]",
            "text/plain": [
              "<Figure size 432x288 with 1 Axes>"
            ]
          },
          "metadata": {
            "tags": []
          }
        }
      ]
    },
    {
      "cell_type": "markdown",
      "metadata": {
        "id": "Iov4BjtosXgJ",
        "colab_type": "text"
      },
      "source": [
        "The decision tree performance increases when splitter is changed to \"random\". \n",
        "\n",
        "Thus, the **third** parameter is: **max_depth = \"3\"**"
      ]
    },
    {
      "cell_type": "markdown",
      "metadata": {
        "id": "t5lFz1YYsUXa",
        "colab_type": "text"
      },
      "source": [
        "### 6.4 fine tune parameter: min_samples_leaf"
      ]
    },
    {
      "cell_type": "code",
      "metadata": {
        "id": "CWmXULZFZuAZ",
        "colab_type": "code",
        "outputId": "963e9afb-8f5f-4e39-9b90-72919ae50018",
        "colab": {
          "base_uri": "https://localhost:8080/",
          "height": 331
        }
      },
      "source": [
        "scores = []\n",
        "for i in range(1, 11):\n",
        "  clf = DecisionTreeClassifier(criterion = \"entropy\"\n",
        "                            ,splitter = \"random\"\n",
        "                            ,random_state = 30\n",
        "                            ,max_depth = 3\n",
        "                            ,min_samples_leaf = i\n",
        "                              )\n",
        "  clf.fit(x_train, y_train)\n",
        "  score = clf.score(x_test, y_test)\n",
        "  scores.append(score)\n",
        "print(\"Best performance: {}\".format(max(scores)))\n",
        "print(\"Min_samples_leaf: {}\".format(scores.index(max(scores)) + 1))\n",
        "plt.plot(range(1, 11), scores, color = \"b\", label = \"min_samples_leaf\")\n",
        "plt.title(\"Decision Tree with different min_samples_leaf\")\n",
        "plt.xlabel('min_samples_leaf')\n",
        "plt.ylabel('Score')\n",
        "plt.legend()\n",
        "plt.show()"
      ],
      "execution_count": 103,
      "outputs": [
        {
          "output_type": "stream",
          "text": [
            "Best performance: 0.9814814814814815\n",
            "Min_samples_leaf: 1\n"
          ],
          "name": "stdout"
        },
        {
          "output_type": "display_data",
          "data": {
            "image/png": "[encoded data removed]",
            "text/plain": [
              "<Figure size 432x288 with 1 Axes>"
            ]
          },
          "metadata": {
            "tags": []
          }
        }
      ]
    },
    {
      "cell_type": "markdown",
      "metadata": {
        "id": "gEq4tjbzxVK6",
        "colab_type": "text"
      },
      "source": [
        "The performance of the model doesnn't change, thus, the default value of min_samples_leaf is the best after the previous parameters determined."
      ]
    },
    {
      "cell_type": "markdown",
      "metadata": {
        "id": "SlqglVxCvVtp",
        "colab_type": "text"
      },
      "source": [
        "### 6.5 fine tune parameter: min_samples_split"
      ]
    },
    {
      "cell_type": "code",
      "metadata": {
        "id": "82KC9YpCakoH",
        "colab_type": "code",
        "outputId": "857b60e1-876c-4287-d7f2-8bc5fa6135d0",
        "colab": {
          "base_uri": "https://localhost:8080/",
          "height": 331
        }
      },
      "source": [
        "# the minimum value of min_samples_split = 2\n",
        "scores = []\n",
        "for i in range(2, 11):\n",
        "  clf = DecisionTreeClassifier(criterion = \"entropy\"\n",
        "                            ,splitter = \"random\"\n",
        "                            ,random_state = 30\n",
        "                            ,max_depth = 3\n",
        "                            #,min_samples_leaf = i\n",
        "                            ,min_samples_split = i\n",
        "                              )\n",
        "  clf.fit(x_train, y_train)\n",
        "  score = clf.score(x_test, y_test)\n",
        "  scores.append(score)\n",
        "print(\"Best performance: {}\".format(max(scores)))\n",
        "print(\"Min_samples_split: {}\".format(scores.index(max(scores)) + 2))\n",
        "plt.plot(range(2, 11), scores, color = \"b\", label = \"min_samples_split\")\n",
        "plt.title(\"Decision Tree with different min_samples_split\")\n",
        "plt.xlabel('min_samples_split')\n",
        "plt.ylabel('Score')\n",
        "plt.legend()\n",
        "plt.show()"
      ],
      "execution_count": 104,
      "outputs": [
        {
          "output_type": "stream",
          "text": [
            "Best performance: 0.9814814814814815\n",
            "Min_samples_split: 2\n"
          ],
          "name": "stdout"
        },
        {
          "output_type": "display_data",
          "data": {
            "image/png": "[encoded data removed]",
            "text/plain": [
              "<Figure size 432x288 with 1 Axes>"
            ]
          },
          "metadata": {
            "tags": []
          }
        }
      ]
    },
    {
      "cell_type": "markdown",
      "metadata": {
        "id": "Z_adTVTkvu-Y",
        "colab_type": "text"
      },
      "source": [
        "The performance of the model doesnn't change, thus, the default value of min_samples_leaf is the best after the previous parameters determined."
      ]
    },
    {
      "cell_type": "markdown",
      "metadata": {
        "id": "lKLOlOgtbi9Y",
        "colab_type": "text"
      },
      "source": [
        "**The best performance model: 98.14%**\n",
        "- criterion = \"entropy\"\n",
        "- splitter = \"random\"\n",
        "- max_depth = 3\n",
        "\n",
        "\n",
        "**The default prameters are the best:**\n",
        "- min_samples_leaf = 1\n",
        "- min_samples_split = 2"
      ]
    },
    {
      "cell_type": "code",
      "metadata": {
        "id": "pJUNVTbe9cX6",
        "colab_type": "code",
        "outputId": "24b81e4f-2b6b-405a-b443-b24d30da6a2d",
        "colab": {
          "base_uri": "https://localhost:8080/",
          "height": 35
        }
      },
      "source": [
        "clf = DecisionTreeClassifier(criterion = \"entropy\"\n",
        "                            ,splitter = \"random\"\n",
        "                            ,random_state = 30\n",
        "                            ,max_depth = 3\n",
        "                            )\n",
        "clf.fit(x_train, y_train)\n",
        "score = clf.score(x_test, y_test)\n",
        "score"
      ],
      "execution_count": 105,
      "outputs": [
        {
          "output_type": "execute_result",
          "data": {
            "text/plain": [
              "0.9814814814814815"
            ]
          },
          "metadata": {
            "tags": []
          },
          "execution_count": 105
        }
      ]
    },
    {
      "cell_type": "code",
      "metadata": {
        "id": "KfOY_4_T9VT8",
        "colab_type": "code",
        "outputId": "6bdbb85f-ccd8-487b-bbda-5574db6e8fd9",
        "colab": {
          "base_uri": "https://localhost:8080/",
          "height": 599
        }
      },
      "source": [
        "dot_data = export_graphviz(clf\n",
        "                           ,feature_names = feature_names\n",
        "                          ,class_names = [\"琴酒\", \"雪莉\", \"贝尔摩德\"] # target_names\n",
        "                          ,filled = True\n",
        "                          ,rounded = True\n",
        "                          )\n",
        "graph = graphviz.Source(dot_data)\n",
        "graph"
      ],
      "execution_count": 106,
      "outputs": [
        {
          "output_type": "execute_result",
          "data": {
            "text/plain": [
              "<graphviz.files.Source at 0x7f6a7dacebe0>"
            ],
            "image/svg+xml": "<?xml version=\"1.0\" encoding=\"UTF-8\" standalone=\"no\"?>\n<!DOCTYPE svg PUBLIC \"-//W3C//DTD SVG 1.1//EN\"\n \"http://www.w3.org/Graphics/SVG/1.1/DTD/svg11.dtd\">\n<!-- Generated by graphviz version 2.40.1 (20161225.0304)\n -->\n<!-- Title: Tree Pages: 1 -->\n<svg width=\"855pt\" height=\"433pt\"\n viewBox=\"0.00 0.00 855.00 433.00\" xmlns=\"http://www.w3.org/2000/svg\" xmlns:xlink=\"http://www.w3.org/1999/xlink\">\n<g id=\"graph0\" class=\"graph\" transform=\"scale(1 1) rotate(0) translate(4 429)\">\n<title>Tree</title>\n<polygon fill=\"#ffffff\" stroke=\"transparent\" points=\"-4,4 -4,-429 851,-429 851,4 -4,4\"/>\n<!-- 0 -->\n<g id=\"node1\" class=\"node\">\n<title>0</title>\n<path fill=\"#dbfae8\" stroke=\"#000000\" d=\"M497,-425C497,-425 378,-425 378,-425 372,-425 366,-419 366,-413 366,-413 366,-354 366,-354 366,-348 372,-342 378,-342 378,-342 497,-342 497,-342 503,-342 509,-348 509,-354 509,-354 509,-413 509,-413 509,-419 503,-425 497,-425\"/>\n<text text-anchor=\"middle\" x=\"437.5\" y=\"-409.8\" font-family=\"Helvetica,sans-Serif\" font-size=\"14.00\" fill=\"#000000\">flavanoids &lt;= 2.154</text>\n<text text-anchor=\"middle\" x=\"437.5\" y=\"-394.8\" font-family=\"Helvetica,sans-Serif\" font-size=\"14.00\" fill=\"#000000\">entropy = 1.562</text>\n<text text-anchor=\"middle\" x=\"437.5\" y=\"-379.8\" font-family=\"Helvetica,sans-Serif\" font-size=\"14.00\" fill=\"#000000\">samples = 124</text>\n<text text-anchor=\"middle\" x=\"437.5\" y=\"-364.8\" font-family=\"Helvetica,sans-Serif\" font-size=\"14.00\" fill=\"#000000\">value = [36, 52, 36]</text>\n<text text-anchor=\"middle\" x=\"437.5\" y=\"-349.8\" font-family=\"Helvetica,sans-Serif\" font-size=\"14.00\" fill=\"#000000\">class = 雪莉</text>\n</g>\n<!-- 1 -->\n<g id=\"node2\" class=\"node\">\n<title>1</title>\n<path fill=\"#f1e9fc\" stroke=\"#000000\" d=\"M451.5,-306C451.5,-306 203.5,-306 203.5,-306 197.5,-306 191.5,-300 191.5,-294 191.5,-294 191.5,-235 191.5,-235 191.5,-229 197.5,-223 203.5,-223 203.5,-223 451.5,-223 451.5,-223 457.5,-223 463.5,-229 463.5,-235 463.5,-235 463.5,-294 463.5,-294 463.5,-300 457.5,-306 451.5,-306\"/>\n<text text-anchor=\"middle\" x=\"327.5\" y=\"-290.8\" font-family=\"Helvetica,sans-Serif\" font-size=\"14.00\" fill=\"#000000\">od280/od315_of_diluted_wines &lt;= 2.21</text>\n<text text-anchor=\"middle\" x=\"327.5\" y=\"-275.8\" font-family=\"Helvetica,sans-Serif\" font-size=\"14.00\" fill=\"#000000\">entropy = 0.998</text>\n<text text-anchor=\"middle\" x=\"327.5\" y=\"-260.8\" font-family=\"Helvetica,sans-Serif\" font-size=\"14.00\" fill=\"#000000\">samples = 68</text>\n<text text-anchor=\"middle\" x=\"327.5\" y=\"-245.8\" font-family=\"Helvetica,sans-Serif\" font-size=\"14.00\" fill=\"#000000\">value = [0, 32, 36]</text>\n<text text-anchor=\"middle\" x=\"327.5\" y=\"-230.8\" font-family=\"Helvetica,sans-Serif\" font-size=\"14.00\" fill=\"#000000\">class = 贝尔摩德</text>\n</g>\n<!-- 0&#45;&gt;1 -->\n<g id=\"edge1\" class=\"edge\">\n<title>0&#45;&gt;1</title>\n<path fill=\"none\" stroke=\"#000000\" d=\"M399.0273,-341.8796C390.6189,-332.7832 381.6424,-323.0722 372.9897,-313.7116\"/>\n<polygon fill=\"#000000\" stroke=\"#000000\" points=\"375.495,-311.2656 366.1369,-306.2981 370.3547,-316.0172 375.495,-311.2656\"/>\n<text text-anchor=\"middle\" x=\"365.1551\" y=\"-327.5788\" font-family=\"Helvetica,sans-Serif\" font-size=\"14.00\" fill=\"#000000\">True</text>\n</g>\n<!-- 8 -->\n<g id=\"node9\" class=\"node\">\n<title>8</title>\n<path fill=\"#f3c7a7\" stroke=\"#000000\" d=\"M601,-306C601,-306 494,-306 494,-306 488,-306 482,-300 482,-294 482,-294 482,-235 482,-235 482,-229 488,-223 494,-223 494,-223 601,-223 601,-223 607,-223 613,-229 613,-235 613,-235 613,-294 613,-294 613,-300 607,-306 601,-306\"/>\n<text text-anchor=\"middle\" x=\"547.5\" y=\"-290.8\" font-family=\"Helvetica,sans-Serif\" font-size=\"14.00\" fill=\"#000000\">proline &lt;= 524.24</text>\n<text text-anchor=\"middle\" x=\"547.5\" y=\"-275.8\" font-family=\"Helvetica,sans-Serif\" font-size=\"14.00\" fill=\"#000000\">entropy = 0.94</text>\n<text text-anchor=\"middle\" x=\"547.5\" y=\"-260.8\" font-family=\"Helvetica,sans-Serif\" font-size=\"14.00\" fill=\"#000000\">samples = 56</text>\n<text text-anchor=\"middle\" x=\"547.5\" y=\"-245.8\" font-family=\"Helvetica,sans-Serif\" font-size=\"14.00\" fill=\"#000000\">value = [36, 20, 0]</text>\n<text text-anchor=\"middle\" x=\"547.5\" y=\"-230.8\" font-family=\"Helvetica,sans-Serif\" font-size=\"14.00\" fill=\"#000000\">class = 琴酒</text>\n</g>\n<!-- 0&#45;&gt;8 -->\n<g id=\"edge8\" class=\"edge\">\n<title>0&#45;&gt;8</title>\n<path fill=\"none\" stroke=\"#000000\" d=\"M475.9727,-341.8796C484.3811,-332.7832 493.3576,-323.0722 502.0103,-313.7116\"/>\n<polygon fill=\"#000000\" stroke=\"#000000\" points=\"504.6453,-316.0172 508.8631,-306.2981 499.505,-311.2656 504.6453,-316.0172\"/>\n<text text-anchor=\"middle\" x=\"509.8449\" y=\"-327.5788\" font-family=\"Helvetica,sans-Serif\" font-size=\"14.00\" fill=\"#000000\">False</text>\n</g>\n<!-- 2 -->\n<g id=\"node3\" class=\"node\">\n<title>2</title>\n<path fill=\"#9f68eb\" stroke=\"#000000\" d=\"M244,-187C244,-187 145,-187 145,-187 139,-187 133,-181 133,-175 133,-175 133,-116 133,-116 133,-110 139,-104 145,-104 145,-104 244,-104 244,-104 250,-104 256,-110 256,-116 256,-116 256,-175 256,-175 256,-181 250,-187 244,-187\"/>\n<text text-anchor=\"middle\" x=\"194.5\" y=\"-171.8\" font-family=\"Helvetica,sans-Serif\" font-size=\"14.00\" fill=\"#000000\">hue &lt;= 0.981</text>\n<text text-anchor=\"middle\" x=\"194.5\" y=\"-156.8\" font-family=\"Helvetica,sans-Serif\" font-size=\"14.00\" fill=\"#000000\">entropy = 0.702</text>\n<text text-anchor=\"middle\" x=\"194.5\" y=\"-141.8\" font-family=\"Helvetica,sans-Serif\" font-size=\"14.00\" fill=\"#000000\">samples = 42</text>\n<text text-anchor=\"middle\" x=\"194.5\" y=\"-126.8\" font-family=\"Helvetica,sans-Serif\" font-size=\"14.00\" fill=\"#000000\">value = [0, 8, 34]</text>\n<text text-anchor=\"middle\" x=\"194.5\" y=\"-111.8\" font-family=\"Helvetica,sans-Serif\" font-size=\"14.00\" fill=\"#000000\">class = 贝尔摩德</text>\n</g>\n<!-- 1&#45;&gt;2 -->\n<g id=\"edge2\" class=\"edge\">\n<title>1&#45;&gt;2</title>\n<path fill=\"none\" stroke=\"#000000\" d=\"M280.9831,-222.8796C270.6152,-213.6031 259.5329,-203.6874 248.8801,-194.1559\"/>\n<polygon fill=\"#000000\" stroke=\"#000000\" points=\"251.0017,-191.3577 241.2155,-187.2981 246.3341,-196.5744 251.0017,-191.3577\"/>\n</g>\n<!-- 5 -->\n<g id=\"node6\" class=\"node\">\n<title>5</title>\n<path fill=\"#49e78c\" stroke=\"#000000\" d=\"M405,-187C405,-187 286,-187 286,-187 280,-187 274,-181 274,-175 274,-175 274,-116 274,-116 274,-110 280,-104 286,-104 286,-104 405,-104 405,-104 411,-104 417,-110 417,-116 417,-116 417,-175 417,-175 417,-181 411,-187 405,-187\"/>\n<text text-anchor=\"middle\" x=\"345.5\" y=\"-171.8\" font-family=\"Helvetica,sans-Serif\" font-size=\"14.00\" fill=\"#000000\">flavanoids &lt;= 1.052</text>\n<text text-anchor=\"middle\" x=\"345.5\" y=\"-156.8\" font-family=\"Helvetica,sans-Serif\" font-size=\"14.00\" fill=\"#000000\">entropy = 0.391</text>\n<text text-anchor=\"middle\" x=\"345.5\" y=\"-141.8\" font-family=\"Helvetica,sans-Serif\" font-size=\"14.00\" fill=\"#000000\">samples = 26</text>\n<text text-anchor=\"middle\" x=\"345.5\" y=\"-126.8\" font-family=\"Helvetica,sans-Serif\" font-size=\"14.00\" fill=\"#000000\">value = [0, 24, 2]</text>\n<text text-anchor=\"middle\" x=\"345.5\" y=\"-111.8\" font-family=\"Helvetica,sans-Serif\" font-size=\"14.00\" fill=\"#000000\">class = 雪莉</text>\n</g>\n<!-- 1&#45;&gt;5 -->\n<g id=\"edge5\" class=\"edge\">\n<title>1&#45;&gt;5</title>\n<path fill=\"none\" stroke=\"#000000\" d=\"M333.7955,-222.8796C335.0488,-214.5938 336.3793,-205.798 337.6766,-197.2216\"/>\n<polygon fill=\"#000000\" stroke=\"#000000\" points=\"341.1426,-197.7091 339.1776,-187.2981 334.2213,-196.6621 341.1426,-197.7091\"/>\n</g>\n<!-- 3 -->\n<g id=\"node4\" class=\"node\">\n<title>3</title>\n<path fill=\"#9456e9\" stroke=\"#000000\" d=\"M111,-68C111,-68 12,-68 12,-68 6,-68 0,-62 0,-56 0,-56 0,-12 0,-12 0,-6 6,0 12,0 12,0 111,0 111,0 117,0 123,-6 123,-12 123,-12 123,-56 123,-56 123,-62 117,-68 111,-68\"/>\n<text text-anchor=\"middle\" x=\"61.5\" y=\"-52.8\" font-family=\"Helvetica,sans-Serif\" font-size=\"14.00\" fill=\"#000000\">entropy = 0.552</text>\n<text text-anchor=\"middle\" x=\"61.5\" y=\"-37.8\" font-family=\"Helvetica,sans-Serif\" font-size=\"14.00\" fill=\"#000000\">samples = 39</text>\n<text text-anchor=\"middle\" x=\"61.5\" y=\"-22.8\" font-family=\"Helvetica,sans-Serif\" font-size=\"14.00\" fill=\"#000000\">value = [0, 5, 34]</text>\n<text text-anchor=\"middle\" x=\"61.5\" y=\"-7.8\" font-family=\"Helvetica,sans-Serif\" font-size=\"14.00\" fill=\"#000000\">class = 贝尔摩德</text>\n</g>\n<!-- 2&#45;&gt;3 -->\n<g id=\"edge3\" class=\"edge\">\n<title>2&#45;&gt;3</title>\n<path fill=\"none\" stroke=\"#000000\" d=\"M144.9757,-103.9815C133.5743,-94.4232 121.4595,-84.2668 110.0979,-74.7419\"/>\n<polygon fill=\"#000000\" stroke=\"#000000\" points=\"112.2825,-72.006 102.3706,-68.2637 107.7853,-77.3704 112.2825,-72.006\"/>\n</g>\n<!-- 4 -->\n<g id=\"node5\" class=\"node\">\n<title>4</title>\n<path fill=\"#39e581\" stroke=\"#000000\" d=\"M244,-68C244,-68 153,-68 153,-68 147,-68 141,-62 141,-56 141,-56 141,-12 141,-12 141,-6 147,0 153,0 153,0 244,0 244,0 250,0 256,-6 256,-12 256,-12 256,-56 256,-56 256,-62 250,-68 244,-68\"/>\n<text text-anchor=\"middle\" x=\"198.5\" y=\"-52.8\" font-family=\"Helvetica,sans-Serif\" font-size=\"14.00\" fill=\"#000000\">entropy = 0.0</text>\n<text text-anchor=\"middle\" x=\"198.5\" y=\"-37.8\" font-family=\"Helvetica,sans-Serif\" font-size=\"14.00\" fill=\"#000000\">samples = 3</text>\n<text text-anchor=\"middle\" x=\"198.5\" y=\"-22.8\" font-family=\"Helvetica,sans-Serif\" font-size=\"14.00\" fill=\"#000000\">value = [0, 3, 0]</text>\n<text text-anchor=\"middle\" x=\"198.5\" y=\"-7.8\" font-family=\"Helvetica,sans-Serif\" font-size=\"14.00\" fill=\"#000000\">class = 雪莉</text>\n</g>\n<!-- 2&#45;&gt;4 -->\n<g id=\"edge4\" class=\"edge\">\n<title>2&#45;&gt;4</title>\n<path fill=\"none\" stroke=\"#000000\" d=\"M195.9895,-103.9815C196.2895,-95.618 196.606,-86.7965 196.9093,-78.3409\"/>\n<polygon fill=\"#000000\" stroke=\"#000000\" points=\"200.41,-78.3828 197.2708,-68.2637 193.4145,-78.1317 200.41,-78.3828\"/>\n</g>\n<!-- 6 -->\n<g id=\"node7\" class=\"node\">\n<title>6</title>\n<path fill=\"#c09cf2\" stroke=\"#000000\" d=\"M392,-68C392,-68 293,-68 293,-68 287,-68 281,-62 281,-56 281,-56 281,-12 281,-12 281,-6 287,0 293,0 293,0 392,0 392,0 398,0 404,-6 404,-12 404,-12 404,-56 404,-56 404,-62 398,-68 392,-68\"/>\n<text text-anchor=\"middle\" x=\"342.5\" y=\"-52.8\" font-family=\"Helvetica,sans-Serif\" font-size=\"14.00\" fill=\"#000000\">entropy = 0.918</text>\n<text text-anchor=\"middle\" x=\"342.5\" y=\"-37.8\" font-family=\"Helvetica,sans-Serif\" font-size=\"14.00\" fill=\"#000000\">samples = 3</text>\n<text text-anchor=\"middle\" x=\"342.5\" y=\"-22.8\" font-family=\"Helvetica,sans-Serif\" font-size=\"14.00\" fill=\"#000000\">value = [0, 1, 2]</text>\n<text text-anchor=\"middle\" x=\"342.5\" y=\"-7.8\" font-family=\"Helvetica,sans-Serif\" font-size=\"14.00\" fill=\"#000000\">class = 贝尔摩德</text>\n</g>\n<!-- 5&#45;&gt;6 -->\n<g id=\"edge6\" class=\"edge\">\n<title>5&#45;&gt;6</title>\n<path fill=\"none\" stroke=\"#000000\" d=\"M344.3829,-103.9815C344.1579,-95.618 343.9205,-86.7965 343.693,-78.3409\"/>\n<polygon fill=\"#000000\" stroke=\"#000000\" points=\"347.1897,-78.1659 343.4219,-68.2637 340.1922,-78.3542 347.1897,-78.1659\"/>\n</g>\n<!-- 7 -->\n<g id=\"node8\" class=\"node\">\n<title>7</title>\n<path fill=\"#39e581\" stroke=\"#000000\" d=\"M533,-68C533,-68 434,-68 434,-68 428,-68 422,-62 422,-56 422,-56 422,-12 422,-12 422,-6 428,0 434,0 434,0 533,0 533,0 539,0 545,-6 545,-12 545,-12 545,-56 545,-56 545,-62 539,-68 533,-68\"/>\n<text text-anchor=\"middle\" x=\"483.5\" y=\"-52.8\" font-family=\"Helvetica,sans-Serif\" font-size=\"14.00\" fill=\"#000000\">entropy = 0.0</text>\n<text text-anchor=\"middle\" x=\"483.5\" y=\"-37.8\" font-family=\"Helvetica,sans-Serif\" font-size=\"14.00\" fill=\"#000000\">samples = 23</text>\n<text text-anchor=\"middle\" x=\"483.5\" y=\"-22.8\" font-family=\"Helvetica,sans-Serif\" font-size=\"14.00\" fill=\"#000000\">value = [0, 23, 0]</text>\n<text text-anchor=\"middle\" x=\"483.5\" y=\"-7.8\" font-family=\"Helvetica,sans-Serif\" font-size=\"14.00\" fill=\"#000000\">class = 雪莉</text>\n</g>\n<!-- 5&#45;&gt;7 -->\n<g id=\"edge7\" class=\"edge\">\n<title>5&#45;&gt;7</title>\n<path fill=\"none\" stroke=\"#000000\" d=\"M396.8861,-103.9815C408.7161,-94.4232 421.2864,-84.2668 433.0751,-74.7419\"/>\n<polygon fill=\"#000000\" stroke=\"#000000\" points=\"435.5142,-77.2708 441.0929,-68.2637 431.1149,-71.826 435.5142,-77.2708\"/>\n</g>\n<!-- 9 -->\n<g id=\"node10\" class=\"node\">\n<title>9</title>\n<path fill=\"#39e581\" stroke=\"#000000\" d=\"M580,-179.5C580,-179.5 481,-179.5 481,-179.5 475,-179.5 469,-173.5 469,-167.5 469,-167.5 469,-123.5 469,-123.5 469,-117.5 475,-111.5 481,-111.5 481,-111.5 580,-111.5 580,-111.5 586,-111.5 592,-117.5 592,-123.5 592,-123.5 592,-167.5 592,-167.5 592,-173.5 586,-179.5 580,-179.5\"/>\n<text text-anchor=\"middle\" x=\"530.5\" y=\"-164.3\" font-family=\"Helvetica,sans-Serif\" font-size=\"14.00\" fill=\"#000000\">entropy = 0.0</text>\n<text text-anchor=\"middle\" x=\"530.5\" y=\"-149.3\" font-family=\"Helvetica,sans-Serif\" font-size=\"14.00\" fill=\"#000000\">samples = 14</text>\n<text text-anchor=\"middle\" x=\"530.5\" y=\"-134.3\" font-family=\"Helvetica,sans-Serif\" font-size=\"14.00\" fill=\"#000000\">value = [0, 14, 0]</text>\n<text text-anchor=\"middle\" x=\"530.5\" y=\"-119.3\" font-family=\"Helvetica,sans-Serif\" font-size=\"14.00\" fill=\"#000000\">class = 雪莉</text>\n</g>\n<!-- 8&#45;&gt;9 -->\n<g id=\"edge9\" class=\"edge\">\n<title>8&#45;&gt;9</title>\n<path fill=\"none\" stroke=\"#000000\" d=\"M541.5542,-222.8796C540.0305,-212.2134 538.386,-200.7021 536.8431,-189.9015\"/>\n<polygon fill=\"#000000\" stroke=\"#000000\" points=\"540.2813,-189.2194 535.4021,-179.8149 533.3516,-190.2094 540.2813,-189.2194\"/>\n</g>\n<!-- 10 -->\n<g id=\"node11\" class=\"node\">\n<title>10</title>\n<path fill=\"#e9965a\" stroke=\"#000000\" d=\"M730.5,-187C730.5,-187 622.5,-187 622.5,-187 616.5,-187 610.5,-181 610.5,-175 610.5,-175 610.5,-116 610.5,-116 610.5,-110 616.5,-104 622.5,-104 622.5,-104 730.5,-104 730.5,-104 736.5,-104 742.5,-110 742.5,-116 742.5,-116 742.5,-175 742.5,-175 742.5,-181 736.5,-187 730.5,-187\"/>\n<text text-anchor=\"middle\" x=\"676.5\" y=\"-171.8\" font-family=\"Helvetica,sans-Serif\" font-size=\"14.00\" fill=\"#000000\">alcohol &lt;= 12.725</text>\n<text text-anchor=\"middle\" x=\"676.5\" y=\"-156.8\" font-family=\"Helvetica,sans-Serif\" font-size=\"14.00\" fill=\"#000000\">entropy = 0.592</text>\n<text text-anchor=\"middle\" x=\"676.5\" y=\"-141.8\" font-family=\"Helvetica,sans-Serif\" font-size=\"14.00\" fill=\"#000000\">samples = 42</text>\n<text text-anchor=\"middle\" x=\"676.5\" y=\"-126.8\" font-family=\"Helvetica,sans-Serif\" font-size=\"14.00\" fill=\"#000000\">value = [36, 6, 0]</text>\n<text text-anchor=\"middle\" x=\"676.5\" y=\"-111.8\" font-family=\"Helvetica,sans-Serif\" font-size=\"14.00\" fill=\"#000000\">class = 琴酒</text>\n</g>\n<!-- 8&#45;&gt;10 -->\n<g id=\"edge10\" class=\"edge\">\n<title>8&#45;&gt;10</title>\n<path fill=\"none\" stroke=\"#000000\" d=\"M592.6179,-222.8796C602.674,-213.6031 613.423,-203.6874 623.7554,-194.1559\"/>\n<polygon fill=\"#000000\" stroke=\"#000000\" points=\"626.2124,-196.6511 631.1895,-187.2981 621.4661,-191.506 626.2124,-196.6511\"/>\n</g>\n<!-- 11 -->\n<g id=\"node12\" class=\"node\">\n<title>11</title>\n<path fill=\"#39e581\" stroke=\"#000000\" d=\"M694,-68C694,-68 603,-68 603,-68 597,-68 591,-62 591,-56 591,-56 591,-12 591,-12 591,-6 597,0 603,0 603,0 694,0 694,0 700,0 706,-6 706,-12 706,-12 706,-56 706,-56 706,-62 700,-68 694,-68\"/>\n<text text-anchor=\"middle\" x=\"648.5\" y=\"-52.8\" font-family=\"Helvetica,sans-Serif\" font-size=\"14.00\" fill=\"#000000\">entropy = 0.0</text>\n<text text-anchor=\"middle\" x=\"648.5\" y=\"-37.8\" font-family=\"Helvetica,sans-Serif\" font-size=\"14.00\" fill=\"#000000\">samples = 6</text>\n<text text-anchor=\"middle\" x=\"648.5\" y=\"-22.8\" font-family=\"Helvetica,sans-Serif\" font-size=\"14.00\" fill=\"#000000\">value = [0, 6, 0]</text>\n<text text-anchor=\"middle\" x=\"648.5\" y=\"-7.8\" font-family=\"Helvetica,sans-Serif\" font-size=\"14.00\" fill=\"#000000\">class = 雪莉</text>\n</g>\n<!-- 10&#45;&gt;11 -->\n<g id=\"edge11\" class=\"edge\">\n<title>10&#45;&gt;11</title>\n<path fill=\"none\" stroke=\"#000000\" d=\"M666.0738,-103.9815C663.9505,-95.5261 661.7096,-86.6026 659.565,-78.0623\"/>\n<polygon fill=\"#000000\" stroke=\"#000000\" points=\"662.9346,-77.1101 657.1043,-68.2637 656.1454,-78.815 662.9346,-77.1101\"/>\n</g>\n<!-- 12 -->\n<g id=\"node13\" class=\"node\">\n<title>12</title>\n<path fill=\"#e58139\" stroke=\"#000000\" d=\"M835,-68C835,-68 736,-68 736,-68 730,-68 724,-62 724,-56 724,-56 724,-12 724,-12 724,-6 730,0 736,0 736,0 835,0 835,0 841,0 847,-6 847,-12 847,-12 847,-56 847,-56 847,-62 841,-68 835,-68\"/>\n<text text-anchor=\"middle\" x=\"785.5\" y=\"-52.8\" font-family=\"Helvetica,sans-Serif\" font-size=\"14.00\" fill=\"#000000\">entropy = 0.0</text>\n<text text-anchor=\"middle\" x=\"785.5\" y=\"-37.8\" font-family=\"Helvetica,sans-Serif\" font-size=\"14.00\" fill=\"#000000\">samples = 36</text>\n<text text-anchor=\"middle\" x=\"785.5\" y=\"-22.8\" font-family=\"Helvetica,sans-Serif\" font-size=\"14.00\" fill=\"#000000\">value = [36, 0, 0]</text>\n<text text-anchor=\"middle\" x=\"785.5\" y=\"-7.8\" font-family=\"Helvetica,sans-Serif\" font-size=\"14.00\" fill=\"#000000\">class = 琴酒</text>\n</g>\n<!-- 10&#45;&gt;12 -->\n<g id=\"edge12\" class=\"edge\">\n<title>10&#45;&gt;12</title>\n<path fill=\"none\" stroke=\"#000000\" d=\"M717.0876,-103.9815C726.162,-94.6989 735.7879,-84.8522 744.8643,-75.5677\"/>\n<polygon fill=\"#000000\" stroke=\"#000000\" points=\"747.5169,-77.8611 752.0046,-68.2637 742.5113,-72.9678 747.5169,-77.8611\"/>\n</g>\n</g>\n</svg>\n"
          },
          "metadata": {
            "tags": []
          },
          "execution_count": 106
        }
      ]
    },
    {
      "cell_type": "markdown",
      "metadata": {
        "id": "R2jmPIIId4Hv",
        "colab_type": "text"
      },
      "source": [
        "# Part Two: RandomForest"
      ]
    },
    {
      "cell_type": "markdown",
      "metadata": {
        "id": "aiASpRwRicko",
        "colab_type": "text"
      },
      "source": [
        "## 1. Create and train the RandomForest model"
      ]
    },
    {
      "cell_type": "code",
      "metadata": {
        "id": "To1FAeQv2lLb",
        "colab_type": "code",
        "colab": {}
      },
      "source": [
        "x_train, x_test, y_train, y_test = train_test_split(X, y, test_size = 0.3, random_state = 30)  # choose 30% of the data as validation dataset"
      ],
      "execution_count": 0,
      "outputs": []
    },
    {
      "cell_type": "code",
      "metadata": {
        "id": "mNCa2z3ZdxVV",
        "colab_type": "code",
        "outputId": "fff86508-42f0-48b3-f8e8-b9c571c9644e",
        "colab": {
          "base_uri": "https://localhost:8080/",
          "height": 89
        }
      },
      "source": [
        "rfc = RandomForestClassifier(random_state = 30)\n",
        "rfc.fit(x_train, y_train)\n",
        "result = rfc.score(x_test, y_test)\n",
        "result"
      ],
      "execution_count": 112,
      "outputs": [
        {
          "output_type": "stream",
          "text": [
            "/usr/local/lib/python3.6/dist-packages/sklearn/ensemble/forest.py:245: FutureWarning: The default value of n_estimators will change from 10 in version 0.20 to 100 in 0.22.\n",
            "  \"10 in version 0.20 to 100 in 0.22.\", FutureWarning)\n"
          ],
          "name": "stderr"
        },
        {
          "output_type": "execute_result",
          "data": {
            "text/plain": [
              "0.9444444444444444"
            ]
          },
          "metadata": {
            "tags": []
          },
          "execution_count": 112
        }
      ]
    },
    {
      "cell_type": "markdown",
      "metadata": {
        "id": "rg83pZ3ZWYPG",
        "colab_type": "text"
      },
      "source": [
        "## 2. Random model fine tune (parameters adjusting)\n",
        "\n",
        "The main parameters are similar to Decision Tree, \n",
        "\n",
        "another important parameter for Random Forest is n_estimators: the number of decision trees. \n",
        "\n",
        "### Importance of the parameters:\n",
        ">Parameters | Explanation | importance\n",
        ">--- | --- | ---\n",
        ">**n_estimators** | increase n_estimators, doesn't impact DT complexity | ****\n",
        ">**max_depth** | to avoid overfitting | ***\n",
        ">**min_samples_leaf** & **min_samples_split** | numerical missing value as one class | **\n",
        ">**max_features** | the only parameter could either increase or decrease the model complexity, auto = sqrt (default), decrease max_features, --> simple model, increase max_features, --> complex model | *  \n",
        ">**Criterion** | entropy (more sensitive to impurity), gini(default) | depend on data"
      ]
    },
    {
      "cell_type": "markdown",
      "metadata": {
        "id": "TgXCpLztikk5",
        "colab_type": "text"
      },
      "source": [
        "## 3. Prune the random forest model by seting the n_estimators, max_depth, min_samples_leaf, min_samples_split, etc."
      ]
    },
    {
      "cell_type": "markdown",
      "metadata": {
        "id": "KpFjZJ6CW4aH",
        "colab_type": "text"
      },
      "source": [
        "### 3.1 n_estimators learning curve"
      ]
    },
    {
      "cell_type": "code",
      "metadata": {
        "id": "6P5R0gfuXD2z",
        "colab_type": "code",
        "colab": {
          "base_uri": "https://localhost:8080/",
          "height": 390
        },
        "outputId": "f66aa748-229d-4a1a-eba5-acbcf14bddcb"
      },
      "source": [
        "# time warning!!! about 10 minutes\n",
        "scores = []\n",
        "for i in range(200):\n",
        "  rfc = RandomForestClassifier(n_estimators = i + 1, n_jobs = -1, random_state = 30)\n",
        "  rfc_s = cross_val_score(rfc, wine.data, wine.target, cv = 10).mean()\n",
        "  scores.append(rfc_s)\n",
        "  \n",
        "print(\"Best performance: {}\".format(max(scores)))\n",
        "print(\"The value of n_estimators with the best performance: {}\".format(scores.index(max(scores)) + 1))\n",
        "plt.figure(figsize = (20, 5))\n",
        "plt.plot(range(1, 201), scores)\n",
        "plt.title(\"The learning curve with different n_estimators\", size = 16)\n",
        "plt.ylabel(\"Score\", size = 12)\n",
        "plt.xlabel(\"Number of trees\", size = 12)\n",
        "plt.show()"
      ],
      "execution_count": 20,
      "outputs": [
        {
          "output_type": "stream",
          "text": [
            "Best performance: 0.9888888888888889\n",
            "The value of n_estimators with the best performance: 14\n"
          ],
          "name": "stdout"
        },
        {
          "output_type": "display_data",
          "data": {
            "image/png": "[encoded data removed]",
            "text/plain": [
              "<Figure size 1440x360 with 1 Axes>"
            ]
          },
          "metadata": {
            "tags": []
          }
        }
      ]
    },
    {
      "cell_type": "markdown",
      "metadata": {
        "id": "O7-byVfoV6hh",
        "colab_type": "text"
      },
      "source": [
        "# Part Three: Comparson of Decision Tree & Random Forest"
      ]
    },
    {
      "cell_type": "markdown",
      "metadata": {
        "id": "SSM5VkFxV9E_",
        "colab_type": "text"
      },
      "source": [
        "## 1. The 10 times cross validation performance of DT & RF "
      ]
    },
    {
      "cell_type": "code",
      "metadata": {
        "id": "6QyhSQG_V_Fg",
        "colab_type": "code",
        "colab": {
          "base_uri": "https://localhost:8080/",
          "height": 439
        },
        "outputId": "adaad6b7-e3e7-4dc2-c3ce-d5ea88191454"
      },
      "source": [
        "# cross validation of Decision Tree\n",
        "clf = DecisionTreeClassifier(criterion = \"entropy\" ,splitter = \"random\" ,random_state = 30 ,max_depth = 3) # best parameters determined from part one\n",
        "clf_s = cross_val_score(clf, wine.data, wine.target, cv = 10)\n",
        "\n",
        "# cross validation of Random Forest\n",
        "rfc = RandomForestClassifier(n_estimators = 14, random_state = 30)  # best best parameters determined from part two\n",
        "rfc_s = cross_val_score(rfc, wine.data, wine.target, cv = 10)\n",
        "\n",
        "print(\"Decision Tree: {}\".format(max(clf_means)))\n",
        "print(\"Random Forest: {}\".format(max(rfc_means)))\n",
        "\n",
        "plt.figure(figsize = (10, 6))\n",
        "plt.title(\"Cross validation performance of Decision Tree VS Random Forest\")\n",
        "plt.ylabel(\"Score\")\n",
        "plt.xlabel(\"Validation\")\n",
        "plt.plot(range(1, 11), clf_s, label = \"Decision Tree\")\n",
        "plt.plot(range(1, 11), rfc_s, label = \"Random Forest\")\n",
        "plt.legend()\n",
        "plt.show()"
      ],
      "execution_count": 86,
      "outputs": [
        {
          "output_type": "stream",
          "text": [
            "Decision Tree: 0.9382352941176471\n",
            "Random Forest: 0.9888888888888889\n"
          ],
          "name": "stdout"
        },
        {
          "output_type": "display_data",
          "data": {
            "image/png": "[encoded data removed]",
            "text/plain": [
              "<Figure size 720x432 with 1 Axes>"
            ]
          },
          "metadata": {
            "tags": []
          }
        }
      ]
    },
    {
      "cell_type": "markdown",
      "metadata": {
        "id": "DTXum_XHWCR-",
        "colab_type": "text"
      },
      "source": [
        "## 2. The mean of 10 times cross validation performance of DT & RF for 15 times"
      ]
    },
    {
      "cell_type": "code",
      "metadata": {
        "id": "ZI8MD6HjWEgc",
        "colab_type": "code",
        "colab": {
          "base_uri": "https://localhost:8080/",
          "height": 439
        },
        "outputId": "aa1ef9bd-b1fa-47b8-d64a-e186fedd8617"
      },
      "source": [
        "clf_means = []\n",
        "rfc_means = []\n",
        "\n",
        "for i in range(15):\n",
        "  # cross validation of Decision Tree\n",
        "  clf = DecisionTreeClassifier(criterion = \"entropy\" ,splitter = \"random\" ,random_state = 30 ,max_depth = 3) # best parameters determined from part one\n",
        "  clf_s = cross_val_score(clf, wine.data, wine.target, cv = 10).mean()\n",
        "  clf_means.append(clf_s)\n",
        "  \n",
        "  # cross validation of Random Forest\n",
        "  rfc = RandomForestClassifier(n_estimators = 14, random_state = 30)  # best best parameters determined from part two\n",
        "  rfc_s = cross_val_score(rfc, wine.data, wine.target, cv = 10).mean()\n",
        "  rfc_means.append(rfc_s)\n",
        "print(\"Decision Tree: {}\".format(np.mean(clf_means)))\n",
        "print(\"Random Forest: {}\".format(np.mean(rfc_means)))\n",
        "plt.figure(figsize = (10, 6))\n",
        "plt.title(\"Mean Cross validation performance of Decision Tree VS Random Forest\")\n",
        "plt.ylabel(\"Score\")\n",
        "plt.xlabel(\"Validation\")\n",
        "plt.plot(range(1, 16), clf_means, label = \"Decision Tree\")\n",
        "plt.plot(range(1, 16), rfc_means, label = \"Random Forest\")\n",
        "plt.legend()\n",
        "plt.show()"
      ],
      "execution_count": 87,
      "outputs": [
        {
          "output_type": "stream",
          "text": [
            "Decision Tree: 0.9382352941176467\n",
            "Random Forest: 0.9888888888888889\n"
          ],
          "name": "stdout"
        },
        {
          "output_type": "display_data",
          "data": {
            "image/png": "[encoded data removed]",
            "text/plain": [
              "<Figure size 720x432 with 1 Axes>"
            ]
          },
          "metadata": {
            "tags": []
          }
        }
      ]
    },
    {
      "cell_type": "markdown",
      "metadata": {
        "id": "KesnbBJe_4fu",
        "colab_type": "text"
      },
      "source": [
        "## The limitation about Decision Tree and Random Forest\n",
        "\n",
        "- The current strategy of creating trees is greedy. We can only get the local optimal.\n",
        "\n",
        "It will find the largest information gain right now and split on that feature. We never consider the ramifications of that split futher down the tree. \n",
        "\n",
        "Finding a globally optimal tree is an extremely difficult task, and finding a tree using our greedy approach is reasonable substitute.\n",
        "\n",
        "- Another problem with our trees is that they potentially overfit the data. \n",
        "\n",
        "This means that the structure of the tree is too dependent on the training data and doesn't accurately represent the way the data in the real world looks like. In general, larger trees tend to overfit the data more. As the tree gets bigger, it becomes more tuned to the training data and it loses a more generalized understanding of the real world data\n",
        "\n",
        "One way to solve the overfitting problem is to prune the tree. The goal of pruning is to shrink the size of the tree. There are a few different pruning strategies. "
      ]
    },
    {
      "cell_type": "markdown",
      "metadata": {
        "id": "udV06ZEh3BUE",
        "colab_type": "text"
      },
      "source": [
        "## Discussion about the parameters\n",
        "Usually the decision tree model or random forest model are easy to be overfitting. \n",
        "The parameters adjusting is usually to decrease the model complexity, to aovid overfitting. \n",
        "\n",
        "**The parameters decrease model complexity to avoid overfitting:**\n",
        "\n",
        "- increase min_samples_leaf (the default value is the smallest)\n",
        "- increase min_samples_split (the default value is the smallest)\n",
        "- decrease max_depth (the default value is the largest)\n",
        "\n",
        "**The only parameter could either increaes or decrease the model complexity:**\n",
        "\n",
        "- max_features (sqrt by default, could increase or decrease)\n",
        "\n",
        "\n",
        "**Other parameters:**\n",
        "- criterion: gini, entropy\n",
        "- n_estimators: doesn't change each decision, but very import to RF model.\n",
        "\n",
        "In general, the parameters of DT and RF are similar. \n"
      ]
    }
  ]
}
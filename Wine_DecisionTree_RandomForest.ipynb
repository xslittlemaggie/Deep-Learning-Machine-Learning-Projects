{
  "nbformat": 4,
  "nbformat_minor": 0,
  "metadata": {
    "colab": {
      "name": "Decision Tree from scratch to complete & Limitations.ipynb",
      "version": "0.3.2",
      "provenance": [],
      "include_colab_link": true
    },
    "kernelspec": {
      "name": "python3",
      "display_name": "Python 3"
    }
  },
  "cells": [
    {
      "cell_type": "markdown",
      "metadata": {
        "id": "view-in-github",
        "colab_type": "text"
      },
      "source": [
        "<a href=\"https://colab.research.google.com/github/xslittlemaggie/Deep-Learning-Machine-Learning-Projects/blob/master/Wine_DecisionTree_RandomForest.ipynb\" target=\"_parent\"><img src=\"https://colab.research.google.com/assets/colab-badge.svg\" alt=\"Open In Colab\"/></a>"
      ]
    },
    {
      "cell_type": "markdown",
      "metadata": {
        "id": "N8Mw5oMHk3xd",
        "colab_type": "text"
      },
      "source": [
        "<h1><center> Wine with Decision Tree & Random Forest  </center></h1>"
      ]
    },
    {
      "cell_type": "markdown",
      "metadata": {
        "id": "Y_Ei21woLs3U",
        "colab_type": "text"
      },
      "source": [
        "<h1>Table of contents</h1>\n",
        "\n",
        "<div class=\"alert alert-block alert-info\" style=\"margin-top: 24px\">\n",
        "    <ol>\n",
        "        <li><a href=\"#Part One\">Part One: Decision Tree from scratch</a></li>\n",
        "        <li><a href=\"#Part Two\">Part Two: Decision Tree from sklearn</a></li>\n",
        "      <li><a href=\"#Part Three\">Part Three: Random Forest from sklearn</a></li>\n",
        "    </ol>\n",
        "</div>\n",
        "<br>\n",
        "<hr>"
      ]
    },
    {
      "cell_type": "markdown",
      "metadata": {
        "id": "CRGZZBUX7PnQ",
        "colab_type": "text"
      },
      "source": [
        "# Part One: Realization of Decesion Tree from Scratch"
      ]
    },
    {
      "cell_type": "markdown",
      "metadata": {
        "id": "RBiW1j5lv7G5",
        "colab_type": "text"
      },
      "source": [
        "## Step 1: Calculate gini impurity\n",
        "The lower the better, more pure"
      ]
    },
    {
      "cell_type": "code",
      "metadata": {
        "id": "PD8HvuPmv13n",
        "colab_type": "code",
        "colab": {}
      },
      "source": [
        "from collections import Counter\n",
        "\n",
        "def gini(labels):\n",
        "    impurity = 1\n",
        "    label_counts = Counter(labels)\n",
        "    for label in label_counts:\n",
        "      probability_of_label = label_counts[label]/len(labels)\n",
        "      impurity -= probability_of_label ** 2\n",
        "    return impurity"
      ],
      "execution_count": 0,
      "outputs": []
    },
    {
      "cell_type": "markdown",
      "metadata": {
        "id": "XhZKKvCDwP6z",
        "colab_type": "text"
      },
      "source": [
        "## Step 2: Calculate information gain"
      ]
    },
    {
      "cell_type": "code",
      "metadata": {
        "id": "qDxnjKZ6t35f",
        "colab_type": "code",
        "colab": {}
      },
      "source": [
        "def information_gain(starting_labels, split_labels):\n",
        "  info_gain = gini(starting_labels)\n",
        "  for subset in split_labels:\n",
        "    info_gain -= gini(subset) * len(subset)/len(starting_labels)\n",
        "  return info_gain"
      ],
      "execution_count": 0,
      "outputs": []
    },
    {
      "cell_type": "markdown",
      "metadata": {
        "id": "apkI8QfLtrmG",
        "colab_type": "text"
      },
      "source": [
        "## Step 3: Split data based on different features (column)"
      ]
    },
    {
      "cell_type": "markdown",
      "metadata": {
        "id": "WJ2AxXSm3SQi",
        "colab_type": "text"
      },
      "source": [
        "#### 3.1 split data based on each feature"
      ]
    },
    {
      "cell_type": "code",
      "metadata": {
        "id": "LQ6_GPJuqyS5",
        "colab_type": "code",
        "colab": {}
      },
      "source": [
        "cars = [['med', 'low', '3', '4', 'med', 'med'], \n",
        "        ['med', 'vhigh', '4', 'more', 'small', 'high'], \n",
        "        ['high', 'med', '3', '2', 'med', 'low'], \n",
        "        ['med', 'low', '4', '4', 'med', 'low'], \n",
        "        ['med', 'low', '5more', '2', 'big', 'med'], \n",
        "        ['med', 'med', '2', 'more', 'big', 'high'], \n",
        "        ['med', 'med', '2', 'more', 'med', 'med'], \n",
        "        ['vhigh', 'vhigh', '2', '2', 'med', 'low'], \n",
        "        ['high', 'med', '4', '2', 'big', 'low'], \n",
        "        ['low', 'low', '2', '4', 'big', 'med']]\n",
        "\n",
        "\n",
        "car_labels = ['acc', 'acc', 'unacc', 'unacc', 'unacc', 'vgood', 'acc', 'unacc', 'unacc', 'good']\n",
        "\n",
        "def split(dataset, labels, column):\n",
        "    data_subsets = []\n",
        "    label_subsets = []\n",
        "    counts = list(set([data[column] for data in dataset]))\n",
        "    counts.sort()\n",
        "    for k in counts:\n",
        "        new_data_subset = []\n",
        "        new_label_subset = []\n",
        "        for i in range(len(dataset)):\n",
        "            if dataset[i][column] == k:\n",
        "                new_data_subset.append(dataset[i])\n",
        "                new_label_subset.append(labels[i])\n",
        "        data_subsets.append(new_data_subset)\n",
        "        label_subsets.append(new_label_subset)\n",
        "    return information_gain(labels, label_subsets)\n"
      ],
      "execution_count": 0,
      "outputs": []
    },
    {
      "cell_type": "code",
      "metadata": {
        "id": "kvs_cVbkuxth",
        "colab_type": "code",
        "outputId": "5391bb34-9efc-40a0-bc65-0f0d48d59d15",
        "colab": {
          "base_uri": "https://localhost:8080/",
          "height": 121
        }
      },
      "source": [
        "for i in range(6):\n",
        "  data_subsets, label_subsets = split(cars, car_labels, i)\n",
        "  print(\"The information gain for feature {} is: {:.4f}.\".format(i + 1, information_gain(car_labels, label_subsets)))\n",
        " "
      ],
      "execution_count": 0,
      "outputs": [
        {
          "output_type": "stream",
          "text": [
            "The information gain for feature 1 is: 0.2733.\n",
            "The information gain for feature 2 is: 0.0400.\n",
            "The information gain for feature 3 is: 0.1067.\n",
            "The information gain for feature 4 is: 0.3067.\n",
            "The information gain for feature 5 is: 0.1500.\n",
            "The information gain for feature 6 is: 0.2900.\n"
          ],
          "name": "stdout"
        }
      ]
    },
    {
      "cell_type": "markdown",
      "metadata": {
        "id": "gtywFsz23Rzy",
        "colab_type": "text"
      },
      "source": [
        "#### 3.2 split data based on best feature"
      ]
    },
    {
      "cell_type": "code",
      "metadata": {
        "id": "qd7M1OPW3Z7F",
        "colab_type": "code",
        "colab": {}
      },
      "source": [
        "def find_best_split(dataset, labels):\n",
        "    best_gain = 0\n",
        "    best_feature = 0\n",
        "    for feature in range(len(dataset[0])):\n",
        "        data_subsets, label_subsets = split(dataset, labels, feature)\n",
        "        gain = information_gain(labels, label_subsets)\n",
        "        if gain > best_gain:\n",
        "            best_gain, best_feature = gain, feature\n",
        "    return best_feature, best_gain"
      ],
      "execution_count": 0,
      "outputs": []
    },
    {
      "cell_type": "code",
      "metadata": {
        "id": "tpbn51UL3-QR",
        "colab_type": "code",
        "outputId": "ff028d00-ad7b-4508-e85d-6fa8b0786fe2",
        "colab": {
          "base_uri": "https://localhost:8080/",
          "height": 35
        }
      },
      "source": [
        "find_best_split(cars, car_labels)"
      ],
      "execution_count": 0,
      "outputs": [
        {
          "output_type": "execute_result",
          "data": {
            "text/plain": [
              "(3, 0.3066666666666667)"
            ]
          },
          "metadata": {
            "tags": []
          },
          "execution_count": 72
        }
      ]
    },
    {
      "cell_type": "markdown",
      "metadata": {
        "id": "Q_Jl9_QXzu6q",
        "colab_type": "text"
      },
      "source": [
        "Thus, from the result above, when split the data with the fourth feature (indexed from 0), the information gain is highest. This is the best feature to split on."
      ]
    },
    {
      "cell_type": "markdown",
      "metadata": {
        "id": "ztaFgSyZ0X8I",
        "colab_type": "text"
      },
      "source": [
        "## Step 4: Recursive Tree Building\n",
        "Now that we can find the best feture to split the dataset, we can repeate this process again and again to create the full tree. This is cursive algorithm! We start with every data point from the trinign set, find the best feature to split the data, split the data based on that feature, and then recursively repeat the process again on each subset that was created from the split.\n",
        "\n",
        "We'll stop the recursion when we can no longer find a feature that results in any information gain. In other words, we want to create a leaf of the tree when we can't find a way to split the data that makes purer subsets.\n",
        "\n",
        "The leaf should keep track of the classes of the data points from the trining set that ended up in the leaf. In our inplementation, we'll use a Counter object to keep track of the counts of labels. "
      ]
    },
    {
      "cell_type": "code",
      "metadata": {
        "id": "y-oQgjoGu9pe",
        "colab_type": "code",
        "colab": {}
      },
      "source": [
        "def build_tree(data, labels):\n",
        "  best_feature, best_gain = find_best_split(data, labels)\n",
        "  if best_gain == 0:\n",
        "    return Counter(labels)\n",
        "  data_subsets, label_subsets = split(data, labels, best_feature)\n",
        "  branches = []\n",
        "  for i in range(len(data_subsets)):\n",
        "    tree = build_tree(data_subsets[i], label_subsets[i])\n",
        "    branches.append(tree)\n",
        "  return branches\n"
      ],
      "execution_count": 0,
      "outputs": []
    },
    {
      "cell_type": "markdown",
      "metadata": {
        "id": "-NwhCf_f7Z0y",
        "colab_type": "text"
      },
      "source": [
        "# Part Two: Decision Tree in scikit-learn"
      ]
    },
    {
      "cell_type": "code",
      "metadata": {
        "id": "mFtu2i227dLi",
        "colab_type": "code",
        "colab": {}
      },
      "source": [
        "from sklearn.tree import DecisionTreeClassifier\n",
        "from sklearn.model_selection import train_test_split\n",
        "from sklearn.preprocessing import LabelEncoder\n",
        "import pandas as pd\n",
        "import matplotlib.pyplot as plt"
      ],
      "execution_count": 0,
      "outputs": []
    },
    {
      "cell_type": "markdown",
      "metadata": {
        "id": "X0PJi64q8JL0",
        "colab_type": "text"
      },
      "source": [
        "### 1. upload the wine data for practice"
      ]
    },
    {
      "cell_type": "code",
      "metadata": {
        "id": "NFfh1u127lpT",
        "colab_type": "code",
        "outputId": "114a0d4f-6bbb-4d69-80ca-5b857e64015b",
        "colab": {
          "base_uri": "https://localhost:8080/",
          "height": 215
        }
      },
      "source": [
        "df_wine = pd.read_csv('http://archive.ics.uci.edu/ml/machine-learning-databases/wine/wine.data', header=None)\n",
        "df_wine.columns = ['Class label', 'Alcohol', 'Malic acid', 'Ash', 'Alcalinity of ash', 'Magnesium', \n",
        "                   'Total phenols', 'Flavanoids', 'Nonflavanoid phenols', 'Proanthocyanins', \n",
        "                   'Color intensity', 'Hue', 'OD280/OD315 of diluted wines', 'Proline']\n",
        "\n",
        "df_wine.head()"
      ],
      "execution_count": 0,
      "outputs": [
        {
          "output_type": "execute_result",
          "data": {
            "text/html": [
              "<div>\n",
              "<style scoped>\n",
              "    .dataframe tbody tr th:only-of-type {\n",
              "        vertical-align: middle;\n",
              "    }\n",
              "\n",
              "    .dataframe tbody tr th {\n",
              "        vertical-align: top;\n",
              "    }\n",
              "\n",
              "    .dataframe thead th {\n",
              "        text-align: right;\n",
              "    }\n",
              "</style>\n",
              "<table border=\"1\" class=\"dataframe\">\n",
              "  <thead>\n",
              "    <tr style=\"text-align: right;\">\n",
              "      <th></th>\n",
              "      <th>Class label</th>\n",
              "      <th>Alcohol</th>\n",
              "      <th>Malic acid</th>\n",
              "      <th>Ash</th>\n",
              "      <th>Alcalinity of ash</th>\n",
              "      <th>Magnesium</th>\n",
              "      <th>Total phenols</th>\n",
              "      <th>Flavanoids</th>\n",
              "      <th>Nonflavanoid phenols</th>\n",
              "      <th>Proanthocyanins</th>\n",
              "      <th>Color intensity</th>\n",
              "      <th>Hue</th>\n",
              "      <th>OD280/OD315 of diluted wines</th>\n",
              "      <th>Proline</th>\n",
              "    </tr>\n",
              "  </thead>\n",
              "  <tbody>\n",
              "    <tr>\n",
              "      <th>0</th>\n",
              "      <td>1</td>\n",
              "      <td>14.23</td>\n",
              "      <td>1.71</td>\n",
              "      <td>2.43</td>\n",
              "      <td>15.6</td>\n",
              "      <td>127</td>\n",
              "      <td>2.80</td>\n",
              "      <td>3.06</td>\n",
              "      <td>0.28</td>\n",
              "      <td>2.29</td>\n",
              "      <td>5.64</td>\n",
              "      <td>1.04</td>\n",
              "      <td>3.92</td>\n",
              "      <td>1065</td>\n",
              "    </tr>\n",
              "    <tr>\n",
              "      <th>1</th>\n",
              "      <td>1</td>\n",
              "      <td>13.20</td>\n",
              "      <td>1.78</td>\n",
              "      <td>2.14</td>\n",
              "      <td>11.2</td>\n",
              "      <td>100</td>\n",
              "      <td>2.65</td>\n",
              "      <td>2.76</td>\n",
              "      <td>0.26</td>\n",
              "      <td>1.28</td>\n",
              "      <td>4.38</td>\n",
              "      <td>1.05</td>\n",
              "      <td>3.40</td>\n",
              "      <td>1050</td>\n",
              "    </tr>\n",
              "    <tr>\n",
              "      <th>2</th>\n",
              "      <td>1</td>\n",
              "      <td>13.16</td>\n",
              "      <td>2.36</td>\n",
              "      <td>2.67</td>\n",
              "      <td>18.6</td>\n",
              "      <td>101</td>\n",
              "      <td>2.80</td>\n",
              "      <td>3.24</td>\n",
              "      <td>0.30</td>\n",
              "      <td>2.81</td>\n",
              "      <td>5.68</td>\n",
              "      <td>1.03</td>\n",
              "      <td>3.17</td>\n",
              "      <td>1185</td>\n",
              "    </tr>\n",
              "    <tr>\n",
              "      <th>3</th>\n",
              "      <td>1</td>\n",
              "      <td>14.37</td>\n",
              "      <td>1.95</td>\n",
              "      <td>2.50</td>\n",
              "      <td>16.8</td>\n",
              "      <td>113</td>\n",
              "      <td>3.85</td>\n",
              "      <td>3.49</td>\n",
              "      <td>0.24</td>\n",
              "      <td>2.18</td>\n",
              "      <td>7.80</td>\n",
              "      <td>0.86</td>\n",
              "      <td>3.45</td>\n",
              "      <td>1480</td>\n",
              "    </tr>\n",
              "    <tr>\n",
              "      <th>4</th>\n",
              "      <td>1</td>\n",
              "      <td>13.24</td>\n",
              "      <td>2.59</td>\n",
              "      <td>2.87</td>\n",
              "      <td>21.0</td>\n",
              "      <td>118</td>\n",
              "      <td>2.80</td>\n",
              "      <td>2.69</td>\n",
              "      <td>0.39</td>\n",
              "      <td>1.82</td>\n",
              "      <td>4.32</td>\n",
              "      <td>1.04</td>\n",
              "      <td>2.93</td>\n",
              "      <td>735</td>\n",
              "    </tr>\n",
              "  </tbody>\n",
              "</table>\n",
              "</div>"
            ],
            "text/plain": [
              "   Class label  Alcohol  ...  OD280/OD315 of diluted wines  Proline\n",
              "0            1    14.23  ...                          3.92     1065\n",
              "1            1    13.20  ...                          3.40     1050\n",
              "2            1    13.16  ...                          3.17     1185\n",
              "3            1    14.37  ...                          3.45     1480\n",
              "4            1    13.24  ...                          2.93      735\n",
              "\n",
              "[5 rows x 14 columns]"
            ]
          },
          "metadata": {
            "tags": []
          },
          "execution_count": 84
        }
      ]
    },
    {
      "cell_type": "markdown",
      "metadata": {
        "id": "FjKUoKmy9VAY",
        "colab_type": "text"
      },
      "source": [
        "### 2. data preprocessing"
      ]
    },
    {
      "cell_type": "code",
      "metadata": {
        "id": "hZF-wZVT9Xd0",
        "colab_type": "code",
        "colab": {}
      },
      "source": [
        "y = df_wine['Class label'].values  # all 3 classes\n",
        "X = df_wine.values[:, 1:]   # all features\n",
        "\n",
        "le = LabelEncoder()\n",
        "y = le.fit_transform(y)  # transform label to 0 and 1"
      ],
      "execution_count": 0,
      "outputs": []
    },
    {
      "cell_type": "code",
      "metadata": {
        "id": "i1QfBvi79680",
        "colab_type": "code",
        "outputId": "10c7c033-9bfa-4dac-e7d8-86cd1dcc3aad",
        "colab": {
          "base_uri": "https://localhost:8080/",
          "height": 35
        }
      },
      "source": [
        "X.shape"
      ],
      "execution_count": 0,
      "outputs": [
        {
          "output_type": "execute_result",
          "data": {
            "text/plain": [
              "(178, 13)"
            ]
          },
          "metadata": {
            "tags": []
          },
          "execution_count": 88
        }
      ]
    },
    {
      "cell_type": "code",
      "metadata": {
        "id": "M_6F_PWj99qn",
        "colab_type": "code",
        "outputId": "5b978d63-2765-4799-af63-aa9f88e06e6f",
        "colab": {
          "base_uri": "https://localhost:8080/",
          "height": 35
        }
      },
      "source": [
        "y.shape"
      ],
      "execution_count": 0,
      "outputs": [
        {
          "output_type": "execute_result",
          "data": {
            "text/plain": [
              "(178,)"
            ]
          },
          "metadata": {
            "tags": []
          },
          "execution_count": 89
        }
      ]
    },
    {
      "cell_type": "markdown",
      "metadata": {
        "id": "awlEdwFj9GCR",
        "colab_type": "text"
      },
      "source": [
        "### 3. split the data into training, validatioin datasets"
      ]
    },
    {
      "cell_type": "code",
      "metadata": {
        "id": "GmWAQWrI9LE6",
        "colab_type": "code",
        "colab": {}
      },
      "source": [
        "x_train, x_test, y_train, y_test = train_test_split(X, y, test_size = 0.2, random_state = 1)  # choose 20% of the data as validation dataset"
      ],
      "execution_count": 0,
      "outputs": []
    },
    {
      "cell_type": "markdown",
      "metadata": {
        "id": "j3xaYisj-U6D",
        "colab_type": "text"
      },
      "source": [
        "### 4. create and train the model"
      ]
    },
    {
      "cell_type": "code",
      "metadata": {
        "id": "gNx6ER888MZw",
        "colab_type": "code",
        "outputId": "ecf70459-e18e-4d90-94de-c47d28954f66",
        "colab": {
          "base_uri": "https://localhost:8080/",
          "height": 35
        }
      },
      "source": [
        "# create the model\n",
        "classifier = DecisionTreeClassifier(random_state = 0)\n",
        "\n",
        "# train the model\n",
        "classifier.fit(x_train, y_train)\n",
        "\n",
        "\n",
        "# make predictions based on the model\n",
        "predictions = classifier.predict(x_test)\n",
        "\n",
        "# evaluate the model\n",
        "round(classifier.score(x_test, y_test), 4) # evaluate the model, get predictions "
      ],
      "execution_count": 0,
      "outputs": [
        {
          "output_type": "execute_result",
          "data": {
            "text/plain": [
              "0.9167"
            ]
          },
          "metadata": {
            "tags": []
          },
          "execution_count": 102
        }
      ]
    },
    {
      "cell_type": "code",
      "metadata": {
        "id": "I69WlZL0BUc0",
        "colab_type": "code",
        "outputId": "81c485ce-74b3-43ac-8d50-c98ba511c168",
        "colab": {
          "base_uri": "https://localhost:8080/",
          "height": 35
        }
      },
      "source": [
        "classifier.tree_.max_depth  # get the depth of the tree"
      ],
      "execution_count": 0,
      "outputs": [
        {
          "output_type": "execute_result",
          "data": {
            "text/plain": [
              "5"
            ]
          },
          "metadata": {
            "tags": []
          },
          "execution_count": 96
        }
      ]
    },
    {
      "cell_type": "markdown",
      "metadata": {
        "id": "2-Ydi8IeB1iZ",
        "colab_type": "text"
      },
      "source": [
        "### 5. prune the tree by seting the max_depth"
      ]
    },
    {
      "cell_type": "markdown",
      "metadata": {
        "id": "k0DgR--HBmLR",
        "colab_type": "text"
      },
      "source": [
        "The current tree depth is 5. Let's prune it, and set the parameter max_depth to 4, and check the score\n",
        "\n",
        "Note: Since the max_depth is 5, not too big. There is no overfitting. Decrease the max_depth may not increase the score for this case."
      ]
    },
    {
      "cell_type": "code",
      "metadata": {
        "id": "uo8ILmByB8SR",
        "colab_type": "code",
        "outputId": "381694d1-ece3-4f48-a29b-8f7ab4d14203",
        "colab": {
          "base_uri": "https://localhost:8080/",
          "height": 35
        }
      },
      "source": [
        "classifier = DecisionTreeClassifier(max_depth = 4, random_state = 0)\n",
        "\n",
        "# train the model\n",
        "classifier.fit(x_train, y_train)\n",
        "\n",
        "\n",
        "# make predictions based on the model\n",
        "predictions = classifier.predict(x_test)\n",
        "\n",
        "# evaluate the model\n",
        "round(classifier.score(x_test, y_test), 4) # evaluate the model, get predictions "
      ],
      "execution_count": 0,
      "outputs": [
        {
          "output_type": "execute_result",
          "data": {
            "text/plain": [
              "0.9167"
            ]
          },
          "metadata": {
            "tags": []
          },
          "execution_count": 106
        }
      ]
    },
    {
      "cell_type": "markdown",
      "metadata": {
        "id": "jLF17wEfGCWH",
        "colab_type": "text"
      },
      "source": [
        "### 6. visualize the score with different max_depth"
      ]
    },
    {
      "cell_type": "code",
      "metadata": {
        "id": "_Gx3MjMIGJb0",
        "colab_type": "code",
        "outputId": "e04f2e0c-2177-422d-f4d1-e111bb0bf55f",
        "colab": {
          "base_uri": "https://localhost:8080/",
          "height": 296
        }
      },
      "source": [
        "scores = []\n",
        "for i in range(1, 11):\n",
        "  classifier = DecisionTreeClassifier(max_depth = i, random_state = 0)\n",
        "  classifier.fit(x_train, y_train)\n",
        "  scores.append(classifier.score(x_test, y_test)) # evaluate the model, get predictions \n",
        "\n",
        "plt.plot(range(1, 11), scores)\n",
        "plt.title(\"Decision Tree with different max_depth\")\n",
        "plt.xlabel('Max_depth')\n",
        "plt.ylabel('Score')\n",
        "plt.show()"
      ],
      "execution_count": 0,
      "outputs": [
        {
          "output_type": "display_data",
          "data": {
            "image/png": "[encoded data removed]",
            "text/plain": [
              "<Figure size 432x288 with 1 Axes>"
            ]
          },
          "metadata": {
            "tags": []
          }
        }
      ]
    },
    {
      "cell_type": "markdown",
      "metadata": {
        "id": "HN8MQbST_r30",
        "colab_type": "text"
      },
      "source": [
        "# Part Three: Decision Tree Limitations"
      ]
    },
    {
      "cell_type": "markdown",
      "metadata": {
        "id": "KesnbBJe_4fu",
        "colab_type": "text"
      },
      "source": [
        "- 1. The current strategy of creating trees is greedy. We can only get the local optimal.\n",
        "\n",
        "It iwill find the largest information gain right now and split on that feature. We never consider the ramifications of that split futher down the tree. \n",
        "\n",
        "Finding a globally optimal tree is an extremely difficult task, and finding a tree using our greedy approach is reasonable substitute.\n",
        "\n",
        "- 2. Another problem with our trees is that they potentially overfit the data. \n",
        "\n",
        "This means that the structure of the tree is too dependent on the training data and doesn't accurately represent the way the data in the real world looks like. In general, larger trees tend to overfit the data more. As the tree gets bigger, it becomes more tuned to the training data and it loses a more generalized understanding of the real world data\n",
        "\n",
        "One way to solve the overfitting problem is to prune the tree. The goal of pruning is to shrink the size of the tree. There are a few different pruning strategies. "
      ]
    },
    {
      "cell_type": "markdown",
      "metadata": {
        "id": "ZFO5Foh3vtot",
        "colab_type": "text"
      },
      "source": [
        "## Other notes: transform string variable into numerical"
      ]
    },
    {
      "cell_type": "code",
      "metadata": {
        "id": "s3iCFwWbIh3V",
        "colab_type": "code",
        "colab": {}
      },
      "source": [
        "#data['sex_int'] = data['sex'].apply(lambda row:0 if row == 'Male' else 1)\n",
        "\n",
        "#data[\"country-int\"] = data['native-country'].apply(lambda row : 0 if row == \"United-States\" else 1)"
      ],
      "execution_count": 0,
      "outputs": []
    },
    {
      "cell_type": "code",
      "metadata": {
        "id": "rGBuD6xlv8ZY",
        "colab_type": "code",
        "colab": {}
      },
      "source": [
        ""
      ],
      "execution_count": 0,
      "outputs": []
    }
  ]
}
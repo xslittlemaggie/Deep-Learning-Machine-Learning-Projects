{
  "nbformat": 4,
  "nbformat_minor": 0,
  "metadata": {
    "colab": {
      "name": "Random Forest & Decision Tree_LH.ipynb",
      "version": "0.3.2",
      "provenance": [],
      "include_colab_link": true
    },
    "kernelspec": {
      "name": "python3",
      "display_name": "Python 3"
    }
  },
  "cells": [
    {
      "cell_type": "markdown",
      "metadata": {
        "id": "view-in-github",
        "colab_type": "text"
      },
      "source": [
        "<a href=\"https://colab.research.google.com/github/xslittlemaggie/Deep-Learning-Machine-Learning-Projects/blob/master/Random_Forest_%26_Decision_Tree_LH.ipynb\" target=\"_parent\"><img src=\"https://colab.research.google.com/assets/colab-badge.svg\" alt=\"Open In Colab\"/></a>"
      ]
    },
    {
      "cell_type": "code",
      "metadata": {
        "id": "xjct6c_7O9qs",
        "colab_type": "code",
        "colab": {}
      },
      "source": [
        ""
      ],
      "execution_count": 0,
      "outputs": []
    },
    {
      "cell_type": "markdown",
      "metadata": {
        "id": "VtN4PMZbPE1D",
        "colab_type": "text"
      },
      "source": [
        "## Import libraries"
      ]
    },
    {
      "cell_type": "code",
      "metadata": {
        "id": "1ibD_tqCPHsT",
        "colab_type": "code",
        "colab": {}
      },
      "source": [
        "import pandas as pd\n",
        "import numpy as np\n",
        "from sklearn.preprocessing import LabelEncoder\n",
        "from sklearn.model_selection import train_test_split\n",
        "\n",
        "from sklearn.tree import DecisionTreeClassifier\n",
        "from sklearn.ensemble import BaggingClassifier\n",
        "from sklearn.ensemble import RandomForestClassifier\n",
        "from sklearn.ensemble import AdaBoostClassifier\n",
        "from sklearn.ensemble import ExtraTreesClassifier\n",
        "from sklearn.metrics import accuracy_score\n",
        "\n",
        "from sklearn.datasets import make_classification\n",
        "\n",
        "from collections import OrderedDict\n",
        "import matplotlib.pyplot as plt"
      ],
      "execution_count": 0,
      "outputs": []
    },
    {
      "cell_type": "markdown",
      "metadata": {
        "id": "Fhux46ADYWW0",
        "colab_type": "text"
      },
      "source": [
        "# Part 1: Bagging (= Bootstrap Aggregating)  & Decision Tree"
      ]
    },
    {
      "cell_type": "markdown",
      "metadata": {
        "id": "L6AY9gN6RCxr",
        "colab_type": "text"
      },
      "source": [
        "## Step 1: Load data & clean data"
      ]
    },
    {
      "cell_type": "code",
      "metadata": {
        "id": "-EXUQVvYPJBE",
        "colab_type": "code",
        "outputId": "8b86fde9-ee09-4f2d-e403-78a5626be960",
        "colab": {
          "base_uri": "https://localhost:8080/",
          "height": 198
        }
      },
      "source": [
        "df_wine = pd.read_csv('http://archive.ics.uci.edu/ml/machine-learning-databases/wine/wine.data', header=None)\n",
        "df_wine.columns = ['Class label', 'Alcohol', 'Malic acid', 'Ash', 'Alcalinity of ash', 'Magnesium', \n",
        "                   'Total phenols', 'Flavanoids', 'Nonflavanoid phenols', 'Proanthocyanins', \n",
        "                   'Color intensity', 'Hue', 'OD280/OD315 of diluted wines', 'Proline']\n",
        "\n",
        "df_wine.head()"
      ],
      "execution_count": 36,
      "outputs": [
        {
          "output_type": "execute_result",
          "data": {
            "text/html": [
              "<div>\n",
              "<style scoped>\n",
              "    .dataframe tbody tr th:only-of-type {\n",
              "        vertical-align: middle;\n",
              "    }\n",
              "\n",
              "    .dataframe tbody tr th {\n",
              "        vertical-align: top;\n",
              "    }\n",
              "\n",
              "    .dataframe thead th {\n",
              "        text-align: right;\n",
              "    }\n",
              "</style>\n",
              "<table border=\"1\" class=\"dataframe\">\n",
              "  <thead>\n",
              "    <tr style=\"text-align: right;\">\n",
              "      <th></th>\n",
              "      <th>Class label</th>\n",
              "      <th>Alcohol</th>\n",
              "      <th>Malic acid</th>\n",
              "      <th>Ash</th>\n",
              "      <th>Alcalinity of ash</th>\n",
              "      <th>Magnesium</th>\n",
              "      <th>Total phenols</th>\n",
              "      <th>Flavanoids</th>\n",
              "      <th>Nonflavanoid phenols</th>\n",
              "      <th>Proanthocyanins</th>\n",
              "      <th>Color intensity</th>\n",
              "      <th>Hue</th>\n",
              "      <th>OD280/OD315 of diluted wines</th>\n",
              "      <th>Proline</th>\n",
              "    </tr>\n",
              "  </thead>\n",
              "  <tbody>\n",
              "    <tr>\n",
              "      <th>0</th>\n",
              "      <td>1</td>\n",
              "      <td>14.23</td>\n",
              "      <td>1.71</td>\n",
              "      <td>2.43</td>\n",
              "      <td>15.6</td>\n",
              "      <td>127</td>\n",
              "      <td>2.80</td>\n",
              "      <td>3.06</td>\n",
              "      <td>0.28</td>\n",
              "      <td>2.29</td>\n",
              "      <td>5.64</td>\n",
              "      <td>1.04</td>\n",
              "      <td>3.92</td>\n",
              "      <td>1065</td>\n",
              "    </tr>\n",
              "    <tr>\n",
              "      <th>1</th>\n",
              "      <td>1</td>\n",
              "      <td>13.20</td>\n",
              "      <td>1.78</td>\n",
              "      <td>2.14</td>\n",
              "      <td>11.2</td>\n",
              "      <td>100</td>\n",
              "      <td>2.65</td>\n",
              "      <td>2.76</td>\n",
              "      <td>0.26</td>\n",
              "      <td>1.28</td>\n",
              "      <td>4.38</td>\n",
              "      <td>1.05</td>\n",
              "      <td>3.40</td>\n",
              "      <td>1050</td>\n",
              "    </tr>\n",
              "    <tr>\n",
              "      <th>2</th>\n",
              "      <td>1</td>\n",
              "      <td>13.16</td>\n",
              "      <td>2.36</td>\n",
              "      <td>2.67</td>\n",
              "      <td>18.6</td>\n",
              "      <td>101</td>\n",
              "      <td>2.80</td>\n",
              "      <td>3.24</td>\n",
              "      <td>0.30</td>\n",
              "      <td>2.81</td>\n",
              "      <td>5.68</td>\n",
              "      <td>1.03</td>\n",
              "      <td>3.17</td>\n",
              "      <td>1185</td>\n",
              "    </tr>\n",
              "    <tr>\n",
              "      <th>3</th>\n",
              "      <td>1</td>\n",
              "      <td>14.37</td>\n",
              "      <td>1.95</td>\n",
              "      <td>2.50</td>\n",
              "      <td>16.8</td>\n",
              "      <td>113</td>\n",
              "      <td>3.85</td>\n",
              "      <td>3.49</td>\n",
              "      <td>0.24</td>\n",
              "      <td>2.18</td>\n",
              "      <td>7.80</td>\n",
              "      <td>0.86</td>\n",
              "      <td>3.45</td>\n",
              "      <td>1480</td>\n",
              "    </tr>\n",
              "    <tr>\n",
              "      <th>4</th>\n",
              "      <td>1</td>\n",
              "      <td>13.24</td>\n",
              "      <td>2.59</td>\n",
              "      <td>2.87</td>\n",
              "      <td>21.0</td>\n",
              "      <td>118</td>\n",
              "      <td>2.80</td>\n",
              "      <td>2.69</td>\n",
              "      <td>0.39</td>\n",
              "      <td>1.82</td>\n",
              "      <td>4.32</td>\n",
              "      <td>1.04</td>\n",
              "      <td>2.93</td>\n",
              "      <td>735</td>\n",
              "    </tr>\n",
              "  </tbody>\n",
              "</table>\n",
              "</div>"
            ],
            "text/plain": [
              "   Class label  Alcohol  ...  OD280/OD315 of diluted wines  Proline\n",
              "0            1    14.23  ...                          3.92     1065\n",
              "1            1    13.20  ...                          3.40     1050\n",
              "2            1    13.16  ...                          3.17     1185\n",
              "3            1    14.37  ...                          3.45     1480\n",
              "4            1    13.24  ...                          2.93      735\n",
              "\n",
              "[5 rows x 14 columns]"
            ]
          },
          "metadata": {
            "tags": []
          },
          "execution_count": 36
        }
      ]
    },
    {
      "cell_type": "code",
      "metadata": {
        "id": "3nZCeZwAPOrb",
        "colab_type": "code",
        "colab": {}
      },
      "source": [
        "df_wine = df_wine[df_wine[\"Class label\"] != 1] # only choose the data when \"Class label\" = 2 or 3"
      ],
      "execution_count": 0,
      "outputs": []
    },
    {
      "cell_type": "markdown",
      "metadata": {
        "id": "bEl1TDhnRMH_",
        "colab_type": "text"
      },
      "source": [
        "## Step 2: Data preprocessing"
      ]
    },
    {
      "cell_type": "markdown",
      "metadata": {
        "id": "g1Riqno4SNO9",
        "colab_type": "text"
      },
      "source": [
        "#### 2.1 determine features ( Alcohol, Hue) and target for classification(class label)"
      ]
    },
    {
      "cell_type": "code",
      "metadata": {
        "id": "zLoc0J2PQMK6",
        "colab_type": "code",
        "colab": {}
      },
      "source": [
        "y = df_wine[\"Class label\"].values\n",
        "X = df_wine[['Alcohol', 'Hue']].values # only choose two features for practice, it's easy for visualization\n",
        "\n",
        "le = LabelEncoder()\n",
        "y = le.fit_transform(y)  # transform label to 0 and 1"
      ],
      "execution_count": 0,
      "outputs": []
    },
    {
      "cell_type": "markdown",
      "metadata": {
        "id": "vXJ1_QJ3SPcS",
        "colab_type": "text"
      },
      "source": [
        "#### 2.2 Split training & testing dataset"
      ]
    },
    {
      "cell_type": "code",
      "metadata": {
        "id": "dTX7CBDCQeBv",
        "colab_type": "code",
        "colab": {}
      },
      "source": [
        "x_train, x_test, y_train, y_test = train_test_split(X, y, test_size = 0.4, random_state = 1)  # 40% for testing"
      ],
      "execution_count": 0,
      "outputs": []
    },
    {
      "cell_type": "markdown",
      "metadata": {
        "id": "R3kBskOrSVDY",
        "colab_type": "text"
      },
      "source": [
        "## Step 3: Bagging (= Bootstrap Aggregating) & Decision Tree Model Building"
      ]
    },
    {
      "cell_type": "markdown",
      "metadata": {
        "id": "MrdlvCYdSrRs",
        "colab_type": "text"
      },
      "source": [
        "#### 3.1 Create decision tree"
      ]
    },
    {
      "cell_type": "code",
      "metadata": {
        "id": "BVQ1go6gSYCn",
        "colab_type": "code",
        "colab": {}
      },
      "source": [
        "tree = DecisionTreeClassifier(criterion = 'entropy', max_depth = None)"
      ],
      "execution_count": 0,
      "outputs": []
    },
    {
      "cell_type": "markdown",
      "metadata": {
        "id": "OhywfpM7SvXc",
        "colab_type": "text"
      },
      "source": [
        "#### 3.2 Create Forest with 500 trees"
      ]
    },
    {
      "cell_type": "code",
      "metadata": {
        "id": "ZuDge9P7Se25",
        "colab_type": "code",
        "colab": {}
      },
      "source": [
        "bag = BaggingClassifier(base_estimator = tree, n_estimators = 500, \n",
        "                        max_samples = 1.0, \n",
        "                        max_features = 1.0, \n",
        "                       bootstrap_features = False,\n",
        "                       n_jobs = 1,\n",
        "                       random_state = 1)"
      ],
      "execution_count": 0,
      "outputs": []
    },
    {
      "cell_type": "markdown",
      "metadata": {
        "id": "3b15PvIOTIR_",
        "colab_type": "text"
      },
      "source": [
        "#### 3.3 Evaluate the accuracy of a particular DT"
      ]
    },
    {
      "cell_type": "code",
      "metadata": {
        "id": "DhYXHzuPTAdj",
        "colab_type": "code",
        "outputId": "cd791d99-3ce4-49ae-e996-c35b2fd22a55",
        "colab": {
          "base_uri": "https://localhost:8080/",
          "height": 35
        }
      },
      "source": [
        "# train the model\n",
        "tree = tree.fit(x_train, y_train)\n",
        "\n",
        "# get predictions based on the model\n",
        "y_train_pred = tree.predict(x_train)\n",
        "y_test_pred = tree.predict(x_test)\n",
        "\n",
        "# get the accuracy for train and test datasets\n",
        "tree_train = accuracy_score(y_train, y_train_pred)\n",
        "tree_test = accuracy_score(y_test, y_test_pred)\n",
        "\n",
        "print('Decision tree train/test accuracies: {:.3f}/{:.3f}'.format(tree_train, tree_test))"
      ],
      "execution_count": 44,
      "outputs": [
        {
          "output_type": "stream",
          "text": [
            "Decision tree train/test accuracies: 1.000/0.833\n"
          ],
          "name": "stdout"
        }
      ]
    },
    {
      "cell_type": "markdown",
      "metadata": {
        "id": "Jrye7FtlUQvZ",
        "colab_type": "text"
      },
      "source": [
        "#### 3.4 Evaluate the accuracy of the bagging"
      ]
    },
    {
      "cell_type": "code",
      "metadata": {
        "id": "U535Tq4NTzvE",
        "colab_type": "code",
        "outputId": "cc2b6fb9-18bb-4487-aef8-e480f4b63f92",
        "colab": {
          "base_uri": "https://localhost:8080/",
          "height": 35
        }
      },
      "source": [
        "# train the model\n",
        "bag = bag.fit(x_train, y_train)\n",
        "\n",
        "# get predictions based on the model\n",
        "y_train_pred = bag.predict(x_train)\n",
        "y_test_pred = bag.predict(x_test)\n",
        "\n",
        "# get the accuracy for train and test datasets\n",
        "bag_train = accuracy_score(y_train, y_train_pred)\n",
        "bag_test = accuracy_score(y_test, y_test_pred)\n",
        "\n",
        "print('Bagging train/test accuracies: {:.3f}/{:.3f}'.format(bag_train, bag_test))"
      ],
      "execution_count": 45,
      "outputs": [
        {
          "output_type": "stream",
          "text": [
            "Bagging train/test accuracies: 1.000/0.896\n"
          ],
          "name": "stdout"
        }
      ]
    },
    {
      "cell_type": "markdown",
      "metadata": {
        "id": "YtAvtin3U_uc",
        "colab_type": "text"
      },
      "source": [
        "From the results above, with the same dataset, the bagging classifier performs better than a single Decision Tree"
      ]
    },
    {
      "cell_type": "markdown",
      "metadata": {
        "id": "5yTtRpDhVOhE",
        "colab_type": "text"
      },
      "source": [
        "#### Step 4: Visualization of the different classifiers"
      ]
    },
    {
      "cell_type": "code",
      "metadata": {
        "id": "HIgmX2e7U75r",
        "colab_type": "code",
        "outputId": "32f9fdbd-cf40-4a0c-a53d-358f14036120",
        "colab": {
          "base_uri": "https://localhost:8080/",
          "height": 227
        }
      },
      "source": [
        "\n",
        "x_min = x_train[:, 0].min() - 1\n",
        "x_max = x_train[:, 0].max() + 1\n",
        "y_min = x_train[:, 1].min() - 1\n",
        "y_max = x_train[:, 1].max() + 1\n",
        "xx, yy = np.meshgrid(np.arange(x_min, x_max, 0.1), np.arange(y_min, y_max, 0.1))\n",
        "f, axarr = plt.subplots(nrows=1, ncols=2, sharex='col', sharey='row', figsize=(8, 3))\n",
        "\n",
        "for idx, clf, tt in zip([0, 1], [tree, bag], ['Decision Tree', 'Bagging']):\n",
        "    clf.fit(x_train, y_train)\n",
        "    Z = clf.predict(np.c_[xx.ravel(), yy.ravel()])\n",
        "    Z = Z.reshape(xx.shape)\n",
        "    axarr[idx].contourf(xx, yy, Z, alpha=0.3)\n",
        "    axarr[idx].scatter(x_train[y_train==0, 0], x_train[y_train==0, 1], c='blue', marker='^')\n",
        "    axarr[idx].scatter(x_train[y_train==1, 0], x_train[y_train==1, 1], c='red', marker='o')\n",
        "    axarr[idx].set_title(tt)\n",
        "\n",
        "plt.show()"
      ],
      "execution_count": 46,
      "outputs": [
        {
          "output_type": "display_data",
          "data": {
            "image/png": "[encoded data removed]",
            "text/plain": [
              "<Figure size 576x216 with 2 Axes>"
            ]
          },
          "metadata": {
            "tags": []
          }
        }
      ]
    },
    {
      "cell_type": "markdown",
      "metadata": {
        "id": "pLNuEFdmWGCi",
        "colab_type": "text"
      },
      "source": [
        "From the plots above, the boundaries of bagging is smooth"
      ]
    },
    {
      "cell_type": "markdown",
      "metadata": {
        "id": "J1Avwl26YRXm",
        "colab_type": "text"
      },
      "source": [
        "# Part 2: Random Forest"
      ]
    },
    {
      "cell_type": "markdown",
      "metadata": {
        "id": "bek51eOSWSGv",
        "colab_type": "text"
      },
      "source": [
        "## Step 1: Random Forests\n",
        "The difference between RF and Bagging is that the RF chooses the features randomly.\n",
        "\n",
        "1. Bootstrap (sampling with replacement)\n",
        "2. Create DT for the bootstrap\n",
        "  - randomly choose features  e.g. sqrt(m)  m is the total number of features\n",
        "3. Repeat the process 1 and 2\n",
        "4. Ensemble all the DTs for prediction\n",
        " "
      ]
    },
    {
      "cell_type": "markdown",
      "metadata": {
        "id": "vOYIK4_CWzkn",
        "colab_type": "text"
      },
      "source": [
        "#### 1.1 bootstrap (sampling with replacement)"
      ]
    },
    {
      "cell_type": "code",
      "metadata": {
        "id": "y0oVs9TkWWkL",
        "colab_type": "code",
        "colab": {}
      },
      "source": [
        "df_wine = pd.read_csv('http://archive.ics.uci.edu/ml/machine-learning-databases/wine/wine.data', header=None)\n",
        "df_wine.columns = ['Class label', 'Alcohol', 'Malic acid', 'Ash', 'Alcalinity of ash', \n",
        "                   'Magnesium', 'Total phenols', 'Flavanoids', 'Nonflavanoid phenols', \n",
        "                   'Proanthocyanins', 'Color intensity', 'Hue', 'OD280/OD315 of diluted wines', \n",
        "                   'Proline']\n",
        "y = df_wine['Class label'].values  # all 3 classes\n",
        "X = df_wine.values[:, 1:]   # all features\n",
        "\n",
        "y = le.fit_transform(y)  # label y values from 0 "
      ],
      "execution_count": 0,
      "outputs": []
    },
    {
      "cell_type": "code",
      "metadata": {
        "id": "gqcjNmmkXuoa",
        "colab_type": "code",
        "colab": {}
      },
      "source": [
        "x_train, x_test, y_train, y_test = train_test_split(X, y, test_size = 0.4, random_state = 1)  # 40% for testing"
      ],
      "execution_count": 0,
      "outputs": []
    },
    {
      "cell_type": "markdown",
      "metadata": {
        "id": "OpUNb5BSYvd7",
        "colab_type": "text"
      },
      "source": [
        "## Step 2: Random Forest Model Building & Calculate the most important features"
      ]
    },
    {
      "cell_type": "code",
      "metadata": {
        "id": "p2CG7Og-Yy8i",
        "colab_type": "code",
        "colab": {}
      },
      "source": [
        "rf = RandomForestClassifier(n_estimators=1000, criterion='gini', \n",
        "                            max_features='sqrt', \n",
        "                            max_depth=None, \n",
        "                            min_samples_split=2, \n",
        "                            bootstrap=True, \n",
        "                            n_jobs=1, \n",
        "                            random_state=1)\n"
      ],
      "execution_count": 0,
      "outputs": []
    },
    {
      "cell_type": "code",
      "metadata": {
        "id": "D0TRLA1EY8WU",
        "colab_type": "code",
        "outputId": "57a4a379-4821-430a-a5e1-f67e2c5a64d1",
        "colab": {
          "base_uri": "https://localhost:8080/",
          "height": 35
        }
      },
      "source": [
        "# create the model\n",
        "rf = rf.fit(x_train, y_train)\n",
        "\n",
        "# get the predictions based on the model\n",
        "y_train_pred = rf.predict(x_train)\n",
        "y_test_pred = rf.predict(x_test)\n",
        "\n",
        "# get the accuracy\n",
        "rf_train = accuracy_score(y_train, y_train_pred)\n",
        "rf_test = accuracy_score(y_test, y_test_pred)\n",
        "\n",
        "print(\"Random Forest train/test accuracies: {:.3f}/{:.3f}\".format(rf_train, rf_test))"
      ],
      "execution_count": 103,
      "outputs": [
        {
          "output_type": "stream",
          "text": [
            "Random Forest train/test accuracies: 1.000/0.986\n"
          ],
          "name": "stdout"
        }
      ]
    },
    {
      "cell_type": "code",
      "metadata": {
        "id": "oDZ-GLa-cVXx",
        "colab_type": "code",
        "colab": {
          "base_uri": "https://localhost:8080/",
          "height": 753
        },
        "outputId": "cfac97d2-69ab-4668-d8ff-9f6b62a688c3"
      },
      "source": [
        "df_wine.columns = ['Class label', 'Alcohol', 'Malic acid', 'Ash', 'Alcalinity of ash', 'Magnesium', \n",
        "                   'Total phenols', 'Flavanoids', 'Nonflavanoid phenols', 'Proanthocyanins', \n",
        "                   'Color intensity', 'Hue', 'OD280/OD315 of diluted wines', 'Proline']\n",
        "\n",
        "feature_importance = rf.feature_importances_\n",
        "def plot_feature_importances(feature_importances, title, feature_names):\n",
        "  feature_importances = 100 * (feature_importances / max(feature_importances))\n",
        "  #按特征重要性进行排序\n",
        "  index_sorted = np.flipud(np.argsort(feature_importances))\n",
        "  pos = np.arange(index_sorted.shape[0]) + 0.8\n",
        "  plt.figure(figsize=(20,10))\n",
        "  #plt.figure()\n",
        "  plt.bar(pos, feature_importances[index_sorted], align = 'center')\n",
        "  plt.xticks(pos, np.array(feature_names)[index_sorted])\n",
        "  plt.xticks(rotation=90)\n",
        "  plt.ylabel('Relative Importance')\n",
        "  plt.title(title)\n",
        "  plt.show()\n",
        "  \n",
        "plot_feature_importances(feature_importances, 'Feature importances', df_wine.columns)\n"
      ],
      "execution_count": 104,
      "outputs": [
        {
          "output_type": "display_data",
          "data": {
            "image/png": "[encoded data removed]",
            "text/plain": [
              "<Figure size 1440x720 with 1 Axes>"
            ]
          },
          "metadata": {
            "tags": []
          }
        }
      ]
    },
    {
      "cell_type": "code",
      "metadata": {
        "id": "mCt-tNRSkQuK",
        "colab_type": "code",
        "colab": {
          "base_uri": "https://localhost:8080/",
          "height": 242
        },
        "outputId": "dba8f079-641b-4959-b6e4-ad08967f2e7a"
      },
      "source": [
        "importance = feature_importances[index_sorted]\n",
        "features = np.array(df_wine.columns)[index_sorted]\n",
        "res = [(feature, val) for feature, val in zip(features, importance)]\n",
        "for f, v in res:\n",
        "  print(\"{} : {:.4f}\".format(f, v))"
      ],
      "execution_count": 115,
      "outputs": [
        {
          "output_type": "stream",
          "text": [
            "OD280/OD315 of diluted wines : 100.0000\n",
            "Total phenols : 97.3489\n",
            "Proanthocyanins : 70.7191\n",
            "Class label : 68.2714\n",
            "Color intensity : 67.2455\n",
            "Hue : 59.8471\n",
            "Magnesium : 31.3575\n",
            "Alcohol : 21.5702\n",
            "Ash : 16.5644\n",
            "Alcalinity of ash : 16.1120\n",
            "Nonflavanoid phenols : 11.7209\n",
            "Flavanoids : 10.5253\n",
            "Malic acid : 8.5069\n"
          ],
          "name": "stdout"
        }
      ]
    },
    {
      "cell_type": "code",
      "metadata": {
        "id": "oBOSItEsk2xr",
        "colab_type": "code",
        "colab": {
          "base_uri": "https://localhost:8080/",
          "height": 35
        },
        "outputId": "c77ed78d-6e32-479d-8045-326bda5ba280"
      },
      "source": [
        "zip(features, importance)\n"
      ],
      "execution_count": 90,
      "outputs": [
        {
          "output_type": "execute_result",
          "data": {
            "text/plain": [
              "<zip at 0x7fa064b59e88>"
            ]
          },
          "metadata": {
            "tags": []
          },
          "execution_count": 90
        }
      ]
    },
    {
      "cell_type": "markdown",
      "metadata": {
        "id": "_Abe_z1EZw4k",
        "colab_type": "text"
      },
      "source": [
        "# Part 3: Boosting"
      ]
    },
    {
      "cell_type": "markdown",
      "metadata": {
        "id": "S-OIiqSda6tR",
        "colab_type": "text"
      },
      "source": [
        "## Step 1: Adaptive Boosting"
      ]
    },
    {
      "cell_type": "markdown",
      "metadata": {
        "id": "AwuoYOCcbVhW",
        "colab_type": "text"
      },
      "source": [
        "#### 1.1 DT"
      ]
    },
    {
      "cell_type": "code",
      "metadata": {
        "id": "QHT4r6woZUP_",
        "colab_type": "code",
        "outputId": "0841b7a4-3045-47d5-ef41-1a4d555513e0",
        "colab": {
          "base_uri": "https://localhost:8080/",
          "height": 35
        }
      },
      "source": [
        "tree = DecisionTreeClassifier(criterion='entropy', max_depth=1)\n",
        "tree = tree.fit(x_train, y_train)\n",
        "y_train_pred = tree.predict(x_train)\n",
        "y_test_pred = tree.predict(x_test)\n",
        "tree_train = accuracy_score(y_train, y_train_pred)\n",
        "tree_test = accuracy_score(y_test, y_test_pred)\n",
        "print('Decision tree train/test accuracies: %.3f/%.3f' % (tree_train, tree_test)) # Decision tree train/test accuracies 0.915/0.896\n"
      ],
      "execution_count": 0,
      "outputs": [
        {
          "output_type": "stream",
          "text": [
            "Decision tree train/test accuracies: 0.613/0.556\n"
          ],
          "name": "stdout"
        }
      ]
    },
    {
      "cell_type": "markdown",
      "metadata": {
        "id": "Rwhq7YpubfHp",
        "colab_type": "text"
      },
      "source": [
        "#### 1.2 Boosting"
      ]
    },
    {
      "cell_type": "code",
      "metadata": {
        "id": "-L7ahkOQbhZl",
        "colab_type": "code",
        "outputId": "c912b98c-d24d-4e43-b509-5e320180145f",
        "colab": {
          "base_uri": "https://localhost:8080/",
          "height": 35
        }
      },
      "source": [
        "ada = AdaBoostClassifier(base_estimator=tree, n_estimators=1000, learning_rate=0.1, random_state=0)\n",
        "ada = ada.fit(x_train, y_train)\n",
        "y_train_pred = ada.predict(x_train)\n",
        "y_test_pred = ada.predict(x_test)\n",
        "ada_train = accuracy_score(y_train, y_train_pred)\n",
        "ada_test = accuracy_score(y_test, y_test_pred)\n",
        "print('AdaBoost train/test accuracies: %.3f/%.3f' % (ada_train, ada_test)) # AdaBoost train/test accuracies 1.000/0.979"
      ],
      "execution_count": 0,
      "outputs": [
        {
          "output_type": "stream",
          "text": [
            "AdaBoost train/test accuracies: 1.000/0.958\n"
          ],
          "name": "stdout"
        }
      ]
    },
    {
      "cell_type": "markdown",
      "metadata": {
        "id": "Hlqx4zQwmudy",
        "colab_type": "text"
      },
      "source": [
        "# Part 4: Random Forest - Out of bag error"
      ]
    },
    {
      "cell_type": "code",
      "metadata": {
        "id": "aol-XrGdm2G_",
        "colab_type": "code",
        "colab": {}
      },
      "source": [
        "RANDOM_STATE = 123\n",
        "\n",
        "# Generate a binary classification dataset\n",
        "\n",
        "X, y = make_classification(n_samples = 500, n_features = 25, n_clusters_per_class = 1, n_informative = 15, random_state = RANDOM_STATE)"
      ],
      "execution_count": 0,
      "outputs": []
    },
    {
      "cell_type": "code",
      "metadata": {
        "id": "1wkOYvL9nygd",
        "colab_type": "code",
        "colab": {}
      },
      "source": [
        "ensemble_clfs = [\n",
        "    (\"RandomForestClassifier, max_features='sqrt'\",\n",
        "        RandomForestClassifier(warm_start=True, oob_score=True,\n",
        "                               max_features=\"sqrt\",\n",
        "                               random_state=RANDOM_STATE)),\n",
        "    (\"RandomForestClassifier, max_features='log2'\",\n",
        "        RandomForestClassifier(warm_start=True, max_features='log2',\n",
        "                               oob_score=True,\n",
        "                               random_state=RANDOM_STATE)),\n",
        "    (\"RandomForestClassifier, max_features=None\",\n",
        "        RandomForestClassifier(warm_start=True, max_features=None,\n",
        "                               oob_score=True,\n",
        "                               random_state=RANDOM_STATE))\n",
        "]\n"
      ],
      "execution_count": 0,
      "outputs": []
    },
    {
      "cell_type": "code",
      "metadata": {
        "id": "xUk9iz5ToBEV",
        "colab_type": "code",
        "colab": {
          "base_uri": "https://localhost:8080/",
          "height": 526
        },
        "outputId": "91c8da79-4716-497e-8ed2-d6bf1118edc4"
      },
      "source": [
        "error_rate = OrderedDict((label, []) for label, _ in ensemble_clfs)\n",
        "\n",
        "# Map a classifier name to a list of (n_estimators, error_rate) pairs\n",
        "\n",
        "min_estimators = 15\n",
        "max_estimators = 175\n",
        "\n",
        "for label, clf in ensemble_clfs:\n",
        "  for i in range(min_estimators, max_estimators + 1):\n",
        "    clf.set_params(n_estimators = i)\n",
        "    clf.fit(X, y)\n",
        "    \n",
        "    # Record the OOB error for each n_estimators = i setting\n",
        "    obb_error = 1 - clf.oob_score_\n",
        "    error_rate[label].append((i, obb_error))\n",
        "    \n",
        "# generate the OOB error rate vs. n_estimators plot\n",
        "\n",
        "for label, clf_err in error_rate.items():\n",
        "  xs, ys = zip(*clf_err)\n",
        "  plt.plot(xs, ys, label = label)\n",
        "\n",
        "plt.xlim(min_estimators, max_estimators)\n",
        "plt.xlabel('n_estimators')\n",
        "plt.ylabel('OOB error rate')\n",
        "plt.legend(loc = 'uppoer right')\n",
        "plt.show()"
      ],
      "execution_count": 74,
      "outputs": [
        {
          "output_type": "stream",
          "text": [
            "/usr/local/lib/python3.6/dist-packages/matplotlib/legend.py:497: UserWarning: Unrecognized location \"uppoer right\". Falling back on \"best\"; valid locations are\n",
            "\tbest\n",
            "\tupper right\n",
            "\tupper left\n",
            "\tlower left\n",
            "\tlower right\n",
            "\tright\n",
            "\tcenter left\n",
            "\tcenter right\n",
            "\tlower center\n",
            "\tupper center\n",
            "\tcenter\n",
            "\n",
            "  % (loc, '\\n\\t'.join(self.codes)))\n"
          ],
          "name": "stderr"
        },
        {
          "output_type": "display_data",
          "data": {
            "image/png": "[encoded data removed]",
            "text/plain": [
              "<Figure size 432x288 with 1 Axes>"
            ]
          },
          "metadata": {
            "tags": []
          }
        }
      ]
    },
    {
      "cell_type": "markdown",
      "metadata": {
        "id": "92Z3XWLSaklm",
        "colab_type": "text"
      },
      "source": [
        "Useful Reference:\n",
        "\n",
        "URL_1 = \"https://blog.csdn.net/xlinsist/article/details/51475345\" **(DT, Bagging, RF, Boosting)**\n",
        "URL_2 = \"https://blog.csdn.net/wangqi880/article/details/49765673\" **(bootstrap, bagging, boosting)**\n",
        "\n",
        "URL_3 = 'https://blog.csdn.net/qq_15111861/article/details/80366787' **(most important features calculation)**"
      ]
    },
    {
      "cell_type": "code",
      "metadata": {
        "id": "Cy9hYUxDarL8",
        "colab_type": "code",
        "colab": {
          "base_uri": "https://localhost:8080/",
          "height": 158
        },
        "outputId": "ce89c0fe-60f8-4874-a70b-a82b3f5fea98"
      },
      "source": [
        "from sklearn.datasets import load_boston\n",
        "from sklearn.ensemble import RandomForestRegressor\n",
        "import numpy as np\n",
        "#Load boston housing dataset as an example\n",
        "boston = load_boston()\n",
        "X = boston[\"data\"]\n",
        "print (type(X),X.shape)\n",
        "Y = boston[\"target\"]\n",
        "names = boston[\"feature_names\"]\n",
        "print (names)\n",
        "rf = RandomForestRegressor()\n",
        "rf.fit(X, Y)\n",
        "print (\"Features sorted by their score:\")\n",
        "print (sorted(zip(map(lambda x: round(x, 4), rf.feature_importances_), names), reverse=True))"
      ],
      "execution_count": 119,
      "outputs": [
        {
          "output_type": "stream",
          "text": [
            "<class 'numpy.ndarray'> (506, 13)\n",
            "['CRIM' 'ZN' 'INDUS' 'CHAS' 'NOX' 'RM' 'AGE' 'DIS' 'RAD' 'TAX' 'PTRATIO'\n",
            " 'B' 'LSTAT']\n",
            "Features sorted by their score:\n",
            "[(0.5417, 'RM'), (0.2724, 'LSTAT'), (0.048, 'DIS'), (0.0461, 'CRIM'), (0.0293, 'NOX'), (0.0154, 'PTRATIO'), (0.0142, 'B'), (0.0102, 'AGE'), (0.0101, 'TAX'), (0.006, 'INDUS'), (0.0053, 'RAD'), (0.0007, 'ZN'), (0.0004, 'CHAS')]\n"
          ],
          "name": "stdout"
        },
        {
          "output_type": "stream",
          "text": [
            "/usr/local/lib/python3.6/dist-packages/sklearn/ensemble/forest.py:245: FutureWarning: The default value of n_estimators will change from 10 in version 0.20 to 100 in 0.22.\n",
            "  \"10 in version 0.20 to 100 in 0.22.\", FutureWarning)\n"
          ],
          "name": "stderr"
        }
      ]
    },
    {
      "cell_type": "code",
      "metadata": {
        "id": "uyF5a7C7m9uM",
        "colab_type": "code",
        "colab": {
          "base_uri": "https://localhost:8080/",
          "height": 235
        },
        "outputId": "8564895e-c101-459c-ba20-0680985470fa"
      },
      "source": [
        "\n",
        "from sklearn.model_selection import ShuffleSplit\n",
        "from sklearn.metrics import r2_score\n",
        "from collections import defaultdict\n",
        "\n",
        "X = boston[\"data\"]\n",
        "Y = boston[\"target\"]\n",
        "\n",
        "rf = RandomForestRegressor()\n",
        "scores = defaultdict(list)\n",
        "\n",
        "#crossvalidate the scores on a number of different random splits of the data\n",
        "for train_idx, test_idx in ShuffleSplit(len(X), 100, .3):\n",
        "    X_train, X_test = X[train_idx], X[test_idx]\n",
        "    Y_train, Y_test = Y[train_idx], Y[test_idx]\n",
        "    r = rf.fit(X_train, Y_train)\n",
        "    acc = r2_score(Y_test, rf.predict(X_test))\n",
        "    for i in range(X.shape[1]):\n",
        "        X_t = X_test.copy()\n",
        "        np.random.shuffle(X_t[:, i])\n",
        "        shuff_acc = r2_score(Y_test, rf.predict(X_t))\n",
        "        scores[names[i]].append((acc-shuff_acc)/acc)\n",
        "print (\"Features sorted by their score:\")\n",
        "print (sorted([(round(np.mean(score), 4), feat) for\n",
        "              feat, score in scores.items()], reverse=True))"
      ],
      "execution_count": 123,
      "outputs": [
        {
          "output_type": "error",
          "ename": "TypeError",
          "evalue": "ignored",
          "traceback": [
            "\u001b[0;31m---------------------------------------------------------------------------\u001b[0m",
            "\u001b[0;31mTypeError\u001b[0m                                 Traceback (most recent call last)",
            "\u001b[0;32m<ipython-input-123-5c057eb3a546>\u001b[0m in \u001b[0;36m<module>\u001b[0;34m()\u001b[0m\n\u001b[1;32m     11\u001b[0m \u001b[0;34m\u001b[0m\u001b[0m\n\u001b[1;32m     12\u001b[0m \u001b[0;31m#crossvalidate the scores on a number of different random splits of the data\u001b[0m\u001b[0;34m\u001b[0m\u001b[0;34m\u001b[0m\u001b[0;34m\u001b[0m\u001b[0m\n\u001b[0;32m---> 13\u001b[0;31m \u001b[0;32mfor\u001b[0m \u001b[0mtrain_idx\u001b[0m\u001b[0;34m,\u001b[0m \u001b[0mtest_idx\u001b[0m \u001b[0;32min\u001b[0m \u001b[0mShuffleSplit\u001b[0m\u001b[0;34m(\u001b[0m\u001b[0mlen\u001b[0m\u001b[0;34m(\u001b[0m\u001b[0mX\u001b[0m\u001b[0;34m)\u001b[0m\u001b[0;34m,\u001b[0m \u001b[0;36m100\u001b[0m\u001b[0;34m,\u001b[0m \u001b[0;36m.3\u001b[0m\u001b[0;34m)\u001b[0m\u001b[0;34m:\u001b[0m\u001b[0;34m\u001b[0m\u001b[0;34m\u001b[0m\u001b[0m\n\u001b[0m\u001b[1;32m     14\u001b[0m     \u001b[0mX_train\u001b[0m\u001b[0;34m,\u001b[0m \u001b[0mX_test\u001b[0m \u001b[0;34m=\u001b[0m \u001b[0mX\u001b[0m\u001b[0;34m[\u001b[0m\u001b[0mtrain_idx\u001b[0m\u001b[0;34m]\u001b[0m\u001b[0;34m,\u001b[0m \u001b[0mX\u001b[0m\u001b[0;34m[\u001b[0m\u001b[0mtest_idx\u001b[0m\u001b[0;34m]\u001b[0m\u001b[0;34m\u001b[0m\u001b[0;34m\u001b[0m\u001b[0m\n\u001b[1;32m     15\u001b[0m     \u001b[0mY_train\u001b[0m\u001b[0;34m,\u001b[0m \u001b[0mY_test\u001b[0m \u001b[0;34m=\u001b[0m \u001b[0mY\u001b[0m\u001b[0;34m[\u001b[0m\u001b[0mtrain_idx\u001b[0m\u001b[0;34m]\u001b[0m\u001b[0;34m,\u001b[0m \u001b[0mY\u001b[0m\u001b[0;34m[\u001b[0m\u001b[0mtest_idx\u001b[0m\u001b[0;34m]\u001b[0m\u001b[0;34m\u001b[0m\u001b[0;34m\u001b[0m\u001b[0m\n",
            "\u001b[0;31mTypeError\u001b[0m: 'ShuffleSplit' object is not iterable"
          ]
        }
      ]
    },
    {
      "cell_type": "code",
      "metadata": {
        "id": "O373dGHJniJx",
        "colab_type": "code",
        "colab": {}
      },
      "source": [
        ""
      ],
      "execution_count": 0,
      "outputs": []
    }
  ]
}
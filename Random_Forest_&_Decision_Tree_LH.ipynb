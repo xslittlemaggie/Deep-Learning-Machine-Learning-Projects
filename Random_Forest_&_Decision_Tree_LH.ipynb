{
  "nbformat": 4,
  "nbformat_minor": 0,
  "metadata": {
    "colab": {
      "name": "Random Forest & Decision Tree_LH.ipynb",
      "version": "0.3.2",
      "provenance": [],
      "include_colab_link": true
    },
    "kernelspec": {
      "name": "python3",
      "display_name": "Python 3"
    }
  },
  "cells": [
    {
      "cell_type": "markdown",
      "metadata": {
        "id": "view-in-github",
        "colab_type": "text"
      },
      "source": [
        "<a href=\"https://colab.research.google.com/github/xslittlemaggie/Deep-Learning-Machine-Learning-Projects/blob/master/Random_Forest_%26_Decision_Tree_LH.ipynb\" target=\"_parent\"><img src=\"https://colab.research.google.com/assets/colab-badge.svg\" alt=\"Open In Colab\"/></a>"
      ]
    },
    {
      "cell_type": "code",
      "metadata": {
        "id": "xjct6c_7O9qs",
        "colab_type": "code",
        "colab": {}
      },
      "source": [
        ""
      ],
      "execution_count": 0,
      "outputs": []
    },
    {
      "cell_type": "markdown",
      "metadata": {
        "id": "VtN4PMZbPE1D",
        "colab_type": "text"
      },
      "source": [
        "## Import libraries"
      ]
    },
    {
      "cell_type": "code",
      "metadata": {
        "id": "1ibD_tqCPHsT",
        "colab_type": "code",
        "colab": {}
      },
      "source": [
        "import pandas as pd\n",
        "import numpy as np\n",
        "from sklearn.preprocessing import LabelEncoder\n",
        "from sklearn.model_selection import train_test_split\n",
        "\n",
        "from sklearn.tree import DecisionTreeClassifier\n",
        "from sklearn.ensemble import BaggingClassifier\n",
        "from sklearn.ensemble import RandomForestClassifier\n",
        "from sklearn.ensemble import AdaBoostClassifier\n",
        "from sklearn.metrics import accuracy_score\n",
        "\n",
        "import matplotlib.pyplot as plt"
      ],
      "execution_count": 0,
      "outputs": []
    },
    {
      "cell_type": "markdown",
      "metadata": {
        "id": "Fhux46ADYWW0",
        "colab_type": "text"
      },
      "source": [
        "# Part 1: Bagging (= Bootstrap Aggregating)  & Decision Tree"
      ]
    },
    {
      "cell_type": "code",
      "metadata": {
        "id": "iy3Es3J_RCfP",
        "colab_type": "code",
        "colab": {}
      },
      "source": [
        ""
      ],
      "execution_count": 0,
      "outputs": []
    },
    {
      "cell_type": "markdown",
      "metadata": {
        "id": "L6AY9gN6RCxr",
        "colab_type": "text"
      },
      "source": [
        "## Step 1: Load data & clean data"
      ]
    },
    {
      "cell_type": "code",
      "metadata": {
        "id": "-EXUQVvYPJBE",
        "colab_type": "code",
        "colab": {
          "base_uri": "https://localhost:8080/",
          "height": 215
        },
        "outputId": "3fb526a7-afed-48eb-d622-5ce3a08acc38"
      },
      "source": [
        "df_wine = pd.read_csv('http://archive.ics.uci.edu/ml/machine-learning-databases/wine/wine.data', header=None)\n",
        "df_wine.columns = ['Class label', 'Alcohol', 'Malic acid', 'Ash', 'Alcalinity of ash', 'Magnesium', \n",
        "                   'Total phenols', 'Flavanoids', 'Nonflavanoid phenols', 'Proanthocyanins', \n",
        "                   'Color intensity', 'Hue', 'OD280/OD315 of diluted wines', 'Proline']\n",
        "\n",
        "df_wine.head()"
      ],
      "execution_count": 8,
      "outputs": [
        {
          "output_type": "execute_result",
          "data": {
            "text/html": [
              "<div>\n",
              "<style scoped>\n",
              "    .dataframe tbody tr th:only-of-type {\n",
              "        vertical-align: middle;\n",
              "    }\n",
              "\n",
              "    .dataframe tbody tr th {\n",
              "        vertical-align: top;\n",
              "    }\n",
              "\n",
              "    .dataframe thead th {\n",
              "        text-align: right;\n",
              "    }\n",
              "</style>\n",
              "<table border=\"1\" class=\"dataframe\">\n",
              "  <thead>\n",
              "    <tr style=\"text-align: right;\">\n",
              "      <th></th>\n",
              "      <th>Class label</th>\n",
              "      <th>Alcohol</th>\n",
              "      <th>Malic acid</th>\n",
              "      <th>Ash</th>\n",
              "      <th>Alcalinity of ash</th>\n",
              "      <th>Magnesium</th>\n",
              "      <th>Total phenols</th>\n",
              "      <th>Flavanoids</th>\n",
              "      <th>Nonflavanoid phenols</th>\n",
              "      <th>Proanthocyanins</th>\n",
              "      <th>Color intensity</th>\n",
              "      <th>Hue</th>\n",
              "      <th>OD280/OD315 of diluted wines</th>\n",
              "      <th>Proline</th>\n",
              "    </tr>\n",
              "  </thead>\n",
              "  <tbody>\n",
              "    <tr>\n",
              "      <th>0</th>\n",
              "      <td>1</td>\n",
              "      <td>14.23</td>\n",
              "      <td>1.71</td>\n",
              "      <td>2.43</td>\n",
              "      <td>15.6</td>\n",
              "      <td>127</td>\n",
              "      <td>2.80</td>\n",
              "      <td>3.06</td>\n",
              "      <td>0.28</td>\n",
              "      <td>2.29</td>\n",
              "      <td>5.64</td>\n",
              "      <td>1.04</td>\n",
              "      <td>3.92</td>\n",
              "      <td>1065</td>\n",
              "    </tr>\n",
              "    <tr>\n",
              "      <th>1</th>\n",
              "      <td>1</td>\n",
              "      <td>13.20</td>\n",
              "      <td>1.78</td>\n",
              "      <td>2.14</td>\n",
              "      <td>11.2</td>\n",
              "      <td>100</td>\n",
              "      <td>2.65</td>\n",
              "      <td>2.76</td>\n",
              "      <td>0.26</td>\n",
              "      <td>1.28</td>\n",
              "      <td>4.38</td>\n",
              "      <td>1.05</td>\n",
              "      <td>3.40</td>\n",
              "      <td>1050</td>\n",
              "    </tr>\n",
              "    <tr>\n",
              "      <th>2</th>\n",
              "      <td>1</td>\n",
              "      <td>13.16</td>\n",
              "      <td>2.36</td>\n",
              "      <td>2.67</td>\n",
              "      <td>18.6</td>\n",
              "      <td>101</td>\n",
              "      <td>2.80</td>\n",
              "      <td>3.24</td>\n",
              "      <td>0.30</td>\n",
              "      <td>2.81</td>\n",
              "      <td>5.68</td>\n",
              "      <td>1.03</td>\n",
              "      <td>3.17</td>\n",
              "      <td>1185</td>\n",
              "    </tr>\n",
              "    <tr>\n",
              "      <th>3</th>\n",
              "      <td>1</td>\n",
              "      <td>14.37</td>\n",
              "      <td>1.95</td>\n",
              "      <td>2.50</td>\n",
              "      <td>16.8</td>\n",
              "      <td>113</td>\n",
              "      <td>3.85</td>\n",
              "      <td>3.49</td>\n",
              "      <td>0.24</td>\n",
              "      <td>2.18</td>\n",
              "      <td>7.80</td>\n",
              "      <td>0.86</td>\n",
              "      <td>3.45</td>\n",
              "      <td>1480</td>\n",
              "    </tr>\n",
              "    <tr>\n",
              "      <th>4</th>\n",
              "      <td>1</td>\n",
              "      <td>13.24</td>\n",
              "      <td>2.59</td>\n",
              "      <td>2.87</td>\n",
              "      <td>21.0</td>\n",
              "      <td>118</td>\n",
              "      <td>2.80</td>\n",
              "      <td>2.69</td>\n",
              "      <td>0.39</td>\n",
              "      <td>1.82</td>\n",
              "      <td>4.32</td>\n",
              "      <td>1.04</td>\n",
              "      <td>2.93</td>\n",
              "      <td>735</td>\n",
              "    </tr>\n",
              "  </tbody>\n",
              "</table>\n",
              "</div>"
            ],
            "text/plain": [
              "   Class label  Alcohol  ...  OD280/OD315 of diluted wines  Proline\n",
              "0            1    14.23  ...                          3.92     1065\n",
              "1            1    13.20  ...                          3.40     1050\n",
              "2            1    13.16  ...                          3.17     1185\n",
              "3            1    14.37  ...                          3.45     1480\n",
              "4            1    13.24  ...                          2.93      735\n",
              "\n",
              "[5 rows x 14 columns]"
            ]
          },
          "metadata": {
            "tags": []
          },
          "execution_count": 8
        }
      ]
    },
    {
      "cell_type": "code",
      "metadata": {
        "id": "3nZCeZwAPOrb",
        "colab_type": "code",
        "colab": {}
      },
      "source": [
        "df_wine = df_wine[df_wine[\"Class label\"] != 1] # only choose the data when \"Class label\" = 2 or 3"
      ],
      "execution_count": 0,
      "outputs": []
    },
    {
      "cell_type": "markdown",
      "metadata": {
        "id": "bEl1TDhnRMH_",
        "colab_type": "text"
      },
      "source": [
        "## Step 2: Data preprocessing"
      ]
    },
    {
      "cell_type": "markdown",
      "metadata": {
        "id": "g1Riqno4SNO9",
        "colab_type": "text"
      },
      "source": [
        "#### 2.1 determine features ( Alcohol, Hue) and target for classification(class label)"
      ]
    },
    {
      "cell_type": "code",
      "metadata": {
        "id": "zLoc0J2PQMK6",
        "colab_type": "code",
        "colab": {}
      },
      "source": [
        "y = df_wine[\"Class label\"].values\n",
        "X = df_wine[['Alcohol', 'Hue']].values # only choose two features for practice, it's easy for visualization"
      ],
      "execution_count": 0,
      "outputs": []
    },
    {
      "cell_type": "code",
      "metadata": {
        "id": "kVwTS511RcoN",
        "colab_type": "code",
        "colab": {
          "base_uri": "https://localhost:8080/",
          "height": 121
        },
        "outputId": "287aec07-8a97-4acf-ca49-dfdc00f786cc"
      },
      "source": [
        "y"
      ],
      "execution_count": 22,
      "outputs": [
        {
          "output_type": "execute_result",
          "data": {
            "text/plain": [
              "array([2, 2, 2, 2, 2, 2, 2, 2, 2, 2, 2, 2, 2, 2, 2, 2, 2, 2, 2, 2, 2, 2,\n",
              "       2, 2, 2, 2, 2, 2, 2, 2, 2, 2, 2, 2, 2, 2, 2, 2, 2, 2, 2, 2, 2, 2,\n",
              "       2, 2, 2, 2, 2, 2, 2, 2, 2, 2, 2, 2, 2, 2, 2, 2, 2, 2, 2, 2, 2, 2,\n",
              "       2, 2, 2, 2, 2, 3, 3, 3, 3, 3, 3, 3, 3, 3, 3, 3, 3, 3, 3, 3, 3, 3,\n",
              "       3, 3, 3, 3, 3, 3, 3, 3, 3, 3, 3, 3, 3, 3, 3, 3, 3, 3, 3, 3, 3, 3,\n",
              "       3, 3, 3, 3, 3, 3, 3, 3, 3])"
            ]
          },
          "metadata": {
            "tags": []
          },
          "execution_count": 22
        }
      ]
    },
    {
      "cell_type": "code",
      "metadata": {
        "id": "afY1BorVQbph",
        "colab_type": "code",
        "colab": {
          "base_uri": "https://localhost:8080/",
          "height": 121
        },
        "outputId": "cffe2539-5e3d-4b15-90e9-4c56ee3d4bb0"
      },
      "source": [
        "le = LabelEncoder()\n",
        "y = le.fit_transform(y)  # transform label to 0 and 1\n",
        "y"
      ],
      "execution_count": 24,
      "outputs": [
        {
          "output_type": "execute_result",
          "data": {
            "text/plain": [
              "array([0, 0, 0, 0, 0, 0, 0, 0, 0, 0, 0, 0, 0, 0, 0, 0, 0, 0, 0, 0, 0, 0,\n",
              "       0, 0, 0, 0, 0, 0, 0, 0, 0, 0, 0, 0, 0, 0, 0, 0, 0, 0, 0, 0, 0, 0,\n",
              "       0, 0, 0, 0, 0, 0, 0, 0, 0, 0, 0, 0, 0, 0, 0, 0, 0, 0, 0, 0, 0, 0,\n",
              "       0, 0, 0, 0, 0, 1, 1, 1, 1, 1, 1, 1, 1, 1, 1, 1, 1, 1, 1, 1, 1, 1,\n",
              "       1, 1, 1, 1, 1, 1, 1, 1, 1, 1, 1, 1, 1, 1, 1, 1, 1, 1, 1, 1, 1, 1,\n",
              "       1, 1, 1, 1, 1, 1, 1, 1, 1])"
            ]
          },
          "metadata": {
            "tags": []
          },
          "execution_count": 24
        }
      ]
    },
    {
      "cell_type": "markdown",
      "metadata": {
        "id": "vXJ1_QJ3SPcS",
        "colab_type": "text"
      },
      "source": [
        "#### 2.2 Split training & testing dataset"
      ]
    },
    {
      "cell_type": "code",
      "metadata": {
        "id": "dTX7CBDCQeBv",
        "colab_type": "code",
        "colab": {}
      },
      "source": [
        "x_train, x_test, y_train, y_test = train_test_split(X, y, test_size = 0.4, random_state = 1)  # 40% for testing"
      ],
      "execution_count": 0,
      "outputs": []
    },
    {
      "cell_type": "code",
      "metadata": {
        "id": "mS_2nm8tR6gq",
        "colab_type": "code",
        "colab": {}
      },
      "source": [
        ""
      ],
      "execution_count": 0,
      "outputs": []
    },
    {
      "cell_type": "markdown",
      "metadata": {
        "id": "R3kBskOrSVDY",
        "colab_type": "text"
      },
      "source": [
        "## Step 3: Bagging (= Bootstrap Aggregating) & Decision Tree Model Building"
      ]
    },
    {
      "cell_type": "markdown",
      "metadata": {
        "id": "MrdlvCYdSrRs",
        "colab_type": "text"
      },
      "source": [
        "#### 3.1 Create decision tree"
      ]
    },
    {
      "cell_type": "code",
      "metadata": {
        "id": "BVQ1go6gSYCn",
        "colab_type": "code",
        "colab": {}
      },
      "source": [
        "tree = DecisionTreeClassifier(criterion = 'entropy', max_depth = None)"
      ],
      "execution_count": 0,
      "outputs": []
    },
    {
      "cell_type": "markdown",
      "metadata": {
        "id": "OhywfpM7SvXc",
        "colab_type": "text"
      },
      "source": [
        "#### 3.2 Create Forest with 500 trees"
      ]
    },
    {
      "cell_type": "code",
      "metadata": {
        "id": "ZuDge9P7Se25",
        "colab_type": "code",
        "colab": {}
      },
      "source": [
        "bag = BaggingClassifier(base_estimator = tree, n_estimators = 500, \n",
        "                        max_samples = 1.0, \n",
        "                        max_features = 1.0, \n",
        "                       bootstrap_features = False,\n",
        "                       n_jobs = 1,\n",
        "                       random_state = 1)"
      ],
      "execution_count": 0,
      "outputs": []
    },
    {
      "cell_type": "markdown",
      "metadata": {
        "id": "3b15PvIOTIR_",
        "colab_type": "text"
      },
      "source": [
        "#### 3.3 Evaluate the accuracy of a particular DT"
      ]
    },
    {
      "cell_type": "code",
      "metadata": {
        "id": "DhYXHzuPTAdj",
        "colab_type": "code",
        "colab": {
          "base_uri": "https://localhost:8080/",
          "height": 35
        },
        "outputId": "880b1cb3-0e2f-49d6-c470-76bca815a84f"
      },
      "source": [
        "# train the model\n",
        "tree = tree.fit(x_train, y_train)\n",
        "\n",
        "# get predictions based on the model\n",
        "y_train_pred = tree.predict(x_train)\n",
        "y_test_pred = tree.predict(x_test)\n",
        "\n",
        "# get the accuracy for train and test datasets\n",
        "tree_train = accuracy_score(y_train, y_train_pred)\n",
        "tree_test = accuracy_score(y_test, y_test_pred)\n",
        "\n",
        "print('Decision tree train/test accuracies: {:.3f}/{:.3f}'.format(tree_train, tree_test))"
      ],
      "execution_count": 36,
      "outputs": [
        {
          "output_type": "stream",
          "text": [
            "Decision tree train/test accuracies: 1.000/0.833\n"
          ],
          "name": "stdout"
        }
      ]
    },
    {
      "cell_type": "markdown",
      "metadata": {
        "id": "Jrye7FtlUQvZ",
        "colab_type": "text"
      },
      "source": [
        "#### 3.4 Evaluate the accuracy of the bagging"
      ]
    },
    {
      "cell_type": "code",
      "metadata": {
        "id": "U535Tq4NTzvE",
        "colab_type": "code",
        "colab": {
          "base_uri": "https://localhost:8080/",
          "height": 35
        },
        "outputId": "1756f330-13a0-4622-f4bd-de3bb13a2b02"
      },
      "source": [
        "# train the model\n",
        "bag = bag.fit(x_train, y_train)\n",
        "\n",
        "# get predictions based on the model\n",
        "y_train_pred = bag.predict(x_train)\n",
        "y_test_pred = bag.predict(x_test)\n",
        "\n",
        "# get the accuracy for train and test datasets\n",
        "bag_train = accuracy_score(y_train, y_train_pred)\n",
        "bag_test = accuracy_score(y_test, y_test_pred)\n",
        "\n",
        "print('Bagging train/test accuracies: {:.3f}/{:.3f}'.format(bag_train, bag_test))"
      ],
      "execution_count": 37,
      "outputs": [
        {
          "output_type": "stream",
          "text": [
            "Bagging train/test accuracies: 1.000/0.896\n"
          ],
          "name": "stdout"
        }
      ]
    },
    {
      "cell_type": "markdown",
      "metadata": {
        "id": "YtAvtin3U_uc",
        "colab_type": "text"
      },
      "source": [
        "From the results above, with the same dataset, the bagging classifier performs better than a single Decision Tree"
      ]
    },
    {
      "cell_type": "markdown",
      "metadata": {
        "id": "5yTtRpDhVOhE",
        "colab_type": "text"
      },
      "source": [
        "#### Step 4: Visualization of the different classifiers"
      ]
    },
    {
      "cell_type": "code",
      "metadata": {
        "id": "HIgmX2e7U75r",
        "colab_type": "code",
        "colab": {
          "base_uri": "https://localhost:8080/",
          "height": 227
        },
        "outputId": "3bdc6e05-db25-4236-e30e-4ac53d789045"
      },
      "source": [
        "\n",
        "x_min = x_train[:, 0].min() - 1\n",
        "x_max = x_train[:, 0].max() + 1\n",
        "y_min = x_train[:, 1].min() - 1\n",
        "y_max = x_train[:, 1].max() + 1\n",
        "xx, yy = np.meshgrid(np.arange(x_min, x_max, 0.1), np.arange(y_min, y_max, 0.1))\n",
        "f, axarr = plt.subplots(nrows=1, ncols=2, sharex='col', sharey='row', figsize=(8, 3))\n",
        "\n",
        "for idx, clf, tt in zip([0, 1], [tree, bag], ['Decision Tree', 'Bagging']):\n",
        "    clf.fit(x_train, y_train)\n",
        "    Z = clf.predict(np.c_[xx.ravel(), yy.ravel()])\n",
        "    Z = Z.reshape(xx.shape)\n",
        "    axarr[idx].contourf(xx, yy, Z, alpha=0.3)\n",
        "    axarr[idx].scatter(x_train[y_train==0, 0], x_train[y_train==0, 1], c='blue', marker='^')\n",
        "    axarr[idx].scatter(x_train[y_train==1, 0], x_train[y_train==1, 1], c='red', marker='o')\n",
        "    axarr[idx].set_title(tt)\n",
        "\n",
        "plt.show()"
      ],
      "execution_count": 47,
      "outputs": [
        {
          "output_type": "display_data",
          "data": {
            "image/png": "[encoded data removed]",
            "text/plain": [
              "<Figure size 576x216 with 2 Axes>"
            ]
          },
          "metadata": {
            "tags": []
          }
        }
      ]
    },
    {
      "cell_type": "markdown",
      "metadata": {
        "id": "pLNuEFdmWGCi",
        "colab_type": "text"
      },
      "source": [
        "From the plots above, the boundaries of bagging is smooth"
      ]
    },
    {
      "cell_type": "code",
      "metadata": {
        "id": "ljha1SLzVY4B",
        "colab_type": "code",
        "colab": {}
      },
      "source": [
        ""
      ],
      "execution_count": 0,
      "outputs": []
    },
    {
      "cell_type": "markdown",
      "metadata": {
        "id": "J1Avwl26YRXm",
        "colab_type": "text"
      },
      "source": [
        "# Part 2: Random Forest"
      ]
    },
    {
      "cell_type": "markdown",
      "metadata": {
        "id": "bek51eOSWSGv",
        "colab_type": "text"
      },
      "source": [
        "## Step 1: Random Forests\n",
        "The difference between RF and Bagging is that the RF chooses the features randomly.\n",
        "\n",
        "1. Bootstrap (sampling with replacement)\n",
        "2. Create DT for the bootstrap\n",
        "  - randomly choose features  e.g. sqrt(m)  m is the total number of features\n",
        "3. Repeat the process 1 and 2\n",
        "4. Ensemble all the DTs for prediction\n",
        " "
      ]
    },
    {
      "cell_type": "markdown",
      "metadata": {
        "id": "vOYIK4_CWzkn",
        "colab_type": "text"
      },
      "source": [
        "#### 1.1 bootstrap (sampling with replacement)"
      ]
    },
    {
      "cell_type": "code",
      "metadata": {
        "id": "y0oVs9TkWWkL",
        "colab_type": "code",
        "colab": {}
      },
      "source": [
        "df_wine = pd.read_csv('http://archive.ics.uci.edu/ml/machine-learning-databases/wine/wine.data', header=None)\n",
        "df_wine.columns = ['Class label', 'Alcohol', 'Malic acid', 'Ash', 'Alcalinity of ash', \n",
        "                   'Magnesium', 'Total phenols', 'Flavanoids', 'Nonflavanoid phenols', \n",
        "                   'Proanthocyanins', 'Color intensity', 'Hue', 'OD280/OD315 of diluted wines', \n",
        "                   'Proline']\n",
        "y = df_wine['Class label'].values  # all 3 classes\n",
        "X = df_wine.values[:, 1:]   # all features\n",
        "\n",
        "y = le.fit_transform(y)  # label y values from 0 "
      ],
      "execution_count": 0,
      "outputs": []
    },
    {
      "cell_type": "code",
      "metadata": {
        "id": "gqcjNmmkXuoa",
        "colab_type": "code",
        "colab": {}
      },
      "source": [
        "x_train, x_test, y_train, y_test = train_test_split(X, y, test_size = 0.4, random_state = 1)  # 40% for testing"
      ],
      "execution_count": 0,
      "outputs": []
    },
    {
      "cell_type": "code",
      "metadata": {
        "id": "tRwNqWoWX5Q7",
        "colab_type": "code",
        "colab": {}
      },
      "source": [
        ""
      ],
      "execution_count": 0,
      "outputs": []
    },
    {
      "cell_type": "markdown",
      "metadata": {
        "id": "OpUNb5BSYvd7",
        "colab_type": "text"
      },
      "source": [
        "## Step 2: Random Forest Model Building"
      ]
    },
    {
      "cell_type": "code",
      "metadata": {
        "id": "p2CG7Og-Yy8i",
        "colab_type": "code",
        "colab": {}
      },
      "source": [
        "rf = RandomForestClassifier(n_estimators=1000, criterion='gini', \n",
        "                            max_features='sqrt', \n",
        "                            max_depth=None, \n",
        "                            min_samples_split=2, \n",
        "                            bootstrap=True, \n",
        "                            n_jobs=1, \n",
        "                            random_state=1)\n"
      ],
      "execution_count": 0,
      "outputs": []
    },
    {
      "cell_type": "code",
      "metadata": {
        "id": "D0TRLA1EY8WU",
        "colab_type": "code",
        "colab": {
          "base_uri": "https://localhost:8080/",
          "height": 35
        },
        "outputId": "9784208e-f122-4274-9711-f705eeb411f0"
      },
      "source": [
        "# create the model\n",
        "rf = rf.fit(x_train, y_train)\n",
        "\n",
        "# get the predictions based on the model\n",
        "y_train_pred = rf.predict(x_train)\n",
        "y_test_pred = rf.predict(x_test)\n",
        "\n",
        "# get the accuracy\n",
        "rf_train = accuracy_score(y_train, y_train_pred)\n",
        "rf_test = accuracy_score(y_test, y_test_pred)\n",
        "\n",
        "print(\"Random Forest train/test accuracies: {:.3f}/{:.3f}\".format(rf_train, rf_test))"
      ],
      "execution_count": 60,
      "outputs": [
        {
          "output_type": "stream",
          "text": [
            "Random Forest train/test accuracies: 1.000/0.986\n"
          ],
          "name": "stdout"
        }
      ]
    },
    {
      "cell_type": "markdown",
      "metadata": {
        "id": "_Abe_z1EZw4k",
        "colab_type": "text"
      },
      "source": [
        "# Part 3: Boosting"
      ]
    },
    {
      "cell_type": "markdown",
      "metadata": {
        "id": "S-OIiqSda6tR",
        "colab_type": "text"
      },
      "source": [
        "## Step 1: Adaptive Boosting"
      ]
    },
    {
      "cell_type": "markdown",
      "metadata": {
        "id": "AwuoYOCcbVhW",
        "colab_type": "text"
      },
      "source": [
        "#### 1.1 DT"
      ]
    },
    {
      "cell_type": "code",
      "metadata": {
        "id": "QHT4r6woZUP_",
        "colab_type": "code",
        "colab": {
          "base_uri": "https://localhost:8080/",
          "height": 35
        },
        "outputId": "0841b7a4-3045-47d5-ef41-1a4d555513e0"
      },
      "source": [
        "tree = DecisionTreeClassifier(criterion='entropy', max_depth=1)\n",
        "tree = tree.fit(x_train, y_train)\n",
        "y_train_pred = tree.predict(x_train)\n",
        "y_test_pred = tree.predict(x_test)\n",
        "tree_train = accuracy_score(y_train, y_train_pred)\n",
        "tree_test = accuracy_score(y_test, y_test_pred)\n",
        "print('Decision tree train/test accuracies: %.3f/%.3f' % (tree_train, tree_test)) # Decision tree train/test accuracies 0.915/0.896\n"
      ],
      "execution_count": 64,
      "outputs": [
        {
          "output_type": "stream",
          "text": [
            "Decision tree train/test accuracies: 0.613/0.556\n"
          ],
          "name": "stdout"
        }
      ]
    },
    {
      "cell_type": "code",
      "metadata": {
        "id": "KTtG0VFNbe0t",
        "colab_type": "code",
        "colab": {}
      },
      "source": [
        ""
      ],
      "execution_count": 0,
      "outputs": []
    },
    {
      "cell_type": "markdown",
      "metadata": {
        "id": "Rwhq7YpubfHp",
        "colab_type": "text"
      },
      "source": [
        "#### 1.2 Boosting"
      ]
    },
    {
      "cell_type": "code",
      "metadata": {
        "id": "-L7ahkOQbhZl",
        "colab_type": "code",
        "colab": {
          "base_uri": "https://localhost:8080/",
          "height": 35
        },
        "outputId": "c912b98c-d24d-4e43-b509-5e320180145f"
      },
      "source": [
        "ada = AdaBoostClassifier(base_estimator=tree, n_estimators=1000, learning_rate=0.1, random_state=0)\n",
        "ada = ada.fit(x_train, y_train)\n",
        "y_train_pred = ada.predict(x_train)\n",
        "y_test_pred = ada.predict(x_test)\n",
        "ada_train = accuracy_score(y_train, y_train_pred)\n",
        "ada_test = accuracy_score(y_test, y_test_pred)\n",
        "print('AdaBoost train/test accuracies: %.3f/%.3f' % (ada_train, ada_test)) # AdaBoost train/test accuracies 1.000/0.979"
      ],
      "execution_count": 65,
      "outputs": [
        {
          "output_type": "stream",
          "text": [
            "AdaBoost train/test accuracies: 1.000/0.958\n"
          ],
          "name": "stdout"
        }
      ]
    },
    {
      "cell_type": "markdown",
      "metadata": {
        "id": "92Z3XWLSaklm",
        "colab_type": "text"
      },
      "source": [
        "Useful Reference:\n",
        "\n",
        "URL_1 = \"https://blog.csdn.net/xlinsist/article/details/51475345\" **(DT, Bagging, RF, Boosting)**\n",
        "URL_2 = \"https://blog.csdn.net/wangqi880/article/details/49765673\" **(bootstrap, bagging, boosting)**"
      ]
    },
    {
      "cell_type": "code",
      "metadata": {
        "id": "Cy9hYUxDarL8",
        "colab_type": "code",
        "colab": {}
      },
      "source": [
        ""
      ],
      "execution_count": 0,
      "outputs": []
    }
  ]
}
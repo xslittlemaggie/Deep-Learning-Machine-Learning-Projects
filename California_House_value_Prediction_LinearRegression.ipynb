{
  "nbformat": 4,
  "nbformat_minor": 0,
  "metadata": {
    "colab": {
      "name": "Copy of Copy of Untitled67.ipynb",
      "provenance": [],
      "include_colab_link": true
    },
    "kernelspec": {
      "name": "python3",
      "display_name": "Python 3"
    }
  },
  "cells": [
    {
      "cell_type": "markdown",
      "metadata": {
        "id": "view-in-github",
        "colab_type": "text"
      },
      "source": [
        "<a href=\"https://colab.research.google.com/github/xslittlemaggie/Machine-Learning-Projects/blob/master/California_House_value_Prediction_LinearRegression.ipynb\" target=\"_parent\"><img src=\"https://colab.research.google.com/assets/colab-badge.svg\" alt=\"Open In Colab\"/></a>"
      ]
    },
    {
      "cell_type": "markdown",
      "metadata": {
        "id": "T8Avyuxxg8MX",
        "colab_type": "text"
      },
      "source": [
        "# California House Value"
      ]
    },
    {
      "cell_type": "code",
      "metadata": {
        "id": "RBDJonV6hDFX",
        "colab_type": "code",
        "colab": {}
      },
      "source": [
        "import pandas as pd\n",
        "\n",
        "from sklearn.linear_model import LinearRegression\n",
        "from sklearn.model_selection import train_test_split\n",
        "from sklearn.model_selection import cross_val_score\n",
        "from sklearn.datasets import fetch_california_housing"
      ],
      "execution_count": 0,
      "outputs": []
    },
    {
      "cell_type": "markdown",
      "metadata": {
        "id": "SwgbqGPEhZI_",
        "colab_type": "text"
      },
      "source": [
        "# **Step 1**: Load dataset\n",
        "\n",
        "**Load Dataset from sklearn: fetch_california_housing(a dictionary includes 3 elements)**:  \n",
        "\n",
        "  - data (features)\n",
        "\n",
        "  - feature_columns\n",
        "\n",
        "  - target variable\n",
        "\n",
        "\n",
        "**Sample size : 20,640**\n",
        "\n",
        "**Features (X):**\n",
        "\n",
        " 1. 'MedInc'\n",
        " 2. 'HouseAge'\n",
        " 3. 'AveRooms'\n",
        " 4. 'AveBedrms'\n",
        " 5. 'Population'\n",
        " 6. 'AveOccup'\n",
        " 7. 'Latitude'\n",
        " 8. 'Longitude'\n",
        "\n",
        " **Target variable (y):**\n",
        "\n",
        " - House value\n",
        "\n"
      ]
    },
    {
      "cell_type": "code",
      "metadata": {
        "id": "ECZOn946hUTj",
        "colab_type": "code",
        "outputId": "ea4176a3-9376-4702-a6bb-3da48b8d41fb",
        "colab": {
          "base_uri": "https://localhost:8080/",
          "height": 34
        }
      },
      "source": [
        "houes_value = fetch_california_housing()"
      ],
      "execution_count": 0,
      "outputs": [
        {
          "output_type": "stream",
          "text": [
            "Downloading Cal. housing from https://ndownloader.figshare.com/files/5976036 to /root/scikit_learn_data\n"
          ],
          "name": "stderr"
        }
      ]
    },
    {
      "cell_type": "code",
      "metadata": {
        "id": "2INugFkMhYZR",
        "colab_type": "code",
        "colab": {}
      },
      "source": [
        "X = pd.DataFrame(houes_value.data, columns = houes_value.feature_names)\n",
        "y = houes_value.target"
      ],
      "execution_count": 0,
      "outputs": []
    },
    {
      "cell_type": "code",
      "metadata": {
        "id": "lBnTKlGshidU",
        "colab_type": "code",
        "outputId": "26fbf94e-fe55-42ae-8915-54343883509b",
        "colab": {
          "base_uri": "https://localhost:8080/",
          "height": 204
        }
      },
      "source": [
        "X.head()"
      ],
      "execution_count": 0,
      "outputs": [
        {
          "output_type": "execute_result",
          "data": {
            "text/html": [
              "<div>\n",
              "<style scoped>\n",
              "    .dataframe tbody tr th:only-of-type {\n",
              "        vertical-align: middle;\n",
              "    }\n",
              "\n",
              "    .dataframe tbody tr th {\n",
              "        vertical-align: top;\n",
              "    }\n",
              "\n",
              "    .dataframe thead th {\n",
              "        text-align: right;\n",
              "    }\n",
              "</style>\n",
              "<table border=\"1\" class=\"dataframe\">\n",
              "  <thead>\n",
              "    <tr style=\"text-align: right;\">\n",
              "      <th></th>\n",
              "      <th>MedInc</th>\n",
              "      <th>HouseAge</th>\n",
              "      <th>AveRooms</th>\n",
              "      <th>AveBedrms</th>\n",
              "      <th>Population</th>\n",
              "      <th>AveOccup</th>\n",
              "      <th>Latitude</th>\n",
              "      <th>Longitude</th>\n",
              "    </tr>\n",
              "  </thead>\n",
              "  <tbody>\n",
              "    <tr>\n",
              "      <th>0</th>\n",
              "      <td>8.3252</td>\n",
              "      <td>41.0</td>\n",
              "      <td>6.984127</td>\n",
              "      <td>1.023810</td>\n",
              "      <td>322.0</td>\n",
              "      <td>2.555556</td>\n",
              "      <td>37.88</td>\n",
              "      <td>-122.23</td>\n",
              "    </tr>\n",
              "    <tr>\n",
              "      <th>1</th>\n",
              "      <td>8.3014</td>\n",
              "      <td>21.0</td>\n",
              "      <td>6.238137</td>\n",
              "      <td>0.971880</td>\n",
              "      <td>2401.0</td>\n",
              "      <td>2.109842</td>\n",
              "      <td>37.86</td>\n",
              "      <td>-122.22</td>\n",
              "    </tr>\n",
              "    <tr>\n",
              "      <th>2</th>\n",
              "      <td>7.2574</td>\n",
              "      <td>52.0</td>\n",
              "      <td>8.288136</td>\n",
              "      <td>1.073446</td>\n",
              "      <td>496.0</td>\n",
              "      <td>2.802260</td>\n",
              "      <td>37.85</td>\n",
              "      <td>-122.24</td>\n",
              "    </tr>\n",
              "    <tr>\n",
              "      <th>3</th>\n",
              "      <td>5.6431</td>\n",
              "      <td>52.0</td>\n",
              "      <td>5.817352</td>\n",
              "      <td>1.073059</td>\n",
              "      <td>558.0</td>\n",
              "      <td>2.547945</td>\n",
              "      <td>37.85</td>\n",
              "      <td>-122.25</td>\n",
              "    </tr>\n",
              "    <tr>\n",
              "      <th>4</th>\n",
              "      <td>3.8462</td>\n",
              "      <td>52.0</td>\n",
              "      <td>6.281853</td>\n",
              "      <td>1.081081</td>\n",
              "      <td>565.0</td>\n",
              "      <td>2.181467</td>\n",
              "      <td>37.85</td>\n",
              "      <td>-122.25</td>\n",
              "    </tr>\n",
              "  </tbody>\n",
              "</table>\n",
              "</div>"
            ],
            "text/plain": [
              "   MedInc  HouseAge  AveRooms  ...  AveOccup  Latitude  Longitude\n",
              "0  8.3252      41.0  6.984127  ...  2.555556     37.88    -122.23\n",
              "1  8.3014      21.0  6.238137  ...  2.109842     37.86    -122.22\n",
              "2  7.2574      52.0  8.288136  ...  2.802260     37.85    -122.24\n",
              "3  5.6431      52.0  5.817352  ...  2.547945     37.85    -122.25\n",
              "4  3.8462      52.0  6.281853  ...  2.181467     37.85    -122.25\n",
              "\n",
              "[5 rows x 8 columns]"
            ]
          },
          "metadata": {
            "tags": []
          },
          "execution_count": 17
        }
      ]
    },
    {
      "cell_type": "markdown",
      "metadata": {
        "id": "5240lS-LlRVw",
        "colab_type": "text"
      },
      "source": [
        "# **Step 2**: Split train, test dataset"
      ]
    },
    {
      "cell_type": "code",
      "metadata": {
        "id": "wedvMEMkioPF",
        "colab_type": "code",
        "colab": {}
      },
      "source": [
        "x_train, x_test, y_train, y_test = train_test_split(X, y, test_size = 0.3, random_state = 1)"
      ],
      "execution_count": 0,
      "outputs": []
    },
    {
      "cell_type": "code",
      "metadata": {
        "id": "cXh4seiulhnU",
        "colab_type": "code",
        "colab": {}
      },
      "source": [
        "for i in [x_train, x_test]:\n",
        "  i.index = range(i.shape[0])"
      ],
      "execution_count": 0,
      "outputs": []
    },
    {
      "cell_type": "code",
      "metadata": {
        "id": "cIi0rhEpltXp",
        "colab_type": "code",
        "outputId": "4772d781-23d2-4772-ec6f-6421959364d2",
        "colab": {
          "base_uri": "https://localhost:8080/",
          "height": 34
        }
      },
      "source": [
        "x_train.shape"
      ],
      "execution_count": 0,
      "outputs": [
        {
          "output_type": "execute_result",
          "data": {
            "text/plain": [
              "(14448, 8)"
            ]
          },
          "metadata": {
            "tags": []
          },
          "execution_count": 38
        }
      ]
    },
    {
      "cell_type": "code",
      "metadata": {
        "id": "SWicdAQVm0sv",
        "colab_type": "code",
        "outputId": "54efa7e1-4d5a-4436-8047-096fc01432a3",
        "colab": {
          "base_uri": "https://localhost:8080/",
          "height": 51
        }
      },
      "source": [
        "print(\"The train sample size: {}\".format(x_train.shape))\n",
        "print(\"The test sample size: {}\".format(x_test.shape))"
      ],
      "execution_count": 0,
      "outputs": [
        {
          "output_type": "stream",
          "text": [
            "The train sample size: (14448, 8)\n",
            "The test sample size: (6192, 8)\n"
          ],
          "name": "stdout"
        }
      ]
    },
    {
      "cell_type": "markdown",
      "metadata": {
        "id": "AchE6u6SnQiY",
        "colab_type": "text"
      },
      "source": [
        "# **Step 3**: Model building"
      ]
    },
    {
      "cell_type": "markdown",
      "metadata": {
        "id": "pKkkRMLCnomC",
        "colab_type": "text"
      },
      "source": [
        "## 1. Fit the model"
      ]
    },
    {
      "cell_type": "code",
      "metadata": {
        "id": "D5dodEILnLcD",
        "colab_type": "code",
        "outputId": "26222161-5613-45fe-8f79-7dc207fbc3d2",
        "colab": {
          "base_uri": "https://localhost:8080/",
          "height": 51
        }
      },
      "source": [
        "reg = LinearRegression()\n",
        "reg.fit(x_train, y_train)"
      ],
      "execution_count": 0,
      "outputs": [
        {
          "output_type": "execute_result",
          "data": {
            "text/plain": [
              "array([2.12598355, 0.94104495, 2.71042934, ..., 1.85617769, 1.54295782,\n",
              "       1.51367783])"
            ]
          },
          "metadata": {
            "tags": []
          },
          "execution_count": 43
        }
      ]
    },
    {
      "cell_type": "markdown",
      "metadata": {
        "id": "FBXkxcOcov6Y",
        "colab_type": "text"
      },
      "source": [
        "## 2. Get familar with the fitted model parameters: **coef & intercept**"
      ]
    },
    {
      "cell_type": "code",
      "metadata": {
        "id": "xxGy1tWDnn28",
        "colab_type": "code",
        "outputId": "1d376bb2-489b-49bd-a63f-be6772465451",
        "colab": {
          "base_uri": "https://localhost:8080/",
          "height": 297
        }
      },
      "source": [
        "coef = [*zip(x_train.columns, reg.coef_)] # or use tolist, [*] to list the zip\n",
        "coef = pd.DataFrame(coef, columns = [\"feature_name\", 'coef'])\n",
        "coef"
      ],
      "execution_count": 0,
      "outputs": [
        {
          "output_type": "execute_result",
          "data": {
            "text/html": [
              "<div>\n",
              "<style scoped>\n",
              "    .dataframe tbody tr th:only-of-type {\n",
              "        vertical-align: middle;\n",
              "    }\n",
              "\n",
              "    .dataframe tbody tr th {\n",
              "        vertical-align: top;\n",
              "    }\n",
              "\n",
              "    .dataframe thead th {\n",
              "        text-align: right;\n",
              "    }\n",
              "</style>\n",
              "<table border=\"1\" class=\"dataframe\">\n",
              "  <thead>\n",
              "    <tr style=\"text-align: right;\">\n",
              "      <th></th>\n",
              "      <th>feature_name</th>\n",
              "      <th>coef</th>\n",
              "    </tr>\n",
              "  </thead>\n",
              "  <tbody>\n",
              "    <tr>\n",
              "      <th>0</th>\n",
              "      <td>MedInc</td>\n",
              "      <td>0.441038</td>\n",
              "    </tr>\n",
              "    <tr>\n",
              "      <th>1</th>\n",
              "      <td>HouseAge</td>\n",
              "      <td>0.009688</td>\n",
              "    </tr>\n",
              "    <tr>\n",
              "      <th>2</th>\n",
              "      <td>AveRooms</td>\n",
              "      <td>-0.104781</td>\n",
              "    </tr>\n",
              "    <tr>\n",
              "      <th>3</th>\n",
              "      <td>AveBedrms</td>\n",
              "      <td>0.622053</td>\n",
              "    </tr>\n",
              "    <tr>\n",
              "      <th>4</th>\n",
              "      <td>Population</td>\n",
              "      <td>-0.000006</td>\n",
              "    </tr>\n",
              "    <tr>\n",
              "      <th>5</th>\n",
              "      <td>AveOccup</td>\n",
              "      <td>-0.003288</td>\n",
              "    </tr>\n",
              "    <tr>\n",
              "      <th>6</th>\n",
              "      <td>Latitude</td>\n",
              "      <td>-0.423182</td>\n",
              "    </tr>\n",
              "    <tr>\n",
              "      <th>7</th>\n",
              "      <td>Longitude</td>\n",
              "      <td>-0.437899</td>\n",
              "    </tr>\n",
              "  </tbody>\n",
              "</table>\n",
              "</div>"
            ],
            "text/plain": [
              "  feature_name      coef\n",
              "0       MedInc  0.441038\n",
              "1     HouseAge  0.009688\n",
              "2     AveRooms -0.104781\n",
              "3    AveBedrms  0.622053\n",
              "4   Population -0.000006\n",
              "5     AveOccup -0.003288\n",
              "6     Latitude -0.423182\n",
              "7    Longitude -0.437899"
            ]
          },
          "metadata": {
            "tags": []
          },
          "execution_count": 51
        }
      ]
    },
    {
      "cell_type": "code",
      "metadata": {
        "id": "njfi_PPfrvaN",
        "colab_type": "code",
        "outputId": "c4af4913-6e7a-42df-a920-09f6f5f7e971",
        "colab": {
          "base_uri": "https://localhost:8080/",
          "height": 34
        }
      },
      "source": [
        "reg.intercept_"
      ],
      "execution_count": 0,
      "outputs": [
        {
          "output_type": "execute_result",
          "data": {
            "text/plain": [
              "-37.28532899875165"
            ]
          },
          "metadata": {
            "tags": []
          },
          "execution_count": 65
        }
      ]
    },
    {
      "cell_type": "markdown",
      "metadata": {
        "id": "MBNsGNlupqL7",
        "colab_type": "text"
      },
      "source": [
        "From the intercepts and coef, the absolute value of the intercept is much higher than other coefficients. **It is possible that the model doesn't fit well.**"
      ]
    },
    {
      "cell_type": "markdown",
      "metadata": {
        "id": "GMydakCiqZTQ",
        "colab_type": "text"
      },
      "source": [
        "## 3. Evaluate the model: **MSE**\n",
        "\n",
        "It is difficult to evaluate the performance based on the SSE (Sum Square Error), which is highly impacted by the sample size. We divide the SSE by the sample size and get the MSE (Mean Square Error)\n",
        "\n",
        "\\begin{equation*}\n",
        "MSE =\n",
        "\\frac{1}{m}\\sum_{i = 1}^{m}(y_{hat} - y_i)^2\n",
        "\\end{equation*}"
      ]
    },
    {
      "cell_type": "code",
      "metadata": {
        "id": "6Ih66n5pv4Wb",
        "colab_type": "code",
        "outputId": "7e978fe3-5c49-4f87-c5b9-25027cd80e7e",
        "colab": {
          "base_uri": "https://localhost:8080/",
          "height": 34
        }
      },
      "source": [
        "from sklearn.metrics import mean_squared_error as MSE\n",
        "MSE(y_pred, y_test)"
      ],
      "execution_count": 0,
      "outputs": [
        {
          "output_type": "execute_result",
          "data": {
            "text/plain": [
              "0.5296293151408237"
            ]
          },
          "metadata": {
            "tags": []
          },
          "execution_count": 67
        }
      ]
    },
    {
      "cell_type": "code",
      "metadata": {
        "id": "hV_sksYAwXzx",
        "colab_type": "code",
        "outputId": "3e8eb34c-2403-4fb8-df0f-56c093deb1e4",
        "colab": {
          "base_uri": "https://localhost:8080/",
          "height": 51
        }
      },
      "source": [
        "print(\"The max value of y: {}\".format(y_test.max()))\n",
        "print(\"The min value of y: {}\".format(y_test.min()))"
      ],
      "execution_count": 0,
      "outputs": [
        {
          "output_type": "stream",
          "text": [
            "The max value of y: 5.00001\n",
            "The min value of y: 0.14999\n"
          ],
          "name": "stdout"
        }
      ]
    },
    {
      "cell_type": "markdown",
      "metadata": {
        "id": "52ml2Sf6w3OD",
        "colab_type": "text"
      },
      "source": [
        "Compare the MSE value to the max and min value, it seems that the model doesn't perform very good.\n",
        "\n",
        "- Max value 5:00 vs 0.5 -->  0.5/5 = 10% error\n",
        "\n",
        "- Min value 0.15 vs 0.5 -->  0.5/0.15 300% error"
      ]
    },
    {
      "cell_type": "code",
      "metadata": {
        "id": "TgCU5ntexdkQ",
        "colab_type": "code",
        "outputId": "3b5251b6-40da-486e-9ca3-cb80a70cbb54",
        "colab": {
          "base_uri": "https://localhost:8080/",
          "height": 51
        }
      },
      "source": [
        "cross_val_score(reg, X, y, cv = 10, scoring = 'neg_mean_squared_error') # the negative value of MSE"
      ],
      "execution_count": 0,
      "outputs": [
        {
          "output_type": "execute_result",
          "data": {
            "text/plain": [
              "array([-0.48922052, -0.43335865, -0.8864377 , -0.39091641, -0.7479731 ,\n",
              "       -0.52980278, -0.28798456, -0.77326441, -0.64305557, -0.3275106 ])"
            ]
          },
          "metadata": {
            "tags": []
          },
          "execution_count": 78
        }
      ]
    },
    {
      "cell_type": "markdown",
      "metadata": {
        "id": "Ls7fCfbxy2E5",
        "colab_type": "text"
      },
      "source": [
        ""
      ]
    },
    {
      "cell_type": "code",
      "metadata": {
        "id": "GJPdM5vYypFC",
        "colab_type": "code",
        "outputId": "bd8bbee9-3660-4b89-ffee-fe1a01a84b93",
        "colab": {
          "base_uri": "https://localhost:8080/",
          "height": 714
        }
      },
      "source": [
        "import sklearn\n",
        "sorted(sklearn.metrics.SCORERS.keys())"
      ],
      "execution_count": 0,
      "outputs": [
        {
          "output_type": "execute_result",
          "data": {
            "text/plain": [
              "['accuracy',\n",
              " 'adjusted_mutual_info_score',\n",
              " 'adjusted_rand_score',\n",
              " 'average_precision',\n",
              " 'balanced_accuracy',\n",
              " 'brier_score_loss',\n",
              " 'completeness_score',\n",
              " 'explained_variance',\n",
              " 'f1',\n",
              " 'f1_macro',\n",
              " 'f1_micro',\n",
              " 'f1_samples',\n",
              " 'f1_weighted',\n",
              " 'fowlkes_mallows_score',\n",
              " 'homogeneity_score',\n",
              " 'jaccard',\n",
              " 'jaccard_macro',\n",
              " 'jaccard_micro',\n",
              " 'jaccard_samples',\n",
              " 'jaccard_weighted',\n",
              " 'max_error',\n",
              " 'mutual_info_score',\n",
              " 'neg_log_loss',\n",
              " 'neg_mean_absolute_error',\n",
              " 'neg_mean_squared_error',\n",
              " 'neg_mean_squared_log_error',\n",
              " 'neg_median_absolute_error',\n",
              " 'normalized_mutual_info_score',\n",
              " 'precision',\n",
              " 'precision_macro',\n",
              " 'precision_micro',\n",
              " 'precision_samples',\n",
              " 'precision_weighted',\n",
              " 'r2',\n",
              " 'recall',\n",
              " 'recall_macro',\n",
              " 'recall_micro',\n",
              " 'recall_samples',\n",
              " 'recall_weighted',\n",
              " 'roc_auc',\n",
              " 'v_measure_score']"
            ]
          },
          "metadata": {
            "tags": []
          },
          "execution_count": 77
        }
      ]
    },
    {
      "cell_type": "markdown",
      "metadata": {
        "id": "Jne5yI2snrar",
        "colab_type": "text"
      },
      "source": [
        "## 2. Make prediction base on the fitted model"
      ]
    },
    {
      "cell_type": "code",
      "metadata": {
        "id": "qQIIZCRJpjZm",
        "colab_type": "code",
        "outputId": "b4f54642-4883-4817-fd32-6b4d0d243b92",
        "colab": {
          "base_uri": "https://localhost:8080/",
          "height": 51
        }
      },
      "source": [
        "y_pred = reg.predict(x_test)\n",
        "y_pred"
      ],
      "execution_count": 0,
      "outputs": [
        {
          "output_type": "execute_result",
          "data": {
            "text/plain": [
              "array([2.12598355, 0.94104495, 2.71042934, ..., 1.85617769, 1.54295782,\n",
              "       1.51367783])"
            ]
          },
          "metadata": {
            "tags": []
          },
          "execution_count": 54
        }
      ]
    },
    {
      "cell_type": "code",
      "metadata": {
        "id": "lAQ7LpSaqNJz",
        "colab_type": "code",
        "colab": {}
      },
      "source": [
        ""
      ],
      "execution_count": 0,
      "outputs": []
    }
  ]
}
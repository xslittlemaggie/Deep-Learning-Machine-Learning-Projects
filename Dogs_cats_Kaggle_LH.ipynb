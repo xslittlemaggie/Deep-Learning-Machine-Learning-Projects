{
  "nbformat": 4,
  "nbformat_minor": 0,
  "metadata": {
    "colab": {
      "name": "Dogs_cats_Kaggle_LH.ipynb",
      "version": "0.3.2",
      "provenance": [],
      "collapsed_sections": [],
      "toc_visible": true,
      "include_colab_link": true
    },
    "kernelspec": {
      "name": "python3",
      "display_name": "Python 3"
    },
    "accelerator": "GPU"
  },
  "cells": [
    {
      "cell_type": "markdown",
      "metadata": {
        "id": "view-in-github",
        "colab_type": "text"
      },
      "source": [
        "<a href=\"https://colab.research.google.com/github/xslittlemaggie/Deep-Learning-Machine-Learning-Projects/blob/master/Dogs_cats_Kaggle_LH.ipynb\" target=\"_parent\"><img src=\"https://colab.research.google.com/assets/colab-badge.svg\" alt=\"Open In Colab\"/></a>"
      ]
    },
    {
      "cell_type": "markdown",
      "metadata": {
        "id": "xV0aX1Min1H8",
        "colab_type": "text"
      },
      "source": [
        "## Step 0. Import the libraries used in this project"
      ]
    },
    {
      "cell_type": "code",
      "metadata": {
        "id": "S7KrBsoDnyiq",
        "colab_type": "code",
        "outputId": "b3952bac-db93-4f3a-b29d-afe66d367cfc",
        "colab": {
          "base_uri": "https://localhost:8080/",
          "height": 35
        }
      },
      "source": [
        "# libraries for files\n",
        "import os\n",
        "import glob\n",
        "import cv2\n",
        "\n",
        "# libraries for image processing and NN models\n",
        "import numpy as np\n",
        "import matplotlib.pyplot as plt\n",
        "\n",
        "from tqdm import tqdm\n",
        "from keras.preprocessing.image import ImageDataGenerator\n",
        "import keras\n",
        "from tensorflow.keras.models import Sequential\n",
        "from tensorflow.keras.layers import Conv2D, MaxPooling2D, Dropout\n",
        "from tensorflow.keras.layers import Dense, Activation, Flatten\n",
        "from keras.optimizers import SGD, Adam"
      ],
      "execution_count": 1,
      "outputs": [
        {
          "output_type": "stream",
          "text": [
            "Using TensorFlow backend.\n"
          ],
          "name": "stderr"
        }
      ]
    },
    {
      "cell_type": "markdown",
      "metadata": {
        "id": "bfwKAquL8tmM",
        "colab_type": "text"
      },
      "source": [
        "## Step 1. Load data from Kaggle"
      ]
    },
    {
      "cell_type": "markdown",
      "metadata": {
        "id": "opdrNG-d81N5",
        "colab_type": "text"
      },
      "source": [
        "#### 1. Get the username, key from kaggle"
      ]
    },
    {
      "cell_type": "code",
      "metadata": {
        "id": "QW8YbjRY0-9L",
        "colab_type": "code",
        "colab": {}
      },
      "source": [
        "os.environ['KAGGLE_USERNAME'] = \"maggie\" # username from the json file \n",
        "os.environ['KAGGLE_KEY'] = \"7aefgec6c4e6c5eec087031fbb7397aee5\" # key from the json file"
      ],
      "execution_count": 0,
      "outputs": []
    },
    {
      "cell_type": "code",
      "metadata": {
        "id": "gO9Q-Jsm5t8f",
        "colab_type": "code",
        "colab": {}
      },
      "source": [
        "#from google.colab import drive\n",
        "#drive.mount('/content/gdrive')"
      ],
      "execution_count": 0,
      "outputs": []
    },
    {
      "cell_type": "markdown",
      "metadata": {
        "id": "_v5b9C4H8_VL",
        "colab_type": "text"
      },
      "source": [
        "#### 2. Find the dataset from Kaggle "
      ]
    },
    {
      "cell_type": "code",
      "metadata": {
        "id": "julo1kICGOY5",
        "colab_type": "code",
        "colab": {}
      },
      "source": [
        "#!pip install kaggle\n",
        "!pip install -q kaggle"
      ],
      "execution_count": 0,
      "outputs": []
    },
    {
      "cell_type": "code",
      "metadata": {
        "id": "eD2m9kP_Fho3",
        "colab_type": "code",
        "colab": {}
      },
      "source": [
        "#!kaggle datasets list # It will list 20 datasets from kaggle"
      ],
      "execution_count": 0,
      "outputs": []
    },
    {
      "cell_type": "code",
      "metadata": {
        "id": "jSGQbzdI2ptX",
        "colab_type": "code",
        "outputId": "a0602951-25bc-48f3-be13-42caebe8a850",
        "colab": {
          "base_uri": "https://localhost:8080/",
          "height": 397
        }
      },
      "source": [
        "!kaggle datasets list -s dogs-vs-cats  # It will list the 20 datasets including \"dogs-vs-cats\" from kaggle"
      ],
      "execution_count": 4,
      "outputs": [
        {
          "output_type": "stream",
          "text": [
            "ref                                                   title                                               size  lastUpdated          downloadCount  \n",
            "----------------------------------------------------  -------------------------------------------------  -----  -------------------  -------------  \n",
            "nafisur/dogs-vs-cats                                  Dogs_vs_cats                                       217MB  2018-04-25 08:01:49           1363  \n",
            "biaiscience/dogs-vs-cats                              Dogs vs Cats                                       814MB  2017-12-05 14:03:33           1401  \n",
            "dhirensk/cats-vs-dogs-training8000test2000            Cats vs Dogs Training8000Test2000                  218MB  2018-11-21 09:38:07            115  \n",
            "kanwalinder/cats-vs-dogs-redux-transfer-features      Cats vs Dogs Redux Transfer Features                 1GB  2018-08-22 00:46:31             65  \n",
            "prasunroy/natural-images                              Natural Images                                     171MB  2018-08-11 18:24:11           2700  \n",
            "tongpython/cat-and-dog                                Cat and Dog                                        217MB  2018-04-26 10:56:50           6219  \n",
            "salader/dogs-vs-cats                                  dogs vs cats                                       545MB  2018-11-30 19:31:13            354  \n",
            "lucassj/dogs-vs-cats-train-validadion-and-evaluation  Dogs vs. Cats -- train, validadion and evaluation  550MB  2018-09-26 20:10:24            319  \n",
            "mauricefreund/cats-vs-dogs                            cats_vs_dogs                                         6MB  2017-11-06 13:28:08            268  \n",
            "pocahontas1010/dogs-vs-cats-for-pytorch               Dogs vs Cats for Pytorch                           545MB  2018-12-03 21:25:20            117  \n",
            "salader/dogsvscats                                    dogsVScats                                         545MB  2018-11-30 16:21:15             68  \n",
            "pmigdal/alien-vs-predator-images                      Alien vs. Predator images                            7MB  2018-09-27 14:18:46            558  \n",
            "selfishgene/youtube-faces-with-facial-keypoints       YouTube Faces With Facial Keypoints                 10GB  2017-11-14 05:46:08           2736  \n",
            "arnaudeq/cats-vs-dogs-1000                            Cats Vs Dogs (1000)                                 90MB  2018-11-22 20:49:53             32  \n",
            "arnaudeq/cats-vs-dogs-5000                            Cats Vs Dogs (5000)                                268MB  2018-11-22 21:57:23             19  \n",
            "a1041134926/cats-vs-dogs                              cats vs dogs                                        27MB  2018-07-26 08:34:44             26  \n",
            "hellokugo/dogs-vs-cats                                dogs vs cats                                       211KB  2018-02-24 03:54:49             45  \n",
            "ekkus93/keras-models                                  Keras Models                                         1GB  2017-06-21 12:53:13            399  \n",
            "muhammedfathi/pickled-cats-vs-dogs                    Pickled cats vs dogs                                57MB  2018-11-12 20:34:51             20  \n",
            "zyayoung/dogs-vs-cats-features-under-resnet50         Dogs vs Cats features under resnet50               252MB  2018-02-10 09:21:48             34  \n"
          ],
          "name": "stdout"
        }
      ]
    },
    {
      "cell_type": "markdown",
      "metadata": {
        "id": "sXfXnqBFnB_K",
        "colab_type": "text"
      },
      "source": [
        "The dataset of interest is:  **biaiscience/dogs-vs-cats**"
      ]
    },
    {
      "cell_type": "markdown",
      "metadata": {
        "id": "VIIXOA1L9Eff",
        "colab_type": "text"
      },
      "source": [
        "#### 3. Get the particular dataset from the previous step, and download data from Kaggle"
      ]
    },
    {
      "cell_type": "code",
      "metadata": {
        "colab_type": "code",
        "outputId": "3c277c03-3e80-49bf-ef45-b40f223f3733",
        "id": "0GYjTg3H79SF",
        "colab": {
          "base_uri": "https://localhost:8080/",
          "height": 69
        }
      },
      "source": [
        "!kaggle datasets download -d biaiscience/dogs-vs-cats -p /content/"
      ],
      "execution_count": 5,
      "outputs": [
        {
          "output_type": "stream",
          "text": [
            "Downloading dogs-vs-cats.zip to /content\n",
            " 97% 793M/814M [00:16<00:00, 41.1MB/s]\n",
            "100% 814M/814M [00:16<00:00, 50.2MB/s]\n"
          ],
          "name": "stdout"
        }
      ]
    },
    {
      "cell_type": "markdown",
      "metadata": {
        "id": "YGQcQPlH9JDy",
        "colab_type": "text"
      },
      "source": [
        "#### 4.  Upzip data to file"
      ]
    },
    {
      "cell_type": "code",
      "metadata": {
        "id": "Jvf4Potr4noh",
        "colab_type": "code",
        "colab": {}
      },
      "source": [
        "!unzip -q /content/dogs-vs-cats.zip -d /content/dogs-vs-cats/\n",
        "!unzip -q /content/dogs-vs-cats/train.zip -d /content/dogs-vs-cats/\n",
        "!unzip -q /content/dogs-vs-cats/test.zip -d /content/dogs-vs-cats/"
      ],
      "execution_count": 0,
      "outputs": []
    },
    {
      "cell_type": "code",
      "metadata": {
        "id": "UU9MhRnmanPI",
        "colab_type": "code",
        "colab": {}
      },
      "source": [
        "#!ls /content/dogs-vs-cats/dataset/"
      ],
      "execution_count": 0,
      "outputs": []
    },
    {
      "cell_type": "markdown",
      "metadata": {
        "id": "3nFLfoZcoJTK",
        "colab_type": "text"
      },
      "source": [
        "#### 5. Get familiar with how the file look like"
      ]
    },
    {
      "cell_type": "code",
      "metadata": {
        "id": "ij2EgFuDnl8R",
        "colab_type": "code",
        "outputId": "8fd30f64-36e9-408c-81ab-c1e1d239b2c6",
        "colab": {
          "base_uri": "https://localhost:8080/",
          "height": 104
        }
      },
      "source": [
        "# train datasets\n",
        "pathes_train = glob.glob('/content/dogs-vs-cats/train/*.jpg')\n",
        "print(pathes_train[0])\n",
        "print(\"Training size:\", len(pathes_train), \"\\n\")\n",
        "\n",
        "# test datasets\n",
        "pathes_test = glob.glob('/content/dogs-vs-cats/test/*.jpg')\n",
        "print(pathes_test[0])\n",
        "print(\"Testing size:\", len(pathes_test))"
      ],
      "execution_count": 7,
      "outputs": [
        {
          "output_type": "stream",
          "text": [
            "/content/dogs-vs-cats/train/cat.3471.jpg\n",
            "Training size: 25000 \n",
            "\n",
            "/content/dogs-vs-cats/test/8037.jpg\n",
            "Testing size: 12500\n"
          ],
          "name": "stdout"
        }
      ]
    },
    {
      "cell_type": "markdown",
      "metadata": {
        "id": "fTDGVmmvruCO",
        "colab_type": "text"
      },
      "source": [
        "#### 6. Split the photos in train and test files into cats and dogs, respectively"
      ]
    },
    {
      "cell_type": "markdown",
      "metadata": {
        "id": "l-OpbqtOoZIj",
        "colab_type": "text"
      },
      "source": [
        "We get 1 big file, \"dogs-vs-cats\", and two subfiles **train** file, and **test** file.  \n",
        "1. The **train** file includes 25000 photos, either cats or dogs. The photos are not labels in this way. \n",
        "2. Two subfiles, **cats**, and **dogs**,  are created in **train** file.\n",
        "3. All images with the file name including **cat** are moved to the **cats** file under **train** file, and all images with the file name including **dog** are moved to the **dogs** file under **train** file.\n",
        "4. The whole process **3** is repeated for **test** file."
      ]
    },
    {
      "cell_type": "code",
      "metadata": {
        "id": "qrAhyRvck15T",
        "colab_type": "code",
        "colab": {}
      },
      "source": [
        "# splits pictures into cats and dogs files for train dataset\n",
        "os.mkdir(\"/content/dogs-vs-cats/train/cats\")\n",
        "os.mkdir(\"/content/dogs-vs-cats/train/dogs\")\n",
        "\n",
        "# splits pictures into cats and dogs files for test dataset\n",
        "os.mkdir(\"/content/dogs-vs-cats/test/cats\")\n",
        "os.mkdir(\"/content/dogs-vs-cats/test/dogs\")"
      ],
      "execution_count": 0,
      "outputs": []
    },
    {
      "cell_type": "code",
      "metadata": {
        "id": "pJuyIyoMfr_j",
        "colab_type": "code",
        "colab": {}
      },
      "source": [
        "pathes = glob.glob('/content/dogs-vs-cats/train/*.jpg')\n",
        "for path in pathes:\n",
        "  head, tail = os.path.split(path)\n",
        "  if tail[:3] == \"cat\":\n",
        "    new_path = head + \"/cats/\" + tail  \n",
        "  else:\n",
        "    new_path = head + \"/dogs/\" + tail\n",
        "  os.rename(path, new_path)  # move the photos from train file into the subfiles, cats or dogs based on their file name"
      ],
      "execution_count": 0,
      "outputs": []
    },
    {
      "cell_type": "code",
      "metadata": {
        "id": "VGcL9-sjo7ej",
        "colab_type": "code",
        "colab": {}
      },
      "source": [
        "pathes = glob.glob('/content/dogs-vs-cats/test/*.jpg')\n",
        "for path in pathes:\n",
        "  head, tail = os.path.split(path)\n",
        "  if tail[:3] == \"cat\":\n",
        "    new_path = head + \"/cats/\" + tail  \n",
        "  else:\n",
        "    new_path = head + \"/dogs/\" + tail\n",
        "  os.rename(path, new_path)"
      ],
      "execution_count": 0,
      "outputs": []
    },
    {
      "cell_type": "markdown",
      "metadata": {
        "id": "cLYCfMUA9RXa",
        "colab_type": "text"
      },
      "source": [
        "## Step 2. Data preprocessing for training & testing datasets"
      ]
    },
    {
      "cell_type": "markdown",
      "metadata": {
        "id": "6MNLcStdDthL",
        "colab_type": "text"
      },
      "source": [
        "#### 1. Get familar with the input (image), the width, height, etc. "
      ]
    },
    {
      "cell_type": "code",
      "metadata": {
        "id": "tkeCPWMVBLoZ",
        "colab_type": "code",
        "colab": {}
      },
      "source": [
        "DATADIR_train = \"/content/dogs-vs-cats/train\"\n",
        "DATADIR_test = \"/content/dogs-vs-cats/test\""
      ],
      "execution_count": 0,
      "outputs": []
    },
    {
      "cell_type": "code",
      "metadata": {
        "id": "qoel8fiPBWCn",
        "colab_type": "code",
        "outputId": "1bdbc66b-b15a-45c0-e74f-87ef46ab4d0a",
        "colab": {
          "base_uri": "https://localhost:8080/",
          "height": 287
        }
      },
      "source": [
        "CATEGORIES = [\"dogs\", \"cats\"]\n",
        "for category in CATEGORIES:\n",
        "    path = os.path.join(DATADIR_train, category)\n",
        "    print(path)\n",
        "    for img in os.listdir(path):\n",
        "        img_array_train = cv2.imread(os.path.join(path, img), cv2.IMREAD_GRAYSCALE)\n",
        "        plt.imshow(img_array_train, cmap = \"gray\")\n",
        "        plt.show()\n",
        "        break\n",
        "    break"
      ],
      "execution_count": 0,
      "outputs": [
        {
          "output_type": "stream",
          "text": [
            "/content/dogs-vs-cats/train/dogs\n"
          ],
          "name": "stdout"
        },
        {
          "output_type": "display_data",
          "data": {
            "image/png": "[encoded data removed]",
            "text/plain": [
              "<Figure size 432x288 with 1 Axes>"
            ]
          },
          "metadata": {
            "tags": []
          }
        }
      ]
    },
    {
      "cell_type": "code",
      "metadata": {
        "id": "AQykT9_UEItG",
        "colab_type": "code",
        "outputId": "b6a407ba-1593-4b2b-caee-0e1d7d04161d",
        "colab": {
          "base_uri": "https://localhost:8080/",
          "height": 191
        }
      },
      "source": [
        "print(img_array_train) \n",
        "print(\"The width, height of this particular image are:\", img_array_train.shape)\n",
        "print(\"Minimum value of the pixal:\", min([min(_) for _ in img_array_train]))  \n",
        "print(\"Maximum value of the pixal:\", max([max(_) for _ in img_array_train]))"
      ],
      "execution_count": 0,
      "outputs": [
        {
          "output_type": "stream",
          "text": [
            "[[139 150 151 ... 112 102  94]\n",
            " [142 136 124 ... 100  98  93]\n",
            " [149 129 110 ...  98 113 107]\n",
            " ...\n",
            " [154 157 157 ... 146 144 142]\n",
            " [156 160 162 ... 147 145 144]\n",
            " [153 159 161 ... 147 146 146]]\n",
            "The width, height of this particular image are: (220, 136)\n",
            "Minimum value of the pixal: 20\n",
            "Maximum value of the pixal: 255\n"
          ],
          "name": "stdout"
        }
      ]
    },
    {
      "cell_type": "markdown",
      "metadata": {
        "id": "cuq12OLKwtBF",
        "colab_type": "text"
      },
      "source": [
        " Get the min, and max for the pixel, for data normalization latter"
      ]
    },
    {
      "cell_type": "markdown",
      "metadata": {
        "id": "2312ULtfESCK",
        "colab_type": "text"
      },
      "source": [
        "#### 2. Resize the photo smaller to 50 * 50 for an example and check whether the photo is still visible"
      ]
    },
    {
      "cell_type": "code",
      "metadata": {
        "id": "eeILPedeEN0g",
        "colab_type": "code",
        "outputId": "b8fbe930-7e22-44e2-8a03-48726c2e0a05",
        "colab": {
          "base_uri": "https://localhost:8080/",
          "height": 269
        }
      },
      "source": [
        "IMG_SIZE = 50\n",
        "new_array_train_50 = cv2.resize(img_array_train, (IMG_SIZE, IMG_SIZE))\n",
        "plt.imshow(new_array_train_50, cmap = \"gray\")\n",
        "plt.show()"
      ],
      "execution_count": 0,
      "outputs": [
        {
          "output_type": "display_data",
          "data": {
            "image/png": "[encoded data removed]",
            "text/plain": [
              "<Figure size 432x288 with 1 Axes>"
            ]
          },
          "metadata": {
            "tags": []
          }
        }
      ]
    },
    {
      "cell_type": "markdown",
      "metadata": {
        "id": "PdETfuynEqkX",
        "colab_type": "text"
      },
      "source": [
        "The 50 * 50 pixel is not Clear, try 100 * 100"
      ]
    },
    {
      "cell_type": "code",
      "metadata": {
        "id": "iYW3wvO0Euaq",
        "colab_type": "code",
        "outputId": "207c6557-42c0-4e1e-a416-690284a6dcec",
        "colab": {
          "base_uri": "https://localhost:8080/",
          "height": 269
        }
      },
      "source": [
        "IMG_SIZE = 100\n",
        "new_array_train_100 = cv2.resize(img_array_train, (IMG_SIZE, IMG_SIZE))\n",
        "plt.imshow(new_array_train_100, cmap = \"gray\")\n",
        "plt.show()"
      ],
      "execution_count": 0,
      "outputs": [
        {
          "output_type": "display_data",
          "data": {
            "image/png": "[encoded data removed]",
            "text/plain": [
              "<Figure size 432x288 with 1 Axes>"
            ]
          },
          "metadata": {
            "tags": []
          }
        }
      ]
    },
    {
      "cell_type": "markdown",
      "metadata": {
        "id": "-nBB9KjwFFzf",
        "colab_type": "text"
      },
      "source": [
        "100 * 100 looks ok, use the 100 * 100 as the image size for the CNN model"
      ]
    },
    {
      "cell_type": "code",
      "metadata": {
        "id": "qoHg0Bx8E1Sv",
        "colab_type": "code",
        "outputId": "e9204af4-7047-4f96-c2bf-f6ac2f562758",
        "colab": {
          "base_uri": "https://localhost:8080/",
          "height": 55
        }
      },
      "source": [
        "# Transform data into vector, but too big, not practical for big data\n",
        "\"\"\"\n",
        "training_data = []\n",
        "def create_training_data():\n",
        "    for category in CATEGORIES:\n",
        "        path = os.path.join(DATADIR_train, category)\n",
        "        class_num = CATEGORIES.index(category) # get the classification (0, or 1), 0 = dog, 1 = cat\n",
        "        #print(os.listdir(path)[0]) img: a string like \"9733.jpg\" \n",
        "        for img in os.listdir(path):\n",
        "            if img[-3:] == \"jpg\":             \n",
        "                img_array = cv2.imread(os.path.join(path, img), cv2.IMREAD_GRAYSCALE)\n",
        "                if img_array is not None:\n",
        "                    new_array = cv2.resize(img_array, (IMG_SIZE, IMG_SIZE))\n",
        "                    training_data.append([new_array, class_num])    \n",
        "            #except Exception as e: try not to use except since it will ignore the errors, and difficult to debug\n",
        "                #pass\n",
        "os.path.join(path, img)\n",
        "create_training_data()\n",
        "print(len(training_data))\n",
        "\"\"\""
      ],
      "execution_count": 0,
      "outputs": [
        {
          "output_type": "execute_result",
          "data": {
            "text/plain": [
              "'\\ntraining_data = []\\ndef create_training_data():\\n    for category in CATEGORIES:\\n        path = os.path.join(DATADIR_train, category)\\n        class_num = CATEGORIES.index(category) # get the classification (0, or 1), 0 = dog, 1 = cat\\n        #print(os.listdir(path)[0]) img: a string like \"9733.jpg\" \\n        for img in os.listdir(path):\\n            if img[-3:] == \"jpg\":             \\n                img_array = cv2.imread(os.path.join(path, img), cv2.IMREAD_GRAYSCALE)\\n                if img_array is not None:\\n                    new_array = cv2.resize(img_array, (IMG_SIZE, IMG_SIZE))\\n                    training_data.append([new_array, class_num])    \\n            #except Exception as e: try not to use except since it will ignore the errors, and difficult to debug\\n                #pass\\nos.path.join(path, img)\\ncreate_training_data()\\nprint(len(training_data))\\n'"
            ]
          },
          "metadata": {
            "tags": []
          },
          "execution_count": 18
        }
      ]
    },
    {
      "cell_type": "markdown",
      "metadata": {
        "id": "Lh9oJ0AkyjsD",
        "colab_type": "text"
      },
      "source": [
        "**Note**: Considered to transform each photo into a vector (vector dimension = 100 * 100) first. However since the dimension is equal to or bigger than the 100 * 100, and also the sample size is huge (25,000), it is impractical to do this transformation all together.  \n",
        "\n",
        "The **ImageDataGenerator** is introduced to deal with this problem, which only deals with a small dataset each time (like a batch_size) first instead of transforming the whole datasets all together."
      ]
    },
    {
      "cell_type": "markdown",
      "metadata": {
        "id": "CeOsIjhsz_8m",
        "colab_type": "text"
      },
      "source": [
        "## Step 3. Model building"
      ]
    },
    {
      "cell_type": "code",
      "metadata": {
        "id": "zoMWy9RjCd2t",
        "colab_type": "code",
        "outputId": "c847f1f6-ec21-4cb3-c650-398db3c53e03",
        "colab": {
          "base_uri": "https://localhost:8080/",
          "height": 69
        }
      },
      "source": [
        "datagen = ImageDataGenerator(rescale=1./255)  # augumentation to add noise to data: shear_range = 0.2, zoom_range = 0.2, horizontal_flip = True\n",
        "train_it = datagen.flow_from_directory(\"/content/dogs-vs-cats/train\", class_mode = \"binary\", target_size = (100, 100), batch_size = 100)\n",
        "test_it = datagen.flow_from_directory(\"/content/dogs-vs-cats/test\", class_mode = \"binary\", target_size = (100, 100), batch_size = 100)\n",
        "\n",
        "batchX, batchy = train_it.next()\n",
        "print(\"Batch shape = {}, min = {}, max = {}\".format(batchX.shape, batchX.min(), batchX.max()))"
      ],
      "execution_count": 0,
      "outputs": [
        {
          "output_type": "stream",
          "text": [
            "Found 25000 images belonging to 2 classes.\n",
            "Found 12500 images belonging to 2 classes.\n",
            "Batch shape = (100, 100, 100, 3), min = 0.0, max = 1.0\n"
          ],
          "name": "stdout"
        }
      ]
    },
    {
      "cell_type": "markdown",
      "metadata": {
        "id": "tmml7Ou38V_X",
        "colab_type": "text"
      },
      "source": [
        "flow_from_directory parameters:\n",
        "1. batch_size = 64 (32 by default)\n",
        "2. class_mode = \"binary\", (\"categorical\" for multi-class classification)\n",
        "3. \"shuffle\" = False if need to returen batches in a deterministic order when evaluating a model\n",
        "4. \"target_size\" = (100, 100 ) ((256, 256) by default)\n"
      ]
    },
    {
      "cell_type": "code",
      "metadata": {
        "id": "bWY8229vPdQ0",
        "colab_type": "code",
        "outputId": "1aed73ed-471d-4424-a78b-0d95e54e1a32",
        "colab": {
          "base_uri": "https://localhost:8080/",
          "height": 696
        }
      },
      "source": [
        "# define CNN model\n",
        "model = Sequential()\n",
        "\n",
        "model.add(Conv2D(32, kernel_size = (3, 3), \n",
        "                 activation = 'relu', input_shape = (100, 100, 3)))\n",
        "model.add(MaxPooling2D(2, 2))\n",
        "#model.add(Dropout(0.2))\n",
        "\n",
        "model.add(Conv2D(32, (3, 3), activation = 'relu', kernel_initializer='he_uniform'))#kernel_initializer='he_uniform'\n",
        "model.add(MaxPooling2D((2, 2)))\n",
        "#model.add(Dropout(0.5))\n",
        "\n",
        "model.add(Conv2D(64, (3, 3), activation = 'relu', kernel_initializer='he_uniform'))\n",
        "\n",
        "model.add(MaxPooling2D((2, 2)))\n",
        "#model.add(Dropout(0.5))\n",
        "\n",
        "model.add(Conv2D(64, (3, 3), activation = 'relu', kernel_initializer='he_uniform'))\n",
        "\n",
        "model.add(MaxPooling2D((2, 2)))\n",
        "#model.add(Dropout(0.5))\n",
        "\n",
        "model.add(Conv2D(64, (3, 3), activation = 'relu', kernel_initializer='he_uniform'))\n",
        "\n",
        "model.add(MaxPooling2D((2, 2)))\n",
        "#model.add(Dropout(0.5))\n",
        "\n",
        "model.add(Flatten())\n",
        "model.add(Dense(128, activation = 'relu', kernel_initializer='he_uniform'))\n",
        "#model.add(Dropout(0.7))\n",
        "\n",
        "model.add(Dense(1, activation ='softmax'))\n",
        "\n",
        "#opt = SGD(lr=0.001, momentum=0.9)\n",
        "model.compile(loss = \"sparse_categorical_crossentropy\", optimizer = \"adam\", metrics = ['accuracy'])\n",
        "model.summary()"
      ],
      "execution_count": 0,
      "outputs": [
        {
          "output_type": "stream",
          "text": [
            "WARNING: Logging before flag parsing goes to stderr.\n",
            "W0716 06:27:43.484541 140605947803520 deprecation.py:506] From /usr/local/lib/python3.6/dist-packages/tensorflow/python/ops/init_ops.py:1251: calling VarianceScaling.__init__ (from tensorflow.python.ops.init_ops) with dtype is deprecated and will be removed in a future version.\n",
            "Instructions for updating:\n",
            "Call initializer instance with the dtype argument instead of passing it to the constructor\n"
          ],
          "name": "stderr"
        },
        {
          "output_type": "stream",
          "text": [
            "Model: \"sequential\"\n",
            "_________________________________________________________________\n",
            "Layer (type)                 Output Shape              Param #   \n",
            "=================================================================\n",
            "conv2d (Conv2D)              (None, 98, 98, 32)        896       \n",
            "_________________________________________________________________\n",
            "max_pooling2d (MaxPooling2D) (None, 49, 49, 32)        0         \n",
            "_________________________________________________________________\n",
            "conv2d_1 (Conv2D)            (None, 47, 47, 32)        9248      \n",
            "_________________________________________________________________\n",
            "max_pooling2d_1 (MaxPooling2 (None, 23, 23, 32)        0         \n",
            "_________________________________________________________________\n",
            "conv2d_2 (Conv2D)            (None, 21, 21, 64)        18496     \n",
            "_________________________________________________________________\n",
            "max_pooling2d_2 (MaxPooling2 (None, 10, 10, 64)        0         \n",
            "_________________________________________________________________\n",
            "conv2d_3 (Conv2D)            (None, 8, 8, 64)          36928     \n",
            "_________________________________________________________________\n",
            "max_pooling2d_3 (MaxPooling2 (None, 4, 4, 64)          0         \n",
            "_________________________________________________________________\n",
            "conv2d_4 (Conv2D)            (None, 2, 2, 64)          36928     \n",
            "_________________________________________________________________\n",
            "max_pooling2d_4 (MaxPooling2 (None, 1, 1, 64)          0         \n",
            "_________________________________________________________________\n",
            "flatten (Flatten)            (None, 64)                0         \n",
            "_________________________________________________________________\n",
            "dense (Dense)                (None, 128)               8320      \n",
            "_________________________________________________________________\n",
            "dense_1 (Dense)              (None, 1)                 129       \n",
            "=================================================================\n",
            "Total params: 110,945\n",
            "Trainable params: 110,945\n",
            "Non-trainable params: 0\n",
            "_________________________________________________________________\n"
          ],
          "name": "stdout"
        }
      ]
    },
    {
      "cell_type": "code",
      "metadata": {
        "id": "kzRKUURKKpA9",
        "colab_type": "code",
        "outputId": "613e2c7c-c987-4584-abed-5228bd1b3871",
        "colab": {
          "base_uri": "https://localhost:8080/",
          "height": 537
        }
      },
      "source": [
        "# fit model\n",
        "model.fit_generator(train_it, steps_per_epoch = len(train_it), epochs = 14)\n",
        "# evaluate model\n",
        "result = model.evaluate_generator(test_it, steps = len(test_it))\n",
        "print(\"Test loss:\", result[0])\n",
        "print(\"Test acc: \", result[1])"
      ],
      "execution_count": 0,
      "outputs": [
        {
          "output_type": "stream",
          "text": [
            "Epoch 1/14\n",
            "250/250 [==============================] - 74s 294ms/step - loss: nan - acc: 0.4999\n",
            "Epoch 2/14\n",
            "250/250 [==============================] - 73s 290ms/step - loss: nan - acc: 0.5000\n",
            "Epoch 3/14\n",
            "250/250 [==============================] - 72s 290ms/step - loss: nan - acc: 0.5000\n",
            "Epoch 4/14\n",
            "250/250 [==============================] - 72s 289ms/step - loss: nan - acc: 0.5000\n",
            "Epoch 5/14\n",
            "250/250 [==============================] - 72s 289ms/step - loss: nan - acc: 0.5000\n",
            "Epoch 6/14\n",
            "250/250 [==============================] - 72s 288ms/step - loss: nan - acc: 0.5000\n",
            "Epoch 7/14\n",
            "250/250 [==============================] - 72s 289ms/step - loss: nan - acc: 0.5000\n",
            "Epoch 8/14\n",
            "250/250 [==============================] - 72s 287ms/step - loss: nan - acc: 0.5000\n",
            "Epoch 9/14\n",
            "250/250 [==============================] - 71s 286ms/step - loss: nan - acc: 0.5000\n",
            "Epoch 10/14\n",
            "250/250 [==============================] - 72s 287ms/step - loss: nan - acc: 0.5000\n",
            "Epoch 11/14\n",
            "250/250 [==============================] - 71s 283ms/step - loss: nan - acc: 0.5000\n",
            "Epoch 12/14\n",
            "250/250 [==============================] - 71s 282ms/step - loss: nan - acc: 0.5000\n",
            "Epoch 13/14\n",
            "250/250 [==============================] - 70s 281ms/step - loss: nan - acc: 0.5000\n",
            "Epoch 14/14\n",
            "250/250 [==============================] - 70s 280ms/step - loss: nan - acc: 0.5000\n",
            "Test loss: nan\n",
            "Test acc:  0.0\n"
          ],
          "name": "stdout"
        }
      ]
    },
    {
      "cell_type": "markdown",
      "metadata": {
        "id": "4qsJ2WkgIreP",
        "colab_type": "text"
      },
      "source": [
        "**First time** result analysis:\n",
        "\n",
        "**Train acc**: 0.98\n",
        "\n",
        "**Test acc**:  0.47248\n",
        "\n",
        "This could be caused by the overfitting.\n",
        "Add the the optimization (dropout), and train the model again.\n",
        "\n",
        "**Second time** result analysis:\n",
        " "
      ]
    },
    {
      "cell_type": "markdown",
      "metadata": {
        "id": "YGnArTYwPKku",
        "colab_type": "text"
      },
      "source": [
        "### References\n",
        "URL_1 = \"https://machinelearningmastery.com/how-to-load-large-datasets-from-directories-for-deep-learning-with-keras/\"\n",
        "\n",
        "URL_2 = \"https://machinelearningmastery.com/how-to-develop-a-convolutional-neural-network-to-classify-photos-of-dogs-and-cats/\""
      ]
    }
  ]
}
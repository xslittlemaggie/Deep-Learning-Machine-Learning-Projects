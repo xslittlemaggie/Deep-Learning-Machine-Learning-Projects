{
  "nbformat": 4,
  "nbformat_minor": 0,
  "metadata": {
    "colab": {
      "name": "Loan",
      "version": "0.3.2",
      "provenance": [],
      "collapsed_sections": [],
      "include_colab_link": true
    },
    "kernelspec": {
      "name": "python3",
      "display_name": "Python 3"
    },
    "accelerator": "GPU"
  },
  "cells": [
    {
      "cell_type": "markdown",
      "metadata": {
        "id": "view-in-github",
        "colab_type": "text"
      },
      "source": [
        "<a href=\"https://colab.research.google.com/github/xslittlemaggie/Deep-Learning-Machine-Learning-Projects/blob/master/Loan.ipynb\" target=\"_parent\"><img src=\"https://colab.research.google.com/assets/colab-badge.svg\" alt=\"Open In Colab\"/></a>"
      ]
    },
    {
      "cell_type": "markdown",
      "metadata": {
        "id": "159KG_EtG9LA",
        "colab_type": "text"
      },
      "source": [
        "<h1><center> LendingClub Loan Data Analysis & Model Building Report </center></h1>"
      ]
    },
    {
      "cell_type": "markdown",
      "metadata": {
        "id": "Akc2wpG0MVBe",
        "colab_type": "text"
      },
      "source": [
        "<h1>Table of contents</h1>\n",
        "\n",
        "<div class=\"alert alert-block alert-info\" style=\"margin-top: 24px\">\n",
        "    <ol>\n",
        "        <li><a href=\"#purpose of the study\">Project Understanding</a></li>\n",
        "        <li><a href=\"#loading_data\">Data Loading</a></li>\n",
        "        <li><a href=\"#features exploratory\">Data Exploratory</a></li>\n",
        "        <li><a href=\"#data preprocessing\">Data Preprocessing</a></li>\n",
        "        <li><a href=\"#features engineering\">Features Engineering</a></li>\n",
        "        <li><a href=\"#model building\">Model Buildings</a></li>\n",
        "        <li><a href=\"#conclusion\">Conclusion</a></li>\n",
        "    </ol>\n",
        "</div>\n",
        "<br>\n",
        "<hr>"
      ]
    },
    {
      "cell_type": "markdown",
      "metadata": {
        "id": "byy2FDTico1k",
        "colab_type": "text"
      },
      "source": [
        "# 0: Import libraries"
      ]
    },
    {
      "cell_type": "code",
      "metadata": {
        "id": "_XMWP5dFt7OP",
        "colab_type": "code",
        "colab": {}
      },
      "source": [
        "import pandas as pd\n",
        "import matplotlib.pyplot as plt\n",
        "from scipy.stats import mode"
      ],
      "execution_count": 0,
      "outputs": []
    },
    {
      "cell_type": "markdown",
      "metadata": {
        "id": "yzfMtx8OgePX",
        "colab_type": "text"
      },
      "source": [
        "# 1. Project Understanding\n",
        "\n",
        "**1. The Purpose：**\n",
        "\n",
        "The purpose of this project is to analyze the features related to the loan risks and create models (high accuracy, auc scores) to evaluate the risks in loan. \n",
        "\n",
        "**2. The Data:**\n",
        "\n",
        "The LendingClub dataset loaded from Kaggle competition will be used for this project. \n",
        "\n",
        "The raw dataset includes 42538 samples and 145 features, which is large enough for data analysis. \n",
        "\n",
        "**3. The models:**\n",
        "\n",
        "(1). Logistic Regression: Easy understanding\n",
        "\n",
        "(2). Random Forest: Complex, could be more accurate, but less explainable"
      ]
    },
    {
      "cell_type": "markdown",
      "metadata": {
        "id": "Ua-1kaIBgLXG",
        "colab_type": "text"
      },
      "source": [
        "# 2. Load dataset from Kaggle"
      ]
    },
    {
      "cell_type": "code",
      "metadata": {
        "id": "C4g0twFhd0NG",
        "colab_type": "code",
        "colab": {}
      },
      "source": [
        "import os\n",
        "\n",
        "os.environ['KAGGLE_USERNAME'] = \"liulihuang\" # username from the json file \n",
        "os.environ['KAGGLE_KEY'] = \"7adfc6c4e6c5eec087031fbb7397aee5\" # key from the json file (This key is incorrect) "
      ],
      "execution_count": 0,
      "outputs": []
    },
    {
      "cell_type": "code",
      "metadata": {
        "id": "jDIPidpRfFmI",
        "colab_type": "code",
        "colab": {
          "base_uri": "https://localhost:8080/",
          "height": 225
        },
        "outputId": "68b50914-590e-472e-bfc9-f189a7e04fde"
      },
      "source": [
        "!pip install -q kaggle\n",
        "!kaggle datasets list -s lending-club-loan-data  # It will list the 20 datasets including \"lending-club-loan-data\" from kaggle\n",
        "!kaggle datasets download -d balaji1994/lending-club-loan-data -p /content/\n",
        "!unzip -q /content/lending-club-loan-data.zip -d /content/lending-club-loan-data/"
      ],
      "execution_count": 3,
      "outputs": [
        {
          "output_type": "stream",
          "text": [
            "ref                                  title                        size  lastUpdated          downloadCount  \n",
            "-----------------------------------  --------------------------  -----  -------------------  -------------  \n",
            "wendykan/lending-club-loan-data      Lending Club Loan Data      702MB  2019-03-18 18:43:12          57298  \n",
            "wordsforthewise/lending-club         All Lending Club loan data  618MB  2019-04-10 18:03:34           5634  \n",
            "skihikingkevin/online-p2p-lending    Online P2P Lending           77MB  2018-08-30 20:32:43            693  \n",
            "mrferozi/loan-data-for-dummy-bank    Loan Data for Dummy Bank     28MB  2018-08-04 12:45:51           1496  \n",
            "saurabh13nov/lending-club-loan-data  Lending Club Loan Data      105MB  2017-08-08 20:43:56            107  \n",
            "balaji1994/lending-club-loan-data    Lending Club Loan Data       35MB  2018-11-20 06:49:37             24  \n",
            "savasy/loan-data-sampled             Loan data sampled             1MB  2017-11-21 08:28:34             38  \n",
            "Downloading lending-club-loan-data.zip to /content\n",
            " 96% 33.0M/34.5M [00:00<00:00, 30.9MB/s]\n",
            "100% 34.5M/34.5M [00:00<00:00, 69.2MB/s]\n"
          ],
          "name": "stdout"
        }
      ]
    },
    {
      "cell_type": "code",
      "metadata": {
        "id": "atM2scKgfogn",
        "colab_type": "code",
        "colab": {
          "base_uri": "https://localhost:8080/",
          "height": 72
        },
        "outputId": "3629565d-e063-4867-d57c-a470368f6932"
      },
      "source": [
        "loans = pd.read_csv(\"/content/lending-club-loan-data/LoanStats3a.csv\", skiprows = 1)"
      ],
      "execution_count": 4,
      "outputs": [
        {
          "output_type": "stream",
          "text": [
            "/usr/local/lib/python3.6/dist-packages/IPython/core/interactiveshell.py:2718: DtypeWarning: Columns (0,47) have mixed types. Specify dtype option on import or set low_memory=False.\n",
            "  interactivity=interactivity, compiler=compiler, result=result)\n"
          ],
          "name": "stderr"
        }
      ]
    },
    {
      "cell_type": "code",
      "metadata": {
        "id": "eQniDuzkiyti",
        "colab_type": "code",
        "colab": {}
      },
      "source": [
        "# the dictionary to check the details of the features\n",
        "dic = pd.read_excel(\"/content/lending-club-loan-data/LCDataDictionary (1).xlsx\")"
      ],
      "execution_count": 0,
      "outputs": []
    },
    {
      "cell_type": "markdown",
      "metadata": {
        "id": "uPILB_dDg4zU",
        "colab_type": "text"
      },
      "source": [
        "# 3. Data Exploratory (数据探索)\n",
        "\n",
        "\n",
        "Get familiar with the data before data preprocessing, feature engineering, and model building. \n",
        "Drop the features which are obviously unrelated to the target, with all missing values, or with the same values."
      ]
    },
    {
      "cell_type": "markdown",
      "metadata": {
        "id": "SecfrGYWhFft",
        "colab_type": "text"
      },
      "source": [
        "## 3.1 Get familar with the dataset"
      ]
    },
    {
      "cell_type": "code",
      "metadata": {
        "id": "wdyzMG7ffxwh",
        "colab_type": "code",
        "colab": {}
      },
      "source": [
        "# read the first five samples\n",
        "# loans.head()  # commented to save space"
      ],
      "execution_count": 0,
      "outputs": []
    },
    {
      "cell_type": "code",
      "metadata": {
        "id": "MJtH1ltJgS9A",
        "colab_type": "code",
        "colab": {}
      },
      "source": [
        "# descriptive about the features\n",
        "# loans.describe().T  # commented to save space"
      ],
      "execution_count": 0,
      "outputs": []
    },
    {
      "cell_type": "markdown",
      "metadata": {
        "id": "YWQtYZnABKzQ",
        "colab_type": "text"
      },
      "source": [
        "## 3.2 Go through each of the feature roughly & prepare for the data engineering later\n",
        "1. **numerical features**, consider to drop the features very unbalanced\n",
        "2. **string, text features**, need recoding later \n",
        "3. **features with the same value**, such feature wond't contribute to the model, consider to drop these features\n",
        "4. **other features**, obviously not related to the target, or are highly related to other features, "
      ]
    },
    {
      "cell_type": "code",
      "metadata": {
        "id": "-qnETM8lzIk9",
        "colab_type": "code",
        "colab": {}
      },
      "source": [
        "# select features which 100% of the data is missing\n",
        "all_missing_features = [feature for feature in loans.columns if ((loans[feature].isnull().sum()) == loans.shape[0])]\n",
        "# drop all missing features\n",
        "loans.drop(all_missing_features, axis = 1, inplace = True)"
      ],
      "execution_count": 0,
      "outputs": []
    },
    {
      "cell_type": "markdown",
      "metadata": {
        "id": "HFV7MASQ2yXv",
        "colab_type": "text"
      },
      "source": [
        "Since no matter how important the features are, if all the values are missing, such features will make no contribution to the model. \n",
        "\n",
        "After removing the features with all missing values, the number of columns is 51 now, which will make the data more readable and managable."
      ]
    },
    {
      "cell_type": "markdown",
      "metadata": {
        "id": "ZgsZwX9Z3oq5",
        "colab_type": "text"
      },
      "source": [
        "### 3.2.1 After deleting the features with all missing values, go through each of the rest feature, and clusterthem into different class, numerical, categorical, text, etc."
      ]
    },
    {
      "cell_type": "code",
      "metadata": {
        "id": "b0e0_Ltm3ZuZ",
        "colab_type": "code",
        "colab": {
          "base_uri": "https://localhost:8080/",
          "height": 345
        },
        "outputId": "02e7fcf4-267b-4ac6-a7d6-c6c9f32a54bb"
      },
      "source": [
        "print(\"Number of features: {}, sample size: {}\".format(loans.shape[1], loans.shape[0]))\n",
        "print(loans.columns)"
      ],
      "execution_count": 11,
      "outputs": [
        {
          "output_type": "stream",
          "text": [
            "Number of features: 64, sample size: 42538\n",
            "Index(['id', 'loan_amnt', 'funded_amnt', 'funded_amnt_inv', 'term', 'int_rate',\n",
            "       'installment', 'grade', 'sub_grade', 'emp_title', 'emp_length',\n",
            "       'home_ownership', 'annual_inc', 'verification_status', 'issue_d',\n",
            "       'loan_status', 'pymnt_plan', 'desc', 'purpose', 'title', 'zip_code',\n",
            "       'addr_state', 'dti', 'delinq_2yrs', 'earliest_cr_line',\n",
            "       'inq_last_6mths', 'mths_since_last_delinq', 'mths_since_last_record',\n",
            "       'open_acc', 'pub_rec', 'revol_bal', 'revol_util', 'total_acc',\n",
            "       'initial_list_status', 'out_prncp', 'out_prncp_inv', 'total_pymnt',\n",
            "       'total_pymnt_inv', 'total_rec_prncp', 'total_rec_int',\n",
            "       'total_rec_late_fee', 'recoveries', 'collection_recovery_fee',\n",
            "       'last_pymnt_d', 'last_pymnt_amnt', 'next_pymnt_d', 'last_credit_pull_d',\n",
            "       'collections_12_mths_ex_med', 'policy_code', 'application_type',\n",
            "       'acc_now_delinq', 'chargeoff_within_12_mths', 'delinq_amnt',\n",
            "       'pub_rec_bankruptcies', 'tax_liens', 'hardship_flag',\n",
            "       'disbursement_method', 'debt_settlement_flag',\n",
            "       'debt_settlement_flag_date', 'settlement_status', 'settlement_date',\n",
            "       'settlement_amount', 'settlement_percentage', 'settlement_term'],\n",
            "      dtype='object')\n"
          ],
          "name": "stdout"
        }
      ]
    },
    {
      "cell_type": "markdown",
      "metadata": {
        "id": "pO0g3UoMx_DJ",
        "colab_type": "text"
      },
      "source": [
        "### Sample size : 42538\n",
        "\n",
        "**1. Numerical features**\n",
        "- **delinq_2yrs**: very unbalanced, 37771 zeros vs 3595 1 - 13 in total\n",
        "- **mths_since_last_record**: very unbalanced, 38887 (91.4%) missing values\n",
        "- **pub_rec**: very unbalanced, 40130 zeros (94%)\n",
        "- **out_prncp**: very unbalanced, 42535 zeros (99.99%) vs 3 Nan **drop now**\n",
        "- **out_prncp_inv**: 42535 zeros (99.99%) vs 3 Nan **drop now**\n",
        "- **collections_12_mths_ex_med**: very unbalanced, 42390 (99.65%) zeros vs 148 Nan **drop now**\n",
        "- **policy_code**: very unbalanced, 42535 zeros (99.99%) vs 3 Nan **drop now**\n",
        "- **acc_now_delinq**: very unbalanced, 42502 zeros (99.9%) vs 4 ones **drop now**\n",
        "- **chargeoff_within_12_mths**: very unbalanced, 42390 zeros (99.65%) vs 148 Nan **drop now**\n",
        "- **delinq_amnt**: very unbalanced, 42504 zeros (99.9%) vs 33 others **drop now**\n",
        "- **tax_liens**: very unbalanced, 42429 zeros (99.74%) vs 109 Nan **drop now**\n",
        "- **total_rec_late_fee**: very unbalanced, more than 30000 zeros\n",
        "- **recoveries**: very unbalanced, more than 30000 zeros\n",
        "- **collection_recovery_fee**: very unbalanced, more than 35000 zeros\n",
        "- **pub_rec_bankruptcies**: very unbalanced, more than 38000 zeros\n",
        "\n",
        "**2. Categorical features**\n",
        "- **id**: only 3 non missing values, **drop now**\n",
        "- **pymnt_plan**: all n **drop now**\n",
        "- **initial_list_status**: 42535 N (99.99%) vs 3 Nan **drop now**\n",
        "- **application_type**: 42535 Individual (99.99%) vs 3 Nan **drop now**\n",
        "- **hardship_flag**: 42535 N (99.99%) vs 3 Nan **drop now**\n",
        "- **disbursement_method**: 42535 CASH (99.99%) vs 3 Nan **drop now**\n",
        "- **debt_settlement_flag**: very imbalanced, 42375 Y (99.6%) vs 160 N\n",
        "- **term**: e.g. 36 months\n",
        "- **int_rate**: e.g. 10%\n",
        "- **grade**: e.g. A\n",
        "- **sub_grade**: e.g. B2 \n",
        "- **emp_title**: e.g. US Army\n",
        "- **emp_length**: e.g. 10+ years\n",
        "- **home_ownership**: e.g. RENT\n",
        "- **verification_status**: e.g. Verified\n",
        "- **purpose**: debt_consolidation\n",
        "- **addr_state**: \n",
        "- **revol_util**: 83%\n",
        "\n",
        "**3. Object, string, text features, need recoding**\n",
        "- **issue_d**: e.g. Dec-2011\n",
        "- **earliest_cr_line**: e.g. Dec-2011\n",
        "- **last_pymnt_d**: e.g. Dec-2011\n",
        "- **last_credit_pull_d**: e.g. Dec-2011\n",
        "- **next_pymnt_d**: e.g. Dec-2011, very unbalanced, 39789 missing values (93.5%) ** drop now**\n",
        "\n",
        "**4. Features after the Charged Off, only this group of people have such info, thus need to be removed**\n",
        "- **debt_settlement_flag_date**: 42378 Nan **drop now**\n",
        "- **settlement_status**: 42378 Nan **drop now**\n",
        "- **settlement_date**: 42378 Nan **drop now**\n",
        "- **settlement_amount**: 42378 Nan **drop now**\n",
        "- **settlement_percentage**: 42378 Nan **drop now**\n",
        "- **settlement_term**: 42378 Nan **drop now**\n",
        "- **debt_settlement_flag**: 42378 Nan **drop now**\n",
        "\n",
        "\n",
        "**5. Other features, not related to the project, or highly related to other features consider drop**\n",
        "- **zip_code**: 860xx\n",
        "- **desc**: e.g. Debt Consolidation **(This feature is similar to feature purpose)** "
      ]
    },
    {
      "cell_type": "code",
      "metadata": {
        "id": "4B7l37QrfbXk",
        "colab_type": "code",
        "colab": {
          "base_uri": "https://localhost:8080/",
          "height": 365
        },
        "outputId": "a80cec3b-9ad1-45c7-891f-cc048d3077a3"
      },
      "source": [
        "# delete the features with > 99% missing values, or 99% of values are the same\n",
        "features_to_drop = [\"id\", \"pymnt_plan\", \"desc\", \"zip_code\", \"initial_list_status\", \"out_prncp\", \"out_prncp_inv\", \"collections_12_mths_ex_med\", \"policy_code\", \"application_type\",\n",
        "                   \"acc_now_delinq\", \"chargeoff_within_12_mths\", \"delinq_amnt\", \"tax_liens\", \"hardship_flag\", \"disbursement_method\", \"debt_settlement_flag\", \n",
        "                    \"debt_settlement_flag_date\", \"next_pymnt_d\", \"settlement_status\", \"settlement_date\", \"settlement_amount\", \"settlement_percentage\", \"settlement_term\"]\n",
        "\n",
        "loans.drop(features_to_drop, axis = 1, inplace = True)"
      ],
      "execution_count": 123,
      "outputs": [
        {
          "output_type": "error",
          "ename": "KeyError",
          "evalue": "ignored",
          "traceback": [
            "\u001b[0;31m---------------------------------------------------------------------------\u001b[0m",
            "\u001b[0;31mKeyError\u001b[0m                                  Traceback (most recent call last)",
            "\u001b[0;32m<ipython-input-123-66cf7c7c5a19>\u001b[0m in \u001b[0;36m<module>\u001b[0;34m()\u001b[0m\n\u001b[1;32m      2\u001b[0m                    \u001b[0;34m\"acc_now_delinq\"\u001b[0m\u001b[0;34m,\u001b[0m \u001b[0;34m\"chargeoff_within_12_mths\"\u001b[0m\u001b[0;34m,\u001b[0m \u001b[0;34m\"delinq_amnt\"\u001b[0m\u001b[0;34m,\u001b[0m \u001b[0;34m\"tax_liens\"\u001b[0m\u001b[0;34m,\u001b[0m \u001b[0;34m\"hardship_flag\"\u001b[0m\u001b[0;34m,\u001b[0m \u001b[0;34m\"disbursement_method\"\u001b[0m\u001b[0;34m,\u001b[0m \u001b[0;34m\"debt_settlement_flag_date\"\u001b[0m\u001b[0;34m,\u001b[0m \u001b[0;34m\"next_pymnt_d\"\u001b[0m\u001b[0;34m,\u001b[0m\u001b[0;34m\u001b[0m\u001b[0;34m\u001b[0m\u001b[0m\n\u001b[1;32m      3\u001b[0m                    \"settlement_status\", \"settlement_date\", \"settlement_amount\", \"settlement_percentage\", \"settlement_term\"]\n\u001b[0;32m----> 4\u001b[0;31m \u001b[0mloans\u001b[0m\u001b[0;34m.\u001b[0m\u001b[0mdrop\u001b[0m\u001b[0;34m(\u001b[0m\u001b[0mfeatures_to_drop\u001b[0m\u001b[0;34m,\u001b[0m \u001b[0maxis\u001b[0m \u001b[0;34m=\u001b[0m \u001b[0;36m1\u001b[0m\u001b[0;34m,\u001b[0m \u001b[0minplace\u001b[0m \u001b[0;34m=\u001b[0m \u001b[0;32mTrue\u001b[0m\u001b[0;34m)\u001b[0m\u001b[0;34m\u001b[0m\u001b[0;34m\u001b[0m\u001b[0m\n\u001b[0m",
            "\u001b[0;32m/usr/local/lib/python3.6/dist-packages/pandas/core/frame.py\u001b[0m in \u001b[0;36mdrop\u001b[0;34m(self, labels, axis, index, columns, level, inplace, errors)\u001b[0m\n\u001b[1;32m   3938\u001b[0m                                            \u001b[0mindex\u001b[0m\u001b[0;34m=\u001b[0m\u001b[0mindex\u001b[0m\u001b[0;34m,\u001b[0m \u001b[0mcolumns\u001b[0m\u001b[0;34m=\u001b[0m\u001b[0mcolumns\u001b[0m\u001b[0;34m,\u001b[0m\u001b[0;34m\u001b[0m\u001b[0;34m\u001b[0m\u001b[0m\n\u001b[1;32m   3939\u001b[0m                                            \u001b[0mlevel\u001b[0m\u001b[0;34m=\u001b[0m\u001b[0mlevel\u001b[0m\u001b[0;34m,\u001b[0m \u001b[0minplace\u001b[0m\u001b[0;34m=\u001b[0m\u001b[0minplace\u001b[0m\u001b[0;34m,\u001b[0m\u001b[0;34m\u001b[0m\u001b[0;34m\u001b[0m\u001b[0m\n\u001b[0;32m-> 3940\u001b[0;31m                                            errors=errors)\n\u001b[0m\u001b[1;32m   3941\u001b[0m \u001b[0;34m\u001b[0m\u001b[0m\n\u001b[1;32m   3942\u001b[0m     @rewrite_axis_style_signature('mapper', [('copy', True),\n",
            "\u001b[0;32m/usr/local/lib/python3.6/dist-packages/pandas/core/generic.py\u001b[0m in \u001b[0;36mdrop\u001b[0;34m(self, labels, axis, index, columns, level, inplace, errors)\u001b[0m\n\u001b[1;32m   3778\u001b[0m         \u001b[0;32mfor\u001b[0m \u001b[0maxis\u001b[0m\u001b[0;34m,\u001b[0m \u001b[0mlabels\u001b[0m \u001b[0;32min\u001b[0m \u001b[0maxes\u001b[0m\u001b[0;34m.\u001b[0m\u001b[0mitems\u001b[0m\u001b[0;34m(\u001b[0m\u001b[0;34m)\u001b[0m\u001b[0;34m:\u001b[0m\u001b[0;34m\u001b[0m\u001b[0;34m\u001b[0m\u001b[0m\n\u001b[1;32m   3779\u001b[0m             \u001b[0;32mif\u001b[0m \u001b[0mlabels\u001b[0m \u001b[0;32mis\u001b[0m \u001b[0;32mnot\u001b[0m \u001b[0;32mNone\u001b[0m\u001b[0;34m:\u001b[0m\u001b[0;34m\u001b[0m\u001b[0;34m\u001b[0m\u001b[0m\n\u001b[0;32m-> 3780\u001b[0;31m                 \u001b[0mobj\u001b[0m \u001b[0;34m=\u001b[0m \u001b[0mobj\u001b[0m\u001b[0;34m.\u001b[0m\u001b[0m_drop_axis\u001b[0m\u001b[0;34m(\u001b[0m\u001b[0mlabels\u001b[0m\u001b[0;34m,\u001b[0m \u001b[0maxis\u001b[0m\u001b[0;34m,\u001b[0m \u001b[0mlevel\u001b[0m\u001b[0;34m=\u001b[0m\u001b[0mlevel\u001b[0m\u001b[0;34m,\u001b[0m \u001b[0merrors\u001b[0m\u001b[0;34m=\u001b[0m\u001b[0merrors\u001b[0m\u001b[0;34m)\u001b[0m\u001b[0;34m\u001b[0m\u001b[0;34m\u001b[0m\u001b[0m\n\u001b[0m\u001b[1;32m   3781\u001b[0m \u001b[0;34m\u001b[0m\u001b[0m\n\u001b[1;32m   3782\u001b[0m         \u001b[0;32mif\u001b[0m \u001b[0minplace\u001b[0m\u001b[0;34m:\u001b[0m\u001b[0;34m\u001b[0m\u001b[0;34m\u001b[0m\u001b[0m\n",
            "\u001b[0;32m/usr/local/lib/python3.6/dist-packages/pandas/core/generic.py\u001b[0m in \u001b[0;36m_drop_axis\u001b[0;34m(self, labels, axis, level, errors)\u001b[0m\n\u001b[1;32m   3810\u001b[0m                 \u001b[0mnew_axis\u001b[0m \u001b[0;34m=\u001b[0m \u001b[0maxis\u001b[0m\u001b[0;34m.\u001b[0m\u001b[0mdrop\u001b[0m\u001b[0;34m(\u001b[0m\u001b[0mlabels\u001b[0m\u001b[0;34m,\u001b[0m \u001b[0mlevel\u001b[0m\u001b[0;34m=\u001b[0m\u001b[0mlevel\u001b[0m\u001b[0;34m,\u001b[0m \u001b[0merrors\u001b[0m\u001b[0;34m=\u001b[0m\u001b[0merrors\u001b[0m\u001b[0;34m)\u001b[0m\u001b[0;34m\u001b[0m\u001b[0;34m\u001b[0m\u001b[0m\n\u001b[1;32m   3811\u001b[0m             \u001b[0;32melse\u001b[0m\u001b[0;34m:\u001b[0m\u001b[0;34m\u001b[0m\u001b[0;34m\u001b[0m\u001b[0m\n\u001b[0;32m-> 3812\u001b[0;31m                 \u001b[0mnew_axis\u001b[0m \u001b[0;34m=\u001b[0m \u001b[0maxis\u001b[0m\u001b[0;34m.\u001b[0m\u001b[0mdrop\u001b[0m\u001b[0;34m(\u001b[0m\u001b[0mlabels\u001b[0m\u001b[0;34m,\u001b[0m \u001b[0merrors\u001b[0m\u001b[0;34m=\u001b[0m\u001b[0merrors\u001b[0m\u001b[0;34m)\u001b[0m\u001b[0;34m\u001b[0m\u001b[0;34m\u001b[0m\u001b[0m\n\u001b[0m\u001b[1;32m   3813\u001b[0m             \u001b[0mresult\u001b[0m \u001b[0;34m=\u001b[0m \u001b[0mself\u001b[0m\u001b[0;34m.\u001b[0m\u001b[0mreindex\u001b[0m\u001b[0;34m(\u001b[0m\u001b[0;34m**\u001b[0m\u001b[0;34m{\u001b[0m\u001b[0maxis_name\u001b[0m\u001b[0;34m:\u001b[0m \u001b[0mnew_axis\u001b[0m\u001b[0;34m}\u001b[0m\u001b[0;34m)\u001b[0m\u001b[0;34m\u001b[0m\u001b[0;34m\u001b[0m\u001b[0m\n\u001b[1;32m   3814\u001b[0m \u001b[0;34m\u001b[0m\u001b[0m\n",
            "\u001b[0;32m/usr/local/lib/python3.6/dist-packages/pandas/core/indexes/base.py\u001b[0m in \u001b[0;36mdrop\u001b[0;34m(self, labels, errors)\u001b[0m\n\u001b[1;32m   4963\u001b[0m             \u001b[0;32mif\u001b[0m \u001b[0merrors\u001b[0m \u001b[0;34m!=\u001b[0m \u001b[0;34m'ignore'\u001b[0m\u001b[0;34m:\u001b[0m\u001b[0;34m\u001b[0m\u001b[0;34m\u001b[0m\u001b[0m\n\u001b[1;32m   4964\u001b[0m                 raise KeyError(\n\u001b[0;32m-> 4965\u001b[0;31m                     '{} not found in axis'.format(labels[mask]))\n\u001b[0m\u001b[1;32m   4966\u001b[0m             \u001b[0mindexer\u001b[0m \u001b[0;34m=\u001b[0m \u001b[0mindexer\u001b[0m\u001b[0;34m[\u001b[0m\u001b[0;34m~\u001b[0m\u001b[0mmask\u001b[0m\u001b[0;34m]\u001b[0m\u001b[0;34m\u001b[0m\u001b[0;34m\u001b[0m\u001b[0m\n\u001b[1;32m   4967\u001b[0m         \u001b[0;32mreturn\u001b[0m \u001b[0mself\u001b[0m\u001b[0;34m.\u001b[0m\u001b[0mdelete\u001b[0m\u001b[0;34m(\u001b[0m\u001b[0mindexer\u001b[0m\u001b[0;34m)\u001b[0m\u001b[0;34m\u001b[0m\u001b[0;34m\u001b[0m\u001b[0m\n",
            "\u001b[0;31mKeyError\u001b[0m: \"['id' 'pymnt_plan' 'desc' 'zip_code' 'initial_list_status' 'out_prncp'\\n 'out_prncp_inv' 'collections_12_mths_ex_med' 'policy_code'\\n 'application_type' 'acc_now_delinq' 'chargeoff_within_12_mths'\\n 'delinq_amnt' 'tax_liens' 'hardship_flag' 'disbursement_method'\\n 'debt_settlement_flag_date' 'next_pymnt_d' 'settlement_status'\\n 'settlement_date' 'settlement_amount' 'settlement_percentage'\\n 'settlement_term'] not found in axis\""
          ]
        }
      ]
    },
    {
      "cell_type": "code",
      "metadata": {
        "id": "jIuZZaJVDdjd",
        "colab_type": "code",
        "colab": {}
      },
      "source": [
        "# numerical features, some of the features could be removed, thus don't need to update\n",
        "num_features = [\"loan_amnt\", \"funded_amnt\", \"funded_amnt_inv\", \"installment\", \"annual_inc\", \"dti\", \"delinq_2yrs\", \"inq_last_6mths\", \n",
        "                \"mths_since_last_delinq\", \"mths_since_last_record\", \"open_acc\", \"pub_rec\", \"revol_bal\", \"total_pymnt\", \"total_pymnt_inv\", \n",
        "                \"total_rec_prncp\", \"total_rec_int\", \"total_rec_late_fee\", \"recoveries\", \"collection_recovery_fee\", \"last_pymnt_amnt\",\n",
        "                \"pub_rec_bankruptcies\"]"
      ],
      "execution_count": 0,
      "outputs": []
    },
    {
      "cell_type": "code",
      "metadata": {
        "id": "QQb2JDVwDW7U",
        "colab_type": "code",
        "colab": {}
      },
      "source": [
        "#string, text features, need recode, after further analysis, some of the features could be removed, I need to update the features for later data engineering\n",
        "cat_features = [\"term\", \"grade\", \"sub_grade\", \"emp_title\", \"emp_length\", \"home_ownership\", \"verification_status\", \"purpose\",\"title\", \"addr_state\"]\n",
        "\n",
        "# numerical values with % sign, need recoding\n",
        "text_features = [\"int_rate\", \"revol_util\", \"total_acc\"]\n",
        "\n",
        "# date features\n",
        "date_features = [\"issue_d\", \"earliest_cr_line\", \"last_pymnt_d\", \"last_credit_pull_d\"]"
      ],
      "execution_count": 0,
      "outputs": []
    },
    {
      "cell_type": "markdown",
      "metadata": {
        "id": "c1KzrT_0vGhQ",
        "colab_type": "text"
      },
      "source": [
        "Till now, I haven't done any computation to the whole datase. I only did a rough general overview and cleaning to the whole dataset, and have some insights about how I will deal with the data later.  \n",
        "\n",
        "I will do the data cleaning, data engineering before aplitting the training, validation, testing data to avoid data leakage. "
      ]
    },
    {
      "cell_type": "markdown",
      "metadata": {
        "id": "m_8I-5IXiJjD",
        "colab_type": "text"
      },
      "source": [
        "### 3.2.1 Visualization of target feature: loan_status"
      ]
    },
    {
      "cell_type": "code",
      "metadata": {
        "id": "fBDnE-jqiOxq",
        "colab_type": "code",
        "colab": {
          "base_uri": "https://localhost:8080/",
          "height": 104
        },
        "outputId": "6795a17d-fa32-4ec5-cf00-7b4f560dc17c"
      },
      "source": [
        "loans.loan_status.value_counts()"
      ],
      "execution_count": 113,
      "outputs": [
        {
          "output_type": "execute_result",
          "data": {
            "text/plain": [
              "Fully Paid                                             34116\n",
              "Charged Off                                             5670\n",
              "Does not meet the credit policy. Status:Fully Paid      1988\n",
              "Does not meet the credit policy. Status:Charged Off      761\n",
              "Name: loan_status, dtype: int64"
            ]
          },
          "metadata": {
            "tags": []
          },
          "execution_count": 113
        }
      ]
    },
    {
      "cell_type": "code",
      "metadata": {
        "id": "sBM21vtmWEhx",
        "colab_type": "code",
        "colab": {}
      },
      "source": [
        "# only keep the rows loan_status = \"Fully Paid\" or \"Charged Off\"\n",
        "loans = loans.loc[loans[\"loan_status\"].isin([\"Fully Paid\", \"Charged Off\"])]"
      ],
      "execution_count": 0,
      "outputs": []
    },
    {
      "cell_type": "code",
      "metadata": {
        "id": "4T5KGepnuWHY",
        "colab_type": "code",
        "colab": {
          "base_uri": "https://localhost:8080/",
          "height": 281
        },
        "outputId": "0c58ebaa-2d53-42f2-db4b-1eabe9bbc753"
      },
      "source": [
        "plt.figure(figsize = (6, 4))\n",
        "loans[\"loan_status\"].value_counts().plot(kind = \"bar\")\n",
        "plt.title(\"The distribution of target variable: loan_status\")\n",
        "plt.xticks(rotation = 0)\n",
        "plt.show()"
      ],
      "execution_count": 115,
      "outputs": [
        {
          "output_type": "display_data",
          "data": {
            "image/png": "[encoded data removed]",
            "text/plain": [
              "<Figure size 432x288 with 1 Axes>"
            ]
          },
          "metadata": {
            "tags": []
          }
        }
      ]
    },
    {
      "cell_type": "code",
      "metadata": {
        "id": "CyVKx6wPIGJi",
        "colab_type": "code",
        "colab": {
          "base_uri": "https://localhost:8080/",
          "height": 346
        },
        "outputId": "59d4daf6-97a8-4ea3-9527-7b3ed7fe8968"
      },
      "source": [
        "pvt = pd.pivot_table(loans[[\"loan_status\", \"term\"]], index = \"term\", columns = \"loan_status\", aggfunc = len)\n",
        "pvt.plot(kind = \"bar\")"
      ],
      "execution_count": 218,
      "outputs": [
        {
          "output_type": "execute_result",
          "data": {
            "text/plain": [
              "<matplotlib.axes._subplots.AxesSubplot at 0x7fa36cc4f3c8>"
            ]
          },
          "metadata": {
            "tags": []
          },
          "execution_count": 218
        },
        {
          "output_type": "display_data",
          "data": {
            "image/png": "[encoded data removed]",
            "text/plain": [
              "<Figure size 432x288 with 1 Axes>"
            ]
          },
          "metadata": {
            "tags": []
          }
        }
      ]
    },
    {
      "cell_type": "markdown",
      "metadata": {
        "id": "C56N5cp1i_Cd",
        "colab_type": "text"
      },
      "source": [
        "From the result above, the target variable **loan_status** is composed of two classes: Fully Paid (完全结清), & Charged Off (坏账注销). \n",
        "\n",
        "The dataset is imbalanced, and need further consideration later. "
      ]
    },
    {
      "cell_type": "markdown",
      "metadata": {
        "id": "lJ1sAnjhjEmg",
        "colab_type": "text"
      },
      "source": [
        "### 3.3.2 Visualization of the categorical features (分类变量的分布)\n",
        "\n",
        "探索典型分类变量依据好坏样本两类的分布并进行可视化展示："
      ]
    },
    {
      "cell_type": "code",
      "metadata": {
        "id": "4sQrDfcsigos",
        "colab_type": "code",
        "colab": {}
      },
      "source": [
        "# list of the categorical/class features\n",
        "cat_features = [\"term\", \"int_rate\", \"grade\", \"sub_grade\", \"emp_title\", \"emp_length\", \"home_ownership\", \"verification_status\", \"purpose\",\"title\", \"debt_settlement_flag\",\n",
        "                  \"last_credit_pull_d\",  \"addr_state\"]"
      ],
      "execution_count": 0,
      "outputs": []
    },
    {
      "cell_type": "code",
      "metadata": {
        "id": "ERBjsCRIv6Vc",
        "colab_type": "code",
        "colab": {
          "base_uri": "https://localhost:8080/",
          "height": 329
        },
        "outputId": "5d2658a3-2c77-4b1e-aa89-36f400e2395d"
      },
      "source": [
        "pvt = pd.pivot_table(loans[[\"loan_status\", \"term\"]], index = \"term\", columns = \"loan_status\", aggfunc = len)\n",
        "pvt.plot(kind = \"bar\")\n",
        "plt.show()"
      ],
      "execution_count": 117,
      "outputs": [
        {
          "output_type": "display_data",
          "data": {
            "image/png": "[encoded data removed]",
            "text/plain": [
              "<Figure size 432x288 with 1 Axes>"
            ]
          },
          "metadata": {
            "tags": []
          }
        }
      ]
    },
    {
      "cell_type": "markdown",
      "metadata": {
        "id": "DCvX1J39w8pj",
        "colab_type": "text"
      },
      "source": [
        "From the figure above, most people select the 36 months term. The percentage of 60 months loans are more likely to charged off.  \n",
        "借款人多选择３６期贷款，选择６０期贷款的违约率要高一些。"
      ]
    },
    {
      "cell_type": "code",
      "metadata": {
        "id": "5a3xQvTxxn3p",
        "colab_type": "code",
        "colab": {
          "base_uri": "https://localhost:8080/",
          "height": 281
        },
        "outputId": "0078c985-698d-4103-e6b4-41be9e50007d"
      },
      "source": [
        "pvt = pd.pivot_table(loans[[\"loan_status\", \"grade\"]], index = \"grade\", columns = \"loan_status\", aggfunc = len)\n",
        "pvt.plot(kind = \"bar\")\n",
        "plt.show()"
      ],
      "execution_count": 118,
      "outputs": [
        {
          "output_type": "display_data",
          "data": {
            "image/png": "[encoded data removed]",
            "text/plain": [
              "<Figure size 432x288 with 1 Axes>"
            ]
          },
          "metadata": {
            "tags": []
          }
        }
      ]
    },
    {
      "cell_type": "code",
      "metadata": {
        "id": "WAqcqNocv0Fd",
        "colab_type": "code",
        "colab": {}
      },
      "source": [
        "for fea in cat_features:\n",
        "  pvt = pd.pivot_table(loans[[\"loan_status\", fea]], index = fea, columns = \"loan_status\", aggfunc = len)\n",
        "  # plot pivot table with bar plot, green bar represent fully paid\n",
        "  pvt.plot(kind = 'bar', color = ['r', 'b'])"
      ],
      "execution_count": 0,
      "outputs": []
    },
    {
      "cell_type": "markdown",
      "metadata": {
        "id": "j90r8TH7kKUB",
        "colab_type": "text"
      },
      "source": [
        "由上图：\n",
        "\n",
        "我们需要首先理解一下grade这个特征。grade是ＬＣ自评等级，不同的网贷平台投资人有不一样的风险收益偏好，ＬＣ平台依据这种多样化的需求，将借贷人分成Ａ－Ｇ七个等级。\n",
        "\n",
        "ＬＣ使用复杂的算法对每笔贷款予以评级，这个评级和借款人的利率息息相关（这也说明，grade与某些特征是存在关系的）。比如说，那些信用历史好，还款能力好的借款人利率偏低，约７％，其贷款等级通常为Ａ级。从Ａ到Ｇ，贷款的风险越来越高，利率也越来越高。\n",
        "\n",
        "从图中，我们也可以看出这个趋势。\n",
        "\n",
        "另外，无论是投资人还是借贷者，大多数都是选择较低风险较低收益的类型。"
      ]
    },
    {
      "cell_type": "code",
      "metadata": {
        "id": "D39AJe5Nx8A3",
        "colab_type": "code",
        "colab": {
          "base_uri": "https://localhost:8080/",
          "height": 325
        },
        "outputId": "2e5ec7fc-7f29-44d5-b756-e12b3eb00b5a"
      },
      "source": [
        "pvt = pd.pivot_table(loans[[\"loan_status\", \"emp_length\"]], index = \"emp_length\", columns = \"loan_status\", aggfunc = len)\n",
        "pvt.plot(kind = \"bar\")\n",
        "plt.show()"
      ],
      "execution_count": 119,
      "outputs": [
        {
          "output_type": "display_data",
          "data": {
            "image/png": "[encoded data removed]",
            "text/plain": [
              "<Figure size 432x288 with 1 Axes>"
            ]
          },
          "metadata": {
            "tags": []
          }
        }
      ]
    },
    {
      "cell_type": "markdown",
      "metadata": {
        "id": "gGOPCeJtkvr_",
        "colab_type": "text"
      },
      "source": [
        "由上图：\n",
        "\n",
        "工作时长低于１年（包括１年）与１０年以上的借款人最多，两者的违约比例相差不大，这张图打破了人们惯常以为的工作年限长就靠谱的想法。除此两类，在２－９年内，随着工作年限越长，贷款需求越少，可能是因为收入越来越稳定吧。"
      ]
    },
    {
      "cell_type": "code",
      "metadata": {
        "id": "os3SrROUyvjA",
        "colab_type": "code",
        "colab": {
          "base_uri": "https://localhost:8080/",
          "height": 333
        },
        "outputId": "0a842bcd-c49f-491e-ba92-af06563281e6"
      },
      "source": [
        "pvt = pd.pivot_table(loans[[\"loan_status\", \"home_ownership\"]], index = \"home_ownership\", columns = \"loan_status\", aggfunc = len)\n",
        "pvt.plot(kind = \"bar\")\n",
        "plt.show()"
      ],
      "execution_count": 120,
      "outputs": [
        {
          "output_type": "display_data",
          "data": {
            "image/png": "[encoded data removed]",
            "text/plain": [
              "<Figure size 432x288 with 1 Axes>"
            ]
          },
          "metadata": {
            "tags": []
          }
        }
      ]
    },
    {
      "cell_type": "markdown",
      "metadata": {
        "id": "KtygVseflqjT",
        "colab_type": "text"
      },
      "source": [
        "由上图：\n",
        "\n",
        "借款人住房按揭、租房最多，违约率不相上下；"
      ]
    },
    {
      "cell_type": "code",
      "metadata": {
        "id": "LLDfyPMozCds",
        "colab_type": "code",
        "colab": {
          "base_uri": "https://localhost:8080/",
          "height": 350
        },
        "outputId": "002f24df-b8fe-4248-d344-805c98b87c48"
      },
      "source": [
        "pvt = pd.pivot_table(loans[[\"loan_status\", \"verification_status\"]], index = \"verification_status\", columns = \"loan_status\", aggfunc = len)\n",
        "pvt.plot(kind = \"bar\")\n",
        "plt.show()"
      ],
      "execution_count": 121,
      "outputs": [
        {
          "output_type": "display_data",
          "data": {
            "image/png": "[encoded data removed]",
            "text/plain": [
              "<Figure size 432x288 with 1 Axes>"
            ]
          },
          "metadata": {
            "tags": []
          }
        }
      ]
    },
    {
      "cell_type": "markdown",
      "metadata": {
        "id": "Wz2BMeDzzDJI",
        "colab_type": "text"
      },
      "source": [
        "由上图：\n",
        "\n",
        "表征收入或收入来源是否经过核实。大部分借款是经过核实的，经过简单计算可知，核实的借款违约率约为0.15，未经核实的违约率约为0.14.可以说明网上提交的申请数据还是比较诚实的。另外，也可以初步推断，这个变量的预测能力应该不是特别强。"
      ]
    },
    {
      "cell_type": "markdown",
      "metadata": {
        "id": "DGviWop2l2GR",
        "colab_type": "text"
      },
      "source": [
        "### 3.3.3 Visualization of the numerical features (连续值特征分布)"
      ]
    },
    {
      "cell_type": "code",
      "metadata": {
        "id": "uJ9S81kSit2w",
        "colab_type": "code",
        "colab": {
          "base_uri": "https://localhost:8080/",
          "height": 793
        },
        "outputId": "5cfdc248-cf08-40f1-e858-6b53295361bb"
      },
      "source": [
        "import seaborn as sns\n",
        "import matplotlib.pyplot as plt\n",
        "num_feas = [i for i in loans.columns[2:30] if loans[i].dtype == 'float']\n",
        "for i, fea in enumerate(num_features[:5]):\n",
        "  plt.figure(figsize = (8, 6 * len(num_features[:5])))\n",
        "  plt.subplot(len(num_feas), 1, i + 1)\n",
        "  df_temp_0 = loans[fea][loans.loan_status == 'Fully Paid']\n",
        "  df_temp_1 = loans[fea][loans.loan_status == 'Charged Off']\n",
        "  sns.distplot(df_temp_0.dropna(), color = 'g')\n",
        "  sns.distplot(df_temp_1.dropna(), color = 'r')\n",
        "  plt.legend(['Fully Paid', 'Charged Off'])\n",
        "  plt.show()"
      ],
      "execution_count": 134,
      "outputs": [
        {
          "output_type": "display_data",
          "data": {
            "image/png": "[encoded data removed]",
            "text/plain": [
              "<Figure size 576x2160 with 1 Axes>"
            ]
          },
          "metadata": {
            "tags": []
          }
        },
        {
          "output_type": "display_data",
          "data": {
            "image/png": "[encoded data removed]",
            "text/plain": [
              "<Figure size 576x2160 with 1 Axes>"
            ]
          },
          "metadata": {
            "tags": []
          }
        },
        {
          "output_type": "display_data",
          "data": {
            "image/png": "[encoded data removed]",
            "text/plain": [
              "<Figure size 576x2160 with 1 Axes>"
            ]
          },
          "metadata": {
            "tags": []
          }
        },
        {
          "output_type": "display_data",
          "data": {
            "image/png": "[encoded data removed]",
            "text/plain": [
              "<Figure size 576x2160 with 1 Axes>"
            ]
          },
          "metadata": {
            "tags": []
          }
        },
        {
          "output_type": "display_data",
          "data": {
            "image/png": "[encoded data removed]",
            "text/plain": [
              "<Figure size 576x2160 with 1 Axes>"
            ]
          },
          "metadata": {
            "tags": []
          }
        }
      ]
    },
    {
      "cell_type": "markdown",
      "metadata": {
        "id": "cbYAiKc-nhDh",
        "colab_type": "text"
      },
      "source": [
        "从这些图中可以初步得出如下信息：\n",
        "\n",
        "贷款额度、分期付款金额成有些长尾的正态分布，说明贷款额度集中在中小额度，但是也有分散的大额度\n",
        "\n",
        "年收入集中在０－１０万刀以内，但是也有极高收入（最高达到６００万）的借款人\n",
        "\n",
        "负债率较符合正态分布，但是高负债率相较低负债率违约风险更大\n",
        "\n",
        "分析过去２年内的违约次数分布，即便１次违约记录都没有，这次也可能会出现违约，\n",
        "\n",
        "过去6个月内查询次数越多，违约的概率越大\n",
        "\n",
        "迄今为止收到的付款总额或本金越少，违约率越高，这也显示了贷中监控的重要性，有问题及时预警。\n",
        "\n",
        "。。。\n"
      ]
    },
    {
      "cell_type": "markdown",
      "metadata": {
        "id": "I6Mnbztynzfx",
        "colab_type": "text"
      },
      "source": [
        "### 3.2.4 Time Series Distribuiotn (时序特征分布)\n",
        "全部时序特征：issue_d:（款发放月份），earliest_cr_line（首开信用卡时间），last_pymnt_d（最近一次收到还款的时间），last_credit_pull_d（ＬＣ撤回信贷最近的月份），其中第１，３，４项都是贷后数据。"
      ]
    },
    {
      "cell_type": "code",
      "metadata": {
        "id": "1IPZxtyk1Ify",
        "colab_type": "code",
        "colab": {}
      },
      "source": [
        "date_features = [\"issue_d\", \"earliest_cr_line\", \"last_pymnt_d\", \"last_credit_pull_d\"]"
      ],
      "execution_count": 0,
      "outputs": []
    },
    {
      "cell_type": "code",
      "metadata": {
        "id": "l16g5oHvmysu",
        "colab_type": "code",
        "colab": {
          "base_uri": "https://localhost:8080/",
          "height": 267
        },
        "outputId": "97195bd3-9cf6-4ae1-b4b8-f8805ce02806"
      },
      "source": [
        "# timestamp features distribution\n",
        "df_time = loans[['issue_d', 'loan_status']].dropna()\n",
        "df_time.issue_d = [pd.datetime.strptime(str(j), '%b-%Y')\n",
        "                           for j in df_time.issue_d.values]\n",
        "\n",
        "pvt = pd.pivot_table(df_time, index = 'issue_d', columns = 'loan_status', aggfunc = len)\n",
        "pvt.plot(kind = 'bar')\n",
        "plt.xticks([])\n",
        "plt.show()"
      ],
      "execution_count": 143,
      "outputs": [
        {
          "output_type": "display_data",
          "data": {
            "image/png": "[encoded data removed]",
            "text/plain": [
              "<Figure size 432x288 with 1 Axes>"
            ]
          },
          "metadata": {
            "tags": []
          }
        }
      ]
    },
    {
      "cell_type": "code",
      "metadata": {
        "id": "qm2iYXW12Cis",
        "colab_type": "code",
        "colab": {
          "base_uri": "https://localhost:8080/",
          "height": 267
        },
        "outputId": "b2cc5335-9b4a-4f7c-e1ec-ca4f29cf2873"
      },
      "source": [
        "# timestamp features distribution\n",
        "df_time = loans[['earliest_cr_line', 'loan_status']].dropna()\n",
        "df_time.earliest_cr_line = [pd.datetime.strptime(str(j), '%b-%Y')\n",
        "                           for j in df_time.earliest_cr_line.values]\n",
        "\n",
        "pvt = pd.pivot_table(df_time, index = 'earliest_cr_line', columns = 'loan_status', aggfunc = len)\n",
        "pvt.plot(kind = 'bar')\n",
        "plt.xticks([])\n",
        "plt.show()"
      ],
      "execution_count": 141,
      "outputs": [
        {
          "output_type": "display_data",
          "data": {
            "image/png": "[encoded data removed]",
            "text/plain": [
              "<Figure size 432x288 with 1 Axes>"
            ]
          },
          "metadata": {
            "tags": []
          }
        }
      ]
    },
    {
      "cell_type": "markdown",
      "metadata": {
        "id": "DtY422hTsd3n",
        "colab_type": "text"
      },
      "source": [
        "### 3.2.5 文字特征分布\n",
        "样本中的文本特征有：借款人所在地，借款描述，职位头衔\n",
        "\n",
        "词云的优势是从大量文字样本中一眼看出文本的主要内容。\n",
        "\n",
        "通过词云了解各个文本特征分布"
      ]
    },
    {
      "cell_type": "code",
      "metadata": {
        "id": "oGkuxqDNsPtS",
        "colab_type": "code",
        "colab": {
          "base_uri": "https://localhost:8080/",
          "height": 55
        },
        "outputId": "cffa4fa9-abe4-482d-ec03-397acaf52e6e"
      },
      "source": [
        "\"\"\"\n",
        "# text features distribution -- wordcloud\n",
        "text_feas = ['addr_state', 'desc', 'emp_title']\n",
        "str_list = ['', '', '']\n",
        "# collect words into a 3 strings\n",
        "for i, j in enumerate(text_feas):\n",
        "  for item in loans[j].dropna().values:\n",
        "    str_list[i] += str(item) + ' '\n",
        "    \n",
        "# make wordcloud: generate different size of word according to it's frequency\n",
        "from wordcloud import WordCloud\n",
        "for i in str_list:\n",
        "  wordcloud = WordCloud().generate(i)\n",
        "  plt.imshow(wordcloud)\n",
        "  plt.axis('off')\n",
        "  plt.show()\n",
        "\"\"\""
      ],
      "execution_count": 15,
      "outputs": [
        {
          "output_type": "execute_result",
          "data": {
            "text/plain": [
              "\"\\n# text features distribution -- wordcloud\\ntext_feas = ['addr_state', 'desc', 'emp_title']\\nstr_list = ['', '', '']\\n# collect words into a 3 strings\\nfor i, j in enumerate(text_feas):\\n  for item in loans[j].dropna().values:\\n    str_list[i] += str(item) + ' '\\n    \\n# make wordcloud: generate different size of word according to it's frequency\\nfrom wordcloud import WordCloud\\nfor i in str_list:\\n  wordcloud = WordCloud().generate(i)\\n  plt.imshow(wordcloud)\\n  plt.axis('off')\\n  plt.show()\\n\""
            ]
          },
          "metadata": {
            "tags": []
          },
          "execution_count": 15
        }
      ]
    },
    {
      "cell_type": "markdown",
      "metadata": {
        "id": "fAyE39M7tgHS",
        "colab_type": "text"
      },
      "source": [
        "按还款状态分类统计借款人所在州的分布："
      ]
    },
    {
      "cell_type": "code",
      "metadata": {
        "id": "J-3oCcautNWx",
        "colab_type": "code",
        "colab": {
          "base_uri": "https://localhost:8080/",
          "height": 496
        },
        "outputId": "70b2f65f-affa-4e01-8da8-2de40bbace2c"
      },
      "source": [
        "# text features distribution\n",
        "# emp_title\n",
        "y_0 = loans[loans.loan_status == 'Fully Paid'].emp_title.value_counts()[:20].values\n",
        "y_1 = loans[loans.loan_status == 'Charged Off'].emp_title.value_counts()[:20].values\n",
        "ind = loans[loans.loan_status == 'Fully Paid'].emp_title.value_counts()[:20].index\n",
        "plt.figure(figsize = (8, 6))\n",
        "plt.bar(ind, y_0, color = 'g')\n",
        "plt.bar(ind, y_1, color = 'r')\n",
        "plt.title(\"The distribution of the loan_status vs emp_title\", size = 14, color = 'black')\n",
        "# set xticks vertical\n",
        "plt.xticks(ind, rotation = 'vertical') # \n",
        "plt.legend(['good', 'bad'])\n",
        "plt.show()"
      ],
      "execution_count": 153,
      "outputs": [
        {
          "output_type": "display_data",
          "data": {
            "image/png": "[encoded data removed]",
            "text/plain": [
              "<Figure size 576x432 with 1 Axes>"
            ]
          },
          "metadata": {
            "tags": []
          }
        }
      ]
    },
    {
      "cell_type": "code",
      "metadata": {
        "id": "RRPnwIHo3wAi",
        "colab_type": "code",
        "colab": {
          "base_uri": "https://localhost:8080/",
          "height": 398
        },
        "outputId": "1461c858-7e5b-4a0d-9a80-192d0a0d8908"
      },
      "source": [
        "# text features distribution\n",
        "# addr_state\n",
        "y_0 = loans[loans.loan_status == 'Fully Paid'].addr_state.value_counts()[:20].values\n",
        "y_1 = loans[loans.loan_status == 'Charged Off'].addr_state.value_counts()[:20].values\n",
        "ind = loans[loans.loan_status == 'Fully Paid'].addr_state.value_counts()[:20].index\n",
        "plt.figure(figsize = (10, 6))\n",
        "plt.bar(ind, y_0, color = 'g')\n",
        "plt.bar(ind, y_1, color = 'r')\n",
        "plt.title(\"The distribution of the loan_status vs addr_state\", size = 14, color = 'black')\n",
        "# set xticks vertical\n",
        "plt.xticks(ind, rotation = 'vertical') # \n",
        "plt.legend(['good', 'bad'])\n",
        "plt.show()"
      ],
      "execution_count": 157,
      "outputs": [
        {
          "output_type": "display_data",
          "data": {
            "image/png": "[encoded data removed]",
            "text/plain": [
              "<Figure size 720x432 with 1 Axes>"
            ]
          },
          "metadata": {
            "tags": []
          }
        }
      ]
    },
    {
      "cell_type": "markdown",
      "metadata": {
        "id": "DjZV_WMUvKH1",
        "colab_type": "text"
      },
      "source": [
        "From the results above：\n",
        "\n",
        "The majority of the borrowers are from CA, NY, and TX, while most of the borrowers are from US Army, Bank of America, IMB, USAF, etc. \n",
        "\n",
        "借款人的区域来源，主要集中在加州、德州、纽约等等这些大州，后续数据处理可以考虑将这些主要区域提取出来。\n",
        "\n",
        "职务头衔：借款人的职务背景按照数量分布依次是公司、军队、医院。。。"
      ]
    },
    {
      "cell_type": "markdown",
      "metadata": {
        "id": "z7tiZdzUvLx4",
        "colab_type": "text"
      },
      "source": [
        "### 3.2.6 The correlation of each two features (两两特征的协方差)"
      ]
    },
    {
      "cell_type": "code",
      "metadata": {
        "id": "CYJjUX9quBbc",
        "colab_type": "code",
        "colab": {
          "base_uri": "https://localhost:8080/",
          "height": 612
        },
        "outputId": "1b5623d2-047f-43a1-db0d-f31df978ebc7"
      },
      "source": [
        "# feature's correlation\n",
        "plt.figure(figsize = (10, 8))\n",
        "sns.heatmap(loans.iloc[:, :50].corr())"
      ],
      "execution_count": 158,
      "outputs": [
        {
          "output_type": "execute_result",
          "data": {
            "text/plain": [
              "<matplotlib.axes._subplots.AxesSubplot at 0x7f36811ca278>"
            ]
          },
          "metadata": {
            "tags": []
          },
          "execution_count": 158
        },
        {
          "output_type": "display_data",
          "data": {
            "image/png": "[encoded data removed]",
            "text/plain": [
              "<Figure size 720x576 with 2 Axes>"
            ]
          },
          "metadata": {
            "tags": []
          }
        }
      ]
    },
    {
      "cell_type": "markdown",
      "metadata": {
        "id": "RlcJxqfgwMl4",
        "colab_type": "text"
      },
      "source": [
        "上图中浅颜色的部分是表示特征相关度高，除了对角线的区域，其它区域也分布着高相关性特征对，这说明样本集中某些特征之间存在强线性相关性，这个问题在选用某些机器学习模型（比如基于线性回归的模型族）时会显著影响模型性能，需要引起注意。"
      ]
    },
    {
      "cell_type": "markdown",
      "metadata": {
        "id": "vVoNs5h9wOFI",
        "colab_type": "text"
      },
      "source": [
        "# 4. Data preprocesing (数据预处理)\n",
        "\n",
        "Based on the overview, after the first round data cleaning:\n",
        "\n",
        "- number of features =  41, sample size = 39786\n",
        "- there is a high percentage of missing values\n",
        "- some numerical features are represented with special signs, e.g., %\n",
        "- some of the features are correlated"
      ]
    },
    {
      "cell_type": "markdown",
      "metadata": {
        "id": "AOGB4pC6wU_t",
        "colab_type": "text"
      },
      "source": [
        "## 4.1. training, validation, testing data seperation (数据集划分)\n",
        "To avoid data leakage, it's better to split the datasets before data preprocessing. "
      ]
    },
    {
      "cell_type": "code",
      "metadata": {
        "id": "u2Ck2CZLvqmJ",
        "colab_type": "code",
        "colab": {}
      },
      "source": [
        "from sklearn.model_selection import train_test_split\n",
        "\n",
        "# split the data\n",
        "x_col = loans.columns.tolist()\n",
        "x_col.remove('loan_status') # remove target variable from x\n",
        "X = loans[x_col]\n",
        "y = loans['loan_status']\n",
        "\n",
        "x_train, x_test, y_train, y_test = train_test_split(X, y, test_size = 0.2, random_state = 0)\n",
        "x_train, x_val, y_train, y_val = train_test_split(x_train, y_train, test_size = 0.2, random_state = 1)\n",
        "\n",
        "df_train = pd.concat([x_train, y_train], axis = 1)\n",
        "df_val = pd.concat([x_val, y_val], axis = 1)\n",
        "df_test = pd.concat([x_test, y_test], axis = 1)\n",
        "\n",
        "df_list = [df_train, df_val, df_test]"
      ],
      "execution_count": 0,
      "outputs": []
    },
    {
      "cell_type": "code",
      "metadata": {
        "id": "f7mRE_U_8raY",
        "colab_type": "code",
        "colab": {
          "base_uri": "https://localhost:8080/",
          "height": 69
        },
        "outputId": "fcef91e6-e1a1-48f8-e449-c5d66c58bb49"
      },
      "source": [
        "print(\"The shape of training dataset: {}\".format(df_train.shape))\n",
        "print(\"The shape of validation dataset: {}\".format(df_val.shape))\n",
        "print(\"The shape of testing dataset: {}\".format(df_test.shape))"
      ],
      "execution_count": 163,
      "outputs": [
        {
          "output_type": "stream",
          "text": [
            "The shape of training dataset: (25462, 41)\n",
            "The shape of validation dataset: (6366, 41)\n",
            "The shape of testing dataset: (7958, 41)\n"
          ],
          "name": "stdout"
        }
      ]
    },
    {
      "cell_type": "markdown",
      "metadata": {
        "id": "VkVF6Ln3xWlU",
        "colab_type": "text"
      },
      "source": [
        "## 4.2 Missing values replacement, process (特征缺失值识别与处理)"
      ]
    },
    {
      "cell_type": "markdown",
      "metadata": {
        "id": "It2LYIILxauj",
        "colab_type": "text"
      },
      "source": [
        "### 4.2.1 Features with high percentage of missing values (严重缺失值的处理)\n",
        "\n",
        "Identify the features with 60% more missing values and process \n",
        "找到缺失超过６０％的特征，并进一步了解缺失情况"
      ]
    },
    {
      "cell_type": "code",
      "metadata": {
        "id": "zju7LnAaxT5Z",
        "colab_type": "code",
        "colab": {
          "base_uri": "https://localhost:8080/",
          "height": 52
        },
        "outputId": "4627dffc-158e-418f-a67f-09edec510f0b"
      },
      "source": [
        "# default values\n",
        "# select features which 60% of the data is missing\n",
        "mis_feasures = [i for i in loans.columns if ((loans[i].isnull().sum())*1.0/loans.shape[0]) > 0.6]\n",
        "# output missing rate to get a further understanding of missing info\n",
        "for i in mis_feasures:\n",
        "  mis_rate = (loans[i].isnull().sum()) * 1.0 / loans.shape[0]\n",
        "  print(i, \"\\t\", mis_rate)"
      ],
      "execution_count": 165,
      "outputs": [
        {
          "output_type": "stream",
          "text": [
            "mths_since_last_delinq \t 0.6466344945458201\n",
            "mths_since_last_record \t 0.9298496958729201\n"
          ],
          "name": "stdout"
        }
      ]
    },
    {
      "cell_type": "markdown",
      "metadata": {
        "id": "339Z6aphyJxw",
        "colab_type": "text"
      },
      "source": [
        "From the result above, after the first round data cleaning, the above two featurs have more than 60% percentages of missing values. \n",
        "\n",
        "From the experience, the two features **mths_since_last_delinq（距离上次违约的月份数）、mths_since_last_record（距离上一次公共黑记录月份数）** should be helpful to the loan model evaluation. Thus, even though these two features have high percentages of missing values, I will keep these two features, and replace the missing values approapately. "
      ]
    },
    {
      "cell_type": "markdown",
      "metadata": {
        "id": "9K0rkHvUzhcc",
        "colab_type": "text"
      },
      "source": [
        "### 4.2.2 Missing values replacement (缺失值填充)\n",
        "\n",
        "了解现有缺失值的情况，根据缺失比例，缺失值的具体信息含义，缺失特征性质，来决定处理策略："
      ]
    },
    {
      "cell_type": "code",
      "metadata": {
        "id": "YhiPhFpWy57F",
        "colab_type": "code",
        "colab": {
          "base_uri": "https://localhost:8080/",
          "height": 173
        },
        "outputId": "5d56efe3-8b9b-4010-eb5b-e4b6d969a295"
      },
      "source": [
        "# define missing value features to be filled\n",
        "mis_feaures_to_fill = [i for i in loans.columns if loans[i].isnull().sum() != 0]\n",
        "for i in mis_feaures_to_fill:\n",
        "  mis_rate = (loans[i].isnull().sum() * 1.0/loans.shape[0])\n",
        "  print(i, '\\t', mis_rate)"
      ],
      "execution_count": 170,
      "outputs": [
        {
          "output_type": "stream",
          "text": [
            "emp_title \t 0.06200673603780224\n",
            "emp_length \t 0.027094958025436083\n",
            "title \t 0.000276479163524858\n",
            "mths_since_last_delinq \t 0.6466344945458201\n",
            "mths_since_last_record \t 0.9298496958729201\n",
            "revol_util \t 0.0012567234705675363\n",
            "last_pymnt_d \t 0.0017845473282059015\n",
            "last_credit_pull_d \t 5.026893882270145e-05\n",
            "pub_rec_bankruptcies \t 0.017518725179711456\n"
          ],
          "name": "stdout"
        }
      ]
    },
    {
      "cell_type": "markdown",
      "metadata": {
        "id": "RyfLggWj0fCv",
        "colab_type": "text"
      },
      "source": [
        ">Features | Type | Missing pct | Fill strategy\n",
        ">--- | --- | --- | ---\n",
        ">emp_title | categorical | 6.2% | mode\n",
        ">emp_length | categorical | 2.7% | mode\n",
        ">title | categorical | 0.027% | mode\n",
        ">mths_since_last_deling | numerical | 64.66% | missing value as one class\n",
        ">mths_since_last_record | numerical | 92/98% | missing value as one class\n",
        ">revol_util | categorical | 0.126% | mode\n",
        ">last_pymnt_d | categorical | 0.178% | after approval of the loan, **drop**\n",
        ">last_credit_pull_d | categorical | 0.005% | after approval of the loan, **drop**\n",
        ">pub_rec_bankrupticies | categorical | 0.175% | mode"
      ]
    },
    {
      "cell_type": "code",
      "metadata": {
        "id": "5p4Yknu5PUbk",
        "colab_type": "code",
        "colab": {}
      },
      "source": [
        "# update the features which need further processing later\n",
        "\n",
        "\n",
        "#string, text features, need recoding\n",
        "cat_features = [\"term\", \"grade\", \"sub_grade\", \"emp_title\", \"emp_length\", \"home_ownership\", \"verification_status\", \"purpose\",\"title\", \"addr_state\"]\n",
        "\n",
        "# numerical values with % sign, need recoding\n",
        "text_features = [\"int_rate\", \"revol_util\", \"total_acc\"]\n",
        "\n",
        "# date features\n",
        "date_features = [\"issue_d\", \"earliest_cr_line\"]"
      ],
      "execution_count": 0,
      "outputs": []
    },
    {
      "cell_type": "markdown",
      "metadata": {
        "id": "_neigGX0Fafq",
        "colab_type": "text"
      },
      "source": [
        "#### 4.2.2.1 Fill with mode"
      ]
    },
    {
      "cell_type": "code",
      "metadata": {
        "id": "aUFK4XOH0kTQ",
        "colab_type": "code",
        "colab": {}
      },
      "source": [
        "from scipy.stats import mode\n",
        "\n",
        "# fill with mode number\n",
        "features_fill_with_mode = [\"emp_title\", \"emp_length\", \"title\", \"revol_util\", \"last_pymnt_d\", \"last_credit_pull_d\", \"pub_rec_bankruptcies\"]\n",
        "\n",
        "for i in features_fill_with_mode:\n",
        "  loans[i][loans[i].isnull()] = mode(loans[i][loans[i].notnull()])[0][0]"
      ],
      "execution_count": 0,
      "outputs": []
    },
    {
      "cell_type": "markdown",
      "metadata": {
        "id": "9sTbhdG_1lBH",
        "colab_type": "text"
      },
      "source": [
        "注：\n",
        "\n",
        "由于接下来将用到逻辑回归模型，它对特征线性相关性较敏感，所以尽管用其它变量拟合缺失值对缺失值的填充会更符合实际情况，也没有采用这种方法。\n",
        "\n",
        "为什么使用众数填充而不是用中位数或是均值填充？因为众数对于数值型变量和字符型变量都适用，而且也有统计意义。"
      ]
    },
    {
      "cell_type": "markdown",
      "metadata": {
        "id": "Q50_-eEF4ZUF",
        "colab_type": "text"
      },
      "source": [
        "### 4.3 Features with the same values\n",
        "At the very beginning, the features with 100% missing values or 100% same values are removed. \n",
        "\n",
        "Next, I will focus on the other imbalanced features. \n",
        "In general, if the percentage of the featuers with 90% more same values will be problematic. \n",
        "\n",
        "如果一个变量大部分的观测都是相同的特征，那么这个特征或者输入变量就是无法用来区分目标时间，一般来说，临界点在90%。但是最终的结果还是应该基于业务来判断。"
      ]
    },
    {
      "cell_type": "code",
      "metadata": {
        "id": "ooIVkXOm1lcv",
        "colab_type": "code",
        "colab": {
          "base_uri": "https://localhost:8080/",
          "height": 198
        },
        "outputId": "485f7f24-c675-4cd8-ddf3-14605950c9a2"
      },
      "source": [
        "# 同值性特征识别处理，将阀值设定为90%\n",
        "same_value_features = []\n",
        "for i in loans.columns:\n",
        "  try:\n",
        "    mode_value = mode(loans[i])[0][0]\n",
        "    mode_rate = mode(loans[i])[1][0]*1.0 / loans.shape[0]\n",
        "    if mode_rate > 0.9:\n",
        "      same_value_features.append([i, mode_value, mode_rate])\n",
        "  except:\n",
        "    pass\n",
        "  \n",
        "temp = pd.DataFrame(same_value_features, columns = ['col_name', 'mode_value', 'mode_rate'])\n",
        "temp .sort_values(by = 'mode_rate')"
      ],
      "execution_count": 177,
      "outputs": [
        {
          "output_type": "execute_result",
          "data": {
            "text/html": [
              "<div>\n",
              "<style scoped>\n",
              "    .dataframe tbody tr th:only-of-type {\n",
              "        vertical-align: middle;\n",
              "    }\n",
              "\n",
              "    .dataframe tbody tr th {\n",
              "        vertical-align: top;\n",
              "    }\n",
              "\n",
              "    .dataframe thead th {\n",
              "        text-align: right;\n",
              "    }\n",
              "</style>\n",
              "<table border=\"1\" class=\"dataframe\">\n",
              "  <thead>\n",
              "    <tr style=\"text-align: right;\">\n",
              "      <th></th>\n",
              "      <th>col_name</th>\n",
              "      <th>mode_value</th>\n",
              "      <th>mode_rate</th>\n",
              "    </tr>\n",
              "  </thead>\n",
              "  <tbody>\n",
              "    <tr>\n",
              "      <th>2</th>\n",
              "      <td>collection_recovery_fee</td>\n",
              "      <td>0</td>\n",
              "      <td>0.903107</td>\n",
              "    </tr>\n",
              "    <tr>\n",
              "      <th>0</th>\n",
              "      <td>pub_rec</td>\n",
              "      <td>0</td>\n",
              "      <td>0.946690</td>\n",
              "    </tr>\n",
              "    <tr>\n",
              "      <th>1</th>\n",
              "      <td>total_rec_late_fee</td>\n",
              "      <td>0</td>\n",
              "      <td>0.947771</td>\n",
              "    </tr>\n",
              "    <tr>\n",
              "      <th>3</th>\n",
              "      <td>pub_rec_bankruptcies</td>\n",
              "      <td>0</td>\n",
              "      <td>0.957648</td>\n",
              "    </tr>\n",
              "    <tr>\n",
              "      <th>4</th>\n",
              "      <td>debt_settlement_flag</td>\n",
              "      <td>N</td>\n",
              "      <td>0.996230</td>\n",
              "    </tr>\n",
              "  </tbody>\n",
              "</table>\n",
              "</div>"
            ],
            "text/plain": [
              "                  col_name mode_value  mode_rate\n",
              "2  collection_recovery_fee          0   0.903107\n",
              "0                  pub_rec          0   0.946690\n",
              "1       total_rec_late_fee          0   0.947771\n",
              "3     pub_rec_bankruptcies          0   0.957648\n",
              "4     debt_settlement_flag          N   0.996230"
            ]
          },
          "metadata": {
            "tags": []
          },
          "execution_count": 177
        }
      ]
    },
    {
      "cell_type": "markdown",
      "metadata": {
        "id": "UVXfMPdRJmLG",
        "colab_type": "text"
      },
      "source": [
        ">Features | Mode_value | Mode_rate | Strategy\n",
        ">--- | --- | --- | ---\n",
        ">collection_recovery_fee | 0 | 90% | after charged off, **drop**\n",
        ">pub_rec | 0 | 94.7% | most borrowers don't have public recovery record, seems reasonable, **drop**\n",
        ">total_rec_late_fee | 0 | 94.77% | after charged off, **drop**\n",
        ">pub_rec_bankruptcies | 0 | 95.57% | most borrowers don't have public bankrupticy record, seems reasonable, **drop**\n"
      ]
    },
    {
      "cell_type": "code",
      "metadata": {
        "id": "nyDCn8D3LVwo",
        "colab_type": "code",
        "colab": {}
      },
      "source": [
        "# remove the features from the training, validation, testing datasets\n",
        "for data in df_list:\n",
        "  data.drop([\"collection_recovery_fee\", \"pub_rec\", \"total_rec_late_fee\", \"pub_rec_bankruptcies\"], axis = 1, inplace = True)"
      ],
      "execution_count": 0,
      "outputs": []
    },
    {
      "cell_type": "markdown",
      "metadata": {
        "id": "hRKD-1U0_Idv",
        "colab_type": "text"
      },
      "source": [
        "### 4.4 Features format preprocessing\n",
        "\n",
        "#### 4.4.1. remove %, \n",
        "\n",
        "#### 4.4.2. format time features"
      ]
    },
    {
      "cell_type": "code",
      "metadata": {
        "id": "DhWUywBlOsiK",
        "colab_type": "code",
        "colab": {}
      },
      "source": [
        "#string, text features, need recode, after further analysis, some of the features could be removed, I need to update the features for later data engineering\n",
        "cat_features = [\"term\", \"grade\", \"sub_grade\", \"emp_title\", \"emp_length\", \"home_ownership\", \"verification_status\", \"purpose\",\"title\", \"addr_state\"]\n",
        "\n",
        "# numerical values with % sign, need recoding\n",
        "text_features = [\"revol_util\", \"total_acc\", \"int_rate\"]\n",
        "\n",
        "# date features\n",
        "date_features = [\"issue_d\", \"earliest_cr_line\"]"
      ],
      "execution_count": 0,
      "outputs": []
    },
    {
      "cell_type": "code",
      "metadata": {
        "id": "-qPVFBBqRwAd",
        "colab_type": "code",
        "colab": {}
      },
      "source": [
        "for data in df_list:\n",
        "  data['term'] = data['term'].replace(\" 36 months\", 36).replace(\" 60 months\", 60).astype('float')\n",
        "  # remove %\n",
        "  data['int_rate'] = data['int_rate'].str.replace('%', '').astype('float')\n",
        "  data['revol_util'] = data['revol_util'].str.replace('%', '').astype('float')\n",
        "  # format time features\n",
        "  data['earliest_cr_line'] = [pd.datetime.strptime(str(j), '%b-%Y') for j in data['earliest_cr_line']]\n",
        "  data['issue_d'] = [pd.datetime.strptime(str(j), '%b-%Y') for j in data['issue_d']]\n",
        "  \n",
        "  "
      ],
      "execution_count": 0,
      "outputs": []
    },
    {
      "cell_type": "markdown",
      "metadata": {
        "id": "YUQUzj1He0rd",
        "colab_type": "text"
      },
      "source": [
        "### 4.5 Text features processing (文本特征处理)\n",
        "- emp_title\n",
        "- title\n",
        "- addr_state\n",
        "\n",
        "经过上述步骤处理后，现有的文本类数据包括：emp_title(职务信息），title(标题）,addr_state(借款人地址），其中title与purpose相关性较强，都是表明借款用途的信息。\n",
        "\n",
        "emp_title字面上看是职务头衔，但是实际内容是借款人所在机构，它类型多，且是文本型特征，但是根据数据探索阶段得到的结论，这个变量含有预测性的信息，用模型分箱相当耗费性能，所以根据经验考虑尝试机构类别将它分类。\n",
        "\n",
        "addr_state也包含预测性信息，可以尝试用卡方分箱或依据经验进行进行分类"
      ]
    },
    {
      "cell_type": "markdown",
      "metadata": {
        "id": "2BBrKqpTfaW-",
        "colab_type": "text"
      },
      "source": [
        "### 4.5.1 工作机构分类 (暂时去掉)\n",
        "\n",
        "Since there are 28862 distinct titles, will drop it temperally.\n",
        "\n",
        "工作机构分类，依据A政府机构类，B银行类，F医院类，E学校类，C自职业类，D公司和其它类，G退休类分类． 如果数据中的emp_title与某个上述A-G有交集，则将它划为该类，用字母字符表示； 缺省值为’H'。"
      ]
    },
    {
      "cell_type": "code",
      "metadata": {
        "id": "lOWBg-AAXAyT",
        "colab_type": "code",
        "colab": {}
      },
      "source": [
        "for data in df_list:\n",
        "  data.drop(\"emp_title\", axis = 1, inplace = True)\n",
        "  "
      ],
      "execution_count": 0,
      "outputs": []
    },
    {
      "cell_type": "code",
      "metadata": {
        "id": "G_7YZJ55Sfxe",
        "colab_type": "code",
        "colab": {}
      },
      "source": [
        "# 工作机构分类，依据A政府机构，B银行， F医院类， E学校类， C自由职业类，D公司和其它类， G退休类\n",
        "# 如果loans中emp_title与某个上述工作有交集， 则将其化为该类， 用字母表示， \n",
        "# 缺失值用”H\"代替\n",
        "\n",
        "A = ['board', 'general', 'american', 'U.S.', 'army', 'force', 'states', 'corp', 'navy', 'united', 'department']\n",
        "B = ['bank', 'morgan']\n",
        "C = ['self']\n",
        "D = 'OTHER'\n",
        "E = ['college', 'school', 'university']\n",
        "F = ['hospital', 'clinic', 'health', 'healthcare']\n",
        "G = ['retired']\n",
        "\n",
        "ls_letter = [0, 1, 2, 4, 5, 6]\n",
        "ls = [A, B, C, E, F , G]\n",
        "\n",
        "def emp_classify(df1):\n",
        "  for i in df1.emp_title.index:\n",
        "    emp_list = []\n",
        "    for j in range(len(ls)):\n",
        "      emp_list.append((set(str(df1.emp_title[i]).lower().split())&set(ls[j])))\n",
        "    if emp_list.count(set()) != 6:\n",
        "      sr_emp = pd.Series(emp_list)\n",
        "      idx = sr_emp[sr_emp != set()].index\n",
        "      df1.emp_title[i] = ls_letter[idx[0]]\n",
        "    else:\n",
        "      df1.emp_title[i] = 3\n",
        "  df1.emp_title[df1.emp_title.isnull()] = 7"
      ],
      "execution_count": 0,
      "outputs": []
    },
    {
      "cell_type": "markdown",
      "metadata": {
        "id": "qgvrrEEwhu_h",
        "colab_type": "text"
      },
      "source": [
        "注：由于下面要应用到随机森林模型，它只接受数值型和类别型变量，不接受\n",
        "\n",
        "‘object’或区间格式的变量，为了方便，将类别统一用数字表示。其它的格式变换也是如此。"
      ]
    },
    {
      "cell_type": "markdown",
      "metadata": {
        "id": "5hKihJ_Ohwhm",
        "colab_type": "text"
      },
      "source": [
        "### 4.5.2 借款人州地址分类 (暂时去掉)\n",
        "\n",
        "Since there are 50 distinct states, will drop it temperally\n",
        "\n",
        "４．５．２．１　k-means聚类分析\n",
        "\n",
        "首先尝试使用k-means方式进行聚类，看看每一类中的州地址有没有什么共性："
      ]
    },
    {
      "cell_type": "code",
      "metadata": {
        "id": "p6UMfna7hc_e",
        "colab_type": "code",
        "colab": {
          "base_uri": "https://localhost:8080/",
          "height": 55
        },
        "outputId": "5eac1f76-c5bc-4d34-b613-504ede50e917"
      },
      "source": [
        "# 尝试k-means 方法对所在州聚类\n",
        "# K-means 是基于距离值聚类，因此需要先归一化处理\n",
        "\n",
        "from sklearn.preprocessing import MinMaxScaler\n",
        "from sklearn.cluster import KMeans\n",
        "mm = MinMaxScaler()\n",
        "\n",
        "\"\"\"\n",
        "df_addr_temp.iloc[:, :] = mm.fit_transform(df_addr_temp)\n",
        "\n",
        "km = KMeans(n_clusters = 8, random_state = 3)\n",
        "km.fit(df_addr_temp.values)\n",
        "df_addr_temp = pd.concat([df_addr_temp, df_train.addr_state, pd.Series(km.labels_)], axis = 1)\n",
        "\n",
        "df_addr_temp.groupby([0, 'addr_state'])['addr_state'].count()\n",
        "\"\"\""
      ],
      "execution_count": 210,
      "outputs": [
        {
          "output_type": "execute_result",
          "data": {
            "text/plain": [
              "\"\\ndf_addr_temp.iloc[:, :] = mm.fit_transform(df_addr_temp)\\n\\nkm = KMeans(n_clusters = 8, random_state = 3)\\nkm.fit(df_addr_temp.values)\\ndf_addr_temp = pd.concat([df_addr_temp, df_train.addr_state, pd.Series(km.labels_)], axis = 1)\\n\\ndf_addr_temp.groupby([0, 'addr_state'])['addr_state'].count()\\n\""
            ]
          },
          "metadata": {
            "tags": []
          },
          "execution_count": 210
        }
      ]
    },
    {
      "cell_type": "markdown",
      "metadata": {
        "id": "V4RHEaD0jB9P",
        "colab_type": "text"
      },
      "source": [
        "从输出结果中并没有看出不同群体有什么共性。"
      ]
    },
    {
      "cell_type": "markdown",
      "metadata": {
        "id": "21YvyDGojDdP",
        "colab_type": "text"
      },
      "source": [
        "### 4.5.3 等频分箱 (暂时不考虑上面两个features)\n",
        "用频数进行分类，使每一个分组内的样本数尽量相近"
      ]
    },
    {
      "cell_type": "code",
      "metadata": {
        "id": "6z4473GaiOL7",
        "colab_type": "code",
        "colab": {}
      },
      "source": [
        "# 尝试用频数经行分类， 是每一个分组内的样本数尽量相近， 假设8个样本， 每个分组大约3300个样本\n",
        "\n",
        "S= [['CA'], ['FL', 'TX'], ['NJ', 'PA', 'IL'], ['VA', 'GA', 'MA', 'OH'], ['MD', 'AZ', 'WA', 'CT', 'CO', 'NC'], \n",
        "   ['MI', 'MO', 'MN', 'NV', 'OR', 'WI', 'LA', 'SC', 'AL', 'OK']]\n",
        "\n",
        "addr_list = df_train.addr_state.value_counts().index.tolist()\n",
        "\n",
        "SS = []\n",
        "for i in S:\n",
        "  SS += i\n",
        "  \n",
        "S.insert(7, list(set(addr_list) - set(SS)))\n",
        "\n",
        "addr_set = []\n",
        "for i in S:\n",
        "  addr_set.append(set(i))\n",
        "  \n",
        "addr_dict = {}\n",
        "for i, j in zip(range(8), addr_set):\n",
        "  addr_dict[i] = j\n",
        "  \n",
        "# 将addr_state 进行分类转换\n",
        "\n",
        "def trans_add_func(df_to_trans):\n",
        "  for i in df_to_trans.addr_state[10:]:\n",
        "    for j in range(len(addr_dict)):\n",
        "      if i in addr_dict[j]:\n",
        "        df_to_trans.addr_state[df_to_trans.addr_state == i] = list(addr_dict.keys())[j]"
      ],
      "execution_count": 0,
      "outputs": []
    },
    {
      "cell_type": "markdown",
      "metadata": {
        "id": "BYCgfU8dk6iQ",
        "colab_type": "text"
      },
      "source": [
        "### 4.6 Categorical features recoding (特征编码)\n",
        "\n",
        "逻辑回归和随机森林模型不接受字符型变量，因此需要将对此类变量进行编码。\n",
        "\n",
        "常用的编码方式有类别标签法（不同的类别映射到不同的数值），哑变量编码法（对类别变量取哑变量）等等。考虑到评分卡模型的简洁性，在此选用类别标签法。。"
      ]
    },
    {
      "cell_type": "code",
      "metadata": {
        "id": "YE0t9yxskfi6",
        "colab_type": "code",
        "colab": {}
      },
      "source": [
        "# encoding features: grade, emp_length, home_ownership, verification_status, purpose\n",
        "import numpy as np\n",
        "\n",
        "for data in df_list:\n",
        "  \n",
        "  # feature grade\n",
        "  data.grade.replace({\"A\":0, \"B\":1, \"C\": 2, \"D\": 3, \"E\": 4, \"F\": 5, \"G\": 6}, inplace = True)\n",
        "  \n",
        "  # feature emp_length\n",
        "  data.emp_length.replace({\"10+ years\": 11, \"9 years\": 10, \"8 years\": 19, \"7 years\": 8, \n",
        "                        \"6 years\": 7, \"5 years\": 6, \"4 years\": 5, \"3 years\": 4, \n",
        "                        \"2 years\": 3, \"1 year\": 2, \"< 1 year\": 1, np.nan: 0}, inplace = True)\n",
        "  \n",
        "  # feature home_ownership\n",
        "  data.home_ownership.replace({\"MORTGAGE\": 0, \"OTHER\": 1, \"NONE\": 2, \"OWN\": 3, \"RENT\": 4}, inplace = True)\n",
        "  \n",
        "  # feature verification_status\n",
        "  data.verification_status.replace({'Not Verified': 0, \"Source Verified\": 1, \"Verified\": 2}, inplace = True)\n",
        "  \n",
        "  # feature purpose\n",
        "  data.purpose.replace({\"credit_card\": 0, \"home_improvement\": 1, \"debt_consolidation\": 2, \"other\": 3, \n",
        "                    \"major_purchase\": 4, \"medical\": 5, \"small_business\": 6, \n",
        "                    \"car\": 7, \"vacation\": 8, \"moving\": 9, \"house\": 10,\n",
        "                    \"renewable_energy\": 11, \"wedding\": 12, \"education\": 13}, inplace = True)\n",
        "  \n",
        "  # feature loan_status\n",
        "  data.loan_status.replace({\"Fully Paid\": 0, \"Charged Off\": 1}, inplace = True)\n",
        "  \n",
        "  # feature term\n",
        "  data.term.replace({36.0: 0, 60.0: 1}, inplace = True)"
      ],
      "execution_count": 0,
      "outputs": []
    },
    {
      "cell_type": "markdown",
      "metadata": {
        "id": "l2BhLGEBoteu",
        "colab_type": "text"
      },
      "source": [
        "### 4.7 Data normalization 归一化处理\n",
        "\n",
        "逻辑回归模型基于线性回归，求参需要用到梯度下降法，为了加快迭代速度，不同特征的变化范围规模相差不宜过大，如果用数值直接带入逻辑回归模型，必须进行变量缩放。但是本文是用逻辑回归建立评分卡，会将数值变量进行分箱，所以这一步可以省略。"
      ]
    },
    {
      "cell_type": "markdown",
      "metadata": {
        "id": "R5FKdZR-o18W",
        "colab_type": "text"
      },
      "source": [
        "### 4.8 Be careful about data leakage (警惕数据泄露)\n",
        "\n",
        "数据泄露分为２种：不恰当特征导致的泄露、不恰当的交叉验证策略导致泄露"
      ]
    },
    {
      "cell_type": "markdown",
      "metadata": {
        "id": "3LIt8b9lo__B",
        "colab_type": "text"
      },
      "source": [
        "### 4.8.1 警惕不恰当特征\n",
        "\n",
        "所有特征中，一旦在目标属性出现后，会随之更新或出现的属性，属于会泄露信息的属性，在这个数据集中，包括贷中、贷后特征。\n",
        "\n",
        "删除此类特征（之前预处理步骤中已经删除了一些）：\n",
        "\n"
      ]
    },
    {
      "cell_type": "code",
      "metadata": {
        "id": "xMieSxjlpFr6",
        "colab_type": "code",
        "colab": {}
      },
      "source": [
        "# delete leaking features & not meaningful features\n",
        "leak_feas = ['sub_grade', 'title', 'zip_code', 'recoveries', 'last_pymnt_amnt', 'funded_amnt', 'funded_amnt_inv', 'total_pymnt',\n",
        "            'total_pymnt_inv', 'total_rec_prncp', 'total_rec_int', 'desc']\n",
        "\n",
        "for i in df_list:\n",
        "  i.drop(leak_feas, axis = 1, inplace = True)"
      ],
      "execution_count": 0,
      "outputs": []
    },
    {
      "cell_type": "markdown",
      "metadata": {
        "id": "GzQKT97xpk6-",
        "colab_type": "text"
      },
      "source": [
        "### 4.8.2 错误的交叉验证策略：\n",
        "尽量保证验证集数据的纯粹，不要让它参与到训练集的处理和模型构建当中，这意味着，要在预处理之前分割训练集和测试集。"
      ]
    },
    {
      "cell_type": "markdown",
      "metadata": {
        "id": "z72BLIGpprGA",
        "colab_type": "text"
      },
      "source": [
        "# 5. Feature Engineering\n"
      ]
    },
    {
      "cell_type": "markdown",
      "metadata": {
        "id": "r3TozxArpvhQ",
        "colab_type": "text"
      },
      "source": [
        "### 5.1 特征衍生 (之后再做)\n",
        "将时序变量衍生为月份值，将（贷款发放时间－首次使用信用卡时间）作为一个新的变量，表示信用历史(cre_hist)，单位是月份。"
      ]
    },
    {
      "cell_type": "code",
      "metadata": {
        "id": "GZlLc4iipF49",
        "colab_type": "code",
        "colab": {
          "base_uri": "https://localhost:8080/",
          "height": 55
        },
        "outputId": "74088418-e308-496e-c47c-6e0f36a2ef54"
      },
      "source": [
        "# deriving features, cre_hist = issue_d - earliest_cr_line\n",
        "\"\"\"\n",
        "for i in df_list:\n",
        "  i['cre_hist'] = [j.days for j in (i.issue_d - i.earliest_cr_line)/30]\n",
        "  i.drop(['issue_d', 'earliest_cr_line'], axis = 1, inplace = True)\n",
        "  \n",
        "\"\"\""
      ],
      "execution_count": 216,
      "outputs": [
        {
          "output_type": "execute_result",
          "data": {
            "text/plain": [
              "\"\\nfor i in df_list:\\n  i['cre_hist'] = [j.days for j in (i.issue_d - i.earliest_cr_line)/30]\\n  i.drop(['issue_d', 'earliest_cr_line'], axis = 1, inplace = True)\\n  \\n\""
            ]
          },
          "metadata": {
            "tags": []
          },
          "execution_count": 216
        }
      ]
    },
    {
      "cell_type": "markdown",
      "metadata": {
        "id": "QVIQ49sYqHAz",
        "colab_type": "text"
      },
      "source": [
        "### 5.2 筛选变量"
      ]
    },
    {
      "cell_type": "markdown",
      "metadata": {
        "id": "J9CpQKUgqLDq",
        "colab_type": "text"
      },
      "source": [
        "### 5.2.1 依据共线性筛选变量\n",
        "\n",
        "逻辑回归是基于线性回归模型，其前提假设是用于建模的特征之间不存在线性相关性，因此，它对共线性问题比较敏感。共线性的存在对模型稳定性有很大影响，并且也无法区分每个特征对目标变量的解释性。"
      ]
    },
    {
      "cell_type": "markdown",
      "metadata": {
        "id": "GU5zhdZYqQFw",
        "colab_type": "text"
      },
      "source": [
        "依据VIF（方差膨胀系数）筛选变量\n",
        "\n",
        "每个特征的VIF计算是用其它特征对它进行回归拟合，如果这种拟合的解释性很强，说明它们之间存在多重共线性。\n",
        "\n",
        "用VIF计算连续型变量的共线性："
      ]
    },
    {
      "cell_type": "code",
      "metadata": {
        "id": "gne07RD2qfrv",
        "colab_type": "code",
        "colab": {
          "base_uri": "https://localhost:8080/",
          "height": 190
        },
        "outputId": "8153fa38-b325-4e30-f930-ffb33e54065d"
      },
      "source": [
        "df_train.columns"
      ],
      "execution_count": 217,
      "outputs": [
        {
          "output_type": "execute_result",
          "data": {
            "text/plain": [
              "Index(['loan_amnt', 'funded_amnt', 'funded_amnt_inv', 'term', 'int_rate',\n",
              "       'installment', 'grade', 'sub_grade', 'emp_length', 'home_ownership',\n",
              "       'annual_inc', 'verification_status', 'purpose', 'title', 'addr_state',\n",
              "       'dti', 'delinq_2yrs', 'inq_last_6mths', 'mths_since_last_delinq',\n",
              "       'mths_since_last_record', 'open_acc', 'revol_bal', 'revol_util',\n",
              "       'total_acc', 'total_pymnt', 'total_pymnt_inv', 'total_rec_prncp',\n",
              "       'total_rec_int', 'recoveries', 'last_pymnt_d', 'last_pymnt_amnt',\n",
              "       'last_credit_pull_d', 'debt_settlement_flag', 'loan_status',\n",
              "       'cre_hist'],\n",
              "      dtype='object')"
            ]
          },
          "metadata": {
            "tags": []
          },
          "execution_count": 217
        }
      ]
    },
    {
      "cell_type": "code",
      "metadata": {
        "id": "Ceu2GhutzbPK",
        "colab_type": "code",
        "colab": {
          "base_uri": "https://localhost:8080/",
          "height": 1000
        },
        "outputId": "eacc75d4-392d-4e29-d559-4c11289733f4"
      },
      "source": [
        "df_train.select_dtypes(include=['object'])"
      ],
      "execution_count": 220,
      "outputs": [
        {
          "output_type": "execute_result",
          "data": {
            "text/html": [
              "<div>\n",
              "<style scoped>\n",
              "    .dataframe tbody tr th:only-of-type {\n",
              "        vertical-align: middle;\n",
              "    }\n",
              "\n",
              "    .dataframe tbody tr th {\n",
              "        vertical-align: top;\n",
              "    }\n",
              "\n",
              "    .dataframe thead th {\n",
              "        text-align: right;\n",
              "    }\n",
              "</style>\n",
              "<table border=\"1\" class=\"dataframe\">\n",
              "  <thead>\n",
              "    <tr style=\"text-align: right;\">\n",
              "      <th></th>\n",
              "      <th>sub_grade</th>\n",
              "      <th>emp_length</th>\n",
              "      <th>purpose</th>\n",
              "      <th>title</th>\n",
              "      <th>addr_state</th>\n",
              "      <th>last_pymnt_d</th>\n",
              "      <th>last_credit_pull_d</th>\n",
              "      <th>debt_settlement_flag</th>\n",
              "    </tr>\n",
              "  </thead>\n",
              "  <tbody>\n",
              "    <tr>\n",
              "      <th>15908</th>\n",
              "      <td>A2</td>\n",
              "      <td>7</td>\n",
              "      <td>3</td>\n",
              "      <td>pay off personal loan</td>\n",
              "      <td>TX</td>\n",
              "      <td>May-2014</td>\n",
              "      <td>Jul-2015</td>\n",
              "      <td>N</td>\n",
              "    </tr>\n",
              "    <tr>\n",
              "      <th>6796</th>\n",
              "      <td>A1</td>\n",
              "      <td>7</td>\n",
              "      <td>10</td>\n",
              "      <td>home down payment</td>\n",
              "      <td>NJ</td>\n",
              "      <td>May-2013</td>\n",
              "      <td>May-2013</td>\n",
              "      <td>N</td>\n",
              "    </tr>\n",
              "    <tr>\n",
              "      <th>33525</th>\n",
              "      <td>D3</td>\n",
              "      <td>3</td>\n",
              "      <td>1</td>\n",
              "      <td>Home Improvement</td>\n",
              "      <td>TX</td>\n",
              "      <td>Mar-2011</td>\n",
              "      <td>Mar-2011</td>\n",
              "      <td>N</td>\n",
              "    </tr>\n",
              "    <tr>\n",
              "      <th>49</th>\n",
              "      <td>A2</td>\n",
              "      <td>6</td>\n",
              "      <td>2</td>\n",
              "      <td>Debt Consolitation</td>\n",
              "      <td>CT</td>\n",
              "      <td>Jan-2015</td>\n",
              "      <td>Oct-2018</td>\n",
              "      <td>N</td>\n",
              "    </tr>\n",
              "    <tr>\n",
              "      <th>17697</th>\n",
              "      <td>B5</td>\n",
              "      <td>1</td>\n",
              "      <td>9</td>\n",
              "      <td>our new start</td>\n",
              "      <td>IL</td>\n",
              "      <td>Dec-2012</td>\n",
              "      <td>Jan-2016</td>\n",
              "      <td>N</td>\n",
              "    </tr>\n",
              "    <tr>\n",
              "      <th>33582</th>\n",
              "      <td>B5</td>\n",
              "      <td>11</td>\n",
              "      <td>2</td>\n",
              "      <td>On a Debt Free Adventure of my own!</td>\n",
              "      <td>TX</td>\n",
              "      <td>Dec-2012</td>\n",
              "      <td>Dec-2012</td>\n",
              "      <td>N</td>\n",
              "    </tr>\n",
              "    <tr>\n",
              "      <th>12642</th>\n",
              "      <td>B5</td>\n",
              "      <td>2</td>\n",
              "      <td>2</td>\n",
              "      <td>KC Consolidation</td>\n",
              "      <td>IL</td>\n",
              "      <td>Jul-2014</td>\n",
              "      <td>Nov-2017</td>\n",
              "      <td>N</td>\n",
              "    </tr>\n",
              "    <tr>\n",
              "      <th>18345</th>\n",
              "      <td>B3</td>\n",
              "      <td>6</td>\n",
              "      <td>3</td>\n",
              "      <td>Henrys loan</td>\n",
              "      <td>WA</td>\n",
              "      <td>Dec-2013</td>\n",
              "      <td>Aug-2018</td>\n",
              "      <td>N</td>\n",
              "    </tr>\n",
              "    <tr>\n",
              "      <th>7916</th>\n",
              "      <td>A4</td>\n",
              "      <td>1</td>\n",
              "      <td>2</td>\n",
              "      <td>Sweet 16</td>\n",
              "      <td>CA</td>\n",
              "      <td>Mar-2013</td>\n",
              "      <td>Oct-2018</td>\n",
              "      <td>N</td>\n",
              "    </tr>\n",
              "    <tr>\n",
              "      <th>15415</th>\n",
              "      <td>A3</td>\n",
              "      <td>4</td>\n",
              "      <td>7</td>\n",
              "      <td>Ducati</td>\n",
              "      <td>CA</td>\n",
              "      <td>Jun-2013</td>\n",
              "      <td>Jun-2013</td>\n",
              "      <td>N</td>\n",
              "    </tr>\n",
              "    <tr>\n",
              "      <th>1300</th>\n",
              "      <td>D4</td>\n",
              "      <td>11</td>\n",
              "      <td>0</td>\n",
              "      <td>HSBC/Citi1</td>\n",
              "      <td>WI</td>\n",
              "      <td>Dec-2016</td>\n",
              "      <td>Oct-2018</td>\n",
              "      <td>N</td>\n",
              "    </tr>\n",
              "    <tr>\n",
              "      <th>26109</th>\n",
              "      <td>B4</td>\n",
              "      <td>11</td>\n",
              "      <td>3</td>\n",
              "      <td>Personal Loan</td>\n",
              "      <td>CA</td>\n",
              "      <td>Oct-2013</td>\n",
              "      <td>Oct-2016</td>\n",
              "      <td>N</td>\n",
              "    </tr>\n",
              "    <tr>\n",
              "      <th>28398</th>\n",
              "      <td>C2</td>\n",
              "      <td>7</td>\n",
              "      <td>0</td>\n",
              "      <td>Tired of Paying Credit Card Corporations</td>\n",
              "      <td>MO</td>\n",
              "      <td>Oct-2013</td>\n",
              "      <td>Oct-2013</td>\n",
              "      <td>N</td>\n",
              "    </tr>\n",
              "    <tr>\n",
              "      <th>19812</th>\n",
              "      <td>E3</td>\n",
              "      <td>11</td>\n",
              "      <td>2</td>\n",
              "      <td>Debt consolidation</td>\n",
              "      <td>TX</td>\n",
              "      <td>Aug-2014</td>\n",
              "      <td>Oct-2018</td>\n",
              "      <td>N</td>\n",
              "    </tr>\n",
              "    <tr>\n",
              "      <th>17602</th>\n",
              "      <td>B3</td>\n",
              "      <td>1</td>\n",
              "      <td>2</td>\n",
              "      <td>Credit Card Debt Consolidation</td>\n",
              "      <td>MA</td>\n",
              "      <td>Sep-2013</td>\n",
              "      <td>Nov-2013</td>\n",
              "      <td>N</td>\n",
              "    </tr>\n",
              "    <tr>\n",
              "      <th>1918</th>\n",
              "      <td>E2</td>\n",
              "      <td>8</td>\n",
              "      <td>2</td>\n",
              "      <td>Freedom</td>\n",
              "      <td>FL</td>\n",
              "      <td>Sep-2015</td>\n",
              "      <td>Oct-2016</td>\n",
              "      <td>N</td>\n",
              "    </tr>\n",
              "    <tr>\n",
              "      <th>5489</th>\n",
              "      <td>E2</td>\n",
              "      <td>11</td>\n",
              "      <td>2</td>\n",
              "      <td>Debt Consolidation Loan</td>\n",
              "      <td>WA</td>\n",
              "      <td>Oct-2015</td>\n",
              "      <td>Oct-2018</td>\n",
              "      <td>N</td>\n",
              "    </tr>\n",
              "    <tr>\n",
              "      <th>22095</th>\n",
              "      <td>C1</td>\n",
              "      <td>2</td>\n",
              "      <td>7</td>\n",
              "      <td>Motorcycle</td>\n",
              "      <td>CA</td>\n",
              "      <td>Jan-2014</td>\n",
              "      <td>Jan-2014</td>\n",
              "      <td>N</td>\n",
              "    </tr>\n",
              "    <tr>\n",
              "      <th>7156</th>\n",
              "      <td>B2</td>\n",
              "      <td>11</td>\n",
              "      <td>1</td>\n",
              "      <td>Home Improvement</td>\n",
              "      <td>IL</td>\n",
              "      <td>Nov-2015</td>\n",
              "      <td>Jan-2018</td>\n",
              "      <td>N</td>\n",
              "    </tr>\n",
              "    <tr>\n",
              "      <th>15520</th>\n",
              "      <td>B5</td>\n",
              "      <td>6</td>\n",
              "      <td>2</td>\n",
              "      <td>DAYCARE</td>\n",
              "      <td>MD</td>\n",
              "      <td>Oct-2013</td>\n",
              "      <td>Aug-2018</td>\n",
              "      <td>N</td>\n",
              "    </tr>\n",
              "    <tr>\n",
              "      <th>7229</th>\n",
              "      <td>B3</td>\n",
              "      <td>11</td>\n",
              "      <td>12</td>\n",
              "      <td>wedding loan</td>\n",
              "      <td>CA</td>\n",
              "      <td>Oct-2014</td>\n",
              "      <td>Mar-2016</td>\n",
              "      <td>N</td>\n",
              "    </tr>\n",
              "    <tr>\n",
              "      <th>29281</th>\n",
              "      <td>B3</td>\n",
              "      <td>3</td>\n",
              "      <td>2</td>\n",
              "      <td>personal loan</td>\n",
              "      <td>WV</td>\n",
              "      <td>Jun-2013</td>\n",
              "      <td>Jun-2014</td>\n",
              "      <td>N</td>\n",
              "    </tr>\n",
              "    <tr>\n",
              "      <th>35914</th>\n",
              "      <td>B5</td>\n",
              "      <td>19</td>\n",
              "      <td>2</td>\n",
              "      <td>Megan's loan</td>\n",
              "      <td>NJ</td>\n",
              "      <td>Aug-2012</td>\n",
              "      <td>May-2018</td>\n",
              "      <td>N</td>\n",
              "    </tr>\n",
              "    <tr>\n",
              "      <th>26622</th>\n",
              "      <td>B3</td>\n",
              "      <td>19</td>\n",
              "      <td>3</td>\n",
              "      <td>home expenses</td>\n",
              "      <td>CA</td>\n",
              "      <td>Sep-2013</td>\n",
              "      <td>Oct-2018</td>\n",
              "      <td>N</td>\n",
              "    </tr>\n",
              "    <tr>\n",
              "      <th>5385</th>\n",
              "      <td>C5</td>\n",
              "      <td>3</td>\n",
              "      <td>0</td>\n",
              "      <td>Credit Card Loan</td>\n",
              "      <td>NY</td>\n",
              "      <td>Oct-2014</td>\n",
              "      <td>Nov-2017</td>\n",
              "      <td>N</td>\n",
              "    </tr>\n",
              "    <tr>\n",
              "      <th>39380</th>\n",
              "      <td>C4</td>\n",
              "      <td>11</td>\n",
              "      <td>2</td>\n",
              "      <td>It's not my money!</td>\n",
              "      <td>AZ</td>\n",
              "      <td>Jul-2008</td>\n",
              "      <td>Feb-2015</td>\n",
              "      <td>N</td>\n",
              "    </tr>\n",
              "    <tr>\n",
              "      <th>10502</th>\n",
              "      <td>A5</td>\n",
              "      <td>3</td>\n",
              "      <td>1</td>\n",
              "      <td>FixUp</td>\n",
              "      <td>TX</td>\n",
              "      <td>Nov-2013</td>\n",
              "      <td>Oct-2018</td>\n",
              "      <td>N</td>\n",
              "    </tr>\n",
              "    <tr>\n",
              "      <th>7051</th>\n",
              "      <td>B5</td>\n",
              "      <td>11</td>\n",
              "      <td>0</td>\n",
              "      <td>creditcard consolidation loan</td>\n",
              "      <td>FL</td>\n",
              "      <td>Oct-2016</td>\n",
              "      <td>Oct-2016</td>\n",
              "      <td>N</td>\n",
              "    </tr>\n",
              "    <tr>\n",
              "      <th>8070</th>\n",
              "      <td>C4</td>\n",
              "      <td>19</td>\n",
              "      <td>2</td>\n",
              "      <td>Debt Consolidation Loan</td>\n",
              "      <td>WI</td>\n",
              "      <td>Sep-2012</td>\n",
              "      <td>Jun-2018</td>\n",
              "      <td>N</td>\n",
              "    </tr>\n",
              "    <tr>\n",
              "      <th>17580</th>\n",
              "      <td>A4</td>\n",
              "      <td>1</td>\n",
              "      <td>2</td>\n",
              "      <td>Consolidation</td>\n",
              "      <td>TX</td>\n",
              "      <td>Feb-2013</td>\n",
              "      <td>Feb-2013</td>\n",
              "      <td>N</td>\n",
              "    </tr>\n",
              "    <tr>\n",
              "      <th>...</th>\n",
              "      <td>...</td>\n",
              "      <td>...</td>\n",
              "      <td>...</td>\n",
              "      <td>...</td>\n",
              "      <td>...</td>\n",
              "      <td>...</td>\n",
              "      <td>...</td>\n",
              "      <td>...</td>\n",
              "    </tr>\n",
              "    <tr>\n",
              "      <th>2611</th>\n",
              "      <td>D2</td>\n",
              "      <td>11</td>\n",
              "      <td>0</td>\n",
              "      <td>credit cards</td>\n",
              "      <td>NY</td>\n",
              "      <td>Apr-2013</td>\n",
              "      <td>Oct-2016</td>\n",
              "      <td>N</td>\n",
              "    </tr>\n",
              "    <tr>\n",
              "      <th>1931</th>\n",
              "      <td>B1</td>\n",
              "      <td>4</td>\n",
              "      <td>2</td>\n",
              "      <td>Credit Consolidation</td>\n",
              "      <td>SC</td>\n",
              "      <td>Nov-2012</td>\n",
              "      <td>Oct-2018</td>\n",
              "      <td>N</td>\n",
              "    </tr>\n",
              "    <tr>\n",
              "      <th>3637</th>\n",
              "      <td>C4</td>\n",
              "      <td>2</td>\n",
              "      <td>2</td>\n",
              "      <td>Credit card loan</td>\n",
              "      <td>CA</td>\n",
              "      <td>Dec-2014</td>\n",
              "      <td>Dec-2014</td>\n",
              "      <td>N</td>\n",
              "    </tr>\n",
              "    <tr>\n",
              "      <th>33452</th>\n",
              "      <td>B3</td>\n",
              "      <td>3</td>\n",
              "      <td>2</td>\n",
              "      <td>Paramount Altitudes</td>\n",
              "      <td>FL</td>\n",
              "      <td>Jun-2010</td>\n",
              "      <td>Jun-2010</td>\n",
              "      <td>N</td>\n",
              "    </tr>\n",
              "    <tr>\n",
              "      <th>31700</th>\n",
              "      <td>A3</td>\n",
              "      <td>6</td>\n",
              "      <td>1</td>\n",
              "      <td>New Roof for Family</td>\n",
              "      <td>AL</td>\n",
              "      <td>Feb-2011</td>\n",
              "      <td>Feb-2018</td>\n",
              "      <td>N</td>\n",
              "    </tr>\n",
              "    <tr>\n",
              "      <th>22668</th>\n",
              "      <td>D3</td>\n",
              "      <td>4</td>\n",
              "      <td>2</td>\n",
              "      <td>Survival Fund</td>\n",
              "      <td>CA</td>\n",
              "      <td>Dec-2015</td>\n",
              "      <td>Aug-2017</td>\n",
              "      <td>N</td>\n",
              "    </tr>\n",
              "    <tr>\n",
              "      <th>21210</th>\n",
              "      <td>D5</td>\n",
              "      <td>1</td>\n",
              "      <td>9</td>\n",
              "      <td>January 2011</td>\n",
              "      <td>MI</td>\n",
              "      <td>Jan-2014</td>\n",
              "      <td>Oct-2018</td>\n",
              "      <td>N</td>\n",
              "    </tr>\n",
              "    <tr>\n",
              "      <th>34215</th>\n",
              "      <td>A4</td>\n",
              "      <td>1</td>\n",
              "      <td>2</td>\n",
              "      <td>Reconsolidation</td>\n",
              "      <td>GA</td>\n",
              "      <td>Nov-2012</td>\n",
              "      <td>Feb-2016</td>\n",
              "      <td>N</td>\n",
              "    </tr>\n",
              "    <tr>\n",
              "      <th>7076</th>\n",
              "      <td>A4</td>\n",
              "      <td>4</td>\n",
              "      <td>1</td>\n",
              "      <td>Home Improvement on New Home</td>\n",
              "      <td>CA</td>\n",
              "      <td>Aug-2013</td>\n",
              "      <td>Jul-2013</td>\n",
              "      <td>N</td>\n",
              "    </tr>\n",
              "    <tr>\n",
              "      <th>29128</th>\n",
              "      <td>A4</td>\n",
              "      <td>8</td>\n",
              "      <td>3</td>\n",
              "      <td>Used Car</td>\n",
              "      <td>NJ</td>\n",
              "      <td>Oct-2010</td>\n",
              "      <td>Nov-2010</td>\n",
              "      <td>N</td>\n",
              "    </tr>\n",
              "    <tr>\n",
              "      <th>15534</th>\n",
              "      <td>E2</td>\n",
              "      <td>1</td>\n",
              "      <td>3</td>\n",
              "      <td>Payoff</td>\n",
              "      <td>PA</td>\n",
              "      <td>Apr-2014</td>\n",
              "      <td>Jan-2017</td>\n",
              "      <td>N</td>\n",
              "    </tr>\n",
              "    <tr>\n",
              "      <th>1030</th>\n",
              "      <td>F3</td>\n",
              "      <td>2</td>\n",
              "      <td>2</td>\n",
              "      <td>Debt Consolidation - 1 Payment for Debt</td>\n",
              "      <td>MD</td>\n",
              "      <td>Aug-2013</td>\n",
              "      <td>Oct-2016</td>\n",
              "      <td>N</td>\n",
              "    </tr>\n",
              "    <tr>\n",
              "      <th>2117</th>\n",
              "      <td>A4</td>\n",
              "      <td>5</td>\n",
              "      <td>1</td>\n",
              "      <td>Home Improvement Loan</td>\n",
              "      <td>CA</td>\n",
              "      <td>Dec-2014</td>\n",
              "      <td>Oct-2015</td>\n",
              "      <td>N</td>\n",
              "    </tr>\n",
              "    <tr>\n",
              "      <th>39588</th>\n",
              "      <td>C5</td>\n",
              "      <td>1</td>\n",
              "      <td>6</td>\n",
              "      <td>Business expansion/equipment</td>\n",
              "      <td>NC</td>\n",
              "      <td>Mar-2009</td>\n",
              "      <td>Oct-2018</td>\n",
              "      <td>N</td>\n",
              "    </tr>\n",
              "    <tr>\n",
              "      <th>23379</th>\n",
              "      <td>C4</td>\n",
              "      <td>4</td>\n",
              "      <td>4</td>\n",
              "      <td>Education Loan</td>\n",
              "      <td>MD</td>\n",
              "      <td>Jun-2011</td>\n",
              "      <td>May-2011</td>\n",
              "      <td>N</td>\n",
              "    </tr>\n",
              "    <tr>\n",
              "      <th>36020</th>\n",
              "      <td>F2</td>\n",
              "      <td>3</td>\n",
              "      <td>6</td>\n",
              "      <td>Loan to increase inventory</td>\n",
              "      <td>FL</td>\n",
              "      <td>Aug-2012</td>\n",
              "      <td>Oct-2018</td>\n",
              "      <td>N</td>\n",
              "    </tr>\n",
              "    <tr>\n",
              "      <th>13571</th>\n",
              "      <td>A3</td>\n",
              "      <td>3</td>\n",
              "      <td>2</td>\n",
              "      <td>credit debt consolidation = freedom</td>\n",
              "      <td>VA</td>\n",
              "      <td>Jun-2014</td>\n",
              "      <td>Oct-2016</td>\n",
              "      <td>N</td>\n",
              "    </tr>\n",
              "    <tr>\n",
              "      <th>37153</th>\n",
              "      <td>A5</td>\n",
              "      <td>1</td>\n",
              "      <td>2</td>\n",
              "      <td>New Heater &amp; A/C</td>\n",
              "      <td>OK</td>\n",
              "      <td>Apr-2012</td>\n",
              "      <td>Sep-2018</td>\n",
              "      <td>N</td>\n",
              "    </tr>\n",
              "    <tr>\n",
              "      <th>33771</th>\n",
              "      <td>A5</td>\n",
              "      <td>10</td>\n",
              "      <td>2</td>\n",
              "      <td>HELP</td>\n",
              "      <td>RI</td>\n",
              "      <td>Mar-2010</td>\n",
              "      <td>Mar-2010</td>\n",
              "      <td>N</td>\n",
              "    </tr>\n",
              "    <tr>\n",
              "      <th>13154</th>\n",
              "      <td>B5</td>\n",
              "      <td>19</td>\n",
              "      <td>2</td>\n",
              "      <td>Blackwalnut</td>\n",
              "      <td>MD</td>\n",
              "      <td>Jul-2014</td>\n",
              "      <td>Jul-2014</td>\n",
              "      <td>N</td>\n",
              "    </tr>\n",
              "    <tr>\n",
              "      <th>4388</th>\n",
              "      <td>B4</td>\n",
              "      <td>1</td>\n",
              "      <td>2</td>\n",
              "      <td>Debt Consolidation Loan</td>\n",
              "      <td>CA</td>\n",
              "      <td>Aug-2014</td>\n",
              "      <td>Sep-2018</td>\n",
              "      <td>N</td>\n",
              "    </tr>\n",
              "    <tr>\n",
              "      <th>20868</th>\n",
              "      <td>F3</td>\n",
              "      <td>6</td>\n",
              "      <td>2</td>\n",
              "      <td>Debt Free</td>\n",
              "      <td>NY</td>\n",
              "      <td>Jun-2011</td>\n",
              "      <td>Mar-2013</td>\n",
              "      <td>N</td>\n",
              "    </tr>\n",
              "    <tr>\n",
              "      <th>32042</th>\n",
              "      <td>D2</td>\n",
              "      <td>7</td>\n",
              "      <td>2</td>\n",
              "      <td>Consolidate to Eliminate</td>\n",
              "      <td>PA</td>\n",
              "      <td>Mar-2013</td>\n",
              "      <td>Mar-2014</td>\n",
              "      <td>N</td>\n",
              "    </tr>\n",
              "    <tr>\n",
              "      <th>38556</th>\n",
              "      <td>B1</td>\n",
              "      <td>2</td>\n",
              "      <td>12</td>\n",
              "      <td>Wedding loan</td>\n",
              "      <td>NY</td>\n",
              "      <td>Feb-2009</td>\n",
              "      <td>Mar-2018</td>\n",
              "      <td>N</td>\n",
              "    </tr>\n",
              "    <tr>\n",
              "      <th>35297</th>\n",
              "      <td>A4</td>\n",
              "      <td>3</td>\n",
              "      <td>2</td>\n",
              "      <td>Consolidate credit card debt</td>\n",
              "      <td>NJ</td>\n",
              "      <td>Mar-2011</td>\n",
              "      <td>Jun-2016</td>\n",
              "      <td>N</td>\n",
              "    </tr>\n",
              "    <tr>\n",
              "      <th>13889</th>\n",
              "      <td>A1</td>\n",
              "      <td>3</td>\n",
              "      <td>2</td>\n",
              "      <td>Debt Consolidation Loan</td>\n",
              "      <td>TX</td>\n",
              "      <td>Jun-2014</td>\n",
              "      <td>Mar-2015</td>\n",
              "      <td>N</td>\n",
              "    </tr>\n",
              "    <tr>\n",
              "      <th>9837</th>\n",
              "      <td>F3</td>\n",
              "      <td>3</td>\n",
              "      <td>3</td>\n",
              "      <td>Roof Replacement</td>\n",
              "      <td>MD</td>\n",
              "      <td>Feb-2012</td>\n",
              "      <td>Oct-2018</td>\n",
              "      <td>N</td>\n",
              "    </tr>\n",
              "    <tr>\n",
              "      <th>37232</th>\n",
              "      <td>C2</td>\n",
              "      <td>2</td>\n",
              "      <td>2</td>\n",
              "      <td>Debt consolidation</td>\n",
              "      <td>CO</td>\n",
              "      <td>Apr-2011</td>\n",
              "      <td>Oct-2018</td>\n",
              "      <td>N</td>\n",
              "    </tr>\n",
              "    <tr>\n",
              "      <th>37409</th>\n",
              "      <td>D1</td>\n",
              "      <td>2</td>\n",
              "      <td>2</td>\n",
              "      <td>Debt Consolidation</td>\n",
              "      <td>CA</td>\n",
              "      <td>Mar-2012</td>\n",
              "      <td>Mar-2012</td>\n",
              "      <td>N</td>\n",
              "    </tr>\n",
              "    <tr>\n",
              "      <th>29702</th>\n",
              "      <td>A5</td>\n",
              "      <td>3</td>\n",
              "      <td>4</td>\n",
              "      <td>Betsy's loan</td>\n",
              "      <td>FL</td>\n",
              "      <td>Jun-2013</td>\n",
              "      <td>Oct-2016</td>\n",
              "      <td>N</td>\n",
              "    </tr>\n",
              "  </tbody>\n",
              "</table>\n",
              "<p>25462 rows × 8 columns</p>\n",
              "</div>"
            ],
            "text/plain": [
              "      sub_grade emp_length  ... last_credit_pull_d debt_settlement_flag\n",
              "15908        A2          7  ...           Jul-2015                    N\n",
              "6796         A1          7  ...           May-2013                    N\n",
              "33525        D3          3  ...           Mar-2011                    N\n",
              "49           A2          6  ...           Oct-2018                    N\n",
              "17697        B5          1  ...           Jan-2016                    N\n",
              "33582        B5         11  ...           Dec-2012                    N\n",
              "12642        B5          2  ...           Nov-2017                    N\n",
              "18345        B3          6  ...           Aug-2018                    N\n",
              "7916         A4          1  ...           Oct-2018                    N\n",
              "15415        A3          4  ...           Jun-2013                    N\n",
              "1300         D4         11  ...           Oct-2018                    N\n",
              "26109        B4         11  ...           Oct-2016                    N\n",
              "28398        C2          7  ...           Oct-2013                    N\n",
              "19812        E3         11  ...           Oct-2018                    N\n",
              "17602        B3          1  ...           Nov-2013                    N\n",
              "1918         E2          8  ...           Oct-2016                    N\n",
              "5489         E2         11  ...           Oct-2018                    N\n",
              "22095        C1          2  ...           Jan-2014                    N\n",
              "7156         B2         11  ...           Jan-2018                    N\n",
              "15520        B5          6  ...           Aug-2018                    N\n",
              "7229         B3         11  ...           Mar-2016                    N\n",
              "29281        B3          3  ...           Jun-2014                    N\n",
              "35914        B5         19  ...           May-2018                    N\n",
              "26622        B3         19  ...           Oct-2018                    N\n",
              "5385         C5          3  ...           Nov-2017                    N\n",
              "39380        C4         11  ...           Feb-2015                    N\n",
              "10502        A5          3  ...           Oct-2018                    N\n",
              "7051         B5         11  ...           Oct-2016                    N\n",
              "8070         C4         19  ...           Jun-2018                    N\n",
              "17580        A4          1  ...           Feb-2013                    N\n",
              "...         ...        ...  ...                ...                  ...\n",
              "2611         D2         11  ...           Oct-2016                    N\n",
              "1931         B1          4  ...           Oct-2018                    N\n",
              "3637         C4          2  ...           Dec-2014                    N\n",
              "33452        B3          3  ...           Jun-2010                    N\n",
              "31700        A3          6  ...           Feb-2018                    N\n",
              "22668        D3          4  ...           Aug-2017                    N\n",
              "21210        D5          1  ...           Oct-2018                    N\n",
              "34215        A4          1  ...           Feb-2016                    N\n",
              "7076         A4          4  ...           Jul-2013                    N\n",
              "29128        A4          8  ...           Nov-2010                    N\n",
              "15534        E2          1  ...           Jan-2017                    N\n",
              "1030         F3          2  ...           Oct-2016                    N\n",
              "2117         A4          5  ...           Oct-2015                    N\n",
              "39588        C5          1  ...           Oct-2018                    N\n",
              "23379        C4          4  ...           May-2011                    N\n",
              "36020        F2          3  ...           Oct-2018                    N\n",
              "13571        A3          3  ...           Oct-2016                    N\n",
              "37153        A5          1  ...           Sep-2018                    N\n",
              "33771        A5         10  ...           Mar-2010                    N\n",
              "13154        B5         19  ...           Jul-2014                    N\n",
              "4388         B4          1  ...           Sep-2018                    N\n",
              "20868        F3          6  ...           Mar-2013                    N\n",
              "32042        D2          7  ...           Mar-2014                    N\n",
              "38556        B1          2  ...           Mar-2018                    N\n",
              "35297        A4          3  ...           Jun-2016                    N\n",
              "13889        A1          3  ...           Mar-2015                    N\n",
              "9837         F3          3  ...           Oct-2018                    N\n",
              "37232        C2          2  ...           Oct-2018                    N\n",
              "37409        D1          2  ...           Mar-2012                    N\n",
              "29702        A5          3  ...           Oct-2016                    N\n",
              "\n",
              "[25462 rows x 8 columns]"
            ]
          },
          "metadata": {
            "tags": []
          },
          "execution_count": 220
        }
      ]
    },
    {
      "cell_type": "code",
      "metadata": {
        "id": "ohS4UzROqTty",
        "colab_type": "code",
        "colab": {
          "base_uri": "https://localhost:8080/",
          "height": 379
        },
        "outputId": "d648a6e2-1b2a-44f3-c9bf-4e33b06be3ce"
      },
      "source": [
        "# select number features \n",
        "vif_feas = [i for i in df_train.columns if i not in ['term', 'mths_since_last_delinq', 'mths_since_last_record', 'addr_state', 'emp_title', 'loan_status']]\n",
        "\n",
        "# calcuate vif\n",
        "from statsmodels.stats.outliers_influence import variance_inflation_factor as vif\n",
        "\n",
        "vif_ls = []\n",
        "\n",
        "for i in range(len(vif_feas)):\n",
        "  vif_ls.append([vif_feas[i], vif(df_train[vif_feas].values, i)])\n",
        "  \n",
        "vif_df = pd.DateFrame(vif_ls, columns = ['col_name', 'vif'])\n",
        "vif_df.sort_values(by = 'vif', ascending = False)"
      ],
      "execution_count": 218,
      "outputs": [
        {
          "output_type": "error",
          "ename": "TypeError",
          "evalue": "ignored",
          "traceback": [
            "\u001b[0;31m---------------------------------------------------------------------------\u001b[0m",
            "\u001b[0;31mTypeError\u001b[0m                                 Traceback (most recent call last)",
            "\u001b[0;32m<ipython-input-218-07cb000827f1>\u001b[0m in \u001b[0;36m<module>\u001b[0;34m()\u001b[0m\n\u001b[1;32m      7\u001b[0m \u001b[0;34m\u001b[0m\u001b[0m\n\u001b[1;32m      8\u001b[0m \u001b[0;32mfor\u001b[0m \u001b[0mi\u001b[0m \u001b[0;32min\u001b[0m \u001b[0mrange\u001b[0m\u001b[0;34m(\u001b[0m\u001b[0mlen\u001b[0m\u001b[0;34m(\u001b[0m\u001b[0mvif_feas\u001b[0m\u001b[0;34m)\u001b[0m\u001b[0;34m)\u001b[0m\u001b[0;34m:\u001b[0m\u001b[0;34m\u001b[0m\u001b[0;34m\u001b[0m\u001b[0m\n\u001b[0;32m----> 9\u001b[0;31m   \u001b[0mvif_ls\u001b[0m\u001b[0;34m.\u001b[0m\u001b[0mappend\u001b[0m\u001b[0;34m(\u001b[0m\u001b[0;34m[\u001b[0m\u001b[0mvif_feas\u001b[0m\u001b[0;34m[\u001b[0m\u001b[0mi\u001b[0m\u001b[0;34m]\u001b[0m\u001b[0;34m,\u001b[0m \u001b[0mvif\u001b[0m\u001b[0;34m(\u001b[0m\u001b[0mdf_train\u001b[0m\u001b[0;34m[\u001b[0m\u001b[0mvif_feas\u001b[0m\u001b[0;34m]\u001b[0m\u001b[0;34m.\u001b[0m\u001b[0mvalues\u001b[0m\u001b[0;34m,\u001b[0m \u001b[0mi\u001b[0m\u001b[0;34m)\u001b[0m\u001b[0;34m]\u001b[0m\u001b[0;34m)\u001b[0m\u001b[0;34m\u001b[0m\u001b[0;34m\u001b[0m\u001b[0m\n\u001b[0m\u001b[1;32m     10\u001b[0m \u001b[0;34m\u001b[0m\u001b[0m\n\u001b[1;32m     11\u001b[0m \u001b[0mvif_df\u001b[0m \u001b[0;34m=\u001b[0m \u001b[0mpd\u001b[0m\u001b[0;34m.\u001b[0m\u001b[0mDateFrame\u001b[0m\u001b[0;34m(\u001b[0m\u001b[0mvif_ls\u001b[0m\u001b[0;34m,\u001b[0m \u001b[0mcolumns\u001b[0m \u001b[0;34m=\u001b[0m \u001b[0;34m[\u001b[0m\u001b[0;34m'col_name'\u001b[0m\u001b[0;34m,\u001b[0m \u001b[0;34m'vif'\u001b[0m\u001b[0;34m]\u001b[0m\u001b[0;34m)\u001b[0m\u001b[0;34m\u001b[0m\u001b[0;34m\u001b[0m\u001b[0m\n",
            "\u001b[0;32m/usr/local/lib/python3.6/dist-packages/statsmodels/stats/outliers_influence.py\u001b[0m in \u001b[0;36mvariance_inflation_factor\u001b[0;34m(exog, exog_idx)\u001b[0m\n\u001b[1;32m    182\u001b[0m     \u001b[0mmask\u001b[0m \u001b[0;34m=\u001b[0m \u001b[0mnp\u001b[0m\u001b[0;34m.\u001b[0m\u001b[0marange\u001b[0m\u001b[0;34m(\u001b[0m\u001b[0mk_vars\u001b[0m\u001b[0;34m)\u001b[0m \u001b[0;34m!=\u001b[0m \u001b[0mexog_idx\u001b[0m\u001b[0;34m\u001b[0m\u001b[0;34m\u001b[0m\u001b[0m\n\u001b[1;32m    183\u001b[0m     \u001b[0mx_noti\u001b[0m \u001b[0;34m=\u001b[0m \u001b[0mexog\u001b[0m\u001b[0;34m[\u001b[0m\u001b[0;34m:\u001b[0m\u001b[0;34m,\u001b[0m \u001b[0mmask\u001b[0m\u001b[0;34m]\u001b[0m\u001b[0;34m\u001b[0m\u001b[0;34m\u001b[0m\u001b[0m\n\u001b[0;32m--> 184\u001b[0;31m     \u001b[0mr_squared_i\u001b[0m \u001b[0;34m=\u001b[0m \u001b[0mOLS\u001b[0m\u001b[0;34m(\u001b[0m\u001b[0mx_i\u001b[0m\u001b[0;34m,\u001b[0m \u001b[0mx_noti\u001b[0m\u001b[0;34m)\u001b[0m\u001b[0;34m.\u001b[0m\u001b[0mfit\u001b[0m\u001b[0;34m(\u001b[0m\u001b[0;34m)\u001b[0m\u001b[0;34m.\u001b[0m\u001b[0mrsquared\u001b[0m\u001b[0;34m\u001b[0m\u001b[0;34m\u001b[0m\u001b[0m\n\u001b[0m\u001b[1;32m    185\u001b[0m     \u001b[0mvif\u001b[0m \u001b[0;34m=\u001b[0m \u001b[0;36m1.\u001b[0m \u001b[0;34m/\u001b[0m \u001b[0;34m(\u001b[0m\u001b[0;36m1.\u001b[0m \u001b[0;34m-\u001b[0m \u001b[0mr_squared_i\u001b[0m\u001b[0;34m)\u001b[0m\u001b[0;34m\u001b[0m\u001b[0;34m\u001b[0m\u001b[0m\n\u001b[1;32m    186\u001b[0m     \u001b[0;32mreturn\u001b[0m \u001b[0mvif\u001b[0m\u001b[0;34m\u001b[0m\u001b[0;34m\u001b[0m\u001b[0m\n",
            "\u001b[0;32m/usr/local/lib/python3.6/dist-packages/statsmodels/regression/linear_model.py\u001b[0m in \u001b[0;36m__init__\u001b[0;34m(self, endog, exog, missing, hasconst, **kwargs)\u001b[0m\n\u001b[1;32m    836\u001b[0m                  **kwargs):\n\u001b[1;32m    837\u001b[0m         super(OLS, self).__init__(endog, exog, missing=missing,\n\u001b[0;32m--> 838\u001b[0;31m                                   hasconst=hasconst, **kwargs)\n\u001b[0m\u001b[1;32m    839\u001b[0m         \u001b[0;32mif\u001b[0m \u001b[0;34m\"weights\"\u001b[0m \u001b[0;32min\u001b[0m \u001b[0mself\u001b[0m\u001b[0;34m.\u001b[0m\u001b[0m_init_keys\u001b[0m\u001b[0;34m:\u001b[0m\u001b[0;34m\u001b[0m\u001b[0;34m\u001b[0m\u001b[0m\n\u001b[1;32m    840\u001b[0m             \u001b[0mself\u001b[0m\u001b[0;34m.\u001b[0m\u001b[0m_init_keys\u001b[0m\u001b[0;34m.\u001b[0m\u001b[0mremove\u001b[0m\u001b[0;34m(\u001b[0m\u001b[0;34m\"weights\"\u001b[0m\u001b[0;34m)\u001b[0m\u001b[0;34m\u001b[0m\u001b[0;34m\u001b[0m\u001b[0m\n",
            "\u001b[0;32m/usr/local/lib/python3.6/dist-packages/statsmodels/regression/linear_model.py\u001b[0m in \u001b[0;36m__init__\u001b[0;34m(self, endog, exog, weights, missing, hasconst, **kwargs)\u001b[0m\n\u001b[1;32m    682\u001b[0m             \u001b[0mweights\u001b[0m \u001b[0;34m=\u001b[0m \u001b[0mweights\u001b[0m\u001b[0;34m.\u001b[0m\u001b[0msqueeze\u001b[0m\u001b[0;34m(\u001b[0m\u001b[0;34m)\u001b[0m\u001b[0;34m\u001b[0m\u001b[0;34m\u001b[0m\u001b[0m\n\u001b[1;32m    683\u001b[0m         super(WLS, self).__init__(endog, exog, missing=missing,\n\u001b[0;32m--> 684\u001b[0;31m                                   weights=weights, hasconst=hasconst, **kwargs)\n\u001b[0m\u001b[1;32m    685\u001b[0m         \u001b[0mnobs\u001b[0m \u001b[0;34m=\u001b[0m \u001b[0mself\u001b[0m\u001b[0;34m.\u001b[0m\u001b[0mexog\u001b[0m\u001b[0;34m.\u001b[0m\u001b[0mshape\u001b[0m\u001b[0;34m[\u001b[0m\u001b[0;36m0\u001b[0m\u001b[0;34m]\u001b[0m\u001b[0;34m\u001b[0m\u001b[0;34m\u001b[0m\u001b[0m\n\u001b[1;32m    686\u001b[0m         \u001b[0mweights\u001b[0m \u001b[0;34m=\u001b[0m \u001b[0mself\u001b[0m\u001b[0;34m.\u001b[0m\u001b[0mweights\u001b[0m\u001b[0;34m\u001b[0m\u001b[0;34m\u001b[0m\u001b[0m\n",
            "\u001b[0;32m/usr/local/lib/python3.6/dist-packages/statsmodels/regression/linear_model.py\u001b[0m in \u001b[0;36m__init__\u001b[0;34m(self, endog, exog, **kwargs)\u001b[0m\n\u001b[1;32m    194\u001b[0m     \"\"\"\n\u001b[1;32m    195\u001b[0m     \u001b[0;32mdef\u001b[0m \u001b[0m__init__\u001b[0m\u001b[0;34m(\u001b[0m\u001b[0mself\u001b[0m\u001b[0;34m,\u001b[0m \u001b[0mendog\u001b[0m\u001b[0;34m,\u001b[0m \u001b[0mexog\u001b[0m\u001b[0;34m,\u001b[0m \u001b[0;34m**\u001b[0m\u001b[0mkwargs\u001b[0m\u001b[0;34m)\u001b[0m\u001b[0;34m:\u001b[0m\u001b[0;34m\u001b[0m\u001b[0;34m\u001b[0m\u001b[0m\n\u001b[0;32m--> 196\u001b[0;31m         \u001b[0msuper\u001b[0m\u001b[0;34m(\u001b[0m\u001b[0mRegressionModel\u001b[0m\u001b[0;34m,\u001b[0m \u001b[0mself\u001b[0m\u001b[0;34m)\u001b[0m\u001b[0;34m.\u001b[0m\u001b[0m__init__\u001b[0m\u001b[0;34m(\u001b[0m\u001b[0mendog\u001b[0m\u001b[0;34m,\u001b[0m \u001b[0mexog\u001b[0m\u001b[0;34m,\u001b[0m \u001b[0;34m**\u001b[0m\u001b[0mkwargs\u001b[0m\u001b[0;34m)\u001b[0m\u001b[0;34m\u001b[0m\u001b[0;34m\u001b[0m\u001b[0m\n\u001b[0m\u001b[1;32m    197\u001b[0m         \u001b[0mself\u001b[0m\u001b[0;34m.\u001b[0m\u001b[0m_data_attr\u001b[0m\u001b[0;34m.\u001b[0m\u001b[0mextend\u001b[0m\u001b[0;34m(\u001b[0m\u001b[0;34m[\u001b[0m\u001b[0;34m'pinv_wexog'\u001b[0m\u001b[0;34m,\u001b[0m \u001b[0;34m'wendog'\u001b[0m\u001b[0;34m,\u001b[0m \u001b[0;34m'wexog'\u001b[0m\u001b[0;34m,\u001b[0m \u001b[0;34m'weights'\u001b[0m\u001b[0;34m]\u001b[0m\u001b[0;34m)\u001b[0m\u001b[0;34m\u001b[0m\u001b[0;34m\u001b[0m\u001b[0m\n\u001b[1;32m    198\u001b[0m \u001b[0;34m\u001b[0m\u001b[0m\n",
            "\u001b[0;32m/usr/local/lib/python3.6/dist-packages/statsmodels/base/model.py\u001b[0m in \u001b[0;36m__init__\u001b[0;34m(self, endog, exog, **kwargs)\u001b[0m\n\u001b[1;32m    214\u001b[0m \u001b[0;34m\u001b[0m\u001b[0m\n\u001b[1;32m    215\u001b[0m     \u001b[0;32mdef\u001b[0m \u001b[0m__init__\u001b[0m\u001b[0;34m(\u001b[0m\u001b[0mself\u001b[0m\u001b[0;34m,\u001b[0m \u001b[0mendog\u001b[0m\u001b[0;34m,\u001b[0m \u001b[0mexog\u001b[0m\u001b[0;34m=\u001b[0m\u001b[0;32mNone\u001b[0m\u001b[0;34m,\u001b[0m \u001b[0;34m**\u001b[0m\u001b[0mkwargs\u001b[0m\u001b[0;34m)\u001b[0m\u001b[0;34m:\u001b[0m\u001b[0;34m\u001b[0m\u001b[0;34m\u001b[0m\u001b[0m\n\u001b[0;32m--> 216\u001b[0;31m         \u001b[0msuper\u001b[0m\u001b[0;34m(\u001b[0m\u001b[0mLikelihoodModel\u001b[0m\u001b[0;34m,\u001b[0m \u001b[0mself\u001b[0m\u001b[0;34m)\u001b[0m\u001b[0;34m.\u001b[0m\u001b[0m__init__\u001b[0m\u001b[0;34m(\u001b[0m\u001b[0mendog\u001b[0m\u001b[0;34m,\u001b[0m \u001b[0mexog\u001b[0m\u001b[0;34m,\u001b[0m \u001b[0;34m**\u001b[0m\u001b[0mkwargs\u001b[0m\u001b[0;34m)\u001b[0m\u001b[0;34m\u001b[0m\u001b[0;34m\u001b[0m\u001b[0m\n\u001b[0m\u001b[1;32m    217\u001b[0m         \u001b[0mself\u001b[0m\u001b[0;34m.\u001b[0m\u001b[0minitialize\u001b[0m\u001b[0;34m(\u001b[0m\u001b[0;34m)\u001b[0m\u001b[0;34m\u001b[0m\u001b[0;34m\u001b[0m\u001b[0m\n\u001b[1;32m    218\u001b[0m \u001b[0;34m\u001b[0m\u001b[0m\n",
            "\u001b[0;32m/usr/local/lib/python3.6/dist-packages/statsmodels/base/model.py\u001b[0m in \u001b[0;36m__init__\u001b[0;34m(self, endog, exog, **kwargs)\u001b[0m\n\u001b[1;32m     66\u001b[0m         \u001b[0mhasconst\u001b[0m \u001b[0;34m=\u001b[0m \u001b[0mkwargs\u001b[0m\u001b[0;34m.\u001b[0m\u001b[0mpop\u001b[0m\u001b[0;34m(\u001b[0m\u001b[0;34m'hasconst'\u001b[0m\u001b[0;34m,\u001b[0m \u001b[0;32mNone\u001b[0m\u001b[0;34m)\u001b[0m\u001b[0;34m\u001b[0m\u001b[0;34m\u001b[0m\u001b[0m\n\u001b[1;32m     67\u001b[0m         self.data = self._handle_data(endog, exog, missing, hasconst,\n\u001b[0;32m---> 68\u001b[0;31m                                       **kwargs)\n\u001b[0m\u001b[1;32m     69\u001b[0m         \u001b[0mself\u001b[0m\u001b[0;34m.\u001b[0m\u001b[0mk_constant\u001b[0m \u001b[0;34m=\u001b[0m \u001b[0mself\u001b[0m\u001b[0;34m.\u001b[0m\u001b[0mdata\u001b[0m\u001b[0;34m.\u001b[0m\u001b[0mk_constant\u001b[0m\u001b[0;34m\u001b[0m\u001b[0;34m\u001b[0m\u001b[0m\n\u001b[1;32m     70\u001b[0m         \u001b[0mself\u001b[0m\u001b[0;34m.\u001b[0m\u001b[0mexog\u001b[0m \u001b[0;34m=\u001b[0m \u001b[0mself\u001b[0m\u001b[0;34m.\u001b[0m\u001b[0mdata\u001b[0m\u001b[0;34m.\u001b[0m\u001b[0mexog\u001b[0m\u001b[0;34m\u001b[0m\u001b[0;34m\u001b[0m\u001b[0m\n",
            "\u001b[0;32m/usr/local/lib/python3.6/dist-packages/statsmodels/base/model.py\u001b[0m in \u001b[0;36m_handle_data\u001b[0;34m(self, endog, exog, missing, hasconst, **kwargs)\u001b[0m\n\u001b[1;32m     89\u001b[0m \u001b[0;34m\u001b[0m\u001b[0m\n\u001b[1;32m     90\u001b[0m     \u001b[0;32mdef\u001b[0m \u001b[0m_handle_data\u001b[0m\u001b[0;34m(\u001b[0m\u001b[0mself\u001b[0m\u001b[0;34m,\u001b[0m \u001b[0mendog\u001b[0m\u001b[0;34m,\u001b[0m \u001b[0mexog\u001b[0m\u001b[0;34m,\u001b[0m \u001b[0mmissing\u001b[0m\u001b[0;34m,\u001b[0m \u001b[0mhasconst\u001b[0m\u001b[0;34m,\u001b[0m \u001b[0;34m**\u001b[0m\u001b[0mkwargs\u001b[0m\u001b[0;34m)\u001b[0m\u001b[0;34m:\u001b[0m\u001b[0;34m\u001b[0m\u001b[0;34m\u001b[0m\u001b[0m\n\u001b[0;32m---> 91\u001b[0;31m         \u001b[0mdata\u001b[0m \u001b[0;34m=\u001b[0m \u001b[0mhandle_data\u001b[0m\u001b[0;34m(\u001b[0m\u001b[0mendog\u001b[0m\u001b[0;34m,\u001b[0m \u001b[0mexog\u001b[0m\u001b[0;34m,\u001b[0m \u001b[0mmissing\u001b[0m\u001b[0;34m,\u001b[0m \u001b[0mhasconst\u001b[0m\u001b[0;34m,\u001b[0m \u001b[0;34m**\u001b[0m\u001b[0mkwargs\u001b[0m\u001b[0;34m)\u001b[0m\u001b[0;34m\u001b[0m\u001b[0;34m\u001b[0m\u001b[0m\n\u001b[0m\u001b[1;32m     92\u001b[0m         \u001b[0;31m# kwargs arrays could have changed, easier to just attach here\u001b[0m\u001b[0;34m\u001b[0m\u001b[0;34m\u001b[0m\u001b[0;34m\u001b[0m\u001b[0m\n\u001b[1;32m     93\u001b[0m         \u001b[0;32mfor\u001b[0m \u001b[0mkey\u001b[0m \u001b[0;32min\u001b[0m \u001b[0mkwargs\u001b[0m\u001b[0;34m:\u001b[0m\u001b[0;34m\u001b[0m\u001b[0;34m\u001b[0m\u001b[0m\n",
            "\u001b[0;32m/usr/local/lib/python3.6/dist-packages/statsmodels/base/data.py\u001b[0m in \u001b[0;36mhandle_data\u001b[0;34m(endog, exog, missing, hasconst, **kwargs)\u001b[0m\n\u001b[1;32m    633\u001b[0m     \u001b[0mklass\u001b[0m \u001b[0;34m=\u001b[0m \u001b[0mhandle_data_class_factory\u001b[0m\u001b[0;34m(\u001b[0m\u001b[0mendog\u001b[0m\u001b[0;34m,\u001b[0m \u001b[0mexog\u001b[0m\u001b[0;34m)\u001b[0m\u001b[0;34m\u001b[0m\u001b[0;34m\u001b[0m\u001b[0m\n\u001b[1;32m    634\u001b[0m     return klass(endog, exog=exog, missing=missing, hasconst=hasconst,\n\u001b[0;32m--> 635\u001b[0;31m                  **kwargs)\n\u001b[0m",
            "\u001b[0;32m/usr/local/lib/python3.6/dist-packages/statsmodels/base/data.py\u001b[0m in \u001b[0;36m__init__\u001b[0;34m(self, endog, exog, missing, hasconst, **kwargs)\u001b[0m\n\u001b[1;32m     78\u001b[0m         \u001b[0mself\u001b[0m\u001b[0;34m.\u001b[0m\u001b[0mconst_idx\u001b[0m \u001b[0;34m=\u001b[0m \u001b[0;32mNone\u001b[0m\u001b[0;34m\u001b[0m\u001b[0;34m\u001b[0m\u001b[0m\n\u001b[1;32m     79\u001b[0m         \u001b[0mself\u001b[0m\u001b[0;34m.\u001b[0m\u001b[0mk_constant\u001b[0m \u001b[0;34m=\u001b[0m \u001b[0;36m0\u001b[0m\u001b[0;34m\u001b[0m\u001b[0;34m\u001b[0m\u001b[0m\n\u001b[0;32m---> 80\u001b[0;31m         \u001b[0mself\u001b[0m\u001b[0;34m.\u001b[0m\u001b[0m_handle_constant\u001b[0m\u001b[0;34m(\u001b[0m\u001b[0mhasconst\u001b[0m\u001b[0;34m)\u001b[0m\u001b[0;34m\u001b[0m\u001b[0;34m\u001b[0m\u001b[0m\n\u001b[0m\u001b[1;32m     81\u001b[0m         \u001b[0mself\u001b[0m\u001b[0;34m.\u001b[0m\u001b[0m_check_integrity\u001b[0m\u001b[0;34m(\u001b[0m\u001b[0;34m)\u001b[0m\u001b[0;34m\u001b[0m\u001b[0;34m\u001b[0m\u001b[0m\n\u001b[1;32m     82\u001b[0m         \u001b[0mself\u001b[0m\u001b[0;34m.\u001b[0m\u001b[0m_cache\u001b[0m \u001b[0;34m=\u001b[0m \u001b[0;34m{\u001b[0m\u001b[0;34m}\u001b[0m\u001b[0;34m\u001b[0m\u001b[0;34m\u001b[0m\u001b[0m\n",
            "\u001b[0;32m/usr/local/lib/python3.6/dist-packages/statsmodels/base/data.py\u001b[0m in \u001b[0;36m_handle_constant\u001b[0;34m(self, hasconst)\u001b[0m\n\u001b[1;32m    122\u001b[0m             \u001b[0;31m# detect where the constant is\u001b[0m\u001b[0;34m\u001b[0m\u001b[0;34m\u001b[0m\u001b[0;34m\u001b[0m\u001b[0m\n\u001b[1;32m    123\u001b[0m             \u001b[0mcheck_implicit\u001b[0m \u001b[0;34m=\u001b[0m \u001b[0;32mFalse\u001b[0m\u001b[0;34m\u001b[0m\u001b[0;34m\u001b[0m\u001b[0m\n\u001b[0;32m--> 124\u001b[0;31m             \u001b[0mptp_\u001b[0m \u001b[0;34m=\u001b[0m \u001b[0mnp\u001b[0m\u001b[0;34m.\u001b[0m\u001b[0mptp\u001b[0m\u001b[0;34m(\u001b[0m\u001b[0mself\u001b[0m\u001b[0;34m.\u001b[0m\u001b[0mexog\u001b[0m\u001b[0;34m,\u001b[0m \u001b[0maxis\u001b[0m\u001b[0;34m=\u001b[0m\u001b[0;36m0\u001b[0m\u001b[0;34m)\u001b[0m\u001b[0;34m\u001b[0m\u001b[0;34m\u001b[0m\u001b[0m\n\u001b[0m\u001b[1;32m    125\u001b[0m             \u001b[0;32mif\u001b[0m \u001b[0;32mnot\u001b[0m \u001b[0mnp\u001b[0m\u001b[0;34m.\u001b[0m\u001b[0misfinite\u001b[0m\u001b[0;34m(\u001b[0m\u001b[0mptp_\u001b[0m\u001b[0;34m)\u001b[0m\u001b[0;34m.\u001b[0m\u001b[0mall\u001b[0m\u001b[0;34m(\u001b[0m\u001b[0;34m)\u001b[0m\u001b[0;34m:\u001b[0m\u001b[0;34m\u001b[0m\u001b[0;34m\u001b[0m\u001b[0m\n\u001b[1;32m    126\u001b[0m                 \u001b[0;32mraise\u001b[0m \u001b[0mMissingDataError\u001b[0m\u001b[0;34m(\u001b[0m\u001b[0;34m'exog contains inf or nans'\u001b[0m\u001b[0;34m)\u001b[0m\u001b[0;34m\u001b[0m\u001b[0;34m\u001b[0m\u001b[0m\n",
            "\u001b[0;32m/usr/local/lib/python3.6/dist-packages/numpy/core/fromnumeric.py\u001b[0m in \u001b[0;36mptp\u001b[0;34m(a, axis, out, keepdims)\u001b[0m\n\u001b[1;32m   2388\u001b[0m         \u001b[0;32melse\u001b[0m\u001b[0;34m:\u001b[0m\u001b[0;34m\u001b[0m\u001b[0;34m\u001b[0m\u001b[0m\n\u001b[1;32m   2389\u001b[0m             \u001b[0;32mreturn\u001b[0m \u001b[0mptp\u001b[0m\u001b[0;34m(\u001b[0m\u001b[0maxis\u001b[0m\u001b[0;34m=\u001b[0m\u001b[0maxis\u001b[0m\u001b[0;34m,\u001b[0m \u001b[0mout\u001b[0m\u001b[0;34m=\u001b[0m\u001b[0mout\u001b[0m\u001b[0;34m,\u001b[0m \u001b[0;34m**\u001b[0m\u001b[0mkwargs\u001b[0m\u001b[0;34m)\u001b[0m\u001b[0;34m\u001b[0m\u001b[0;34m\u001b[0m\u001b[0m\n\u001b[0;32m-> 2390\u001b[0;31m     \u001b[0;32mreturn\u001b[0m \u001b[0m_methods\u001b[0m\u001b[0;34m.\u001b[0m\u001b[0m_ptp\u001b[0m\u001b[0;34m(\u001b[0m\u001b[0ma\u001b[0m\u001b[0;34m,\u001b[0m \u001b[0maxis\u001b[0m\u001b[0;34m=\u001b[0m\u001b[0maxis\u001b[0m\u001b[0;34m,\u001b[0m \u001b[0mout\u001b[0m\u001b[0;34m=\u001b[0m\u001b[0mout\u001b[0m\u001b[0;34m,\u001b[0m \u001b[0;34m**\u001b[0m\u001b[0mkwargs\u001b[0m\u001b[0;34m)\u001b[0m\u001b[0;34m\u001b[0m\u001b[0;34m\u001b[0m\u001b[0m\n\u001b[0m\u001b[1;32m   2391\u001b[0m \u001b[0;34m\u001b[0m\u001b[0m\n\u001b[1;32m   2392\u001b[0m \u001b[0;34m\u001b[0m\u001b[0m\n",
            "\u001b[0;32m/usr/local/lib/python3.6/dist-packages/numpy/core/_methods.py\u001b[0m in \u001b[0;36m_ptp\u001b[0;34m(a, axis, out, keepdims)\u001b[0m\n\u001b[1;32m    151\u001b[0m \u001b[0;32mdef\u001b[0m \u001b[0m_ptp\u001b[0m\u001b[0;34m(\u001b[0m\u001b[0ma\u001b[0m\u001b[0;34m,\u001b[0m \u001b[0maxis\u001b[0m\u001b[0;34m=\u001b[0m\u001b[0;32mNone\u001b[0m\u001b[0;34m,\u001b[0m \u001b[0mout\u001b[0m\u001b[0;34m=\u001b[0m\u001b[0;32mNone\u001b[0m\u001b[0;34m,\u001b[0m \u001b[0mkeepdims\u001b[0m\u001b[0;34m=\u001b[0m\u001b[0;32mFalse\u001b[0m\u001b[0;34m)\u001b[0m\u001b[0;34m:\u001b[0m\u001b[0;34m\u001b[0m\u001b[0;34m\u001b[0m\u001b[0m\n\u001b[1;32m    152\u001b[0m     return um.subtract(\n\u001b[0;32m--> 153\u001b[0;31m         \u001b[0mumr_maximum\u001b[0m\u001b[0;34m(\u001b[0m\u001b[0ma\u001b[0m\u001b[0;34m,\u001b[0m \u001b[0maxis\u001b[0m\u001b[0;34m,\u001b[0m \u001b[0;32mNone\u001b[0m\u001b[0;34m,\u001b[0m \u001b[0mout\u001b[0m\u001b[0;34m,\u001b[0m \u001b[0mkeepdims\u001b[0m\u001b[0;34m)\u001b[0m\u001b[0;34m,\u001b[0m\u001b[0;34m\u001b[0m\u001b[0;34m\u001b[0m\u001b[0m\n\u001b[0m\u001b[1;32m    154\u001b[0m         \u001b[0mumr_minimum\u001b[0m\u001b[0;34m(\u001b[0m\u001b[0ma\u001b[0m\u001b[0;34m,\u001b[0m \u001b[0maxis\u001b[0m\u001b[0;34m,\u001b[0m \u001b[0;32mNone\u001b[0m\u001b[0;34m,\u001b[0m \u001b[0;32mNone\u001b[0m\u001b[0;34m,\u001b[0m \u001b[0mkeepdims\u001b[0m\u001b[0;34m)\u001b[0m\u001b[0;34m,\u001b[0m\u001b[0;34m\u001b[0m\u001b[0;34m\u001b[0m\u001b[0m\n\u001b[1;32m    155\u001b[0m         \u001b[0mout\u001b[0m\u001b[0;34m\u001b[0m\u001b[0;34m\u001b[0m\u001b[0m\n",
            "\u001b[0;31mTypeError\u001b[0m: '>=' not supported between instances of 'int' and 'str'"
          ]
        }
      ]
    },
    {
      "cell_type": "markdown",
      "metadata": {
        "id": "tn8zrL0grbad",
        "colab_type": "text"
      },
      "source": [
        "用协方差计算线性相关性："
      ]
    },
    {
      "cell_type": "code",
      "metadata": {
        "id": "p5AEUfMSrfF5",
        "colab_type": "code",
        "colab": {
          "base_uri": "https://localhost:8080/",
          "height": 501
        },
        "outputId": "9472452b-30fd-4e63-93e9-2d343f5412d5"
      },
      "source": [
        "# calculate correlation\n",
        "cor = df_train[vif_feas].corr()\n",
        "\n",
        "# get lower trianglar matrix of cor\n",
        "cor.iloc[:, :] = np.tril(cor.values, k = -1)\n",
        "\n",
        "# stack columns of cor\n",
        "cor = cor.stack()\n",
        "cor[np.abs(cor) > 0.7]"
      ],
      "execution_count": 219,
      "outputs": [
        {
          "output_type": "execute_result",
          "data": {
            "text/plain": [
              "funded_amnt      loan_amnt          0.982263\n",
              "funded_amnt_inv  loan_amnt          0.940191\n",
              "                 funded_amnt        0.958405\n",
              "installment      loan_amnt          0.931552\n",
              "                 funded_amnt        0.956158\n",
              "                 funded_amnt_inv    0.905064\n",
              "grade            int_rate           0.948789\n",
              "total_pymnt      loan_amnt          0.883134\n",
              "                 funded_amnt        0.899293\n",
              "                 funded_amnt_inv    0.877632\n",
              "                 installment        0.849600\n",
              "total_pymnt_inv  loan_amnt          0.850530\n",
              "                 funded_amnt        0.867096\n",
              "                 funded_amnt_inv    0.909490\n",
              "                 installment        0.810377\n",
              "                 total_pymnt        0.971117\n",
              "total_rec_prncp  loan_amnt          0.851999\n",
              "                 funded_amnt        0.870039\n",
              "                 funded_amnt_inv    0.845313\n",
              "                 installment        0.846408\n",
              "                 total_pymnt        0.972447\n",
              "                 total_pymnt_inv    0.940453\n",
              "total_rec_int    loan_amnt          0.728526\n",
              "                 funded_amnt        0.736112\n",
              "                 funded_amnt_inv    0.729576\n",
              "                 total_pymnt        0.837233\n",
              "                 total_pymnt_inv    0.823713\n",
              "dtype: float64"
            ]
          },
          "metadata": {
            "tags": []
          },
          "execution_count": 219
        }
      ]
    },
    {
      "cell_type": "markdown",
      "metadata": {
        "id": "0MwJwtbCrdp7",
        "colab_type": "text"
      },
      "source": [
        "根据经验，vif>10,cor>0.7,变量之间的有显著性的相关性。\n",
        "\n",
        "从上述关于协方差和VIF的分析结果中我们可以看到：installment&loan_amnt，int_rate&grade，total_acc&open_acc，pub_rec_bankruptcies&pub_rec之间存在线性关系，因为pub_rec_bankruptcies&pub_rec中大多数都是０，所以其有相关可以解释。剩下的几对，我们可以尝试先删除每对中的一个,删除installment & grade,再去检测相关系数。\n",
        "\n",
        "此外，有几个处于边界地带的特征，暂时留下，特征工程中删除特征时要谨慎，因为删除特征，意味着弃用一些信息。"
      ]
    },
    {
      "cell_type": "code",
      "metadata": {
        "id": "bMgmkp9qr7dz",
        "colab_type": "code",
        "colab": {}
      },
      "source": [
        "for i in [\"installment\", \"grade\"]:\n",
        "  vif_feas.remove(i)\n",
        "  \n",
        "for i in df_list:\n",
        "  i.drop([\"installment\", \"grade\"], axis = 1, inplace = True)"
      ],
      "execution_count": 0,
      "outputs": []
    },
    {
      "cell_type": "markdown",
      "metadata": {
        "id": "rAyD3xpPsKDM",
        "colab_type": "text"
      },
      "source": [
        "### 5.2.2 依据特征重要性筛选变量\n",
        "\n",
        "筛选变量常用的方法有，基于正则化损失函数的线性模型，基于机器学习模型输出的特征重要性，基于IV值。\n",
        "\n",
        "在此，为了方便进行评分卡建模，采用IV值.\n",
        "\n",
        "定义woe和iv:"
      ]
    },
    {
      "cell_type": "code",
      "metadata": {
        "id": "dUnvTe5fswa9",
        "colab_type": "code",
        "colab": {}
      },
      "source": [
        "# calcualte woe and IV \n",
        "\n",
        "def CalcWOE(df, col, target):\n",
        "  total = df.groupby([col])[target].count()\n",
        "  total = pd.DataFrame({\"total\": total})\n",
        "  bad = df.groupby([col])[target].sum()\n",
        "  bad = pd.DataFrame({\"bad\": bad})\n",
        "  regroup = total.merge(bad, left_index = True, right_index = True, how = \"left\")\n",
        "  regroup.reset_index(level = 0, inplace = True)\n",
        "  N = sum(regroup[\"total\"])\n",
        "  B = sum(regroup[\"bad\"])\n",
        "  regroup[\"good\"] = regroup[\"total\"] - regroup[\"bad\"]\n",
        "  G = N - B \n",
        "  regroup[\"bad_pcnt\"] = regroup[\"bad\"].map(lambda X: X * 1.0/B)\n",
        "  regroup[\"good_pcnt\"] = regroup[\"good\"].map(lambda X: X * 1.0/G)\n",
        "  \n",
        "  # WOE 在这里显示不同特征不同属性对好样本的预测能力， 这符合评分卡计分标准， 分数越高， 越可靠\n",
        "  regroup[\"WOE\"] = regroup.apply(lambda X: np.log(X.good_pcnt * 1.0 / X.bad_pcnt))\n",
        "  WOE_dict = regroup[[col, \"WOE\"]].set_index(col).to_dict()\n",
        "  IV = regroup.apply(lambda X: (X.good_pcnt - X.bad_pcnt) * np.log(X.good_pcnt * 1.0 / X.bad_pcnt), axis = 1)\n",
        "  IV_SUM = sum(IV)\n",
        "  return {\"WOE\": WOE_dict, \"IV_SUM\": IV_SUM, \"IV\": IV}"
      ],
      "execution_count": 0,
      "outputs": []
    },
    {
      "cell_type": "markdown",
      "metadata": {
        "id": "cos17UvQucBX",
        "colab_type": "text"
      },
      "source": [
        "计算每个变量的IV 值并按从大到小的顺序排序："
      ]
    },
    {
      "cell_type": "code",
      "metadata": {
        "id": "g2YQtLNDuegw",
        "colab_type": "code",
        "colab": {}
      },
      "source": [
        "# calcualte IV\n",
        "df_train_boxed = df_train.copy()"
      ],
      "execution_count": 0,
      "outputs": []
    },
    {
      "cell_type": "code",
      "metadata": {
        "id": "_cZYmG89ujRH",
        "colab_type": "code",
        "colab": {
          "base_uri": "https://localhost:8080/",
          "height": 517
        },
        "outputId": "54c7a4cd-344e-4508-e711-4637921282ee"
      },
      "source": [
        "# get IV\n",
        "iv_list = []\n",
        "for i in df_train_boxed.columns:\n",
        "  iv_dict = CalcWOE(df_train_boxed, i, \"loan_status\")\n",
        "  iv_list.append(iv_dict[\"IV_SUM\"])\n",
        "  \n",
        "# get IV form\n",
        "\n",
        "iv_df = pd.DataFrame({\"iv_name\": df_train_boxed.columns.values, \"iv\": iv_list})\n",
        "\n",
        "iv_df.sort_values('iv', ascending = False)"
      ],
      "execution_count": 73,
      "outputs": [
        {
          "output_type": "error",
          "ename": "TypeError",
          "evalue": "ignored",
          "traceback": [
            "\u001b[0;31m---------------------------------------------------------------------------\u001b[0m",
            "\u001b[0;31mDataError\u001b[0m                                 Traceback (most recent call last)",
            "\u001b[0;32m/usr/local/lib/python3.6/dist-packages/pandas/core/groupby/groupby.py\u001b[0m in \u001b[0;36mf\u001b[0;34m(self, **kwargs)\u001b[0m\n\u001b[1;32m   1256\u001b[0m                     return self._cython_agg_general(\n\u001b[0;32m-> 1257\u001b[0;31m                         alias, alt=npfunc, **kwargs)\n\u001b[0m\u001b[1;32m   1258\u001b[0m                 \u001b[0;32mexcept\u001b[0m \u001b[0mAssertionError\u001b[0m \u001b[0;32mas\u001b[0m \u001b[0me\u001b[0m\u001b[0;34m:\u001b[0m\u001b[0;34m\u001b[0m\u001b[0;34m\u001b[0m\u001b[0m\n",
            "\u001b[0;32m/usr/local/lib/python3.6/dist-packages/pandas/core/groupby/groupby.py\u001b[0m in \u001b[0;36m_cython_agg_general\u001b[0;34m(self, how, alt, numeric_only, min_count)\u001b[0m\n\u001b[1;32m    837\u001b[0m         \u001b[0;32mif\u001b[0m \u001b[0mlen\u001b[0m\u001b[0;34m(\u001b[0m\u001b[0moutput\u001b[0m\u001b[0;34m)\u001b[0m \u001b[0;34m==\u001b[0m \u001b[0;36m0\u001b[0m\u001b[0;34m:\u001b[0m\u001b[0;34m\u001b[0m\u001b[0;34m\u001b[0m\u001b[0m\n\u001b[0;32m--> 838\u001b[0;31m             \u001b[0;32mraise\u001b[0m \u001b[0mDataError\u001b[0m\u001b[0;34m(\u001b[0m\u001b[0;34m'No numeric types to aggregate'\u001b[0m\u001b[0;34m)\u001b[0m\u001b[0;34m\u001b[0m\u001b[0;34m\u001b[0m\u001b[0m\n\u001b[0m\u001b[1;32m    839\u001b[0m \u001b[0;34m\u001b[0m\u001b[0m\n",
            "\u001b[0;31mDataError\u001b[0m: No numeric types to aggregate",
            "\nDuring handling of the above exception, another exception occurred:\n",
            "\u001b[0;31mTypeError\u001b[0m                                 Traceback (most recent call last)",
            "\u001b[0;32m/usr/local/lib/python3.6/dist-packages/pandas/core/groupby/generic.py\u001b[0m in \u001b[0;36maggregate\u001b[0;34m(self, func_or_funcs, *args, **kwargs)\u001b[0m\n\u001b[1;32m    775\u001b[0m             \u001b[0;32mtry\u001b[0m\u001b[0;34m:\u001b[0m\u001b[0;34m\u001b[0m\u001b[0;34m\u001b[0m\u001b[0m\n\u001b[0;32m--> 776\u001b[0;31m                 \u001b[0;32mreturn\u001b[0m \u001b[0mself\u001b[0m\u001b[0;34m.\u001b[0m\u001b[0m_python_agg_general\u001b[0m\u001b[0;34m(\u001b[0m\u001b[0mfunc_or_funcs\u001b[0m\u001b[0;34m,\u001b[0m \u001b[0;34m*\u001b[0m\u001b[0margs\u001b[0m\u001b[0;34m,\u001b[0m \u001b[0;34m**\u001b[0m\u001b[0mkwargs\u001b[0m\u001b[0;34m)\u001b[0m\u001b[0;34m\u001b[0m\u001b[0;34m\u001b[0m\u001b[0m\n\u001b[0m\u001b[1;32m    777\u001b[0m             \u001b[0;32mexcept\u001b[0m \u001b[0mException\u001b[0m\u001b[0;34m:\u001b[0m\u001b[0;34m\u001b[0m\u001b[0;34m\u001b[0m\u001b[0m\n",
            "\u001b[0;32m/usr/local/lib/python3.6/dist-packages/pandas/core/groupby/groupby.py\u001b[0m in \u001b[0;36m_python_agg_general\u001b[0;34m(self, func, *args, **kwargs)\u001b[0m\n\u001b[1;32m    855\u001b[0m         \u001b[0;32mif\u001b[0m \u001b[0mlen\u001b[0m\u001b[0;34m(\u001b[0m\u001b[0moutput\u001b[0m\u001b[0;34m)\u001b[0m \u001b[0;34m==\u001b[0m \u001b[0;36m0\u001b[0m\u001b[0;34m:\u001b[0m\u001b[0;34m\u001b[0m\u001b[0;34m\u001b[0m\u001b[0m\n\u001b[0;32m--> 856\u001b[0;31m             \u001b[0;32mreturn\u001b[0m \u001b[0mself\u001b[0m\u001b[0;34m.\u001b[0m\u001b[0m_python_apply_general\u001b[0m\u001b[0;34m(\u001b[0m\u001b[0mf\u001b[0m\u001b[0;34m)\u001b[0m\u001b[0;34m\u001b[0m\u001b[0;34m\u001b[0m\u001b[0m\n\u001b[0m\u001b[1;32m    857\u001b[0m \u001b[0;34m\u001b[0m\u001b[0m\n",
            "\u001b[0;32m/usr/local/lib/python3.6/dist-packages/pandas/core/groupby/groupby.py\u001b[0m in \u001b[0;36m_python_apply_general\u001b[0;34m(self, f)\u001b[0m\n\u001b[1;32m    706\u001b[0m         keys, values, mutated = self.grouper.apply(f, self._selected_obj,\n\u001b[0;32m--> 707\u001b[0;31m                                                    self.axis)\n\u001b[0m\u001b[1;32m    708\u001b[0m \u001b[0;34m\u001b[0m\u001b[0m\n",
            "\u001b[0;32m/usr/local/lib/python3.6/dist-packages/pandas/core/groupby/ops.py\u001b[0m in \u001b[0;36mapply\u001b[0;34m(self, f, data, axis)\u001b[0m\n\u001b[1;32m    189\u001b[0m             \u001b[0mgroup_axes\u001b[0m \u001b[0;34m=\u001b[0m \u001b[0m_get_axes\u001b[0m\u001b[0;34m(\u001b[0m\u001b[0mgroup\u001b[0m\u001b[0;34m)\u001b[0m\u001b[0;34m\u001b[0m\u001b[0;34m\u001b[0m\u001b[0m\n\u001b[0;32m--> 190\u001b[0;31m             \u001b[0mres\u001b[0m \u001b[0;34m=\u001b[0m \u001b[0mf\u001b[0m\u001b[0;34m(\u001b[0m\u001b[0mgroup\u001b[0m\u001b[0;34m)\u001b[0m\u001b[0;34m\u001b[0m\u001b[0;34m\u001b[0m\u001b[0m\n\u001b[0m\u001b[1;32m    191\u001b[0m             \u001b[0;32mif\u001b[0m \u001b[0;32mnot\u001b[0m \u001b[0m_is_indexed_like\u001b[0m\u001b[0;34m(\u001b[0m\u001b[0mres\u001b[0m\u001b[0;34m,\u001b[0m \u001b[0mgroup_axes\u001b[0m\u001b[0;34m)\u001b[0m\u001b[0;34m:\u001b[0m\u001b[0;34m\u001b[0m\u001b[0;34m\u001b[0m\u001b[0m\n",
            "\u001b[0;32m/usr/local/lib/python3.6/dist-packages/pandas/core/groupby/groupby.py\u001b[0m in \u001b[0;36m<lambda>\u001b[0;34m(x)\u001b[0m\n\u001b[1;32m    843\u001b[0m         \u001b[0mfunc\u001b[0m \u001b[0;34m=\u001b[0m \u001b[0mself\u001b[0m\u001b[0;34m.\u001b[0m\u001b[0m_is_builtin_func\u001b[0m\u001b[0;34m(\u001b[0m\u001b[0mfunc\u001b[0m\u001b[0;34m)\u001b[0m\u001b[0;34m\u001b[0m\u001b[0;34m\u001b[0m\u001b[0m\n\u001b[0;32m--> 844\u001b[0;31m         \u001b[0mf\u001b[0m \u001b[0;34m=\u001b[0m \u001b[0;32mlambda\u001b[0m \u001b[0mx\u001b[0m\u001b[0;34m:\u001b[0m \u001b[0mfunc\u001b[0m\u001b[0;34m(\u001b[0m\u001b[0mx\u001b[0m\u001b[0;34m,\u001b[0m \u001b[0;34m*\u001b[0m\u001b[0margs\u001b[0m\u001b[0;34m,\u001b[0m \u001b[0;34m**\u001b[0m\u001b[0mkwargs\u001b[0m\u001b[0;34m)\u001b[0m\u001b[0;34m\u001b[0m\u001b[0;34m\u001b[0m\u001b[0m\n\u001b[0m\u001b[1;32m    845\u001b[0m \u001b[0;34m\u001b[0m\u001b[0m\n",
            "\u001b[0;32m/usr/local/lib/python3.6/dist-packages/pandas/core/groupby/groupby.py\u001b[0m in \u001b[0;36m<lambda>\u001b[0;34m(x)\u001b[0m\n\u001b[1;32m   1261\u001b[0m                     result = self.aggregate(\n\u001b[0;32m-> 1262\u001b[0;31m                         lambda x: npfunc(x, axis=self.axis))\n\u001b[0m\u001b[1;32m   1263\u001b[0m                     \u001b[0;32mif\u001b[0m \u001b[0m_convert\u001b[0m\u001b[0;34m:\u001b[0m\u001b[0;34m\u001b[0m\u001b[0;34m\u001b[0m\u001b[0m\n",
            "\u001b[0;32m/usr/local/lib/python3.6/dist-packages/numpy/core/fromnumeric.py\u001b[0m in \u001b[0;36msum\u001b[0;34m(a, axis, dtype, out, keepdims, initial)\u001b[0m\n\u001b[1;32m   2075\u001b[0m     return _wrapreduction(a, np.add, 'sum', axis, dtype, out, keepdims=keepdims,\n\u001b[0;32m-> 2076\u001b[0;31m                           initial=initial)\n\u001b[0m\u001b[1;32m   2077\u001b[0m \u001b[0;34m\u001b[0m\u001b[0m\n",
            "\u001b[0;32m/usr/local/lib/python3.6/dist-packages/numpy/core/fromnumeric.py\u001b[0m in \u001b[0;36m_wrapreduction\u001b[0;34m(obj, ufunc, method, axis, dtype, out, **kwargs)\u001b[0m\n\u001b[1;32m     83\u001b[0m             \u001b[0;32melse\u001b[0m\u001b[0;34m:\u001b[0m\u001b[0;34m\u001b[0m\u001b[0;34m\u001b[0m\u001b[0m\n\u001b[0;32m---> 84\u001b[0;31m                 \u001b[0;32mreturn\u001b[0m \u001b[0mreduction\u001b[0m\u001b[0;34m(\u001b[0m\u001b[0maxis\u001b[0m\u001b[0;34m=\u001b[0m\u001b[0maxis\u001b[0m\u001b[0;34m,\u001b[0m \u001b[0mout\u001b[0m\u001b[0;34m=\u001b[0m\u001b[0mout\u001b[0m\u001b[0;34m,\u001b[0m \u001b[0;34m**\u001b[0m\u001b[0mpasskwargs\u001b[0m\u001b[0;34m)\u001b[0m\u001b[0;34m\u001b[0m\u001b[0;34m\u001b[0m\u001b[0m\n\u001b[0m\u001b[1;32m     85\u001b[0m \u001b[0;34m\u001b[0m\u001b[0m\n",
            "\u001b[0;32m/usr/local/lib/python3.6/dist-packages/pandas/core/generic.py\u001b[0m in \u001b[0;36mstat_func\u001b[0;34m(self, axis, skipna, level, numeric_only, min_count, **kwargs)\u001b[0m\n\u001b[1;32m  10930\u001b[0m         return self._reduce(f, name, axis=axis, skipna=skipna,\n\u001b[0;32m> 10931\u001b[0;31m                             numeric_only=numeric_only, min_count=min_count)\n\u001b[0m\u001b[1;32m  10932\u001b[0m \u001b[0;34m\u001b[0m\u001b[0m\n",
            "\u001b[0;32m/usr/local/lib/python3.6/dist-packages/pandas/core/series.py\u001b[0m in \u001b[0;36m_reduce\u001b[0;34m(self, op, name, axis, skipna, numeric_only, filter_type, **kwds)\u001b[0m\n\u001b[1;32m   3629\u001b[0m             \u001b[0;32mwith\u001b[0m \u001b[0mnp\u001b[0m\u001b[0;34m.\u001b[0m\u001b[0merrstate\u001b[0m\u001b[0;34m(\u001b[0m\u001b[0mall\u001b[0m\u001b[0;34m=\u001b[0m\u001b[0;34m'ignore'\u001b[0m\u001b[0;34m)\u001b[0m\u001b[0;34m:\u001b[0m\u001b[0;34m\u001b[0m\u001b[0;34m\u001b[0m\u001b[0m\n\u001b[0;32m-> 3630\u001b[0;31m                 \u001b[0;32mreturn\u001b[0m \u001b[0mop\u001b[0m\u001b[0;34m(\u001b[0m\u001b[0mdelegate\u001b[0m\u001b[0;34m,\u001b[0m \u001b[0mskipna\u001b[0m\u001b[0;34m=\u001b[0m\u001b[0mskipna\u001b[0m\u001b[0;34m,\u001b[0m \u001b[0;34m**\u001b[0m\u001b[0mkwds\u001b[0m\u001b[0;34m)\u001b[0m\u001b[0;34m\u001b[0m\u001b[0;34m\u001b[0m\u001b[0m\n\u001b[0m\u001b[1;32m   3631\u001b[0m \u001b[0;34m\u001b[0m\u001b[0m\n",
            "\u001b[0;32m/usr/local/lib/python3.6/dist-packages/pandas/core/nanops.py\u001b[0m in \u001b[0;36m_f\u001b[0;34m(*args, **kwargs)\u001b[0m\n\u001b[1;32m     75\u001b[0m                 \u001b[0;32mwith\u001b[0m \u001b[0mnp\u001b[0m\u001b[0;34m.\u001b[0m\u001b[0merrstate\u001b[0m\u001b[0;34m(\u001b[0m\u001b[0minvalid\u001b[0m\u001b[0;34m=\u001b[0m\u001b[0;34m'ignore'\u001b[0m\u001b[0;34m)\u001b[0m\u001b[0;34m:\u001b[0m\u001b[0;34m\u001b[0m\u001b[0;34m\u001b[0m\u001b[0m\n\u001b[0;32m---> 76\u001b[0;31m                     \u001b[0;32mreturn\u001b[0m \u001b[0mf\u001b[0m\u001b[0;34m(\u001b[0m\u001b[0;34m*\u001b[0m\u001b[0margs\u001b[0m\u001b[0;34m,\u001b[0m \u001b[0;34m**\u001b[0m\u001b[0mkwargs\u001b[0m\u001b[0;34m)\u001b[0m\u001b[0;34m\u001b[0m\u001b[0;34m\u001b[0m\u001b[0m\n\u001b[0m\u001b[1;32m     77\u001b[0m             \u001b[0;32mexcept\u001b[0m \u001b[0mValueError\u001b[0m \u001b[0;32mas\u001b[0m \u001b[0me\u001b[0m\u001b[0;34m:\u001b[0m\u001b[0;34m\u001b[0m\u001b[0;34m\u001b[0m\u001b[0m\n",
            "\u001b[0;32m/usr/local/lib/python3.6/dist-packages/pandas/core/nanops.py\u001b[0m in \u001b[0;36mnansum\u001b[0;34m(values, axis, skipna, min_count, mask)\u001b[0m\n\u001b[1;32m    434\u001b[0m         \u001b[0mdtype_sum\u001b[0m \u001b[0;34m=\u001b[0m \u001b[0mnp\u001b[0m\u001b[0;34m.\u001b[0m\u001b[0mfloat64\u001b[0m\u001b[0;34m\u001b[0m\u001b[0;34m\u001b[0m\u001b[0m\n\u001b[0;32m--> 435\u001b[0;31m     \u001b[0mthe_sum\u001b[0m \u001b[0;34m=\u001b[0m \u001b[0mvalues\u001b[0m\u001b[0;34m.\u001b[0m\u001b[0msum\u001b[0m\u001b[0;34m(\u001b[0m\u001b[0maxis\u001b[0m\u001b[0;34m,\u001b[0m \u001b[0mdtype\u001b[0m\u001b[0;34m=\u001b[0m\u001b[0mdtype_sum\u001b[0m\u001b[0;34m)\u001b[0m\u001b[0;34m\u001b[0m\u001b[0;34m\u001b[0m\u001b[0m\n\u001b[0m\u001b[1;32m    436\u001b[0m     \u001b[0mthe_sum\u001b[0m \u001b[0;34m=\u001b[0m \u001b[0m_maybe_null_out\u001b[0m\u001b[0;34m(\u001b[0m\u001b[0mthe_sum\u001b[0m\u001b[0;34m,\u001b[0m \u001b[0maxis\u001b[0m\u001b[0;34m,\u001b[0m \u001b[0mmask\u001b[0m\u001b[0;34m,\u001b[0m \u001b[0mmin_count\u001b[0m\u001b[0;34m=\u001b[0m\u001b[0mmin_count\u001b[0m\u001b[0;34m)\u001b[0m\u001b[0;34m\u001b[0m\u001b[0;34m\u001b[0m\u001b[0m\n",
            "\u001b[0;32m/usr/local/lib/python3.6/dist-packages/numpy/core/_methods.py\u001b[0m in \u001b[0;36m_sum\u001b[0;34m(a, axis, dtype, out, keepdims, initial)\u001b[0m\n\u001b[1;32m     35\u001b[0m          initial=_NoValue):\n\u001b[0;32m---> 36\u001b[0;31m     \u001b[0;32mreturn\u001b[0m \u001b[0mumr_sum\u001b[0m\u001b[0;34m(\u001b[0m\u001b[0ma\u001b[0m\u001b[0;34m,\u001b[0m \u001b[0maxis\u001b[0m\u001b[0;34m,\u001b[0m \u001b[0mdtype\u001b[0m\u001b[0;34m,\u001b[0m \u001b[0mout\u001b[0m\u001b[0;34m,\u001b[0m \u001b[0mkeepdims\u001b[0m\u001b[0;34m,\u001b[0m \u001b[0minitial\u001b[0m\u001b[0;34m)\u001b[0m\u001b[0;34m\u001b[0m\u001b[0;34m\u001b[0m\u001b[0m\n\u001b[0m\u001b[1;32m     37\u001b[0m \u001b[0;34m\u001b[0m\u001b[0m\n",
            "\u001b[0;31mTypeError\u001b[0m: must be str, not int",
            "\nDuring handling of the above exception, another exception occurred:\n",
            "\u001b[0;31mTypeError\u001b[0m                                 Traceback (most recent call last)",
            "\u001b[0;32m<ipython-input-73-5e1c643e63ee>\u001b[0m in \u001b[0;36m<module>\u001b[0;34m()\u001b[0m\n\u001b[1;32m      1\u001b[0m \u001b[0miv_list\u001b[0m \u001b[0;34m=\u001b[0m \u001b[0;34m[\u001b[0m\u001b[0;34m]\u001b[0m\u001b[0;34m\u001b[0m\u001b[0;34m\u001b[0m\u001b[0m\n\u001b[1;32m      2\u001b[0m \u001b[0;32mfor\u001b[0m \u001b[0mi\u001b[0m \u001b[0;32min\u001b[0m \u001b[0mdf_train_boxed\u001b[0m\u001b[0;34m.\u001b[0m\u001b[0mcolumns\u001b[0m\u001b[0;34m:\u001b[0m\u001b[0;34m\u001b[0m\u001b[0;34m\u001b[0m\u001b[0m\n\u001b[0;32m----> 3\u001b[0;31m   \u001b[0miv_dict\u001b[0m \u001b[0;34m=\u001b[0m \u001b[0mCalcWOE\u001b[0m\u001b[0;34m(\u001b[0m\u001b[0mdf_train_boxed\u001b[0m\u001b[0;34m,\u001b[0m \u001b[0mi\u001b[0m\u001b[0;34m,\u001b[0m \u001b[0;34m\"loan_status\"\u001b[0m\u001b[0;34m)\u001b[0m\u001b[0;34m\u001b[0m\u001b[0;34m\u001b[0m\u001b[0m\n\u001b[0m\u001b[1;32m      4\u001b[0m   \u001b[0miv_list\u001b[0m\u001b[0;34m.\u001b[0m\u001b[0mappend\u001b[0m\u001b[0;34m(\u001b[0m\u001b[0miv_dict\u001b[0m\u001b[0;34m[\u001b[0m\u001b[0;34m\"IV_SUM\"\u001b[0m\u001b[0;34m]\u001b[0m\u001b[0;34m)\u001b[0m\u001b[0;34m\u001b[0m\u001b[0;34m\u001b[0m\u001b[0m\n\u001b[1;32m      5\u001b[0m \u001b[0;34m\u001b[0m\u001b[0m\n",
            "\u001b[0;32m<ipython-input-71-13fd05c0146d>\u001b[0m in \u001b[0;36mCalcWOE\u001b[0;34m(df, col, target)\u001b[0m\n\u001b[1;32m      3\u001b[0m   \u001b[0mtotal\u001b[0m \u001b[0;34m=\u001b[0m \u001b[0mdf\u001b[0m\u001b[0;34m.\u001b[0m\u001b[0mgroupby\u001b[0m\u001b[0;34m(\u001b[0m\u001b[0;34m[\u001b[0m\u001b[0mcol\u001b[0m\u001b[0;34m]\u001b[0m\u001b[0;34m)\u001b[0m\u001b[0;34m[\u001b[0m\u001b[0mtarget\u001b[0m\u001b[0;34m]\u001b[0m\u001b[0;34m.\u001b[0m\u001b[0mcount\u001b[0m\u001b[0;34m(\u001b[0m\u001b[0;34m)\u001b[0m\u001b[0;34m\u001b[0m\u001b[0;34m\u001b[0m\u001b[0m\n\u001b[1;32m      4\u001b[0m   \u001b[0mtotal\u001b[0m \u001b[0;34m=\u001b[0m \u001b[0mpd\u001b[0m\u001b[0;34m.\u001b[0m\u001b[0mDataFrame\u001b[0m\u001b[0;34m(\u001b[0m\u001b[0;34m{\u001b[0m\u001b[0;34m\"total\"\u001b[0m\u001b[0;34m:\u001b[0m \u001b[0mtotal\u001b[0m\u001b[0;34m}\u001b[0m\u001b[0;34m)\u001b[0m\u001b[0;34m\u001b[0m\u001b[0;34m\u001b[0m\u001b[0m\n\u001b[0;32m----> 5\u001b[0;31m   \u001b[0mbad\u001b[0m \u001b[0;34m=\u001b[0m \u001b[0mdf\u001b[0m\u001b[0;34m.\u001b[0m\u001b[0mgroupby\u001b[0m\u001b[0;34m(\u001b[0m\u001b[0;34m[\u001b[0m\u001b[0mcol\u001b[0m\u001b[0;34m]\u001b[0m\u001b[0;34m)\u001b[0m\u001b[0;34m[\u001b[0m\u001b[0mtarget\u001b[0m\u001b[0;34m]\u001b[0m\u001b[0;34m.\u001b[0m\u001b[0msum\u001b[0m\u001b[0;34m(\u001b[0m\u001b[0;34m)\u001b[0m\u001b[0;34m\u001b[0m\u001b[0;34m\u001b[0m\u001b[0m\n\u001b[0m\u001b[1;32m      6\u001b[0m   \u001b[0mbad\u001b[0m \u001b[0;34m=\u001b[0m \u001b[0mpd\u001b[0m\u001b[0;34m.\u001b[0m\u001b[0mDataFrame\u001b[0m\u001b[0;34m(\u001b[0m\u001b[0;34m{\u001b[0m\u001b[0;34m\"bad\"\u001b[0m\u001b[0;34m:\u001b[0m \u001b[0mbad\u001b[0m\u001b[0;34m}\u001b[0m\u001b[0;34m)\u001b[0m\u001b[0;34m\u001b[0m\u001b[0;34m\u001b[0m\u001b[0m\n\u001b[1;32m      7\u001b[0m   \u001b[0mregroup\u001b[0m \u001b[0;34m=\u001b[0m \u001b[0mtotal\u001b[0m\u001b[0;34m.\u001b[0m\u001b[0mmerge\u001b[0m\u001b[0;34m(\u001b[0m\u001b[0mbad\u001b[0m\u001b[0;34m,\u001b[0m \u001b[0mleft_index\u001b[0m \u001b[0;34m=\u001b[0m \u001b[0;32mTrue\u001b[0m\u001b[0;34m,\u001b[0m \u001b[0mright_index\u001b[0m \u001b[0;34m=\u001b[0m \u001b[0;32mTrue\u001b[0m\u001b[0;34m,\u001b[0m \u001b[0mhow\u001b[0m \u001b[0;34m=\u001b[0m \u001b[0;34m\"left\"\u001b[0m\u001b[0;34m)\u001b[0m\u001b[0;34m\u001b[0m\u001b[0;34m\u001b[0m\u001b[0m\n",
            "\u001b[0;32m/usr/local/lib/python3.6/dist-packages/pandas/core/groupby/groupby.py\u001b[0m in \u001b[0;36mf\u001b[0;34m(self, **kwargs)\u001b[0m\n\u001b[1;32m   1260\u001b[0m                 \u001b[0;32mexcept\u001b[0m \u001b[0mException\u001b[0m\u001b[0;34m:\u001b[0m\u001b[0;34m\u001b[0m\u001b[0;34m\u001b[0m\u001b[0m\n\u001b[1;32m   1261\u001b[0m                     result = self.aggregate(\n\u001b[0;32m-> 1262\u001b[0;31m                         lambda x: npfunc(x, axis=self.axis))\n\u001b[0m\u001b[1;32m   1263\u001b[0m                     \u001b[0;32mif\u001b[0m \u001b[0m_convert\u001b[0m\u001b[0;34m:\u001b[0m\u001b[0;34m\u001b[0m\u001b[0;34m\u001b[0m\u001b[0m\n\u001b[1;32m   1264\u001b[0m                         \u001b[0mresult\u001b[0m \u001b[0;34m=\u001b[0m \u001b[0mresult\u001b[0m\u001b[0;34m.\u001b[0m\u001b[0m_convert\u001b[0m\u001b[0;34m(\u001b[0m\u001b[0mdatetime\u001b[0m\u001b[0;34m=\u001b[0m\u001b[0;32mTrue\u001b[0m\u001b[0;34m)\u001b[0m\u001b[0;34m\u001b[0m\u001b[0;34m\u001b[0m\u001b[0m\n",
            "\u001b[0;32m/usr/local/lib/python3.6/dist-packages/pandas/core/groupby/generic.py\u001b[0m in \u001b[0;36maggregate\u001b[0;34m(self, func_or_funcs, *args, **kwargs)\u001b[0m\n\u001b[1;32m    776\u001b[0m                 \u001b[0;32mreturn\u001b[0m \u001b[0mself\u001b[0m\u001b[0;34m.\u001b[0m\u001b[0m_python_agg_general\u001b[0m\u001b[0;34m(\u001b[0m\u001b[0mfunc_or_funcs\u001b[0m\u001b[0;34m,\u001b[0m \u001b[0;34m*\u001b[0m\u001b[0margs\u001b[0m\u001b[0;34m,\u001b[0m \u001b[0;34m**\u001b[0m\u001b[0mkwargs\u001b[0m\u001b[0;34m)\u001b[0m\u001b[0;34m\u001b[0m\u001b[0;34m\u001b[0m\u001b[0m\n\u001b[1;32m    777\u001b[0m             \u001b[0;32mexcept\u001b[0m \u001b[0mException\u001b[0m\u001b[0;34m:\u001b[0m\u001b[0;34m\u001b[0m\u001b[0;34m\u001b[0m\u001b[0m\n\u001b[0;32m--> 778\u001b[0;31m                 \u001b[0mresult\u001b[0m \u001b[0;34m=\u001b[0m \u001b[0mself\u001b[0m\u001b[0;34m.\u001b[0m\u001b[0m_aggregate_named\u001b[0m\u001b[0;34m(\u001b[0m\u001b[0mfunc_or_funcs\u001b[0m\u001b[0;34m,\u001b[0m \u001b[0;34m*\u001b[0m\u001b[0margs\u001b[0m\u001b[0;34m,\u001b[0m \u001b[0;34m**\u001b[0m\u001b[0mkwargs\u001b[0m\u001b[0;34m)\u001b[0m\u001b[0;34m\u001b[0m\u001b[0;34m\u001b[0m\u001b[0m\n\u001b[0m\u001b[1;32m    779\u001b[0m \u001b[0;34m\u001b[0m\u001b[0m\n\u001b[1;32m    780\u001b[0m             \u001b[0mindex\u001b[0m \u001b[0;34m=\u001b[0m \u001b[0mIndex\u001b[0m\u001b[0;34m(\u001b[0m\u001b[0msorted\u001b[0m\u001b[0;34m(\u001b[0m\u001b[0mresult\u001b[0m\u001b[0;34m)\u001b[0m\u001b[0;34m,\u001b[0m \u001b[0mname\u001b[0m\u001b[0;34m=\u001b[0m\u001b[0mself\u001b[0m\u001b[0;34m.\u001b[0m\u001b[0mgrouper\u001b[0m\u001b[0;34m.\u001b[0m\u001b[0mnames\u001b[0m\u001b[0;34m[\u001b[0m\u001b[0;36m0\u001b[0m\u001b[0;34m]\u001b[0m\u001b[0;34m)\u001b[0m\u001b[0;34m\u001b[0m\u001b[0;34m\u001b[0m\u001b[0m\n",
            "\u001b[0;32m/usr/local/lib/python3.6/dist-packages/pandas/core/groupby/generic.py\u001b[0m in \u001b[0;36m_aggregate_named\u001b[0;34m(self, func, *args, **kwargs)\u001b[0m\n\u001b[1;32m    905\u001b[0m         \u001b[0;32mfor\u001b[0m \u001b[0mname\u001b[0m\u001b[0;34m,\u001b[0m \u001b[0mgroup\u001b[0m \u001b[0;32min\u001b[0m \u001b[0mself\u001b[0m\u001b[0;34m:\u001b[0m\u001b[0;34m\u001b[0m\u001b[0;34m\u001b[0m\u001b[0m\n\u001b[1;32m    906\u001b[0m             \u001b[0mgroup\u001b[0m\u001b[0;34m.\u001b[0m\u001b[0mname\u001b[0m \u001b[0;34m=\u001b[0m \u001b[0mname\u001b[0m\u001b[0;34m\u001b[0m\u001b[0;34m\u001b[0m\u001b[0m\n\u001b[0;32m--> 907\u001b[0;31m             \u001b[0moutput\u001b[0m \u001b[0;34m=\u001b[0m \u001b[0mfunc\u001b[0m\u001b[0;34m(\u001b[0m\u001b[0mgroup\u001b[0m\u001b[0;34m,\u001b[0m \u001b[0;34m*\u001b[0m\u001b[0margs\u001b[0m\u001b[0;34m,\u001b[0m \u001b[0;34m**\u001b[0m\u001b[0mkwargs\u001b[0m\u001b[0;34m)\u001b[0m\u001b[0;34m\u001b[0m\u001b[0;34m\u001b[0m\u001b[0m\n\u001b[0m\u001b[1;32m    908\u001b[0m             \u001b[0;32mif\u001b[0m \u001b[0misinstance\u001b[0m\u001b[0;34m(\u001b[0m\u001b[0moutput\u001b[0m\u001b[0;34m,\u001b[0m \u001b[0;34m(\u001b[0m\u001b[0mSeries\u001b[0m\u001b[0;34m,\u001b[0m \u001b[0mIndex\u001b[0m\u001b[0;34m,\u001b[0m \u001b[0mnp\u001b[0m\u001b[0;34m.\u001b[0m\u001b[0mndarray\u001b[0m\u001b[0;34m)\u001b[0m\u001b[0;34m)\u001b[0m\u001b[0;34m:\u001b[0m\u001b[0;34m\u001b[0m\u001b[0;34m\u001b[0m\u001b[0m\n\u001b[1;32m    909\u001b[0m                 \u001b[0;32mraise\u001b[0m \u001b[0mException\u001b[0m\u001b[0;34m(\u001b[0m\u001b[0;34m'Must produce aggregated value'\u001b[0m\u001b[0;34m)\u001b[0m\u001b[0;34m\u001b[0m\u001b[0;34m\u001b[0m\u001b[0m\n",
            "\u001b[0;32m/usr/local/lib/python3.6/dist-packages/pandas/core/groupby/groupby.py\u001b[0m in \u001b[0;36m<lambda>\u001b[0;34m(x)\u001b[0m\n\u001b[1;32m   1260\u001b[0m                 \u001b[0;32mexcept\u001b[0m \u001b[0mException\u001b[0m\u001b[0;34m:\u001b[0m\u001b[0;34m\u001b[0m\u001b[0;34m\u001b[0m\u001b[0m\n\u001b[1;32m   1261\u001b[0m                     result = self.aggregate(\n\u001b[0;32m-> 1262\u001b[0;31m                         lambda x: npfunc(x, axis=self.axis))\n\u001b[0m\u001b[1;32m   1263\u001b[0m                     \u001b[0;32mif\u001b[0m \u001b[0m_convert\u001b[0m\u001b[0;34m:\u001b[0m\u001b[0;34m\u001b[0m\u001b[0;34m\u001b[0m\u001b[0m\n\u001b[1;32m   1264\u001b[0m                         \u001b[0mresult\u001b[0m \u001b[0;34m=\u001b[0m \u001b[0mresult\u001b[0m\u001b[0;34m.\u001b[0m\u001b[0m_convert\u001b[0m\u001b[0;34m(\u001b[0m\u001b[0mdatetime\u001b[0m\u001b[0;34m=\u001b[0m\u001b[0;32mTrue\u001b[0m\u001b[0;34m)\u001b[0m\u001b[0;34m\u001b[0m\u001b[0;34m\u001b[0m\u001b[0m\n",
            "\u001b[0;32m/usr/local/lib/python3.6/dist-packages/numpy/core/fromnumeric.py\u001b[0m in \u001b[0;36msum\u001b[0;34m(a, axis, dtype, out, keepdims, initial)\u001b[0m\n\u001b[1;32m   2074\u001b[0m \u001b[0;34m\u001b[0m\u001b[0m\n\u001b[1;32m   2075\u001b[0m     return _wrapreduction(a, np.add, 'sum', axis, dtype, out, keepdims=keepdims,\n\u001b[0;32m-> 2076\u001b[0;31m                           initial=initial)\n\u001b[0m\u001b[1;32m   2077\u001b[0m \u001b[0;34m\u001b[0m\u001b[0m\n\u001b[1;32m   2078\u001b[0m \u001b[0;34m\u001b[0m\u001b[0m\n",
            "\u001b[0;32m/usr/local/lib/python3.6/dist-packages/numpy/core/fromnumeric.py\u001b[0m in \u001b[0;36m_wrapreduction\u001b[0;34m(obj, ufunc, method, axis, dtype, out, **kwargs)\u001b[0m\n\u001b[1;32m     82\u001b[0m                 \u001b[0;32mreturn\u001b[0m \u001b[0mreduction\u001b[0m\u001b[0;34m(\u001b[0m\u001b[0maxis\u001b[0m\u001b[0;34m=\u001b[0m\u001b[0maxis\u001b[0m\u001b[0;34m,\u001b[0m \u001b[0mdtype\u001b[0m\u001b[0;34m=\u001b[0m\u001b[0mdtype\u001b[0m\u001b[0;34m,\u001b[0m \u001b[0mout\u001b[0m\u001b[0;34m=\u001b[0m\u001b[0mout\u001b[0m\u001b[0;34m,\u001b[0m \u001b[0;34m**\u001b[0m\u001b[0mpasskwargs\u001b[0m\u001b[0;34m)\u001b[0m\u001b[0;34m\u001b[0m\u001b[0;34m\u001b[0m\u001b[0m\n\u001b[1;32m     83\u001b[0m             \u001b[0;32melse\u001b[0m\u001b[0;34m:\u001b[0m\u001b[0;34m\u001b[0m\u001b[0;34m\u001b[0m\u001b[0m\n\u001b[0;32m---> 84\u001b[0;31m                 \u001b[0;32mreturn\u001b[0m \u001b[0mreduction\u001b[0m\u001b[0;34m(\u001b[0m\u001b[0maxis\u001b[0m\u001b[0;34m=\u001b[0m\u001b[0maxis\u001b[0m\u001b[0;34m,\u001b[0m \u001b[0mout\u001b[0m\u001b[0;34m=\u001b[0m\u001b[0mout\u001b[0m\u001b[0;34m,\u001b[0m \u001b[0;34m**\u001b[0m\u001b[0mpasskwargs\u001b[0m\u001b[0;34m)\u001b[0m\u001b[0;34m\u001b[0m\u001b[0;34m\u001b[0m\u001b[0m\n\u001b[0m\u001b[1;32m     85\u001b[0m \u001b[0;34m\u001b[0m\u001b[0m\n\u001b[1;32m     86\u001b[0m     \u001b[0;32mreturn\u001b[0m \u001b[0mufunc\u001b[0m\u001b[0;34m.\u001b[0m\u001b[0mreduce\u001b[0m\u001b[0;34m(\u001b[0m\u001b[0mobj\u001b[0m\u001b[0;34m,\u001b[0m \u001b[0maxis\u001b[0m\u001b[0;34m,\u001b[0m \u001b[0mdtype\u001b[0m\u001b[0;34m,\u001b[0m \u001b[0mout\u001b[0m\u001b[0;34m,\u001b[0m \u001b[0;34m**\u001b[0m\u001b[0mpasskwargs\u001b[0m\u001b[0;34m)\u001b[0m\u001b[0;34m\u001b[0m\u001b[0;34m\u001b[0m\u001b[0m\n",
            "\u001b[0;32m/usr/local/lib/python3.6/dist-packages/pandas/core/generic.py\u001b[0m in \u001b[0;36mstat_func\u001b[0;34m(self, axis, skipna, level, numeric_only, min_count, **kwargs)\u001b[0m\n\u001b[1;32m  10929\u001b[0m                                       skipna=skipna, min_count=min_count)\n\u001b[1;32m  10930\u001b[0m         return self._reduce(f, name, axis=axis, skipna=skipna,\n\u001b[0;32m> 10931\u001b[0;31m                             numeric_only=numeric_only, min_count=min_count)\n\u001b[0m\u001b[1;32m  10932\u001b[0m \u001b[0;34m\u001b[0m\u001b[0m\n\u001b[1;32m  10933\u001b[0m     \u001b[0;32mreturn\u001b[0m \u001b[0mset_function_name\u001b[0m\u001b[0;34m(\u001b[0m\u001b[0mstat_func\u001b[0m\u001b[0;34m,\u001b[0m \u001b[0mname\u001b[0m\u001b[0;34m,\u001b[0m \u001b[0mcls\u001b[0m\u001b[0;34m)\u001b[0m\u001b[0;34m\u001b[0m\u001b[0;34m\u001b[0m\u001b[0m\n",
            "\u001b[0;32m/usr/local/lib/python3.6/dist-packages/pandas/core/series.py\u001b[0m in \u001b[0;36m_reduce\u001b[0;34m(self, op, name, axis, skipna, numeric_only, filter_type, **kwds)\u001b[0m\n\u001b[1;32m   3628\u001b[0m                                           'numeric_only.'.format(name))\n\u001b[1;32m   3629\u001b[0m             \u001b[0;32mwith\u001b[0m \u001b[0mnp\u001b[0m\u001b[0;34m.\u001b[0m\u001b[0merrstate\u001b[0m\u001b[0;34m(\u001b[0m\u001b[0mall\u001b[0m\u001b[0;34m=\u001b[0m\u001b[0;34m'ignore'\u001b[0m\u001b[0;34m)\u001b[0m\u001b[0;34m:\u001b[0m\u001b[0;34m\u001b[0m\u001b[0;34m\u001b[0m\u001b[0m\n\u001b[0;32m-> 3630\u001b[0;31m                 \u001b[0;32mreturn\u001b[0m \u001b[0mop\u001b[0m\u001b[0;34m(\u001b[0m\u001b[0mdelegate\u001b[0m\u001b[0;34m,\u001b[0m \u001b[0mskipna\u001b[0m\u001b[0;34m=\u001b[0m\u001b[0mskipna\u001b[0m\u001b[0;34m,\u001b[0m \u001b[0;34m**\u001b[0m\u001b[0mkwds\u001b[0m\u001b[0;34m)\u001b[0m\u001b[0;34m\u001b[0m\u001b[0;34m\u001b[0m\u001b[0m\n\u001b[0m\u001b[1;32m   3631\u001b[0m \u001b[0;34m\u001b[0m\u001b[0m\n\u001b[1;32m   3632\u001b[0m         \u001b[0;31m# TODO(EA) dispatch to Index\u001b[0m\u001b[0;34m\u001b[0m\u001b[0;34m\u001b[0m\u001b[0;34m\u001b[0m\u001b[0m\n",
            "\u001b[0;32m/usr/local/lib/python3.6/dist-packages/pandas/core/nanops.py\u001b[0m in \u001b[0;36m_f\u001b[0;34m(*args, **kwargs)\u001b[0m\n\u001b[1;32m     74\u001b[0m             \u001b[0;32mtry\u001b[0m\u001b[0;34m:\u001b[0m\u001b[0;34m\u001b[0m\u001b[0;34m\u001b[0m\u001b[0m\n\u001b[1;32m     75\u001b[0m                 \u001b[0;32mwith\u001b[0m \u001b[0mnp\u001b[0m\u001b[0;34m.\u001b[0m\u001b[0merrstate\u001b[0m\u001b[0;34m(\u001b[0m\u001b[0minvalid\u001b[0m\u001b[0;34m=\u001b[0m\u001b[0;34m'ignore'\u001b[0m\u001b[0;34m)\u001b[0m\u001b[0;34m:\u001b[0m\u001b[0;34m\u001b[0m\u001b[0;34m\u001b[0m\u001b[0m\n\u001b[0;32m---> 76\u001b[0;31m                     \u001b[0;32mreturn\u001b[0m \u001b[0mf\u001b[0m\u001b[0;34m(\u001b[0m\u001b[0;34m*\u001b[0m\u001b[0margs\u001b[0m\u001b[0;34m,\u001b[0m \u001b[0;34m**\u001b[0m\u001b[0mkwargs\u001b[0m\u001b[0;34m)\u001b[0m\u001b[0;34m\u001b[0m\u001b[0;34m\u001b[0m\u001b[0m\n\u001b[0m\u001b[1;32m     77\u001b[0m             \u001b[0;32mexcept\u001b[0m \u001b[0mValueError\u001b[0m \u001b[0;32mas\u001b[0m \u001b[0me\u001b[0m\u001b[0;34m:\u001b[0m\u001b[0;34m\u001b[0m\u001b[0;34m\u001b[0m\u001b[0m\n\u001b[1;32m     78\u001b[0m                 \u001b[0;31m# we want to transform an object array\u001b[0m\u001b[0;34m\u001b[0m\u001b[0;34m\u001b[0m\u001b[0;34m\u001b[0m\u001b[0m\n",
            "\u001b[0;32m/usr/local/lib/python3.6/dist-packages/pandas/core/nanops.py\u001b[0m in \u001b[0;36mnansum\u001b[0;34m(values, axis, skipna, min_count, mask)\u001b[0m\n\u001b[1;32m    433\u001b[0m     \u001b[0;32melif\u001b[0m \u001b[0mis_timedelta64_dtype\u001b[0m\u001b[0;34m(\u001b[0m\u001b[0mdtype\u001b[0m\u001b[0;34m)\u001b[0m\u001b[0;34m:\u001b[0m\u001b[0;34m\u001b[0m\u001b[0;34m\u001b[0m\u001b[0m\n\u001b[1;32m    434\u001b[0m         \u001b[0mdtype_sum\u001b[0m \u001b[0;34m=\u001b[0m \u001b[0mnp\u001b[0m\u001b[0;34m.\u001b[0m\u001b[0mfloat64\u001b[0m\u001b[0;34m\u001b[0m\u001b[0;34m\u001b[0m\u001b[0m\n\u001b[0;32m--> 435\u001b[0;31m     \u001b[0mthe_sum\u001b[0m \u001b[0;34m=\u001b[0m \u001b[0mvalues\u001b[0m\u001b[0;34m.\u001b[0m\u001b[0msum\u001b[0m\u001b[0;34m(\u001b[0m\u001b[0maxis\u001b[0m\u001b[0;34m,\u001b[0m \u001b[0mdtype\u001b[0m\u001b[0;34m=\u001b[0m\u001b[0mdtype_sum\u001b[0m\u001b[0;34m)\u001b[0m\u001b[0;34m\u001b[0m\u001b[0;34m\u001b[0m\u001b[0m\n\u001b[0m\u001b[1;32m    436\u001b[0m     \u001b[0mthe_sum\u001b[0m \u001b[0;34m=\u001b[0m \u001b[0m_maybe_null_out\u001b[0m\u001b[0;34m(\u001b[0m\u001b[0mthe_sum\u001b[0m\u001b[0;34m,\u001b[0m \u001b[0maxis\u001b[0m\u001b[0;34m,\u001b[0m \u001b[0mmask\u001b[0m\u001b[0;34m,\u001b[0m \u001b[0mmin_count\u001b[0m\u001b[0;34m=\u001b[0m\u001b[0mmin_count\u001b[0m\u001b[0;34m)\u001b[0m\u001b[0;34m\u001b[0m\u001b[0;34m\u001b[0m\u001b[0m\n\u001b[1;32m    437\u001b[0m \u001b[0;34m\u001b[0m\u001b[0m\n",
            "\u001b[0;32m/usr/local/lib/python3.6/dist-packages/numpy/core/_methods.py\u001b[0m in \u001b[0;36m_sum\u001b[0;34m(a, axis, dtype, out, keepdims, initial)\u001b[0m\n\u001b[1;32m     34\u001b[0m def _sum(a, axis=None, dtype=None, out=None, keepdims=False,\n\u001b[1;32m     35\u001b[0m          initial=_NoValue):\n\u001b[0;32m---> 36\u001b[0;31m     \u001b[0;32mreturn\u001b[0m \u001b[0mumr_sum\u001b[0m\u001b[0;34m(\u001b[0m\u001b[0ma\u001b[0m\u001b[0;34m,\u001b[0m \u001b[0maxis\u001b[0m\u001b[0;34m,\u001b[0m \u001b[0mdtype\u001b[0m\u001b[0;34m,\u001b[0m \u001b[0mout\u001b[0m\u001b[0;34m,\u001b[0m \u001b[0mkeepdims\u001b[0m\u001b[0;34m,\u001b[0m \u001b[0minitial\u001b[0m\u001b[0;34m)\u001b[0m\u001b[0;34m\u001b[0m\u001b[0;34m\u001b[0m\u001b[0m\n\u001b[0m\u001b[1;32m     37\u001b[0m \u001b[0;34m\u001b[0m\u001b[0m\n\u001b[1;32m     38\u001b[0m def _prod(a, axis=None, dtype=None, out=None, keepdims=False,\n",
            "\u001b[0;31mTypeError\u001b[0m: must be str, not int"
          ]
        }
      ]
    },
    {
      "cell_type": "markdown",
      "metadata": {
        "id": "AdLP5jZkvJNJ",
        "colab_type": "text"
      },
      "source": [
        "如果输出IV值是无穷，说明该特征中某些属性中缺失某类样本，这需要重新分箱，将这类样本添加到相邻类（对于连续型数值样本）或样本数量较少的那一类（对于分类样本）中去： deling_2yrs:把7.0,8.0,9.0,11.0划归到7.0那一类,全算作6.0\n",
        "\n",
        "home_ownership:把2添加到1 这一类\n",
        "\n",
        "pub_rec：把3.0，4.0，添加到2.0这一类"
      ]
    },
    {
      "cell_type": "code",
      "metadata": {
        "id": "VglUiktDvNSx",
        "colab_type": "code",
        "colab": {
          "base_uri": "https://localhost:8080/",
          "height": 276
        },
        "outputId": "6d778f12-b5aa-4f6d-a675-27e06e3f5d21"
      },
      "source": [
        "#实施上述区间合并\n",
        "for df_i in df_list:\n",
        "  df_i.delinq_2yrs[df_i.delinq_2yrs.isin([7.0, 8.0, 9.0, 11.0])] = 6.0\n",
        "  df_i.home_ownership[df_i.home_ownership == 2] = 1\n",
        "  df_i.pub_rec[df_i.pub_rec.isin([3.0, 4.0])] = 2.0"
      ],
      "execution_count": 74,
      "outputs": [
        {
          "output_type": "stream",
          "text": [
            "/usr/local/lib/python3.6/dist-packages/ipykernel_launcher.py:2: SettingWithCopyWarning: \n",
            "A value is trying to be set on a copy of a slice from a DataFrame\n",
            "\n",
            "See the caveats in the documentation: http://pandas.pydata.org/pandas-docs/stable/indexing.html#indexing-view-versus-copy\n",
            "  \n",
            "/usr/local/lib/python3.6/dist-packages/ipykernel_launcher.py:3: SettingWithCopyWarning: \n",
            "A value is trying to be set on a copy of a slice from a DataFrame\n",
            "\n",
            "See the caveats in the documentation: http://pandas.pydata.org/pandas-docs/stable/indexing.html#indexing-view-versus-copy\n",
            "  This is separate from the ipykernel package so we can avoid doing imports until\n",
            "/usr/local/lib/python3.6/dist-packages/ipykernel_launcher.py:4: SettingWithCopyWarning: \n",
            "A value is trying to be set on a copy of a slice from a DataFrame\n",
            "\n",
            "See the caveats in the documentation: http://pandas.pydata.org/pandas-docs/stable/indexing.html#indexing-view-versus-copy\n",
            "  after removing the cwd from sys.path.\n"
          ],
          "name": "stderr"
        }
      ]
    },
    {
      "cell_type": "markdown",
      "metadata": {
        "id": "upHN4Rx3vpZv",
        "colab_type": "text"
      },
      "source": [
        "保留IV大于0.15的特征："
      ]
    },
    {
      "cell_type": "code",
      "metadata": {
        "id": "bPen_6Nivruv",
        "colab_type": "code",
        "colab": {
          "base_uri": "https://localhost:8080/",
          "height": 183
        },
        "outputId": "847dbf03-f5bd-4133-b578-ea77c57a973b"
      },
      "source": [
        "# 保留IV值> 0.015的变量\n",
        "valid_feas = iv_df[iv_df.iv > 0.015].iv_name.tolist()\n",
        "valid_feas.remove('loan_status')"
      ],
      "execution_count": 75,
      "outputs": [
        {
          "output_type": "error",
          "ename": "NameError",
          "evalue": "ignored",
          "traceback": [
            "\u001b[0;31m---------------------------------------------------------------------------\u001b[0m",
            "\u001b[0;31mNameError\u001b[0m                                 Traceback (most recent call last)",
            "\u001b[0;32m<ipython-input-75-8b1d7fa1a41a>\u001b[0m in \u001b[0;36m<module>\u001b[0;34m()\u001b[0m\n\u001b[0;32m----> 1\u001b[0;31m \u001b[0mvalid_feas\u001b[0m \u001b[0;34m=\u001b[0m \u001b[0miv_df\u001b[0m\u001b[0;34m[\u001b[0m\u001b[0miv_df\u001b[0m\u001b[0;34m.\u001b[0m\u001b[0miv\u001b[0m \u001b[0;34m>\u001b[0m \u001b[0;36m0.015\u001b[0m\u001b[0;34m]\u001b[0m\u001b[0;34m.\u001b[0m\u001b[0miv_name\u001b[0m\u001b[0;34m.\u001b[0m\u001b[0mtolist\u001b[0m\u001b[0;34m(\u001b[0m\u001b[0;34m)\u001b[0m\u001b[0;34m\u001b[0m\u001b[0;34m\u001b[0m\u001b[0m\n\u001b[0m\u001b[1;32m      2\u001b[0m \u001b[0mvalid_feas\u001b[0m\u001b[0;34m.\u001b[0m\u001b[0mremove\u001b[0m\u001b[0;34m(\u001b[0m\u001b[0;34m'loan_status'\u001b[0m\u001b[0;34m)\u001b[0m\u001b[0;34m\u001b[0m\u001b[0;34m\u001b[0m\u001b[0m\n",
            "\u001b[0;31mNameError\u001b[0m: name 'iv_df' is not defined"
          ]
        }
      ]
    },
    {
      "cell_type": "code",
      "metadata": {
        "id": "ma29ia7Ivr6T",
        "colab_type": "code",
        "colab": {
          "base_uri": "https://localhost:8080/",
          "height": 165
        },
        "outputId": "15d08cdf-91a8-46ef-f408-fcd99d372114"
      },
      "source": [
        "valid_feas"
      ],
      "execution_count": 76,
      "outputs": [
        {
          "output_type": "error",
          "ename": "NameError",
          "evalue": "ignored",
          "traceback": [
            "\u001b[0;31m---------------------------------------------------------------------------\u001b[0m",
            "\u001b[0;31mNameError\u001b[0m                                 Traceback (most recent call last)",
            "\u001b[0;32m<ipython-input-76-9f86af072e9a>\u001b[0m in \u001b[0;36m<module>\u001b[0;34m()\u001b[0m\n\u001b[0;32m----> 1\u001b[0;31m \u001b[0mvalid_feas\u001b[0m\u001b[0;34m\u001b[0m\u001b[0;34m\u001b[0m\u001b[0m\n\u001b[0m",
            "\u001b[0;31mNameError\u001b[0m: name 'valid_feas' is not defined"
          ]
        }
      ]
    },
    {
      "cell_type": "markdown",
      "metadata": {
        "id": "B4VUCK27v-hW",
        "colab_type": "text"
      },
      "source": [
        "### 5.3 特征分箱\n",
        "特征分箱就是把连续特征转化为离散特征，或者减小离散特征的离散性。\n",
        "\n",
        "特征分箱有如下好处：\n",
        "\n",
        "特征分箱后，特征被简化，也简化了模型，比如在逻辑回归评分卡模型中，评分卡被简化，基于决策树的模型中，决策树枝杈减少，降低了过拟合的风险，有效增加了模型的稳定性。\n",
        "\n",
        "特征分箱可以将缺失值划为一类，比如此样本中无法被编码的公共记录缺失类。\n",
        "\n",
        "特征离散化后对异常数据也有更强的容错性。比如假设年龄数据中出现１０００岁，模型可以自动将其划分为>80岁一类，否则它会对对异常值敏感的模型如（逻辑回归）造成很大影响。\n",
        "\n",
        "特征离散化之后，方便进一步进行非线性的特征衍生。"
      ]
    },
    {
      "cell_type": "markdown",
      "metadata": {
        "id": "bUpi646-wIpJ",
        "colab_type": "text"
      },
      "source": [
        "分箱的方法：\n",
        "\n",
        "常用的分箱方法包括卡方分箱、等频或等距分箱、聚类、依据经验分箱等。\n",
        "\n",
        "对连续型数值变量，在此采用有监督的最优分箱法——卡方分箱。\n",
        "\n",
        "定义卡方分箱函数："
      ]
    },
    {
      "cell_type": "code",
      "metadata": {
        "id": "TTVw5gGovr0x",
        "colab_type": "code",
        "colab": {}
      },
      "source": [
        "# 卡方分箱\n",
        "def Chi2(df, total_col, bad_col, overallRate):\n",
        "  df2 = df.copy()\n",
        "  df2[\"expected\"] = df[total_col].apply(lambda X: X * overallRate)\n",
        "  combined = zip(df2[\"expected\"], df2[bad_col])\n",
        "  chi = [(i[0] - i[1]) ** 2/i[0] for i in combined]\n",
        "  chi2 = sum(chi)\n",
        "  return chi2\n",
        "  \n",
        "def ChiMerge_MaxInterval_original(df, col, target, max_interval = 5):\n",
        "  colLevels = set(df[col])\n",
        "  colLevels = sorted(list(colLevels))\n",
        "  N_distinct = len(colLevels)\n",
        "  if N_distinct <= max_interval:\n",
        "    print(\"The row number cann't be less than interval numbers\")\n",
        "    return colLevels[:-1]\n",
        "  \n",
        "  else:\n",
        "    total = df.groupby([col])[target].count()\n",
        "    total = pd.DataFrame({\"total\": total})\n",
        "    bad = df.groupby([col])[target].sum()\n",
        "    regroup = total.merge(bad, left_index = True, right_index = True, how = \"left\")\n",
        "    regroup.reset_index(level = 0, inplace = True)\n",
        "    N = sum(regroup[\"total\"])\n",
        "    B = sum(regroup[\"bad\"])\n",
        "    overallRate = B * 1.0 / N \n",
        "    groupIntervals = [[i] for i in colLevels]\n",
        "    groupNum = len(groupIntervals)"
      ],
      "execution_count": 0,
      "outputs": []
    },
    {
      "cell_type": "markdown",
      "metadata": {
        "id": "tmjJ6YsZzpB3",
        "colab_type": "text"
      },
      "source": [
        "### 5.3.1 对无缺省值的连续型数值变量分箱\n",
        "\n",
        "对连续型数值变量实施分箱，得到切割点\n",
        "8 intervals for the features\n",
        "\n",
        "loan_amnt, int_rate, annual_inc, dti, open_acc, revol_bal, revol_util, total_acc, cre_hist\n",
        "\n",
        " |loan_amnt| int_rate|annual_inc|dti|open_acc|"
      ]
    },
    {
      "cell_type": "code",
      "metadata": {
        "id": "E9SpPvz00R2q",
        "colab_type": "code",
        "colab": {
          "base_uri": "https://localhost:8080/",
          "height": 165
        },
        "outputId": "0282ef60-e1c1-4dcb-9765-1b206a6b8fa0"
      },
      "source": [
        "num_feas_to_box"
      ],
      "execution_count": 81,
      "outputs": [
        {
          "output_type": "error",
          "ename": "NameError",
          "evalue": "ignored",
          "traceback": [
            "\u001b[0;31m---------------------------------------------------------------------------\u001b[0m",
            "\u001b[0;31mNameError\u001b[0m                                 Traceback (most recent call last)",
            "\u001b[0;32m<ipython-input-81-7f543de06949>\u001b[0m in \u001b[0;36m<module>\u001b[0;34m()\u001b[0m\n\u001b[0;32m----> 1\u001b[0;31m \u001b[0mnum_feas_to_box\u001b[0m\u001b[0;34m\u001b[0m\u001b[0;34m\u001b[0m\u001b[0m\n\u001b[0m",
            "\u001b[0;31mNameError\u001b[0m: name 'num_feas_to_box' is not defined"
          ]
        }
      ]
    },
    {
      "cell_type": "code",
      "metadata": {
        "id": "usmzrbkL0AkW",
        "colab_type": "code",
        "colab": {
          "base_uri": "https://localhost:8080/",
          "height": 217
        },
        "outputId": "a6620bc5-a098-4063-bdf4-49eabfee4b84"
      },
      "source": [
        "# by the sequence of the num_feas_to_box\n",
        "cut_points_list = [\n",
        "    [4450.0, 6000.0, 7725.0, 9750.0, 12200.0, 14275.0, 17800.0, 22875.0, 29900.0],\n",
        "    [6.03, 7.75, 9.99, 13.99, 16.01, 17.49, 18.99, 20.3, 21.67],\n",
        "    [26004.0, 37225.0, 40560.0, 48156.0, 51669.0, 62851.0, 74143.68, 89092.0, 115275.0],\n",
        "    [2.53, 4.18, 6.45, 9.65, 12.47, 15.62, 19.31, 21.03, 23.87],\n",
        "    [2.0, 3.0, 5.0, 6.0, 15.0, 20.0, 26.0, 30.0, 32.0],\n",
        "    [1098.1, 2838.2, 4632.6, 6577.0, 8841.0, 11465.0, 14833.0, 19816.2, 29139.5], \n",
        "    [10.17, 21.4, 29.7, 42.0, 55.3, 68.0, 80.5, 92.7, 96.5], \n",
        "    [3.0, 4.0, 14.0, 26.0, 36.0, 43.0, 50.0, 60.0, 69.0],\n",
        "    [55, 104, 186, 220, 314, 376, 425, 473, 525]    \n",
        "]\n",
        "\n",
        "cut_points_dict = {}\n",
        "for i in range(len(num_feas_to_box)):\n",
        "  cut_points_dict[num_feas_to_box[i]] = cut_points_list[i]"
      ],
      "execution_count": 82,
      "outputs": [
        {
          "output_type": "error",
          "ename": "NameError",
          "evalue": "ignored",
          "traceback": [
            "\u001b[0;31m---------------------------------------------------------------------------\u001b[0m",
            "\u001b[0;31mNameError\u001b[0m                                 Traceback (most recent call last)",
            "\u001b[0;32m<ipython-input-82-130c05fd7333>\u001b[0m in \u001b[0;36m<module>\u001b[0;34m()\u001b[0m\n\u001b[1;32m     12\u001b[0m \u001b[0;34m\u001b[0m\u001b[0m\n\u001b[1;32m     13\u001b[0m \u001b[0mcut_points_dict\u001b[0m \u001b[0;34m=\u001b[0m \u001b[0;34m{\u001b[0m\u001b[0;34m}\u001b[0m\u001b[0;34m\u001b[0m\u001b[0;34m\u001b[0m\u001b[0m\n\u001b[0;32m---> 14\u001b[0;31m \u001b[0;32mfor\u001b[0m \u001b[0mi\u001b[0m \u001b[0;32min\u001b[0m \u001b[0mrange\u001b[0m\u001b[0;34m(\u001b[0m\u001b[0mlen\u001b[0m\u001b[0;34m(\u001b[0m\u001b[0mnum_feas_to_box\u001b[0m\u001b[0;34m)\u001b[0m\u001b[0;34m)\u001b[0m\u001b[0;34m:\u001b[0m\u001b[0;34m\u001b[0m\u001b[0;34m\u001b[0m\u001b[0m\n\u001b[0m\u001b[1;32m     15\u001b[0m   \u001b[0mcut_points_dict\u001b[0m\u001b[0;34m[\u001b[0m\u001b[0mnum_feas_to_box\u001b[0m\u001b[0;34m[\u001b[0m\u001b[0mi\u001b[0m\u001b[0;34m]\u001b[0m\u001b[0;34m]\u001b[0m \u001b[0;34m=\u001b[0m \u001b[0mcut_points_list\u001b[0m\u001b[0;34m[\u001b[0m\u001b[0mi\u001b[0m\u001b[0;34m]\u001b[0m\u001b[0;34m\u001b[0m\u001b[0;34m\u001b[0m\u001b[0m\n",
            "\u001b[0;31mNameError\u001b[0m: name 'num_feas_to_box' is not defined"
          ]
        }
      ]
    },
    {
      "cell_type": "markdown",
      "metadata": {
        "id": "jvE7rr2P-_d2",
        "colab_type": "text"
      },
      "source": [
        "制作切割点字典：\n",
        "\n",
        "实施分箱："
      ]
    },
    {
      "cell_type": "code",
      "metadata": {
        "id": "p-RtvdQX_CIF",
        "colab_type": "code",
        "colab": {}
      },
      "source": [
        "# 用卡方分箱得到的分割点经行分箱，要注意， 所有数据集中同样的特征区间都必须是相同的\n",
        "def box_col_to_df(df_to_box, col, cut_points):\n",
        "  bins = [-10.0] + cut_points + [10000000.0]\n",
        "  # 如果有重复切割点， duplicates = 'drop'去重\n",
        "  df_to_box[col] = pd.cut(df_to_box[col], bins = bins, include_lowest = True, duplicates = \"drop\",\n",
        "                         labels = range(len(bins) - 1))"
      ],
      "execution_count": 0,
      "outputs": []
    },
    {
      "cell_type": "markdown",
      "metadata": {
        "id": "82J0DV6B_o3R",
        "colab_type": "text"
      },
      "source": [
        "### 5.3.2 对含有缺省值的连续型数值变量分箱\n",
        "\n",
        "对两个比较特殊的变量mths_since_last_delinq’和'mths_since_last_record'，它们也是属于连续型特征变量，但是却存在缺失值，分箱策略是将缺失值作为一类，其他类进行卡方分箱。\n",
        "\n",
        "得到２者的切割点：\n",
        "\n",
        "‘mths_since_last_delinq’:\n",
        "[19.0, 33.0, 38.0, 63.0]\n",
        "\n",
        "'mths_since_last_record':\n",
        "\n",
        "[46.0, 68.0, 79.0, 82.0]"
      ]
    },
    {
      "cell_type": "code",
      "metadata": {
        "id": "G7Bmn5x8_CTW",
        "colab_type": "code",
        "colab": {}
      },
      "source": [
        "# 对 mths_since_last_delinq & mths_since_last_record 分箱编写函数\n",
        "def box_mth_col(df_to_box, mth_col, bins):\n",
        "  bins = [0.0] + [1.0] + bins + [150.0]\n",
        "  df_to_box[mth_col][df_to_box[mth_col].notnull()] = pd.cut(\n",
        "  df_to_box[mth_col][df_to_box[mth_col].notnull()], bins = bins, include_lowest = True, labels = range(len(bins) - 1))\n",
        "  df_to_box[mth_col][df_to_box[mth_col].isnull()] = -1"
      ],
      "execution_count": 0,
      "outputs": []
    },
    {
      "cell_type": "markdown",
      "metadata": {
        "id": "UTFTCsnmApGq",
        "colab_type": "text"
      },
      "source": [
        "将所有变量分箱后的效果如下：\n",
        "\n"
      ]
    },
    {
      "cell_type": "markdown",
      "metadata": {
        "id": "UlD_muH5Aq6l",
        "colab_type": "text"
      },
      "source": [
        "# 6. Model  building\n",
        "\n",
        "经过之前的数据处理和特征工程，得到了分箱后的，规整的数据，并且找到了对评分卡来说，高预测性能的特征。\n",
        "\n",
        "这部分我会建立１个传统的评分卡和１个较复杂解释性较差但预测性较好的随机森林模型。"
      ]
    },
    {
      "cell_type": "markdown",
      "metadata": {
        "id": "Hmyv-E-IAzw3",
        "colab_type": "text"
      },
      "source": [
        "### 6.1 建立评分卡\n",
        "\n",
        "在５．２．２节，得到了每个特征中不同属性的woe值，它的含义是该分类对“好结果”的贡献度。\n",
        "\n",
        "建立评分卡的步骤如下：\n",
        "\n",
        "用woe值替换相应位置的属性值\n",
        "\n",
        "建立逻辑回归模型\n",
        "\n",
        "根据回归结果计分\n",
        "\n",
        "实施："
      ]
    },
    {
      "cell_type": "code",
      "metadata": {
        "id": "YUjV_uyqAnup",
        "colab_type": "code",
        "colab": {
          "base_uri": "https://localhost:8080/",
          "height": 200
        },
        "outputId": "a88e5c56-ff16-472e-ce1c-7dc7a028b94d"
      },
      "source": [
        "# 用WOE 替代相应位置的属性值\n",
        "\"\"\"\n",
        "df_card_train = df_train[valid_feas + [\"loan_status\"]]\n",
        "df_card_test = df_test[valid_feas + [\"loan_status\"]]\n",
        "\n",
        "for i in range(len(valid_feas)):\n",
        "  df_card_train[valid_feas[i]].replace(iv_dict[valid_feas[i]][\"WOE\"][\"WOE\"], inplace = True)\n",
        "  df_card_test[valid_feas[i]].replace(iv_dict[valid_feas[i]][\"WOE\"][\"WOE\"], inplace = True)\n",
        "\"\"\"  \n",
        "# 简历逻辑回归模型\n",
        "from sklearn.linear_model import LogisticRegression\n",
        "LR = LogisticRegression()\n",
        "LR.fit(df_card_train.drop(\"loan_status\", axis = 1), df_card_train[\"loan_status\"])"
      ],
      "execution_count": 89,
      "outputs": [
        {
          "output_type": "error",
          "ename": "NameError",
          "evalue": "ignored",
          "traceback": [
            "\u001b[0;31m---------------------------------------------------------------------------\u001b[0m",
            "\u001b[0;31mNameError\u001b[0m                                 Traceback (most recent call last)",
            "\u001b[0;32m<ipython-input-89-41e26c253734>\u001b[0m in \u001b[0;36m<module>\u001b[0;34m()\u001b[0m\n\u001b[1;32m     10\u001b[0m \u001b[0;32mfrom\u001b[0m \u001b[0msklearn\u001b[0m\u001b[0;34m.\u001b[0m\u001b[0mlinear_model\u001b[0m \u001b[0;32mimport\u001b[0m \u001b[0mLogisticRegression\u001b[0m\u001b[0;34m\u001b[0m\u001b[0;34m\u001b[0m\u001b[0m\n\u001b[1;32m     11\u001b[0m \u001b[0mLR\u001b[0m \u001b[0;34m=\u001b[0m \u001b[0mLogisticRegression\u001b[0m\u001b[0;34m(\u001b[0m\u001b[0;34m)\u001b[0m\u001b[0;34m\u001b[0m\u001b[0;34m\u001b[0m\u001b[0m\n\u001b[0;32m---> 12\u001b[0;31m \u001b[0mLR\u001b[0m\u001b[0;34m.\u001b[0m\u001b[0mfit\u001b[0m\u001b[0;34m(\u001b[0m\u001b[0mdf_card_train\u001b[0m\u001b[0;34m.\u001b[0m\u001b[0mdrop\u001b[0m\u001b[0;34m(\u001b[0m\u001b[0;34m\"loan_status\"\u001b[0m\u001b[0;34m,\u001b[0m \u001b[0maxis\u001b[0m \u001b[0;34m=\u001b[0m \u001b[0;36m1\u001b[0m\u001b[0;34m)\u001b[0m\u001b[0;34m,\u001b[0m \u001b[0mdf_card_train\u001b[0m\u001b[0;34m[\u001b[0m\u001b[0;34m\"loan_status\"\u001b[0m\u001b[0;34m]\u001b[0m\u001b[0;34m)\u001b[0m\u001b[0;34m\u001b[0m\u001b[0;34m\u001b[0m\u001b[0m\n\u001b[0m",
            "\u001b[0;31mNameError\u001b[0m: name 'df_card_train' is not defined"
          ]
        }
      ]
    },
    {
      "cell_type": "markdown",
      "metadata": {
        "id": "yHKcwHdSBuuC",
        "colab_type": "text"
      },
      "source": [
        "评估模型的预测性能"
      ]
    },
    {
      "cell_type": "code",
      "metadata": {
        "id": "XB_7ASHvBwVo",
        "colab_type": "code",
        "colab": {
          "base_uri": "https://localhost:8080/",
          "height": 217
        },
        "outputId": "da1acd03-5515-43cf-ec09-444c495ff358"
      },
      "source": [
        "from sklearn.metrics import roc_auc_score, roc_curve\n",
        "auc = roc_auc_score(LR.predict(df_card_test.drop(\"loan_status\", axis = 1)), df_card_test[\"loan_status\"])\n",
        "fpr, tpr, thre = roc_curve(LR.predict(df_card_test.drop(\"loan_status\", axis = 1)), df_card_test[\"loan_status\"])\n",
        "ks = max(tpr-fpr)"
      ],
      "execution_count": 90,
      "outputs": [
        {
          "output_type": "error",
          "ename": "NameError",
          "evalue": "ignored",
          "traceback": [
            "\u001b[0;31m---------------------------------------------------------------------------\u001b[0m",
            "\u001b[0;31mNameError\u001b[0m                                 Traceback (most recent call last)",
            "\u001b[0;32m<ipython-input-90-bffcf3c0a3dd>\u001b[0m in \u001b[0;36m<module>\u001b[0;34m()\u001b[0m\n\u001b[1;32m      1\u001b[0m \u001b[0;32mfrom\u001b[0m \u001b[0msklearn\u001b[0m\u001b[0;34m.\u001b[0m\u001b[0mmetrics\u001b[0m \u001b[0;32mimport\u001b[0m \u001b[0mroc_auc_score\u001b[0m\u001b[0;34m,\u001b[0m \u001b[0mroc_curve\u001b[0m\u001b[0;34m\u001b[0m\u001b[0;34m\u001b[0m\u001b[0m\n\u001b[0;32m----> 2\u001b[0;31m \u001b[0mauc\u001b[0m \u001b[0;34m=\u001b[0m \u001b[0mroc_auc_score\u001b[0m\u001b[0;34m(\u001b[0m\u001b[0mLR\u001b[0m\u001b[0;34m.\u001b[0m\u001b[0mpredict\u001b[0m\u001b[0;34m(\u001b[0m\u001b[0mdf_card_test\u001b[0m\u001b[0;34m.\u001b[0m\u001b[0mdrop\u001b[0m\u001b[0;34m(\u001b[0m\u001b[0;34m\"loan_status\"\u001b[0m\u001b[0;34m,\u001b[0m \u001b[0maxis\u001b[0m \u001b[0;34m=\u001b[0m \u001b[0;36m1\u001b[0m\u001b[0;34m)\u001b[0m\u001b[0;34m)\u001b[0m\u001b[0;34m,\u001b[0m \u001b[0mdf_card_test\u001b[0m\u001b[0;34m[\u001b[0m\u001b[0;34m\"loan_status\"\u001b[0m\u001b[0;34m]\u001b[0m\u001b[0;34m)\u001b[0m\u001b[0;34m\u001b[0m\u001b[0;34m\u001b[0m\u001b[0m\n\u001b[0m\u001b[1;32m      3\u001b[0m \u001b[0mfpr\u001b[0m\u001b[0;34m,\u001b[0m \u001b[0mtpr\u001b[0m\u001b[0;34m,\u001b[0m \u001b[0mthre\u001b[0m \u001b[0;34m=\u001b[0m \u001b[0mroc_curve\u001b[0m\u001b[0;34m(\u001b[0m\u001b[0mLR\u001b[0m\u001b[0;34m.\u001b[0m\u001b[0mpredict\u001b[0m\u001b[0;34m(\u001b[0m\u001b[0mdf_card_test\u001b[0m\u001b[0;34m.\u001b[0m\u001b[0mdrop\u001b[0m\u001b[0;34m(\u001b[0m\u001b[0;34m\"loan_status\"\u001b[0m\u001b[0;34m,\u001b[0m \u001b[0maxis\u001b[0m \u001b[0;34m=\u001b[0m \u001b[0;36m1\u001b[0m\u001b[0;34m)\u001b[0m\u001b[0;34m)\u001b[0m\u001b[0;34m,\u001b[0m \u001b[0mdf_card_test\u001b[0m\u001b[0;34m[\u001b[0m\u001b[0;34m\"loan_status\"\u001b[0m\u001b[0;34m]\u001b[0m\u001b[0;34m)\u001b[0m\u001b[0;34m\u001b[0m\u001b[0;34m\u001b[0m\u001b[0m\n\u001b[1;32m      4\u001b[0m \u001b[0mks\u001b[0m \u001b[0;34m=\u001b[0m \u001b[0mmax\u001b[0m\u001b[0;34m(\u001b[0m\u001b[0mtpr\u001b[0m\u001b[0;34m-\u001b[0m\u001b[0mfpr\u001b[0m\u001b[0;34m)\u001b[0m\u001b[0;34m\u001b[0m\u001b[0;34m\u001b[0m\u001b[0m\n",
            "\u001b[0;31mNameError\u001b[0m: name 'df_card_test' is not defined"
          ]
        }
      ]
    },
    {
      "cell_type": "code",
      "metadata": {
        "id": "stmA9Zu8Bwnt",
        "colab_type": "code",
        "colab": {}
      },
      "source": [
        "print(\"auc:{}     ks: {}\".format(auc, ks))"
      ],
      "execution_count": 0,
      "outputs": []
    },
    {
      "cell_type": "markdown",
      "metadata": {
        "id": "uwVJ_LorCcNL",
        "colab_type": "text"
      },
      "source": [
        "auc约为0.672,ks值约为0.35,在评分卡建模中，ks值大于0.3，说明这是一个基本可用的模型。\n",
        "\n"
      ]
    },
    {
      "cell_type": "markdown",
      "metadata": {
        "id": "hE9XYSJgCeWl",
        "colab_type": "text"
      },
      "source": [
        "输出评分卡："
      ]
    },
    {
      "cell_type": "code",
      "metadata": {
        "id": "H1nWTlOWBwgo",
        "colab_type": "code",
        "colab": {}
      },
      "source": [
        "# 输出评分卡\n",
        "import statsmodels.api as sm\n",
        "\n",
        "# df_card_train = sm.add_constant(df_card_train)\n",
        "\n",
        "logit = sm.Logit(df_card_train[\"loan_status\"].values, df_card_train.drop(\"loan_status\", axis = 1).values).fit()\n",
        "\n",
        "B = 20/np.log(2)\n",
        "A = 600 + 20 * np.log(1/60)/np.log(2)\n",
        "besescore = round(A - B * logit.params[0] 0)\n",
        "scorecard = []\n",
        "\n",
        "# features, remove(\"loan_status\")\n",
        "for j, i in enumerate(valid_feas + [\"loan_amnt\"]):\n",
        "  woe = iv_dict[i][\"WOE\"][\"WOE\"]\n",
        "  interval = []\n",
        "  scores = []\n",
        "  for key, value in woe.items():\n",
        "    score = round(-(value * logit.params[j] * B))\n",
        "    scores.append(score)\n",
        "    interval.append(key)\n",
        "  data = pd.DataFrame({\"interval\": interval, \"scores\": scores})\n",
        "  scorecard.append(data)\n"
      ],
      "execution_count": 0,
      "outputs": []
    },
    {
      "cell_type": "markdown",
      "metadata": {
        "id": "9gx7-axwDbfk",
        "colab_type": "text"
      },
      "source": [
        "### 6.2 建立随机森林模型\n",
        "\n",
        "评分卡的优势在于简单明了，但是它无法包含更多的信息。随机森林的是以决策树为弱学习模型通过bagging方法构造出的强学习模型，它能容纳更多的信息，同时通过多模型投票，又能很好的避免过拟合的影响，它正好弥补了这一缺陷。这一模型可以作为评分卡的参考。"
      ]
    },
    {
      "cell_type": "code",
      "metadata": {
        "id": "791cAwjBDg_3",
        "colab_type": "code",
        "colab": {
          "base_uri": "https://localhost:8080/",
          "height": 345
        },
        "outputId": "8a8d5dd0-91ce-4eed-b806-4041b3eab62c"
      },
      "source": [
        "# Random Forest\n",
        "from sklearn.ensemble import RandomForestClassifier\n",
        "\n",
        "RF = RandomForestClassifier()\n",
        "RF.fit(df_train.drop(\"loan_status\"), axis = 1).values, df_train[\"loan_status\"].values"
      ],
      "execution_count": 93,
      "outputs": [
        {
          "output_type": "error",
          "ename": "KeyError",
          "evalue": "ignored",
          "traceback": [
            "\u001b[0;31m---------------------------------------------------------------------------\u001b[0m",
            "\u001b[0;31mKeyError\u001b[0m                                  Traceback (most recent call last)",
            "\u001b[0;32m<ipython-input-93-9649d0c1026d>\u001b[0m in \u001b[0;36m<module>\u001b[0;34m()\u001b[0m\n\u001b[1;32m      2\u001b[0m \u001b[0;34m\u001b[0m\u001b[0m\n\u001b[1;32m      3\u001b[0m \u001b[0mRF\u001b[0m \u001b[0;34m=\u001b[0m \u001b[0mRandomForestClassifier\u001b[0m\u001b[0;34m(\u001b[0m\u001b[0;34m)\u001b[0m\u001b[0;34m\u001b[0m\u001b[0;34m\u001b[0m\u001b[0m\n\u001b[0;32m----> 4\u001b[0;31m \u001b[0mRF\u001b[0m\u001b[0;34m.\u001b[0m\u001b[0mfit\u001b[0m\u001b[0;34m(\u001b[0m\u001b[0mdf_train\u001b[0m\u001b[0;34m.\u001b[0m\u001b[0mdrop\u001b[0m\u001b[0;34m(\u001b[0m\u001b[0;34m\"loan_status\"\u001b[0m\u001b[0;34m)\u001b[0m\u001b[0;34m,\u001b[0m \u001b[0maxis\u001b[0m \u001b[0;34m=\u001b[0m \u001b[0;36m1\u001b[0m\u001b[0;34m)\u001b[0m\u001b[0;34m.\u001b[0m\u001b[0mvalues\u001b[0m\u001b[0;34m,\u001b[0m \u001b[0mdf_train\u001b[0m\u001b[0;34m[\u001b[0m\u001b[0;34m\"loan_status\"\u001b[0m\u001b[0;34m]\u001b[0m\u001b[0;34m.\u001b[0m\u001b[0mvalues\u001b[0m\u001b[0;34m\u001b[0m\u001b[0;34m\u001b[0m\u001b[0m\n\u001b[0m",
            "\u001b[0;32m/usr/local/lib/python3.6/dist-packages/pandas/core/frame.py\u001b[0m in \u001b[0;36mdrop\u001b[0;34m(self, labels, axis, index, columns, level, inplace, errors)\u001b[0m\n\u001b[1;32m   3938\u001b[0m                                            \u001b[0mindex\u001b[0m\u001b[0;34m=\u001b[0m\u001b[0mindex\u001b[0m\u001b[0;34m,\u001b[0m \u001b[0mcolumns\u001b[0m\u001b[0;34m=\u001b[0m\u001b[0mcolumns\u001b[0m\u001b[0;34m,\u001b[0m\u001b[0;34m\u001b[0m\u001b[0;34m\u001b[0m\u001b[0m\n\u001b[1;32m   3939\u001b[0m                                            \u001b[0mlevel\u001b[0m\u001b[0;34m=\u001b[0m\u001b[0mlevel\u001b[0m\u001b[0;34m,\u001b[0m \u001b[0minplace\u001b[0m\u001b[0;34m=\u001b[0m\u001b[0minplace\u001b[0m\u001b[0;34m,\u001b[0m\u001b[0;34m\u001b[0m\u001b[0;34m\u001b[0m\u001b[0m\n\u001b[0;32m-> 3940\u001b[0;31m                                            errors=errors)\n\u001b[0m\u001b[1;32m   3941\u001b[0m \u001b[0;34m\u001b[0m\u001b[0m\n\u001b[1;32m   3942\u001b[0m     @rewrite_axis_style_signature('mapper', [('copy', True),\n",
            "\u001b[0;32m/usr/local/lib/python3.6/dist-packages/pandas/core/generic.py\u001b[0m in \u001b[0;36mdrop\u001b[0;34m(self, labels, axis, index, columns, level, inplace, errors)\u001b[0m\n\u001b[1;32m   3778\u001b[0m         \u001b[0;32mfor\u001b[0m \u001b[0maxis\u001b[0m\u001b[0;34m,\u001b[0m \u001b[0mlabels\u001b[0m \u001b[0;32min\u001b[0m \u001b[0maxes\u001b[0m\u001b[0;34m.\u001b[0m\u001b[0mitems\u001b[0m\u001b[0;34m(\u001b[0m\u001b[0;34m)\u001b[0m\u001b[0;34m:\u001b[0m\u001b[0;34m\u001b[0m\u001b[0;34m\u001b[0m\u001b[0m\n\u001b[1;32m   3779\u001b[0m             \u001b[0;32mif\u001b[0m \u001b[0mlabels\u001b[0m \u001b[0;32mis\u001b[0m \u001b[0;32mnot\u001b[0m \u001b[0;32mNone\u001b[0m\u001b[0;34m:\u001b[0m\u001b[0;34m\u001b[0m\u001b[0;34m\u001b[0m\u001b[0m\n\u001b[0;32m-> 3780\u001b[0;31m                 \u001b[0mobj\u001b[0m \u001b[0;34m=\u001b[0m \u001b[0mobj\u001b[0m\u001b[0;34m.\u001b[0m\u001b[0m_drop_axis\u001b[0m\u001b[0;34m(\u001b[0m\u001b[0mlabels\u001b[0m\u001b[0;34m,\u001b[0m \u001b[0maxis\u001b[0m\u001b[0;34m,\u001b[0m \u001b[0mlevel\u001b[0m\u001b[0;34m=\u001b[0m\u001b[0mlevel\u001b[0m\u001b[0;34m,\u001b[0m \u001b[0merrors\u001b[0m\u001b[0;34m=\u001b[0m\u001b[0merrors\u001b[0m\u001b[0;34m)\u001b[0m\u001b[0;34m\u001b[0m\u001b[0;34m\u001b[0m\u001b[0m\n\u001b[0m\u001b[1;32m   3781\u001b[0m \u001b[0;34m\u001b[0m\u001b[0m\n\u001b[1;32m   3782\u001b[0m         \u001b[0;32mif\u001b[0m \u001b[0minplace\u001b[0m\u001b[0;34m:\u001b[0m\u001b[0;34m\u001b[0m\u001b[0;34m\u001b[0m\u001b[0m\n",
            "\u001b[0;32m/usr/local/lib/python3.6/dist-packages/pandas/core/generic.py\u001b[0m in \u001b[0;36m_drop_axis\u001b[0;34m(self, labels, axis, level, errors)\u001b[0m\n\u001b[1;32m   3810\u001b[0m                 \u001b[0mnew_axis\u001b[0m \u001b[0;34m=\u001b[0m \u001b[0maxis\u001b[0m\u001b[0;34m.\u001b[0m\u001b[0mdrop\u001b[0m\u001b[0;34m(\u001b[0m\u001b[0mlabels\u001b[0m\u001b[0;34m,\u001b[0m \u001b[0mlevel\u001b[0m\u001b[0;34m=\u001b[0m\u001b[0mlevel\u001b[0m\u001b[0;34m,\u001b[0m \u001b[0merrors\u001b[0m\u001b[0;34m=\u001b[0m\u001b[0merrors\u001b[0m\u001b[0;34m)\u001b[0m\u001b[0;34m\u001b[0m\u001b[0;34m\u001b[0m\u001b[0m\n\u001b[1;32m   3811\u001b[0m             \u001b[0;32melse\u001b[0m\u001b[0;34m:\u001b[0m\u001b[0;34m\u001b[0m\u001b[0;34m\u001b[0m\u001b[0m\n\u001b[0;32m-> 3812\u001b[0;31m                 \u001b[0mnew_axis\u001b[0m \u001b[0;34m=\u001b[0m \u001b[0maxis\u001b[0m\u001b[0;34m.\u001b[0m\u001b[0mdrop\u001b[0m\u001b[0;34m(\u001b[0m\u001b[0mlabels\u001b[0m\u001b[0;34m,\u001b[0m \u001b[0merrors\u001b[0m\u001b[0;34m=\u001b[0m\u001b[0merrors\u001b[0m\u001b[0;34m)\u001b[0m\u001b[0;34m\u001b[0m\u001b[0;34m\u001b[0m\u001b[0m\n\u001b[0m\u001b[1;32m   3813\u001b[0m             \u001b[0mresult\u001b[0m \u001b[0;34m=\u001b[0m \u001b[0mself\u001b[0m\u001b[0;34m.\u001b[0m\u001b[0mreindex\u001b[0m\u001b[0;34m(\u001b[0m\u001b[0;34m**\u001b[0m\u001b[0;34m{\u001b[0m\u001b[0maxis_name\u001b[0m\u001b[0;34m:\u001b[0m \u001b[0mnew_axis\u001b[0m\u001b[0;34m}\u001b[0m\u001b[0;34m)\u001b[0m\u001b[0;34m\u001b[0m\u001b[0;34m\u001b[0m\u001b[0m\n\u001b[1;32m   3814\u001b[0m \u001b[0;34m\u001b[0m\u001b[0m\n",
            "\u001b[0;32m/usr/local/lib/python3.6/dist-packages/pandas/core/indexes/base.py\u001b[0m in \u001b[0;36mdrop\u001b[0;34m(self, labels, errors)\u001b[0m\n\u001b[1;32m   4963\u001b[0m             \u001b[0;32mif\u001b[0m \u001b[0merrors\u001b[0m \u001b[0;34m!=\u001b[0m \u001b[0;34m'ignore'\u001b[0m\u001b[0;34m:\u001b[0m\u001b[0;34m\u001b[0m\u001b[0;34m\u001b[0m\u001b[0m\n\u001b[1;32m   4964\u001b[0m                 raise KeyError(\n\u001b[0;32m-> 4965\u001b[0;31m                     '{} not found in axis'.format(labels[mask]))\n\u001b[0m\u001b[1;32m   4966\u001b[0m             \u001b[0mindexer\u001b[0m \u001b[0;34m=\u001b[0m \u001b[0mindexer\u001b[0m\u001b[0;34m[\u001b[0m\u001b[0;34m~\u001b[0m\u001b[0mmask\u001b[0m\u001b[0;34m]\u001b[0m\u001b[0;34m\u001b[0m\u001b[0;34m\u001b[0m\u001b[0m\n\u001b[1;32m   4967\u001b[0m         \u001b[0;32mreturn\u001b[0m \u001b[0mself\u001b[0m\u001b[0;34m.\u001b[0m\u001b[0mdelete\u001b[0m\u001b[0;34m(\u001b[0m\u001b[0mindexer\u001b[0m\u001b[0;34m)\u001b[0m\u001b[0;34m\u001b[0m\u001b[0;34m\u001b[0m\u001b[0m\n",
            "\u001b[0;31mKeyError\u001b[0m: \"['loan_status'] not found in axis\""
          ]
        }
      ]
    },
    {
      "cell_type": "markdown",
      "metadata": {
        "id": "6TzjQ1xEEDmu",
        "colab_type": "text"
      },
      "source": [
        "用网格搜索的方式优化逻辑回归森林模型：\n",
        "\n",
        "回归森林模型中，n_estimators表示底层决策树个数，一般来说，树的个数越多，模型的稳定性越强，但是它的增大要受限于计算性能"
      ]
    },
    {
      "cell_type": "code",
      "metadata": {
        "id": "IpTtH2BzDhJ9",
        "colab_type": "code",
        "colab": {
          "base_uri": "https://localhost:8080/",
          "height": 811
        },
        "outputId": "0696be6c-1bf6-48e9-fdeb-2120f0bc95de"
      },
      "source": [
        "# 网格搜索油画模型， 对随机森林中的DT个数经行遍历\n",
        "\n",
        "from sklearn.model_selection import GridSearchCV\n",
        "RF = RandomForestClassifier()\n",
        "parameters = {\"n_estimators\": [5, 10, 20, 35, 50, 100]}\n",
        "\n",
        "gs = GridSearchCV(estimator = RF, param_grid = parameters, scoring = \"roc_auc\", cv = 5, n_jobs = -1)\n",
        "\n",
        "grid_result = gs.fit(df_train.drop(\"loan_status\", axis = 1).values, df_train.loan_status.values)"
      ],
      "execution_count": 94,
      "outputs": [
        {
          "output_type": "error",
          "ename": "ValueError",
          "evalue": "ignored",
          "traceback": [
            "\u001b[0;31m---------------------------------------------------------------------------\u001b[0m",
            "\u001b[0;31m_RemoteTraceback\u001b[0m                          Traceback (most recent call last)",
            "\u001b[0;31m_RemoteTraceback\u001b[0m: \n\"\"\"\nTraceback (most recent call last):\n  File \"/usr/local/lib/python3.6/dist-packages/joblib/externals/loky/process_executor.py\", line 418, in _process_worker\n    r = call_item()\n  File \"/usr/local/lib/python3.6/dist-packages/joblib/externals/loky/process_executor.py\", line 272, in __call__\n    return self.fn(*self.args, **self.kwargs)\n  File \"/usr/local/lib/python3.6/dist-packages/joblib/_parallel_backends.py\", line 567, in __call__\n    return self.func(*args, **kwargs)\n  File \"/usr/local/lib/python3.6/dist-packages/joblib/parallel.py\", line 225, in __call__\n    for func, args, kwargs in self.items]\n  File \"/usr/local/lib/python3.6/dist-packages/joblib/parallel.py\", line 225, in <listcomp>\n    for func, args, kwargs in self.items]\n  File \"/usr/local/lib/python3.6/dist-packages/sklearn/model_selection/_validation.py\", line 516, in _fit_and_score\n    estimator.fit(X_train, y_train, **fit_params)\n  File \"/usr/local/lib/python3.6/dist-packages/sklearn/ensemble/forest.py\", line 249, in fit\n    X = check_array(X, accept_sparse=\"csc\", dtype=DTYPE)\n  File \"/usr/local/lib/python3.6/dist-packages/sklearn/utils/validation.py\", line 496, in check_array\n    array = np.asarray(array, dtype=dtype, order=order)\n  File \"/usr/local/lib/python3.6/dist-packages/numpy/core/numeric.py\", line 538, in asarray\n    return array(a, dtype, copy=False, order=order)\nValueError: could not convert string to float: 'Alpena Public Schools'\n\"\"\"",
            "\nThe above exception was the direct cause of the following exception:\n",
            "\u001b[0;31mValueError\u001b[0m                                Traceback (most recent call last)",
            "\u001b[0;32m<ipython-input-94-fe66ca4a9dd6>\u001b[0m in \u001b[0;36m<module>\u001b[0;34m()\u001b[0m\n\u001b[1;32m      6\u001b[0m \u001b[0mgs\u001b[0m \u001b[0;34m=\u001b[0m \u001b[0mGridSearchCV\u001b[0m\u001b[0;34m(\u001b[0m\u001b[0mestimator\u001b[0m \u001b[0;34m=\u001b[0m \u001b[0mRF\u001b[0m\u001b[0;34m,\u001b[0m \u001b[0mparam_grid\u001b[0m \u001b[0;34m=\u001b[0m \u001b[0mparameters\u001b[0m\u001b[0;34m,\u001b[0m \u001b[0mscoring\u001b[0m \u001b[0;34m=\u001b[0m \u001b[0;34m\"roc_auc\"\u001b[0m\u001b[0;34m,\u001b[0m \u001b[0mcv\u001b[0m \u001b[0;34m=\u001b[0m \u001b[0;36m5\u001b[0m\u001b[0;34m,\u001b[0m \u001b[0mn_jobs\u001b[0m \u001b[0;34m=\u001b[0m \u001b[0;34m-\u001b[0m\u001b[0;36m1\u001b[0m\u001b[0;34m)\u001b[0m\u001b[0;34m\u001b[0m\u001b[0;34m\u001b[0m\u001b[0m\n\u001b[1;32m      7\u001b[0m \u001b[0;34m\u001b[0m\u001b[0m\n\u001b[0;32m----> 8\u001b[0;31m \u001b[0mgrid_result\u001b[0m \u001b[0;34m=\u001b[0m \u001b[0mgs\u001b[0m\u001b[0;34m.\u001b[0m\u001b[0mfit\u001b[0m\u001b[0;34m(\u001b[0m\u001b[0mdf_train\u001b[0m\u001b[0;34m.\u001b[0m\u001b[0mdrop\u001b[0m\u001b[0;34m(\u001b[0m\u001b[0;34m\"loan_status\"\u001b[0m\u001b[0;34m,\u001b[0m \u001b[0maxis\u001b[0m \u001b[0;34m=\u001b[0m \u001b[0;36m1\u001b[0m\u001b[0;34m)\u001b[0m\u001b[0;34m.\u001b[0m\u001b[0mvalues\u001b[0m\u001b[0;34m,\u001b[0m \u001b[0mdf_train\u001b[0m\u001b[0;34m.\u001b[0m\u001b[0mloan_status\u001b[0m\u001b[0;34m.\u001b[0m\u001b[0mvalues\u001b[0m\u001b[0;34m)\u001b[0m\u001b[0;34m\u001b[0m\u001b[0;34m\u001b[0m\u001b[0m\n\u001b[0m",
            "\u001b[0;32m/usr/local/lib/python3.6/dist-packages/sklearn/model_selection/_search.py\u001b[0m in \u001b[0;36mfit\u001b[0;34m(self, X, y, groups, **fit_params)\u001b[0m\n\u001b[1;32m    686\u001b[0m                 \u001b[0;32mreturn\u001b[0m \u001b[0mresults\u001b[0m\u001b[0;34m\u001b[0m\u001b[0;34m\u001b[0m\u001b[0m\n\u001b[1;32m    687\u001b[0m \u001b[0;34m\u001b[0m\u001b[0m\n\u001b[0;32m--> 688\u001b[0;31m             \u001b[0mself\u001b[0m\u001b[0;34m.\u001b[0m\u001b[0m_run_search\u001b[0m\u001b[0;34m(\u001b[0m\u001b[0mevaluate_candidates\u001b[0m\u001b[0;34m)\u001b[0m\u001b[0;34m\u001b[0m\u001b[0;34m\u001b[0m\u001b[0m\n\u001b[0m\u001b[1;32m    689\u001b[0m \u001b[0;34m\u001b[0m\u001b[0m\n\u001b[1;32m    690\u001b[0m         \u001b[0;31m# For multi-metric evaluation, store the best_index_, best_params_ and\u001b[0m\u001b[0;34m\u001b[0m\u001b[0;34m\u001b[0m\u001b[0;34m\u001b[0m\u001b[0m\n",
            "\u001b[0;32m/usr/local/lib/python3.6/dist-packages/sklearn/model_selection/_search.py\u001b[0m in \u001b[0;36m_run_search\u001b[0;34m(self, evaluate_candidates)\u001b[0m\n\u001b[1;32m   1147\u001b[0m     \u001b[0;32mdef\u001b[0m \u001b[0m_run_search\u001b[0m\u001b[0;34m(\u001b[0m\u001b[0mself\u001b[0m\u001b[0;34m,\u001b[0m \u001b[0mevaluate_candidates\u001b[0m\u001b[0;34m)\u001b[0m\u001b[0;34m:\u001b[0m\u001b[0;34m\u001b[0m\u001b[0;34m\u001b[0m\u001b[0m\n\u001b[1;32m   1148\u001b[0m         \u001b[0;34m\"\"\"Search all candidates in param_grid\"\"\"\u001b[0m\u001b[0;34m\u001b[0m\u001b[0;34m\u001b[0m\u001b[0m\n\u001b[0;32m-> 1149\u001b[0;31m         \u001b[0mevaluate_candidates\u001b[0m\u001b[0;34m(\u001b[0m\u001b[0mParameterGrid\u001b[0m\u001b[0;34m(\u001b[0m\u001b[0mself\u001b[0m\u001b[0;34m.\u001b[0m\u001b[0mparam_grid\u001b[0m\u001b[0;34m)\u001b[0m\u001b[0;34m)\u001b[0m\u001b[0;34m\u001b[0m\u001b[0;34m\u001b[0m\u001b[0m\n\u001b[0m\u001b[1;32m   1150\u001b[0m \u001b[0;34m\u001b[0m\u001b[0m\n\u001b[1;32m   1151\u001b[0m \u001b[0;34m\u001b[0m\u001b[0m\n",
            "\u001b[0;32m/usr/local/lib/python3.6/dist-packages/sklearn/model_selection/_search.py\u001b[0m in \u001b[0;36mevaluate_candidates\u001b[0;34m(candidate_params)\u001b[0m\n\u001b[1;32m    665\u001b[0m                                \u001b[0;32mfor\u001b[0m \u001b[0mparameters\u001b[0m\u001b[0;34m,\u001b[0m \u001b[0;34m(\u001b[0m\u001b[0mtrain\u001b[0m\u001b[0;34m,\u001b[0m \u001b[0mtest\u001b[0m\u001b[0;34m)\u001b[0m\u001b[0;34m\u001b[0m\u001b[0;34m\u001b[0m\u001b[0m\n\u001b[1;32m    666\u001b[0m                                in product(candidate_params,\n\u001b[0;32m--> 667\u001b[0;31m                                           cv.split(X, y, groups)))\n\u001b[0m\u001b[1;32m    668\u001b[0m \u001b[0;34m\u001b[0m\u001b[0m\n\u001b[1;32m    669\u001b[0m                 \u001b[0;32mif\u001b[0m \u001b[0mlen\u001b[0m\u001b[0;34m(\u001b[0m\u001b[0mout\u001b[0m\u001b[0;34m)\u001b[0m \u001b[0;34m<\u001b[0m \u001b[0;36m1\u001b[0m\u001b[0;34m:\u001b[0m\u001b[0;34m\u001b[0m\u001b[0;34m\u001b[0m\u001b[0m\n",
            "\u001b[0;32m/usr/local/lib/python3.6/dist-packages/joblib/parallel.py\u001b[0m in \u001b[0;36m__call__\u001b[0;34m(self, iterable)\u001b[0m\n\u001b[1;32m    932\u001b[0m \u001b[0;34m\u001b[0m\u001b[0m\n\u001b[1;32m    933\u001b[0m             \u001b[0;32mwith\u001b[0m \u001b[0mself\u001b[0m\u001b[0;34m.\u001b[0m\u001b[0m_backend\u001b[0m\u001b[0;34m.\u001b[0m\u001b[0mretrieval_context\u001b[0m\u001b[0;34m(\u001b[0m\u001b[0;34m)\u001b[0m\u001b[0;34m:\u001b[0m\u001b[0;34m\u001b[0m\u001b[0;34m\u001b[0m\u001b[0m\n\u001b[0;32m--> 934\u001b[0;31m                 \u001b[0mself\u001b[0m\u001b[0;34m.\u001b[0m\u001b[0mretrieve\u001b[0m\u001b[0;34m(\u001b[0m\u001b[0;34m)\u001b[0m\u001b[0;34m\u001b[0m\u001b[0;34m\u001b[0m\u001b[0m\n\u001b[0m\u001b[1;32m    935\u001b[0m             \u001b[0;31m# Make sure that we get a last message telling us we are done\u001b[0m\u001b[0;34m\u001b[0m\u001b[0;34m\u001b[0m\u001b[0;34m\u001b[0m\u001b[0m\n\u001b[1;32m    936\u001b[0m             \u001b[0melapsed_time\u001b[0m \u001b[0;34m=\u001b[0m \u001b[0mtime\u001b[0m\u001b[0;34m.\u001b[0m\u001b[0mtime\u001b[0m\u001b[0;34m(\u001b[0m\u001b[0;34m)\u001b[0m \u001b[0;34m-\u001b[0m \u001b[0mself\u001b[0m\u001b[0;34m.\u001b[0m\u001b[0m_start_time\u001b[0m\u001b[0;34m\u001b[0m\u001b[0;34m\u001b[0m\u001b[0m\n",
            "\u001b[0;32m/usr/local/lib/python3.6/dist-packages/joblib/parallel.py\u001b[0m in \u001b[0;36mretrieve\u001b[0;34m(self)\u001b[0m\n\u001b[1;32m    831\u001b[0m             \u001b[0;32mtry\u001b[0m\u001b[0;34m:\u001b[0m\u001b[0;34m\u001b[0m\u001b[0;34m\u001b[0m\u001b[0m\n\u001b[1;32m    832\u001b[0m                 \u001b[0;32mif\u001b[0m \u001b[0mgetattr\u001b[0m\u001b[0;34m(\u001b[0m\u001b[0mself\u001b[0m\u001b[0;34m.\u001b[0m\u001b[0m_backend\u001b[0m\u001b[0;34m,\u001b[0m \u001b[0;34m'supports_timeout'\u001b[0m\u001b[0;34m,\u001b[0m \u001b[0;32mFalse\u001b[0m\u001b[0;34m)\u001b[0m\u001b[0;34m:\u001b[0m\u001b[0;34m\u001b[0m\u001b[0;34m\u001b[0m\u001b[0m\n\u001b[0;32m--> 833\u001b[0;31m                     \u001b[0mself\u001b[0m\u001b[0;34m.\u001b[0m\u001b[0m_output\u001b[0m\u001b[0;34m.\u001b[0m\u001b[0mextend\u001b[0m\u001b[0;34m(\u001b[0m\u001b[0mjob\u001b[0m\u001b[0;34m.\u001b[0m\u001b[0mget\u001b[0m\u001b[0;34m(\u001b[0m\u001b[0mtimeout\u001b[0m\u001b[0;34m=\u001b[0m\u001b[0mself\u001b[0m\u001b[0;34m.\u001b[0m\u001b[0mtimeout\u001b[0m\u001b[0;34m)\u001b[0m\u001b[0;34m)\u001b[0m\u001b[0;34m\u001b[0m\u001b[0;34m\u001b[0m\u001b[0m\n\u001b[0m\u001b[1;32m    834\u001b[0m                 \u001b[0;32melse\u001b[0m\u001b[0;34m:\u001b[0m\u001b[0;34m\u001b[0m\u001b[0;34m\u001b[0m\u001b[0m\n\u001b[1;32m    835\u001b[0m                     \u001b[0mself\u001b[0m\u001b[0;34m.\u001b[0m\u001b[0m_output\u001b[0m\u001b[0;34m.\u001b[0m\u001b[0mextend\u001b[0m\u001b[0;34m(\u001b[0m\u001b[0mjob\u001b[0m\u001b[0;34m.\u001b[0m\u001b[0mget\u001b[0m\u001b[0;34m(\u001b[0m\u001b[0;34m)\u001b[0m\u001b[0;34m)\u001b[0m\u001b[0;34m\u001b[0m\u001b[0;34m\u001b[0m\u001b[0m\n",
            "\u001b[0;32m/usr/local/lib/python3.6/dist-packages/joblib/_parallel_backends.py\u001b[0m in \u001b[0;36mwrap_future_result\u001b[0;34m(future, timeout)\u001b[0m\n\u001b[1;32m    519\u001b[0m         AsyncResults.get from multiprocessing.\"\"\"\n\u001b[1;32m    520\u001b[0m         \u001b[0;32mtry\u001b[0m\u001b[0;34m:\u001b[0m\u001b[0;34m\u001b[0m\u001b[0;34m\u001b[0m\u001b[0m\n\u001b[0;32m--> 521\u001b[0;31m             \u001b[0;32mreturn\u001b[0m \u001b[0mfuture\u001b[0m\u001b[0;34m.\u001b[0m\u001b[0mresult\u001b[0m\u001b[0;34m(\u001b[0m\u001b[0mtimeout\u001b[0m\u001b[0;34m=\u001b[0m\u001b[0mtimeout\u001b[0m\u001b[0;34m)\u001b[0m\u001b[0;34m\u001b[0m\u001b[0;34m\u001b[0m\u001b[0m\n\u001b[0m\u001b[1;32m    522\u001b[0m         \u001b[0;32mexcept\u001b[0m \u001b[0mLokyTimeoutError\u001b[0m\u001b[0;34m:\u001b[0m\u001b[0;34m\u001b[0m\u001b[0;34m\u001b[0m\u001b[0m\n\u001b[1;32m    523\u001b[0m             \u001b[0;32mraise\u001b[0m \u001b[0mTimeoutError\u001b[0m\u001b[0;34m(\u001b[0m\u001b[0;34m)\u001b[0m\u001b[0;34m\u001b[0m\u001b[0;34m\u001b[0m\u001b[0m\n",
            "\u001b[0;32m/usr/lib/python3.6/concurrent/futures/_base.py\u001b[0m in \u001b[0;36mresult\u001b[0;34m(self, timeout)\u001b[0m\n\u001b[1;32m    430\u001b[0m                 \u001b[0;32mraise\u001b[0m \u001b[0mCancelledError\u001b[0m\u001b[0;34m(\u001b[0m\u001b[0;34m)\u001b[0m\u001b[0;34m\u001b[0m\u001b[0;34m\u001b[0m\u001b[0m\n\u001b[1;32m    431\u001b[0m             \u001b[0;32melif\u001b[0m \u001b[0mself\u001b[0m\u001b[0;34m.\u001b[0m\u001b[0m_state\u001b[0m \u001b[0;34m==\u001b[0m \u001b[0mFINISHED\u001b[0m\u001b[0;34m:\u001b[0m\u001b[0;34m\u001b[0m\u001b[0;34m\u001b[0m\u001b[0m\n\u001b[0;32m--> 432\u001b[0;31m                 \u001b[0;32mreturn\u001b[0m \u001b[0mself\u001b[0m\u001b[0;34m.\u001b[0m\u001b[0m__get_result\u001b[0m\u001b[0;34m(\u001b[0m\u001b[0;34m)\u001b[0m\u001b[0;34m\u001b[0m\u001b[0;34m\u001b[0m\u001b[0m\n\u001b[0m\u001b[1;32m    433\u001b[0m             \u001b[0;32melse\u001b[0m\u001b[0;34m:\u001b[0m\u001b[0;34m\u001b[0m\u001b[0;34m\u001b[0m\u001b[0m\n\u001b[1;32m    434\u001b[0m                 \u001b[0;32mraise\u001b[0m \u001b[0mTimeoutError\u001b[0m\u001b[0;34m(\u001b[0m\u001b[0;34m)\u001b[0m\u001b[0;34m\u001b[0m\u001b[0;34m\u001b[0m\u001b[0m\n",
            "\u001b[0;32m/usr/lib/python3.6/concurrent/futures/_base.py\u001b[0m in \u001b[0;36m__get_result\u001b[0;34m(self)\u001b[0m\n\u001b[1;32m    382\u001b[0m     \u001b[0;32mdef\u001b[0m \u001b[0m__get_result\u001b[0m\u001b[0;34m(\u001b[0m\u001b[0mself\u001b[0m\u001b[0;34m)\u001b[0m\u001b[0;34m:\u001b[0m\u001b[0;34m\u001b[0m\u001b[0;34m\u001b[0m\u001b[0m\n\u001b[1;32m    383\u001b[0m         \u001b[0;32mif\u001b[0m \u001b[0mself\u001b[0m\u001b[0;34m.\u001b[0m\u001b[0m_exception\u001b[0m\u001b[0;34m:\u001b[0m\u001b[0;34m\u001b[0m\u001b[0;34m\u001b[0m\u001b[0m\n\u001b[0;32m--> 384\u001b[0;31m             \u001b[0;32mraise\u001b[0m \u001b[0mself\u001b[0m\u001b[0;34m.\u001b[0m\u001b[0m_exception\u001b[0m\u001b[0;34m\u001b[0m\u001b[0;34m\u001b[0m\u001b[0m\n\u001b[0m\u001b[1;32m    385\u001b[0m         \u001b[0;32melse\u001b[0m\u001b[0;34m:\u001b[0m\u001b[0;34m\u001b[0m\u001b[0;34m\u001b[0m\u001b[0m\n\u001b[1;32m    386\u001b[0m             \u001b[0;32mreturn\u001b[0m \u001b[0mself\u001b[0m\u001b[0;34m.\u001b[0m\u001b[0m_result\u001b[0m\u001b[0;34m\u001b[0m\u001b[0;34m\u001b[0m\u001b[0m\n",
            "\u001b[0;31mValueError\u001b[0m: could not convert string to float: 'Alpena Public Schools'"
          ]
        }
      ]
    },
    {
      "cell_type": "code",
      "metadata": {
        "id": "NtF2uU9fDhaQ",
        "colab_type": "code",
        "colab": {}
      },
      "source": [
        ""
      ],
      "execution_count": 0,
      "outputs": []
    },
    {
      "cell_type": "markdown",
      "metadata": {
        "id": "v49Ths_wEuGx",
        "colab_type": "text"
      },
      "source": [
        "# 7. conclusion\n",
        "在评估小微企业信贷风险时，个人信用评分只是其中一个环节，还应该综合考虑借贷人的经营情况,出借方的风险偏好等其他因素，构建风控策略和风控系统。"
      ]
    },
    {
      "cell_type": "markdown",
      "metadata": {
        "id": "9inHVvelkndc",
        "colab_type": "text"
      },
      "source": [
        "## useful reference:\n",
        "URL_1 = 'https://blog.csdn.net/zs15321583801/article/details/89485951' **(example)**\n",
        "\n",
        "URL_2 = \"https://www.jianshu.com/p/a8037a38e219\"\n",
        "\n",
        "URL_3 = \"https://zhuanlan.zhihu.com/p/21550547\""
      ]
    },
    {
      "cell_type": "markdown",
      "metadata": {
        "id": "ak4vPJKDBtxp",
        "colab_type": "text"
      },
      "source": [
        ""
      ]
    },
    {
      "cell_type": "code",
      "metadata": {
        "id": "z2UbK4O5ktOL",
        "colab_type": "code",
        "colab": {}
      },
      "source": [
        ""
      ],
      "execution_count": 0,
      "outputs": []
    }
  ]
}
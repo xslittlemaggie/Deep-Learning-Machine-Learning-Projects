{
  "nbformat": 4,
  "nbformat_minor": 0,
  "metadata": {
    "colab": {
      "name": "How to import data from Kaggle & organize train/valid/test folders.ipynb",
      "version": "0.3.2",
      "provenance": [],
      "include_colab_link": true
    },
    "kernelspec": {
      "name": "python3",
      "display_name": "Python 3"
    }
  },
  "cells": [
    {
      "cell_type": "markdown",
      "metadata": {
        "id": "view-in-github",
        "colab_type": "text"
      },
      "source": [
        "<a href=\"https://colab.research.google.com/github/xslittlemaggie/Deep-Learning-Machine-Learning-Projects/blob/master/How_to_import_data_from_Kaggle_%26_organize_train_valid_test_folders.ipynb\" target=\"_parent\"><img src=\"https://colab.research.google.com/assets/colab-badge.svg\" alt=\"Open In Colab\"/></a>"
      ]
    },
    {
      "cell_type": "code",
      "metadata": {
        "id": "O0dd1Uxtn6Bi",
        "colab_type": "code",
        "colab": {}
      },
      "source": [
        "import random\n",
        "import urllib.request\n",
        "import os\n",
        "import cv2\n",
        "import glob"
      ],
      "execution_count": 0,
      "outputs": []
    },
    {
      "cell_type": "code",
      "metadata": {
        "id": "r_uCVhe3nrD2",
        "colab_type": "code",
        "colab": {}
      },
      "source": [
        "def load_data_from_kaggle():\n",
        "  os.environ['KAGGLE_USERNAME'] = \"liulihuang\" # username from the json file \n",
        "  os.environ['KAGGLE_KEY'] = \"7adfc6c4e6c5eec087031fbb7397aee5\" # key from the json file (This key is incorrect)\n",
        "  \n",
        "  !pip install -q kaggle\n",
        "  !kaggle datasets list -s dogs-vs-cats  # It will list the 20 datasets including \"dogs-vs-cats\" from kaggle\n",
        "  !kaggle datasets download -d biaiscience/dogs-vs-cats -p /content/\n",
        "  !unzip -q /content/dogs-vs-cats.zip -d /content/dogs-vs-cats/\n",
        "  !unzip -q /content/dogs-vs-cats/train.zip -d /content/dogs-vs-cats/\n",
        "  !unzip -q /content/dogs-vs-cats/test.zip -d /content/dogs-vs-cats/\n",
        "  \n",
        "  # splits pictures into cats and dogs files for train dataset\n",
        "  os.mkdir(\"/content/dogs-vs-cats/train/cats\")\n",
        "  os.mkdir(\"/content/dogs-vs-cats/train/dogs\")\n",
        "\n",
        "  # create validation file to store validation dataset\n",
        "  os.mkdir(\"/content/dogs-vs-cats/validation\")\n",
        "\n",
        "  os.mkdir(\"/content/dogs-vs-cats/validation/cats\")\n",
        "  os.mkdir(\"/content/dogs-vs-cats/validation/dogs\")\n",
        "\n",
        "  # create subfile from test to store testing dataset\n",
        "  os.mkdir(\"/content/dogs-vs-cats/test/unlabelled\")\n",
        "  \n",
        "  # move all pictures labelled \"cat\" to \"/cat/s\" file and all picture labelled \"dog\" to \"/dogs/\" file in training\n",
        "  pathes = glob.glob('/content/dogs-vs-cats/train/*.jpg')\n",
        "  for path in pathes:\n",
        "    head, tail = os.path.split(path)\n",
        "    if tail[:3] == \"cat\":\n",
        "      new_path = head + \"/cats/\" + tail  \n",
        "    else:\n",
        "      new_path = head + \"/dogs/\" + tail\n",
        "    os.rename(path, new_path)\n",
        "    \n",
        "  # move all pictures from testing file to test subfile \"/unlabelled/\" for predicting later\n",
        "  pathes = glob.glob('/content/dogs-vs-cats/test/*.jpg')\n",
        "  for path in pathes:\n",
        "    head, tail = os.path.split(path)\n",
        "    new_path = head + \"/unlabelled/\" + tail\n",
        "    os.rename(path, new_path)\n",
        "    \n",
        "  # cats in validation data\n",
        "  cats_pathes = glob.glob('/content/dogs-vs-cats/train/cats/*.jpg') \n",
        "  val_cats_idx = random.sample((range(12500)), k = 1250)\n",
        "  val_cats = [cats_pathes[idx] for idx in val_cats_idx]\n",
        "\n",
        "  for path in val_cats:\n",
        "    head, tail = os.path.split(path)  \n",
        "    new_path = head[:-10] + \"validation/cats/\" + tail \n",
        "    os.rename(path, new_path)  \n",
        "\n",
        "  # dogs in validation data\n",
        "  dogs_pathes = glob.glob('/content/dogs-vs-cats/train/dogs/*.jpg') \n",
        "  val_dogs_idx = random.sample((range(12500)), k = 1250)\n",
        "  val_dogs = [dogs_pathes[idx] for idx in val_dogs_idx]\n",
        "\n",
        "  for path in val_dogs:\n",
        "    head, tail = os.path.split(path)  \n",
        "    new_path = head[:-10] + \"validation/dogs/\" + tail \n",
        "    os.rename(path, new_path)  \n",
        "    \n",
        "  DATADIR_train = \"/content/dogs-vs-cats/train\"\n",
        "  DATADIR_validation = \"/content/dogs-vs-cats/validation\"\n",
        "  DATADIR_test = \"/content/dogs-vs-cats/test\"\n",
        "  \n",
        "  # train file\n",
        "  train_dogs_dir = os.path.join(DATADIR_train, \"dogs\")\n",
        "  train_cats_dir = os.path.join(DATADIR_train, \"cats\")\n",
        "  train_dog_fnames = os.listdir(train_dogs_dir)\n",
        "  train_cat_fnames = os.listdir(train_cats_dir)\n",
        "\n",
        "  print(\"Images from Training file:\")\n",
        "  print(\"cats:\", train_cat_fnames[:5])\n",
        "  print(\"dogs:\", train_dog_fnames[:5])\n",
        "  print('total training cat images :', len(train_cat_fnames))\n",
        "  print('total training dog images :', len(train_dog_fnames ))\n",
        "  print()\n",
        "\n",
        "  # validation file\n",
        "  validation_dogs_dir = os.path.join(DATADIR_validation, \"dogs\")\n",
        "  validation_cats_dir = os.path.join(DATADIR_validation, \"cats\")\n",
        "  validation_dog_fnames = os.listdir(validation_dogs_dir)\n",
        "  validation_cat_fnames = os.listdir(validation_cats_dir)\n",
        "\n",
        "  print(\"Images from validation file:\")\n",
        "  print(validation_cat_fnames[:5])\n",
        "  print(validation_dog_fnames[:5])\n",
        "  print('total validation cat images :', len(validation_cat_fnames))\n",
        "  print('total validation dog images :', len(validation_dog_fnames ))\n",
        "  print()\n",
        "\n",
        "  # test file\n",
        "  #pathes_test = glob.glob('/content/dogs-vs-cats/test/*.jpg')\n",
        "  test_dir = os.path.join(DATADIR_test, \"unlabelled\")\n",
        "  test_fnames = os.listdir(test_dir)\n",
        "  print(\"Images from test file:\")\n",
        "  print(test_fnames[:5])\n",
        "  print('total test images :', len(test_fnames))"
      ],
      "execution_count": 0,
      "outputs": []
    },
    {
      "cell_type": "code",
      "metadata": {
        "id": "-deWv_bln1Yw",
        "colab_type": "code",
        "colab": {}
      },
      "source": [
        "load_data_from_kaggle()"
      ],
      "execution_count": 0,
      "outputs": []
    },
    {
      "cell_type": "code",
      "metadata": {
        "id": "0nTQnPLzoRiG",
        "colab_type": "code",
        "colab": {}
      },
      "source": [
        ""
      ],
      "execution_count": 0,
      "outputs": []
    }
  ]
}
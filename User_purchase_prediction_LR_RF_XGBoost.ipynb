{
  "nbformat": 4,
  "nbformat_minor": 0,
  "metadata": {
    "colab": {
      "name": "Copy of Loan",
      "provenance": [],
      "collapsed_sections": [],
      "toc_visible": true,
      "include_colab_link": true
    },
    "kernelspec": {
      "name": "python3",
      "display_name": "Python 3"
    },
    "accelerator": "GPU"
  },
  "cells": [
    {
      "cell_type": "markdown",
      "metadata": {
        "id": "view-in-github",
        "colab_type": "text"
      },
      "source": [
        "<a href=\"https://colab.research.google.com/github/xslittlemaggie/Machine-Learning-Projects/blob/master/User_purchase_prediction_LR_RF_XGBoost.ipynb\" target=\"_parent\"><img src=\"https://colab.research.google.com/assets/colab-badge.svg\" alt=\"Open In Colab\"/></a>"
      ]
    },
    {
      "cell_type": "markdown",
      "metadata": {
        "id": "159KG_EtG9LA",
        "colab_type": "text"
      },
      "source": [
        "<h1><center> LendingClub Loan Data Analysis & Model Building Report </center></h1>"
      ]
    },
    {
      "cell_type": "markdown",
      "metadata": {
        "id": "Akc2wpG0MVBe",
        "colab_type": "text"
      },
      "source": [
        "<h1>Table of contents</h1>\n",
        "\n",
        "<div class=\"alert alert-block alert-info\" style=\"margin-top: 24px\">\n",
        "    <ol>\n",
        "        <li><a href=\"#purpose of the study\">Project Understanding</a></li>\n",
        "        <li><a href=\"#loading_data\">Data Loading</a></li>\n",
        "        <li><a href=\"#features exploratory\">Data Exploratory</a></li>\n",
        "        <li><a href=\"#data preprocessing\">Data Preprocessing & Feature Engineering</a></li>\n",
        "        <li><a href=\"#model building\">Model Buildings</a></li>\n",
        "        <li><a href=\"#conclusion\">Conclusion</a></li>\n",
        "    </ol>\n",
        "</div>\n",
        "<br>\n",
        "<hr>"
      ]
    },
    {
      "cell_type": "markdown",
      "metadata": {
        "id": "byy2FDTico1k",
        "colab_type": "text"
      },
      "source": [
        "# 0: Import libraries"
      ]
    },
    {
      "cell_type": "code",
      "metadata": {
        "id": "_XMWP5dFt7OP",
        "colab_type": "code",
        "colab": {}
      },
      "source": [
        "import pandas as pd\n",
        "import numpy as np\n",
        "import matplotlib.pyplot as plt\n",
        "import seaborn as sns\n",
        "from scipy.stats import mode\n"
      ],
      "execution_count": 0,
      "outputs": []
    },
    {
      "cell_type": "markdown",
      "metadata": {
        "id": "yzfMtx8OgePX",
        "colab_type": "text"
      },
      "source": [
        "# 1. Project Understanding\n",
        "\n",
        "**1. The Purpose：**\n",
        "\n",
        "The purpose of this project is to analyze the features related to the loan risks and create classification models to detect the fraud in loan. \n",
        "\n",
        "**2. The Data:**\n",
        "\n",
        "The LendingClub dataset loaded from Kaggle competition will be used for this project. \n",
        "\n",
        "The raw dataset includes 42538 samples and 145 features, which is large enough for data analysis. \n",
        "\n",
        "**3. The models:**\n",
        "\n",
        "(1). Logistic Regression: Easy understanding\n",
        "\n",
        "(2). Decision Tree: Easy understanding and comprehensible\n",
        "\n",
        "(3). Random Forest: Complex, could be more accurate, but less comprehensible\n",
        "\n",
        "(4). xgboosting: One of the boosting ensembling method"
      ]
    },
    {
      "cell_type": "markdown",
      "metadata": {
        "id": "Ua-1kaIBgLXG",
        "colab_type": "text"
      },
      "source": [
        "# 2. Load Local dataset cleaned with SQL\n",
        "\n",
        "Each of the training and testing datasets include 3 files: e.g. \n",
        "- The train_df_info : the general features extracted from SLQ\n",
        "- The train_first_touch_info: the features about the first touch, activity type\n",
        "- The train_last_touch_info: the features about the last touch, activity type"
      ]
    },
    {
      "cell_type": "code",
      "metadata": {
        "id": "atM2scKgfogn",
        "colab_type": "code",
        "colab": {}
      },
      "source": [
        "train = pd.read_csv(\"/content/train_data.csv\")\n",
        "test = pd.read_csv(\"/content/test_data.csv\")"
      ],
      "execution_count": 0,
      "outputs": []
    },
    {
      "cell_type": "code",
      "metadata": {
        "id": "eQniDuzkiyti",
        "colab_type": "code",
        "colab": {
          "base_uri": "https://localhost:8080/",
          "height": 222
        },
        "outputId": "d5f4aead-8b3c-43aa-f16e-2bddd585ed78"
      },
      "source": [
        "train.head()"
      ],
      "execution_count": 98,
      "outputs": [
        {
          "output_type": "execute_result",
          "data": {
            "text/html": [
              "<div>\n",
              "<style scoped>\n",
              "    .dataframe tbody tr th:only-of-type {\n",
              "        vertical-align: middle;\n",
              "    }\n",
              "\n",
              "    .dataframe tbody tr th {\n",
              "        vertical-align: top;\n",
              "    }\n",
              "\n",
              "    .dataframe thead th {\n",
              "        text-align: right;\n",
              "    }\n",
              "</style>\n",
              "<table border=\"1\" class=\"dataframe\">\n",
              "  <thead>\n",
              "    <tr style=\"text-align: right;\">\n",
              "      <th></th>\n",
              "      <th>user_id</th>\n",
              "      <th>total_search_times</th>\n",
              "      <th>unique_days</th>\n",
              "      <th>EmailOpen_times</th>\n",
              "      <th>WebVisit_times</th>\n",
              "      <th>PageView_times</th>\n",
              "      <th>EmailClick_times</th>\n",
              "      <th>FormSubmit_times</th>\n",
              "      <th>first_activity_date</th>\n",
              "      <th>First_EmailOpen</th>\n",
              "      <th>First_ForSubmit</th>\n",
              "      <th>First_EmailClickhrough</th>\n",
              "      <th>First_PageView</th>\n",
              "      <th>First_WebVisit</th>\n",
              "      <th>last_activity_date</th>\n",
              "      <th>Last_EmailOpen</th>\n",
              "      <th>Last_ForSubmit</th>\n",
              "      <th>Last_EmailClickhrough</th>\n",
              "      <th>Last_PageView</th>\n",
              "      <th>Last_WebVisit</th>\n",
              "      <th>purchase_times</th>\n",
              "      <th>is_purchase</th>\n",
              "    </tr>\n",
              "  </thead>\n",
              "  <tbody>\n",
              "    <tr>\n",
              "      <th>0</th>\n",
              "      <td>00002acbe042d69</td>\n",
              "      <td>10</td>\n",
              "      <td>9</td>\n",
              "      <td>9</td>\n",
              "      <td>0</td>\n",
              "      <td>0</td>\n",
              "      <td>0</td>\n",
              "      <td>1</td>\n",
              "      <td>2013-07-11</td>\n",
              "      <td>1</td>\n",
              "      <td>0</td>\n",
              "      <td>0</td>\n",
              "      <td>0</td>\n",
              "      <td>0</td>\n",
              "      <td>2013-08-12</td>\n",
              "      <td>1</td>\n",
              "      <td>0</td>\n",
              "      <td>0</td>\n",
              "      <td>0</td>\n",
              "      <td>0</td>\n",
              "      <td>0</td>\n",
              "      <td>0</td>\n",
              "    </tr>\n",
              "    <tr>\n",
              "      <th>1</th>\n",
              "      <td>0000a3a34bd07e6</td>\n",
              "      <td>20</td>\n",
              "      <td>20</td>\n",
              "      <td>20</td>\n",
              "      <td>0</td>\n",
              "      <td>0</td>\n",
              "      <td>0</td>\n",
              "      <td>0</td>\n",
              "      <td>2013-07-04</td>\n",
              "      <td>1</td>\n",
              "      <td>0</td>\n",
              "      <td>0</td>\n",
              "      <td>0</td>\n",
              "      <td>0</td>\n",
              "      <td>2015-02-07</td>\n",
              "      <td>1</td>\n",
              "      <td>0</td>\n",
              "      <td>0</td>\n",
              "      <td>0</td>\n",
              "      <td>0</td>\n",
              "      <td>0</td>\n",
              "      <td>0</td>\n",
              "    </tr>\n",
              "    <tr>\n",
              "      <th>2</th>\n",
              "      <td>0000ecf58c94668</td>\n",
              "      <td>20</td>\n",
              "      <td>19</td>\n",
              "      <td>11</td>\n",
              "      <td>0</td>\n",
              "      <td>0</td>\n",
              "      <td>1</td>\n",
              "      <td>1</td>\n",
              "      <td>2013-10-30</td>\n",
              "      <td>0</td>\n",
              "      <td>0</td>\n",
              "      <td>0</td>\n",
              "      <td>0</td>\n",
              "      <td>0</td>\n",
              "      <td>2015-03-19</td>\n",
              "      <td>1</td>\n",
              "      <td>0</td>\n",
              "      <td>0</td>\n",
              "      <td>0</td>\n",
              "      <td>0</td>\n",
              "      <td>6</td>\n",
              "      <td>1</td>\n",
              "    </tr>\n",
              "    <tr>\n",
              "      <th>3</th>\n",
              "      <td>00012205dd4613b</td>\n",
              "      <td>2</td>\n",
              "      <td>2</td>\n",
              "      <td>2</td>\n",
              "      <td>0</td>\n",
              "      <td>0</td>\n",
              "      <td>0</td>\n",
              "      <td>0</td>\n",
              "      <td>2013-10-02</td>\n",
              "      <td>1</td>\n",
              "      <td>0</td>\n",
              "      <td>0</td>\n",
              "      <td>0</td>\n",
              "      <td>0</td>\n",
              "      <td>2013-10-30</td>\n",
              "      <td>1</td>\n",
              "      <td>0</td>\n",
              "      <td>0</td>\n",
              "      <td>0</td>\n",
              "      <td>0</td>\n",
              "      <td>0</td>\n",
              "      <td>0</td>\n",
              "    </tr>\n",
              "    <tr>\n",
              "      <th>4</th>\n",
              "      <td>000198d39a568cf</td>\n",
              "      <td>2</td>\n",
              "      <td>2</td>\n",
              "      <td>0</td>\n",
              "      <td>0</td>\n",
              "      <td>0</td>\n",
              "      <td>0</td>\n",
              "      <td>0</td>\n",
              "      <td>2014-01-09</td>\n",
              "      <td>0</td>\n",
              "      <td>0</td>\n",
              "      <td>0</td>\n",
              "      <td>0</td>\n",
              "      <td>0</td>\n",
              "      <td>2014-01-10</td>\n",
              "      <td>0</td>\n",
              "      <td>0</td>\n",
              "      <td>0</td>\n",
              "      <td>0</td>\n",
              "      <td>0</td>\n",
              "      <td>1</td>\n",
              "      <td>1</td>\n",
              "    </tr>\n",
              "  </tbody>\n",
              "</table>\n",
              "</div>"
            ],
            "text/plain": [
              "           user_id  total_search_times  ...  purchase_times  is_purchase\n",
              "0  00002acbe042d69                  10  ...               0            0\n",
              "1  0000a3a34bd07e6                  20  ...               0            0\n",
              "2  0000ecf58c94668                  20  ...               6            1\n",
              "3  00012205dd4613b                   2  ...               0            0\n",
              "4  000198d39a568cf                   2  ...               1            1\n",
              "\n",
              "[5 rows x 22 columns]"
            ]
          },
          "metadata": {
            "tags": []
          },
          "execution_count": 98
        }
      ]
    },
    {
      "cell_type": "markdown",
      "metadata": {
        "id": "uPILB_dDg4zU",
        "colab_type": "text"
      },
      "source": [
        "# 2. Get familar with the data & easy data cleaning\n",
        "\n",
        "\n",
        "Get familiar with the data before data preprocessing, feature engineering, and model building. \n",
        "Drop the features which are obviously unrelated to the target, features with all missing values, or featrues with the same values (small variance)."
      ]
    },
    {
      "cell_type": "code",
      "metadata": {
        "id": "iw0eP6JgQlHG",
        "colab_type": "code",
        "outputId": "e986bc17-0876-47b4-d809-f071b3101261",
        "colab": {
          "base_uri": "https://localhost:8080/",
          "height": 35
        }
      },
      "source": [
        "train.shape"
      ],
      "execution_count": 99,
      "outputs": [
        {
          "output_type": "execute_result",
          "data": {
            "text/plain": [
              "(34850, 22)"
            ]
          },
          "metadata": {
            "tags": []
          },
          "execution_count": 99
        }
      ]
    },
    {
      "cell_type": "markdown",
      "metadata": {
        "id": "CmuB5lV3QzvQ",
        "colab_type": "text"
      },
      "source": [
        "At the first glance of the data, there are a lot of features with all missing values. \n",
        "\n",
        "It it obvious that these features will be removed from the dataset. "
      ]
    },
    {
      "cell_type": "markdown",
      "metadata": {
        "id": "YWQtYZnABKzQ",
        "colab_type": "text"
      },
      "source": [
        "# 3. Preprocessing & Exploratory Analysis\n",
        "\n",
        "*   Drop the features with more than 99% of same values, cluster the features into several clases\n",
        "*   View summary statistics and visualize the data, plotting against each of the feature with the responsive feature, **loan_status**\n",
        "*   Drop the feature if it is not useful for predicting the responsive feature \n",
        "*   Missing values replacement\n",
        "\n"
      ]
    },
    {
      "cell_type": "markdown",
      "metadata": {
        "id": "x_jWGeF0vUxi",
        "colab_type": "text"
      },
      "source": [
        "## 3.1 Go through each of the 57 features, cluster them into different class, numerical, categorical, text, etc."
      ]
    },
    {
      "cell_type": "code",
      "metadata": {
        "id": "b0e0_Ltm3ZuZ",
        "colab_type": "code",
        "outputId": "6165e314-7a6a-472f-f188-074d9ea3034e",
        "colab": {
          "base_uri": "https://localhost:8080/",
          "height": 35
        }
      },
      "source": [
        "print(\"Number of features: {}, sample size: {}\".format(train.shape[1], train.shape[0]))"
      ],
      "execution_count": 100,
      "outputs": [
        {
          "output_type": "stream",
          "text": [
            "Number of features: 22, sample size: 34850\n"
          ],
          "name": "stdout"
        }
      ]
    },
    {
      "cell_type": "markdown",
      "metadata": {
        "id": "e79YP3tXzyax",
        "colab_type": "text"
      },
      "source": [
        "## 3.2 Visualization of the features"
      ]
    },
    {
      "cell_type": "markdown",
      "metadata": {
        "id": "MHDBBlNj7M-F",
        "colab_type": "text"
      },
      "source": [
        "### Function for plotting a variable and comparing with loan status:\n",
        "\n",
        "reference: https://www.kaggle.com/pileatedperch/predicting-charge-off-from-initial-listing-data"
      ]
    },
    {
      "cell_type": "code",
      "metadata": {
        "id": "hwvegKju7ELo",
        "colab_type": "code",
        "colab": {}
      },
      "source": [
        "def plot_var(col_name, full_name, continuous):\n",
        "    \"\"\"\n",
        "    Visualize a variable with and without faceting on the loan status.\n",
        "    - col_name is the variable name in the dataframe\n",
        "    - full_name is the full variable name\n",
        "    - continuous is True if the variable is continuous, False otherwise\n",
        "    \"\"\"\n",
        "    f, (ax1, ax2) = plt.subplots(nrows=1, ncols=2, figsize=(12,3), dpi=90)\n",
        "    \n",
        "    # Plot without loan status\n",
        "    if continuous:\n",
        "        sns.distplot(loans.loc[loans[col_name].notnull(), col_name], kde=False, ax=ax1)\n",
        "    else:\n",
        "        sns.countplot(loans[col_name], order=sorted(loans[col_name].unique()), color='#5975A4', saturation=1, ax=ax1)\n",
        "    ax1.set_xlabel(full_name)\n",
        "    ax1.set_ylabel('Count')\n",
        "    ax1.set_title(full_name)\n",
        "  # Plot with loan status\n",
        "    if continuous:\n",
        "        sns.boxplot(x=col_name, y='loan_status', data=loans, ax=ax2)\n",
        "        ax2.set_ylabel('')\n",
        "        ax2.set_title(full_name + ' by Loan Status')\n",
        "    else:\n",
        "        charge_off_rates = loans.groupby(col_name)['loan_status'].value_counts(normalize=True).loc[:,'Charged Off']\n",
        "        sns.barplot(x=charge_off_rates.index, y=charge_off_rates.values, color='#5975A4', saturation=1, ax=ax2)\n",
        "        ax2.set_ylabel('Fraction of Loans Charged-off')\n",
        "        ax2.set_title('Charge-off Rate by ' + full_name)\n",
        "    ax2.set_xlabel(full_name)\n",
        "\n",
        "    plt.tight_layout()"
      ],
      "execution_count": 0,
      "outputs": []
    },
    {
      "cell_type": "markdown",
      "metadata": {
        "id": "m_8I-5IXiJjD",
        "colab_type": "text"
      },
      "source": [
        "### 3.2.1 Visualization of responsive feature: **is_purchase**"
      ]
    },
    {
      "cell_type": "code",
      "metadata": {
        "id": "fBDnE-jqiOxq",
        "colab_type": "code",
        "outputId": "245ccc19-b0d5-4e38-8533-2f4d46bf37fa",
        "colab": {
          "base_uri": "https://localhost:8080/",
          "height": 69
        }
      },
      "source": [
        "train.is_purchase.value_counts()"
      ],
      "execution_count": 102,
      "outputs": [
        {
          "output_type": "execute_result",
          "data": {
            "text/plain": [
              "0    24254\n",
              "1    10596\n",
              "Name: is_purchase, dtype: int64"
            ]
          },
          "metadata": {
            "tags": []
          },
          "execution_count": 102
        }
      ]
    },
    {
      "cell_type": "code",
      "metadata": {
        "id": "4T5KGepnuWHY",
        "colab_type": "code",
        "outputId": "500b381f-0b7a-4b18-f181-363b69bf88fb",
        "colab": {
          "base_uri": "https://localhost:8080/",
          "height": 410
        }
      },
      "source": [
        "fig, axs = plt.subplots(1, 2, figsize = (12, 6))\n",
        "sns.countplot(x = \"is_purchase\", data = train, ax = axs[0])\n",
        "axs[0].set_title(\"Frequency of Purchase\", size = 16)\n",
        "axs[0].set_xlabel(\"Purchase Status\", size = 14)\n",
        "axs[0].set_ylabel(\"Count\", size = 14)\n",
        "\n",
        "train[\"is_purchase\"].value_counts().plot(x = None, y = None, kind = \"pie\", ax = axs[1], autopct = \"%1.2f%%\") # \"bar\"\n",
        "axs[1].set_title(\"Percentage of Each Purchase Status\", size = 16)\n",
        "#axs[1].set_xlabel(\"Loan\", color = \"white\")\n",
        "axs[1].set_ylabel(\"Purchase Status\", size = 14)\n",
        "plt.show()"
      ],
      "execution_count": 103,
      "outputs": [
        {
          "output_type": "display_data",
          "data": {
            "image/png": "[encoded data removed]",
            "text/plain": [
              "<Figure size 864x432 with 2 Axes>"
            ]
          },
          "metadata": {
            "tags": []
          }
        }
      ]
    },
    {
      "cell_type": "markdown",
      "metadata": {
        "id": "yfk6OXQvqXqP",
        "colab_type": "text"
      },
      "source": [
        "The responsive feature **is_purchase** is composed of two classes: No (0), & Yes (1). \n",
        "\n",
        "**Suggestion:**\n",
        "The dataset is imbalanced, and need further consideration later."
      ]
    },
    {
      "cell_type": "markdown",
      "metadata": {
        "id": "DGviWop2l2GR",
        "colab_type": "text"
      },
      "source": [
        "### 3.3.3 Visualization of the numerical features (连续值特征分布)"
      ]
    },
    {
      "cell_type": "markdown",
      "metadata": {
        "id": "asmRhTciLOTT",
        "colab_type": "text"
      },
      "source": [
        "### 1. loan_amnt: \n",
        "Data Dictionary: \"The listed amount of the loan applied for by the borrower.\"\n",
        "\n",
        "If at some point in time, the credit department reduces the loan amount, then it will be reflected in this value."
      ]
    },
    {
      "cell_type": "code",
      "metadata": {
        "id": "M2rFm0vNMqJP",
        "colab_type": "code",
        "outputId": "ff64ae86-0c3d-425f-b990-56cff11cff81",
        "colab": {
          "base_uri": "https://localhost:8080/",
          "height": 141
        }
      },
      "source": [
        "train.groupby('is_purchase')['total_search_times'].describe()"
      ],
      "execution_count": 104,
      "outputs": [
        {
          "output_type": "execute_result",
          "data": {
            "text/html": [
              "<div>\n",
              "<style scoped>\n",
              "    .dataframe tbody tr th:only-of-type {\n",
              "        vertical-align: middle;\n",
              "    }\n",
              "\n",
              "    .dataframe tbody tr th {\n",
              "        vertical-align: top;\n",
              "    }\n",
              "\n",
              "    .dataframe thead th {\n",
              "        text-align: right;\n",
              "    }\n",
              "</style>\n",
              "<table border=\"1\" class=\"dataframe\">\n",
              "  <thead>\n",
              "    <tr style=\"text-align: right;\">\n",
              "      <th></th>\n",
              "      <th>count</th>\n",
              "      <th>mean</th>\n",
              "      <th>std</th>\n",
              "      <th>min</th>\n",
              "      <th>25%</th>\n",
              "      <th>50%</th>\n",
              "      <th>75%</th>\n",
              "      <th>max</th>\n",
              "    </tr>\n",
              "    <tr>\n",
              "      <th>is_purchase</th>\n",
              "      <th></th>\n",
              "      <th></th>\n",
              "      <th></th>\n",
              "      <th></th>\n",
              "      <th></th>\n",
              "      <th></th>\n",
              "      <th></th>\n",
              "      <th></th>\n",
              "    </tr>\n",
              "  </thead>\n",
              "  <tbody>\n",
              "    <tr>\n",
              "      <th>0</th>\n",
              "      <td>24254.0</td>\n",
              "      <td>10.804280</td>\n",
              "      <td>24.278222</td>\n",
              "      <td>1.0</td>\n",
              "      <td>2.0</td>\n",
              "      <td>4.0</td>\n",
              "      <td>11.0</td>\n",
              "      <td>804.0</td>\n",
              "    </tr>\n",
              "    <tr>\n",
              "      <th>1</th>\n",
              "      <td>10596.0</td>\n",
              "      <td>28.212722</td>\n",
              "      <td>81.905864</td>\n",
              "      <td>2.0</td>\n",
              "      <td>2.0</td>\n",
              "      <td>4.0</td>\n",
              "      <td>19.0</td>\n",
              "      <td>1968.0</td>\n",
              "    </tr>\n",
              "  </tbody>\n",
              "</table>\n",
              "</div>"
            ],
            "text/plain": [
              "               count       mean        std  min  25%  50%   75%     max\n",
              "is_purchase                                                            \n",
              "0            24254.0  10.804280  24.278222  1.0  2.0  4.0  11.0   804.0\n",
              "1            10596.0  28.212722  81.905864  2.0  2.0  4.0  19.0  1968.0"
            ]
          },
          "metadata": {
            "tags": []
          },
          "execution_count": 104
        }
      ]
    },
    {
      "cell_type": "code",
      "metadata": {
        "id": "y4X_ok84MIao",
        "colab_type": "code",
        "outputId": "e18fc1b0-78e8-4e94-ac91-5fe1d4394f60",
        "colab": {
          "base_uri": "https://localhost:8080/",
          "height": 297
        }
      },
      "source": [
        "plt.figure(figsize = (8, 4))\n",
        "df_temp_0 = train[\"total_search_times\"][train.is_purchase == 0]\n",
        "df_temp_1 = train[\"total_search_times\"][train.is_purchase == 1]\n",
        "sns.distplot(df_temp_0.dropna(), color = 'g')\n",
        "sns.distplot(df_temp_1.dropna(), color = 'r')\n",
        "plt.title(\"Total_serach_times vs Purchase\", size = 14)\n",
        "plt.legend(['No', 'Yes'])\n",
        "plt.show()"
      ],
      "execution_count": 105,
      "outputs": [
        {
          "output_type": "display_data",
          "data": {
            "image/png": "[encoded data removed]",
            "text/plain": [
              "<Figure size 576x288 with 1 Axes>"
            ]
          },
          "metadata": {
            "tags": []
          }
        }
      ]
    },
    {
      "cell_type": "markdown",
      "metadata": {
        "id": "I5DH-0CQM7MP",
        "colab_type": "text"
      },
      "source": [
        "The purchase  = 1 (Yes) tend to have higher  total_search_times."
      ]
    },
    {
      "cell_type": "markdown",
      "metadata": {
        "id": "bu2AeY7zKwMX",
        "colab_type": "text"
      },
      "source": [
        "# 4. More data preprocessing and feature engineering (数据预处理 & 特征工程)"
      ]
    },
    {
      "cell_type": "markdown",
      "metadata": {
        "id": "3QZzD9iHLKxw",
        "colab_type": "text"
      },
      "source": [
        "After the first and second round of data cleaning. The dataset becomes more understandable and managable."
      ]
    },
    {
      "cell_type": "code",
      "metadata": {
        "id": "7OpMVXInLboa",
        "colab_type": "code",
        "outputId": "8e20940c-cb49-47cd-cab7-bddb19bd0af2",
        "colab": {
          "base_uri": "https://localhost:8080/",
          "height": 35
        }
      },
      "source": [
        "train.shape"
      ],
      "execution_count": 106,
      "outputs": [
        {
          "output_type": "execute_result",
          "data": {
            "text/plain": [
              "(34850, 22)"
            ]
          },
          "metadata": {
            "tags": []
          },
          "execution_count": 106
        }
      ]
    },
    {
      "cell_type": "markdown",
      "metadata": {
        "id": "qd3GbfVbWo7E",
        "colab_type": "text"
      },
      "source": [
        "The dataset looks ok. No missing values."
      ]
    },
    {
      "cell_type": "markdown",
      "metadata": {
        "id": "AOGB4pC6wU_t",
        "colab_type": "text"
      },
      "source": [
        "## 4.1. training, validation, testing datasets split\n",
        "\n",
        "### 1. About data leakage (警惕数据泄露)\n",
        "\n",
        "Two things about data leakage\n",
        "\n",
        "1. The inappropriate features after the determination of the **responsive feature** would lead to data leakage.\n",
        "\n",
        "2. The inappropriate split of training, validation, testing datasets would also need to data leakage, e.g., fill the missing values with mean, the calculation of the features based on the whole dataset before the data split. \n",
        "\n",
        "I have been very careful about these aspects. During the previous steps, when I was filling the missing values or derivative features, I just fill in with constants, or I know even after the separatation of the datasets, the filled values would be the same. \n",
        "\n",
        "\n",
        "To avoid data leakage, it's better to split the datasets before data preprocessing. "
      ]
    },
    {
      "cell_type": "code",
      "metadata": {
        "id": "nizY6ZuBWxn0",
        "colab_type": "code",
        "outputId": "3cf955ce-fe6f-45af-b0ab-030bf41d1591",
        "colab": {
          "base_uri": "https://localhost:8080/",
          "height": 69
        }
      },
      "source": [
        "from sklearn.model_selection import train_test_split\n",
        "\n",
        "# split the data\n",
        "x_col_train = train.columns.tolist()\n",
        "\n",
        "# remove target variables and other variables from x\n",
        "features_to_remove = ['user_id', 'is_purchase', 'purchase_times', 'first_activity_date', 'last_activity_date']\n",
        "for feature in features_to_remove:\n",
        "  x_col_train.remove(feature)\n",
        "X = train[x_col_train]\n",
        "y = train['is_purchase']\n",
        "\n",
        "# 90% training data, 20% validation data\n",
        "x_train, x_val, y_train, y_val = train_test_split(X, y, test_size = 0.2, random_state = 0)\n",
        "\n",
        "df_train = pd.concat([x_train, y_train], axis = 1)\n",
        "df_val = pd.concat([x_val, y_val], axis = 1)\n",
        "\n",
        "# remove variables from test dataset, to make the test dataset consistent with the training dataset\n",
        "x_col_test = test.columns.tolist()\n",
        "features_to_remove = ['user_id', 'first_activity_date', 'last_activity_date']\n",
        "for feature in features_to_remove:\n",
        "  x_col_test.remove(feature)\n",
        "df_test = test[x_col_test]\n",
        "print(\"The shape of training dataset: {}\".format(df_train.shape))\n",
        "print(\"The shape of validation dataset: {}\".format(df_val.shape))\n",
        "print(\"The shape of test dataset: {}\".format(df_test.shape))\n"
      ],
      "execution_count": 107,
      "outputs": [
        {
          "output_type": "stream",
          "text": [
            "The shape of training dataset: (27880, 18)\n",
            "The shape of validation dataset: (6970, 18)\n",
            "The shape of test dataset: (13643, 17)\n"
          ],
          "name": "stdout"
        }
      ]
    },
    {
      "cell_type": "markdown",
      "metadata": {
        "id": "JN62rRBSdMne",
        "colab_type": "text"
      },
      "source": [
        "## 4.3 Data normalization\n",
        "\n",
        "逻辑回归模型基于线性回归，求参需要用到梯度下降法，为了加快迭代速度，不同特征的变化范围规模相差不宜过大，如果用数值直接带入逻辑回归模型，必须进行变量缩放。但是本文是用随机森林， 所以这一步可以省略。\n",
        "\n",
        "Since the normalization will not impact the one-hot-encoding features, and the features with 2 groups. \n",
        "\n",
        "I will use normalization\n",
        "\n",
        "Actually, at the previous data preprocessing, I have transformed the very skewed features. "
      ]
    },
    {
      "cell_type": "code",
      "metadata": {
        "id": "2FZlPFoAccrk",
        "colab_type": "code",
        "colab": {
          "base_uri": "https://localhost:8080/",
          "height": 222
        },
        "outputId": "7ba010e9-a130-4930-d695-39b6944b3288"
      },
      "source": [
        "df_train.head()"
      ],
      "execution_count": 108,
      "outputs": [
        {
          "output_type": "execute_result",
          "data": {
            "text/html": [
              "<div>\n",
              "<style scoped>\n",
              "    .dataframe tbody tr th:only-of-type {\n",
              "        vertical-align: middle;\n",
              "    }\n",
              "\n",
              "    .dataframe tbody tr th {\n",
              "        vertical-align: top;\n",
              "    }\n",
              "\n",
              "    .dataframe thead th {\n",
              "        text-align: right;\n",
              "    }\n",
              "</style>\n",
              "<table border=\"1\" class=\"dataframe\">\n",
              "  <thead>\n",
              "    <tr style=\"text-align: right;\">\n",
              "      <th></th>\n",
              "      <th>total_search_times</th>\n",
              "      <th>unique_days</th>\n",
              "      <th>EmailOpen_times</th>\n",
              "      <th>WebVisit_times</th>\n",
              "      <th>PageView_times</th>\n",
              "      <th>EmailClick_times</th>\n",
              "      <th>FormSubmit_times</th>\n",
              "      <th>First_EmailOpen</th>\n",
              "      <th>First_ForSubmit</th>\n",
              "      <th>First_EmailClickhrough</th>\n",
              "      <th>First_PageView</th>\n",
              "      <th>First_WebVisit</th>\n",
              "      <th>Last_EmailOpen</th>\n",
              "      <th>Last_ForSubmit</th>\n",
              "      <th>Last_EmailClickhrough</th>\n",
              "      <th>Last_PageView</th>\n",
              "      <th>Last_WebVisit</th>\n",
              "      <th>is_purchase</th>\n",
              "    </tr>\n",
              "  </thead>\n",
              "  <tbody>\n",
              "    <tr>\n",
              "      <th>10054</th>\n",
              "      <td>1</td>\n",
              "      <td>1</td>\n",
              "      <td>1</td>\n",
              "      <td>0</td>\n",
              "      <td>0</td>\n",
              "      <td>0</td>\n",
              "      <td>0</td>\n",
              "      <td>1</td>\n",
              "      <td>0</td>\n",
              "      <td>0</td>\n",
              "      <td>0</td>\n",
              "      <td>0</td>\n",
              "      <td>1</td>\n",
              "      <td>0</td>\n",
              "      <td>0</td>\n",
              "      <td>0</td>\n",
              "      <td>0</td>\n",
              "      <td>0</td>\n",
              "    </tr>\n",
              "    <tr>\n",
              "      <th>8487</th>\n",
              "      <td>97</td>\n",
              "      <td>86</td>\n",
              "      <td>74</td>\n",
              "      <td>6</td>\n",
              "      <td>6</td>\n",
              "      <td>3</td>\n",
              "      <td>0</td>\n",
              "      <td>1</td>\n",
              "      <td>0</td>\n",
              "      <td>0</td>\n",
              "      <td>0</td>\n",
              "      <td>0</td>\n",
              "      <td>0</td>\n",
              "      <td>0</td>\n",
              "      <td>0</td>\n",
              "      <td>1</td>\n",
              "      <td>1</td>\n",
              "      <td>1</td>\n",
              "    </tr>\n",
              "    <tr>\n",
              "      <th>9552</th>\n",
              "      <td>14</td>\n",
              "      <td>14</td>\n",
              "      <td>14</td>\n",
              "      <td>0</td>\n",
              "      <td>0</td>\n",
              "      <td>0</td>\n",
              "      <td>0</td>\n",
              "      <td>1</td>\n",
              "      <td>0</td>\n",
              "      <td>0</td>\n",
              "      <td>0</td>\n",
              "      <td>0</td>\n",
              "      <td>1</td>\n",
              "      <td>0</td>\n",
              "      <td>0</td>\n",
              "      <td>0</td>\n",
              "      <td>0</td>\n",
              "      <td>0</td>\n",
              "    </tr>\n",
              "    <tr>\n",
              "      <th>20261</th>\n",
              "      <td>4</td>\n",
              "      <td>2</td>\n",
              "      <td>2</td>\n",
              "      <td>0</td>\n",
              "      <td>0</td>\n",
              "      <td>1</td>\n",
              "      <td>1</td>\n",
              "      <td>1</td>\n",
              "      <td>0</td>\n",
              "      <td>0</td>\n",
              "      <td>0</td>\n",
              "      <td>0</td>\n",
              "      <td>1</td>\n",
              "      <td>0</td>\n",
              "      <td>0</td>\n",
              "      <td>0</td>\n",
              "      <td>0</td>\n",
              "      <td>0</td>\n",
              "    </tr>\n",
              "    <tr>\n",
              "      <th>15953</th>\n",
              "      <td>44</td>\n",
              "      <td>44</td>\n",
              "      <td>39</td>\n",
              "      <td>0</td>\n",
              "      <td>0</td>\n",
              "      <td>0</td>\n",
              "      <td>0</td>\n",
              "      <td>0</td>\n",
              "      <td>0</td>\n",
              "      <td>0</td>\n",
              "      <td>0</td>\n",
              "      <td>0</td>\n",
              "      <td>1</td>\n",
              "      <td>0</td>\n",
              "      <td>0</td>\n",
              "      <td>0</td>\n",
              "      <td>0</td>\n",
              "      <td>1</td>\n",
              "    </tr>\n",
              "  </tbody>\n",
              "</table>\n",
              "</div>"
            ],
            "text/plain": [
              "       total_search_times  unique_days  ...  Last_WebVisit  is_purchase\n",
              "10054                   1            1  ...              0            0\n",
              "8487                   97           86  ...              1            1\n",
              "9552                   14           14  ...              0            0\n",
              "20261                   4            2  ...              0            0\n",
              "15953                  44           44  ...              0            1\n",
              "\n",
              "[5 rows x 18 columns]"
            ]
          },
          "metadata": {
            "tags": []
          },
          "execution_count": 108
        }
      ]
    },
    {
      "cell_type": "code",
      "metadata": {
        "id": "mDndMZds1C4p",
        "colab_type": "code",
        "colab": {
          "base_uri": "https://localhost:8080/",
          "height": 245
        },
        "outputId": "896c76ef-c1fa-4e71-d4b6-d8f351ae3bc0"
      },
      "source": [
        "#from sklearn.preprocessing import StandardScaler\n",
        "from sklearn.preprocessing import StandardScaler\n",
        "#df_list = []\n",
        "col = df_train.columns[1:-1]\n",
        "scaler = StandardScaler()\n",
        "df_train[col] = scaler.fit_transform(df_train[col])\n",
        "df_val[col] = scaler.fit_transform(df_val[col])\n",
        "df_test[col] = scaler.fit_transform(df_test[col])\n"
      ],
      "execution_count": 109,
      "outputs": [
        {
          "output_type": "stream",
          "text": [
            "/usr/local/lib/python3.6/dist-packages/ipykernel_launcher.py:7: SettingWithCopyWarning: \n",
            "A value is trying to be set on a copy of a slice from a DataFrame.\n",
            "Try using .loc[row_indexer,col_indexer] = value instead\n",
            "\n",
            "See the caveats in the documentation: http://pandas.pydata.org/pandas-docs/stable/user_guide/indexing.html#returning-a-view-versus-a-copy\n",
            "  import sys\n",
            "/usr/local/lib/python3.6/dist-packages/pandas/core/indexing.py:494: SettingWithCopyWarning: \n",
            "A value is trying to be set on a copy of a slice from a DataFrame.\n",
            "Try using .loc[row_indexer,col_indexer] = value instead\n",
            "\n",
            "See the caveats in the documentation: http://pandas.pydata.org/pandas-docs/stable/user_guide/indexing.html#returning-a-view-versus-a-copy\n",
            "  self.obj[item] = s\n"
          ],
          "name": "stderr"
        }
      ]
    },
    {
      "cell_type": "markdown",
      "metadata": {
        "id": "UlD_muH5Aq6l",
        "colab_type": "text"
      },
      "source": [
        "# 6. Model  building\n",
        "\n",
        "1) Logistic Regression\n",
        "\n",
        "\n",
        "2) Random Forest\n",
        "\n",
        "3) xgboosting"
      ]
    },
    {
      "cell_type": "markdown",
      "metadata": {
        "id": "oO9NUPOHJPLU",
        "colab_type": "text"
      },
      "source": [
        "### 6.1 Logistic Regression"
      ]
    },
    {
      "cell_type": "code",
      "metadata": {
        "id": "bimQfsgOJUPO",
        "colab_type": "code",
        "outputId": "826464e8-418b-4967-dd2d-cdc6ffcbdc34",
        "colab": {
          "base_uri": "https://localhost:8080/",
          "height": 159
        }
      },
      "source": [
        "from sklearn.linear_model import LogisticRegression\n",
        "from sklearn.metrics import confusion_matrix\n",
        "lr = LogisticRegression()\n",
        "lr.fit(df_train.drop(\"is_purchase\", axis = 1), df_train[\"is_purchase\"])"
      ],
      "execution_count": 110,
      "outputs": [
        {
          "output_type": "stream",
          "text": [
            "/usr/local/lib/python3.6/dist-packages/sklearn/linear_model/logistic.py:432: FutureWarning: Default solver will be changed to 'lbfgs' in 0.22. Specify a solver to silence this warning.\n",
            "  FutureWarning)\n"
          ],
          "name": "stderr"
        },
        {
          "output_type": "execute_result",
          "data": {
            "text/plain": [
              "LogisticRegression(C=1.0, class_weight=None, dual=False, fit_intercept=True,\n",
              "                   intercept_scaling=1, l1_ratio=None, max_iter=100,\n",
              "                   multi_class='warn', n_jobs=None, penalty='l2',\n",
              "                   random_state=None, solver='warn', tol=0.0001, verbose=0,\n",
              "                   warm_start=False)"
            ]
          },
          "metadata": {
            "tags": []
          },
          "execution_count": 110
        }
      ]
    },
    {
      "cell_type": "markdown",
      "metadata": {
        "id": "tPx5fBo5LZxk",
        "colab_type": "text"
      },
      "source": [
        "### Evaluation of the Logistic Regression with confusion_matrix"
      ]
    },
    {
      "cell_type": "code",
      "metadata": {
        "id": "u8CxVamuMJpv",
        "colab_type": "code",
        "outputId": "196707e9-e59e-4ee0-9cb4-da5eb4c16d37",
        "colab": {
          "base_uri": "https://localhost:8080/",
          "height": 35
        }
      },
      "source": [
        "score = lr.score(df_val.drop(\"is_purchase\", axis = 1), df_val[\"is_purchase\"])\n",
        "print(\"The accuracy: {:.5}\".format(score))"
      ],
      "execution_count": 111,
      "outputs": [
        {
          "output_type": "stream",
          "text": [
            "The accuracy: 0.96169\n"
          ],
          "name": "stdout"
        }
      ]
    },
    {
      "cell_type": "code",
      "metadata": {
        "id": "YtBfti4DM13x",
        "colab_type": "code",
        "outputId": "f9229fe9-3a32-4493-983c-908b4b18a90d",
        "colab": {
          "base_uri": "https://localhost:8080/",
          "height": 69
        }
      },
      "source": [
        "df_train[\"is_purchase\"].value_counts()/len(df_train)"
      ],
      "execution_count": 112,
      "outputs": [
        {
          "output_type": "execute_result",
          "data": {
            "text/plain": [
              "0    0.694871\n",
              "1    0.305129\n",
              "Name: is_purchase, dtype: float64"
            ]
          },
          "metadata": {
            "tags": []
          },
          "execution_count": 112
        }
      ]
    },
    {
      "cell_type": "markdown",
      "metadata": {
        "id": "-G6fbV0dMpdG",
        "colab_type": "text"
      },
      "source": [
        "Since the data is very imbalanced, 85% and 14%, the accuracy is not a good model indicator. Next, I will consider the confusion matrix, and the roc to evaluate the model performance."
      ]
    },
    {
      "cell_type": "code",
      "metadata": {
        "id": "BSLpAwsaK4th",
        "colab_type": "code",
        "outputId": "483828ac-d48d-41a7-d4ca-683e7a58cb78",
        "colab": {
          "base_uri": "https://localhost:8080/",
          "height": 52
        }
      },
      "source": [
        "y_pred = lr.predict(df_val.drop(\"is_purchase\", axis = 1))\n",
        "confusion_matrix(df_val[\"is_purchase\"], y_pred)"
      ],
      "execution_count": 113,
      "outputs": [
        {
          "output_type": "execute_result",
          "data": {
            "text/plain": [
              "array([[4881,    0],\n",
              "       [ 267, 1822]])"
            ]
          },
          "metadata": {
            "tags": []
          },
          "execution_count": 113
        }
      ]
    },
    {
      "cell_type": "code",
      "metadata": {
        "id": "e98NctCCNWYK",
        "colab_type": "code",
        "outputId": "74a14b94-d750-4288-c313-3add99fd471f",
        "colab": {
          "base_uri": "https://localhost:8080/",
          "height": 35
        }
      },
      "source": [
        "from sklearn.metrics import roc_auc_score, roc_curve\n",
        "auc = roc_auc_score(lr.predict(df_val.drop(\"is_purchase\", axis = 1)), df_val[\"is_purchase\"])\n",
        "auc"
      ],
      "execution_count": 114,
      "outputs": [
        {
          "output_type": "execute_result",
          "data": {
            "text/plain": [
              "0.974067599067599"
            ]
          },
          "metadata": {
            "tags": []
          },
          "execution_count": 114
        }
      ]
    },
    {
      "cell_type": "code",
      "metadata": {
        "id": "XsxN6goIOA59",
        "colab_type": "code",
        "outputId": "e9df7acf-b98a-4cbd-d400-8e443fb4f94a",
        "colab": {
          "base_uri": "https://localhost:8080/",
          "height": 295
        }
      },
      "source": [
        "import matplotlib.pyplot as plt\n",
        "plt.plot(fpr, tpr)\n",
        "plt.title(\"The Receiver Operation Curve (ROC)\")\n",
        "plt.xlabel(\"FPR\")\n",
        "plt.ylabel(\"TPR\")\n",
        "plt.show()"
      ],
      "execution_count": 115,
      "outputs": [
        {
          "output_type": "display_data",
          "data": {
            "image/png": "[encoded data removed]",
            "text/plain": [
              "<Figure size 432x288 with 1 Axes>"
            ]
          },
          "metadata": {
            "tags": []
          }
        }
      ]
    },
    {
      "cell_type": "markdown",
      "metadata": {
        "id": "9gx7-axwDbfk",
        "colab_type": "text"
      },
      "source": [
        "### 6.2 Random Forest\n",
        "\n",
        "The Random Forest is a bagging method based on decisin tree.\n",
        "\n",
        "随机森林的是以决策树为弱学习模型通过bagging方法构造出的强学习模型，它能容纳更多的信息，同时通过多模型投票，又能很好的避免过拟合的影响，它正好弥补了这一缺陷。这一模型可以作为评分卡的参考。"
      ]
    },
    {
      "cell_type": "code",
      "metadata": {
        "id": "791cAwjBDg_3",
        "colab_type": "code",
        "outputId": "bd7e3d2f-5820-4352-b526-5ca21158eeba",
        "colab": {
          "base_uri": "https://localhost:8080/",
          "height": 35
        }
      },
      "source": [
        "from sklearn.ensemble import RandomForestClassifier\n",
        "rfc = RandomForestClassifier(n_estimators = 50)\n",
        "rfc.fit(df_train.drop(\"is_purchase\", axis = 1), df_train[\"is_purchase\"])\n",
        "score = rfc.score(df_val.drop(\"is_purchase\", axis = 1), df_val[\"is_purchase\"])\n",
        "score"
      ],
      "execution_count": 116,
      "outputs": [
        {
          "output_type": "execute_result",
          "data": {
            "text/plain": [
              "0.96987087517934"
            ]
          },
          "metadata": {
            "tags": []
          },
          "execution_count": 116
        }
      ]
    },
    {
      "cell_type": "markdown",
      "metadata": {
        "id": "6TzjQ1xEEDmu",
        "colab_type": "text"
      },
      "source": [
        "用网格搜索的方式优化逻辑回归森林模型：\n",
        "\n",
        "回归森林模型中，n_estimators表示底层决策树个数，一般来说，树的个数越多，模型的稳定性越强，但是它的增大要受限于计算性能"
      ]
    },
    {
      "cell_type": "code",
      "metadata": {
        "id": "IpTtH2BzDhJ9",
        "colab_type": "code",
        "colab": {}
      },
      "source": [
        "# 网格搜索模型， 对随机森林中的DT个数经行遍历\n",
        "\n",
        "from sklearn.model_selection import GridSearchCV\n",
        "rf = RandomForestClassifier()\n",
        "parameters = {\"n_estimators\": [5, 10, 20, 35, 50, 100]}\n",
        "\n",
        "gs = GridSearchCV(estimator = rf, param_grid = parameters, scoring = \"roc_auc\", cv = 5, n_jobs = -1)\n",
        "\n",
        "grid_result = gs.fit(df_train.drop(\"is_purchase\", axis = 1).values, df_train.is_purchase.values)"
      ],
      "execution_count": 0,
      "outputs": []
    },
    {
      "cell_type": "code",
      "metadata": {
        "id": "eQumZm_N-Yrk",
        "colab_type": "code",
        "outputId": "c650a37c-5f69-4bca-9413-fd6ff5ea39b5",
        "colab": {
          "base_uri": "https://localhost:8080/",
          "height": 35
        }
      },
      "source": [
        "grid_result.best_score_"
      ],
      "execution_count": 118,
      "outputs": [
        {
          "output_type": "execute_result",
          "data": {
            "text/plain": [
              "0.9962384131513361"
            ]
          },
          "metadata": {
            "tags": []
          },
          "execution_count": 118
        }
      ]
    },
    {
      "cell_type": "code",
      "metadata": {
        "id": "3G2F43oSHYwL",
        "colab_type": "code",
        "outputId": "762cf901-f1df-4c1a-e06a-27bd978bd9e8",
        "colab": {
          "base_uri": "https://localhost:8080/",
          "height": 35
        }
      },
      "source": [
        "grid_result.best_params_"
      ],
      "execution_count": 119,
      "outputs": [
        {
          "output_type": "execute_result",
          "data": {
            "text/plain": [
              "{'n_estimators': 100}"
            ]
          },
          "metadata": {
            "tags": []
          },
          "execution_count": 119
        }
      ]
    },
    {
      "cell_type": "markdown",
      "metadata": {
        "id": "RIqgrEmzHgqm",
        "colab_type": "text"
      },
      "source": [
        "From the result above, the accurayc is 85.6%, and the best roc_auc is 66.39% when n_estimators = 100."
      ]
    },
    {
      "cell_type": "markdown",
      "metadata": {
        "id": "2Ret1FATQ-sN",
        "colab_type": "text"
      },
      "source": [
        "### 6.3 xgboost\n",
        "\n",
        "The xgboost is a boosting method based on decisin tree."
      ]
    },
    {
      "cell_type": "code",
      "metadata": {
        "id": "8c8JIbzJRJwf",
        "colab_type": "code",
        "outputId": "9f5b604d-98ae-42b5-9ed8-8a93422bad9c",
        "colab": {
          "base_uri": "https://localhost:8080/",
          "height": 35
        }
      },
      "source": [
        "from xgboost import XGBClassifier\n",
        "xgc = XGBClassifier()\n",
        "xgc.fit(df_train.drop(\"is_purchase\", axis = 1), df_train[\"is_purchase\"])\n",
        "score = xgc.score(df_val.drop(\"is_purchase\", axis = 1), df_val[\"is_purchase\"])\n",
        "score"
      ],
      "execution_count": 120,
      "outputs": [
        {
          "output_type": "execute_result",
          "data": {
            "text/plain": [
              "0.9423242467718795"
            ]
          },
          "metadata": {
            "tags": []
          },
          "execution_count": 120
        }
      ]
    },
    {
      "cell_type": "code",
      "metadata": {
        "id": "NllqCPrrRuAS",
        "colab_type": "code",
        "outputId": "44de9d09-f490-4081-8c39-bc0d6f099747",
        "colab": {
          "base_uri": "https://localhost:8080/",
          "height": 35
        }
      },
      "source": [
        "auc_xgc = roc_auc_score(xgc.predict(df_val.drop(\"is_purchase\", axis = 1)), df_val[\"is_purchase\"])\n",
        "auc_xgc"
      ],
      "execution_count": 121,
      "outputs": [
        {
          "output_type": "execute_result",
          "data": {
            "text/plain": [
              "0.9381002418104494"
            ]
          },
          "metadata": {
            "tags": []
          },
          "execution_count": 121
        }
      ]
    },
    {
      "cell_type": "markdown",
      "metadata": {
        "id": "_S4KtrTPR6Lf",
        "colab_type": "text"
      },
      "source": [
        "# 7. Comparisons of the three models: Logistic Regression, Random Forest, xgboost"
      ]
    },
    {
      "cell_type": "code",
      "metadata": {
        "id": "PZAk5XZDSDcP",
        "colab_type": "code",
        "outputId": "7b70ba10-3ff1-4ae7-86a3-b9fd57937bd7",
        "colab": {
          "base_uri": "https://localhost:8080/",
          "height": 141
        }
      },
      "source": [
        "import pandas as pd\n",
        "models = [\"Logistic Regression\", \"Random Forest\", \"XGBoost\"]\n",
        "acc = [0.96169, 0.97058, 0.94232]\n",
        "auc = [0.97406, 0.99615, 0.93810]\n",
        "\n",
        "res = pd.DataFrame({\"Models\": models, \"Accuracy\": acc, \"AUC\": auc})\n",
        "res"
      ],
      "execution_count": 122,
      "outputs": [
        {
          "output_type": "execute_result",
          "data": {
            "text/html": [
              "<div>\n",
              "<style scoped>\n",
              "    .dataframe tbody tr th:only-of-type {\n",
              "        vertical-align: middle;\n",
              "    }\n",
              "\n",
              "    .dataframe tbody tr th {\n",
              "        vertical-align: top;\n",
              "    }\n",
              "\n",
              "    .dataframe thead th {\n",
              "        text-align: right;\n",
              "    }\n",
              "</style>\n",
              "<table border=\"1\" class=\"dataframe\">\n",
              "  <thead>\n",
              "    <tr style=\"text-align: right;\">\n",
              "      <th></th>\n",
              "      <th>Models</th>\n",
              "      <th>Accuracy</th>\n",
              "      <th>AUC</th>\n",
              "    </tr>\n",
              "  </thead>\n",
              "  <tbody>\n",
              "    <tr>\n",
              "      <th>0</th>\n",
              "      <td>Logistic Regression</td>\n",
              "      <td>0.96169</td>\n",
              "      <td>0.97406</td>\n",
              "    </tr>\n",
              "    <tr>\n",
              "      <th>1</th>\n",
              "      <td>Random Forest</td>\n",
              "      <td>0.97058</td>\n",
              "      <td>0.99615</td>\n",
              "    </tr>\n",
              "    <tr>\n",
              "      <th>2</th>\n",
              "      <td>XGBoost</td>\n",
              "      <td>0.94232</td>\n",
              "      <td>0.93810</td>\n",
              "    </tr>\n",
              "  </tbody>\n",
              "</table>\n",
              "</div>"
            ],
            "text/plain": [
              "                Models  Accuracy      AUC\n",
              "0  Logistic Regression   0.96169  0.97406\n",
              "1        Random Forest   0.97058  0.99615\n",
              "2              XGBoost   0.94232  0.93810"
            ]
          },
          "metadata": {
            "tags": []
          },
          "execution_count": 122
        }
      ]
    },
    {
      "cell_type": "markdown",
      "metadata": {
        "id": "jmo1gzI8Uheb",
        "colab_type": "text"
      },
      "source": [
        "From the results above, the accuracy for the 3 models are very similar. Since the data is very imbalanced, the accuracy is not a indicator. \n",
        "\n",
        "The Aear Under Curve (ROC) is a good indicator of the model. Based on the AUC, the XGBoost performances best. "
      ]
    },
    {
      "cell_type": "markdown",
      "metadata": {
        "id": "v49Ths_wEuGx",
        "colab_type": "text"
      },
      "source": [
        "# 7. Conclusion\n",
        "From the discussion above, after a through data preprocessing and data engineering, 3 models, logistic regression, random forest, xgboost are created and evaluated. Based on the the AUC indicater, the XGBoost performances best. "
      ]
    },
    {
      "cell_type": "markdown",
      "metadata": {
        "id": "9inHVvelkndc",
        "colab_type": "text"
      },
      "source": [
        "## useful reference:\n",
        "URL_1 = 'https://blog.csdn.net/zs15321583801/article/details/89485951' **(example)**\n",
        "\n",
        "URL_2 = \"https://www.jianshu.com/p/a8037a38e219\"\n",
        "\n",
        "URL_3 = \"https://zhuanlan.zhihu.com/p/21550547\""
      ]
    },
    {
      "cell_type": "markdown",
      "metadata": {
        "id": "ak4vPJKDBtxp",
        "colab_type": "text"
      },
      "source": [
        "DataCamp = \"https://www.datacamp.com/community/tutorials/machine-learning-python\""
      ]
    }
  ]
}
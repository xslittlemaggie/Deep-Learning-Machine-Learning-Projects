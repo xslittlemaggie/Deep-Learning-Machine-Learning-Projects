{
  "nbformat": 4,
  "nbformat_minor": 0,
  "metadata": {
    "kernelspec": {
      "display_name": "Python 3",
      "language": "python",
      "name": "python3"
    },
    "language_info": {
      "codemirror_mode": {
        "name": "ipython",
        "version": 3
      },
      "file_extension": ".py",
      "mimetype": "text/x-python",
      "name": "python",
      "nbconvert_exporter": "python",
      "pygments_lexer": "ipython3",
      "version": "3.6.7"
    },
    "colab": {
      "name": "Titanic_LH.ipynb",
      "version": "0.3.2",
      "provenance": [],
      "include_colab_link": true
    }
  },
  "cells": [
    {
      "cell_type": "markdown",
      "metadata": {
        "id": "view-in-github",
        "colab_type": "text"
      },
      "source": [
        "<a href=\"https://colab.research.google.com/github/xslittlemaggie/Deep-Learning-Machine-Learning-Projects/blob/master/RandomForest_LogisticRegression_CrossValidation_Titanic_LH.ipynb\" target=\"_parent\"><img src=\"https://colab.research.google.com/assets/colab-badge.svg\" alt=\"Open In Colab\"/></a>"
      ]
    },
    {
      "cell_type": "markdown",
      "metadata": {
        "id": "rEhhtQZpYm4n",
        "colab_type": "text"
      },
      "source": [
        "<h1><center>Kaggle project: Titanic classification</center></h1>"
      ]
    },
    {
      "cell_type": "markdown",
      "metadata": {
        "id": "X3mOBqjcZGsg",
        "colab_type": "text"
      },
      "source": [
        "## Part 0: Import Needed packages"
      ]
    },
    {
      "cell_type": "code",
      "metadata": {
        "id": "JYHTgU0CYLsu",
        "colab_type": "code",
        "colab": {}
      },
      "source": [
        "# Data analysis and wrangling\n",
        "import pandas as pd\n",
        "from pandas import Series, DataFrame\n",
        "import numpy as np\n",
        "import random as rnd\n",
        "\n",
        "# Visualization\n",
        "import seaborn as sns\n",
        "import matplotlib.pyplot as plt\n",
        "%matplotlib inline\n",
        "\n",
        "# Machine Learning\n",
        "from sklearn.linear_model import LogisticRegression\n",
        "from sklearn.linear_model import LinearRegression\n",
        "from sklearn.model_selection import KFold\n",
        "from sklearn.model_selection import cross_val_score\n",
        "from sklearn.model_selection import cross_val_predict\n",
        "\n",
        "from sklearn.svm import SVC, LinearSVC\n",
        "from sklearn.ensemble import RandomForestClassifier\n",
        "from sklearn.neighbors import KNeighborsClassifier\n",
        "from sklearn.naive_bayes import GaussianNB\n",
        "from sklearn.linear_model import Perceptron\n",
        "from sklearn.linear_model import SGDClassifier\n",
        "from sklearn.tree import DecisionTreeClassifier\n",
        "\n",
        "import matplotlib.pyplot as plt"
      ],
      "execution_count": 0,
      "outputs": []
    },
    {
      "cell_type": "markdown",
      "metadata": {
        "id": "7pNps5YgYLs_",
        "colab_type": "text"
      },
      "source": [
        "## Part 1: Import data"
      ]
    },
    {
      "cell_type": "code",
      "metadata": {
        "id": "D2GnivqkYLtA",
        "colab_type": "code",
        "colab": {}
      },
      "source": [
        "# load data to colab from local manually\n",
        "titanic = pd.read_csv('train.csv')\n",
        "test = pd.read_csv('test.csv')\n",
        "combine = [titanic, test]"
      ],
      "execution_count": 0,
      "outputs": []
    },
    {
      "cell_type": "markdown",
      "metadata": {
        "id": "SBfnfGFxYLtK",
        "colab_type": "text"
      },
      "source": [
        "#### 1. Which features are available in the dataset?"
      ]
    },
    {
      "cell_type": "code",
      "metadata": {
        "id": "2h0rm8onYLtN",
        "colab_type": "code",
        "outputId": "df8d38bd-f6a7-4523-c38e-8def3ddffe85",
        "colab": {
          "base_uri": "https://localhost:8080/",
          "height": 50
        }
      },
      "source": [
        "print(titanic.columns.values)"
      ],
      "execution_count": 6,
      "outputs": [
        {
          "output_type": "stream",
          "text": [
            "['PassengerId' 'Survived' 'Pclass' 'Name' 'Sex' 'Age' 'SibSp' 'Parch'\n",
            " 'Ticket' 'Fare' 'Cabin' 'Embarked']\n"
          ],
          "name": "stdout"
        }
      ]
    },
    {
      "cell_type": "code",
      "metadata": {
        "id": "Ah-2fMI7ZmDS",
        "colab_type": "code",
        "outputId": "315a8f47-9456-4a7e-8d22-7609664f11a8",
        "colab": {
          "base_uri": "https://localhost:8080/",
          "height": 195
        }
      },
      "source": [
        "titanic.head()"
      ],
      "execution_count": 7,
      "outputs": [
        {
          "output_type": "execute_result",
          "data": {
            "text/html": [
              "<div>\n",
              "<style scoped>\n",
              "    .dataframe tbody tr th:only-of-type {\n",
              "        vertical-align: middle;\n",
              "    }\n",
              "\n",
              "    .dataframe tbody tr th {\n",
              "        vertical-align: top;\n",
              "    }\n",
              "\n",
              "    .dataframe thead th {\n",
              "        text-align: right;\n",
              "    }\n",
              "</style>\n",
              "<table border=\"1\" class=\"dataframe\">\n",
              "  <thead>\n",
              "    <tr style=\"text-align: right;\">\n",
              "      <th></th>\n",
              "      <th>PassengerId</th>\n",
              "      <th>Survived</th>\n",
              "      <th>Pclass</th>\n",
              "      <th>Name</th>\n",
              "      <th>Sex</th>\n",
              "      <th>Age</th>\n",
              "      <th>SibSp</th>\n",
              "      <th>Parch</th>\n",
              "      <th>Ticket</th>\n",
              "      <th>Fare</th>\n",
              "      <th>Cabin</th>\n",
              "      <th>Embarked</th>\n",
              "    </tr>\n",
              "  </thead>\n",
              "  <tbody>\n",
              "    <tr>\n",
              "      <th>0</th>\n",
              "      <td>1</td>\n",
              "      <td>0</td>\n",
              "      <td>3</td>\n",
              "      <td>Braund, Mr. Owen Harris</td>\n",
              "      <td>male</td>\n",
              "      <td>22.0</td>\n",
              "      <td>1</td>\n",
              "      <td>0</td>\n",
              "      <td>A/5 21171</td>\n",
              "      <td>7.2500</td>\n",
              "      <td>NaN</td>\n",
              "      <td>S</td>\n",
              "    </tr>\n",
              "    <tr>\n",
              "      <th>1</th>\n",
              "      <td>2</td>\n",
              "      <td>1</td>\n",
              "      <td>1</td>\n",
              "      <td>Cumings, Mrs. John Bradley (Florence Briggs Th...</td>\n",
              "      <td>female</td>\n",
              "      <td>38.0</td>\n",
              "      <td>1</td>\n",
              "      <td>0</td>\n",
              "      <td>PC 17599</td>\n",
              "      <td>71.2833</td>\n",
              "      <td>C85</td>\n",
              "      <td>C</td>\n",
              "    </tr>\n",
              "    <tr>\n",
              "      <th>2</th>\n",
              "      <td>3</td>\n",
              "      <td>1</td>\n",
              "      <td>3</td>\n",
              "      <td>Heikkinen, Miss. Laina</td>\n",
              "      <td>female</td>\n",
              "      <td>26.0</td>\n",
              "      <td>0</td>\n",
              "      <td>0</td>\n",
              "      <td>STON/O2. 3101282</td>\n",
              "      <td>7.9250</td>\n",
              "      <td>NaN</td>\n",
              "      <td>S</td>\n",
              "    </tr>\n",
              "    <tr>\n",
              "      <th>3</th>\n",
              "      <td>4</td>\n",
              "      <td>1</td>\n",
              "      <td>1</td>\n",
              "      <td>Futrelle, Mrs. Jacques Heath (Lily May Peel)</td>\n",
              "      <td>female</td>\n",
              "      <td>35.0</td>\n",
              "      <td>1</td>\n",
              "      <td>0</td>\n",
              "      <td>113803</td>\n",
              "      <td>53.1000</td>\n",
              "      <td>C123</td>\n",
              "      <td>S</td>\n",
              "    </tr>\n",
              "    <tr>\n",
              "      <th>4</th>\n",
              "      <td>5</td>\n",
              "      <td>0</td>\n",
              "      <td>3</td>\n",
              "      <td>Allen, Mr. William Henry</td>\n",
              "      <td>male</td>\n",
              "      <td>35.0</td>\n",
              "      <td>0</td>\n",
              "      <td>0</td>\n",
              "      <td>373450</td>\n",
              "      <td>8.0500</td>\n",
              "      <td>NaN</td>\n",
              "      <td>S</td>\n",
              "    </tr>\n",
              "  </tbody>\n",
              "</table>\n",
              "</div>"
            ],
            "text/plain": [
              "   PassengerId  Survived  Pclass  ...     Fare Cabin  Embarked\n",
              "0            1         0       3  ...   7.2500   NaN         S\n",
              "1            2         1       1  ...  71.2833   C85         C\n",
              "2            3         1       3  ...   7.9250   NaN         S\n",
              "3            4         1       1  ...  53.1000  C123         S\n",
              "4            5         0       3  ...   8.0500   NaN         S\n",
              "\n",
              "[5 rows x 12 columns]"
            ]
          },
          "metadata": {
            "tags": []
          },
          "execution_count": 7
        }
      ]
    },
    {
      "cell_type": "markdown",
      "metadata": {
        "id": "HN0gd2a_Z8Se",
        "colab_type": "text"
      },
      "source": [
        "## Part 2: Features engineering"
      ]
    },
    {
      "cell_type": "code",
      "metadata": {
        "id": "0shKCVaURlvX",
        "colab_type": "code",
        "outputId": "e21a8a24-66fc-42e1-a5e1-5310937bb2a0",
        "colab": {
          "base_uri": "https://localhost:8080/",
          "height": 454
        }
      },
      "source": [
        "print(titanic.isnull().sum())\n",
        "print(\"-\" * 20)\n",
        "print(test.isnull().sum())"
      ],
      "execution_count": 8,
      "outputs": [
        {
          "output_type": "stream",
          "text": [
            "PassengerId      0\n",
            "Survived         0\n",
            "Pclass           0\n",
            "Name             0\n",
            "Sex              0\n",
            "Age            177\n",
            "SibSp            0\n",
            "Parch            0\n",
            "Ticket           0\n",
            "Fare             0\n",
            "Cabin          687\n",
            "Embarked         2\n",
            "dtype: int64\n",
            "--------------------\n",
            "PassengerId      0\n",
            "Pclass           0\n",
            "Name             0\n",
            "Sex              0\n",
            "Age             86\n",
            "SibSp            0\n",
            "Parch            0\n",
            "Ticket           0\n",
            "Fare             1\n",
            "Cabin          327\n",
            "Embarked         0\n",
            "dtype: int64\n"
          ],
          "name": "stdout"
        }
      ]
    },
    {
      "cell_type": "markdown",
      "metadata": {
        "id": "qDhDKZo5YLuF",
        "colab_type": "text"
      },
      "source": [
        "For titanic (training) dataset, there is a total of 891 samples, while 177 (19/8%) missing values for age, 687 (77%) missing values for Cabin, and 2 missing values for Embarked. \n",
        "\n",
        "Next, I will repalce the missing values with reasonable approximations.\n",
        "\n",
        "The similar feature engineer will be applied to test dataset"
      ]
    },
    {
      "cell_type": "code",
      "metadata": {
        "id": "zkCBSNeicrLp",
        "colab_type": "code",
        "colab": {}
      },
      "source": [
        "#print(titanic[\"Sex\"].unique())\n",
        "#titanic.loc[titanic[\"Sex\"] == \"male\", \"Sex\"] = 0\n",
        "#titanic.loc[titanic[\"Sex\"] == \"female\", \"Sex\"] = 1"
      ],
      "execution_count": 0,
      "outputs": []
    },
    {
      "cell_type": "markdown",
      "metadata": {
        "id": "uHWqv_2yVMX0",
        "colab_type": "text"
      },
      "source": [
        "### 1. General descriptive analysis of the features"
      ]
    },
    {
      "cell_type": "markdown",
      "metadata": {
        "id": "Aohzy2yGYLuR",
        "colab_type": "text"
      },
      "source": [
        "#### 1.1 What are the datatypes for various features?"
      ]
    },
    {
      "cell_type": "markdown",
      "metadata": {
        "id": "ObVIg48bYLuU",
        "colab_type": "text"
      },
      "source": [
        "Helping us during converting goal. \n",
        "\n",
        "1). Seven features are integer or floats. Six in case of test datasets. \n",
        "\n",
        "2). Five features are strings (object)."
      ]
    },
    {
      "cell_type": "code",
      "metadata": {
        "id": "3zcSf81ZYLuV",
        "colab_type": "code",
        "outputId": "0e466a42-2694-46b1-f39b-d6673b6fb05a",
        "colab": {
          "base_uri": "https://localhost:8080/",
          "height": 588
        }
      },
      "source": [
        "titanic.info()\n",
        "print('_' * 40)\n",
        "test.info()"
      ],
      "execution_count": 10,
      "outputs": [
        {
          "output_type": "stream",
          "text": [
            "<class 'pandas.core.frame.DataFrame'>\n",
            "RangeIndex: 891 entries, 0 to 890\n",
            "Data columns (total 12 columns):\n",
            "PassengerId    891 non-null int64\n",
            "Survived       891 non-null int64\n",
            "Pclass         891 non-null int64\n",
            "Name           891 non-null object\n",
            "Sex            891 non-null object\n",
            "Age            714 non-null float64\n",
            "SibSp          891 non-null int64\n",
            "Parch          891 non-null int64\n",
            "Ticket         891 non-null object\n",
            "Fare           891 non-null float64\n",
            "Cabin          204 non-null object\n",
            "Embarked       889 non-null object\n",
            "dtypes: float64(2), int64(5), object(5)\n",
            "memory usage: 83.6+ KB\n",
            "________________________________________\n",
            "<class 'pandas.core.frame.DataFrame'>\n",
            "RangeIndex: 418 entries, 0 to 417\n",
            "Data columns (total 11 columns):\n",
            "PassengerId    418 non-null int64\n",
            "Pclass         418 non-null int64\n",
            "Name           418 non-null object\n",
            "Sex            418 non-null object\n",
            "Age            332 non-null float64\n",
            "SibSp          418 non-null int64\n",
            "Parch          418 non-null int64\n",
            "Ticket         418 non-null object\n",
            "Fare           417 non-null float64\n",
            "Cabin          91 non-null object\n",
            "Embarked       418 non-null object\n",
            "dtypes: float64(2), int64(4), object(5)\n",
            "memory usage: 36.0+ KB\n"
          ],
          "name": "stdout"
        }
      ]
    },
    {
      "cell_type": "markdown",
      "metadata": {
        "id": "qjaIr0LcYLuc",
        "colab_type": "text"
      },
      "source": [
        "#### 1.2 What is the distribution of numerical feature values across the samples?"
      ]
    },
    {
      "cell_type": "markdown",
      "metadata": {
        "id": "wZ2WowKNYLud",
        "colab_type": "text"
      },
      "source": [
        "This helps us determine, among other early insights, how representative is the training dataset of the actual problem domain.\n",
        "\n",
        "1). Total samples are 891 or 40% of the actual number of passengers on board the Titanic (2,224)\n",
        "\n",
        "2). Survived is a categorical feature with 0 or 1 values. \n",
        "\n",
        "3). Around 38% samples survived. (**code** : titanic.Survived.mean())\n",
        "\n",
        "4). Most passengers (> 75%) did not travel with parents or children. (**code**: titanic.Parch.value_counts())\n",
        "\n",
        "5). Nearly 30% of the passengers had siblings and/or spouse aboard. (**code**: titanic.SibSp.value_counts())\n",
        "\n",
        "6). Fares varied significantly with few passengers (< 1%) paying as high as %521. (**code**: titanic.Fare.hist())\n",
        "\n",
        "7). Few elderly passenger (< 1%) within age range 65 - 80. (**code**: titanic.Age.hist())"
      ]
    },
    {
      "cell_type": "code",
      "metadata": {
        "id": "Im-LjHZaYLue",
        "colab_type": "code",
        "outputId": "1f2fb04a-c340-48c5-982d-db0415856223",
        "colab": {
          "base_uri": "https://localhost:8080/",
          "height": 284
        }
      },
      "source": [
        "titanic.describe()"
      ],
      "execution_count": 11,
      "outputs": [
        {
          "output_type": "execute_result",
          "data": {
            "text/html": [
              "<div>\n",
              "<style scoped>\n",
              "    .dataframe tbody tr th:only-of-type {\n",
              "        vertical-align: middle;\n",
              "    }\n",
              "\n",
              "    .dataframe tbody tr th {\n",
              "        vertical-align: top;\n",
              "    }\n",
              "\n",
              "    .dataframe thead th {\n",
              "        text-align: right;\n",
              "    }\n",
              "</style>\n",
              "<table border=\"1\" class=\"dataframe\">\n",
              "  <thead>\n",
              "    <tr style=\"text-align: right;\">\n",
              "      <th></th>\n",
              "      <th>PassengerId</th>\n",
              "      <th>Survived</th>\n",
              "      <th>Pclass</th>\n",
              "      <th>Age</th>\n",
              "      <th>SibSp</th>\n",
              "      <th>Parch</th>\n",
              "      <th>Fare</th>\n",
              "    </tr>\n",
              "  </thead>\n",
              "  <tbody>\n",
              "    <tr>\n",
              "      <th>count</th>\n",
              "      <td>891.000000</td>\n",
              "      <td>891.000000</td>\n",
              "      <td>891.000000</td>\n",
              "      <td>714.000000</td>\n",
              "      <td>891.000000</td>\n",
              "      <td>891.000000</td>\n",
              "      <td>891.000000</td>\n",
              "    </tr>\n",
              "    <tr>\n",
              "      <th>mean</th>\n",
              "      <td>446.000000</td>\n",
              "      <td>0.383838</td>\n",
              "      <td>2.308642</td>\n",
              "      <td>29.699118</td>\n",
              "      <td>0.523008</td>\n",
              "      <td>0.381594</td>\n",
              "      <td>32.204208</td>\n",
              "    </tr>\n",
              "    <tr>\n",
              "      <th>std</th>\n",
              "      <td>257.353842</td>\n",
              "      <td>0.486592</td>\n",
              "      <td>0.836071</td>\n",
              "      <td>14.526497</td>\n",
              "      <td>1.102743</td>\n",
              "      <td>0.806057</td>\n",
              "      <td>49.693429</td>\n",
              "    </tr>\n",
              "    <tr>\n",
              "      <th>min</th>\n",
              "      <td>1.000000</td>\n",
              "      <td>0.000000</td>\n",
              "      <td>1.000000</td>\n",
              "      <td>0.420000</td>\n",
              "      <td>0.000000</td>\n",
              "      <td>0.000000</td>\n",
              "      <td>0.000000</td>\n",
              "    </tr>\n",
              "    <tr>\n",
              "      <th>25%</th>\n",
              "      <td>223.500000</td>\n",
              "      <td>0.000000</td>\n",
              "      <td>2.000000</td>\n",
              "      <td>20.125000</td>\n",
              "      <td>0.000000</td>\n",
              "      <td>0.000000</td>\n",
              "      <td>7.910400</td>\n",
              "    </tr>\n",
              "    <tr>\n",
              "      <th>50%</th>\n",
              "      <td>446.000000</td>\n",
              "      <td>0.000000</td>\n",
              "      <td>3.000000</td>\n",
              "      <td>28.000000</td>\n",
              "      <td>0.000000</td>\n",
              "      <td>0.000000</td>\n",
              "      <td>14.454200</td>\n",
              "    </tr>\n",
              "    <tr>\n",
              "      <th>75%</th>\n",
              "      <td>668.500000</td>\n",
              "      <td>1.000000</td>\n",
              "      <td>3.000000</td>\n",
              "      <td>38.000000</td>\n",
              "      <td>1.000000</td>\n",
              "      <td>0.000000</td>\n",
              "      <td>31.000000</td>\n",
              "    </tr>\n",
              "    <tr>\n",
              "      <th>max</th>\n",
              "      <td>891.000000</td>\n",
              "      <td>1.000000</td>\n",
              "      <td>3.000000</td>\n",
              "      <td>80.000000</td>\n",
              "      <td>8.000000</td>\n",
              "      <td>6.000000</td>\n",
              "      <td>512.329200</td>\n",
              "    </tr>\n",
              "  </tbody>\n",
              "</table>\n",
              "</div>"
            ],
            "text/plain": [
              "       PassengerId    Survived      Pclass  ...       SibSp       Parch        Fare\n",
              "count   891.000000  891.000000  891.000000  ...  891.000000  891.000000  891.000000\n",
              "mean    446.000000    0.383838    2.308642  ...    0.523008    0.381594   32.204208\n",
              "std     257.353842    0.486592    0.836071  ...    1.102743    0.806057   49.693429\n",
              "min       1.000000    0.000000    1.000000  ...    0.000000    0.000000    0.000000\n",
              "25%     223.500000    0.000000    2.000000  ...    0.000000    0.000000    7.910400\n",
              "50%     446.000000    0.000000    3.000000  ...    0.000000    0.000000   14.454200\n",
              "75%     668.500000    1.000000    3.000000  ...    1.000000    0.000000   31.000000\n",
              "max     891.000000    1.000000    3.000000  ...    8.000000    6.000000  512.329200\n",
              "\n",
              "[8 rows x 7 columns]"
            ]
          },
          "metadata": {
            "tags": []
          },
          "execution_count": 11
        }
      ]
    },
    {
      "cell_type": "markdown",
      "metadata": {
        "id": "eWvk-XTiYLuj",
        "colab_type": "text"
      },
      "source": [
        "#### 1.3 What is the distribution of categorical features?"
      ]
    },
    {
      "cell_type": "markdown",
      "metadata": {
        "id": "1rFKEzhmYLul",
        "colab_type": "text"
      },
      "source": [
        "1). Names are unique across the dataset (count =  unique = 891)\n",
        "\n",
        "2). Sex variable as two possible values with 65% male (top = male, freq = 577/count = 891)\n",
        "\n",
        "3). Cabin values have several duplicates across samples. \n",
        "\n",
        "4). Embarked takes three possible values. S port used by most passengers (top = S)\n",
        "\n",
        "5). Ticket feature has high ratio (22%) of duplicate values (unique = 681)"
      ]
    },
    {
      "cell_type": "code",
      "metadata": {
        "id": "n9YoWJPSYLum",
        "colab_type": "code",
        "outputId": "c417ea3d-4d63-4f54-ee79-88bc6b75a274",
        "colab": {
          "base_uri": "https://localhost:8080/",
          "height": 166
        }
      },
      "source": [
        "# Only get the descriptive information for the categorical features. \n",
        "titanic.describe(include = ['O'])"
      ],
      "execution_count": 12,
      "outputs": [
        {
          "output_type": "execute_result",
          "data": {
            "text/html": [
              "<div>\n",
              "<style scoped>\n",
              "    .dataframe tbody tr th:only-of-type {\n",
              "        vertical-align: middle;\n",
              "    }\n",
              "\n",
              "    .dataframe tbody tr th {\n",
              "        vertical-align: top;\n",
              "    }\n",
              "\n",
              "    .dataframe thead th {\n",
              "        text-align: right;\n",
              "    }\n",
              "</style>\n",
              "<table border=\"1\" class=\"dataframe\">\n",
              "  <thead>\n",
              "    <tr style=\"text-align: right;\">\n",
              "      <th></th>\n",
              "      <th>Name</th>\n",
              "      <th>Sex</th>\n",
              "      <th>Ticket</th>\n",
              "      <th>Cabin</th>\n",
              "      <th>Embarked</th>\n",
              "    </tr>\n",
              "  </thead>\n",
              "  <tbody>\n",
              "    <tr>\n",
              "      <th>count</th>\n",
              "      <td>891</td>\n",
              "      <td>891</td>\n",
              "      <td>891</td>\n",
              "      <td>204</td>\n",
              "      <td>889</td>\n",
              "    </tr>\n",
              "    <tr>\n",
              "      <th>unique</th>\n",
              "      <td>891</td>\n",
              "      <td>2</td>\n",
              "      <td>681</td>\n",
              "      <td>147</td>\n",
              "      <td>3</td>\n",
              "    </tr>\n",
              "    <tr>\n",
              "      <th>top</th>\n",
              "      <td>Klaber, Mr. Herman</td>\n",
              "      <td>male</td>\n",
              "      <td>CA. 2343</td>\n",
              "      <td>G6</td>\n",
              "      <td>S</td>\n",
              "    </tr>\n",
              "    <tr>\n",
              "      <th>freq</th>\n",
              "      <td>1</td>\n",
              "      <td>577</td>\n",
              "      <td>7</td>\n",
              "      <td>4</td>\n",
              "      <td>644</td>\n",
              "    </tr>\n",
              "  </tbody>\n",
              "</table>\n",
              "</div>"
            ],
            "text/plain": [
              "                      Name   Sex    Ticket Cabin Embarked\n",
              "count                  891   891       891   204      889\n",
              "unique                 891     2       681   147        3\n",
              "top     Klaber, Mr. Herman  male  CA. 2343    G6        S\n",
              "freq                     1   577         7     4      644"
            ]
          },
          "metadata": {
            "tags": []
          },
          "execution_count": 12
        }
      ]
    },
    {
      "cell_type": "markdown",
      "metadata": {
        "id": "yk2DmMOF5QA3",
        "colab_type": "text"
      },
      "source": [
        "### 2. Features preprocessing"
      ]
    },
    {
      "cell_type": "markdown",
      "metadata": {
        "id": "Fb2g3tO2YLux",
        "colab_type": "text"
      },
      "source": [
        "#### 2.1 Feature Correlating"
      ]
    },
    {
      "cell_type": "markdown",
      "metadata": {
        "colab_type": "text",
        "id": "MaSEJT-BXsIU"
      },
      "source": [
        "We want to know how well does each feature coorelate with Survival. We want to do this early in our project and match these quick correlations with modelled correlations later in the project. "
      ]
    },
    {
      "cell_type": "markdown",
      "metadata": {
        "id": "xJ_qqqo5YLu2",
        "colab_type": "text"
      },
      "source": [
        "#### 2.2 Feature correcting "
      ]
    },
    {
      "cell_type": "markdown",
      "metadata": {
        "id": "rAs9Exm-YLu3",
        "colab_type": "text"
      },
      "source": [
        "1). Ticket feature may be dropped from our analysis as it contains high ratio of duplicates (22%) and there may not be a correlation between Ticket and survival. \n",
        "\n",
        "2). Cabin feature may be dropped as it is highly incomplete or contains many null values both in training and test datasets. \n",
        "\n",
        "3). PassengerId may be dropped from training dataset as it does not contribute to survival. \n",
        "\n",
        "4). Name feature is relative non-standard, may not contribute directly to survival, so maybe droppped. "
      ]
    },
    {
      "cell_type": "markdown",
      "metadata": {
        "id": "nwdNWOb3YLu6",
        "colab_type": "text"
      },
      "source": [
        "####2.3  Feature creating"
      ]
    },
    {
      "cell_type": "markdown",
      "metadata": {
        "id": "1a1E5FBlYLu-",
        "colab_type": "text"
      },
      "source": [
        "1). We may want to create a new feature called Family based on Parch and SibSp to get total count of family members on board. \n",
        "\n",
        "2). We may want to engineer the Name feature to extract Title as a new feature. \n",
        "\n",
        "3). We may want to create new feature for Age bands. This turns a continuous numerical feature into an ordinal categorical feature. \n",
        "\n",
        "4). We may also want to create a Fare range feature if it helps our analysis. "
      ]
    },
    {
      "cell_type": "markdown",
      "metadata": {
        "id": "1YGlchx4YLvB",
        "colab_type": "text"
      },
      "source": [
        "#### 2.4 Classifying"
      ]
    },
    {
      "cell_type": "markdown",
      "metadata": {
        "id": "_8W58IzZYLvD",
        "colab_type": "text"
      },
      "source": [
        "We may also add to our assumptions based on the problem description noted earlier. \n",
        "\n",
        "1). Women (sex = female) were more likely to have survived. \n",
        "\n",
        "2). Childre (Age < ?) were more likely to have survived. \n",
        "\n",
        "3). The upper-class passengers (Pclass = 1) were more likely to have survived. "
      ]
    },
    {
      "cell_type": "markdown",
      "metadata": {
        "id": "EJoTZ0qFYLvE",
        "colab_type": "text"
      },
      "source": [
        "## Part 4: Analyzing by pivoting features"
      ]
    },
    {
      "cell_type": "markdown",
      "metadata": {
        "id": "nmcy7r4EYLvG",
        "colab_type": "text"
      },
      "source": [
        "To confirm some of our observations and assumptions, we can quickly analyze our feature correlations by pivoting features against each other. We can only do so at this stage for features which do not have an empty values. It alse makes sense doing so only for features which are categorical(Sex), ordinal (Pclass) or discrete(SibSp, Parch) type. \n",
        "\n",
        "1). Pclass - we observe significant correlation ( > 0.5) among Pclass =1 and Survived (classifying # 3). We decide to include this feature in our mode. \n",
        "\n",
        "2). Sex - we confirm the observation during problem definition that Sex = female had very high survial rate at 74% (classifying #1).\n",
        "\n",
        "3). SibSp and parch - these features have zero correlation for certain values. It may be best to derive a feature or a set of features from these individual features (creating # 1)."
      ]
    },
    {
      "cell_type": "markdown",
      "metadata": {
        "id": "EoJFEWMO6PQq",
        "colab_type": "text"
      },
      "source": [
        "#### 1. Correlation between Pclass & Survived\n",
        "Passengers from Class 1 are more likely to be survivied (63%)."
      ]
    },
    {
      "cell_type": "code",
      "metadata": {
        "id": "6-bMS3MEYLvK",
        "colab_type": "code",
        "outputId": "f4a6453d-c59e-44a4-f55b-20d28c3bf978",
        "colab": {
          "base_uri": "https://localhost:8080/",
          "height": 136
        }
      },
      "source": [
        "titanic[['Pclass', 'Survived']].groupby(['Pclass'], as_index = False).mean().sort_values(by = 'Survived', ascending = False)"
      ],
      "execution_count": 13,
      "outputs": [
        {
          "output_type": "execute_result",
          "data": {
            "text/html": [
              "<div>\n",
              "<style scoped>\n",
              "    .dataframe tbody tr th:only-of-type {\n",
              "        vertical-align: middle;\n",
              "    }\n",
              "\n",
              "    .dataframe tbody tr th {\n",
              "        vertical-align: top;\n",
              "    }\n",
              "\n",
              "    .dataframe thead th {\n",
              "        text-align: right;\n",
              "    }\n",
              "</style>\n",
              "<table border=\"1\" class=\"dataframe\">\n",
              "  <thead>\n",
              "    <tr style=\"text-align: right;\">\n",
              "      <th></th>\n",
              "      <th>Pclass</th>\n",
              "      <th>Survived</th>\n",
              "    </tr>\n",
              "  </thead>\n",
              "  <tbody>\n",
              "    <tr>\n",
              "      <th>0</th>\n",
              "      <td>1</td>\n",
              "      <td>0.629630</td>\n",
              "    </tr>\n",
              "    <tr>\n",
              "      <th>1</th>\n",
              "      <td>2</td>\n",
              "      <td>0.472826</td>\n",
              "    </tr>\n",
              "    <tr>\n",
              "      <th>2</th>\n",
              "      <td>3</td>\n",
              "      <td>0.242363</td>\n",
              "    </tr>\n",
              "  </tbody>\n",
              "</table>\n",
              "</div>"
            ],
            "text/plain": [
              "   Pclass  Survived\n",
              "0       1  0.629630\n",
              "1       2  0.472826\n",
              "2       3  0.242363"
            ]
          },
          "metadata": {
            "tags": []
          },
          "execution_count": 13
        }
      ]
    },
    {
      "cell_type": "markdown",
      "metadata": {
        "id": "KSH1AdIm6hTb",
        "colab_type": "text"
      },
      "source": [
        "#### 2. Correlation between Sex & Survived\n",
        "Females are more likely to be survivied (74%)."
      ]
    },
    {
      "cell_type": "code",
      "metadata": {
        "id": "xPbV-tJ_YLva",
        "colab_type": "code",
        "outputId": "eaacddc9-c7e8-4d72-95b3-db8b4be99afa",
        "colab": {
          "base_uri": "https://localhost:8080/",
          "height": 106
        }
      },
      "source": [
        "titanic[['Sex', 'Survived']].groupby(['Sex'], as_index = False).mean().sort_values(by = 'Survived', ascending = False)"
      ],
      "execution_count": 14,
      "outputs": [
        {
          "output_type": "execute_result",
          "data": {
            "text/html": [
              "<div>\n",
              "<style scoped>\n",
              "    .dataframe tbody tr th:only-of-type {\n",
              "        vertical-align: middle;\n",
              "    }\n",
              "\n",
              "    .dataframe tbody tr th {\n",
              "        vertical-align: top;\n",
              "    }\n",
              "\n",
              "    .dataframe thead th {\n",
              "        text-align: right;\n",
              "    }\n",
              "</style>\n",
              "<table border=\"1\" class=\"dataframe\">\n",
              "  <thead>\n",
              "    <tr style=\"text-align: right;\">\n",
              "      <th></th>\n",
              "      <th>Sex</th>\n",
              "      <th>Survived</th>\n",
              "    </tr>\n",
              "  </thead>\n",
              "  <tbody>\n",
              "    <tr>\n",
              "      <th>0</th>\n",
              "      <td>female</td>\n",
              "      <td>0.742038</td>\n",
              "    </tr>\n",
              "    <tr>\n",
              "      <th>1</th>\n",
              "      <td>male</td>\n",
              "      <td>0.188908</td>\n",
              "    </tr>\n",
              "  </tbody>\n",
              "</table>\n",
              "</div>"
            ],
            "text/plain": [
              "      Sex  Survived\n",
              "0  female  0.742038\n",
              "1    male  0.188908"
            ]
          },
          "metadata": {
            "tags": []
          },
          "execution_count": 14
        }
      ]
    },
    {
      "cell_type": "markdown",
      "metadata": {
        "id": "e3VZ7hSM6nc2",
        "colab_type": "text"
      },
      "source": [
        "#### 3. Correlation between SibSp & Survived\n",
        "Passengers with 1 or 2 Siblings or Spouse are more likely to be survivied (53%, 46%)."
      ]
    },
    {
      "cell_type": "code",
      "metadata": {
        "id": "6bcI-411YLvj",
        "colab_type": "code",
        "outputId": "8e61ad12-555d-4e52-b146-78f2150c99c5",
        "colab": {
          "base_uri": "https://localhost:8080/",
          "height": 254
        }
      },
      "source": [
        "titanic[['SibSp', 'Survived']].groupby(['SibSp'], as_index = False).mean().sort_values(by = 'Survived', ascending = False)"
      ],
      "execution_count": 15,
      "outputs": [
        {
          "output_type": "execute_result",
          "data": {
            "text/html": [
              "<div>\n",
              "<style scoped>\n",
              "    .dataframe tbody tr th:only-of-type {\n",
              "        vertical-align: middle;\n",
              "    }\n",
              "\n",
              "    .dataframe tbody tr th {\n",
              "        vertical-align: top;\n",
              "    }\n",
              "\n",
              "    .dataframe thead th {\n",
              "        text-align: right;\n",
              "    }\n",
              "</style>\n",
              "<table border=\"1\" class=\"dataframe\">\n",
              "  <thead>\n",
              "    <tr style=\"text-align: right;\">\n",
              "      <th></th>\n",
              "      <th>SibSp</th>\n",
              "      <th>Survived</th>\n",
              "    </tr>\n",
              "  </thead>\n",
              "  <tbody>\n",
              "    <tr>\n",
              "      <th>1</th>\n",
              "      <td>1</td>\n",
              "      <td>0.535885</td>\n",
              "    </tr>\n",
              "    <tr>\n",
              "      <th>2</th>\n",
              "      <td>2</td>\n",
              "      <td>0.464286</td>\n",
              "    </tr>\n",
              "    <tr>\n",
              "      <th>0</th>\n",
              "      <td>0</td>\n",
              "      <td>0.345395</td>\n",
              "    </tr>\n",
              "    <tr>\n",
              "      <th>3</th>\n",
              "      <td>3</td>\n",
              "      <td>0.250000</td>\n",
              "    </tr>\n",
              "    <tr>\n",
              "      <th>4</th>\n",
              "      <td>4</td>\n",
              "      <td>0.166667</td>\n",
              "    </tr>\n",
              "    <tr>\n",
              "      <th>5</th>\n",
              "      <td>5</td>\n",
              "      <td>0.000000</td>\n",
              "    </tr>\n",
              "    <tr>\n",
              "      <th>6</th>\n",
              "      <td>8</td>\n",
              "      <td>0.000000</td>\n",
              "    </tr>\n",
              "  </tbody>\n",
              "</table>\n",
              "</div>"
            ],
            "text/plain": [
              "   SibSp  Survived\n",
              "1      1  0.535885\n",
              "2      2  0.464286\n",
              "0      0  0.345395\n",
              "3      3  0.250000\n",
              "4      4  0.166667\n",
              "5      5  0.000000\n",
              "6      8  0.000000"
            ]
          },
          "metadata": {
            "tags": []
          },
          "execution_count": 15
        }
      ]
    },
    {
      "cell_type": "markdown",
      "metadata": {
        "id": "TcjPDpBL7HWn",
        "colab_type": "text"
      },
      "source": [
        "#### 4. Correlation between Parch & Survived\n",
        "Passengers with 1, 2, or 3 Parents, children in total are more likely to be survivied (55%, 50%, 60%)."
      ]
    },
    {
      "cell_type": "code",
      "metadata": {
        "id": "CkBvBbHtYLvo",
        "colab_type": "code",
        "outputId": "2de0dce4-8def-4a1b-a74b-58b9c2380121",
        "colab": {
          "base_uri": "https://localhost:8080/",
          "height": 254
        }
      },
      "source": [
        "titanic[['Parch', 'Survived']].groupby(['Parch'], as_index = False).mean().sort_values(by = 'Survived', ascending = False)"
      ],
      "execution_count": 16,
      "outputs": [
        {
          "output_type": "execute_result",
          "data": {
            "text/html": [
              "<div>\n",
              "<style scoped>\n",
              "    .dataframe tbody tr th:only-of-type {\n",
              "        vertical-align: middle;\n",
              "    }\n",
              "\n",
              "    .dataframe tbody tr th {\n",
              "        vertical-align: top;\n",
              "    }\n",
              "\n",
              "    .dataframe thead th {\n",
              "        text-align: right;\n",
              "    }\n",
              "</style>\n",
              "<table border=\"1\" class=\"dataframe\">\n",
              "  <thead>\n",
              "    <tr style=\"text-align: right;\">\n",
              "      <th></th>\n",
              "      <th>Parch</th>\n",
              "      <th>Survived</th>\n",
              "    </tr>\n",
              "  </thead>\n",
              "  <tbody>\n",
              "    <tr>\n",
              "      <th>3</th>\n",
              "      <td>3</td>\n",
              "      <td>0.600000</td>\n",
              "    </tr>\n",
              "    <tr>\n",
              "      <th>1</th>\n",
              "      <td>1</td>\n",
              "      <td>0.550847</td>\n",
              "    </tr>\n",
              "    <tr>\n",
              "      <th>2</th>\n",
              "      <td>2</td>\n",
              "      <td>0.500000</td>\n",
              "    </tr>\n",
              "    <tr>\n",
              "      <th>0</th>\n",
              "      <td>0</td>\n",
              "      <td>0.343658</td>\n",
              "    </tr>\n",
              "    <tr>\n",
              "      <th>5</th>\n",
              "      <td>5</td>\n",
              "      <td>0.200000</td>\n",
              "    </tr>\n",
              "    <tr>\n",
              "      <th>4</th>\n",
              "      <td>4</td>\n",
              "      <td>0.000000</td>\n",
              "    </tr>\n",
              "    <tr>\n",
              "      <th>6</th>\n",
              "      <td>6</td>\n",
              "      <td>0.000000</td>\n",
              "    </tr>\n",
              "  </tbody>\n",
              "</table>\n",
              "</div>"
            ],
            "text/plain": [
              "   Parch  Survived\n",
              "3      3  0.600000\n",
              "1      1  0.550847\n",
              "2      2  0.500000\n",
              "0      0  0.343658\n",
              "5      5  0.200000\n",
              "4      4  0.000000\n",
              "6      6  0.000000"
            ]
          },
          "metadata": {
            "tags": []
          },
          "execution_count": 16
        }
      ]
    },
    {
      "cell_type": "markdown",
      "metadata": {
        "id": "TCs0j28eYLvt",
        "colab_type": "text"
      },
      "source": [
        "## Part 5: Analyzing by visualizing data"
      ]
    },
    {
      "cell_type": "markdown",
      "metadata": {
        "id": "kwuOxApBYLvx",
        "colab_type": "text"
      },
      "source": [
        "Now we can continue confirming some of our assumptions using visualizations for analyzing the data. "
      ]
    },
    {
      "cell_type": "markdown",
      "metadata": {
        "id": "tIni2-knYLvz",
        "colab_type": "text"
      },
      "source": [
        "### 1 Correlating numerical features,  Age & survival"
      ]
    },
    {
      "cell_type": "markdown",
      "metadata": {
        "id": "wWDdRY2pYLv2",
        "colab_type": "text"
      },
      "source": [
        "Let us start by understanding correlations between numerical features and our solution goal (Survived).\n",
        "\n",
        "A histogram chart is useful for analyzing continuous numerical variables Age where banding or ranges will help identify useful patterns. The histogram can inddicate distribution of samples using automatically defined bins or equally ranged bands. This helps us answer questions relating to speficif bands (Did infants have better survival rate?)\n",
        "\n",
        "Note that x-axis in histogram visualizations represents the count of samples or passengers. "
      ]
    },
    {
      "cell_type": "markdown",
      "metadata": {
        "id": "Z2dxT3Q6YLv3",
        "colab_type": "text"
      },
      "source": [
        "#### 1.1 Observations"
      ]
    },
    {
      "cell_type": "markdown",
      "metadata": {
        "id": "91FdP2zPYLv4",
        "colab_type": "text"
      },
      "source": [
        "1). Infants (Age <= 4) had high survived rate.\n",
        "\n",
        "2). Oldest passengers (Age = 80) survived. \n",
        "\n",
        "3). Large number of 15 - 25 year olds did not survive. \n",
        "\n",
        "4). Most passengers are in 15 - 35 age range. "
      ]
    },
    {
      "cell_type": "markdown",
      "metadata": {
        "id": "aWNEhYbqYLv6",
        "colab_type": "text"
      },
      "source": [
        "#### 1.2 Decisions"
      ]
    },
    {
      "cell_type": "markdown",
      "metadata": {
        "id": "mHOHTr-iYLv8",
        "colab_type": "text"
      },
      "source": [
        "This simple analysis confirms our assumptions as decisions for subsequent workflow stags. \n",
        "\n",
        "\n",
        "1). We should consider Age( our assumption classifying #2) in our model training. \n",
        "\n",
        "2). Completing the Age feature for null values (completing #1).\n",
        "\n",
        "3). We should band age groups (creating #3)."
      ]
    },
    {
      "cell_type": "code",
      "metadata": {
        "id": "X35VdgywYLv9",
        "colab_type": "code",
        "outputId": "9d49b593-5f16-4579-c40c-570a810a550b",
        "colab": {
          "base_uri": "https://localhost:8080/",
          "height": 242
        }
      },
      "source": [
        "g = sns.FacetGrid(titanic, col = 'Survived')\n",
        "g.map(plt.hist, 'Age', bins = 20, color = 'lightblue', edgecolor = 'black')"
      ],
      "execution_count": 17,
      "outputs": [
        {
          "output_type": "execute_result",
          "data": {
            "text/plain": [
              "<seaborn.axisgrid.FacetGrid at 0x7f7ac6dccda0>"
            ]
          },
          "metadata": {
            "tags": []
          },
          "execution_count": 17
        },
        {
          "output_type": "display_data",
          "data": {
            "image/png": "[encoded data removed]",
            "text/plain": [
              "<Figure size 432x216 with 2 Axes>"
            ]
          },
          "metadata": {
            "tags": []
          }
        }
      ]
    },
    {
      "cell_type": "markdown",
      "metadata": {
        "id": "_IZy312OYLwV",
        "colab_type": "text"
      },
      "source": [
        "### 2 Correlating numerical and ordinal features, Age, Pclass & Survived"
      ]
    },
    {
      "cell_type": "markdown",
      "metadata": {
        "id": "9az8IC-jYLwk",
        "colab_type": "text"
      },
      "source": [
        "We can combine multiple features for identifying correlations using a single plot. This can be done with numerical and categorical features which have numeric values. "
      ]
    },
    {
      "cell_type": "markdown",
      "metadata": {
        "id": "4crScwSHYLwt",
        "colab_type": "text"
      },
      "source": [
        "#### 2.1 Observations"
      ]
    },
    {
      "cell_type": "markdown",
      "metadata": {
        "id": "q4SScHZJYLwv",
        "colab_type": "text"
      },
      "source": [
        "1). Pclass = 3 had most passengers, however most did not survive. Confirms our classifyint assumption #2. \n",
        "\n",
        "2). Infant passengers in Pclass = 2 and Pclass = 3 mostly survived. Further qualifies our classifying assumption #2. \n",
        "\n",
        "3). Most passengers in Pclass = 1 survived. Confirmed our classifying assumption #3. \n",
        "\n",
        "4). Pclass varies in terms of Age distribution of passengers. "
      ]
    },
    {
      "cell_type": "markdown",
      "metadata": {
        "id": "CvqBMSOJYLw2",
        "colab_type": "text"
      },
      "source": [
        "#### 2.2 Decision"
      ]
    },
    {
      "cell_type": "markdown",
      "metadata": {
        "id": "-3p1_nQGYLw4",
        "colab_type": "text"
      },
      "source": [
        "1). Consider Pclass for model training. "
      ]
    },
    {
      "cell_type": "code",
      "metadata": {
        "id": "F1y0RHVQBFSN",
        "colab_type": "code",
        "colab": {
          "base_uri": "https://localhost:8080/",
          "height": 439
        },
        "outputId": "e9721026-da3d-49c2-98c1-f6afe694dce2"
      },
      "source": [
        "sns.factorplot('Pclass', 'Survived', hue = 'Sex', data = titanic)"
      ],
      "execution_count": 18,
      "outputs": [
        {
          "output_type": "stream",
          "text": [
            "/usr/local/lib/python3.6/dist-packages/seaborn/categorical.py:3666: UserWarning: The `factorplot` function has been renamed to `catplot`. The original name will be removed in a future release. Please update your code. Note that the default `kind` in `factorplot` (`'point'`) has changed `'strip'` in `catplot`.\n",
            "  warnings.warn(msg)\n"
          ],
          "name": "stderr"
        },
        {
          "output_type": "execute_result",
          "data": {
            "text/plain": [
              "<seaborn.axisgrid.FacetGrid at 0x7f7ac6d42f98>"
            ]
          },
          "metadata": {
            "tags": []
          },
          "execution_count": 18
        },
        {
          "output_type": "display_data",
          "data": {
            "image/png": "[encoded data removed]",
            "text/plain": [
              "<Figure size 430.5x360 with 1 Axes>"
            ]
          },
          "metadata": {
            "tags": []
          }
        }
      ]
    },
    {
      "cell_type": "code",
      "metadata": {
        "id": "aayzIIuAYLw8",
        "colab_type": "code",
        "outputId": "83628711-8ec6-4ea3-8692-dc9406090924",
        "colab": {
          "base_uri": "https://localhost:8080/",
          "height": 674
        }
      },
      "source": [
        "#grid = sns.FacetGrid(titanic, col = 'Pclass', hue = 'Survived')\n",
        "grid = sns.FacetGrid(titanic, col = 'Survived', row = 'Pclass')\n",
        "grid.map(plt.hist, 'Age', bins = 20, color = 'lightblue', edgecolor = 'black')"
      ],
      "execution_count": 19,
      "outputs": [
        {
          "output_type": "execute_result",
          "data": {
            "text/plain": [
              "<seaborn.axisgrid.FacetGrid at 0x7f7ac6d662e8>"
            ]
          },
          "metadata": {
            "tags": []
          },
          "execution_count": 19
        },
        {
          "output_type": "display_data",
          "data": {
            "image/png": "[encoded data removed]",
            "text/plain": [
              "<Figure size 432x648 with 6 Axes>"
            ]
          },
          "metadata": {
            "tags": []
          }
        }
      ]
    },
    {
      "cell_type": "markdown",
      "metadata": {
        "id": "RY4xRFiUYLxL",
        "colab_type": "text"
      },
      "source": [
        "### 3. Correlating categorical features, Sex, Embarked  & Survived"
      ]
    },
    {
      "cell_type": "markdown",
      "metadata": {
        "id": "4N4JwKK6YLxM",
        "colab_type": "text"
      },
      "source": [
        "Now we can correlate categorical features with our solution goal."
      ]
    },
    {
      "cell_type": "markdown",
      "metadata": {
        "id": "PFuS2qLMYLxO",
        "colab_type": "text"
      },
      "source": [
        "#### 3.1 Observations"
      ]
    },
    {
      "cell_type": "markdown",
      "metadata": {
        "id": "gyYtX9oaYLxW",
        "colab_type": "text"
      },
      "source": [
        "1). Female passengers had much better suvival rate than males. Confirm classifying #1. \n",
        "\n",
        "2). Exception in Embarked = C where males had higher survival rate. This could be a correlation between Pclass and Embarked and in ture Pclass and Survived, not necessarily direct correlation between Embarked and Survived. \n",
        "\n",
        "3). Males had better survival rate in Pclass = 3 when compared with Pclass = 2 for C and Q ports. Completing #2. \n",
        "\n",
        "4). Ports of embarkation have varying survival rates for Pclass = 3 and among male passengers. Correlating #1. "
      ]
    },
    {
      "cell_type": "markdown",
      "metadata": {
        "id": "EUA28lr6YLxX",
        "colab_type": "text"
      },
      "source": [
        "#### 3.2 Decisions"
      ]
    },
    {
      "cell_type": "markdown",
      "metadata": {
        "id": "4sicPz-oYLxb",
        "colab_type": "text"
      },
      "source": [
        "1). Add Sex feature to model training. \n",
        "\n",
        "2). Complete and add Embarked feature to model training. "
      ]
    },
    {
      "cell_type": "code",
      "metadata": {
        "id": "K-_pS35uYLxc",
        "colab_type": "code",
        "outputId": "ea24cbab-68f2-4d94-ce66-9f0c9ef6024c",
        "colab": {
          "base_uri": "https://localhost:8080/",
          "height": 622
        }
      },
      "source": [
        "grid = sns.FacetGrid(titanic, row = 'Embarked', size = 2.2, aspect = 1.6)\n",
        "grid.map(sns.pointplot, 'Pclass', 'Survived', 'Sex', palette = 'deep')\n",
        "grid.add_legend()"
      ],
      "execution_count": 20,
      "outputs": [
        {
          "output_type": "stream",
          "text": [
            "/usr/local/lib/python3.6/dist-packages/seaborn/axisgrid.py:230: UserWarning: The `size` paramter has been renamed to `height`; please update your code.\n",
            "  warnings.warn(msg, UserWarning)\n",
            "/usr/local/lib/python3.6/dist-packages/seaborn/axisgrid.py:715: UserWarning: Using the pointplot function without specifying `order` is likely to produce an incorrect plot.\n",
            "  warnings.warn(warning)\n",
            "/usr/local/lib/python3.6/dist-packages/seaborn/axisgrid.py:720: UserWarning: Using the pointplot function without specifying `hue_order` is likely to produce an incorrect plot.\n",
            "  warnings.warn(warning)\n"
          ],
          "name": "stderr"
        },
        {
          "output_type": "execute_result",
          "data": {
            "text/plain": [
              "<seaborn.axisgrid.FacetGrid at 0x7f7ac438eba8>"
            ]
          },
          "metadata": {
            "tags": []
          },
          "execution_count": 20
        },
        {
          "output_type": "display_data",
          "data": {
            "image/png": "[encoded data removed]",
            "text/plain": [
              "<Figure size 323.94x475.2 with 3 Axes>"
            ]
          },
          "metadata": {
            "tags": []
          }
        }
      ]
    },
    {
      "cell_type": "markdown",
      "metadata": {
        "id": "24VRYq0TYLxh",
        "colab_type": "text"
      },
      "source": [
        "### 4. Correlating categorical and numerical features, Fare, Embarked, Sex & Survived"
      ]
    },
    {
      "cell_type": "markdown",
      "metadata": {
        "id": "3xfPDiPqYLxi",
        "colab_type": "text"
      },
      "source": [
        "We may also want to correlate categorical features (with non-numeric values) and numeric features. We can consider correlating Embarked (Categorical non-numeric), Sex(Categorical non-numeric), Fare(Numeric continuous), with Survived(Categorical numeric)."
      ]
    },
    {
      "cell_type": "markdown",
      "metadata": {
        "id": "jCzhKrjAYLxs",
        "colab_type": "text"
      },
      "source": [
        "#### 4.1 Observations"
      ]
    },
    {
      "cell_type": "markdown",
      "metadata": {
        "id": "gc8Oiw7JYLxv",
        "colab_type": "text"
      },
      "source": [
        "1). Higher fare paying passengers had better survival. Confirms our assumption for creating #4 for fare ranges.\n",
        "\n",
        "2). Port of embarkation correlations with survival rates. Confirms correlating #1 and completing #2. "
      ]
    },
    {
      "cell_type": "markdown",
      "metadata": {
        "id": "w2P9ePS3YLxw",
        "colab_type": "text"
      },
      "source": [
        "#### 4.2 Decisions"
      ]
    },
    {
      "cell_type": "markdown",
      "metadata": {
        "id": "3LqAFtSCYLxx",
        "colab_type": "text"
      },
      "source": [
        "1). Consider banding Fare feature."
      ]
    },
    {
      "cell_type": "code",
      "metadata": {
        "id": "tF6_27KYYLx2",
        "colab_type": "code",
        "outputId": "5d3b57be-7e66-4688-d72e-012c6b2bae77",
        "colab": {
          "base_uri": "https://localhost:8080/",
          "height": 555
        }
      },
      "source": [
        "grid = sns.FacetGrid(titanic, col = 'Survived', row = 'Embarked', height = 2.2, aspect = 1.6)\n",
        "grid.map(sns.barplot, 'Sex', 'Fare', alpha = 0.7, ci = None )"
      ],
      "execution_count": 21,
      "outputs": [
        {
          "output_type": "stream",
          "text": [
            "/usr/local/lib/python3.6/dist-packages/seaborn/axisgrid.py:715: UserWarning: Using the barplot function without specifying `order` is likely to produce an incorrect plot.\n",
            "  warnings.warn(warning)\n"
          ],
          "name": "stderr"
        },
        {
          "output_type": "execute_result",
          "data": {
            "text/plain": [
              "<seaborn.axisgrid.FacetGrid at 0x7f7ac3ef9748>"
            ]
          },
          "metadata": {
            "tags": []
          },
          "execution_count": 21
        },
        {
          "output_type": "display_data",
          "data": {
            "image/png": "[encoded data removed]",
            "text/plain": [
              "<Figure size 506.88x475.2 with 6 Axes>"
            ]
          },
          "metadata": {
            "tags": []
          }
        }
      ]
    },
    {
      "cell_type": "code",
      "metadata": {
        "id": "19_DAFrlYLx-",
        "colab_type": "code",
        "outputId": "e6fcb8ec-0d26-48bc-ce27-f2d43b049961",
        "colab": {
          "base_uri": "https://localhost:8080/",
          "height": 589
        }
      },
      "source": [
        "grid = sns.FacetGrid(titanic, col = 'Survived', row = 'Embarked', size = 2.2, aspect = 1.6)\n",
        "grid.map(sns.pointplot, 'Sex', 'Fare' )"
      ],
      "execution_count": 22,
      "outputs": [
        {
          "output_type": "stream",
          "text": [
            "/usr/local/lib/python3.6/dist-packages/seaborn/axisgrid.py:230: UserWarning: The `size` paramter has been renamed to `height`; please update your code.\n",
            "  warnings.warn(msg, UserWarning)\n",
            "/usr/local/lib/python3.6/dist-packages/seaborn/axisgrid.py:715: UserWarning: Using the pointplot function without specifying `order` is likely to produce an incorrect plot.\n",
            "  warnings.warn(warning)\n"
          ],
          "name": "stderr"
        },
        {
          "output_type": "execute_result",
          "data": {
            "text/plain": [
              "<seaborn.axisgrid.FacetGrid at 0x7f7ac3d1ef60>"
            ]
          },
          "metadata": {
            "tags": []
          },
          "execution_count": 22
        },
        {
          "output_type": "display_data",
          "data": {
            "image/png": "[encoded data removed]",
            "text/plain": [
              "<Figure size 506.88x475.2 with 6 Axes>"
            ]
          },
          "metadata": {
            "tags": []
          }
        }
      ]
    },
    {
      "cell_type": "markdown",
      "metadata": {
        "id": "KOSY9xrEYLyL",
        "colab_type": "text"
      },
      "source": [
        "### 5. Dropping features, Ticket, Cabin, PassegerId"
      ]
    },
    {
      "cell_type": "markdown",
      "metadata": {
        "id": "9TmD62qhYLyM",
        "colab_type": "text"
      },
      "source": [
        "This is a good starting goal to execute. By dropping features we are dealing with fewer data points. Speeds up our notebook and eases the analysis.\n",
        "\n",
        "Based on our assumptions and decisions we want to drop the Cabin and Ticket features.\n",
        "\n",
        "Note that where applicable we perform operations on both training and testing datasets together to stay consistent."
      ]
    },
    {
      "cell_type": "code",
      "metadata": {
        "id": "oQYisKeBYLyN",
        "colab_type": "code",
        "outputId": "37f041bf-ab36-44a3-a9d3-a2f5fa5e4970",
        "colab": {
          "base_uri": "https://localhost:8080/",
          "height": 50
        }
      },
      "source": [
        "print('Before:', titanic.shape, test.shape, combine[0].shape, combine[1].shape)\n",
        "\n",
        "titanic = titanic.drop(['Ticket', 'Cabin', 'PassengerId'], axis = 1)\n",
        "test = test.drop(['Ticket', 'Cabin', 'PassengerId'], axis = 1)\n",
        "\n",
        "print('After:', titanic.shape, test.shape, combine[0].shape, combine[1].shape)"
      ],
      "execution_count": 23,
      "outputs": [
        {
          "output_type": "stream",
          "text": [
            "Before: (891, 12) (418, 11) (891, 12) (418, 11)\n",
            "After: (891, 9) (418, 8) (891, 12) (418, 11)\n"
          ],
          "name": "stdout"
        }
      ]
    },
    {
      "cell_type": "markdown",
      "metadata": {
        "id": "ZmoCcUAdYLyT",
        "colab_type": "text"
      },
      "source": [
        "### 6. Creating new feature (Name --> Title), and drop overlapped features"
      ]
    },
    {
      "cell_type": "markdown",
      "metadata": {
        "id": "CyApOD8KYLyb",
        "colab_type": "text"
      },
      "source": [
        "We want to analyze if Name feature can be engineered to extract titles and test correlation between titles and survival, before dropping Name and PassengerId features. \n",
        "\n",
        "In the following code we extract Title feature using regular expressions. The RegEx pattern(\\w+\\.)matches the first word which ends with a doc character within Name feature. The expand = False flag returns a DataFrame. "
      ]
    },
    {
      "cell_type": "markdown",
      "metadata": {
        "id": "LHWRMGV6YLyq",
        "colab_type": "text"
      },
      "source": [
        "We decide to retain the new Title feature for model training. "
      ]
    },
    {
      "cell_type": "code",
      "metadata": {
        "id": "2bCPQxdjYLyy",
        "colab_type": "code",
        "colab": {}
      },
      "source": [
        "titanic['Title'] = titanic['Name'].str.extract(' ([A-Za-z]+)\\.', expand = False)\n",
        "test['Title'] = test['Name'].str.extract(' ([A-Za-z]+)\\.', expand = False)"
      ],
      "execution_count": 0,
      "outputs": []
    },
    {
      "cell_type": "code",
      "metadata": {
        "id": "Kj4XkgQNZ-Ks",
        "colab_type": "code",
        "outputId": "60e2efd7-3462-42e0-c761-4700ae9f52c9",
        "colab": {
          "base_uri": "https://localhost:8080/",
          "height": 319
        }
      },
      "source": [
        "titanic['Title'] .value_counts()"
      ],
      "execution_count": 25,
      "outputs": [
        {
          "output_type": "execute_result",
          "data": {
            "text/plain": [
              "Mr          517\n",
              "Miss        182\n",
              "Mrs         125\n",
              "Master       40\n",
              "Dr            7\n",
              "Rev           6\n",
              "Col           2\n",
              "Mlle          2\n",
              "Major         2\n",
              "Lady          1\n",
              "Jonkheer      1\n",
              "Countess      1\n",
              "Capt          1\n",
              "Ms            1\n",
              "Mme           1\n",
              "Sir           1\n",
              "Don           1\n",
              "Name: Title, dtype: int64"
            ]
          },
          "metadata": {
            "tags": []
          },
          "execution_count": 25
        }
      ]
    },
    {
      "cell_type": "markdown",
      "metadata": {
        "id": "E8U8if5PYLy_",
        "colab_type": "text"
      },
      "source": [
        "We can replace many titles with a more common name or classify them as Rare. "
      ]
    },
    {
      "cell_type": "code",
      "metadata": {
        "id": "My9k0aeFYLzA",
        "colab_type": "code",
        "outputId": "e3591858-499d-46f7-939a-51d7eeaee52a",
        "colab": {
          "base_uri": "https://localhost:8080/",
          "height": 235
        }
      },
      "source": [
        "# replace titles for titanic (training) dataset\n",
        "titanic['Title'] = titanic['Title'].replace(['Lady', 'Countess', 'Capt', 'Col', 'Don','Dr', 'Major', 'Rev', 'Sir', 'Jonkheer', 'Dona'], 'Rare')\n",
        "titanic['Title'] = titanic['Title'].replace('Mlle', 'Miss')\n",
        "titanic['Title'] = titanic['Title'].replace('Ms', 'Miss')\n",
        "titanic['Title'] = titanic['Title'].replace('Mme', 'Mrs')\n",
        " \n",
        "# replace titles for test dataset\n",
        "test['Title'] = test['Title'].replace(['Lady', 'Countess', 'Capt', 'Col', 'Don','Dr', 'Major', 'Rev', 'Sir', 'Jonkheer', 'Dona'], 'Rare')\n",
        "test['Title'] = test['Title'].replace('Mlle', 'Miss')\n",
        "test['Title'] = test['Title'].replace('Ms', 'Miss')\n",
        "test['Title'] = test['Title'].replace('Mme', 'Mrs')\n",
        " \n",
        "print(titanic['Title'] .value_counts())\n",
        "print(\"-\" * 25)\n",
        "print(titanic[['Title', 'Survived']].groupby(['Title'], as_index = False).mean())"
      ],
      "execution_count": 26,
      "outputs": [
        {
          "output_type": "stream",
          "text": [
            "Mr        517\n",
            "Miss      185\n",
            "Mrs       126\n",
            "Master     40\n",
            "Rare       23\n",
            "Name: Title, dtype: int64\n",
            "-------------------------\n",
            "    Title  Survived\n",
            "0  Master  0.575000\n",
            "1    Miss  0.702703\n",
            "2      Mr  0.156673\n",
            "3     Mrs  0.793651\n",
            "4    Rare  0.347826\n"
          ],
          "name": "stdout"
        }
      ]
    },
    {
      "cell_type": "markdown",
      "metadata": {
        "id": "7gNwbkxIYLzS",
        "colab_type": "text"
      },
      "source": [
        "We can convert the categorical titles to ordinal."
      ]
    },
    {
      "cell_type": "code",
      "metadata": {
        "id": "YhoL8oUiYLzT",
        "colab_type": "code",
        "colab": {}
      },
      "source": [
        "#title_mapping = {'Mr':1, 'Miss':2, 'Mrs':3, 'Master':4, 'Rare':5}\n",
        "\n",
        "# map titles for titanic (training) dataset \n",
        "#titanic['Title'] = titanic['Title'].map(title_mapping)\n",
        "#titanic['Title'] = titanic['Title'].fillna(0)\n",
        " \n",
        "# map titles for test dataset \n",
        "#test['Title'] = test['Title'].map(title_mapping)\n",
        "#test['Title'] = test['Title'].fillna(0)\n",
        "\n",
        "#titanic.head()"
      ],
      "execution_count": 0,
      "outputs": []
    },
    {
      "cell_type": "markdown",
      "metadata": {
        "id": "i2d3x7I7YLzf",
        "colab_type": "text"
      },
      "source": [
        "Now we can safely drop the Name feature from titanic and test datasets. "
      ]
    },
    {
      "cell_type": "code",
      "metadata": {
        "id": "mYdOV_DPYLzk",
        "colab_type": "code",
        "outputId": "bfdb5622-efb2-4ea3-e7c3-ba1931def330",
        "colab": {
          "base_uri": "https://localhost:8080/",
          "height": 34
        }
      },
      "source": [
        "# drop 'Name', 'PassengerId' features for titanic (training) dataset \n",
        "titanic = titanic.drop(['Name'], axis = 1)\n",
        " \n",
        "# drop 'Name', 'PassengerId' features for test dataset \n",
        "test = test.drop(['Name'], axis = 1)\n",
        "titanic.shape, test.shape"
      ],
      "execution_count": 28,
      "outputs": [
        {
          "output_type": "execute_result",
          "data": {
            "text/plain": [
              "((891, 9), (418, 8))"
            ]
          },
          "metadata": {
            "tags": []
          },
          "execution_count": 28
        }
      ]
    },
    {
      "cell_type": "code",
      "metadata": {
        "id": "u9MbvT6A-4g3",
        "colab_type": "code",
        "outputId": "e6deaa02-d262-409d-b56e-91e23531df09",
        "colab": {
          "base_uri": "https://localhost:8080/",
          "height": 195
        }
      },
      "source": [
        "titanic.head()"
      ],
      "execution_count": 29,
      "outputs": [
        {
          "output_type": "execute_result",
          "data": {
            "text/html": [
              "<div>\n",
              "<style scoped>\n",
              "    .dataframe tbody tr th:only-of-type {\n",
              "        vertical-align: middle;\n",
              "    }\n",
              "\n",
              "    .dataframe tbody tr th {\n",
              "        vertical-align: top;\n",
              "    }\n",
              "\n",
              "    .dataframe thead th {\n",
              "        text-align: right;\n",
              "    }\n",
              "</style>\n",
              "<table border=\"1\" class=\"dataframe\">\n",
              "  <thead>\n",
              "    <tr style=\"text-align: right;\">\n",
              "      <th></th>\n",
              "      <th>Survived</th>\n",
              "      <th>Pclass</th>\n",
              "      <th>Sex</th>\n",
              "      <th>Age</th>\n",
              "      <th>SibSp</th>\n",
              "      <th>Parch</th>\n",
              "      <th>Fare</th>\n",
              "      <th>Embarked</th>\n",
              "      <th>Title</th>\n",
              "    </tr>\n",
              "  </thead>\n",
              "  <tbody>\n",
              "    <tr>\n",
              "      <th>0</th>\n",
              "      <td>0</td>\n",
              "      <td>3</td>\n",
              "      <td>male</td>\n",
              "      <td>22.0</td>\n",
              "      <td>1</td>\n",
              "      <td>0</td>\n",
              "      <td>7.2500</td>\n",
              "      <td>S</td>\n",
              "      <td>Mr</td>\n",
              "    </tr>\n",
              "    <tr>\n",
              "      <th>1</th>\n",
              "      <td>1</td>\n",
              "      <td>1</td>\n",
              "      <td>female</td>\n",
              "      <td>38.0</td>\n",
              "      <td>1</td>\n",
              "      <td>0</td>\n",
              "      <td>71.2833</td>\n",
              "      <td>C</td>\n",
              "      <td>Mrs</td>\n",
              "    </tr>\n",
              "    <tr>\n",
              "      <th>2</th>\n",
              "      <td>1</td>\n",
              "      <td>3</td>\n",
              "      <td>female</td>\n",
              "      <td>26.0</td>\n",
              "      <td>0</td>\n",
              "      <td>0</td>\n",
              "      <td>7.9250</td>\n",
              "      <td>S</td>\n",
              "      <td>Miss</td>\n",
              "    </tr>\n",
              "    <tr>\n",
              "      <th>3</th>\n",
              "      <td>1</td>\n",
              "      <td>1</td>\n",
              "      <td>female</td>\n",
              "      <td>35.0</td>\n",
              "      <td>1</td>\n",
              "      <td>0</td>\n",
              "      <td>53.1000</td>\n",
              "      <td>S</td>\n",
              "      <td>Mrs</td>\n",
              "    </tr>\n",
              "    <tr>\n",
              "      <th>4</th>\n",
              "      <td>0</td>\n",
              "      <td>3</td>\n",
              "      <td>male</td>\n",
              "      <td>35.0</td>\n",
              "      <td>0</td>\n",
              "      <td>0</td>\n",
              "      <td>8.0500</td>\n",
              "      <td>S</td>\n",
              "      <td>Mr</td>\n",
              "    </tr>\n",
              "  </tbody>\n",
              "</table>\n",
              "</div>"
            ],
            "text/plain": [
              "   Survived  Pclass     Sex   Age  SibSp  Parch     Fare Embarked Title\n",
              "0         0       3    male  22.0      1      0   7.2500        S    Mr\n",
              "1         1       1  female  38.0      1      0  71.2833        C   Mrs\n",
              "2         1       3  female  26.0      0      0   7.9250        S  Miss\n",
              "3         1       1  female  35.0      1      0  53.1000        S   Mrs\n",
              "4         0       3    male  35.0      0      0   8.0500        S    Mr"
            ]
          },
          "metadata": {
            "tags": []
          },
          "execution_count": 29
        }
      ]
    },
    {
      "cell_type": "markdown",
      "metadata": {
        "id": "StlcYrzZYL0F",
        "colab_type": "text"
      },
      "source": [
        "### 7. Creating new feature ( SibSp + Parch--> FamilySize), and drop overlapped features"
      ]
    },
    {
      "cell_type": "code",
      "metadata": {
        "id": "4x49VI1JYL2l",
        "colab_type": "code",
        "outputId": "093a0ef2-766a-47f5-d1de-68e4eefab925",
        "colab": {
          "base_uri": "https://localhost:8080/",
          "height": 286
        }
      },
      "source": [
        "titanic['SibSp'].hist()"
      ],
      "execution_count": 30,
      "outputs": [
        {
          "output_type": "execute_result",
          "data": {
            "text/plain": [
              "<matplotlib.axes._subplots.AxesSubplot at 0x7f7ac3b495f8>"
            ]
          },
          "metadata": {
            "tags": []
          },
          "execution_count": 30
        },
        {
          "output_type": "display_data",
          "data": {
            "image/png": "[encoded data removed]",
            "text/plain": [
              "<Figure size 432x288 with 1 Axes>"
            ]
          },
          "metadata": {
            "tags": []
          }
        }
      ]
    },
    {
      "cell_type": "code",
      "metadata": {
        "id": "x5a5MaimYL2t",
        "colab_type": "code",
        "outputId": "2d4f6b12-461d-4f38-b047-932e29aab5e9",
        "colab": {
          "base_uri": "https://localhost:8080/",
          "height": 286
        }
      },
      "source": [
        "titanic['Parch'].hist()"
      ],
      "execution_count": 31,
      "outputs": [
        {
          "output_type": "execute_result",
          "data": {
            "text/plain": [
              "<matplotlib.axes._subplots.AxesSubplot at 0x7f7ac3a9c710>"
            ]
          },
          "metadata": {
            "tags": []
          },
          "execution_count": 31
        },
        {
          "output_type": "display_data",
          "data": {
            "image/png": "[encoded data removed]",
            "text/plain": [
              "<Figure size 432x288 with 1 Axes>"
            ]
          },
          "metadata": {
            "tags": []
          }
        }
      ]
    },
    {
      "cell_type": "code",
      "metadata": {
        "id": "WvgyqLcwYL2z",
        "colab_type": "code",
        "colab": {}
      },
      "source": [
        "# combine the variables 'SibSp' and 'Parch' for titanic (training) dataset\n",
        "titanic['FamilySize'] = titanic['SibSp'] + titanic['Parch']\n",
        "\n",
        "# combine the variables 'SibSp' and 'Parch' for test dataset\n",
        "test['FamilySize'] = test['SibSp'] + test['Parch']"
      ],
      "execution_count": 0,
      "outputs": []
    },
    {
      "cell_type": "code",
      "metadata": {
        "id": "VmC5nw3aYL23",
        "colab_type": "code",
        "outputId": "154b34c8-bd8e-49ee-91fe-0cc8b2141841",
        "colab": {
          "base_uri": "https://localhost:8080/",
          "height": 286
        }
      },
      "source": [
        "titanic['FamilySize'].hist()"
      ],
      "execution_count": 33,
      "outputs": [
        {
          "output_type": "execute_result",
          "data": {
            "text/plain": [
              "<matplotlib.axes._subplots.AxesSubplot at 0x7f7ac3a96da0>"
            ]
          },
          "metadata": {
            "tags": []
          },
          "execution_count": 33
        },
        {
          "output_type": "display_data",
          "data": {
            "image/png": "[encoded data removed]",
            "text/plain": [
              "<Figure size 432x288 with 1 Axes>"
            ]
          },
          "metadata": {
            "tags": []
          }
        }
      ]
    },
    {
      "cell_type": "code",
      "metadata": {
        "id": "y6RsUVVkYL3F",
        "colab_type": "code",
        "outputId": "2c93c2f6-7c3a-4ed0-b303-e402107d9a1f",
        "colab": {
          "base_uri": "https://localhost:8080/",
          "height": 34
        }
      },
      "source": [
        "# remove the variables not of interest\n",
        "# drop 'SibSp', 'Parch' features for titanic (training) dataset \n",
        "titanic = titanic.drop(['SibSp', 'Parch'], axis = 1)\n",
        " \n",
        "# drop 'SibSp', 'Parch' features for test dataset \n",
        "test = test.drop(['SibSp', 'Parch'], axis = 1)\n",
        "\n",
        "titanic.shape, test.shape"
      ],
      "execution_count": 34,
      "outputs": [
        {
          "output_type": "execute_result",
          "data": {
            "text/plain": [
              "((891, 8), (418, 7))"
            ]
          },
          "metadata": {
            "tags": []
          },
          "execution_count": 34
        }
      ]
    },
    {
      "cell_type": "code",
      "metadata": {
        "id": "o4LEC6d2YL3I",
        "colab_type": "code",
        "outputId": "a10c35c8-e136-41d0-9401-ba56b71eef1d",
        "colab": {
          "base_uri": "https://localhost:8080/",
          "height": 195
        }
      },
      "source": [
        "titanic.head()"
      ],
      "execution_count": 35,
      "outputs": [
        {
          "output_type": "execute_result",
          "data": {
            "text/html": [
              "<div>\n",
              "<style scoped>\n",
              "    .dataframe tbody tr th:only-of-type {\n",
              "        vertical-align: middle;\n",
              "    }\n",
              "\n",
              "    .dataframe tbody tr th {\n",
              "        vertical-align: top;\n",
              "    }\n",
              "\n",
              "    .dataframe thead th {\n",
              "        text-align: right;\n",
              "    }\n",
              "</style>\n",
              "<table border=\"1\" class=\"dataframe\">\n",
              "  <thead>\n",
              "    <tr style=\"text-align: right;\">\n",
              "      <th></th>\n",
              "      <th>Survived</th>\n",
              "      <th>Pclass</th>\n",
              "      <th>Sex</th>\n",
              "      <th>Age</th>\n",
              "      <th>Fare</th>\n",
              "      <th>Embarked</th>\n",
              "      <th>Title</th>\n",
              "      <th>FamilySize</th>\n",
              "    </tr>\n",
              "  </thead>\n",
              "  <tbody>\n",
              "    <tr>\n",
              "      <th>0</th>\n",
              "      <td>0</td>\n",
              "      <td>3</td>\n",
              "      <td>male</td>\n",
              "      <td>22.0</td>\n",
              "      <td>7.2500</td>\n",
              "      <td>S</td>\n",
              "      <td>Mr</td>\n",
              "      <td>1</td>\n",
              "    </tr>\n",
              "    <tr>\n",
              "      <th>1</th>\n",
              "      <td>1</td>\n",
              "      <td>1</td>\n",
              "      <td>female</td>\n",
              "      <td>38.0</td>\n",
              "      <td>71.2833</td>\n",
              "      <td>C</td>\n",
              "      <td>Mrs</td>\n",
              "      <td>1</td>\n",
              "    </tr>\n",
              "    <tr>\n",
              "      <th>2</th>\n",
              "      <td>1</td>\n",
              "      <td>3</td>\n",
              "      <td>female</td>\n",
              "      <td>26.0</td>\n",
              "      <td>7.9250</td>\n",
              "      <td>S</td>\n",
              "      <td>Miss</td>\n",
              "      <td>0</td>\n",
              "    </tr>\n",
              "    <tr>\n",
              "      <th>3</th>\n",
              "      <td>1</td>\n",
              "      <td>1</td>\n",
              "      <td>female</td>\n",
              "      <td>35.0</td>\n",
              "      <td>53.1000</td>\n",
              "      <td>S</td>\n",
              "      <td>Mrs</td>\n",
              "      <td>1</td>\n",
              "    </tr>\n",
              "    <tr>\n",
              "      <th>4</th>\n",
              "      <td>0</td>\n",
              "      <td>3</td>\n",
              "      <td>male</td>\n",
              "      <td>35.0</td>\n",
              "      <td>8.0500</td>\n",
              "      <td>S</td>\n",
              "      <td>Mr</td>\n",
              "      <td>0</td>\n",
              "    </tr>\n",
              "  </tbody>\n",
              "</table>\n",
              "</div>"
            ],
            "text/plain": [
              "   Survived  Pclass     Sex   Age     Fare Embarked Title  FamilySize\n",
              "0         0       3    male  22.0   7.2500        S    Mr           1\n",
              "1         1       1  female  38.0  71.2833        C   Mrs           1\n",
              "2         1       3  female  26.0   7.9250        S  Miss           0\n",
              "3         1       1  female  35.0  53.1000        S   Mrs           1\n",
              "4         0       3    male  35.0   8.0500        S    Mr           0"
            ]
          },
          "metadata": {
            "tags": []
          },
          "execution_count": 35
        }
      ]
    },
    {
      "cell_type": "markdown",
      "metadata": {
        "id": "NwzWNNxuYL3M",
        "colab_type": "text"
      },
      "source": [
        "## Part 6: Exploration of the data to replace the missing values for Features: Age, Embarked, Fare"
      ]
    },
    {
      "cell_type": "code",
      "metadata": {
        "id": "NHeVvLjg_8Oe",
        "colab_type": "code",
        "colab": {
          "base_uri": "https://localhost:8080/",
          "height": 319
        },
        "outputId": "dc2ea001-e575-4bc7-e46f-b46fbf0eda5a"
      },
      "source": [
        "print(titanic.isnull().sum())\n",
        "print(\"-\" * 20)\n",
        "print(test.isnull().sum())"
      ],
      "execution_count": 36,
      "outputs": [
        {
          "output_type": "stream",
          "text": [
            "Survived        0\n",
            "Pclass          0\n",
            "Sex             0\n",
            "Age           177\n",
            "Fare            0\n",
            "Embarked        2\n",
            "Title           0\n",
            "FamilySize      0\n",
            "dtype: int64\n",
            "--------------------\n",
            "Pclass         0\n",
            "Sex            0\n",
            "Age           86\n",
            "Fare           1\n",
            "Embarked       0\n",
            "Title          0\n",
            "FamilySize     0\n",
            "dtype: int64\n"
          ],
          "name": "stdout"
        }
      ]
    },
    {
      "cell_type": "code",
      "metadata": {
        "id": "dmzRDp3qYL3M",
        "colab_type": "code",
        "outputId": "2e68a2a7-00f1-4582-9e56-003415ef58c9",
        "colab": {
          "base_uri": "https://localhost:8080/",
          "height": 286
        }
      },
      "source": [
        "# check the relationship between the regressors\n",
        "sns.heatmap(titanic.corr(), annot = True)"
      ],
      "execution_count": 37,
      "outputs": [
        {
          "output_type": "execute_result",
          "data": {
            "text/plain": [
              "<matplotlib.axes._subplots.AxesSubplot at 0x7f7ac277eac8>"
            ]
          },
          "metadata": {
            "tags": []
          },
          "execution_count": 37
        },
        {
          "output_type": "display_data",
          "data": {
            "image/png": "[encoded data removed]",
            "text/plain": [
              "<Figure size 432x288 with 2 Axes>"
            ]
          },
          "metadata": {
            "tags": []
          }
        }
      ]
    },
    {
      "cell_type": "markdown",
      "metadata": {
        "id": "iFs0rMIJYL3P",
        "colab_type": "text"
      },
      "source": [
        "From the correlation plot, age has a quite strong linear relationship (-0.37) with Pclass, thus, we can consider replacing the missing values in age according to the Pclass. \n",
        "\n",
        "And also, Pclass has a quite strong linear relationship (-0.55) relationship with Fare. I will replace the  missing values in Facre based on their Pclass. "
      ]
    },
    {
      "cell_type": "markdown",
      "metadata": {
        "id": "1dhJzD_RAa8b",
        "colab_type": "text"
      },
      "source": [
        "#### 1. Replace missing values for Age\n",
        "\n"
      ]
    },
    {
      "cell_type": "code",
      "metadata": {
        "id": "-7q77bs1YL3P",
        "colab_type": "code",
        "outputId": "b90d64ec-a81f-437d-b18e-61da6e36d807",
        "colab": {
          "base_uri": "https://localhost:8080/",
          "height": 101
        }
      },
      "source": [
        "titanic.groupby('Pclass')['Age'].mean()"
      ],
      "execution_count": 38,
      "outputs": [
        {
          "output_type": "execute_result",
          "data": {
            "text/plain": [
              "Pclass\n",
              "1    38.233441\n",
              "2    29.877630\n",
              "3    25.140620\n",
              "Name: Age, dtype: float64"
            ]
          },
          "metadata": {
            "tags": []
          },
          "execution_count": 38
        }
      ]
    },
    {
      "cell_type": "code",
      "metadata": {
        "id": "Yyf-aX5JYL3T",
        "colab_type": "code",
        "colab": {}
      },
      "source": [
        "def age_approx(cols):\n",
        "    age, pclass = cols\n",
        "    if pd.isnull(age):\n",
        "        if pclass == 1:\n",
        "            return 38\n",
        "        elif pclass == 2:\n",
        "            return 30\n",
        "        else:\n",
        "            return 25\n",
        "    else:\n",
        "        return age"
      ],
      "execution_count": 0,
      "outputs": []
    },
    {
      "cell_type": "code",
      "metadata": {
        "id": "dWumQwpxYL3Z",
        "colab_type": "code",
        "colab": {}
      },
      "source": [
        "titanic['Age'] = titanic[['Age', 'Pclass']].apply(age_approx, axis = 1)\n",
        "test['Age'] = test[['Age', 'Pclass']].apply(age_approx, axis = 1)"
      ],
      "execution_count": 0,
      "outputs": []
    },
    {
      "cell_type": "code",
      "metadata": {
        "colab_type": "code",
        "outputId": "ecde9c53-bde4-4cf9-8457-b52cea6c1d7b",
        "id": "RV6A58W_Aivj",
        "colab": {
          "base_uri": "https://localhost:8080/",
          "height": 319
        }
      },
      "source": [
        "print(titanic.isnull().sum())\n",
        "print(\"-\" * 20)\n",
        "print(test.isnull().sum())"
      ],
      "execution_count": 41,
      "outputs": [
        {
          "output_type": "stream",
          "text": [
            "Survived      0\n",
            "Pclass        0\n",
            "Sex           0\n",
            "Age           0\n",
            "Fare          0\n",
            "Embarked      2\n",
            "Title         0\n",
            "FamilySize    0\n",
            "dtype: int64\n",
            "--------------------\n",
            "Pclass        0\n",
            "Sex           0\n",
            "Age           0\n",
            "Fare          1\n",
            "Embarked      0\n",
            "Title         0\n",
            "FamilySize    0\n",
            "dtype: int64\n"
          ],
          "name": "stdout"
        }
      ]
    },
    {
      "cell_type": "markdown",
      "metadata": {
        "id": "rPMu5Rc3YL3f",
        "colab_type": "text"
      },
      "source": [
        "Now, there is no missing value for variable 'Age', and two missing values for 'Embarked'. I will replace the 2 missing values with mode.\n",
        "\n",
        "There is one missing value for Fare in test dataset. I will replace with it with mean."
      ]
    },
    {
      "cell_type": "markdown",
      "metadata": {
        "id": "bMUqZP65AmeZ",
        "colab_type": "text"
      },
      "source": [
        "#### 2. Replace missing values for Fare"
      ]
    },
    {
      "cell_type": "code",
      "metadata": {
        "id": "GDlBiWFQYL3g",
        "colab_type": "code",
        "outputId": "73c20cf7-af41-4208-934f-1a544104dd97",
        "colab": {
          "base_uri": "https://localhost:8080/",
          "height": 101
        }
      },
      "source": [
        "titanic.groupby('Pclass')['Fare'].mean()"
      ],
      "execution_count": 42,
      "outputs": [
        {
          "output_type": "execute_result",
          "data": {
            "text/plain": [
              "Pclass\n",
              "1    84.154687\n",
              "2    20.662183\n",
              "3    13.675550\n",
              "Name: Fare, dtype: float64"
            ]
          },
          "metadata": {
            "tags": []
          },
          "execution_count": 42
        }
      ]
    },
    {
      "cell_type": "code",
      "metadata": {
        "id": "rwOEtXBYYL3i",
        "colab_type": "code",
        "colab": {}
      },
      "source": [
        "def fare_aprox(values):\n",
        "    pclass, fare = values\n",
        "    if pd.isnull(fare):\n",
        "        if pclass == 1:\n",
        "            return 85\n",
        "        elif pclass == 2:\n",
        "            return 21\n",
        "        else:\n",
        "            return 14\n",
        "    else:\n",
        "        return fare"
      ],
      "execution_count": 0,
      "outputs": []
    },
    {
      "cell_type": "code",
      "metadata": {
        "id": "A12tToLjYL3p",
        "colab_type": "code",
        "colab": {}
      },
      "source": [
        "titanic['Fare'] = titanic[['Pclass', 'Fare']].apply(fare_aprox, axis = 1)\n",
        "test['Fare'] = test[['Pclass', 'Fare']].apply(fare_aprox, axis = 1)"
      ],
      "execution_count": 0,
      "outputs": []
    },
    {
      "cell_type": "markdown",
      "metadata": {
        "id": "oOIxC5ltAxsz",
        "colab_type": "text"
      },
      "source": [
        "#### 3. Replace missing values for Embarked"
      ]
    },
    {
      "cell_type": "code",
      "metadata": {
        "id": "s1waA8duH563",
        "colab_type": "code",
        "outputId": "290b2a12-48e4-4e47-c788-2986b73b5ba0",
        "colab": {
          "base_uri": "https://localhost:8080/",
          "height": 84
        }
      },
      "source": [
        "print(titanic[\"Embarked\"].value_counts()) \n",
        "titanic[\"Embarked\"] = titanic[\"Embarked\"].fillna(\"S\")\n",
        "test[\"Embarked\"] = test[\"Embarked\"].fillna(\"S\")"
      ],
      "execution_count": 45,
      "outputs": [
        {
          "output_type": "stream",
          "text": [
            "S    644\n",
            "C    168\n",
            "Q     77\n",
            "Name: Embarked, dtype: int64\n"
          ],
          "name": "stdout"
        }
      ]
    },
    {
      "cell_type": "code",
      "metadata": {
        "id": "Wnnfl_DeYL3t",
        "colab_type": "code",
        "outputId": "26b17452-83ff-42f2-8451-a48844f090bd",
        "colab": {
          "base_uri": "https://localhost:8080/",
          "height": 319
        }
      },
      "source": [
        "print(titanic.isnull().sum())\n",
        "print(\"-\" * 20)\n",
        "print(test.isnull().sum())"
      ],
      "execution_count": 46,
      "outputs": [
        {
          "output_type": "stream",
          "text": [
            "Survived      0\n",
            "Pclass        0\n",
            "Sex           0\n",
            "Age           0\n",
            "Fare          0\n",
            "Embarked      0\n",
            "Title         0\n",
            "FamilySize    0\n",
            "dtype: int64\n",
            "--------------------\n",
            "Pclass        0\n",
            "Sex           0\n",
            "Age           0\n",
            "Fare          0\n",
            "Embarked      0\n",
            "Title         0\n",
            "FamilySize    0\n",
            "dtype: int64\n"
          ],
          "name": "stdout"
        }
      ]
    },
    {
      "cell_type": "markdown",
      "metadata": {
        "id": "Wjx3X7CbYL31",
        "colab_type": "text"
      },
      "source": [
        "Now, the data has been cleared, and there is no missing value. "
      ]
    },
    {
      "cell_type": "markdown",
      "metadata": {
        "id": "b58EqjYDYL4M",
        "colab_type": "text"
      },
      "source": [
        "## Part 8: Convert string variable into numberical & Create dummy variables for categorical variables"
      ]
    },
    {
      "cell_type": "markdown",
      "metadata": {
        "id": "-XaJDoY5YEdJ",
        "colab_type": "text"
      },
      "source": [
        "#### 1. Convert String variable Sex into numberical"
      ]
    },
    {
      "cell_type": "code",
      "metadata": {
        "id": "Nac2eW83YL4N",
        "colab_type": "code",
        "colab": {}
      },
      "source": [
        "titanic['Sex'] = titanic['Sex'].map({'female': 1, 'male': 0}).astype = int()\n",
        "test['Sex'] = test['Sex'].map({'female': 1, 'male': 0}).astype = int()"
      ],
      "execution_count": 0,
      "outputs": []
    },
    {
      "cell_type": "markdown",
      "metadata": {
        "id": "828uewYUYRpn",
        "colab_type": "text"
      },
      "source": [
        "#### 2. Create dummy variables for categorical variable Embarked, & Title"
      ]
    },
    {
      "cell_type": "code",
      "metadata": {
        "id": "irOj6yprYL4T",
        "colab_type": "code",
        "outputId": "836c2465-2002-47d3-c7df-6a6128055031",
        "colab": {
          "base_uri": "https://localhost:8080/",
          "height": 195
        }
      },
      "source": [
        "Embarked_dummies = pd.get_dummies(titanic['Embarked'], drop_first = True, prefix = 'Embarked') # drop_first = True,\n",
        "Embarked_dummies.head()"
      ],
      "execution_count": 48,
      "outputs": [
        {
          "output_type": "execute_result",
          "data": {
            "text/html": [
              "<div>\n",
              "<style scoped>\n",
              "    .dataframe tbody tr th:only-of-type {\n",
              "        vertical-align: middle;\n",
              "    }\n",
              "\n",
              "    .dataframe tbody tr th {\n",
              "        vertical-align: top;\n",
              "    }\n",
              "\n",
              "    .dataframe thead th {\n",
              "        text-align: right;\n",
              "    }\n",
              "</style>\n",
              "<table border=\"1\" class=\"dataframe\">\n",
              "  <thead>\n",
              "    <tr style=\"text-align: right;\">\n",
              "      <th></th>\n",
              "      <th>Embarked_Q</th>\n",
              "      <th>Embarked_S</th>\n",
              "    </tr>\n",
              "  </thead>\n",
              "  <tbody>\n",
              "    <tr>\n",
              "      <th>0</th>\n",
              "      <td>0</td>\n",
              "      <td>1</td>\n",
              "    </tr>\n",
              "    <tr>\n",
              "      <th>1</th>\n",
              "      <td>0</td>\n",
              "      <td>0</td>\n",
              "    </tr>\n",
              "    <tr>\n",
              "      <th>2</th>\n",
              "      <td>0</td>\n",
              "      <td>1</td>\n",
              "    </tr>\n",
              "    <tr>\n",
              "      <th>3</th>\n",
              "      <td>0</td>\n",
              "      <td>1</td>\n",
              "    </tr>\n",
              "    <tr>\n",
              "      <th>4</th>\n",
              "      <td>0</td>\n",
              "      <td>1</td>\n",
              "    </tr>\n",
              "  </tbody>\n",
              "</table>\n",
              "</div>"
            ],
            "text/plain": [
              "   Embarked_Q  Embarked_S\n",
              "0           0           1\n",
              "1           0           0\n",
              "2           0           1\n",
              "3           0           1\n",
              "4           0           1"
            ]
          },
          "metadata": {
            "tags": []
          },
          "execution_count": 48
        }
      ]
    },
    {
      "cell_type": "code",
      "metadata": {
        "id": "85xLadMOFs6O",
        "colab_type": "code",
        "outputId": "2a260e3b-3bcb-4529-91d9-d2fe831d1b60",
        "colab": {
          "base_uri": "https://localhost:8080/",
          "height": 195
        }
      },
      "source": [
        "Title_dummies = pd.get_dummies(titanic['Title'], drop_first = True, prefix = 'Title') # drop_first = True\n",
        "Title_dummies.head()"
      ],
      "execution_count": 49,
      "outputs": [
        {
          "output_type": "execute_result",
          "data": {
            "text/html": [
              "<div>\n",
              "<style scoped>\n",
              "    .dataframe tbody tr th:only-of-type {\n",
              "        vertical-align: middle;\n",
              "    }\n",
              "\n",
              "    .dataframe tbody tr th {\n",
              "        vertical-align: top;\n",
              "    }\n",
              "\n",
              "    .dataframe thead th {\n",
              "        text-align: right;\n",
              "    }\n",
              "</style>\n",
              "<table border=\"1\" class=\"dataframe\">\n",
              "  <thead>\n",
              "    <tr style=\"text-align: right;\">\n",
              "      <th></th>\n",
              "      <th>Title_Miss</th>\n",
              "      <th>Title_Mr</th>\n",
              "      <th>Title_Mrs</th>\n",
              "      <th>Title_Rare</th>\n",
              "    </tr>\n",
              "  </thead>\n",
              "  <tbody>\n",
              "    <tr>\n",
              "      <th>0</th>\n",
              "      <td>0</td>\n",
              "      <td>1</td>\n",
              "      <td>0</td>\n",
              "      <td>0</td>\n",
              "    </tr>\n",
              "    <tr>\n",
              "      <th>1</th>\n",
              "      <td>0</td>\n",
              "      <td>0</td>\n",
              "      <td>1</td>\n",
              "      <td>0</td>\n",
              "    </tr>\n",
              "    <tr>\n",
              "      <th>2</th>\n",
              "      <td>1</td>\n",
              "      <td>0</td>\n",
              "      <td>0</td>\n",
              "      <td>0</td>\n",
              "    </tr>\n",
              "    <tr>\n",
              "      <th>3</th>\n",
              "      <td>0</td>\n",
              "      <td>0</td>\n",
              "      <td>1</td>\n",
              "      <td>0</td>\n",
              "    </tr>\n",
              "    <tr>\n",
              "      <th>4</th>\n",
              "      <td>0</td>\n",
              "      <td>1</td>\n",
              "      <td>0</td>\n",
              "      <td>0</td>\n",
              "    </tr>\n",
              "  </tbody>\n",
              "</table>\n",
              "</div>"
            ],
            "text/plain": [
              "   Title_Miss  Title_Mr  Title_Mrs  Title_Rare\n",
              "0           0         1          0           0\n",
              "1           0         0          1           0\n",
              "2           1         0          0           0\n",
              "3           0         0          1           0\n",
              "4           0         1          0           0"
            ]
          },
          "metadata": {
            "tags": []
          },
          "execution_count": 49
        }
      ]
    },
    {
      "cell_type": "code",
      "metadata": {
        "id": "k3lf02vHYL4a",
        "colab_type": "code",
        "colab": {}
      },
      "source": [
        "titanic = titanic.drop([\"Embarked\", \"Title\"], axis = 1)"
      ],
      "execution_count": 0,
      "outputs": []
    },
    {
      "cell_type": "code",
      "metadata": {
        "id": "fe2rW6z7YL4c",
        "colab_type": "code",
        "colab": {}
      },
      "source": [
        "titanic = pd.concat([titanic,Embarked_dummies, Title_dummies], axis = 1)"
      ],
      "execution_count": 0,
      "outputs": []
    },
    {
      "cell_type": "code",
      "metadata": {
        "id": "kopcjHGUDnWw",
        "colab_type": "code",
        "colab": {}
      },
      "source": [
        "# create dummy variables and concat for test dataset , drop_first = True\n",
        "Embarked_dummies = pd.get_dummies(test['Embarked'], drop_first = True, prefix = 'Embarked')\n",
        "Title_dummies = pd.get_dummies(test['Title'], drop_first = True, prefix = 'Title')\n",
        "test = test.drop(['Title', 'Embarked'], axis = 1)\n",
        "test = pd.concat([test, Embarked_dummies, Title_dummies], axis = 1)"
      ],
      "execution_count": 0,
      "outputs": []
    },
    {
      "cell_type": "code",
      "metadata": {
        "id": "eda380sxYL4e",
        "colab_type": "code",
        "outputId": "6d37299c-9ab9-4887-a0b2-89430e3db6f6",
        "colab": {
          "base_uri": "https://localhost:8080/",
          "height": 195
        }
      },
      "source": [
        "titanic.head()"
      ],
      "execution_count": 54,
      "outputs": [
        {
          "output_type": "execute_result",
          "data": {
            "text/html": [
              "<div>\n",
              "<style scoped>\n",
              "    .dataframe tbody tr th:only-of-type {\n",
              "        vertical-align: middle;\n",
              "    }\n",
              "\n",
              "    .dataframe tbody tr th {\n",
              "        vertical-align: top;\n",
              "    }\n",
              "\n",
              "    .dataframe thead th {\n",
              "        text-align: right;\n",
              "    }\n",
              "</style>\n",
              "<table border=\"1\" class=\"dataframe\">\n",
              "  <thead>\n",
              "    <tr style=\"text-align: right;\">\n",
              "      <th></th>\n",
              "      <th>Survived</th>\n",
              "      <th>Pclass</th>\n",
              "      <th>Sex</th>\n",
              "      <th>Age</th>\n",
              "      <th>Fare</th>\n",
              "      <th>FamilySize</th>\n",
              "      <th>Embarked_Q</th>\n",
              "      <th>Embarked_S</th>\n",
              "      <th>Title_Miss</th>\n",
              "      <th>Title_Mr</th>\n",
              "      <th>Title_Mrs</th>\n",
              "      <th>Title_Rare</th>\n",
              "    </tr>\n",
              "  </thead>\n",
              "  <tbody>\n",
              "    <tr>\n",
              "      <th>0</th>\n",
              "      <td>0</td>\n",
              "      <td>3</td>\n",
              "      <td>0</td>\n",
              "      <td>22.0</td>\n",
              "      <td>7.2500</td>\n",
              "      <td>1</td>\n",
              "      <td>0</td>\n",
              "      <td>1</td>\n",
              "      <td>0</td>\n",
              "      <td>1</td>\n",
              "      <td>0</td>\n",
              "      <td>0</td>\n",
              "    </tr>\n",
              "    <tr>\n",
              "      <th>1</th>\n",
              "      <td>1</td>\n",
              "      <td>1</td>\n",
              "      <td>0</td>\n",
              "      <td>38.0</td>\n",
              "      <td>71.2833</td>\n",
              "      <td>1</td>\n",
              "      <td>0</td>\n",
              "      <td>0</td>\n",
              "      <td>0</td>\n",
              "      <td>0</td>\n",
              "      <td>1</td>\n",
              "      <td>0</td>\n",
              "    </tr>\n",
              "    <tr>\n",
              "      <th>2</th>\n",
              "      <td>1</td>\n",
              "      <td>3</td>\n",
              "      <td>0</td>\n",
              "      <td>26.0</td>\n",
              "      <td>7.9250</td>\n",
              "      <td>0</td>\n",
              "      <td>0</td>\n",
              "      <td>1</td>\n",
              "      <td>1</td>\n",
              "      <td>0</td>\n",
              "      <td>0</td>\n",
              "      <td>0</td>\n",
              "    </tr>\n",
              "    <tr>\n",
              "      <th>3</th>\n",
              "      <td>1</td>\n",
              "      <td>1</td>\n",
              "      <td>0</td>\n",
              "      <td>35.0</td>\n",
              "      <td>53.1000</td>\n",
              "      <td>1</td>\n",
              "      <td>0</td>\n",
              "      <td>1</td>\n",
              "      <td>0</td>\n",
              "      <td>0</td>\n",
              "      <td>1</td>\n",
              "      <td>0</td>\n",
              "    </tr>\n",
              "    <tr>\n",
              "      <th>4</th>\n",
              "      <td>0</td>\n",
              "      <td>3</td>\n",
              "      <td>0</td>\n",
              "      <td>35.0</td>\n",
              "      <td>8.0500</td>\n",
              "      <td>0</td>\n",
              "      <td>0</td>\n",
              "      <td>1</td>\n",
              "      <td>0</td>\n",
              "      <td>1</td>\n",
              "      <td>0</td>\n",
              "      <td>0</td>\n",
              "    </tr>\n",
              "  </tbody>\n",
              "</table>\n",
              "</div>"
            ],
            "text/plain": [
              "   Survived  Pclass  Sex   Age  ...  Title_Miss  Title_Mr  Title_Mrs  Title_Rare\n",
              "0         0       3    0  22.0  ...           0         1          0           0\n",
              "1         1       1    0  38.0  ...           0         0          1           0\n",
              "2         1       3    0  26.0  ...           1         0          0           0\n",
              "3         1       1    0  35.0  ...           0         0          1           0\n",
              "4         0       3    0  35.0  ...           0         1          0           0\n",
              "\n",
              "[5 rows x 12 columns]"
            ]
          },
          "metadata": {
            "tags": []
          },
          "execution_count": 54
        }
      ]
    },
    {
      "cell_type": "markdown",
      "metadata": {
        "colab_type": "text",
        "id": "qRN9Ma-dBWH5"
      },
      "source": [
        "## Part 9: Check the sample size\n",
        "\n",
        "There are 7 variables, and the sample size should be >= 50 * 7 = 350. And our sample size is 889, which is good."
      ]
    },
    {
      "cell_type": "code",
      "metadata": {
        "colab_type": "code",
        "outputId": "b9a4fa72-58d2-4a21-dae0-6884e204cf8c",
        "id": "yM6soScXBVas",
        "colab": {
          "base_uri": "https://localhost:8080/",
          "height": 34
        }
      },
      "source": [
        "len(titanic)"
      ],
      "execution_count": 55,
      "outputs": [
        {
          "output_type": "execute_result",
          "data": {
            "text/plain": [
              "891"
            ]
          },
          "metadata": {
            "tags": []
          },
          "execution_count": 55
        }
      ]
    },
    {
      "cell_type": "markdown",
      "metadata": {
        "id": "HCAd2ZaNYL5_",
        "colab_type": "text"
      },
      "source": [
        "## Part 10: Model fittings (try different models for practice)"
      ]
    },
    {
      "cell_type": "markdown",
      "metadata": {
        "id": "zrRxxpVQeild",
        "colab_type": "text"
      },
      "source": [
        "### Model 1. Multiple Linear Regression\n",
        "\n",
        "*Get* the probabilities of survival for each passanger"
      ]
    },
    {
      "cell_type": "code",
      "metadata": {
        "id": "rDN8Dnv_YL6A",
        "colab_type": "code",
        "outputId": "62f124d2-2612-49dc-e245-c57e54990416",
        "colab": {
          "base_uri": "https://localhost:8080/",
          "height": 67
        }
      },
      "source": [
        "#from sklearn.linear_model import LinearRegression\n",
        "predictors = titanic.columns.values\n",
        "predictors"
      ],
      "execution_count": 56,
      "outputs": [
        {
          "output_type": "execute_result",
          "data": {
            "text/plain": [
              "array(['Survived', 'Pclass', 'Sex', 'Age', 'Fare', 'FamilySize',\n",
              "       'Embarked_Q', 'Embarked_S', 'Title_Miss', 'Title_Mr', 'Title_Mrs',\n",
              "       'Title_Rare'], dtype=object)"
            ]
          },
          "metadata": {
            "tags": []
          },
          "execution_count": 56
        }
      ]
    },
    {
      "cell_type": "code",
      "metadata": {
        "id": "2qzx7HVagFKg",
        "colab_type": "code",
        "colab": {}
      },
      "source": [
        "#predictors = ['Survived', 'Pclass', 'Age', 'Fare', 'Title', 'Alone', 'male','Embarked_Q', 'Embarked_S']\n",
        "mlg = LinearRegression()\n",
        "\n",
        "# generate cross validaion folds for the titanic dataset. It return the row indices corresponding to train and test.\n",
        "# We set random_state to ensure we get the same splits every time we run the model\n",
        "\n",
        "kf = KFold(n_splits = 3)\n",
        "predictions = []\n",
        "for train, val in kf.split(titanic[predictors], titanic[\"Survived\"]):\n",
        "  train_predictors = titanic[predictors].iloc[train, :]\n",
        "  train_target = titanic[\"Survived\"].iloc[train]\n",
        "  mlg.fit(train_predictors, train_target)\n",
        "  test_predictions = mlg.predict(titanic[predictors].iloc[val, :])\n",
        "  predictions.append(test_predictions)\n",
        "#print(len(test_predictions))"
      ],
      "execution_count": 0,
      "outputs": []
    },
    {
      "cell_type": "code",
      "metadata": {
        "id": "1PBwrDuKodWU",
        "colab_type": "code",
        "colab": {}
      },
      "source": [
        "# convert the probabilities into 0 or 1\n",
        "import numpy as np\n",
        "predictions = np.concatenate(predictions, axis = 0)\n",
        "predictions[predictions > 0.5] = 1\n",
        "predictions[predictions <= 0.5] = 0"
      ],
      "execution_count": 0,
      "outputs": []
    },
    {
      "cell_type": "code",
      "metadata": {
        "id": "TXme4fE3p8MJ",
        "colab_type": "code",
        "outputId": "aeb27e1c-eff5-4d2b-c215-a258b6a96aa0",
        "colab": {
          "base_uri": "https://localhost:8080/",
          "height": 34
        }
      },
      "source": [
        "accuracy = sum(predictions[predictions == titanic[\"Survived\"]])/len(predictions)\n",
        "print(accuracy)"
      ],
      "execution_count": 59,
      "outputs": [
        {
          "output_type": "stream",
          "text": [
            "0.3838383838383838\n"
          ],
          "name": "stdout"
        }
      ]
    },
    {
      "cell_type": "markdown",
      "metadata": {
        "id": "cbqOGIdznDvG",
        "colab_type": "text"
      },
      "source": [
        "### Model 2. Logistic Regression (validation acc: 1.00)"
      ]
    },
    {
      "cell_type": "code",
      "metadata": {
        "id": "J3cA6kr6nDIv",
        "colab_type": "code",
        "outputId": "1922c606-da2d-47fb-9c11-90b6e6b144ff",
        "colab": {
          "base_uri": "https://localhost:8080/",
          "height": 154
        }
      },
      "source": [
        "from sklearn.linear_model import LogisticRegression\n",
        "\n",
        "lg = LogisticRegression(random_state = 1)\n",
        "\n",
        "scores = cross_val_score(lg, titanic[predictors], titanic[\"Survived\"], cv = 3)\n",
        "print(\"Mean accuracy: {:.4f}\".format(scores.mean()))"
      ],
      "execution_count": 60,
      "outputs": [
        {
          "output_type": "stream",
          "text": [
            "Mean accuracy: 1.0000\n"
          ],
          "name": "stdout"
        },
        {
          "output_type": "stream",
          "text": [
            "/usr/local/lib/python3.6/dist-packages/sklearn/linear_model/logistic.py:432: FutureWarning: Default solver will be changed to 'lbfgs' in 0.22. Specify a solver to silence this warning.\n",
            "  FutureWarning)\n",
            "/usr/local/lib/python3.6/dist-packages/sklearn/linear_model/logistic.py:432: FutureWarning: Default solver will be changed to 'lbfgs' in 0.22. Specify a solver to silence this warning.\n",
            "  FutureWarning)\n",
            "/usr/local/lib/python3.6/dist-packages/sklearn/linear_model/logistic.py:432: FutureWarning: Default solver will be changed to 'lbfgs' in 0.22. Specify a solver to silence this warning.\n",
            "  FutureWarning)\n"
          ],
          "name": "stderr"
        }
      ]
    },
    {
      "cell_type": "markdown",
      "metadata": {
        "id": "03UIHzl7tpvW",
        "colab_type": "text"
      },
      "source": [
        "### Model 3. Random Forest (validation acc: 0.9978)"
      ]
    },
    {
      "cell_type": "code",
      "metadata": {
        "id": "bI7h1t7uYL6W",
        "colab_type": "code",
        "outputId": "439dd0c3-8219-4e10-b42f-5951251bbec5",
        "colab": {
          "base_uri": "https://localhost:8080/",
          "height": 50
        }
      },
      "source": [
        "rfc = RandomForestClassifier(random_state = 1, n_estimators = 10, min_samples_split = 2, min_samples_leaf = 1)\n",
        "\n",
        "kf = KFold(n_splits = 3, random_state = 1)\n",
        "scores = cross_val_score(rfc, titanic[predictors], titanic[\"Survived\"], cv = kf, scoring = \"accuracy\")\n",
        "print(\"Accuracy for each of 3 folds:\", scores)\n",
        "print(\"Mean accuracy: {:.4f}\".format(scores.mean()))\n"
      ],
      "execution_count": 62,
      "outputs": [
        {
          "output_type": "stream",
          "text": [
            "Accuracy for each of 3 folds: [1. 1. 1.]\n",
            "Mean accuracy: 1.0000\n"
          ],
          "name": "stdout"
        }
      ]
    },
    {
      "cell_type": "markdown",
      "metadata": {
        "id": "8BQbjgpkvdpx",
        "colab_type": "text"
      },
      "source": [
        "##### 3.1 Fine tune with different number of trees"
      ]
    },
    {
      "cell_type": "code",
      "metadata": {
        "id": "nozzquK1YL6f",
        "colab_type": "code",
        "colab": {}
      },
      "source": [
        "accurs = []\n",
        "for n in range(10, 100):\n",
        "      rfc = RandomForestClassifier(random_state = 1, n_estimators = n, min_samples_split = 2, min_samples_leaf = 4)\n",
        "      kf = KFold(n_splits = 3, random_state = 1)\n",
        "      scores = cross_val_score(rfc, titanic[predictors], titanic[\"Survived\"], cv = kf)\n",
        "      accurs.append(scores.mean())"
      ],
      "execution_count": 0,
      "outputs": []
    },
    {
      "cell_type": "code",
      "metadata": {
        "id": "SpW_b8urwbt1",
        "colab_type": "code",
        "outputId": "c1ff2e1c-60fc-490b-a14a-aa6c518a62d2",
        "colab": {
          "base_uri": "https://localhost:8080/",
          "height": 392
        }
      },
      "source": [
        "plt.figure(figsize = (10, 6))\n",
        "plt.plot(range(10, 100), accurs)\n",
        "plt.xlabel(\"Number of trees\")\n",
        "plt.ylabel(\"Mean accuracy\")\n",
        "plt.show()"
      ],
      "execution_count": 64,
      "outputs": [
        {
          "output_type": "display_data",
          "data": {
            "image/png": "[encoded data removed]",
            "text/plain": [
              "<Figure size 720x432 with 1 Axes>"
            ]
          },
          "metadata": {
            "tags": []
          }
        }
      ]
    },
    {
      "cell_type": "markdown",
      "metadata": {
        "id": "XpF7ib9uYL5L",
        "colab_type": "text"
      },
      "source": [
        "## Part 11: Predict the Survived conditions from the test datasets"
      ]
    },
    {
      "cell_type": "code",
      "metadata": {
        "id": "CdMg0enbLnBR",
        "colab_type": "code",
        "colab": {}
      },
      "source": [
        "#test_predict = cross_val_predict(rfc, test[predictors], test[\"Survived\"] = None, cv = kf)"
      ],
      "execution_count": 0,
      "outputs": []
    },
    {
      "cell_type": "markdown",
      "metadata": {
        "id": "K_ddv1Dy46N8",
        "colab_type": "text"
      },
      "source": [
        "## Other notes: assumptions for logistic regression\n",
        "\n",
        "\n",
        "We arrive at following assumptions based on data analysis done so far. We may validate these assumptions further before taking appropriate actions. \n",
        "\n",
        "1). For a binary Logistic Regression, the target variable should be binary. (The values for the target variable 'Survived' are 1 (survived) and 0 (not survived). This assumption is satisfied.)\n",
        "\n",
        "2). Only the meaningful variables should be included. At the next step, the unrelated variables will be removed. \n",
        "\n",
        "3). The independent variables should be independent of each other. That is, this is no multicollinearity problem. \n",
        "\n",
        "4). The independent variables should be linearly related to the log odds. \n",
        "\n",
        "5). The Logistic Regression requires large sample size. (50 records for each predictor, for 6 variables, the sample size should be >= 300.)"
      ]
    }
  ]
}
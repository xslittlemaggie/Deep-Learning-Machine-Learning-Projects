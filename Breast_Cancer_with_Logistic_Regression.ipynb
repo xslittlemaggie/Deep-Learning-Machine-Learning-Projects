{
  "nbformat": 4,
  "nbformat_minor": 0,
  "metadata": {
    "colab": {
      "name": "Breast Cancer with Logistic Regression.ipynb",
      "provenance": [],
      "include_colab_link": true
    },
    "kernelspec": {
      "name": "python3",
      "display_name": "Python 3"
    }
  },
  "cells": [
    {
      "cell_type": "markdown",
      "metadata": {
        "id": "view-in-github",
        "colab_type": "text"
      },
      "source": [
        "<a href=\"https://colab.research.google.com/github/xslittlemaggie/Machine-Learning-Projects/blob/master/Breast_Cancer_with_Logistic_Regression.ipynb\" target=\"_parent\"><img src=\"https://colab.research.google.com/assets/colab-badge.svg\" alt=\"Open In Colab\"/></a>"
      ]
    },
    {
      "cell_type": "markdown",
      "metadata": {
        "id": "tWQAojQa9fXS",
        "colab_type": "text"
      },
      "source": [
        "<h1><center>Breast Cancer with Logistic Regression<center></h1>"
      ]
    },
    {
      "cell_type": "markdown",
      "metadata": {
        "id": "-sTJl39j9s0l",
        "colab_type": "text"
      },
      "source": [
        "# **Step 0**: Import libraries"
      ]
    },
    {
      "cell_type": "code",
      "metadata": {
        "id": "iwZFmC9_9ePj",
        "colab_type": "code",
        "colab": {}
      },
      "source": [
        "from sklearn.linear_model import LogisticRegression\n",
        "from sklearn.datasets import load_breast_cancer\n",
        "from sklearn.model_selection import train_test_split\n",
        "import matplotlib.pyplot as plt\n",
        "\n",
        "import pandas as pd\n",
        "import numpy as np"
      ],
      "execution_count": 0,
      "outputs": []
    },
    {
      "cell_type": "markdown",
      "metadata": {
        "id": "VcFiS5L599Ln",
        "colab_type": "text"
      },
      "source": [
        "#**Step 1**: Load data"
      ]
    },
    {
      "cell_type": "code",
      "metadata": {
        "id": "5Oe99T7y9m6K",
        "colab_type": "code",
        "colab": {}
      },
      "source": [
        "data = load_breast_cancer()"
      ],
      "execution_count": 0,
      "outputs": []
    },
    {
      "cell_type": "code",
      "metadata": {
        "id": "eaMS65JY-LYI",
        "colab_type": "code",
        "colab": {}
      },
      "source": [
        "X = data.data\n",
        "y = data.target"
      ],
      "execution_count": 0,
      "outputs": []
    },
    {
      "cell_type": "code",
      "metadata": {
        "id": "bp2Dld2c-7lR",
        "colab_type": "code",
        "colab": {
          "base_uri": "https://localhost:8080/",
          "height": 35
        },
        "outputId": "356baad9-ef53-4770-c868-3cb70e29715b"
      },
      "source": [
        "print(\"Number of features: {}\".format(X.shape[1]))"
      ],
      "execution_count": 10,
      "outputs": [
        {
          "output_type": "stream",
          "text": [
            "Number of features: 30\n"
          ],
          "name": "stdout"
        }
      ]
    },
    {
      "cell_type": "markdown",
      "metadata": {
        "id": "Gh4KQtMi-fH_",
        "colab_type": "text"
      },
      "source": [
        "# **Step 2**: Model building\n",
        "\n",
        "- L1 Regularization\n",
        "\n",
        "- L2 Regularization"
      ]
    },
    {
      "cell_type": "code",
      "metadata": {
        "id": "lRQVBiaR-Q-X",
        "colab_type": "code",
        "colab": {
          "base_uri": "https://localhost:8080/",
          "height": 35
        },
        "outputId": "5db20e21-cbae-454a-f0b9-9a81942eac3e"
      },
      "source": [
        "data.target_names"
      ],
      "execution_count": 8,
      "outputs": [
        {
          "output_type": "execute_result",
          "data": {
            "text/plain": [
              "array(['malignant', 'benign'], dtype='<U9')"
            ]
          },
          "metadata": {
            "tags": []
          },
          "execution_count": 8
        }
      ]
    },
    {
      "cell_type": "code",
      "metadata": {
        "id": "Rq6YazT9-YDM",
        "colab_type": "code",
        "colab": {}
      },
      "source": [
        "lr_l1 = LogisticRegression(penalty = \"l1\", solver = \"liblinear\", C = 0.5, max_iter = 1000)\n",
        "lr_l2 = LogisticRegression(penalty = \"l2\", solver = \"liblinear\", C = 0.5, max_iter = 1000)"
      ],
      "execution_count": 0,
      "outputs": []
    },
    {
      "cell_type": "code",
      "metadata": {
        "id": "AtvbaA_Z-zQ8",
        "colab_type": "code",
        "colab": {
          "base_uri": "https://localhost:8080/",
          "height": 104
        },
        "outputId": "24b7c786-fcf7-45f3-970f-d9c2e92741da"
      },
      "source": [
        "lr_l1.fit(X, y)\n",
        "lr_l2.fit(X, y)"
      ],
      "execution_count": 11,
      "outputs": [
        {
          "output_type": "execute_result",
          "data": {
            "text/plain": [
              "LogisticRegression(C=0.5, class_weight=None, dual=False, fit_intercept=True,\n",
              "                   intercept_scaling=1, l1_ratio=None, max_iter=1000,\n",
              "                   multi_class='warn', n_jobs=None, penalty='l2',\n",
              "                   random_state=None, solver='liblinear', tol=0.0001, verbose=0,\n",
              "                   warm_start=False)"
            ]
          },
          "metadata": {
            "tags": []
          },
          "execution_count": 11
        }
      ]
    },
    {
      "cell_type": "markdown",
      "metadata": {
        "id": "B-DesbqeC0RE",
        "colab_type": "text"
      },
      "source": [
        "## 1. L1 vs L2 regularization"
      ]
    },
    {
      "cell_type": "code",
      "metadata": {
        "id": "K0yFIiI4_H6M",
        "colab_type": "code",
        "colab": {
          "base_uri": "https://localhost:8080/",
          "height": 215
        },
        "outputId": "8a1c34c4-7a68-4828-d16d-de115fb6b659"
      },
      "source": [
        "non_zero_features = (lr_l1.coef_ != 0).sum()\n",
        "print(\"Number of non-zero features: {}\".format(non_zero_features))\n",
        "\n",
        "l1_coef = [*zip(data.feature_names, lr_l1.coef_[0])]\n",
        "l1_coef = sorted(l1_coef, key = lambda pair : np.abs(pair[1]), reverse = True)\n",
        "pd.DataFrame(l1_coef, columns = [\"features\", \"coef\"])[:5]"
      ],
      "execution_count": 46,
      "outputs": [
        {
          "output_type": "stream",
          "text": [
            "Number of non-zero features: 10\n"
          ],
          "name": "stdout"
        },
        {
          "output_type": "execute_result",
          "data": {
            "text/html": [
              "<div>\n",
              "<style scoped>\n",
              "    .dataframe tbody tr th:only-of-type {\n",
              "        vertical-align: middle;\n",
              "    }\n",
              "\n",
              "    .dataframe tbody tr th {\n",
              "        vertical-align: top;\n",
              "    }\n",
              "\n",
              "    .dataframe thead th {\n",
              "        text-align: right;\n",
              "    }\n",
              "</style>\n",
              "<table border=\"1\" class=\"dataframe\">\n",
              "  <thead>\n",
              "    <tr style=\"text-align: right;\">\n",
              "      <th></th>\n",
              "      <th>features</th>\n",
              "      <th>coef</th>\n",
              "    </tr>\n",
              "  </thead>\n",
              "  <tbody>\n",
              "    <tr>\n",
              "      <th>0</th>\n",
              "      <td>mean radius</td>\n",
              "      <td>3.984939</td>\n",
              "    </tr>\n",
              "    <tr>\n",
              "      <th>1</th>\n",
              "      <td>worst concavity</td>\n",
              "      <td>-2.057682</td>\n",
              "    </tr>\n",
              "    <tr>\n",
              "      <th>2</th>\n",
              "      <td>texture error</td>\n",
              "      <td>0.502369</td>\n",
              "    </tr>\n",
              "    <tr>\n",
              "      <th>3</th>\n",
              "      <td>worst texture</td>\n",
              "      <td>-0.245207</td>\n",
              "    </tr>\n",
              "    <tr>\n",
              "      <th>4</th>\n",
              "      <td>mean perimeter</td>\n",
              "      <td>-0.135007</td>\n",
              "    </tr>\n",
              "  </tbody>\n",
              "</table>\n",
              "</div>"
            ],
            "text/plain": [
              "          features      coef\n",
              "0      mean radius  3.984939\n",
              "1  worst concavity -2.057682\n",
              "2    texture error  0.502369\n",
              "3    worst texture -0.245207\n",
              "4   mean perimeter -0.135007"
            ]
          },
          "metadata": {
            "tags": []
          },
          "execution_count": 46
        }
      ]
    },
    {
      "cell_type": "code",
      "metadata": {
        "id": "el3gOOoS_Lm0",
        "colab_type": "code",
        "colab": {
          "base_uri": "https://localhost:8080/",
          "height": 215
        },
        "outputId": "ec48fb58-4214-46e2-da44-28770c065175"
      },
      "source": [
        "non_zero_features = (lr_l2.coef_ != 0).sum()\n",
        "print(\"Number of non-zero features: {}\".format(non_zero_features))\n",
        "\n",
        "l2_coef = [*zip(data.feature_names, lr_l2.coef_[0])]\n",
        "l2_coef = sorted(l2_coef, key = lambda pair: np.abs(pair[1]), reverse = True)\n",
        "pd.DataFrame(l2_coef, columns = [\"features\", \"coef\"])[:5]"
      ],
      "execution_count": 47,
      "outputs": [
        {
          "output_type": "stream",
          "text": [
            "Number of non-zero features: 30\n"
          ],
          "name": "stdout"
        },
        {
          "output_type": "execute_result",
          "data": {
            "text/html": [
              "<div>\n",
              "<style scoped>\n",
              "    .dataframe tbody tr th:only-of-type {\n",
              "        vertical-align: middle;\n",
              "    }\n",
              "\n",
              "    .dataframe tbody tr th {\n",
              "        vertical-align: top;\n",
              "    }\n",
              "\n",
              "    .dataframe thead th {\n",
              "        text-align: right;\n",
              "    }\n",
              "</style>\n",
              "<table border=\"1\" class=\"dataframe\">\n",
              "  <thead>\n",
              "    <tr style=\"text-align: right;\">\n",
              "      <th></th>\n",
              "      <th>features</th>\n",
              "      <th>coef</th>\n",
              "    </tr>\n",
              "  </thead>\n",
              "  <tbody>\n",
              "    <tr>\n",
              "      <th>0</th>\n",
              "      <td>mean radius</td>\n",
              "      <td>1.613311</td>\n",
              "    </tr>\n",
              "    <tr>\n",
              "      <th>1</th>\n",
              "      <td>worst radius</td>\n",
              "      <td>1.285297</td>\n",
              "    </tr>\n",
              "    <tr>\n",
              "      <th>2</th>\n",
              "      <td>worst concavity</td>\n",
              "      <td>-1.158301</td>\n",
              "    </tr>\n",
              "    <tr>\n",
              "      <th>3</th>\n",
              "      <td>worst compactness</td>\n",
              "      <td>-0.877272</td>\n",
              "    </tr>\n",
              "    <tr>\n",
              "      <th>4</th>\n",
              "      <td>texture error</td>\n",
              "      <td>0.874999</td>\n",
              "    </tr>\n",
              "  </tbody>\n",
              "</table>\n",
              "</div>"
            ],
            "text/plain": [
              "            features      coef\n",
              "0        mean radius  1.613311\n",
              "1       worst radius  1.285297\n",
              "2    worst concavity -1.158301\n",
              "3  worst compactness -0.877272\n",
              "4      texture error  0.874999"
            ]
          },
          "metadata": {
            "tags": []
          },
          "execution_count": 47
        }
      ]
    },
    {
      "cell_type": "code",
      "metadata": {
        "id": "q3EPqgSf_NlV",
        "colab_type": "code",
        "colab": {
          "base_uri": "https://localhost:8080/",
          "height": 35
        },
        "outputId": "c4898306-de1b-4160-9fed-bb81edd5c700"
      },
      "source": [
        "lr_l2.coef_.shape"
      ],
      "execution_count": 29,
      "outputs": [
        {
          "output_type": "execute_result",
          "data": {
            "text/plain": [
              "(1, 30)"
            ]
          },
          "metadata": {
            "tags": []
          },
          "execution_count": 29
        }
      ]
    },
    {
      "cell_type": "markdown",
      "metadata": {
        "id": "jIFLE4rDC7Lm",
        "colab_type": "text"
      },
      "source": [
        "## 2. Model performance evaluation"
      ]
    },
    {
      "cell_type": "code",
      "metadata": {
        "id": "_XLDYdsAAyOV",
        "colab_type": "code",
        "colab": {}
      },
      "source": [
        "x_train, x_test, y_train, y_test = train_test_split(X, y, test_size = 0.3, random_state = 1)"
      ],
      "execution_count": 0,
      "outputs": []
    },
    {
      "cell_type": "code",
      "metadata": {
        "id": "zTh_B3o4DGHA",
        "colab_type": "code",
        "colab": {}
      },
      "source": [
        "# train score list\n",
        "l1_train_scores = []\n",
        "l2_train_scores = []\n",
        "\n",
        "# test score list\n",
        "l1_test_scores = []\n",
        "l2_test_scores = []\n",
        "\n",
        "for i in np.linspace(0.05, 1, 19):\n",
        "  # build the model\n",
        "  lr_l1 = LogisticRegression(penalty = \"l1\", solver = \"liblinear\", C = i, max_iter = 1000)\n",
        "  lr_l2 = LogisticRegression(penalty = \"l2\", solver = \"liblinear\", C = i, max_iter = 1000)\n",
        "\n",
        "  # fit the model\n",
        "  lr_l1.fit(x_train, y_train)\n",
        "  lr_l2.fit(x_train, y_train)\n",
        "\n",
        "  # get the train score\n",
        "  l1_train_scores.append(lr_l1.score(x_train,  y_train))\n",
        "  l2_train_scores.append(lr_l2.score(x_train, y_train)) # = accuracy_score(lr_l2.predict(x_train), y_train)\n",
        "\n",
        "  # get the test score\n",
        "  l1_test_scores.append(lr_l1.score(x_test, y_test))\n",
        "  l2_test_scores.append(lr_l2.score(x_test, y_test))\n"
      ],
      "execution_count": 0,
      "outputs": []
    },
    {
      "cell_type": "code",
      "metadata": {
        "id": "YB3k39i6EFM4",
        "colab_type": "code",
        "colab": {
          "base_uri": "https://localhost:8080/",
          "height": 390
        },
        "outputId": "f20c1b77-232a-4a39-c02a-f01688a9855a"
      },
      "source": [
        "plt.figure(figsize = (12, 6))\n",
        "plt.plot(np.linspace(0.05, 1, 19), l1_train_scores, label = \"l1\", c = \"red\")\n",
        "plt.plot(np.linspace(0.05, 1, 19), l2_train_scores, label = \"l2\", c = \"black\")\n",
        "plt.title(\"The training accuracy of l1 vs l2\")\n",
        "plt.legend()\n",
        "#plt.show()\n",
        "\n",
        "plt.plot(np.linspace(0.05, 1, 19), l1_test_scores, label = \"l1_test\", c = \"red\", alpha = 0.4)\n",
        "plt.plot(np.linspace(0.05, 1, 19), l2_test_scores, label = \"l2_test\", c = \"black\", alpha = 0.4)\n",
        "plt.title(\"The testing accuracy of l1 vs l2\")\n",
        "plt.legend()\n",
        "plt.show()"
      ],
      "execution_count": 78,
      "outputs": [
        {
          "output_type": "display_data",
          "data": {
            "image/png": "[encoded data removed]",
            "text/plain": [
              "<Figure size 864x432 with 1 Axes>"
            ]
          },
          "metadata": {
            "tags": []
          }
        }
      ]
    },
    {
      "cell_type": "markdown",
      "metadata": {
        "id": "3-PAnmU7Hg5p",
        "colab_type": "text"
      },
      "source": [
        "## 3. Select the model with the best performance"
      ]
    },
    {
      "cell_type": "code",
      "metadata": {
        "id": "vSIsodlWHkER",
        "colab_type": "code",
        "colab": {
          "base_uri": "https://localhost:8080/",
          "height": 570
        },
        "outputId": "54ddeb30-51c0-47c3-99ac-9aa141a43030"
      },
      "source": [
        "max_l1 = max(l1_test_scores)\n",
        "max_l2 = max(l2_test_scores)\n",
        "\n",
        "C_lst = np.linspace(0.05, 1, 19)\n",
        "\n",
        "if max_l1 >= max_l2:\n",
        "  print(\"The best model is L1, with acc: {:.4f}, and C: {:.4f}.\".format(max_l1, C_lst[l1_test_scores.index(max_l1)]))\n",
        "  print(pd.DataFrame(l1_coef, columns = [\"features\", \"coef\"]))\n",
        "else:\n",
        "  print(\"The best model is L2, with acc: {:.4f}, and C: {:.4f}.\".format(max_l2, C_lst[l2_test_scores.index(max_l2)]))\n",
        "  print(pd.DataFrame(l2_coef, columns = [\"features\", \"coef\"]))\n"
      ],
      "execution_count": 86,
      "outputs": [
        {
          "output_type": "stream",
          "text": [
            "The best model is L1, with acc: 0.9591, and C: 0.8944.\n",
            "                   features      coef\n",
            "0               mean radius  3.984939\n",
            "1           worst concavity -2.057682\n",
            "2             texture error  0.502369\n",
            "3             worst texture -0.245207\n",
            "4            mean perimeter -0.135007\n",
            "5           worst perimeter -0.128274\n",
            "6                area error -0.071232\n",
            "7              mean texture  0.031394\n",
            "8                 mean area -0.016194\n",
            "9                worst area -0.014436\n",
            "10          mean smoothness  0.000000\n",
            "11         mean compactness  0.000000\n",
            "12           mean concavity  0.000000\n",
            "13      mean concave points  0.000000\n",
            "14            mean symmetry  0.000000\n",
            "15   mean fractal dimension  0.000000\n",
            "16             radius error  0.000000\n",
            "17          perimeter error  0.000000\n",
            "18         smoothness error  0.000000\n",
            "19        compactness error  0.000000\n",
            "20          concavity error  0.000000\n",
            "21     concave points error  0.000000\n",
            "22           symmetry error  0.000000\n",
            "23  fractal dimension error  0.000000\n",
            "24             worst radius  0.000000\n",
            "25         worst smoothness  0.000000\n",
            "26        worst compactness  0.000000\n",
            "27     worst concave points  0.000000\n",
            "28           worst symmetry  0.000000\n",
            "29  worst fractal dimension  0.000000\n"
          ],
          "name": "stdout"
        }
      ]
    },
    {
      "cell_type": "code",
      "metadata": {
        "id": "1RkD7oBmIANB",
        "colab_type": "code",
        "colab": {}
      },
      "source": [
        ""
      ],
      "execution_count": 0,
      "outputs": []
    }
  ]
}
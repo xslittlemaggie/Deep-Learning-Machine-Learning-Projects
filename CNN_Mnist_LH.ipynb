{
  "nbformat": 4,
  "nbformat_minor": 0,
  "metadata": {
    "colab": {
      "name": "CNN_Mnist_LH.ipynb",
      "version": "0.3.2",
      "provenance": [],
      "collapsed_sections": [],
      "toc_visible": true,
      "include_colab_link": true
    },
    "kernelspec": {
      "name": "python3",
      "display_name": "Python 3"
    },
    "accelerator": "GPU"
  },
  "cells": [
    {
      "cell_type": "markdown",
      "metadata": {
        "id": "view-in-github",
        "colab_type": "text"
      },
      "source": [
        "<a href=\"https://colab.research.google.com/github/xslittlemaggie/Deep-Learning-Machine-Learning-Projects/blob/master/CNN_Mnist_LH.ipynb\" target=\"_parent\"><img src=\"https://colab.research.google.com/assets/colab-badge.svg\" alt=\"Open In Colab\"/></a>"
      ]
    },
    {
      "cell_type": "markdown",
      "metadata": {
        "id": "-IdKbNDks5sy",
        "colab_type": "text"
      },
      "source": [
        "## Step 1: Import librarious"
      ]
    },
    {
      "cell_type": "code",
      "metadata": {
        "id": "Cbi4948Ys3bY",
        "colab_type": "code",
        "colab": {
          "base_uri": "https://localhost:8080/",
          "height": 35
        },
        "outputId": "a4dcc5d4-8e00-4e62-cbd8-4d86baf3f4c7"
      },
      "source": [
        "import numpy as np\n",
        "from keras.models import Sequential\n",
        "from keras.layers.core import Dense, Dropout, Activation\n",
        "from keras.layers import Conv2D, MaxPooling2D, Flatten\n",
        "from keras.optimizers import SGD, Adam, Adadelta\n",
        "from keras.utils import np_utils\n",
        "from keras.datasets import mnist\n",
        "from keras import backend as K"
      ],
      "execution_count": 1,
      "outputs": [
        {
          "output_type": "stream",
          "text": [
            "Using TensorFlow backend.\n"
          ],
          "name": "stderr"
        }
      ]
    },
    {
      "cell_type": "markdown",
      "metadata": {
        "id": "x9604MxXtDt4",
        "colab_type": "text"
      },
      "source": [
        "## Step 2: Load mnist data"
      ]
    },
    {
      "cell_type": "code",
      "metadata": {
        "id": "KmTJ3YZWqO2j",
        "colab_type": "code",
        "outputId": "ea98886f-cfd9-4a9e-dc09-cd9132cfdd26",
        "colab": {
          "base_uri": "https://localhost:8080/",
          "height": 52
        }
      },
      "source": [
        "# the data, split between train and test sets\n",
        "(x_train, y_train), (x_test, y_test) = mnist.load_data()\n",
        "\n",
        "if K.image_data_format() == \"channels_first\":\n",
        "  x_train = x_train.reshape(x_train.shape[0], 1, 28, 28)\n",
        "  x_test = x_test.reshape(x_test.shape[0], 1, 28, 28)\n",
        "  input_shape = (1, 28, 28)\n",
        "else:\n",
        "  x_train = x_train.reshape(x_train.shape[0], 28, 28, 1)\n",
        "  x_test = x_test.reshape(x_test.shape[0], 28, 28, 1)\n",
        "  input_shape = (28, 28, 1)\n",
        "\n",
        "x_train = x_train.astype('float32')\n",
        "x_test = x_test.astype('float32')\n",
        "x_train = x_train/255\n",
        "x_test = x_test/255\n",
        "\n",
        "# convert class vectors to binary class matrics\n",
        "y_train = np_utils.to_categorical(y_train, 10)\n",
        "y_test = np_utils.to_categorical(y_test, 10)"
      ],
      "execution_count": 2,
      "outputs": [
        {
          "output_type": "stream",
          "text": [
            "Downloading data from https://s3.amazonaws.com/img-datasets/mnist.npz\n",
            "11493376/11490434 [==============================] - 0s 0us/step\n"
          ],
          "name": "stdout"
        }
      ]
    },
    {
      "cell_type": "markdown",
      "metadata": {
        "id": "vUSQTE4DtJXw",
        "colab_type": "text"
      },
      "source": [
        "## Step 3: Get familiar with the data"
      ]
    },
    {
      "cell_type": "code",
      "metadata": {
        "id": "hjjaYXfzqrx7",
        "colab_type": "code",
        "outputId": "07b53c3a-9088-49cf-ed61-09801fdb2f2c",
        "colab": {
          "base_uri": "https://localhost:8080/",
          "height": 87
        }
      },
      "source": [
        "print(\"x_train shape:\", x_train.shape)\n",
        "print(\"y_train shape:\", y_train.shape)\n",
        "print(\"x_test shape:\", x_test.shape)\n",
        "print(\"y_test shape:\", y_test.shape)"
      ],
      "execution_count": 3,
      "outputs": [
        {
          "output_type": "stream",
          "text": [
            "x_train shape: (60000, 28, 28, 1)\n",
            "y_train shape: (60000, 10)\n",
            "x_test shape: (10000, 28, 28, 1)\n",
            "y_test shape: (10000, 10)\n"
          ],
          "name": "stdout"
        }
      ]
    },
    {
      "cell_type": "code",
      "metadata": {
        "id": "_lWNp13nqyeI",
        "colab_type": "code",
        "outputId": "09d7e8f4-68a9-4dc9-ddec-ae1ce42f2012",
        "colab": {
          "base_uri": "https://localhost:8080/",
          "height": 35
        }
      },
      "source": [
        "print(y_train[0]) # the first value is 5"
      ],
      "execution_count": 4,
      "outputs": [
        {
          "output_type": "stream",
          "text": [
            "[0. 0. 0. 0. 0. 1. 0. 0. 0. 0.]\n"
          ],
          "name": "stdout"
        }
      ]
    },
    {
      "cell_type": "markdown",
      "metadata": {
        "id": "e40ewWHUuN57",
        "colab_type": "text"
      },
      "source": [
        "## Step 4: Create the CNN model"
      ]
    },
    {
      "cell_type": "markdown",
      "metadata": {
        "id": "bHp3YTBgzV1x",
        "colab_type": "text"
      },
      "source": [
        "Models:\n",
        "  \n",
        "  1). **Dense -> fully connected** NN\n",
        "  2). **MaxPooling** \n",
        "  3). **Conv2D -> CNN**      4). **Flatten**\n",
        "\n",
        "Parameters:\n",
        "1. Activation functions: \n",
        "    **1). relu** (more efficient)\n",
        "    **2). sigmoid**\n",
        "    **3). tanh**\n",
        "    **4). softmax** (usually the last layer)\n",
        "      \n",
        "2. Loss functions: \n",
        "    **1). mse** (not good for classification)\n",
        "    **2). categorical_crossentropy**\n",
        "      \n",
        "3. Optimizers: \n",
        "    **1). SGD(lr = 0.01)**\n",
        "    **2). Adam**\n",
        "    **3). Adadelta\n",
        "      \n",
        "  "
      ]
    },
    {
      "cell_type": "code",
      "metadata": {
        "id": "Wm0gF8PWsvy9",
        "colab_type": "code",
        "outputId": "7005c938-5d8a-4070-aa9f-77777be860aa",
        "colab": {
          "base_uri": "https://localhost:8080/",
          "height": 1000
        }
      },
      "source": [
        "model = Sequential()\n",
        "\n",
        "model.add(Conv2D(32, kernel_size = (3, 3), activation = 'relu', input_shape = (28, 28, 1)))\n",
        "\n",
        "model.add(Conv2D(64, (3, 3), activation = 'relu'))\n",
        "model.add(MaxPooling2D((2, 2)))\n",
        "# model.add(Dropout(0.25))  # one solution for overfitting, dropout\n",
        "\n",
        "model.add(Flatten())\n",
        "\n",
        "model.add(Dense(128, activation = 'relu'))\n",
        "# model.add(Dropout(0.5))\n",
        "\n",
        "model.add(Dense(10, activation ='softmax'))\n",
        "\n",
        "model.compile(loss = \"categorical_crossentropy\", optimizer = Adadelta(), metrics = ['accuracy'])\n",
        "\n",
        "model.fit(x_train, y_train,\n",
        "         batch_size = 128, \n",
        "         epochs = 20,\n",
        "         verbose = 1,\n",
        "         validation_data = (x_test, y_test))\n",
        "\n",
        "score = model.evaluate(x_train, y_train, verbose = 0) \n",
        "print(\"Train Acc:\", score[1])\n",
        "\n",
        "score = model.evaluate(x_test, y_test, verbose = 0) \n",
        "\n",
        "print(\"Test Acc:\", score[1])"
      ],
      "execution_count": 5,
      "outputs": [
        {
          "output_type": "stream",
          "text": [
            "WARNING: Logging before flag parsing goes to stderr.\n",
            "W0716 01:28:54.442800 140189756221312 deprecation_wrapper.py:119] From /usr/local/lib/python3.6/dist-packages/keras/backend/tensorflow_backend.py:74: The name tf.get_default_graph is deprecated. Please use tf.compat.v1.get_default_graph instead.\n",
            "\n",
            "W0716 01:28:54.483059 140189756221312 deprecation_wrapper.py:119] From /usr/local/lib/python3.6/dist-packages/keras/backend/tensorflow_backend.py:517: The name tf.placeholder is deprecated. Please use tf.compat.v1.placeholder instead.\n",
            "\n",
            "W0716 01:28:54.489422 140189756221312 deprecation_wrapper.py:119] From /usr/local/lib/python3.6/dist-packages/keras/backend/tensorflow_backend.py:4138: The name tf.random_uniform is deprecated. Please use tf.random.uniform instead.\n",
            "\n",
            "W0716 01:28:54.527781 140189756221312 deprecation_wrapper.py:119] From /usr/local/lib/python3.6/dist-packages/keras/backend/tensorflow_backend.py:3976: The name tf.nn.max_pool is deprecated. Please use tf.nn.max_pool2d instead.\n",
            "\n",
            "W0716 01:28:54.573885 140189756221312 deprecation_wrapper.py:119] From /usr/local/lib/python3.6/dist-packages/keras/optimizers.py:790: The name tf.train.Optimizer is deprecated. Please use tf.compat.v1.train.Optimizer instead.\n",
            "\n",
            "W0716 01:28:54.582374 140189756221312 deprecation_wrapper.py:119] From /usr/local/lib/python3.6/dist-packages/keras/backend/tensorflow_backend.py:3295: The name tf.log is deprecated. Please use tf.math.log instead.\n",
            "\n",
            "W0716 01:28:54.692806 140189756221312 deprecation.py:323] From /usr/local/lib/python3.6/dist-packages/tensorflow/python/ops/math_grad.py:1250: add_dispatch_support.<locals>.wrapper (from tensorflow.python.ops.array_ops) is deprecated and will be removed in a future version.\n",
            "Instructions for updating:\n",
            "Use tf.where in 2.0, which has the same broadcast rule as np.where\n",
            "W0716 01:28:54.804984 140189756221312 deprecation_wrapper.py:119] From /usr/local/lib/python3.6/dist-packages/keras/backend/tensorflow_backend.py:986: The name tf.assign_add is deprecated. Please use tf.compat.v1.assign_add instead.\n",
            "\n"
          ],
          "name": "stderr"
        },
        {
          "output_type": "stream",
          "text": [
            "Train on 60000 samples, validate on 10000 samples\n",
            "Epoch 1/20\n",
            "60000/60000 [==============================] - 11s 187us/step - loss: 0.1911 - acc: 0.9411 - val_loss: 0.0518 - val_acc: 0.9834\n",
            "Epoch 2/20\n",
            "60000/60000 [==============================] - 4s 72us/step - loss: 0.0480 - acc: 0.9850 - val_loss: 0.0361 - val_acc: 0.9875\n",
            "Epoch 3/20\n",
            "60000/60000 [==============================] - 4s 72us/step - loss: 0.0303 - acc: 0.9909 - val_loss: 0.0374 - val_acc: 0.9878\n",
            "Epoch 4/20\n",
            "60000/60000 [==============================] - 4s 72us/step - loss: 0.0209 - acc: 0.9938 - val_loss: 0.0312 - val_acc: 0.9902\n",
            "Epoch 5/20\n",
            "60000/60000 [==============================] - 4s 71us/step - loss: 0.0148 - acc: 0.9956 - val_loss: 0.0354 - val_acc: 0.9890\n",
            "Epoch 6/20\n",
            "60000/60000 [==============================] - 4s 71us/step - loss: 0.0097 - acc: 0.9971 - val_loss: 0.0307 - val_acc: 0.9907\n",
            "Epoch 7/20\n",
            "60000/60000 [==============================] - 4s 71us/step - loss: 0.0069 - acc: 0.9980 - val_loss: 0.0326 - val_acc: 0.9912\n",
            "Epoch 8/20\n",
            "60000/60000 [==============================] - 4s 71us/step - loss: 0.0046 - acc: 0.9987 - val_loss: 0.0406 - val_acc: 0.9902\n",
            "Epoch 9/20\n",
            "60000/60000 [==============================] - 4s 71us/step - loss: 0.0036 - acc: 0.9991 - val_loss: 0.0399 - val_acc: 0.9898\n",
            "Epoch 10/20\n",
            "60000/60000 [==============================] - 4s 71us/step - loss: 0.0025 - acc: 0.9994 - val_loss: 0.0425 - val_acc: 0.9903\n",
            "Epoch 11/20\n",
            "60000/60000 [==============================] - 4s 71us/step - loss: 0.0016 - acc: 0.9996 - val_loss: 0.0402 - val_acc: 0.9908\n",
            "Epoch 12/20\n",
            "60000/60000 [==============================] - 4s 71us/step - loss: 0.0013 - acc: 0.9998 - val_loss: 0.0436 - val_acc: 0.9906\n",
            "Epoch 13/20\n",
            "60000/60000 [==============================] - 4s 70us/step - loss: 0.0010 - acc: 0.9998 - val_loss: 0.0430 - val_acc: 0.9904\n",
            "Epoch 14/20\n",
            "60000/60000 [==============================] - 4s 70us/step - loss: 7.2549e-04 - acc: 0.9999 - val_loss: 0.0448 - val_acc: 0.9904\n",
            "Epoch 15/20\n",
            "60000/60000 [==============================] - 4s 71us/step - loss: 7.4184e-04 - acc: 0.9998 - val_loss: 0.0448 - val_acc: 0.9902\n",
            "Epoch 16/20\n",
            "60000/60000 [==============================] - 4s 70us/step - loss: 4.4483e-04 - acc: 0.9999 - val_loss: 0.0453 - val_acc: 0.9908\n",
            "Epoch 17/20\n",
            "60000/60000 [==============================] - 4s 69us/step - loss: 3.0751e-04 - acc: 1.0000 - val_loss: 0.0456 - val_acc: 0.9912\n",
            "Epoch 18/20\n",
            "60000/60000 [==============================] - 4s 70us/step - loss: 2.9803e-04 - acc: 1.0000 - val_loss: 0.0463 - val_acc: 0.9912\n",
            "Epoch 19/20\n",
            "60000/60000 [==============================] - 4s 70us/step - loss: 2.8946e-04 - acc: 1.0000 - val_loss: 0.0476 - val_acc: 0.9910\n",
            "Epoch 20/20\n",
            "60000/60000 [==============================] - 4s 70us/step - loss: 2.8635e-04 - acc: 1.0000 - val_loss: 0.0477 - val_acc: 0.9910\n",
            "Train Acc: 0.9999833333333333\n",
            "Test Acc: 0.991\n"
          ],
          "name": "stdout"
        }
      ]
    },
    {
      "cell_type": "code",
      "metadata": {
        "id": "nc1Ll3fvB-lM",
        "colab_type": "code",
        "colab": {}
      },
      "source": [
        ""
      ],
      "execution_count": 0,
      "outputs": []
    }
  ]
}
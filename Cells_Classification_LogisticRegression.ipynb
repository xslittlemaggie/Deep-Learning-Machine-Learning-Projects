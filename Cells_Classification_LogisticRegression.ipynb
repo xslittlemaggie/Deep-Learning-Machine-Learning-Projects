{
  "nbformat": 4,
  "nbformat_minor": 0,
  "metadata": {
    "colab": {
      "name": "Untitled66.ipynb",
      "provenance": [],
      "collapsed_sections": [],
      "toc_visible": true,
      "include_colab_link": true
    },
    "kernelspec": {
      "name": "python3",
      "display_name": "Python 3"
    },
    "accelerator": "GPU"
  },
  "cells": [
    {
      "cell_type": "markdown",
      "metadata": {
        "id": "view-in-github",
        "colab_type": "text"
      },
      "source": [
        "<a href=\"https://colab.research.google.com/github/xslittlemaggie/Machine-Learning-Projects/blob/master/Cells_Classification_LogisticRegression.ipynb\" target=\"_parent\"><img src=\"https://colab.research.google.com/assets/colab-badge.svg\" alt=\"Open In Colab\"/></a>"
      ]
    },
    {
      "cell_type": "markdown",
      "metadata": {
        "id": "8AK-JrTUKp5L",
        "colab_type": "text"
      },
      "source": [
        "# Binary Classification of Cells Using Logistic Regression"
      ]
    },
    {
      "cell_type": "markdown",
      "metadata": {
        "id": "oYbIuZ3sKvfZ",
        "colab_type": "text"
      },
      "source": [
        "## **Step 0**: Import Libraries"
      ]
    },
    {
      "cell_type": "markdown",
      "metadata": {
        "id": "e9-ppCekK1av",
        "colab_type": "text"
      },
      "source": [
        "## **Step 1**: About The Dataset"
      ]
    },
    {
      "cell_type": "markdown",
      "metadata": {
        "id": "pKyzsoQpLRKM",
        "colab_type": "text"
      },
      "source": [
        "The dataset consists of a total of over 12, 000 cells with 2 categories:\n",
        "\n",
        "- **SQNC** (sample size = 2,000): sequential category\n",
        "\n",
        "- **COMB** (sample size = 10,000): combinational category \n",
        "\n"
      ]
    },
    {
      "cell_type": "markdown",
      "metadata": {
        "id": "rwmvvCNf-M1O",
        "colab_type": "text"
      },
      "source": [
        "\n",
        "| Device | param1 | param2 | param3 | param4 | param5 | ...... | ...... | param13 |\n",
        "|--------|--------|--------|--------|--------|--------|--------|--------|---------|\n",
        "|   10   |    6   |    6   |    3   |    3   |    5   |        |        |    2    |\n",
        "|   10   |    8   |    3   |    2   |    4   |    4   |    2   |    3   |    6    |\n",
        "|   20   |    7   |    3   |    2   |    4   |    4   |    2   |    3   |    2    |\n",
        "|  ...   |  ...   |  ...   |  ...   |  ...   |  ...   |  ...   |  ...   |  ...    |\n",
        "|  ...   |  ...   |  ...   |  ...   |  ...   |  ...   |  ...   |  ...   |  ...    |\n",
        "|   20   |    7   |    3   |    2   |    4   |    5   |    2   |    3   |    2    |\n",
        "\n",
        "\n",
        "Entire dataset consists of 12,000 such tables labelled as **COMB** or **SQNC**."
      ]
    },
    {
      "cell_type": "markdown",
      "metadata": {
        "id": "VKkZn1lmMd6A",
        "colab_type": "text"
      },
      "source": [
        "## **Step 2**: Load the dataset and Labels"
      ]
    },
    {
      "cell_type": "code",
      "metadata": {
        "id": "Ike7PLNwUgf-",
        "colab_type": "code",
        "colab": {}
      },
      "source": [
        "#Download dataset\n",
        "import urllib\n",
        "import io\n",
        "def download_dataset():\n",
        "    gh_url = 'https://github.com/srohit0/mida/raw/master/data/2classes.tar.gz'\n",
        "\n",
        "    response    = urllib.request.urlopen(gh_url)\n",
        "    tar_gz_file = io.BytesIO(response.read())\n",
        "    \n",
        "    return tar_gz_file\n",
        "\n",
        "tar_decoded_contents = download_dataset().read()"
      ],
      "execution_count": 0,
      "outputs": []
    },
    {
      "cell_type": "code",
      "metadata": {
        "id": "FR7V-3oyUhCw",
        "colab_type": "code",
        "colab": {}
      },
      "source": [
        "# max_devices_per_cell is also max number of rows in circuit files in the training set\n",
        "max_devices_per_cell = 351; \n",
        "# feature_per_device is different from max number of cols (14) in circuit files in training set\n",
        "feature_per_device   = 5; \n",
        "feature_indices = (0,2,5,8,11)\n",
        "\n",
        "def load_one_cell(encoded_cell_file):\n",
        "    cell_cols = 14\n",
        "    cell_data = np.zeros(shape=(max_devices_per_cell, cell_cols), dtype=np.float32)\n",
        "    cell_mat  = np.loadtxt(io.StringIO(encoded_cell_file.decode()), dtype=np.float32, ndmin=2)\n",
        "    nrows     = cell_mat.shape[0]\n",
        "    ncols     = cell_mat.shape[1]\n",
        "    cell_data[:nrows, :ncols] = cell_mat\n",
        "    cell_data = cell_data[:, feature_indices]\n",
        "    return cell_data"
      ],
      "execution_count": 0,
      "outputs": []
    },
    {
      "cell_type": "code",
      "metadata": {
        "id": "p5M7KxYxUj1s",
        "colab_type": "code",
        "colab": {
          "base_uri": "https://localhost:8080/",
          "height": 68
        },
        "outputId": "68b65d89-8a1a-4ed9-9453-98852a715bd2"
      },
      "source": [
        "import tarfile\n",
        "import numpy as np\n",
        "import os\n",
        "def load_cells(): \n",
        "    tar_contents = io.BytesIO(tar_decoded_contents)\n",
        "\n",
        "    tarFileObj = tarfile.open(fileobj=tar_contents, mode=\"r:gz\")\n",
        "    cell_files = tarFileObj.getmembers()\n",
        "    \n",
        "    dataset    = np.zeros(shape=(len(cell_files), max_devices_per_cell, \n",
        "                                 feature_per_device), dtype=np.float32)\n",
        "    labels     = [[0.0, 0.0]]*len(cell_files)\n",
        "\n",
        "    cell_index = 0\n",
        "    comb_indices = []\n",
        "    sqnc_indices = []\n",
        "    for cell_file_name in cell_files:\n",
        "\n",
        "        cell_file = tarFileObj.extractfile(cell_file_name)\n",
        "        # ignore dirs etc\n",
        "        if ( cell_file == None ):\n",
        "            continue;\n",
        "\n",
        "        try:\n",
        "\n",
        "            cell_label = os.path.split(os.path.dirname(cell_file_name.name))[1]\n",
        "            cell_data  = load_one_cell(cell_file.read())\n",
        "        \n",
        "            cell_rows = cell_data.shape[0]\n",
        "            cell_cols = cell_data.shape[1]\n",
        "            dataset[cell_index, :cell_rows, :cell_cols] = cell_data\n",
        "            if ( cell_label == 'COMB'):\n",
        "                comb_indices.append(cell_index)\n",
        "                labels[cell_index] = [1.0, 0.0] \n",
        "            else:\n",
        "                sqnc_indices.append(cell_index)\n",
        "                labels[cell_index] = [0.0, 1.0] \n",
        "\n",
        "            cell_index = cell_index + 1\n",
        "            \n",
        "        except IOError as e:\n",
        "            print('Could not read:', cell_file, ':', e, '- it\\'s ok, skipping.')\n",
        "    \n",
        "    tarFileObj.close()\n",
        "\n",
        "    dataset = dataset[0:cell_index, :, :]\n",
        "    labels  = labels [0:cell_index]\n",
        "    \n",
        "    comb_dataset = [dataset[i] for i in comb_indices]\n",
        "    comb_dataset = np.array(comb_dataset)\n",
        "    sqnc_dataset = [dataset[i] for i in sqnc_indices]\n",
        "    sqnc_dataset = np.array(sqnc_dataset)\n",
        "\n",
        "    return comb_dataset, sqnc_dataset, dataset, np.array(labels)\n",
        "\n",
        "comb_dataset, sqnc_dataset, dataset, labels = load_cells()\n",
        "\n",
        "\n",
        "print('COMB  dataset: shape=', comb_dataset.shape, ', Mean=', np.mean(comb_dataset), ', sigma=', np.std(comb_dataset))\n",
        "print('SQNC  dataset: shape=', sqnc_dataset.shape, ', Mean=', np.mean(sqnc_dataset), ', sigma=', np.std(sqnc_dataset))\n",
        "print('TOTAL dataset: shape=', dataset.shape, ', Mean=', np.mean(dataset), ', sigma=', np.std(dataset))"
      ],
      "execution_count": 113,
      "outputs": [
        {
          "output_type": "stream",
          "text": [
            "COMB  dataset: shape= (10096, 351, 5) , Mean= 0.6869385 , sigma= 2.9570189\n",
            "SQNC  dataset: shape= (2096, 351, 5) , Mean= 1.3690326 , sigma= 4.679745\n",
            "TOTAL dataset: shape= (12192, 351, 5) , Mean= 0.8042017 , sigma= 3.3274512\n"
          ],
          "name": "stdout"
        }
      ]
    },
    {
      "cell_type": "code",
      "metadata": {
        "id": "EbegQK-C9xMr",
        "colab_type": "code",
        "colab": {
          "base_uri": "https://localhost:8080/",
          "height": 34
        },
        "outputId": "ebc81c6b-b247-4dff-b98a-f31d88ffac30"
      },
      "source": [
        "comb_dataset[0].shape"
      ],
      "execution_count": 114,
      "outputs": [
        {
          "output_type": "execute_result",
          "data": {
            "text/plain": [
              "(351, 5)"
            ]
          },
          "metadata": {
            "tags": []
          },
          "execution_count": 114
        }
      ]
    },
    {
      "cell_type": "markdown",
      "metadata": {
        "id": "GvT3IflYU6KB",
        "colab_type": "text"
      },
      "source": [
        "## **Step 3**: Data Preprocessing\n",
        "\n",
        "- Randomize dataset\n",
        "\n",
        "- Visualize dataset\n",
        "\n",
        "- Reshape the dataset from **351 X 5** into **1755**\n",
        "\n",
        "- Normalize the dataset\n",
        "\n",
        "- Split the dataset into training (80%) and validation (20%) datasets"
      ]
    },
    {
      "cell_type": "markdown",
      "metadata": {
        "id": "T7ve_BBHCOcB",
        "colab_type": "text"
      },
      "source": [
        "### 1). Randomize dataset"
      ]
    },
    {
      "cell_type": "code",
      "metadata": {
        "id": "xR4UvcmNUnEw",
        "colab_type": "code",
        "colab": {}
      },
      "source": [
        "# Randomize comb & sqnc dataset\n",
        "np.random.shuffle(comb_dataset)\n",
        "np.random.shuffle(sqnc_dataset)"
      ],
      "execution_count": 0,
      "outputs": []
    },
    {
      "cell_type": "code",
      "metadata": {
        "id": "Ye_eVxVPVGR_",
        "colab_type": "code",
        "colab": {
          "base_uri": "https://localhost:8080/",
          "height": 34
        },
        "outputId": "c599a759-c189-4ac4-f0e5-4d4a4120d8de"
      },
      "source": [
        "# randomize dataset and labels together to keep'em in sync.\n",
        "def randomize(dataset, labels):\n",
        "  permutation      = np.random.permutation(labels.shape[0])\n",
        "  shuffled_dataset = dataset[permutation,:,:]\n",
        "  shuffled_labels  = labels[permutation]\n",
        "  return shuffled_dataset, shuffled_labels\n",
        "\n",
        "# randomize dataset\n",
        "dataset, labels = randomize(dataset, labels)\n",
        "\n",
        "print('Full dataset: no. of cells=', dataset.shape, 'Min=', np.min(dataset), 'Max=',np.max(dataset), \n",
        "      'Mean=', np.mean(dataset), 'Sigma=', np.std(dataset))"
      ],
      "execution_count": 116,
      "outputs": [
        {
          "output_type": "stream",
          "text": [
            "Full dataset: no. of cells= (12192, 351, 5) Min= 0.0 Max= 50.0 Mean= 0.8042014 Sigma= 3.3274515\n"
          ],
          "name": "stdout"
        }
      ]
    },
    {
      "cell_type": "markdown",
      "metadata": {
        "id": "TkTBbDfFVWc_",
        "colab_type": "text"
      },
      "source": [
        "### 2). Visualize Dataset"
      ]
    },
    {
      "cell_type": "code",
      "metadata": {
        "id": "TN-K5ZaXVSa6",
        "colab_type": "code",
        "colab": {
          "base_uri": "https://localhost:8080/",
          "height": 404
        },
        "outputId": "025f6f3d-2fa5-43ca-ccde-8d54d7e54086"
      },
      "source": [
        "import matplotlib.pyplot as plt\n",
        "# Frobenius norm of matrices\n",
        "comb_norms = [np.linalg.norm(cell) for cell in comb_dataset]\n",
        "sqnc_norms = [np.linalg.norm(cell) for cell in sqnc_dataset]\n",
        "\n",
        "comb_mean  = [np.mean(cell) for cell in comb_dataset]\n",
        "sqnc_mean  = [np.mean(cell) for cell in sqnc_dataset]\n",
        "\n",
        "comb_sigma = [np.std(cell) for cell in comb_dataset]\n",
        "sqnc_sigma = [np.std(cell) for cell in sqnc_dataset]\n",
        "\n",
        "comb_size = comb_dataset.shape[0]\n",
        "sqnc_size = sqnc_dataset.shape[0]\n",
        "\n",
        "plt.figure(figsize=(18,6))\n",
        "\n",
        "plt.subplot(1, 3, 1)\n",
        "#plt.grid()\n",
        "plt.xlim(0,sqnc_size)\n",
        "plt.ylim(0,4)\n",
        "plt.plot([i for i in range(comb_size)], comb_mean, 'ro', label='COMB', marker='o', markersize=2)\n",
        "plt.plot([i for i in range(sqnc_size)], sqnc_mean, 'bo', label='SQNC', marker='.', markersize=4)\n",
        "plt.title('Cell Structure Mean')\n",
        "plt.xlabel('Cell Index')\n",
        "plt.ylabel('Cell Mean')\n",
        "plt.legend()\n",
        "\n",
        "plt.subplot(1, 3, 2)\n",
        "#plt.grid()\n",
        "plt.xlim(0,sqnc_size)\n",
        "plt.ylim(0,8)\n",
        "plt.plot([i for i in range(comb_size)], comb_sigma, 'ro', label='COMB', marker='o', markersize=2)\n",
        "plt.plot([i for i in range(sqnc_size)], sqnc_sigma, 'bx', label='SQNC', marker='.', markersize=4)\n",
        "plt.title('Cell Structure Sigma')\n",
        "plt.xlabel('Cell Index')\n",
        "plt.ylabel('Cell Sigma')\n",
        "plt.legend()\n",
        "\n",
        "plt.subplot(1, 3, 3)\n",
        "#plt.grid()\n",
        "plt.xlim(0,sqnc_size)\n",
        "plt.ylim(0,400)\n",
        "plt.plot([i for i in range(comb_size)], comb_norms, 'ro', label='COMB', marker='o', markersize=2)\n",
        "plt.plot([i for i in range(sqnc_size)], sqnc_norms, 'bo', label='SQNC', marker='.', markersize=4)\n",
        "plt.title('Cell Structure Norm')\n",
        "plt.xlabel('Cell Index')\n",
        "plt.ylabel('Cell Norm')\n",
        "plt.legend()\n",
        "\n",
        "plt.show()\n",
        "plt.close(\"all\")"
      ],
      "execution_count": 117,
      "outputs": [
        {
          "output_type": "display_data",
          "data": {
            "image/png": "[encoded data removed]",
            "text/plain": [
              "<Figure size 1296x432 with 3 Axes>"
            ]
          },
          "metadata": {
            "tags": []
          }
        }
      ]
    },
    {
      "cell_type": "markdown",
      "metadata": {
        "id": "PT_kchUHVpcW",
        "colab_type": "text"
      },
      "source": [
        "### 3). Reformat Dataset from **351 X 5** into **1755** for modeling training"
      ]
    },
    {
      "cell_type": "code",
      "metadata": {
        "id": "iD0Jd1McVh0z",
        "colab_type": "code",
        "colab": {}
      },
      "source": [
        "def reformat(dataset):\n",
        "    dataset = dataset.reshape((-1, max_devices_per_cell*feature_per_device))\n",
        "    return dataset\n",
        "\n",
        "dataset = reformat(dataset)"
      ],
      "execution_count": 0,
      "outputs": []
    },
    {
      "cell_type": "markdown",
      "metadata": {
        "id": "Gf2rcUB6Vu0c",
        "colab_type": "text"
      },
      "source": [
        "### 4). Normalize Dataset"
      ]
    },
    {
      "cell_type": "code",
      "metadata": {
        "id": "pJCYFncuVtgg",
        "colab_type": "code",
        "colab": {
          "base_uri": "https://localhost:8080/",
          "height": 51
        },
        "outputId": "218ced92-4589-45d5-a80c-602d11f706ea"
      },
      "source": [
        "# normalize the dataset between 0 and 1.\n",
        "data_mean = 0;\n",
        "data_std  = (np.max(dataset)-np.min(dataset));\n",
        "\n",
        "def normalize(d, mean, std):\n",
        "    return (d - mean) / std\n",
        "\n",
        "def denormalize(d, mean, std):\n",
        "    return (d * std) + mean\n",
        "\n",
        "dataset = normalize(dataset, data_mean, data_std)\n",
        "\n",
        "print('Min=', np.min(dataset), 'Max=',np.max(dataset), 'Mean=',np.mean(dataset), 'sigma=', np.std(dataset))\n",
        "print('Dataset size', dataset.shape)\n",
        "#print('dataset feature min vector = ', np.min(dataset, axis=0))\n",
        "#print('dataset feature max vector = ', np.max(dataset, axis=0))"
      ],
      "execution_count": 119,
      "outputs": [
        {
          "output_type": "stream",
          "text": [
            "Min= 0.0 Max= 1.0 Mean= 0.016084054 sigma= 0.066548996\n",
            "Dataset size (12192, 1755)\n"
          ],
          "name": "stdout"
        }
      ]
    },
    {
      "cell_type": "markdown",
      "metadata": {
        "id": "uc_ryfkxV2NA",
        "colab_type": "text"
      },
      "source": [
        "### 5).  Split the dataset into training and validation datasets\n",
        "\n",
        "- Training dataset : 80%\n",
        "\n",
        "- Validation dataset : 20%"
      ]
    },
    {
      "cell_type": "code",
      "metadata": {
        "id": "mAXddNK7VyOF",
        "colab_type": "code",
        "colab": {
          "base_uri": "https://localhost:8080/",
          "height": 51
        },
        "outputId": "3ac3a462-63ac-4edd-cdf8-a4a59aa38941"
      },
      "source": [
        "# training dataset percentage is 80%\n",
        "def divide_dataset(dataset, labels):\n",
        "    train_pct = 0.8; \n",
        "    # divide dataset into training and validation set\n",
        "    train_index = int(dataset.shape[0]*train_pct)\n",
        "    train_X = dataset[:train_index, :]\n",
        "    train_Y = labels[:train_index,:]\n",
        "    val_X = dataset[train_index:,:]\n",
        "    val_Y = labels[train_index:,:]\n",
        "    \n",
        "    return train_X, train_Y, val_X, val_Y\n",
        "\n",
        "train_X, train_Y, valid_X, valid_Y = divide_dataset(dataset, labels)\n",
        "\n",
        "train_Y = train_Y[:, 0:1]\n",
        "valid_Y = valid_Y[:, 0:1]\n",
        "print('Training dataset: {}'.format(train_X.shape[0]))\n",
        "print('Validation dataset: {}'.format(valid_X.shape[0]))"
      ],
      "execution_count": 120,
      "outputs": [
        {
          "output_type": "stream",
          "text": [
            "Training dataset: 9753\n",
            "Validation dataset: 2439\n"
          ],
          "name": "stdout"
        }
      ]
    },
    {
      "cell_type": "markdown",
      "metadata": {
        "id": "68WePUfCbREe",
        "colab_type": "text"
      },
      "source": [
        "## **Step 4**: How the final Dataset look like\n",
        "\n",
        "After all the transformation, reshape, and normalization. The final dataset is a 2D Matrix, with 1755 features and 1 target variable. It is the dataframe we are familar with when we conduct Machine Learning, or statistics modeling."
      ]
    },
    {
      "cell_type": "markdown",
      "metadata": {
        "id": "TCvFsC4NcFQe",
        "colab_type": "text"
      },
      "source": [
        "### 1). The training dataset\n",
        "\n",
        "The final training dataset is a 2D Matrix:\n",
        "\n",
        "- 1755 Number of features: \n",
        "\n",
        "- 1 Target variable (is_COMB): \n",
        "\n",
        "  0 : No\n",
        "  \n",
        "  1 : Yes"
      ]
    },
    {
      "cell_type": "code",
      "metadata": {
        "id": "RtzYh5_DbGKK",
        "colab_type": "code",
        "colab": {
          "base_uri": "https://localhost:8080/",
          "height": 253
        },
        "outputId": "c93a5da1-457a-40cd-aeb6-1a9950aa8eff"
      },
      "source": [
        "import pandas as pd\n",
        "train_df = pd.concat([pd.DataFrame(train_X), pd.DataFrame(train_Y, columns = ['is_COMB'])], axis = 1)\n",
        "train_df.head()"
      ],
      "execution_count": 121,
      "outputs": [
        {
          "output_type": "execute_result",
          "data": {
            "text/html": [
              "<div>\n",
              "<style scoped>\n",
              "    .dataframe tbody tr th:only-of-type {\n",
              "        vertical-align: middle;\n",
              "    }\n",
              "\n",
              "    .dataframe tbody tr th {\n",
              "        vertical-align: top;\n",
              "    }\n",
              "\n",
              "    .dataframe thead th {\n",
              "        text-align: right;\n",
              "    }\n",
              "</style>\n",
              "<table border=\"1\" class=\"dataframe\">\n",
              "  <thead>\n",
              "    <tr style=\"text-align: right;\">\n",
              "      <th></th>\n",
              "      <th>0</th>\n",
              "      <th>1</th>\n",
              "      <th>2</th>\n",
              "      <th>3</th>\n",
              "      <th>4</th>\n",
              "      <th>5</th>\n",
              "      <th>6</th>\n",
              "      <th>7</th>\n",
              "      <th>8</th>\n",
              "      <th>9</th>\n",
              "      <th>10</th>\n",
              "      <th>11</th>\n",
              "      <th>12</th>\n",
              "      <th>13</th>\n",
              "      <th>14</th>\n",
              "      <th>15</th>\n",
              "      <th>16</th>\n",
              "      <th>17</th>\n",
              "      <th>18</th>\n",
              "      <th>19</th>\n",
              "      <th>20</th>\n",
              "      <th>21</th>\n",
              "      <th>22</th>\n",
              "      <th>23</th>\n",
              "      <th>24</th>\n",
              "      <th>25</th>\n",
              "      <th>26</th>\n",
              "      <th>27</th>\n",
              "      <th>28</th>\n",
              "      <th>29</th>\n",
              "      <th>30</th>\n",
              "      <th>31</th>\n",
              "      <th>32</th>\n",
              "      <th>33</th>\n",
              "      <th>34</th>\n",
              "      <th>35</th>\n",
              "      <th>36</th>\n",
              "      <th>37</th>\n",
              "      <th>38</th>\n",
              "      <th>39</th>\n",
              "      <th>...</th>\n",
              "      <th>1716</th>\n",
              "      <th>1717</th>\n",
              "      <th>1718</th>\n",
              "      <th>1719</th>\n",
              "      <th>1720</th>\n",
              "      <th>1721</th>\n",
              "      <th>1722</th>\n",
              "      <th>1723</th>\n",
              "      <th>1724</th>\n",
              "      <th>1725</th>\n",
              "      <th>1726</th>\n",
              "      <th>1727</th>\n",
              "      <th>1728</th>\n",
              "      <th>1729</th>\n",
              "      <th>1730</th>\n",
              "      <th>1731</th>\n",
              "      <th>1732</th>\n",
              "      <th>1733</th>\n",
              "      <th>1734</th>\n",
              "      <th>1735</th>\n",
              "      <th>1736</th>\n",
              "      <th>1737</th>\n",
              "      <th>1738</th>\n",
              "      <th>1739</th>\n",
              "      <th>1740</th>\n",
              "      <th>1741</th>\n",
              "      <th>1742</th>\n",
              "      <th>1743</th>\n",
              "      <th>1744</th>\n",
              "      <th>1745</th>\n",
              "      <th>1746</th>\n",
              "      <th>1747</th>\n",
              "      <th>1748</th>\n",
              "      <th>1749</th>\n",
              "      <th>1750</th>\n",
              "      <th>1751</th>\n",
              "      <th>1752</th>\n",
              "      <th>1753</th>\n",
              "      <th>1754</th>\n",
              "      <th>is_COMB</th>\n",
              "    </tr>\n",
              "  </thead>\n",
              "  <tbody>\n",
              "    <tr>\n",
              "      <th>0</th>\n",
              "      <td>0.2</td>\n",
              "      <td>0.10</td>\n",
              "      <td>0.16</td>\n",
              "      <td>0.02</td>\n",
              "      <td>0.02</td>\n",
              "      <td>0.2</td>\n",
              "      <td>0.10</td>\n",
              "      <td>0.16</td>\n",
              "      <td>0.02</td>\n",
              "      <td>0.02</td>\n",
              "      <td>0.2</td>\n",
              "      <td>0.10</td>\n",
              "      <td>0.16</td>\n",
              "      <td>0.02</td>\n",
              "      <td>0.02</td>\n",
              "      <td>0.2</td>\n",
              "      <td>0.08</td>\n",
              "      <td>0.20</td>\n",
              "      <td>0.02</td>\n",
              "      <td>0.02</td>\n",
              "      <td>0.2</td>\n",
              "      <td>0.08</td>\n",
              "      <td>0.20</td>\n",
              "      <td>0.02</td>\n",
              "      <td>0.02</td>\n",
              "      <td>0.2</td>\n",
              "      <td>0.08</td>\n",
              "      <td>0.20</td>\n",
              "      <td>0.02</td>\n",
              "      <td>0.02</td>\n",
              "      <td>0.2</td>\n",
              "      <td>0.06</td>\n",
              "      <td>0.14</td>\n",
              "      <td>0.10</td>\n",
              "      <td>0.02</td>\n",
              "      <td>0.2</td>\n",
              "      <td>0.06</td>\n",
              "      <td>0.14</td>\n",
              "      <td>0.10</td>\n",
              "      <td>0.02</td>\n",
              "      <td>...</td>\n",
              "      <td>0.0</td>\n",
              "      <td>0.0</td>\n",
              "      <td>0.0</td>\n",
              "      <td>0.0</td>\n",
              "      <td>0.0</td>\n",
              "      <td>0.0</td>\n",
              "      <td>0.0</td>\n",
              "      <td>0.0</td>\n",
              "      <td>0.0</td>\n",
              "      <td>0.0</td>\n",
              "      <td>0.0</td>\n",
              "      <td>0.0</td>\n",
              "      <td>0.0</td>\n",
              "      <td>0.0</td>\n",
              "      <td>0.0</td>\n",
              "      <td>0.0</td>\n",
              "      <td>0.0</td>\n",
              "      <td>0.0</td>\n",
              "      <td>0.0</td>\n",
              "      <td>0.0</td>\n",
              "      <td>0.0</td>\n",
              "      <td>0.0</td>\n",
              "      <td>0.0</td>\n",
              "      <td>0.0</td>\n",
              "      <td>0.0</td>\n",
              "      <td>0.0</td>\n",
              "      <td>0.0</td>\n",
              "      <td>0.0</td>\n",
              "      <td>0.0</td>\n",
              "      <td>0.0</td>\n",
              "      <td>0.0</td>\n",
              "      <td>0.0</td>\n",
              "      <td>0.0</td>\n",
              "      <td>0.0</td>\n",
              "      <td>0.0</td>\n",
              "      <td>0.0</td>\n",
              "      <td>0.0</td>\n",
              "      <td>0.0</td>\n",
              "      <td>0.0</td>\n",
              "      <td>1.0</td>\n",
              "    </tr>\n",
              "    <tr>\n",
              "      <th>1</th>\n",
              "      <td>0.2</td>\n",
              "      <td>0.10</td>\n",
              "      <td>0.06</td>\n",
              "      <td>0.02</td>\n",
              "      <td>0.02</td>\n",
              "      <td>0.2</td>\n",
              "      <td>0.10</td>\n",
              "      <td>0.06</td>\n",
              "      <td>0.02</td>\n",
              "      <td>0.02</td>\n",
              "      <td>0.2</td>\n",
              "      <td>0.10</td>\n",
              "      <td>0.06</td>\n",
              "      <td>0.02</td>\n",
              "      <td>0.02</td>\n",
              "      <td>0.2</td>\n",
              "      <td>0.10</td>\n",
              "      <td>0.06</td>\n",
              "      <td>0.02</td>\n",
              "      <td>0.02</td>\n",
              "      <td>0.2</td>\n",
              "      <td>0.10</td>\n",
              "      <td>0.06</td>\n",
              "      <td>0.02</td>\n",
              "      <td>0.02</td>\n",
              "      <td>0.2</td>\n",
              "      <td>0.10</td>\n",
              "      <td>0.06</td>\n",
              "      <td>0.02</td>\n",
              "      <td>0.02</td>\n",
              "      <td>0.2</td>\n",
              "      <td>0.12</td>\n",
              "      <td>0.10</td>\n",
              "      <td>0.02</td>\n",
              "      <td>0.02</td>\n",
              "      <td>0.2</td>\n",
              "      <td>0.12</td>\n",
              "      <td>0.10</td>\n",
              "      <td>0.02</td>\n",
              "      <td>0.02</td>\n",
              "      <td>...</td>\n",
              "      <td>0.0</td>\n",
              "      <td>0.0</td>\n",
              "      <td>0.0</td>\n",
              "      <td>0.0</td>\n",
              "      <td>0.0</td>\n",
              "      <td>0.0</td>\n",
              "      <td>0.0</td>\n",
              "      <td>0.0</td>\n",
              "      <td>0.0</td>\n",
              "      <td>0.0</td>\n",
              "      <td>0.0</td>\n",
              "      <td>0.0</td>\n",
              "      <td>0.0</td>\n",
              "      <td>0.0</td>\n",
              "      <td>0.0</td>\n",
              "      <td>0.0</td>\n",
              "      <td>0.0</td>\n",
              "      <td>0.0</td>\n",
              "      <td>0.0</td>\n",
              "      <td>0.0</td>\n",
              "      <td>0.0</td>\n",
              "      <td>0.0</td>\n",
              "      <td>0.0</td>\n",
              "      <td>0.0</td>\n",
              "      <td>0.0</td>\n",
              "      <td>0.0</td>\n",
              "      <td>0.0</td>\n",
              "      <td>0.0</td>\n",
              "      <td>0.0</td>\n",
              "      <td>0.0</td>\n",
              "      <td>0.0</td>\n",
              "      <td>0.0</td>\n",
              "      <td>0.0</td>\n",
              "      <td>0.0</td>\n",
              "      <td>0.0</td>\n",
              "      <td>0.0</td>\n",
              "      <td>0.0</td>\n",
              "      <td>0.0</td>\n",
              "      <td>0.0</td>\n",
              "      <td>1.0</td>\n",
              "    </tr>\n",
              "    <tr>\n",
              "      <th>2</th>\n",
              "      <td>0.2</td>\n",
              "      <td>0.24</td>\n",
              "      <td>0.48</td>\n",
              "      <td>0.02</td>\n",
              "      <td>0.02</td>\n",
              "      <td>0.2</td>\n",
              "      <td>0.12</td>\n",
              "      <td>0.08</td>\n",
              "      <td>0.16</td>\n",
              "      <td>0.02</td>\n",
              "      <td>0.2</td>\n",
              "      <td>0.16</td>\n",
              "      <td>0.10</td>\n",
              "      <td>0.02</td>\n",
              "      <td>0.02</td>\n",
              "      <td>0.2</td>\n",
              "      <td>0.12</td>\n",
              "      <td>0.06</td>\n",
              "      <td>0.24</td>\n",
              "      <td>0.02</td>\n",
              "      <td>0.2</td>\n",
              "      <td>0.10</td>\n",
              "      <td>0.06</td>\n",
              "      <td>0.02</td>\n",
              "      <td>0.02</td>\n",
              "      <td>0.2</td>\n",
              "      <td>0.44</td>\n",
              "      <td>0.34</td>\n",
              "      <td>0.02</td>\n",
              "      <td>0.02</td>\n",
              "      <td>0.2</td>\n",
              "      <td>0.42</td>\n",
              "      <td>0.38</td>\n",
              "      <td>0.02</td>\n",
              "      <td>0.02</td>\n",
              "      <td>0.2</td>\n",
              "      <td>0.38</td>\n",
              "      <td>0.34</td>\n",
              "      <td>0.14</td>\n",
              "      <td>0.02</td>\n",
              "      <td>...</td>\n",
              "      <td>0.0</td>\n",
              "      <td>0.0</td>\n",
              "      <td>0.0</td>\n",
              "      <td>0.0</td>\n",
              "      <td>0.0</td>\n",
              "      <td>0.0</td>\n",
              "      <td>0.0</td>\n",
              "      <td>0.0</td>\n",
              "      <td>0.0</td>\n",
              "      <td>0.0</td>\n",
              "      <td>0.0</td>\n",
              "      <td>0.0</td>\n",
              "      <td>0.0</td>\n",
              "      <td>0.0</td>\n",
              "      <td>0.0</td>\n",
              "      <td>0.0</td>\n",
              "      <td>0.0</td>\n",
              "      <td>0.0</td>\n",
              "      <td>0.0</td>\n",
              "      <td>0.0</td>\n",
              "      <td>0.0</td>\n",
              "      <td>0.0</td>\n",
              "      <td>0.0</td>\n",
              "      <td>0.0</td>\n",
              "      <td>0.0</td>\n",
              "      <td>0.0</td>\n",
              "      <td>0.0</td>\n",
              "      <td>0.0</td>\n",
              "      <td>0.0</td>\n",
              "      <td>0.0</td>\n",
              "      <td>0.0</td>\n",
              "      <td>0.0</td>\n",
              "      <td>0.0</td>\n",
              "      <td>0.0</td>\n",
              "      <td>0.0</td>\n",
              "      <td>0.0</td>\n",
              "      <td>0.0</td>\n",
              "      <td>0.0</td>\n",
              "      <td>0.0</td>\n",
              "      <td>0.0</td>\n",
              "    </tr>\n",
              "    <tr>\n",
              "      <th>3</th>\n",
              "      <td>0.2</td>\n",
              "      <td>0.12</td>\n",
              "      <td>0.08</td>\n",
              "      <td>0.02</td>\n",
              "      <td>0.02</td>\n",
              "      <td>0.2</td>\n",
              "      <td>0.12</td>\n",
              "      <td>0.08</td>\n",
              "      <td>0.02</td>\n",
              "      <td>0.02</td>\n",
              "      <td>0.2</td>\n",
              "      <td>0.12</td>\n",
              "      <td>0.08</td>\n",
              "      <td>0.02</td>\n",
              "      <td>0.02</td>\n",
              "      <td>0.2</td>\n",
              "      <td>0.12</td>\n",
              "      <td>0.08</td>\n",
              "      <td>0.02</td>\n",
              "      <td>0.02</td>\n",
              "      <td>0.2</td>\n",
              "      <td>0.12</td>\n",
              "      <td>0.08</td>\n",
              "      <td>0.02</td>\n",
              "      <td>0.02</td>\n",
              "      <td>0.2</td>\n",
              "      <td>0.12</td>\n",
              "      <td>0.08</td>\n",
              "      <td>0.02</td>\n",
              "      <td>0.02</td>\n",
              "      <td>0.2</td>\n",
              "      <td>0.12</td>\n",
              "      <td>0.08</td>\n",
              "      <td>0.02</td>\n",
              "      <td>0.02</td>\n",
              "      <td>0.2</td>\n",
              "      <td>0.12</td>\n",
              "      <td>0.08</td>\n",
              "      <td>0.02</td>\n",
              "      <td>0.02</td>\n",
              "      <td>...</td>\n",
              "      <td>0.0</td>\n",
              "      <td>0.0</td>\n",
              "      <td>0.0</td>\n",
              "      <td>0.0</td>\n",
              "      <td>0.0</td>\n",
              "      <td>0.0</td>\n",
              "      <td>0.0</td>\n",
              "      <td>0.0</td>\n",
              "      <td>0.0</td>\n",
              "      <td>0.0</td>\n",
              "      <td>0.0</td>\n",
              "      <td>0.0</td>\n",
              "      <td>0.0</td>\n",
              "      <td>0.0</td>\n",
              "      <td>0.0</td>\n",
              "      <td>0.0</td>\n",
              "      <td>0.0</td>\n",
              "      <td>0.0</td>\n",
              "      <td>0.0</td>\n",
              "      <td>0.0</td>\n",
              "      <td>0.0</td>\n",
              "      <td>0.0</td>\n",
              "      <td>0.0</td>\n",
              "      <td>0.0</td>\n",
              "      <td>0.0</td>\n",
              "      <td>0.0</td>\n",
              "      <td>0.0</td>\n",
              "      <td>0.0</td>\n",
              "      <td>0.0</td>\n",
              "      <td>0.0</td>\n",
              "      <td>0.0</td>\n",
              "      <td>0.0</td>\n",
              "      <td>0.0</td>\n",
              "      <td>0.0</td>\n",
              "      <td>0.0</td>\n",
              "      <td>0.0</td>\n",
              "      <td>0.0</td>\n",
              "      <td>0.0</td>\n",
              "      <td>0.0</td>\n",
              "      <td>1.0</td>\n",
              "    </tr>\n",
              "    <tr>\n",
              "      <th>4</th>\n",
              "      <td>0.2</td>\n",
              "      <td>0.18</td>\n",
              "      <td>0.08</td>\n",
              "      <td>0.02</td>\n",
              "      <td>0.02</td>\n",
              "      <td>0.2</td>\n",
              "      <td>0.06</td>\n",
              "      <td>0.12</td>\n",
              "      <td>0.02</td>\n",
              "      <td>0.02</td>\n",
              "      <td>0.2</td>\n",
              "      <td>0.06</td>\n",
              "      <td>0.12</td>\n",
              "      <td>0.02</td>\n",
              "      <td>0.02</td>\n",
              "      <td>0.2</td>\n",
              "      <td>0.20</td>\n",
              "      <td>0.14</td>\n",
              "      <td>0.02</td>\n",
              "      <td>0.02</td>\n",
              "      <td>0.2</td>\n",
              "      <td>0.20</td>\n",
              "      <td>0.14</td>\n",
              "      <td>0.02</td>\n",
              "      <td>0.02</td>\n",
              "      <td>0.2</td>\n",
              "      <td>0.16</td>\n",
              "      <td>0.10</td>\n",
              "      <td>0.02</td>\n",
              "      <td>0.02</td>\n",
              "      <td>0.2</td>\n",
              "      <td>0.16</td>\n",
              "      <td>0.10</td>\n",
              "      <td>0.02</td>\n",
              "      <td>0.02</td>\n",
              "      <td>0.2</td>\n",
              "      <td>0.20</td>\n",
              "      <td>0.08</td>\n",
              "      <td>0.10</td>\n",
              "      <td>0.02</td>\n",
              "      <td>...</td>\n",
              "      <td>0.0</td>\n",
              "      <td>0.0</td>\n",
              "      <td>0.0</td>\n",
              "      <td>0.0</td>\n",
              "      <td>0.0</td>\n",
              "      <td>0.0</td>\n",
              "      <td>0.0</td>\n",
              "      <td>0.0</td>\n",
              "      <td>0.0</td>\n",
              "      <td>0.0</td>\n",
              "      <td>0.0</td>\n",
              "      <td>0.0</td>\n",
              "      <td>0.0</td>\n",
              "      <td>0.0</td>\n",
              "      <td>0.0</td>\n",
              "      <td>0.0</td>\n",
              "      <td>0.0</td>\n",
              "      <td>0.0</td>\n",
              "      <td>0.0</td>\n",
              "      <td>0.0</td>\n",
              "      <td>0.0</td>\n",
              "      <td>0.0</td>\n",
              "      <td>0.0</td>\n",
              "      <td>0.0</td>\n",
              "      <td>0.0</td>\n",
              "      <td>0.0</td>\n",
              "      <td>0.0</td>\n",
              "      <td>0.0</td>\n",
              "      <td>0.0</td>\n",
              "      <td>0.0</td>\n",
              "      <td>0.0</td>\n",
              "      <td>0.0</td>\n",
              "      <td>0.0</td>\n",
              "      <td>0.0</td>\n",
              "      <td>0.0</td>\n",
              "      <td>0.0</td>\n",
              "      <td>0.0</td>\n",
              "      <td>0.0</td>\n",
              "      <td>0.0</td>\n",
              "      <td>1.0</td>\n",
              "    </tr>\n",
              "  </tbody>\n",
              "</table>\n",
              "<p>5 rows × 1756 columns</p>\n",
              "</div>"
            ],
            "text/plain": [
              "     0     1     2     3     4    5  ...  1750  1751  1752  1753  1754  is_COMB\n",
              "0  0.2  0.10  0.16  0.02  0.02  0.2  ...   0.0   0.0   0.0   0.0   0.0      1.0\n",
              "1  0.2  0.10  0.06  0.02  0.02  0.2  ...   0.0   0.0   0.0   0.0   0.0      1.0\n",
              "2  0.2  0.24  0.48  0.02  0.02  0.2  ...   0.0   0.0   0.0   0.0   0.0      0.0\n",
              "3  0.2  0.12  0.08  0.02  0.02  0.2  ...   0.0   0.0   0.0   0.0   0.0      1.0\n",
              "4  0.2  0.18  0.08  0.02  0.02  0.2  ...   0.0   0.0   0.0   0.0   0.0      1.0\n",
              "\n",
              "[5 rows x 1756 columns]"
            ]
          },
          "metadata": {
            "tags": []
          },
          "execution_count": 121
        }
      ]
    },
    {
      "cell_type": "code",
      "metadata": {
        "id": "t7zwMMYqcoqm",
        "colab_type": "code",
        "colab": {
          "base_uri": "https://localhost:8080/",
          "height": 34
        },
        "outputId": "57007ac8-eef1-4c27-99a2-3eba480575e5"
      },
      "source": [
        "train_X.shape"
      ],
      "execution_count": 122,
      "outputs": [
        {
          "output_type": "execute_result",
          "data": {
            "text/plain": [
              "(9753, 1755)"
            ]
          },
          "metadata": {
            "tags": []
          },
          "execution_count": 122
        }
      ]
    },
    {
      "cell_type": "markdown",
      "metadata": {
        "id": "Z4N4y4p0cIg_",
        "colab_type": "text"
      },
      "source": [
        "### 2). The validation dataset"
      ]
    },
    {
      "cell_type": "code",
      "metadata": {
        "id": "Jg1CNFMbbWRt",
        "colab_type": "code",
        "colab": {
          "base_uri": "https://localhost:8080/",
          "height": 34
        },
        "outputId": "7c6dabdc-1fe1-4de7-e867-45a8e58de0d0"
      },
      "source": [
        "valid_df = pd.concat([pd.DataFrame(valid_X), pd.DataFrame(valid_Y, columns = ['is_COMB'])], axis = 1)\n",
        "valid_df.shape"
      ],
      "execution_count": 123,
      "outputs": [
        {
          "output_type": "execute_result",
          "data": {
            "text/plain": [
              "(2439, 1756)"
            ]
          },
          "metadata": {
            "tags": []
          },
          "execution_count": 123
        }
      ]
    },
    {
      "cell_type": "markdown",
      "metadata": {
        "id": "QeTDpIdmWHu2",
        "colab_type": "text"
      },
      "source": [
        "## **Step 5**: Model Building: Logistic Regression"
      ]
    },
    {
      "cell_type": "code",
      "metadata": {
        "id": "3MDwcFkPWXP2",
        "colab_type": "code",
        "colab": {}
      },
      "source": [
        "from sklearn.linear_model import LogisticRegression"
      ],
      "execution_count": 0,
      "outputs": []
    },
    {
      "cell_type": "code",
      "metadata": {
        "id": "KIfZ7zGHW36Q",
        "colab_type": "code",
        "colab": {
          "base_uri": "https://localhost:8080/",
          "height": 190
        },
        "outputId": "53a27888-83b9-40ee-9ed4-d09b58e8fcdb"
      },
      "source": [
        "lr = LogisticRegression()\n",
        "lr.fit(train_X, train_Y)"
      ],
      "execution_count": 126,
      "outputs": [
        {
          "output_type": "stream",
          "text": [
            "/usr/local/lib/python3.6/dist-packages/sklearn/linear_model/logistic.py:432: FutureWarning: Default solver will be changed to 'lbfgs' in 0.22. Specify a solver to silence this warning.\n",
            "  FutureWarning)\n",
            "/usr/local/lib/python3.6/dist-packages/sklearn/utils/validation.py:724: DataConversionWarning: A column-vector y was passed when a 1d array was expected. Please change the shape of y to (n_samples, ), for example using ravel().\n",
            "  y = column_or_1d(y, warn=True)\n"
          ],
          "name": "stderr"
        },
        {
          "output_type": "execute_result",
          "data": {
            "text/plain": [
              "LogisticRegression(C=1.0, class_weight=None, dual=False, fit_intercept=True,\n",
              "                   intercept_scaling=1, l1_ratio=None, max_iter=100,\n",
              "                   multi_class='warn', n_jobs=None, penalty='l2',\n",
              "                   random_state=None, solver='warn', tol=0.0001, verbose=0,\n",
              "                   warm_start=False)"
            ]
          },
          "metadata": {
            "tags": []
          },
          "execution_count": 126
        }
      ]
    },
    {
      "cell_type": "markdown",
      "metadata": {
        "id": "DZQBySOrHE5C",
        "colab_type": "text"
      },
      "source": [
        "## **Step 6**: Model Evaluation\n",
        "\n",
        "- Accuracy\n",
        "\n",
        "- Confusion Matrix, ROC_AUC"
      ]
    },
    {
      "cell_type": "markdown",
      "metadata": {
        "id": "dmtGRxZTHNrG",
        "colab_type": "text"
      },
      "source": [
        "### 1). Accuracy (= score from Sklearn Logistic Regression)"
      ]
    },
    {
      "cell_type": "code",
      "metadata": {
        "id": "gZ-IVKNdXt1e",
        "colab_type": "code",
        "colab": {
          "base_uri": "https://localhost:8080/",
          "height": 51
        },
        "outputId": "b279b4f1-69e8-447a-c520-6de64e63d339"
      },
      "source": [
        "score_train = lr.score(train_X, train_Y)\n",
        "score_valid = lr.score(valid_X, valid_Y)\n",
        "\n",
        "print(\"The train acc: {:.5f}\".format(score_train))\n",
        "print(\"The validation acc: {:.5f}\".format(score_valid))"
      ],
      "execution_count": 142,
      "outputs": [
        {
          "output_type": "stream",
          "text": [
            "The train acc: 0.99703\n",
            "The validation acc: 0.99344\n"
          ],
          "name": "stdout"
        }
      ]
    },
    {
      "cell_type": "code",
      "metadata": {
        "id": "QJNQByLDDnMH",
        "colab_type": "code",
        "colab": {
          "base_uri": "https://localhost:8080/",
          "height": 68
        },
        "outputId": "64b0d776-4c7a-4023-c606-43ba6ef2f7c7"
      },
      "source": [
        "COMB_pect = train_df.is_COMB.value_counts()/len(train_df)\n",
        "\n",
        "COMB_pect"
      ],
      "execution_count": 164,
      "outputs": [
        {
          "output_type": "execute_result",
          "data": {
            "text/plain": [
              "1.0    0.829796\n",
              "0.0    0.170204\n",
              "Name: is_COMB, dtype: float64"
            ]
          },
          "metadata": {
            "tags": []
          },
          "execution_count": 164
        }
      ]
    },
    {
      "cell_type": "markdown",
      "metadata": {
        "id": "uE6WaA9dDa-n",
        "colab_type": "text"
      },
      "source": [
        "Since the dataset is imbalanced (83% COMB vs 17 % SQNC). The accurary is not a good evaluation of the model performance. Next, I will use the confusion matrix, ROC_AUC to evaluate the model performance."
      ]
    },
    {
      "cell_type": "markdown",
      "metadata": {
        "id": "3mSZuXzBuUuz",
        "colab_type": "text"
      },
      "source": [
        "### 2). Confusion Matrix & ROC_AUC\n",
        "\n",
        "About the Confusion Matrix:\n",
        "\n",
        "- **4 Elements**:\n",
        "\n",
        "  - TP (True Positive): right, the ture label is positive\n",
        "\n",
        "  - FP (False Positive): wrong, the ture label is negative\n",
        "\n",
        "  - TN (True Negative): right, the true label is negative\n",
        "\n",
        "  - FN (False Negative): wrong, the true label is positive\n",
        "\n",
        "\n",
        " - **Recall vs Precision**:\n",
        "\n",
        "  - Recall = TP / (TP + FN) : Among all the true postive, how many are identified \n",
        "\n",
        "  - Prevision = TP / (TP + FP) : Among all the identified positive, how many are true\n",
        "\n",
        "\n",
        "- **ROC-AUC**:\n",
        "\n",
        "  - Recall = TP / (TP + FN) : Among all the true postive, how many are identified \n",
        "\n",
        "  - Prevision = TP / (TP + FP) : Among all the identified positive, how many are true\n",
        "\n"
      ]
    },
    {
      "cell_type": "markdown",
      "metadata": {
        "id": "iup6ARt5ACQZ",
        "colab_type": "text"
      },
      "source": [
        "#### a). The confusion Matrix"
      ]
    },
    {
      "cell_type": "code",
      "metadata": {
        "id": "T5nzBlTfYbNu",
        "colab_type": "code",
        "colab": {}
      },
      "source": [
        "from sklearn.metrics import confusion_matrix"
      ],
      "execution_count": 0,
      "outputs": []
    },
    {
      "cell_type": "code",
      "metadata": {
        "id": "M5oKg83UtqtD",
        "colab_type": "code",
        "colab": {}
      },
      "source": [
        "y_pred = lr.predict(valid_X)"
      ],
      "execution_count": 0,
      "outputs": []
    },
    {
      "cell_type": "code",
      "metadata": {
        "id": "nHDbxdeCwfP1",
        "colab_type": "code",
        "colab": {
          "base_uri": "https://localhost:8080/",
          "height": 51
        },
        "outputId": "e6f9fb01-a5cd-43c4-cce4-baf258f10f68"
      },
      "source": [
        "cnf_matrix = confusion_matrix(valid_Y, y_pred)\n",
        "cnf_matrix"
      ],
      "execution_count": 131,
      "outputs": [
        {
          "output_type": "execute_result",
          "data": {
            "text/plain": [
              "array([[ 432,    4],\n",
              "       [  12, 1991]])"
            ]
          },
          "metadata": {
            "tags": []
          },
          "execution_count": 131
        }
      ]
    },
    {
      "cell_type": "code",
      "metadata": {
        "id": "_dHRvKuHwzJ8",
        "colab_type": "code",
        "colab": {
          "base_uri": "https://localhost:8080/",
          "height": 391
        },
        "outputId": "4cf89146-fb5d-40b0-b2d8-37d1b68658f5"
      },
      "source": [
        "def plot_confusion_matrix(cm, title = \"Confusion matrix\", cmap = plt.cm.Wistia):\n",
        "  \"\"\"\n",
        "  This function prints and plots the confusion matrix\n",
        "  \"\"\"\n",
        "  plt.figure(figsize = (6, 6))\n",
        "  plt.imshow(cm, interpolation = \"nearest\", cmap = plt.cm.Wistia) # plt.cm.Wistia\n",
        "  plt.title(\"Confusion Matrix (True = COMB)\", size = 14)\n",
        "  plt.xlabel('Predicted class', size = 12)\n",
        "  plt.ylabel('True class', size = 12)\n",
        "  plt.xticks([])\n",
        "  plt.yticks([])\n",
        "  s = [['TN','FP'], ['FN', 'TP']]\n",
        "  for i in range(2):\n",
        "    for j in range(2):\n",
        "      plt.text(j, i, str(s[i][j]+ \"=\" + str(cm[i][j]) ), size = 12)\n",
        "  #plt.savefig('cnf_plot')\n",
        "  plt.show()\n",
        "plot_confusion_matrix(cnf_matrix, title = \"Confusion matrix\", cmap = plt.cm.Wistia) # plt.cm.Blues"
      ],
      "execution_count": 132,
      "outputs": [
        {
          "output_type": "display_data",
          "data": {
            "image/png": "[encoded data removed]",
            "text/plain": [
              "<Figure size 432x432 with 1 Axes>"
            ]
          },
          "metadata": {
            "tags": []
          }
        }
      ]
    },
    {
      "cell_type": "code",
      "metadata": {
        "id": "w8PWaqmp6-y5",
        "colab_type": "code",
        "colab": {
          "base_uri": "https://localhost:8080/",
          "height": 170
        },
        "outputId": "2bf4e020-d929-4a2f-cf1f-138aead1afe2"
      },
      "source": [
        "from sklearn.metrics import roc_curve, auc\n",
        "report = classification_report(valid_Y, y_pred)\n",
        "print(report)"
      ],
      "execution_count": 133,
      "outputs": [
        {
          "output_type": "stream",
          "text": [
            "              precision    recall  f1-score   support\n",
            "\n",
            "         0.0       0.97      0.99      0.98       436\n",
            "         1.0       1.00      0.99      1.00      2003\n",
            "\n",
            "    accuracy                           0.99      2439\n",
            "   macro avg       0.99      0.99      0.99      2439\n",
            "weighted avg       0.99      0.99      0.99      2439\n",
            "\n"
          ],
          "name": "stdout"
        }
      ]
    },
    {
      "cell_type": "markdown",
      "metadata": {
        "id": "ygchCnTT4LpN",
        "colab_type": "text"
      },
      "source": [
        "#### b). ROC & AUC\n",
        "\n",
        "The value of AUC -> [0.5, 1], the larger the better.\n",
        "\n",
        "ROC ~ TPR vs FPR\n",
        "\n",
        "- **TPR (True positive rate)= Recall: the larger the better**\n",
        "\n",
        "  - TP/(TP + FN) = 2008/(2008 + 8.) = 99.6%\n",
        "\n",
        "\n",
        "- **FPR (False positive rate): the smaller the better)**\n",
        "\n",
        "  - FP/(FP + TN) = 2/(2 + 421.) = 0.47%"
      ]
    },
    {
      "cell_type": "code",
      "metadata": {
        "id": "DL8q22-Ww1be",
        "colab_type": "code",
        "colab": {}
      },
      "source": [
        "y_predict_prob = lr.predict_proba(valid_X)\n",
        "y_predict = y_predict_prob[:, 1]"
      ],
      "execution_count": 0,
      "outputs": []
    },
    {
      "cell_type": "code",
      "metadata": {
        "id": "LhC3rvyk5Orc",
        "colab_type": "code",
        "colab": {
          "base_uri": "https://localhost:8080/",
          "height": 295
        },
        "outputId": "ef2805d5-d8bb-451e-cbfd-10a6fdeaad29"
      },
      "source": [
        "fpr, tpr, threshold = roc_curve(valid_Y, y_predict)\n",
        "roc_auc = auc(fpr, tpr)\n",
        "plt.plot(fpr, tpr, \"b\", label = \"AUC = %0.4f\"%roc_auc)\n",
        "plt.title(\"ROC\")\n",
        "plt.plot([0, 1], [0, 1], 'r--')\n",
        "plt.legend(loc = \"best\")\n",
        "plt.xlabel(\"FPR\")\n",
        "plt.ylabel(\"TPR\")\n",
        "plt.show()"
      ],
      "execution_count": 136,
      "outputs": [
        {
          "output_type": "display_data",
          "data": {
            "image/png": "[encoded data removed]",
            "text/plain": [
              "<Figure size 432x288 with 1 Axes>"
            ]
          },
          "metadata": {
            "tags": []
          }
        }
      ]
    },
    {
      "cell_type": "code",
      "metadata": {
        "id": "OZDCny7V6L6F",
        "colab_type": "code",
        "colab": {
          "base_uri": "https://localhost:8080/",
          "height": 34
        },
        "outputId": "4cb351a8-0c60-4402-b1e3-d2e87b7e3ed4"
      },
      "source": [
        "from sklearn.metrics import roc_auc_score\n",
        "\n",
        "roc_auc_score = roc_auc_score(valid_Y, y_predict)\n",
        "print(\"The roc_auc_score: {:.5f}\".format(roc_auc_score))\n"
      ],
      "execution_count": 168,
      "outputs": [
        {
          "output_type": "stream",
          "text": [
            "The roc_aur_score: 0.99963\n"
          ],
          "name": "stdout"
        }
      ]
    },
    {
      "cell_type": "markdown",
      "metadata": {
        "id": "Hqt0GRXFMVxz",
        "colab_type": "text"
      },
      "source": [
        "## **Step 7**: Conclusion\n",
        "\n",
        "From the above discussion:\n",
        "\n",
        "- Accuracy: 0.99344\n",
        "\n",
        "- ROC_AUC_Score (TPR vs FPR): 0.9996\n",
        "\n",
        "- F-1 Score (Recall vs Precision): 0.99\n"
      ]
    },
    {
      "cell_type": "code",
      "metadata": {
        "id": "kypGFJWOMYC3",
        "colab_type": "code",
        "colab": {}
      },
      "source": [
        ""
      ],
      "execution_count": 0,
      "outputs": []
    }
  ]
}
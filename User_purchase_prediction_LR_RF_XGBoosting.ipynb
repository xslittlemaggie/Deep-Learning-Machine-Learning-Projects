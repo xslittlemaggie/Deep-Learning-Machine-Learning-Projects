{
  "nbformat": 4,
  "nbformat_minor": 0,
  "metadata": {
    "colab": {
      "name": "Copy of Copy of Loan",
      "provenance": [],
      "collapsed_sections": [],
      "toc_visible": true,
      "include_colab_link": true
    },
    "kernelspec": {
      "name": "python3",
      "display_name": "Python 3"
    },
    "accelerator": "GPU"
  },
  "cells": [
    {
      "cell_type": "markdown",
      "metadata": {
        "id": "view-in-github",
        "colab_type": "text"
      },
      "source": [
        "<a href=\"https://colab.research.google.com/github/xslittlemaggie/Machine-Learning-Projects/blob/master/User_purchase_prediction_LR_RF_XGBoosting.ipynb\" target=\"_parent\"><img src=\"https://colab.research.google.com/assets/colab-badge.svg\" alt=\"Open In Colab\"/></a>"
      ]
    },
    {
      "cell_type": "markdown",
      "metadata": {
        "id": "159KG_EtG9LA",
        "colab_type": "text"
      },
      "source": [
        "<h1><center> The user purchase probability prediction </center></h1>"
      ]
    },
    {
      "cell_type": "markdown",
      "metadata": {
        "id": "Akc2wpG0MVBe",
        "colab_type": "text"
      },
      "source": [
        "<h1>Table of contents</h1>\n",
        "\n",
        "<div class=\"alert alert-block alert-info\" style=\"margin-top: 24px\">\n",
        "    <ol>\n",
        "        <li><a href=\"#purpose of the study\">Project Understanding</a></li>\n",
        "        <li><a href=\"#Load dataset cleaned from SQL\">Load dataset cleaned from SQL</a></li>\n",
        "        <li><a href=\"#Get familar with the data\">Get familar with the data</a></li>\n",
        "        <li><a href=\"#Training, validation, testing datasets split\">Training, validation, testing datasets split</a></li>\n",
        "        <li><a href=\"#Data normalization\">Data normalization</a></li>\n",
        "        <li><a href=\"#Model  building\">Model  building</a></li>\n",
        "        <li><a href=\"#Comparisons of the three models: Logistic Regression, Random Forest, xgboost\">Comparisons of the 3 models: LR, RF, XGBoost</a></li>\n",
        "        <li><a href=\"#Test dataset prediction from the best performance model: Random Forest\">Test dataset prediction from the best model among the 3: Random Forest</a></li>\n",
        "    </ol>\n",
        "</div>\n",
        "<br>\n",
        "<hr>"
      ]
    },
    {
      "cell_type": "markdown",
      "metadata": {
        "id": "byy2FDTico1k",
        "colab_type": "text"
      },
      "source": [
        "# 0: Import libraries"
      ]
    },
    {
      "cell_type": "code",
      "metadata": {
        "id": "_XMWP5dFt7OP",
        "colab_type": "code",
        "colab": {}
      },
      "source": [
        "import pandas as pd\n",
        "import numpy as np\n",
        "import matplotlib.pyplot as plt\n",
        "import seaborn as sns\n"
      ],
      "execution_count": 0,
      "outputs": []
    },
    {
      "cell_type": "markdown",
      "metadata": {
        "id": "yzfMtx8OgePX",
        "colab_type": "text"
      },
      "source": [
        "# 1. Project Understanding\n",
        "\n",
        "**1. The Purpose：**\n",
        "\n",
        "The purpose of this project is to predict the user purchase probability through the user purchasing behavirous, such as dates, view frequencys, activity types (e.g. EmailOpen, EmailClickthrough, etc).\n",
        "\n",
        "**2. The Data:**\n",
        "\n",
        "The original dataset is a raw log. It has 3 columns, 500000 rows that record user activity over time:\n",
        "- user_id: A hash that uniquely identifies the user\n",
        "\n",
        "- activity_date: The date of the activity\n",
        "\n",
        "- activity_type: The type of activity\n",
        "\n",
        "  - EmailOpen\n",
        "\n",
        "  - EmailClickthrough\n",
        "\n",
        "  - WebVisits\n",
        "\n",
        "  - PageViews\n",
        "\n",
        "  - FormSubmit\n",
        "\n",
        "  - CustomerSupport\n",
        "\n",
        "  - Purchase\n",
        "\n",
        "After data cleaning and feature extraction from SQL, the final data has 34850 (unique users) records, 18 features (IV) and 1 target variable, **is_purchase** \n",
        "- 0: No\n",
        "- 1: Yes\n",
        "\n",
        "**3. The models:**\n",
        "\n",
        "Classification models are used to  predicts which user_id are most likely to make a purchase in the future. \n",
        "\n",
        "(1). Logistic Regression: Easy understanding\n",
        "\n",
        "(2). Random Forest: One of the bagging ensembling method. Complex, could be more accurate, but less comprehensible\n",
        "\n",
        "(3). XGBoosting: One of the boosting ensembling method"
      ]
    },
    {
      "cell_type": "markdown",
      "metadata": {
        "id": "Ua-1kaIBgLXG",
        "colab_type": "text"
      },
      "source": [
        "# 2. Load dataset cleaned and extracted from SQL"
      ]
    },
    {
      "cell_type": "markdown",
      "metadata": {
        "id": "3x3cjGFQG2NQ",
        "colab_type": "text"
      },
      "source": [
        "There are 2 more columns in the training dataset:\n",
        "\n",
        "- **purchase_times**: total number of purchase\n",
        "\n",
        "- **is_purchase**: whether the user made a purchase. This feature is decoded based on the **purchase_times**\n",
        "    \n",
        "    - 1 : Yes\n",
        "\n",
        "    - 0 : No "
      ]
    },
    {
      "cell_type": "code",
      "metadata": {
        "id": "atM2scKgfogn",
        "colab_type": "code",
        "colab": {}
      },
      "source": [
        "train = pd.read_csv(\"/content/train_data.csv\")\n",
        "test = pd.read_csv(\"/content/test_data.csv\")"
      ],
      "execution_count": 0,
      "outputs": []
    },
    {
      "cell_type": "code",
      "metadata": {
        "id": "eQniDuzkiyti",
        "colab_type": "code",
        "outputId": "794a4d4b-4278-4645-eb93-1ed2d85d5a2b",
        "colab": {
          "base_uri": "https://localhost:8080/",
          "height": 224
        }
      },
      "source": [
        "train.head()"
      ],
      "execution_count": 4,
      "outputs": [
        {
          "output_type": "execute_result",
          "data": {
            "text/html": [
              "<div>\n",
              "<style scoped>\n",
              "    .dataframe tbody tr th:only-of-type {\n",
              "        vertical-align: middle;\n",
              "    }\n",
              "\n",
              "    .dataframe tbody tr th {\n",
              "        vertical-align: top;\n",
              "    }\n",
              "\n",
              "    .dataframe thead th {\n",
              "        text-align: right;\n",
              "    }\n",
              "</style>\n",
              "<table border=\"1\" class=\"dataframe\">\n",
              "  <thead>\n",
              "    <tr style=\"text-align: right;\">\n",
              "      <th></th>\n",
              "      <th>user_id</th>\n",
              "      <th>total_search_times</th>\n",
              "      <th>unique_days</th>\n",
              "      <th>EmailOpen_times</th>\n",
              "      <th>WebVisit_times</th>\n",
              "      <th>PageView_times</th>\n",
              "      <th>EmailClick_times</th>\n",
              "      <th>FormSubmit_times</th>\n",
              "      <th>first_activity_date</th>\n",
              "      <th>First_EmailOpen</th>\n",
              "      <th>First_ForSubmit</th>\n",
              "      <th>First_EmailClickhrough</th>\n",
              "      <th>First_PageView</th>\n",
              "      <th>First_WebVisit</th>\n",
              "      <th>last_activity_date</th>\n",
              "      <th>Last_EmailOpen</th>\n",
              "      <th>Last_ForSubmit</th>\n",
              "      <th>Last_EmailClickhrough</th>\n",
              "      <th>Last_PageView</th>\n",
              "      <th>Last_WebVisit</th>\n",
              "      <th>purchase_times</th>\n",
              "      <th>is_purchase</th>\n",
              "    </tr>\n",
              "  </thead>\n",
              "  <tbody>\n",
              "    <tr>\n",
              "      <th>0</th>\n",
              "      <td>00002acbe042d69</td>\n",
              "      <td>10</td>\n",
              "      <td>9</td>\n",
              "      <td>9</td>\n",
              "      <td>0</td>\n",
              "      <td>0</td>\n",
              "      <td>0</td>\n",
              "      <td>1</td>\n",
              "      <td>2013-07-11</td>\n",
              "      <td>1</td>\n",
              "      <td>0</td>\n",
              "      <td>0</td>\n",
              "      <td>0</td>\n",
              "      <td>0</td>\n",
              "      <td>2013-08-12</td>\n",
              "      <td>1</td>\n",
              "      <td>0</td>\n",
              "      <td>0</td>\n",
              "      <td>0</td>\n",
              "      <td>0</td>\n",
              "      <td>0</td>\n",
              "      <td>0</td>\n",
              "    </tr>\n",
              "    <tr>\n",
              "      <th>1</th>\n",
              "      <td>0000a3a34bd07e6</td>\n",
              "      <td>20</td>\n",
              "      <td>20</td>\n",
              "      <td>20</td>\n",
              "      <td>0</td>\n",
              "      <td>0</td>\n",
              "      <td>0</td>\n",
              "      <td>0</td>\n",
              "      <td>2013-07-04</td>\n",
              "      <td>1</td>\n",
              "      <td>0</td>\n",
              "      <td>0</td>\n",
              "      <td>0</td>\n",
              "      <td>0</td>\n",
              "      <td>2015-02-07</td>\n",
              "      <td>1</td>\n",
              "      <td>0</td>\n",
              "      <td>0</td>\n",
              "      <td>0</td>\n",
              "      <td>0</td>\n",
              "      <td>0</td>\n",
              "      <td>0</td>\n",
              "    </tr>\n",
              "    <tr>\n",
              "      <th>2</th>\n",
              "      <td>0000ecf58c94668</td>\n",
              "      <td>20</td>\n",
              "      <td>19</td>\n",
              "      <td>11</td>\n",
              "      <td>0</td>\n",
              "      <td>0</td>\n",
              "      <td>1</td>\n",
              "      <td>1</td>\n",
              "      <td>2013-10-30</td>\n",
              "      <td>0</td>\n",
              "      <td>0</td>\n",
              "      <td>0</td>\n",
              "      <td>0</td>\n",
              "      <td>0</td>\n",
              "      <td>2015-03-19</td>\n",
              "      <td>1</td>\n",
              "      <td>0</td>\n",
              "      <td>0</td>\n",
              "      <td>0</td>\n",
              "      <td>0</td>\n",
              "      <td>6</td>\n",
              "      <td>1</td>\n",
              "    </tr>\n",
              "    <tr>\n",
              "      <th>3</th>\n",
              "      <td>00012205dd4613b</td>\n",
              "      <td>2</td>\n",
              "      <td>2</td>\n",
              "      <td>2</td>\n",
              "      <td>0</td>\n",
              "      <td>0</td>\n",
              "      <td>0</td>\n",
              "      <td>0</td>\n",
              "      <td>2013-10-02</td>\n",
              "      <td>1</td>\n",
              "      <td>0</td>\n",
              "      <td>0</td>\n",
              "      <td>0</td>\n",
              "      <td>0</td>\n",
              "      <td>2013-10-30</td>\n",
              "      <td>1</td>\n",
              "      <td>0</td>\n",
              "      <td>0</td>\n",
              "      <td>0</td>\n",
              "      <td>0</td>\n",
              "      <td>0</td>\n",
              "      <td>0</td>\n",
              "    </tr>\n",
              "    <tr>\n",
              "      <th>4</th>\n",
              "      <td>000198d39a568cf</td>\n",
              "      <td>2</td>\n",
              "      <td>2</td>\n",
              "      <td>0</td>\n",
              "      <td>0</td>\n",
              "      <td>0</td>\n",
              "      <td>0</td>\n",
              "      <td>0</td>\n",
              "      <td>2014-01-09</td>\n",
              "      <td>0</td>\n",
              "      <td>0</td>\n",
              "      <td>0</td>\n",
              "      <td>0</td>\n",
              "      <td>0</td>\n",
              "      <td>2014-01-10</td>\n",
              "      <td>0</td>\n",
              "      <td>0</td>\n",
              "      <td>0</td>\n",
              "      <td>0</td>\n",
              "      <td>0</td>\n",
              "      <td>1</td>\n",
              "      <td>1</td>\n",
              "    </tr>\n",
              "  </tbody>\n",
              "</table>\n",
              "</div>"
            ],
            "text/plain": [
              "           user_id  total_search_times  ...  purchase_times  is_purchase\n",
              "0  00002acbe042d69                  10  ...               0            0\n",
              "1  0000a3a34bd07e6                  20  ...               0            0\n",
              "2  0000ecf58c94668                  20  ...               6            1\n",
              "3  00012205dd4613b                   2  ...               0            0\n",
              "4  000198d39a568cf                   2  ...               1            1\n",
              "\n",
              "[5 rows x 22 columns]"
            ]
          },
          "metadata": {
            "tags": []
          },
          "execution_count": 4
        }
      ]
    },
    {
      "cell_type": "code",
      "metadata": {
        "id": "iw0eP6JgQlHG",
        "colab_type": "code",
        "outputId": "8f5d2270-86d7-465c-953c-38923651b5af",
        "colab": {
          "base_uri": "https://localhost:8080/",
          "height": 51
        }
      },
      "source": [
        "print(\"Number of features for training dataset: {}, sample size: {}\".format(train.shape[1], train.shape[0]))\n",
        "print(\"Number of features for testing dataset: {}, sample size: {}\".format(test.shape[1], test.shape[0]))"
      ],
      "execution_count": 5,
      "outputs": [
        {
          "output_type": "stream",
          "text": [
            "Number of features for training dataset: 22, sample size: 34850\n",
            "Number of features for testing dataset: 20, sample size: 13643\n"
          ],
          "name": "stdout"
        }
      ]
    },
    {
      "cell_type": "markdown",
      "metadata": {
        "id": "e79YP3tXzyax",
        "colab_type": "text"
      },
      "source": [
        "## 3. Get familar with the data\n",
        "\n",
        "Since the classification model will be used for this project, the distribution and relationship between each feature and the responsive variable do not need to be checked."
      ]
    },
    {
      "cell_type": "markdown",
      "metadata": {
        "id": "m_8I-5IXiJjD",
        "colab_type": "text"
      },
      "source": [
        "### 3.1 The responsive feature: **is_purchase**"
      ]
    },
    {
      "cell_type": "code",
      "metadata": {
        "id": "fBDnE-jqiOxq",
        "colab_type": "code",
        "outputId": "b2afd513-07d2-4c77-c98b-eafe39ffba7d",
        "colab": {
          "base_uri": "https://localhost:8080/",
          "height": 68
        }
      },
      "source": [
        "train.is_purchase.value_counts()"
      ],
      "execution_count": 7,
      "outputs": [
        {
          "output_type": "execute_result",
          "data": {
            "text/plain": [
              "0    24254\n",
              "1    10596\n",
              "Name: is_purchase, dtype: int64"
            ]
          },
          "metadata": {
            "tags": []
          },
          "execution_count": 7
        }
      ]
    },
    {
      "cell_type": "code",
      "metadata": {
        "id": "4T5KGepnuWHY",
        "colab_type": "code",
        "outputId": "cf417f67-245e-487e-9515-c76c683a164f",
        "colab": {
          "base_uri": "https://localhost:8080/",
          "height": 410
        }
      },
      "source": [
        "fig, axs = plt.subplots(1, 2, figsize = (12, 6))\n",
        "sns.countplot(x = \"is_purchase\", data = train, ax = axs[0])\n",
        "axs[0].set_title(\"Frequency of Purchase Status\", size = 16)\n",
        "axs[0].set_xlabel(\"Purchase Status\", size = 14)\n",
        "axs[0].set_ylabel(\"Count\", size = 14)\n",
        "\n",
        "train[\"is_purchase\"].value_counts().plot(x = None, y = None, kind = \"pie\", ax = axs[1], autopct = \"%1.2f%%\") # \"bar\"\n",
        "axs[1].set_title(\"Percentage of Each Purchase Status\", size = 16)\n",
        "#axs[1].set_xlabel(\"Loan\", color = \"white\")\n",
        "axs[1].set_ylabel(\"Purchase Status\", size = 14)\n",
        "plt.show()"
      ],
      "execution_count": 10,
      "outputs": [
        {
          "output_type": "display_data",
          "data": {
            "image/png": "[encoded data removed]",
            "text/plain": [
              "<Figure size 864x432 with 2 Axes>"
            ]
          },
          "metadata": {
            "tags": []
          }
        }
      ]
    },
    {
      "cell_type": "markdown",
      "metadata": {
        "id": "yfk6OXQvqXqP",
        "colab_type": "text"
      },
      "source": [
        "The responsive feature **is_purchase** is composed of two classes: 0 (No) & 1 (Yes). \n",
        "\n",
        "**Suggestion:**\n",
        "The dataset is imbalanced, the accuracy may not be a good model evaluator. The confusion Matrix should be used."
      ]
    },
    {
      "cell_type": "markdown",
      "metadata": {
        "id": "DGviWop2l2GR",
        "colab_type": "text"
      },
      "source": [
        "### 3.2 One example of the feature\n",
        "\n",
        "The relationship between other features with the responsive variable **is_purchase** could also be checked with the same method."
      ]
    },
    {
      "cell_type": "markdown",
      "metadata": {
        "id": "asmRhTciLOTT",
        "colab_type": "text"
      },
      "source": [
        "### 1). total_search_times: \n",
        "Data Dictionary: \"The total number of searches all the time.\""
      ]
    },
    {
      "cell_type": "code",
      "metadata": {
        "id": "M2rFm0vNMqJP",
        "colab_type": "code",
        "outputId": "0cbc8db9-cdd5-455f-d498-31f3631bf188",
        "colab": {
          "base_uri": "https://localhost:8080/",
          "height": 142
        }
      },
      "source": [
        "train.groupby('is_purchase')['total_search_times'].describe()"
      ],
      "execution_count": 0,
      "outputs": [
        {
          "output_type": "execute_result",
          "data": {
            "text/html": [
              "<div>\n",
              "<style scoped>\n",
              "    .dataframe tbody tr th:only-of-type {\n",
              "        vertical-align: middle;\n",
              "    }\n",
              "\n",
              "    .dataframe tbody tr th {\n",
              "        vertical-align: top;\n",
              "    }\n",
              "\n",
              "    .dataframe thead th {\n",
              "        text-align: right;\n",
              "    }\n",
              "</style>\n",
              "<table border=\"1\" class=\"dataframe\">\n",
              "  <thead>\n",
              "    <tr style=\"text-align: right;\">\n",
              "      <th></th>\n",
              "      <th>count</th>\n",
              "      <th>mean</th>\n",
              "      <th>std</th>\n",
              "      <th>min</th>\n",
              "      <th>25%</th>\n",
              "      <th>50%</th>\n",
              "      <th>75%</th>\n",
              "      <th>max</th>\n",
              "    </tr>\n",
              "    <tr>\n",
              "      <th>is_purchase</th>\n",
              "      <th></th>\n",
              "      <th></th>\n",
              "      <th></th>\n",
              "      <th></th>\n",
              "      <th></th>\n",
              "      <th></th>\n",
              "      <th></th>\n",
              "      <th></th>\n",
              "    </tr>\n",
              "  </thead>\n",
              "  <tbody>\n",
              "    <tr>\n",
              "      <th>0</th>\n",
              "      <td>24254.0</td>\n",
              "      <td>10.804280</td>\n",
              "      <td>24.278222</td>\n",
              "      <td>1.0</td>\n",
              "      <td>2.0</td>\n",
              "      <td>4.0</td>\n",
              "      <td>11.0</td>\n",
              "      <td>804.0</td>\n",
              "    </tr>\n",
              "    <tr>\n",
              "      <th>1</th>\n",
              "      <td>10596.0</td>\n",
              "      <td>28.212722</td>\n",
              "      <td>81.905864</td>\n",
              "      <td>2.0</td>\n",
              "      <td>2.0</td>\n",
              "      <td>4.0</td>\n",
              "      <td>19.0</td>\n",
              "      <td>1968.0</td>\n",
              "    </tr>\n",
              "  </tbody>\n",
              "</table>\n",
              "</div>"
            ],
            "text/plain": [
              "               count       mean        std  min  25%  50%   75%     max\n",
              "is_purchase                                                            \n",
              "0            24254.0  10.804280  24.278222  1.0  2.0  4.0  11.0   804.0\n",
              "1            10596.0  28.212722  81.905864  2.0  2.0  4.0  19.0  1968.0"
            ]
          },
          "metadata": {
            "tags": []
          },
          "execution_count": 167
        }
      ]
    },
    {
      "cell_type": "code",
      "metadata": {
        "id": "y4X_ok84MIao",
        "colab_type": "code",
        "outputId": "14ac898b-6b88-4aa3-cf61-e8ca2a386ca4",
        "colab": {
          "base_uri": "https://localhost:8080/",
          "height": 321
        }
      },
      "source": [
        "plt.figure(figsize = (8, 4))\n",
        "df_temp_0 = train[\"total_search_times\"][train.is_purchase == 0]\n",
        "df_temp_1 = train[\"total_search_times\"][train.is_purchase == 1]\n",
        "sns.distplot(df_temp_0.dropna(), color = 'g')\n",
        "sns.distplot(df_temp_1.dropna(), color = 'r')\n",
        "plt.title(\"Total_serach_times vs Purchase\", size = 14)\n",
        "plt.legend(['No', 'Yes'])\n",
        "plt.show()"
      ],
      "execution_count": 0,
      "outputs": [
        {
          "output_type": "display_data",
          "data": {
            "image/png": "[encoded data removed]",
            "text/plain": [
              "<Figure size 576x288 with 1 Axes>"
            ]
          },
          "metadata": {
            "tags": []
          }
        }
      ]
    },
    {
      "cell_type": "markdown",
      "metadata": {
        "id": "I5DH-0CQM7MP",
        "colab_type": "text"
      },
      "source": [
        "The purchase  = 1 (Yes) tend to have higher  total_search_times."
      ]
    },
    {
      "cell_type": "markdown",
      "metadata": {
        "id": "AOGB4pC6wU_t",
        "colab_type": "text"
      },
      "source": [
        "## 4. Training, validation, testing datasets split\n",
        "\n",
        "### 4.1. About data leakage\n",
        "\n",
        "Two things about data leakage\n",
        "\n",
        "1). The inappropriate features after the determination of the **responsive feature** would lead to data leakage.\n",
        "\n",
        "2). The inappropriate split of training, validation, testing datasets would also need to data leakage, e.g., fill the missing values with mean, the calculation of the features based on the whole dataset before the data split. \n",
        "\n",
        "To avoid data leakage, it's better to split the datasets before data preprocessing. "
      ]
    },
    {
      "cell_type": "code",
      "metadata": {
        "id": "nizY6ZuBWxn0",
        "colab_type": "code",
        "outputId": "977801a5-84b6-4915-a008-70415215d11e",
        "colab": {
          "base_uri": "https://localhost:8080/",
          "height": 68
        }
      },
      "source": [
        "from sklearn.model_selection import train_test_split\n",
        "\n",
        "# split the data\n",
        "x_col_train = train.columns.tolist()\n",
        "\n",
        "# remove target variables and other variables not be considered for this project from x\n",
        "features_to_remove = ['user_id', 'is_purchase', 'purchase_times', 'first_activity_date', 'last_activity_date']\n",
        "for feature in features_to_remove:\n",
        "  x_col_train.remove(feature)\n",
        "X = train[x_col_train]\n",
        "y = train['is_purchase']\n",
        "\n",
        "# 80% training data, 20% validation data\n",
        "x_train, x_val, y_train, y_val = train_test_split(X, y, test_size = 0.2, random_state = 0)\n",
        "\n",
        "df_train = pd.concat([x_train, y_train], axis = 1)\n",
        "df_val = pd.concat([x_val, y_val], axis = 1)\n",
        "\n",
        "# remove variables from test dataset, to make the test dataset consistent with the training dataset\n",
        "x_col_test = test.columns.tolist()\n",
        "features_to_remove = ['first_activity_date', 'last_activity_date']\n",
        "for feature in features_to_remove:\n",
        "  x_col_test.remove(feature)\n",
        "df_test = test[x_col_test]\n",
        "print(\"The shape of training dataset: {}\".format(df_train.shape))\n",
        "print(\"The shape of validation dataset: {}\".format(df_val.shape))\n",
        "print(\"The shape of test dataset: {}\".format(df_test.shape))\n"
      ],
      "execution_count": 11,
      "outputs": [
        {
          "output_type": "stream",
          "text": [
            "The shape of training dataset: (27880, 18)\n",
            "The shape of validation dataset: (6970, 18)\n",
            "The shape of test dataset: (13643, 18)\n"
          ],
          "name": "stdout"
        }
      ]
    },
    {
      "cell_type": "markdown",
      "metadata": {
        "id": "JN62rRBSdMne",
        "colab_type": "text"
      },
      "source": [
        "## 5. Data normalization"
      ]
    },
    {
      "cell_type": "code",
      "metadata": {
        "id": "mDndMZds1C4p",
        "colab_type": "code",
        "outputId": "e0c7f03f-010e-432d-efb9-8c58962a370e",
        "colab": {
          "base_uri": "https://localhost:8080/",
          "height": 221
        }
      },
      "source": [
        "from sklearn.preprocessing import StandardScaler\n",
        "\n",
        "col = df_train.columns[0:-1]\n",
        "scaler = StandardScaler()\n",
        "df_train[col] = scaler.fit_transform(df_train[col])\n",
        "df_val[col] = scaler.fit_transform(df_val[col])\n",
        "df_test[col] = scaler.fit_transform(df_test[col])"
      ],
      "execution_count": 13,
      "outputs": [
        {
          "output_type": "stream",
          "text": [
            "/usr/local/lib/python3.6/dist-packages/ipykernel_launcher.py:7: SettingWithCopyWarning: \n",
            "A value is trying to be set on a copy of a slice from a DataFrame.\n",
            "Try using .loc[row_indexer,col_indexer] = value instead\n",
            "\n",
            "See the caveats in the documentation: http://pandas.pydata.org/pandas-docs/stable/user_guide/indexing.html#returning-a-view-versus-a-copy\n",
            "  import sys\n",
            "/usr/local/lib/python3.6/dist-packages/pandas/core/indexing.py:494: SettingWithCopyWarning: \n",
            "A value is trying to be set on a copy of a slice from a DataFrame.\n",
            "Try using .loc[row_indexer,col_indexer] = value instead\n",
            "\n",
            "See the caveats in the documentation: http://pandas.pydata.org/pandas-docs/stable/user_guide/indexing.html#returning-a-view-versus-a-copy\n",
            "  self.obj[item] = s\n"
          ],
          "name": "stderr"
        }
      ]
    },
    {
      "cell_type": "markdown",
      "metadata": {
        "id": "UlD_muH5Aq6l",
        "colab_type": "text"
      },
      "source": [
        "# 6. Model  building\n",
        "\n",
        "- Logistic Regression\n",
        "\n",
        "-  Random Forest\n",
        "\n",
        "- XGBoosting"
      ]
    },
    {
      "cell_type": "markdown",
      "metadata": {
        "id": "oO9NUPOHJPLU",
        "colab_type": "text"
      },
      "source": [
        "### 6.1 Model 1: Logistic Regression"
      ]
    },
    {
      "cell_type": "code",
      "metadata": {
        "id": "bimQfsgOJUPO",
        "colab_type": "code",
        "outputId": "1a2ee396-1283-457e-ef64-454c8f6a308f",
        "colab": {
          "base_uri": "https://localhost:8080/",
          "height": 156
        }
      },
      "source": [
        "from sklearn.linear_model import LogisticRegression\n",
        "from sklearn.metrics import confusion_matrix\n",
        "lr = LogisticRegression()\n",
        "lr.fit(df_train.drop(\"is_purchase\", axis = 1), df_train[\"is_purchase\"])"
      ],
      "execution_count": 14,
      "outputs": [
        {
          "output_type": "stream",
          "text": [
            "/usr/local/lib/python3.6/dist-packages/sklearn/linear_model/logistic.py:432: FutureWarning: Default solver will be changed to 'lbfgs' in 0.22. Specify a solver to silence this warning.\n",
            "  FutureWarning)\n"
          ],
          "name": "stderr"
        },
        {
          "output_type": "execute_result",
          "data": {
            "text/plain": [
              "LogisticRegression(C=1.0, class_weight=None, dual=False, fit_intercept=True,\n",
              "                   intercept_scaling=1, l1_ratio=None, max_iter=100,\n",
              "                   multi_class='warn', n_jobs=None, penalty='l2',\n",
              "                   random_state=None, solver='warn', tol=0.0001, verbose=0,\n",
              "                   warm_start=False)"
            ]
          },
          "metadata": {
            "tags": []
          },
          "execution_count": 14
        }
      ]
    },
    {
      "cell_type": "markdown",
      "metadata": {
        "id": "tPx5fBo5LZxk",
        "colab_type": "text"
      },
      "source": [
        "### 1). Model Evaluation: Accuracy"
      ]
    },
    {
      "cell_type": "code",
      "metadata": {
        "id": "u8CxVamuMJpv",
        "colab_type": "code",
        "outputId": "d3ea3115-44e8-45f6-938e-8936c66f88d7",
        "colab": {
          "base_uri": "https://localhost:8080/",
          "height": 34
        }
      },
      "source": [
        "score = lr.score(df_val.drop(\"is_purchase\", axis = 1), df_val[\"is_purchase\"])\n",
        "print(\"The accuracy: {:.5}\".format(score))"
      ],
      "execution_count": 15,
      "outputs": [
        {
          "output_type": "stream",
          "text": [
            "The accuracy: 0.92941\n"
          ],
          "name": "stdout"
        }
      ]
    },
    {
      "cell_type": "markdown",
      "metadata": {
        "id": "4Jkk2x07kDL8",
        "colab_type": "text"
      },
      "source": [
        "### 2). Model Evaluation: Confusion Matrix, ROC_ACU_Score "
      ]
    },
    {
      "cell_type": "code",
      "metadata": {
        "id": "YtBfti4DM13x",
        "colab_type": "code",
        "outputId": "3c1a4f88-2f0d-485c-efd0-3fb79ff9d433",
        "colab": {
          "base_uri": "https://localhost:8080/",
          "height": 68
        }
      },
      "source": [
        "df_train[\"is_purchase\"].value_counts()/len(df_train)"
      ],
      "execution_count": 16,
      "outputs": [
        {
          "output_type": "execute_result",
          "data": {
            "text/plain": [
              "0    0.694871\n",
              "1    0.305129\n",
              "Name: is_purchase, dtype: float64"
            ]
          },
          "metadata": {
            "tags": []
          },
          "execution_count": 16
        }
      ]
    },
    {
      "cell_type": "markdown",
      "metadata": {
        "id": "-G6fbV0dMpdG",
        "colab_type": "text"
      },
      "source": [
        "Since the data is imbalanced, 69% and 30%, the accuracy is not a good model evaluator. Next, I will consider the confusion matrix, and the roc to evaluate the model performance."
      ]
    },
    {
      "cell_type": "code",
      "metadata": {
        "id": "BSLpAwsaK4th",
        "colab_type": "code",
        "outputId": "d48cd157-fe9a-4c38-a80b-f1327724b796",
        "colab": {
          "base_uri": "https://localhost:8080/",
          "height": 51
        }
      },
      "source": [
        "y_pred = lr.predict(df_val.drop(\"is_purchase\", axis = 1))\n",
        "confusion_matrix(df_val[\"is_purchase\"], y_pred)"
      ],
      "execution_count": 17,
      "outputs": [
        {
          "output_type": "execute_result",
          "data": {
            "text/plain": [
              "array([[4561,  320],\n",
              "       [ 172, 1917]])"
            ]
          },
          "metadata": {
            "tags": []
          },
          "execution_count": 17
        }
      ]
    },
    {
      "cell_type": "code",
      "metadata": {
        "id": "utZumX2vv02A",
        "colab_type": "code",
        "outputId": "b5846320-e65f-4a6d-d9f9-ad6d685c52ea",
        "colab": {
          "base_uri": "https://localhost:8080/",
          "height": 170
        }
      },
      "source": [
        "from sklearn.metrics import classification_report\n",
        "print(classification_report(df_val[\"is_purchase\"], y_pred))"
      ],
      "execution_count": 18,
      "outputs": [
        {
          "output_type": "stream",
          "text": [
            "              precision    recall  f1-score   support\n",
            "\n",
            "           0       0.96      0.93      0.95      4881\n",
            "           1       0.86      0.92      0.89      2089\n",
            "\n",
            "    accuracy                           0.93      6970\n",
            "   macro avg       0.91      0.93      0.92      6970\n",
            "weighted avg       0.93      0.93      0.93      6970\n",
            "\n"
          ],
          "name": "stdout"
        }
      ]
    },
    {
      "cell_type": "code",
      "metadata": {
        "id": "e98NctCCNWYK",
        "colab_type": "code",
        "outputId": "b45e5d10-3f54-4030-bdfa-f794681a9fa5",
        "colab": {
          "base_uri": "https://localhost:8080/",
          "height": 34
        }
      },
      "source": [
        "from sklearn.metrics import roc_auc_score, roc_curve\n",
        "lr_auc = roc_auc_score(lr.predict(df_val.drop(\"is_purchase\", axis = 1)), df_val[\"is_purchase\"])\n",
        "print(\"The AUC: {:.5f}\".format(lr_auc))"
      ],
      "execution_count": 19,
      "outputs": [
        {
          "output_type": "stream",
          "text": [
            "The AUC: 0.91031\n"
          ],
          "name": "stdout"
        }
      ]
    },
    {
      "cell_type": "markdown",
      "metadata": {
        "id": "9gx7-axwDbfk",
        "colab_type": "text"
      },
      "source": [
        "### 6.2 Model 2: Random Forest\n",
        "\n",
        "The Random Forest is a bagging method based on decisin tree."
      ]
    },
    {
      "cell_type": "markdown",
      "metadata": {
        "id": "gWoLznMLLxMQ",
        "colab_type": "text"
      },
      "source": [
        "### 1). Model Evaluation: Accuracy"
      ]
    },
    {
      "cell_type": "code",
      "metadata": {
        "id": "791cAwjBDg_3",
        "colab_type": "code",
        "outputId": "da7939f3-7dbb-49af-f5d0-208451b43971",
        "colab": {
          "base_uri": "https://localhost:8080/",
          "height": 34
        }
      },
      "source": [
        "from sklearn.ensemble import RandomForestClassifier\n",
        "rfc = RandomForestClassifier(n_estimators = 50)\n",
        "rfc.fit(df_train.drop(\"is_purchase\", axis = 1), df_train[\"is_purchase\"])\n",
        "score = rfc.score(df_val.drop(\"is_purchase\", axis = 1), df_val[\"is_purchase\"])\n",
        "print(\"The acc: {:.5f}\".format(score))"
      ],
      "execution_count": 21,
      "outputs": [
        {
          "output_type": "stream",
          "text": [
            "The acc: 0.95538\n"
          ],
          "name": "stdout"
        }
      ]
    },
    {
      "cell_type": "markdown",
      "metadata": {
        "id": "10s8VfbaL1Pq",
        "colab_type": "text"
      },
      "source": [
        "### 2). Model Evaluation: ROC_AUC_Score"
      ]
    },
    {
      "cell_type": "code",
      "metadata": {
        "id": "TbabtpealyXY",
        "colab_type": "code",
        "outputId": "602571aa-f51c-4cc1-d878-0b50c4ba800e",
        "colab": {
          "base_uri": "https://localhost:8080/",
          "height": 34
        }
      },
      "source": [
        "rf_auc = roc_auc_score(rfc.predict(df_val.drop(\"is_purchase\", axis = 1)), df_val[\"is_purchase\"])\n",
        "print(\"The AUC: {:.5f}\".format(rf_auc))"
      ],
      "execution_count": 22,
      "outputs": [
        {
          "output_type": "stream",
          "text": [
            "The AUC: 0.93863\n"
          ],
          "name": "stdout"
        }
      ]
    },
    {
      "cell_type": "markdown",
      "metadata": {
        "id": "oFF9NW-flS-y",
        "colab_type": "text"
      },
      "source": [
        "### 3). Use GridSearchCV to determine the best parameters for the Random Forest, e.g., n_estimators"
      ]
    },
    {
      "cell_type": "code",
      "metadata": {
        "id": "IpTtH2BzDhJ9",
        "colab_type": "code",
        "colab": {}
      },
      "source": [
        "from sklearn.model_selection import GridSearchCV\n",
        "rf = RandomForestClassifier()\n",
        "parameters = {\"n_estimators\": [5, 10, 20, 35, 50, 100]}\n",
        "\n",
        "gs = GridSearchCV(estimator = rf, param_grid = parameters, scoring = \"roc_auc\", cv = 5, n_jobs = -1)\n",
        "\n",
        "grid_result = gs.fit(df_train.drop(\"is_purchase\", axis = 1).values, df_train.is_purchase.values)"
      ],
      "execution_count": 0,
      "outputs": []
    },
    {
      "cell_type": "code",
      "metadata": {
        "id": "eQumZm_N-Yrk",
        "colab_type": "code",
        "outputId": "a53f88ee-9685-46c1-fd67-a3343488bc83",
        "colab": {
          "base_uri": "https://localhost:8080/",
          "height": 34
        }
      },
      "source": [
        "print(\"The best AUC: {:.5f}\".format(grid_result.best_score_))"
      ],
      "execution_count": 24,
      "outputs": [
        {
          "output_type": "stream",
          "text": [
            "The best AUC: 0.99621\n"
          ],
          "name": "stdout"
        }
      ]
    },
    {
      "cell_type": "code",
      "metadata": {
        "id": "3G2F43oSHYwL",
        "colab_type": "code",
        "outputId": "d492808f-6e0d-4611-b0df-bcdff1a0926c",
        "colab": {
          "base_uri": "https://localhost:8080/",
          "height": 34
        }
      },
      "source": [
        "grid_result.best_params_"
      ],
      "execution_count": 25,
      "outputs": [
        {
          "output_type": "execute_result",
          "data": {
            "text/plain": [
              "{'n_estimators': 100}"
            ]
          },
          "metadata": {
            "tags": []
          },
          "execution_count": 25
        }
      ]
    },
    {
      "cell_type": "code",
      "metadata": {
        "id": "sO2i-nemlnr6",
        "colab_type": "code",
        "outputId": "c0c8d0f6-ea11-4c91-f7a7-343888f66812",
        "colab": {
          "base_uri": "https://localhost:8080/",
          "height": 34
        }
      },
      "source": [
        "rfc = RandomForestClassifier(n_estimators = 100)\n",
        "rfc.fit(df_train.drop(\"is_purchase\", axis = 1), df_train[\"is_purchase\"])\n",
        "score = rfc.score(df_val.drop(\"is_purchase\", axis = 1), df_val[\"is_purchase\"])\n",
        "score"
      ],
      "execution_count": 26,
      "outputs": [
        {
          "output_type": "execute_result",
          "data": {
            "text/plain": [
              "0.9492109038737446"
            ]
          },
          "metadata": {
            "tags": []
          },
          "execution_count": 26
        }
      ]
    },
    {
      "cell_type": "markdown",
      "metadata": {
        "id": "RIqgrEmzHgqm",
        "colab_type": "text"
      },
      "source": [
        "From the results above, the accuray is 94.921%, and the best roc_auc is 99.621 %when n_estimators = 100."
      ]
    },
    {
      "cell_type": "markdown",
      "metadata": {
        "id": "QK3TytENPlE0",
        "colab_type": "text"
      },
      "source": [
        "### 4). Features importance"
      ]
    },
    {
      "cell_type": "code",
      "metadata": {
        "id": "jh1YHVP5Pzgm",
        "colab_type": "code",
        "outputId": "0822a116-79b0-46df-f2b5-1db9996a887b",
        "colab": {
          "base_uri": "https://localhost:8080/",
          "height": 136
        }
      },
      "source": [
        "column_names = df_train.drop(\"is_purchase\", axis = 1).columns\n",
        "column_names"
      ],
      "execution_count": 28,
      "outputs": [
        {
          "output_type": "execute_result",
          "data": {
            "text/plain": [
              "Index(['total_search_times', 'unique_days', 'EmailOpen_times',\n",
              "       'WebVisit_times', 'PageView_times', 'EmailClick_times',\n",
              "       'FormSubmit_times', 'First_EmailOpen', 'First_ForSubmit',\n",
              "       'First_EmailClickhrough', 'First_PageView', 'First_WebVisit',\n",
              "       'Last_EmailOpen', 'Last_ForSubmit', 'Last_EmailClickhrough',\n",
              "       'Last_PageView', 'Last_WebVisit'],\n",
              "      dtype='object')"
            ]
          },
          "metadata": {
            "tags": []
          },
          "execution_count": 28
        }
      ]
    },
    {
      "cell_type": "code",
      "metadata": {
        "id": "w4lkPJh3PnUR",
        "colab_type": "code",
        "outputId": "8e80c0ca-6c1e-46fa-f718-1bd6489ce560",
        "colab": {
          "base_uri": "https://localhost:8080/",
          "height": 576
        }
      },
      "source": [
        "feature_importances = pd.DataFrame(rfc.feature_importances_,\n",
        "                                   index = column_names,\n",
        "                                    columns=['importance']).sort_values('importance', ascending=False)\n",
        "\n",
        "feature_importances"
      ],
      "execution_count": 29,
      "outputs": [
        {
          "output_type": "execute_result",
          "data": {
            "text/html": [
              "<div>\n",
              "<style scoped>\n",
              "    .dataframe tbody tr th:only-of-type {\n",
              "        vertical-align: middle;\n",
              "    }\n",
              "\n",
              "    .dataframe tbody tr th {\n",
              "        vertical-align: top;\n",
              "    }\n",
              "\n",
              "    .dataframe thead th {\n",
              "        text-align: right;\n",
              "    }\n",
              "</style>\n",
              "<table border=\"1\" class=\"dataframe\">\n",
              "  <thead>\n",
              "    <tr style=\"text-align: right;\">\n",
              "      <th></th>\n",
              "      <th>importance</th>\n",
              "    </tr>\n",
              "  </thead>\n",
              "  <tbody>\n",
              "    <tr>\n",
              "      <th>EmailOpen_times</th>\n",
              "      <td>0.196198</td>\n",
              "    </tr>\n",
              "    <tr>\n",
              "      <th>First_EmailOpen</th>\n",
              "      <td>0.189452</td>\n",
              "    </tr>\n",
              "    <tr>\n",
              "      <th>Last_EmailOpen</th>\n",
              "      <td>0.186845</td>\n",
              "    </tr>\n",
              "    <tr>\n",
              "      <th>unique_days</th>\n",
              "      <td>0.139118</td>\n",
              "    </tr>\n",
              "    <tr>\n",
              "      <th>total_search_times</th>\n",
              "      <td>0.101304</td>\n",
              "    </tr>\n",
              "    <tr>\n",
              "      <th>FormSubmit_times</th>\n",
              "      <td>0.075765</td>\n",
              "    </tr>\n",
              "    <tr>\n",
              "      <th>EmailClick_times</th>\n",
              "      <td>0.054774</td>\n",
              "    </tr>\n",
              "    <tr>\n",
              "      <th>PageView_times</th>\n",
              "      <td>0.018473</td>\n",
              "    </tr>\n",
              "    <tr>\n",
              "      <th>WebVisit_times</th>\n",
              "      <td>0.016428</td>\n",
              "    </tr>\n",
              "    <tr>\n",
              "      <th>Last_WebVisit</th>\n",
              "      <td>0.008478</td>\n",
              "    </tr>\n",
              "    <tr>\n",
              "      <th>Last_PageView</th>\n",
              "      <td>0.004866</td>\n",
              "    </tr>\n",
              "    <tr>\n",
              "      <th>First_WebVisit</th>\n",
              "      <td>0.004793</td>\n",
              "    </tr>\n",
              "    <tr>\n",
              "      <th>First_PageView</th>\n",
              "      <td>0.003506</td>\n",
              "    </tr>\n",
              "    <tr>\n",
              "      <th>First_EmailClickhrough</th>\n",
              "      <td>0.000000</td>\n",
              "    </tr>\n",
              "    <tr>\n",
              "      <th>Last_ForSubmit</th>\n",
              "      <td>0.000000</td>\n",
              "    </tr>\n",
              "    <tr>\n",
              "      <th>Last_EmailClickhrough</th>\n",
              "      <td>0.000000</td>\n",
              "    </tr>\n",
              "    <tr>\n",
              "      <th>First_ForSubmit</th>\n",
              "      <td>0.000000</td>\n",
              "    </tr>\n",
              "  </tbody>\n",
              "</table>\n",
              "</div>"
            ],
            "text/plain": [
              "                        importance\n",
              "EmailOpen_times           0.196198\n",
              "First_EmailOpen           0.189452\n",
              "Last_EmailOpen            0.186845\n",
              "unique_days               0.139118\n",
              "total_search_times        0.101304\n",
              "FormSubmit_times          0.075765\n",
              "EmailClick_times          0.054774\n",
              "PageView_times            0.018473\n",
              "WebVisit_times            0.016428\n",
              "Last_WebVisit             0.008478\n",
              "Last_PageView             0.004866\n",
              "First_WebVisit            0.004793\n",
              "First_PageView            0.003506\n",
              "First_EmailClickhrough    0.000000\n",
              "Last_ForSubmit            0.000000\n",
              "Last_EmailClickhrough     0.000000\n",
              "First_ForSubmit           0.000000"
            ]
          },
          "metadata": {
            "tags": []
          },
          "execution_count": 29
        }
      ]
    },
    {
      "cell_type": "code",
      "metadata": {
        "id": "SGY7nxw-QaaB",
        "colab_type": "code",
        "outputId": "ae5e61f7-cf8a-492c-df03-998be595d283",
        "colab": {
          "base_uri": "https://localhost:8080/",
          "height": 565
        }
      },
      "source": [
        "plt.style.use('fivethirtyeight')\n",
        "plt.rcParams['figure.figsize'] = (10,6)\n",
        "\n",
        "## feature importances Visualization\n",
        "importances = rfc.feature_importances_\n",
        "feat_names = column_names\n",
        "indices = np.argsort(importances)[::-1]\n",
        "fig = plt.figure(figsize=(14,6))\n",
        "plt.axhline(y = 0.9, linestyle = \"--\", color = \"gray\")\n",
        "plt.title(\"Feature importances by RandomTreeClassifier\")\n",
        "plt.bar(range(len(indices)), importances[indices], color='lightblue',  align=\"center\")\n",
        "plt.step(range(len(indices)), np.cumsum(importances[indices]), where='mid', label='Cumulative')\n",
        "plt.xticks(range(len(indices)), feat_names[indices], rotation= \"vertical\", fontsize=14) # 'vertical'\n",
        "plt.xlim([-1, len(indices)])\n",
        "plt.show()"
      ],
      "execution_count": 31,
      "outputs": [
        {
          "output_type": "display_data",
          "data": {
            "image/png": "[encoded data removed]",
            "text/plain": [
              "<Figure size 1008x432 with 1 Axes>"
            ]
          },
          "metadata": {
            "tags": []
          }
        }
      ]
    },
    {
      "cell_type": "markdown",
      "metadata": {
        "id": "2Ret1FATQ-sN",
        "colab_type": "text"
      },
      "source": [
        "### 6.3 Model 3: XGBoosting\n",
        "\n",
        "The XGBoost is a boosting method."
      ]
    },
    {
      "cell_type": "markdown",
      "metadata": {
        "id": "LZB0k44UNTk8",
        "colab_type": "text"
      },
      "source": [
        "### 1). Model Evaluation: Accuracy"
      ]
    },
    {
      "cell_type": "code",
      "metadata": {
        "id": "8c8JIbzJRJwf",
        "colab_type": "code",
        "outputId": "92bcbb97-7c24-45b6-af19-dc8c13bb9a20",
        "colab": {
          "base_uri": "https://localhost:8080/",
          "height": 34
        }
      },
      "source": [
        "from xgboost import XGBClassifier\n",
        "xgc = XGBClassifier()\n",
        "xgc.fit(df_train.drop(\"is_purchase\", axis = 1), df_train[\"is_purchase\"])\n",
        "score = xgc.score(df_val.drop(\"is_purchase\", axis = 1), df_val[\"is_purchase\"])\n",
        "print(\"The acc: {:.5f}\".format(score))"
      ],
      "execution_count": 32,
      "outputs": [
        {
          "output_type": "stream",
          "text": [
            "The acc: 0.94146\n"
          ],
          "name": "stdout"
        }
      ]
    },
    {
      "cell_type": "markdown",
      "metadata": {
        "id": "BPX7dqI7NU3N",
        "colab_type": "text"
      },
      "source": [
        "### 12). Model Evaluation: AUC_ROC_Score"
      ]
    },
    {
      "cell_type": "code",
      "metadata": {
        "id": "NllqCPrrRuAS",
        "colab_type": "code",
        "outputId": "00bc9eee-4e1c-4720-82a8-43264836b153",
        "colab": {
          "base_uri": "https://localhost:8080/",
          "height": 34
        }
      },
      "source": [
        "auc_xgc = roc_auc_score(xgc.predict(df_val.drop(\"is_purchase\", axis = 1)), df_val[\"is_purchase\"])\n",
        "print(\"The AUC: {:.5f}\".format(auc_xgc))"
      ],
      "execution_count": 33,
      "outputs": [
        {
          "output_type": "stream",
          "text": [
            "The AUC: 0.93447\n"
          ],
          "name": "stdout"
        }
      ]
    },
    {
      "cell_type": "markdown",
      "metadata": {
        "id": "_S4KtrTPR6Lf",
        "colab_type": "text"
      },
      "source": [
        "# 7. Comparisons of the 3 models: **LR**, **RF**, **XGBoost**"
      ]
    },
    {
      "cell_type": "code",
      "metadata": {
        "id": "PZAk5XZDSDcP",
        "colab_type": "code",
        "outputId": "80460ee2-d063-4438-edfd-0e3d3b594708",
        "colab": {
          "base_uri": "https://localhost:8080/",
          "height": 142
        }
      },
      "source": [
        "models = [\"Logistic Regression\", \"Random Forest\", \"XGBoost\"]\n",
        "acc = [0.92941, 0.95093, 0.94146]\n",
        "auc = [0.91031, 0.99609, 0.93447]\n",
        "\n",
        "res = pd.DataFrame({\"Models\": models, \"Accuracy\": acc, \"AUC\": auc})\n",
        "res"
      ],
      "execution_count": 34,
      "outputs": [
        {
          "output_type": "execute_result",
          "data": {
            "text/html": [
              "<div>\n",
              "<style scoped>\n",
              "    .dataframe tbody tr th:only-of-type {\n",
              "        vertical-align: middle;\n",
              "    }\n",
              "\n",
              "    .dataframe tbody tr th {\n",
              "        vertical-align: top;\n",
              "    }\n",
              "\n",
              "    .dataframe thead th {\n",
              "        text-align: right;\n",
              "    }\n",
              "</style>\n",
              "<table border=\"1\" class=\"dataframe\">\n",
              "  <thead>\n",
              "    <tr style=\"text-align: right;\">\n",
              "      <th></th>\n",
              "      <th>Models</th>\n",
              "      <th>Accuracy</th>\n",
              "      <th>AUC</th>\n",
              "    </tr>\n",
              "  </thead>\n",
              "  <tbody>\n",
              "    <tr>\n",
              "      <th>0</th>\n",
              "      <td>Logistic Regression</td>\n",
              "      <td>0.92941</td>\n",
              "      <td>0.91031</td>\n",
              "    </tr>\n",
              "    <tr>\n",
              "      <th>1</th>\n",
              "      <td>Random Forest</td>\n",
              "      <td>0.95093</td>\n",
              "      <td>0.99609</td>\n",
              "    </tr>\n",
              "    <tr>\n",
              "      <th>2</th>\n",
              "      <td>XGBoost</td>\n",
              "      <td>0.94146</td>\n",
              "      <td>0.93447</td>\n",
              "    </tr>\n",
              "  </tbody>\n",
              "</table>\n",
              "</div>"
            ],
            "text/plain": [
              "                Models  Accuracy      AUC\n",
              "0  Logistic Regression   0.92941  0.91031\n",
              "1        Random Forest   0.95093  0.99609\n",
              "2              XGBoost   0.94146  0.93447"
            ]
          },
          "metadata": {
            "tags": []
          },
          "execution_count": 34
        }
      ]
    },
    {
      "cell_type": "markdown",
      "metadata": {
        "id": "jmo1gzI8Uheb",
        "colab_type": "text"
      },
      "source": [
        "From the discussion above, the accuracy for the 3 models are very similar. Since the data is imbalanced, the accuracy is not a indicator. \n",
        "\n",
        "The Aera Under Curve (AUR_ROC) is a good indicator of the model. Based on the AUC, the Random Forest Model performances best.\n",
        " "
      ]
    },
    {
      "cell_type": "markdown",
      "metadata": {
        "id": "v49Ths_wEuGx",
        "colab_type": "text"
      },
      "source": [
        "# 8. Test dataset prediction from the best model: **Random Forest**\n",
        "From the discussion above, after a through data preprocessing and data engineering, 3 models (LR, RF, XGBoosting) are created and evaluated. Based on the the accuracy, and AUC_ROC indicaters, the Random Forest model performances best.\n",
        "\n",
        "Thus, I will use the Random Forest model to predict the user_purchase. And the top 1000 user_id most likely to make a purchase are listed and saved to a csv file. "
      ]
    },
    {
      "cell_type": "code",
      "metadata": {
        "id": "KlXd_OPGMSQ7",
        "colab_type": "code",
        "outputId": "b35c01fb-90a0-4c00-fdf9-85b957246a23",
        "colab": {
          "base_uri": "https://localhost:8080/",
          "height": 224
        }
      },
      "source": [
        "df_test.head()"
      ],
      "execution_count": 35,
      "outputs": [
        {
          "output_type": "execute_result",
          "data": {
            "text/html": [
              "<div>\n",
              "<style scoped>\n",
              "    .dataframe tbody tr th:only-of-type {\n",
              "        vertical-align: middle;\n",
              "    }\n",
              "\n",
              "    .dataframe tbody tr th {\n",
              "        vertical-align: top;\n",
              "    }\n",
              "\n",
              "    .dataframe thead th {\n",
              "        text-align: right;\n",
              "    }\n",
              "</style>\n",
              "<table border=\"1\" class=\"dataframe\">\n",
              "  <thead>\n",
              "    <tr style=\"text-align: right;\">\n",
              "      <th></th>\n",
              "      <th>user_id</th>\n",
              "      <th>total_search_times</th>\n",
              "      <th>unique_days</th>\n",
              "      <th>EmailOpen_times</th>\n",
              "      <th>WebVisit_times</th>\n",
              "      <th>PageView_times</th>\n",
              "      <th>EmailClick_times</th>\n",
              "      <th>FormSubmit_times</th>\n",
              "      <th>First_EmailOpen</th>\n",
              "      <th>First_ForSubmit</th>\n",
              "      <th>First_EmailClickhrough</th>\n",
              "      <th>First_PageView</th>\n",
              "      <th>First_WebVisit</th>\n",
              "      <th>Last_EmailOpen</th>\n",
              "      <th>Last_ForSubmit</th>\n",
              "      <th>Last_EmailClickhrough</th>\n",
              "      <th>Last_PageView</th>\n",
              "      <th>Last_WebVisit</th>\n",
              "    </tr>\n",
              "  </thead>\n",
              "  <tbody>\n",
              "    <tr>\n",
              "      <th>0</th>\n",
              "      <td>0000ecf58c94668</td>\n",
              "      <td>-0.114198</td>\n",
              "      <td>0.052713</td>\n",
              "      <td>0.112233</td>\n",
              "      <td>-0.238538</td>\n",
              "      <td>-0.237251</td>\n",
              "      <td>-0.259552</td>\n",
              "      <td>-0.22221</td>\n",
              "      <td>0.237593</td>\n",
              "      <td>0.0</td>\n",
              "      <td>0.0</td>\n",
              "      <td>-0.379435</td>\n",
              "      <td>-0.388109</td>\n",
              "      <td>0.242545</td>\n",
              "      <td>0.0</td>\n",
              "      <td>0.0</td>\n",
              "      <td>-0.372706</td>\n",
              "      <td>-0.380572</td>\n",
              "    </tr>\n",
              "    <tr>\n",
              "      <th>1</th>\n",
              "      <td>000132f21724ee2</td>\n",
              "      <td>-0.357927</td>\n",
              "      <td>-0.567120</td>\n",
              "      <td>-0.574250</td>\n",
              "      <td>-0.238538</td>\n",
              "      <td>-0.237251</td>\n",
              "      <td>0.466226</td>\n",
              "      <td>-0.22221</td>\n",
              "      <td>0.237593</td>\n",
              "      <td>0.0</td>\n",
              "      <td>0.0</td>\n",
              "      <td>-0.379435</td>\n",
              "      <td>-0.388109</td>\n",
              "      <td>0.242545</td>\n",
              "      <td>0.0</td>\n",
              "      <td>0.0</td>\n",
              "      <td>-0.372706</td>\n",
              "      <td>-0.380572</td>\n",
              "    </tr>\n",
              "    <tr>\n",
              "      <th>2</th>\n",
              "      <td>0001b315b991cf0</td>\n",
              "      <td>-0.276684</td>\n",
              "      <td>-0.257204</td>\n",
              "      <td>-0.231008</td>\n",
              "      <td>-0.238538</td>\n",
              "      <td>-0.237251</td>\n",
              "      <td>-0.259552</td>\n",
              "      <td>-0.22221</td>\n",
              "      <td>0.237593</td>\n",
              "      <td>0.0</td>\n",
              "      <td>0.0</td>\n",
              "      <td>-0.379435</td>\n",
              "      <td>-0.388109</td>\n",
              "      <td>0.242545</td>\n",
              "      <td>0.0</td>\n",
              "      <td>0.0</td>\n",
              "      <td>-0.372706</td>\n",
              "      <td>-0.380572</td>\n",
              "    </tr>\n",
              "    <tr>\n",
              "      <th>3</th>\n",
              "      <td>000269150971d08</td>\n",
              "      <td>-0.195441</td>\n",
              "      <td>-0.102245</td>\n",
              "      <td>-0.059387</td>\n",
              "      <td>-0.238538</td>\n",
              "      <td>-0.237251</td>\n",
              "      <td>-0.259552</td>\n",
              "      <td>-0.22221</td>\n",
              "      <td>0.237593</td>\n",
              "      <td>0.0</td>\n",
              "      <td>0.0</td>\n",
              "      <td>-0.379435</td>\n",
              "      <td>-0.388109</td>\n",
              "      <td>0.242545</td>\n",
              "      <td>0.0</td>\n",
              "      <td>0.0</td>\n",
              "      <td>-0.372706</td>\n",
              "      <td>-0.380572</td>\n",
              "    </tr>\n",
              "    <tr>\n",
              "      <th>4</th>\n",
              "      <td>000297ba4fa5026</td>\n",
              "      <td>-0.276684</td>\n",
              "      <td>-0.257204</td>\n",
              "      <td>-0.231008</td>\n",
              "      <td>-0.238538</td>\n",
              "      <td>-0.237251</td>\n",
              "      <td>-0.259552</td>\n",
              "      <td>-0.22221</td>\n",
              "      <td>0.237593</td>\n",
              "      <td>0.0</td>\n",
              "      <td>0.0</td>\n",
              "      <td>-0.379435</td>\n",
              "      <td>-0.388109</td>\n",
              "      <td>0.242545</td>\n",
              "      <td>0.0</td>\n",
              "      <td>0.0</td>\n",
              "      <td>-0.372706</td>\n",
              "      <td>-0.380572</td>\n",
              "    </tr>\n",
              "  </tbody>\n",
              "</table>\n",
              "</div>"
            ],
            "text/plain": [
              "           user_id  total_search_times  ...  Last_PageView  Last_WebVisit\n",
              "0  0000ecf58c94668           -0.114198  ...      -0.372706      -0.380572\n",
              "1  000132f21724ee2           -0.357927  ...      -0.372706      -0.380572\n",
              "2  0001b315b991cf0           -0.276684  ...      -0.372706      -0.380572\n",
              "3  000269150971d08           -0.195441  ...      -0.372706      -0.380572\n",
              "4  000297ba4fa5026           -0.276684  ...      -0.372706      -0.380572\n",
              "\n",
              "[5 rows x 18 columns]"
            ]
          },
          "metadata": {
            "tags": []
          },
          "execution_count": 35
        }
      ]
    },
    {
      "cell_type": "code",
      "metadata": {
        "id": "RJ9BUL3_6zRG",
        "colab_type": "code",
        "colab": {}
      },
      "source": [
        "y_pred = rfc.predict_proba(df_test.drop(\"user_id\", axis = 1))\n",
        "y_pred = y_pred[:,1]\n"
      ],
      "execution_count": 0,
      "outputs": []
    },
    {
      "cell_type": "code",
      "metadata": {
        "id": "rAM6FeJ0LBvy",
        "colab_type": "code",
        "outputId": "7fe281d9-fb64-4f15-c879-debc634c029d",
        "colab": {
          "base_uri": "https://localhost:8080/",
          "height": 204
        }
      },
      "source": [
        "y_predicted = pd.DataFrame(y_pred, columns = ['predicted'])\n",
        "y_predicted.tail()"
      ],
      "execution_count": 37,
      "outputs": [
        {
          "output_type": "execute_result",
          "data": {
            "text/html": [
              "<div>\n",
              "<style scoped>\n",
              "    .dataframe tbody tr th:only-of-type {\n",
              "        vertical-align: middle;\n",
              "    }\n",
              "\n",
              "    .dataframe tbody tr th {\n",
              "        vertical-align: top;\n",
              "    }\n",
              "\n",
              "    .dataframe thead th {\n",
              "        text-align: right;\n",
              "    }\n",
              "</style>\n",
              "<table border=\"1\" class=\"dataframe\">\n",
              "  <thead>\n",
              "    <tr style=\"text-align: right;\">\n",
              "      <th></th>\n",
              "      <th>predicted</th>\n",
              "    </tr>\n",
              "  </thead>\n",
              "  <tbody>\n",
              "    <tr>\n",
              "      <th>13638</th>\n",
              "      <td>0.27</td>\n",
              "    </tr>\n",
              "    <tr>\n",
              "      <th>13639</th>\n",
              "      <td>0.06</td>\n",
              "    </tr>\n",
              "    <tr>\n",
              "      <th>13640</th>\n",
              "      <td>0.06</td>\n",
              "    </tr>\n",
              "    <tr>\n",
              "      <th>13641</th>\n",
              "      <td>0.06</td>\n",
              "    </tr>\n",
              "    <tr>\n",
              "      <th>13642</th>\n",
              "      <td>0.77</td>\n",
              "    </tr>\n",
              "  </tbody>\n",
              "</table>\n",
              "</div>"
            ],
            "text/plain": [
              "       predicted\n",
              "13638       0.27\n",
              "13639       0.06\n",
              "13640       0.06\n",
              "13641       0.06\n",
              "13642       0.77"
            ]
          },
          "metadata": {
            "tags": []
          },
          "execution_count": 37
        }
      ]
    },
    {
      "cell_type": "code",
      "metadata": {
        "id": "4ialCLjy7GIJ",
        "colab_type": "code",
        "outputId": "9291094b-d968-4801-e503-056c18467703",
        "colab": {
          "base_uri": "https://localhost:8080/",
          "height": 224
        }
      },
      "source": [
        "df_test = pd.concat([df_test, y_predicted], axis = 1)\n",
        "df_test.head()"
      ],
      "execution_count": 39,
      "outputs": [
        {
          "output_type": "execute_result",
          "data": {
            "text/html": [
              "<div>\n",
              "<style scoped>\n",
              "    .dataframe tbody tr th:only-of-type {\n",
              "        vertical-align: middle;\n",
              "    }\n",
              "\n",
              "    .dataframe tbody tr th {\n",
              "        vertical-align: top;\n",
              "    }\n",
              "\n",
              "    .dataframe thead th {\n",
              "        text-align: right;\n",
              "    }\n",
              "</style>\n",
              "<table border=\"1\" class=\"dataframe\">\n",
              "  <thead>\n",
              "    <tr style=\"text-align: right;\">\n",
              "      <th></th>\n",
              "      <th>user_id</th>\n",
              "      <th>total_search_times</th>\n",
              "      <th>unique_days</th>\n",
              "      <th>EmailOpen_times</th>\n",
              "      <th>WebVisit_times</th>\n",
              "      <th>PageView_times</th>\n",
              "      <th>EmailClick_times</th>\n",
              "      <th>FormSubmit_times</th>\n",
              "      <th>First_EmailOpen</th>\n",
              "      <th>First_ForSubmit</th>\n",
              "      <th>First_EmailClickhrough</th>\n",
              "      <th>First_PageView</th>\n",
              "      <th>First_WebVisit</th>\n",
              "      <th>Last_EmailOpen</th>\n",
              "      <th>Last_ForSubmit</th>\n",
              "      <th>Last_EmailClickhrough</th>\n",
              "      <th>Last_PageView</th>\n",
              "      <th>Last_WebVisit</th>\n",
              "      <th>predicted</th>\n",
              "    </tr>\n",
              "  </thead>\n",
              "  <tbody>\n",
              "    <tr>\n",
              "      <th>0</th>\n",
              "      <td>0000ecf58c94668</td>\n",
              "      <td>-0.114198</td>\n",
              "      <td>0.052713</td>\n",
              "      <td>0.112233</td>\n",
              "      <td>-0.238538</td>\n",
              "      <td>-0.237251</td>\n",
              "      <td>-0.259552</td>\n",
              "      <td>-0.22221</td>\n",
              "      <td>0.237593</td>\n",
              "      <td>0.0</td>\n",
              "      <td>0.0</td>\n",
              "      <td>-0.379435</td>\n",
              "      <td>-0.388109</td>\n",
              "      <td>0.242545</td>\n",
              "      <td>0.0</td>\n",
              "      <td>0.0</td>\n",
              "      <td>-0.372706</td>\n",
              "      <td>-0.380572</td>\n",
              "      <td>0.40</td>\n",
              "    </tr>\n",
              "    <tr>\n",
              "      <th>1</th>\n",
              "      <td>000132f21724ee2</td>\n",
              "      <td>-0.357927</td>\n",
              "      <td>-0.567120</td>\n",
              "      <td>-0.574250</td>\n",
              "      <td>-0.238538</td>\n",
              "      <td>-0.237251</td>\n",
              "      <td>0.466226</td>\n",
              "      <td>-0.22221</td>\n",
              "      <td>0.237593</td>\n",
              "      <td>0.0</td>\n",
              "      <td>0.0</td>\n",
              "      <td>-0.379435</td>\n",
              "      <td>-0.388109</td>\n",
              "      <td>0.242545</td>\n",
              "      <td>0.0</td>\n",
              "      <td>0.0</td>\n",
              "      <td>-0.372706</td>\n",
              "      <td>-0.380572</td>\n",
              "      <td>0.00</td>\n",
              "    </tr>\n",
              "    <tr>\n",
              "      <th>2</th>\n",
              "      <td>0001b315b991cf0</td>\n",
              "      <td>-0.276684</td>\n",
              "      <td>-0.257204</td>\n",
              "      <td>-0.231008</td>\n",
              "      <td>-0.238538</td>\n",
              "      <td>-0.237251</td>\n",
              "      <td>-0.259552</td>\n",
              "      <td>-0.22221</td>\n",
              "      <td>0.237593</td>\n",
              "      <td>0.0</td>\n",
              "      <td>0.0</td>\n",
              "      <td>-0.379435</td>\n",
              "      <td>-0.388109</td>\n",
              "      <td>0.242545</td>\n",
              "      <td>0.0</td>\n",
              "      <td>0.0</td>\n",
              "      <td>-0.372706</td>\n",
              "      <td>-0.380572</td>\n",
              "      <td>0.00</td>\n",
              "    </tr>\n",
              "    <tr>\n",
              "      <th>3</th>\n",
              "      <td>000269150971d08</td>\n",
              "      <td>-0.195441</td>\n",
              "      <td>-0.102245</td>\n",
              "      <td>-0.059387</td>\n",
              "      <td>-0.238538</td>\n",
              "      <td>-0.237251</td>\n",
              "      <td>-0.259552</td>\n",
              "      <td>-0.22221</td>\n",
              "      <td>0.237593</td>\n",
              "      <td>0.0</td>\n",
              "      <td>0.0</td>\n",
              "      <td>-0.379435</td>\n",
              "      <td>-0.388109</td>\n",
              "      <td>0.242545</td>\n",
              "      <td>0.0</td>\n",
              "      <td>0.0</td>\n",
              "      <td>-0.372706</td>\n",
              "      <td>-0.380572</td>\n",
              "      <td>0.18</td>\n",
              "    </tr>\n",
              "    <tr>\n",
              "      <th>4</th>\n",
              "      <td>000297ba4fa5026</td>\n",
              "      <td>-0.276684</td>\n",
              "      <td>-0.257204</td>\n",
              "      <td>-0.231008</td>\n",
              "      <td>-0.238538</td>\n",
              "      <td>-0.237251</td>\n",
              "      <td>-0.259552</td>\n",
              "      <td>-0.22221</td>\n",
              "      <td>0.237593</td>\n",
              "      <td>0.0</td>\n",
              "      <td>0.0</td>\n",
              "      <td>-0.379435</td>\n",
              "      <td>-0.388109</td>\n",
              "      <td>0.242545</td>\n",
              "      <td>0.0</td>\n",
              "      <td>0.0</td>\n",
              "      <td>-0.372706</td>\n",
              "      <td>-0.380572</td>\n",
              "      <td>0.00</td>\n",
              "    </tr>\n",
              "  </tbody>\n",
              "</table>\n",
              "</div>"
            ],
            "text/plain": [
              "           user_id  total_search_times  ...  Last_WebVisit  predicted\n",
              "0  0000ecf58c94668           -0.114198  ...      -0.380572       0.40\n",
              "1  000132f21724ee2           -0.357927  ...      -0.380572       0.00\n",
              "2  0001b315b991cf0           -0.276684  ...      -0.380572       0.00\n",
              "3  000269150971d08           -0.195441  ...      -0.380572       0.18\n",
              "4  000297ba4fa5026           -0.276684  ...      -0.380572       0.00\n",
              "\n",
              "[5 rows x 19 columns]"
            ]
          },
          "metadata": {
            "tags": []
          },
          "execution_count": 39
        }
      ]
    },
    {
      "cell_type": "code",
      "metadata": {
        "id": "7jEMlyoG7age",
        "colab_type": "code",
        "colab": {}
      },
      "source": [
        "df_test = df_test.sort_values(by='predicted', ascending=False)"
      ],
      "execution_count": 0,
      "outputs": []
    },
    {
      "cell_type": "code",
      "metadata": {
        "id": "dh6xCzh6OX49",
        "colab_type": "code",
        "outputId": "427c30d0-bc76-4192-d111-ee275b87791b",
        "colab": {
          "base_uri": "https://localhost:8080/",
          "height": 359
        }
      },
      "source": [
        "top_1000_potential_users = df_test[[\"user_id\", \"predicted\"]].head(10)\n",
        "top_1000_potential_users"
      ],
      "execution_count": 42,
      "outputs": [
        {
          "output_type": "execute_result",
          "data": {
            "text/html": [
              "<div>\n",
              "<style scoped>\n",
              "    .dataframe tbody tr th:only-of-type {\n",
              "        vertical-align: middle;\n",
              "    }\n",
              "\n",
              "    .dataframe tbody tr th {\n",
              "        vertical-align: top;\n",
              "    }\n",
              "\n",
              "    .dataframe thead th {\n",
              "        text-align: right;\n",
              "    }\n",
              "</style>\n",
              "<table border=\"1\" class=\"dataframe\">\n",
              "  <thead>\n",
              "    <tr style=\"text-align: right;\">\n",
              "      <th></th>\n",
              "      <th>user_id</th>\n",
              "      <th>predicted</th>\n",
              "    </tr>\n",
              "  </thead>\n",
              "  <tbody>\n",
              "    <tr>\n",
              "      <th>2935</th>\n",
              "      <td>049ee528b018f28</td>\n",
              "      <td>1.00</td>\n",
              "    </tr>\n",
              "    <tr>\n",
              "      <th>10235</th>\n",
              "      <td>10205dd0c759b28</td>\n",
              "      <td>1.00</td>\n",
              "    </tr>\n",
              "    <tr>\n",
              "      <th>7934</th>\n",
              "      <td>0c8076de3d29427</td>\n",
              "      <td>0.99</td>\n",
              "    </tr>\n",
              "    <tr>\n",
              "      <th>13217</th>\n",
              "      <td>15073749cb087bf</td>\n",
              "      <td>0.99</td>\n",
              "    </tr>\n",
              "    <tr>\n",
              "      <th>8475</th>\n",
              "      <td>0d616bfb2f9660c</td>\n",
              "      <td>0.99</td>\n",
              "    </tr>\n",
              "    <tr>\n",
              "      <th>11503</th>\n",
              "      <td>1234c44f4154e41</td>\n",
              "      <td>0.99</td>\n",
              "    </tr>\n",
              "    <tr>\n",
              "      <th>11337</th>\n",
              "      <td>11f5977c523731c</td>\n",
              "      <td>0.99</td>\n",
              "    </tr>\n",
              "    <tr>\n",
              "      <th>8638</th>\n",
              "      <td>0da5f7675d623ff</td>\n",
              "      <td>0.98</td>\n",
              "    </tr>\n",
              "    <tr>\n",
              "      <th>6702</th>\n",
              "      <td>0a814e3e0b85608</td>\n",
              "      <td>0.98</td>\n",
              "    </tr>\n",
              "    <tr>\n",
              "      <th>6097</th>\n",
              "      <td>098804b2b3841ba</td>\n",
              "      <td>0.98</td>\n",
              "    </tr>\n",
              "  </tbody>\n",
              "</table>\n",
              "</div>"
            ],
            "text/plain": [
              "               user_id  predicted\n",
              "2935   049ee528b018f28       1.00\n",
              "10235  10205dd0c759b28       1.00\n",
              "7934   0c8076de3d29427       0.99\n",
              "13217  15073749cb087bf       0.99\n",
              "8475   0d616bfb2f9660c       0.99\n",
              "11503  1234c44f4154e41       0.99\n",
              "11337  11f5977c523731c       0.99\n",
              "8638   0da5f7675d623ff       0.98\n",
              "6702   0a814e3e0b85608       0.98\n",
              "6097   098804b2b3841ba       0.98"
            ]
          },
          "metadata": {
            "tags": []
          },
          "execution_count": 42
        }
      ]
    },
    {
      "cell_type": "markdown",
      "metadata": {
        "id": "KlixUPNYOwD3",
        "colab_type": "text"
      },
      "source": [
        "### Save the top 1000 potential users and submit the result"
      ]
    },
    {
      "cell_type": "code",
      "metadata": {
        "id": "Z1_oM5MiOb9L",
        "colab_type": "code",
        "colab": {}
      },
      "source": [
        "top_1000_potential_users.to_csv('Top_1000_potential_users.csv')"
      ],
      "execution_count": 0,
      "outputs": []
    }
  ]
}